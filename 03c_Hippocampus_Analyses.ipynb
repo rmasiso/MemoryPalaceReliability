{
 "cells": [
  {
   "cell_type": "code",
   "execution_count": 78,
   "metadata": {},
   "outputs": [],
   "source": []
  },
  {
   "cell_type": "code",
   "execution_count": 2,
   "metadata": {},
   "outputs": [],
   "source": [
    "from tqdm import tqdm_notebook\n",
    "import numpy as np\n",
    "import deepdish as dd\n",
    "import os\n",
    "import h5py\n",
    "import pandas as pd\n",
    "from scipy import stats\n",
    "import matplotlib.pyplot as plt\n",
    "# from _classification_util import *\n",
    "from _mempal_util import nSubj, nItems, create_dirs, save_obj, RoomObjectIdxToNames\n",
    "# from _searchlight_util import *\n",
    "from mpl_toolkits.axes_grid1 import make_axes_locatable # for colorbar sizing\n"
   ]
  },
  {
   "cell_type": "markdown",
   "metadata": {},
   "source": [
    "# Room Reliability"
   ]
  },
  {
   "cell_type": "code",
   "execution_count": null,
   "metadata": {},
   "outputs": [],
   "source": []
  },
  {
   "cell_type": "code",
   "execution_count": 3,
   "metadata": {},
   "outputs": [],
   "source": [
    "def ExtractRoom2RoomResults(roi,roi_ids,hems=['L','R'], measures=['reliability'], reliability_dir = '../PythonData2024/Output/room2room'):\n",
    "    \n",
    "#     nPerm =1000\n",
    "    \n",
    "    # measures = 'reliability' # 'distinctiveness' , 'stability'\n",
    "#     reliability_dir = '../PythonData2024/Output/room2room' #should be RoomReliability    \n",
    "    vals = {}\n",
    "   \n",
    "    ## grab one of these: (dict_keys(['corrmat', 'distinctiveness', 'reliability', 'reliability_loo_isc', 'room2room', 'stability']))\n",
    "    for measure in measures:\n",
    "        vals[measure] = {}\n",
    "        \n",
    "        for hem in hems:\n",
    "            vals[measure][hem] = {}\n",
    "\n",
    "            if measure == 'corrmat':\n",
    "                vals[measure][hem] = np.full((len(roi_ids),nItems,nItems,nSubj), fill_value=np.nan)\n",
    "                \n",
    "            if measure == 'reliability' or measure =='distinctiveness' or measure == 'stability':\n",
    "                vals[measure][hem] = np.full((len(roi_ids),nItems,nSubj,nPerm+1), fill_value=np.nan)\n",
    "                \n",
    "            if measure == 'diffs': #it's the same as \"reliablity\", but with \"items/rooms\" already averaged\n",
    "                vals[measure][hem] = np.full((len(roi_ids),nSubj), fill_value=np.nan)\n",
    "\n",
    "            for i,roi_id in enumerate(tqdm_notebook(roi_ids)):\n",
    "                fname = '{}_{}{:03d}_{}_RoomReliability.h5'.format(date,roi,roi_id,hem)\n",
    "\n",
    "                if measure == 'diffs':\n",
    "                    vals[measure][hem][i,:] = dd.io.load(os.path.join(reliability_dir,fname),group='/{}/{}'.format('room2room',measure))\n",
    "\n",
    "                else:\n",
    "                    vals[measure][hem][i] = dd.io.load(os.path.join(reliability_dir,fname),group='/{}'.format(measure))\n",
    "\n",
    "                \n",
    "    return vals\n",
    "                \n",
    "    "
   ]
  },
  {
   "cell_type": "code",
   "execution_count": 4,
   "metadata": {},
   "outputs": [
    {
     "name": "stderr",
     "output_type": "stream",
     "text": [
      "/jukebox/pkgs/PYGER/base/envs/0.11.0/lib/python3.7/site-packages/ipykernel_launcher.py:25: TqdmDeprecationWarning: This function will be removed in tqdm==5.0.0\n",
      "Please use `tqdm.notebook.tqdm` instead of `tqdm.tqdm_notebook`\n"
     ]
    },
    {
     "data": {
      "application/vnd.jupyter.widget-view+json": {
       "model_id": "986727b16f4647baa89f1199f0e1a1fc",
       "version_major": 2,
       "version_minor": 0
      },
      "text/plain": [
       "  0%|          | 0/1 [00:00<?, ?it/s]"
      ]
     },
     "metadata": {},
     "output_type": "display_data"
    },
    {
     "data": {
      "application/vnd.jupyter.widget-view+json": {
       "model_id": "12e16f77c2f4494dbc7cae31d407f19a",
       "version_major": 2,
       "version_minor": 0
      },
      "text/plain": [
       "  0%|          | 0/1 [00:00<?, ?it/s]"
      ]
     },
     "metadata": {},
     "output_type": "display_data"
    },
    {
     "data": {
      "application/vnd.jupyter.widget-view+json": {
       "model_id": "624725edce9e464e850cc08421386d57",
       "version_major": 2,
       "version_minor": 0
      },
      "text/plain": [
       "  0%|          | 0/1 [00:00<?, ?it/s]"
      ]
     },
     "metadata": {},
     "output_type": "display_data"
    },
    {
     "data": {
      "application/vnd.jupyter.widget-view+json": {
       "model_id": "b49b073f2cc64233b78f1e2edeea1f2c",
       "version_major": 2,
       "version_minor": 0
      },
      "text/plain": [
       "  0%|          | 0/1 [00:00<?, ?it/s]"
      ]
     },
     "metadata": {},
     "output_type": "display_data"
    },
    {
     "data": {
      "application/vnd.jupyter.widget-view+json": {
       "model_id": "0201aaae3059411fb11e74e8ed962c47",
       "version_major": 2,
       "version_minor": 0
      },
      "text/plain": [
       "  0%|          | 0/1 [00:00<?, ?it/s]"
      ]
     },
     "metadata": {},
     "output_type": "display_data"
    },
    {
     "data": {
      "application/vnd.jupyter.widget-view+json": {
       "model_id": "ed7609c560b04d84ab854769820b0249",
       "version_major": 2,
       "version_minor": 0
      },
      "text/plain": [
       "  0%|          | 0/1 [00:00<?, ?it/s]"
      ]
     },
     "metadata": {},
     "output_type": "display_data"
    },
    {
     "data": {
      "application/vnd.jupyter.widget-view+json": {
       "model_id": "100d4e3c62524c0891f0b20a3edb7825",
       "version_major": 2,
       "version_minor": 0
      },
      "text/plain": [
       "  0%|          | 0/1 [00:00<?, ?it/s]"
      ]
     },
     "metadata": {},
     "output_type": "display_data"
    },
    {
     "data": {
      "application/vnd.jupyter.widget-view+json": {
       "model_id": "38b548cc026c497893b279ee23a86533",
       "version_major": 2,
       "version_minor": 0
      },
      "text/plain": [
       "  0%|          | 0/1 [00:00<?, ?it/s]"
      ]
     },
     "metadata": {},
     "output_type": "display_data"
    },
    {
     "data": {
      "application/vnd.jupyter.widget-view+json": {
       "model_id": "f4f518620da94587b8ca55892dffecf5",
       "version_major": 2,
       "version_minor": 0
      },
      "text/plain": [
       "  0%|          | 0/1 [00:00<?, ?it/s]"
      ]
     },
     "metadata": {},
     "output_type": "display_data"
    },
    {
     "data": {
      "application/vnd.jupyter.widget-view+json": {
       "model_id": "9a72764ae98644f89ac6a28446307780",
       "version_major": 2,
       "version_minor": 0
      },
      "text/plain": [
       "  0%|          | 0/1 [00:00<?, ?it/s]"
      ]
     },
     "metadata": {},
     "output_type": "display_data"
    },
    {
     "data": {
      "application/vnd.jupyter.widget-view+json": {
       "model_id": "6a652d988d704dc4a9807521b22c2d80",
       "version_major": 2,
       "version_minor": 0
      },
      "text/plain": [
       "  0%|          | 0/1 [00:00<?, ?it/s]"
      ]
     },
     "metadata": {},
     "output_type": "display_data"
    },
    {
     "data": {
      "application/vnd.jupyter.widget-view+json": {
       "model_id": "5ab938c0582f49658a023b6b0034f518",
       "version_major": 2,
       "version_minor": 0
      },
      "text/plain": [
       "  0%|          | 0/1 [00:00<?, ?it/s]"
      ]
     },
     "metadata": {},
     "output_type": "display_data"
    }
   ],
   "source": [
    "rois = ['hippo','ahippo','phippo']\n",
    "roi_ids = [9999]\n",
    "nPerm = 1000\n",
    "date = 20240108\n",
    "reliability_dir = '../PythonData2024/Output/room2room'\n",
    "\n",
    "hems = ['None']\n",
    "\n",
    "scores = {}\n",
    "for roi in rois:\n",
    "    scores[roi] = ExtractRoom2RoomResults(roi,roi_ids,hems=hems, \n",
    "                                          measures=['reliability','distinctiveness','corrmat', 'diffs'],\n",
    "                                         reliability_dir = reliability_dir)\n",
    "    "
   ]
  },
  {
   "cell_type": "code",
   "execution_count": 5,
   "metadata": {},
   "outputs": [
    {
     "data": {
      "image/png": "[encoded data removed]",
      "text/plain": [
       "<Figure size 1440x1440 with 6 Axes>"
      ]
     },
     "metadata": {
      "needs_background": "light"
     },
     "output_type": "display_data"
    }
   ],
   "source": [
    "room_names = [RoomObjectIdxToNames[i] for i in range(1,24)]\n",
    "\n",
    "fig,ax = plt.subplots(1,3, figsize=(20,20))\n",
    "# fig.subplots_adjust(left=None, bottom=None, right=None, top=None, wspace=5, hspace=None)\n",
    "fig.subplots_adjust(wspace=.3)\n",
    "\n",
    "for i,roi in enumerate(rois):\n",
    "    corrmat = scores[roi]['corrmat']['None'].squeeze()\n",
    "    \n",
    "    im = ax[i].imshow(corrmat.mean(2))\n",
    "    ax[i].set_title(\"{}\\nRoom2Room Correlation Matrix\\n (across subj)\".format(roi), fontsize=20)\n",
    "    ax[i].set_xticks(range(23))\n",
    "    ax[i].set_yticks(range(23))\n",
    "    ax[i].set_xticklabels(room_names, rotation=90)\n",
    "    ax[i].set_yticklabels(room_names)\n",
    "    \n",
    "    # right side color bar | 5% of ax | padding between cax and ax fixed at 0.05 inch   \n",
    "    divider = make_axes_locatable(ax[i])\n",
    "    cax = divider.append_axes(\"right\", size=\"5%\", pad=0.05)\n",
    "    fig.colorbar(im, cax=cax)\n",
    "\n",
    "\n"
   ]
  },
  {
   "cell_type": "markdown",
   "metadata": {},
   "source": [
    "# reliability"
   ]
  },
  {
   "cell_type": "code",
   "execution_count": 6,
   "metadata": {
    "scrolled": false
   },
   "outputs": [
    {
     "name": "stdout",
     "output_type": "stream",
     "text": [
      "(23, 25, 1001)\n",
      "0.005557797371281526 0.005557797371281526\n",
      "(23, 25, 1001)\n",
      "0.004548730816269788 0.004548730816269788\n",
      "(23, 25, 1001)\n",
      "0.006390309518688251 0.00639030951868825\n"
     ]
    },
    {
     "data": {
      "image/png": "[encoded data removed]",
      "text/plain": [
       "<Figure size 1440x360 with 3 Axes>"
      ]
     },
     "metadata": {
      "needs_background": "light"
     },
     "output_type": "display_data"
    }
   ],
   "source": [
    "fig,ax = plt.subplots(1,3, figsize=(20,5))\n",
    "# fig.subplots_adjust(left=None, bottom=None, right=None, top=None, wspace=5, hspace=None)\n",
    "fig.subplots_adjust(wspace=.3)\n",
    "\n",
    "for i,roi in enumerate(rois):\n",
    "    rel = scores[roi]['reliability']['None'].squeeze()\n",
    "    print(rel.shape)\n",
    "    rel = rel.mean(0)[:,0] #grab subjects and average room reliabilities\n",
    "    print(rel.mean(),scores[roi]['diffs']['None'].mean())\n",
    "    \n",
    "    t,p = stats.ttest_1samp(rel,0)\n",
    "\n",
    "    ax[i].plot(rel)\n",
    "    ax[i].set_xlabel(\"subjects\", fontsize=15)\n",
    "    ax[i].set_title(\"{} - reliability (r2r) by subj \\n mean: {:.3f} | t: {:.3f} | p: {:.3f}\".format(roi,\n",
    "                                                                                                    scores[roi]['diffs']['None'].mean(),\n",
    "                                                                                                    t,\n",
    "                                                                                                    p), fontsize=20)\n",
    "    ax[i].set_ylabel('differences (reliability)',fontsize=15);\n",
    "    ax[i].hlines(0,0,25,linestyle='--')\n",
    "    \n",
    "    \n",
    "\n",
    "    "
   ]
  },
  {
   "cell_type": "code",
   "execution_count": null,
   "metadata": {},
   "outputs": [],
   "source": []
  },
  {
   "cell_type": "markdown",
   "metadata": {},
   "source": [
    "## Reliability Permutation test"
   ]
  },
  {
   "cell_type": "code",
   "execution_count": 10,
   "metadata": {},
   "outputs": [
    {
     "data": {
      "text/plain": [
       "['hippo', 'ahippo', 'phippo']"
      ]
     },
     "execution_count": 10,
     "metadata": {},
     "output_type": "execute_result"
    }
   ],
   "source": [
    "rois"
   ]
  },
  {
   "cell_type": "code",
   "execution_count": 12,
   "metadata": {},
   "outputs": [
    {
     "name": "stdout",
     "output_type": "stream",
     "text": [
      "1.812872609715721 0.034925735834710134\n",
      "-1.8128726097157206 0.9650742641652899\n",
      "1.1713787762873327 0.12072327969651436\n",
      "-1.1713787762873324 0.8792767203034856\n",
      "2.166972355283107 0.015118481049163033\n",
      "-2.166972355283107 0.984881518950837\n"
     ]
    },
    {
     "data": {
      "image/png": "[encoded data removed]",
      "text/plain": [
       "<Figure size 720x720 with 6 Axes>"
      ]
     },
     "metadata": {
      "needs_background": "light"
     },
     "output_type": "display_data"
    }
   ],
   "source": [
    "fig,ax = plt.subplots(2,3, figsize=(10,10))\n",
    "for i,roi in enumerate(rois):\n",
    "    for j,measure_key in enumerate(['reliability','distinctiveness']):\n",
    "\n",
    "        true_mean = scores[roi][measure_key]['None'].squeeze().mean(0).mean(0)[0]\n",
    "        null =  scores[roi][measure_key]['None'].squeeze().mean(0).mean(0)[1:]\n",
    "        null_mean = null.mean()\n",
    "        null_std = null.std()\n",
    "        \n",
    "        z = (true_mean - null_mean) / null_std\n",
    "        p = stats.norm.sf(z)\n",
    "        \n",
    "        print(z,p)\n",
    "\n",
    "        ax[j,i].scatter(1, true_mean)\n",
    "        ax[j,i].violinplot(null, showextrema=False)\n",
    "        ax[j,i].set_title(\"{}\\n{}\".format(roi,measure_key),fontsize=20)\n",
    "        ax[j,i].set_ylabel(measure_key)\n",
    "        \n",
    "#         ax[j,i].annotate(\"z:{:.3f}|p:{:.3f}\".format(z,p), (1-.2, (true_mean+(true_mean*.5))))\n",
    "        ax[j,i].annotate(\"z:{:.3f}|p:{:.3f}\".format(z,p), (1-.2, (true_mean+(true_mean*.3))))\n",
    "\n",
    "        \n",
    "        if measure_key == 'distinctiveness':\n",
    "            ax[j,i].set_ylim([null.min()+null.min()*.5,null.max()+null.max()*.5])\n",
    "        \n",
    "plt.tight_layout()\n",
    "\n"
   ]
  },
  {
   "cell_type": "markdown",
   "metadata": {},
   "source": [
    "# does hippo room reliability correlate with ROCN obj reinstatement?\n"
   ]
  },
  {
   "cell_type": "code",
   "execution_count": 120,
   "metadata": {},
   "outputs": [
    {
     "data": {
      "text/plain": [
       "['hippo', 'ahippo', 'phippo']"
      ]
     },
     "execution_count": 120,
     "metadata": {},
     "output_type": "execute_result"
    }
   ],
   "source": [
    "rois"
   ]
  },
  {
   "cell_type": "code",
   "execution_count": 6,
   "metadata": {},
   "outputs": [
    {
     "name": "stderr",
     "output_type": "stream",
     "text": [
      "/jukebox/pkgs/PYGER/base/envs/0.11.0/lib/python3.7/site-packages/ipykernel_launcher.py:39: TqdmDeprecationWarning: This function will be removed in tqdm==5.0.0\n",
      "Please use `tqdm.notebook.tqdm` instead of `tqdm.tqdm_notebook`\n"
     ]
    },
    {
     "data": {
      "application/vnd.jupyter.widget-view+json": {
       "model_id": "d261e754ac6e4920bfd14c2145aec924",
       "version_major": 2,
       "version_minor": 0
      },
      "text/plain": [
       "0it [00:00, ?it/s]"
      ]
     },
     "metadata": {},
     "output_type": "display_data"
    },
    {
     "data": {
      "application/vnd.jupyter.widget-view+json": {
       "model_id": "c78214a252d44127b88a515b988309f8",
       "version_major": 2,
       "version_minor": 0
      },
      "text/plain": [
       "0it [00:00, ?it/s]"
      ]
     },
     "metadata": {},
     "output_type": "display_data"
    },
    {
     "data": {
      "application/vnd.jupyter.widget-view+json": {
       "model_id": "8e8f6f0bf41f458fbba62d8ded7d633c",
       "version_major": 2,
       "version_minor": 0
      },
      "text/plain": [
       "0it [00:00, ?it/s]"
      ]
     },
     "metadata": {},
     "output_type": "display_data"
    },
    {
     "name": "stdout",
     "output_type": "stream",
     "text": [
      "hippo\n",
      "-0.5660915832525516 0.7143342376865981\n",
      "ahippo\n",
      "-0.3120731031946885 0.6225075164940002\n",
      "phippo\n",
      "-0.6899164109406942 0.7548766225213233\n"
     ]
    },
    {
     "data": {
      "image/png": "[encoded data removed]",
      "text/plain": [
       "<Figure size 1080x360 with 3 Axes>"
      ]
     },
     "metadata": {
      "needs_background": "light"
     },
     "output_type": "display_data"
    }
   ],
   "source": [
    "###\n",
    "### LOAD NETWORK EVIDENCE from RECALL (this is going to be the same for all searchlights)\n",
    "###\n",
    "from _mempal_util import load_obj, subject_ids\n",
    "\n",
    "network = 'ROCN' # <--------- CHANGE THIS to see results for others\n",
    "trial_type = 'GR' # <--------- CHANGE THIS to see results for others\n",
    "measure_key = 'reliability'\n",
    "shift = 4\n",
    "top_thresh = 50\n",
    "nPerm =1000\n",
    "\n",
    "# RIP_date             = 20240108 # recalled item evidence (RIP: recalled item probability)\n",
    "RIP_date             = 20240401 # second permutation fix / recalled item evidence (RIP: recalled item probability)\n",
    "\n",
    "network_evidence_dir = \"../PythonData2024/Output/RecallEvidence\"\n",
    "\n",
    "fname                = '{}_NetworksRecallEvidence_shift{}_top{}.pkl'.format(RIP_date,shift,top_thresh)\n",
    "\n",
    "network_evidence = load_obj(os.path.join(network_evidence_dir,fname))\n",
    "item_evidence    = network_evidence[network][trial_type] #ROCN or POCN evidence for GR or FR \n",
    "\n",
    "################################################################\n",
    "################################################################\n",
    "\n",
    "#####\n",
    "##### Reliability ~ Object Evidence (ROCN or POCN)\n",
    "#####\n",
    "\n",
    "# Run the correlation between room reliability and item evidence within recall networks\n",
    "\n",
    "anas = {} # 'anas' == 'analyses'\n",
    "\n",
    "for hi, hipporoi in enumerate(rois):\n",
    "    anas[hipporoi] = {}\n",
    "    subj_analysis  = 'subj_{}~evidence'.format(measure_key)  # reliability ~ evidence || stability ~ evidence, etc\n",
    "    anas[hipporoi][ subj_analysis ]  = np.zeros((nSubj,nPerm+1))\n",
    "\n",
    "    for si,subj in tqdm_notebook(enumerate(subject_ids)):\n",
    "\n",
    "        ## get the reliability\n",
    "        subj_reliability  = scores[hipporoi][measure_key]['None'].squeeze()[:,si,0] #room_reliability[:,si]\n",
    "\n",
    "        ## get the item evidence for this subj\n",
    "        subj_evidence = item_evidence[:,si] # 23 numbers\n",
    "\n",
    "        ## gather the nans\n",
    "        nonnans = ~np.isnan(subj_evidence)\n",
    "\n",
    "        # ** room reliabity ~ object evidence ** \n",
    "        anas[hipporoi][ subj_analysis ][si,0]  = stats.pearsonr(subj_reliability[nonnans],subj_evidence[nonnans])[0]\n",
    "\n",
    "        for p in range(nPerm):\n",
    "\n",
    "            sortidx = np.random.permutation(nItems)\n",
    "\n",
    "            subj_reliability_perm  = subj_reliability.copy()[sortidx]\n",
    "\n",
    "            anas[hipporoi][ subj_analysis ][si,p+1]  = stats.pearsonr(subj_reliability_perm[sortidx][nonnans],\n",
    "                                                                       subj_evidence[nonnans])[0]\n",
    "\n",
    "            \n",
    "#### PLOT PLOT PLOT\n",
    "fig,ax = plt.subplots(1,3, figsize=(15,5))\n",
    "for i,roi in enumerate(rois):\n",
    "    print(roi)\n",
    "    for j,measure_key in enumerate(['reliability']):\n",
    "    \n",
    "        true_mean = np.arctanh(anas[roi][subj_analysis]).mean(0)[0] #scores[roi][measure_key]['None'].squeeze().mean(0).mean(0)[0]\n",
    "        null =  np.arctanh(anas[roi][subj_analysis]).mean(0)[1:]\n",
    "        null_mean = null.mean()\n",
    "        null_std = null.std()\n",
    "        \n",
    "        z = (true_mean - null_mean) / null_std\n",
    "        p = stats.norm.sf(z)\n",
    "        \n",
    "        print(z,p)\n",
    "\n",
    "        ax[i].scatter(1, true_mean)\n",
    "        ax[i].violinplot(null, showextrema=False)\n",
    "        ax[i].set_title(\"{}\\n{}\".format(roi,subj_analysis),fontsize=20)\n",
    "        ax[i].set_ylabel(measure_key)\n",
    "        \n",
    "        ax[i].annotate(\"z:{:.3f}|p:{:.3f}\".format(z,p), (1-.2, (true_mean+(true_mean*.5))))\n",
    "        \n",
    "        if measure_key == 'distinctiveness':\n",
    "            ax[j,i].set_ylim([null.min()+null.min()*.5,null.max()+null.max()*.5])\n",
    "        \n",
    "plt.tight_layout()\n",
    "\n"
   ]
  },
  {
   "cell_type": "markdown",
   "metadata": {},
   "source": [
    "# does hippo room reliability correlate with any of the SLs room reliability?\n",
    "\n",
    "(perhaps SL room reliability is the mediator?)\n",
    "\n"
   ]
  },
  {
   "cell_type": "code",
   "execution_count": 114,
   "metadata": {},
   "outputs": [
    {
     "data": {
      "text/plain": [
       "dict_keys([])"
      ]
     },
     "execution_count": 114,
     "metadata": {},
     "output_type": "execute_result"
    }
   ],
   "source": [
    "scores.keys()"
   ]
  },
  {
   "cell_type": "code",
   "execution_count": 17,
   "metadata": {},
   "outputs": [
    {
     "name": "stderr",
     "output_type": "stream",
     "text": [
      "/jukebox/pkgs/PYGER/base/envs/0.11.0/lib/python3.7/site-packages/ipykernel_launcher.py:17: TqdmDeprecationWarning: This function will be removed in tqdm==5.0.0\n",
      "Please use `tqdm.notebook.tqdm` instead of `tqdm.tqdm_notebook`\n"
     ]
    },
    {
     "data": {
      "application/vnd.jupyter.widget-view+json": {
       "model_id": "1d3cb83973464e8e825edd3d679b2ef1",
       "version_major": 2,
       "version_minor": 0
      },
      "text/plain": [
       "  0%|          | 0/1483 [00:00<?, ?it/s]"
      ]
     },
     "metadata": {},
     "output_type": "display_data"
    },
    {
     "data": {
      "application/vnd.jupyter.widget-view+json": {
       "model_id": "486771b6fcbe4265bafb3b35ae7ddbd8",
       "version_major": 2,
       "version_minor": 0
      },
      "text/plain": [
       "  0%|          | 0/1483 [00:00<?, ?it/s]"
      ]
     },
     "metadata": {},
     "output_type": "display_data"
    },
    {
     "data": {
      "application/vnd.jupyter.widget-view+json": {
       "model_id": "5c253e34d2354ac1b45965229f174bb6",
       "version_major": 2,
       "version_minor": 0
      },
      "text/plain": [
       "  0%|          | 0/1483 [00:00<?, ?it/s]"
      ]
     },
     "metadata": {},
     "output_type": "display_data"
    },
    {
     "data": {
      "application/vnd.jupyter.widget-view+json": {
       "model_id": "fb2efcb7f78740d09b46a3ac31705fe3",
       "version_major": 2,
       "version_minor": 0
      },
      "text/plain": [
       "  0%|          | 0/1483 [00:00<?, ?it/s]"
      ]
     },
     "metadata": {},
     "output_type": "display_data"
    },
    {
     "data": {
      "application/vnd.jupyter.widget-view+json": {
       "model_id": "dcc3e0d905b54f38baa9fa3d88559dd9",
       "version_major": 2,
       "version_minor": 0
      },
      "text/plain": [
       "  0%|          | 0/1483 [00:00<?, ?it/s]"
      ]
     },
     "metadata": {},
     "output_type": "display_data"
    },
    {
     "data": {
      "application/vnd.jupyter.widget-view+json": {
       "model_id": "fcc3fc67a6114cdc87f7b6377481aa43",
       "version_major": 2,
       "version_minor": 0
      },
      "text/plain": [
       "  0%|          | 0/1483 [00:00<?, ?it/s]"
      ]
     },
     "metadata": {},
     "output_type": "display_data"
    }
   ],
   "source": [
    "# measure_key = 'reliability' # 'distinctiveness' , 'stability'\n",
    "reliability_date = 20240108\n",
    "reliability_dir  = '../PythonData2024/Output/room2room' #room reliability\n",
    "\n",
    "measure_key = 'reliability'\n",
    "\n",
    "hipporois = ['hippo','phippo','ahippo']\n",
    "###\n",
    "\n",
    "r_corrs = {}\n",
    "for hi, hipporoi in enumerate(hipporois):\n",
    "    r_corrs[hipporoi] = {}\n",
    "    for hem in ['L','R']: #['L','R']:\n",
    "        r_corrs[hipporoi][hem] = np.zeros((1483))\n",
    "        for roi_id in tqdm_notebook(range(1483)):\n",
    "            \n",
    "            fname            = '{}_SL{:03d}_{}_RoomReliability.h5'.format(reliability_date,roi_id,hem)\n",
    "            sl_room_reliability = dd.io.load(os.path.join(reliability_dir,fname),group='/{}'.format(measure_key))[:,:,0] # (nItems,nSubj)\n",
    "            \n",
    "            hippo_room_reliability = scores[hipporoi]['reliability']['None'].squeeze()[:,:,0] # (23,25)\n",
    "            \n",
    "            \n",
    "            r_corrs[hipporoi][hem][roi_id] = stats.pearsonr(sl_room_reliability.mean(0), hippo_room_reliability.mean(0))[0]\n",
    "            \n",
    "        \n",
    "        \n",
    "        "
   ]
  },
  {
   "cell_type": "code",
   "execution_count": 10,
   "metadata": {},
   "outputs": [
    {
     "data": {
      "image/png": "[encoded data removed]",
      "text/plain": [
       "<Figure size 432x288 with 1 Axes>"
      ]
     },
     "metadata": {
      "needs_background": "light"
     },
     "output_type": "display_data"
    },
    {
     "data": {
      "image/png": "[encoded data removed]",
      "text/plain": [
       "<Figure size 432x288 with 1 Axes>"
      ]
     },
     "metadata": {
      "needs_background": "light"
     },
     "output_type": "display_data"
    },
    {
     "data": {
      "image/png": "[encoded data removed]",
      "text/plain": [
       "<Figure size 432x288 with 1 Axes>"
      ]
     },
     "metadata": {
      "needs_background": "light"
     },
     "output_type": "display_data"
    }
   ],
   "source": [
    "for hi, hipporoi in enumerate(hipporois):\n",
    "    plt.figure()\n",
    "    plt.title(tuple((hipporoi,hem)))\n",
    "    plt.plot(np.sort(r_corrs[hipporoi][hem]))\n",
    "    "
   ]
  },
  {
   "cell_type": "code",
   "execution_count": null,
   "metadata": {},
   "outputs": [],
   "source": []
  },
  {
   "cell_type": "code",
   "execution_count": 20,
   "metadata": {},
   "outputs": [
    {
     "name": "stdout",
     "output_type": "stream",
     "text": [
      "48 R\n",
      "59,72,89,140,202,221,226,235,236,281,338,339,407,419,472,491,608,609,638,662,665,666,683,763,818,853,856,865,891,958,959,1012,1035,1036,1037,1126,1131,1148,1150,1196,1236,1240,1291,1294,1343,1368,1369,1466,\n",
      "83 L\n",
      "24,26,36,50,98,107,141,144,145,181,209,216,221,241,244,266,269,272,291,303,307,336,394,426,491,518,522,574,577,579,580,581,586,648,655,656,657,676,677,678,711,724,763,764,806,812,813,855,861,902,903,915,917,918,926,927,943,995,1019,1057,1068,1092,1096,1144,1150,1153,1173,1215,1242,1243,1247,1263,1396,1397,1398,1402,1403,1404,1411,1412,1476,1477,1481,"
     ]
    }
   ],
   "source": [
    "best = np.where(r_corrs['phippo'][hem]>0.60)[0]\n",
    "print(len(best), hem)\n",
    "[print(i, end=',') for i in best];\n",
    "\n",
    "best = np.where(r_corrs['phippo']['L']>0.60)[0]\n",
    "print()\n",
    "print(len(best), 'L')\n",
    "[print(i, end=',') for i in best];"
   ]
  },
  {
   "cell_type": "code",
   "execution_count": 35,
   "metadata": {},
   "outputs": [],
   "source": [
    "# # for GRs\n",
    "# best_R = np.array([1416,  767,  850,  272,  986, 1469,  985, 1010,  984,  983,  849,\n",
    "#            206,  353,  208, 1052,  244, 1051,  209, 1238, 1237,  407,  976,\n",
    "#            621,  281, 1148,  253,  891,   63,  975,  987, 1240, 1012,  349,\n",
    "#           1410,  325, 1164,  939,  847, 1155,  910, 1332,  521, 1411,  132,\n",
    "#            147, 1419,  854, 1333, 1239,  755,  934,  104, 1124, 1094, 1167,\n",
    "#            583,    0,  799,   86,  857, 1452,  507, 1337,   17,  271,  429,\n",
    "#            638, 1217,  756,  292,   64, 1129,  695,  881, 1334,  592,  699,\n",
    "#           1147, 1304,  836,  258,  312,  584, 1127,  643,  290,  698,  181,\n",
    "#            916,  488, 1218, 1056, 1420,  556,  557, 1128,  354,  821,   53,\n",
    "#            862])\n",
    "\n",
    "# # FOR FRs\n",
    "# # best_R = np.array([ 866,  131,   35,  392, 1305,  972,   46,  971,  328,  673, 1306,\n",
    "# #            792,  234, 1400,  254, 1463,   17,  501, 1026,  220,  746,  444,\n",
    "# #           1170, 1307,   29,  754,   44,  873,  219, 1127,   19,   85,  206,\n",
    "# #            671,  120,  203, 1411,  347,   21,  391, 1002,  556,  117,  348,\n",
    "# #            204,  172,  575,  847,  744,  756,  962, 1080,  848, 1332,   13,\n",
    "# #             50, 1212,  890,  576,  199,  742, 1420,  124, 1410,  118,   52,\n",
    "# #           1185, 1184, 1123,  963,   60, 1183,  500,  271,  384,  476,  443,\n",
    "# #           1003,  705,  975, 1252,  987,  597, 1010,  799,  745, 1239,  755,\n",
    "# #            383,   59, 1341,  748,  707,  155,  145, 1396,  936, 1399,  791,\n",
    "# #           1211]) "
   ]
  },
  {
   "cell_type": "code",
   "execution_count": 88,
   "metadata": {},
   "outputs": [],
   "source": [
    "# intersection = set(best).intersection(set(best_R))"
   ]
  },
  {
   "cell_type": "code",
   "execution_count": 89,
   "metadata": {},
   "outputs": [
    {
     "data": {
      "text/plain": [
       "{281, 407, 638, 891, 1012, 1148, 1240}"
      ]
     },
     "execution_count": 89,
     "metadata": {},
     "output_type": "execute_result"
    }
   ],
   "source": [
    "# intersection"
   ]
  },
  {
   "cell_type": "code",
   "execution_count": 43,
   "metadata": {},
   "outputs": [
    {
     "data": {
      "text/plain": [
       "(25, 1001)"
      ]
     },
     "execution_count": 43,
     "metadata": {},
     "output_type": "execute_result"
    }
   ],
   "source": [
    "# anas[roi][subj_analysis].shape"
   ]
  },
  {
   "cell_type": "markdown",
   "metadata": {},
   "source": [
    "## does hippo reliability\\~evidence results correlate with SL reliability\\~evidence results?"
   ]
  },
  {
   "cell_type": "code",
   "execution_count": 147,
   "metadata": {},
   "outputs": [
    {
     "name": "stderr",
     "output_type": "stream",
     "text": [
      "/jukebox/pkgs/PYGER/base/envs/0.11.0/lib/python3.7/site-packages/ipykernel_launcher.py:80: TqdmDeprecationWarning: This function will be removed in tqdm==5.0.0\n",
      "Please use `tqdm.notebook.tqdm` instead of `tqdm.tqdm_notebook`\n"
     ]
    },
    {
     "data": {
      "application/vnd.jupyter.widget-view+json": {
       "model_id": "85f24eaf3ccd41b79e5295940b985cfa",
       "version_major": 2,
       "version_minor": 0
      },
      "text/plain": [
       "  0%|          | 0/1483 [00:00<?, ?it/s]"
      ]
     },
     "metadata": {},
     "output_type": "display_data"
    },
    {
     "data": {
      "application/vnd.jupyter.widget-view+json": {
       "model_id": "d6085bad2f22443ca5ec03c45e8f7f88",
       "version_major": 2,
       "version_minor": 0
      },
      "text/plain": [
       "  0%|          | 0/1483 [00:00<?, ?it/s]"
      ]
     },
     "metadata": {},
     "output_type": "display_data"
    }
   ],
   "source": [
    "# roi = 'SL'\n",
    "# hems=['L','R']\n",
    "# nPerm = 1000\n",
    "# nSubj =25\n",
    "# nRooms = 23\n",
    "# nItems=23\n",
    "# nTrials = 23\n",
    "\n",
    "# from _searchlight_util import SLlist\n",
    "\n",
    "# rois = []\n",
    "\n",
    "# measure_list = ['subj_{}~evidence'.format(measure_key)] #,'group_{}~evidence'.format(measure_key), 'm0_r2','m1_r2',]\n",
    "\n",
    "# date = 20240401 # second permutation test fix\n",
    "\n",
    "# SL_scores = {}\n",
    "# for network in ['ROCN']:#,'POCN']:\n",
    "#     SL_scores[network]  = {}\n",
    "#     for trial_type in ['GR','FR']:#,'FR']:\n",
    "#         SL_scores[network][trial_type] = {}\n",
    "#         for measure in measure_list:\n",
    "#             SL_scores[network][trial_type][measure] = {}\n",
    "            \n",
    "#             for hem in ['R']:#['L','R']:\n",
    "        \n",
    "#                 # if a correlation\n",
    "#                 if '~' in measure:\n",
    "#                     SL_scores[network][trial_type][measure][hem] = np.zeros((len(SLlist[hem]),nSubj, nPerm+1))\n",
    "\n",
    "#                 if 'm0' or 'm1' in item: # for coeffs and aic\n",
    "#                     SL_scores[network][trial_type][measure][hem] = np.zeros((len(SLlist[hem]), nSubj, nPerm+1))\n",
    "\n",
    "\n",
    "\n",
    "#                 for roi_id in tqdm_notebook(range(len(SLlist[hem]))[:]):\n",
    "#                     savedir = '../PythonData2024/Output/Reliability2Evidence'\n",
    "#                     filename = '{}_{}{:03d}_{}_{}2evidence_{}_{}'.format(date,roi,roi_id,hem,measure_key,network,trial_type) + '.h5'\n",
    "#                     fullpath = os.path.join(savedir, filename)\n",
    "\n",
    "#                     SL_scores[network][trial_type][measure][hem][roi_id] =  dd.io.load(fullpath,'/{}'.format(measure))\n",
    "\n",
    " \n",
    "\n"
   ]
  },
  {
   "cell_type": "code",
   "execution_count": 44,
   "metadata": {},
   "outputs": [
    {
     "data": {
      "text/plain": [
       "(23, 25, 1001)"
      ]
     },
     "execution_count": 44,
     "metadata": {},
     "output_type": "execute_result"
    }
   ],
   "source": [
    "# scores[roi][measure_key]['None'].squeeze().shape"
   ]
  },
  {
   "cell_type": "code",
   "execution_count": 95,
   "metadata": {},
   "outputs": [
    {
     "data": {
      "text/plain": [
       "(1483,)"
      ]
     },
     "execution_count": 95,
     "metadata": {},
     "output_type": "execute_result"
    }
   ],
   "source": [
    "# np.nanmean(scores['ROCN']['GR']['subj_reliability~evidence']['R'][:,:,0], 1).shape"
   ]
  },
  {
   "cell_type": "code",
   "execution_count": 170,
   "metadata": {},
   "outputs": [
    {
     "data": {
      "text/plain": [
       "73"
      ]
     },
     "execution_count": 170,
     "metadata": {},
     "output_type": "execute_result"
    }
   ],
   "source": [
    "# best_new = np.where(np.nanmean(SL_scores['ROCN']['GR']['subj_reliability~evidence']['R'][:,:,0], 1)<-0.07)[0]\n",
    "# len(best_new)"
   ]
  },
  {
   "cell_type": "code",
   "execution_count": 171,
   "metadata": {},
   "outputs": [
    {
     "data": {
      "text/plain": [
       "set()"
      ]
     },
     "execution_count": 171,
     "metadata": {},
     "output_type": "execute_result"
    }
   ],
   "source": [
    "# set(best).intersection(set(best_new))"
   ]
  },
  {
   "cell_type": "code",
   "execution_count": 172,
   "metadata": {},
   "outputs": [
    {
     "data": {
      "text/plain": [
       "(array([ 165,  224,  290,  911, 1154, 1390, 1457]),\n",
       " array([   9,   66,   81,  167,  182,  183,  214,  257,  302,  311,  313,\n",
       "         317,  355,  358,  360,  361,  376,  396,  457,  458,  473,  519,\n",
       "         560,  566,  612,  632,  647,  648,  669,  685,  703,  784,  805,\n",
       "         808,  809,  823,  873,  897,  917,  929,  942,  962,  963,  992,\n",
       "        1013, 1014, 1062, 1085, 1095, 1096, 1098, 1130, 1139, 1151, 1168,\n",
       "        1183, 1184, 1185, 1219, 1228, 1245, 1248, 1249, 1308, 1309, 1328,\n",
       "        1339, 1342, 1357, 1424, 1437, 1476, 1477]))"
      ]
     },
     "execution_count": 172,
     "metadata": {},
     "output_type": "execute_result"
    }
   ],
   "source": [
    "# best,best_new"
   ]
  },
  {
   "cell_type": "code",
   "execution_count": null,
   "metadata": {},
   "outputs": [],
   "source": []
  },
  {
   "cell_type": "code",
   "execution_count": null,
   "metadata": {},
   "outputs": [],
   "source": []
  },
  {
   "cell_type": "markdown",
   "metadata": {},
   "source": [
    "# does hippo make it into the ROCN or POCN teams?\n",
    "\n",
    "The answer: no. "
   ]
  },
  {
   "cell_type": "code",
   "execution_count": 11,
   "metadata": {},
   "outputs": [],
   "source": [
    "from _mempal_util import subject_ids, room_obj_assignments\n",
    "from _classification_util import Convert_SourceItem_to_PairedItem_Order\n",
    "from _searchlight_util import *\n"
   ]
  },
  {
   "cell_type": "markdown",
   "metadata": {},
   "source": [
    "### (1) functions for import (modified to allow for hippo in addition to SLs)"
   ]
  },
  {
   "cell_type": "code",
   "execution_count": 12,
   "metadata": {},
   "outputs": [],
   "source": [
    "betatypes = ['rooms','objects']\n",
    "videotypes = ['rooms','objects']\n",
    "hem_label='None'#'both'\n",
    "betatype_label='both'\n",
    "win_size=9\n",
    "shift=4\n",
    "hems = ['None']\n",
    "\n",
    "\n",
    "\n",
    "def GetItemSpecificTimepoints(event_mat):\n",
    "    '''\n",
    "    For an EventMat (nTRs, nItems), get the exact timepoints they talk about the each item in the eventmat.\n",
    "    \n",
    "    Use these timepoints for average the CPs.\n",
    "    \n",
    "    NOTE NOTE NOTE: this gives me OVERALL timepoints for any event, so if they talk about an event more than once non-contiguously,\n",
    "    then, that will get averaged all together. IF I want to get the timepoints separated non-contiguously, I have to write another\n",
    "    function that will do that. This just gives me all the numbers.\n",
    "    \n",
    "    '''\n",
    "    \n",
    "    timepoints = np.where(event_mat==1)[0] # timepoints where events happen\n",
    "    items_in_time = np.where(event_mat==1)[1] # the events/items \n",
    "    \n",
    "    unique_items = np.unique(items_in_time)\n",
    "    \n",
    "    items_and_times_dict = {}\n",
    "    \n",
    "    for item_key in unique_items:\n",
    "        \n",
    "        # where is there timepoints for this event?\n",
    "        items_and_times_dict[item_key] = np.where(event_mat[:,item_key]==1)\n",
    "        \n",
    "    return items_and_times_dict\n",
    "\n",
    "def ImportROV12(date,task_id,betatypes,videotypes,measure_list, roi='SL', hems=['L','R']):\n",
    "#     roi = 'SL'\n",
    "    \n",
    "    TR_crop = 212\n",
    "    nPerm = 1000\n",
    "\n",
    "    scores = {}\n",
    "\n",
    "\n",
    "    for betatype in tqdm_notebook(betatypes):\n",
    "        scores[betatype] = {}\n",
    "\n",
    "        for videotype in videotypes:\n",
    "            scores[betatype][videotype] = {}\n",
    "\n",
    "            for measuretype in tqdm_notebook(measure_list):\n",
    "                scores[betatype][videotype][measuretype] = {}\n",
    "\n",
    "\n",
    "                for hem in hems:\n",
    "\n",
    "                    ###\n",
    "                    ### Specific initiation for different array shapes\n",
    "                    ###\n",
    "                    \n",
    "                    nROIs = len(SLlist[hem]) if roi=='SL' else 1\n",
    "\n",
    "                    if 'normal' == measuretype or 'current_room' == measuretype or 'prev_room'==measuretype or 'next_room'==measuretype:\n",
    "                        scores[betatype][videotype][measuretype][hem] = np.zeros((nROIs,27, nSubj))\n",
    "\n",
    "                    if 'accuracy' ==measuretype:\n",
    "                        scores[betatype][videotype][measuretype][hem] = np.zeros((nROIs,nSubj,nPerm+1))\n",
    "\n",
    "                    if 'conf_mat' == measuretype:\n",
    "                        scores[betatype][videotype][measuretype][hem] = np.zeros((nROIs,nItems,nItems,nSubj))\n",
    "\n",
    "                    if 'event_mats_all' == measuretype:\n",
    "                        scores[betatype][videotype][measuretype][hem] = np.zeros((TR_crop,nItems,nSubj))\n",
    "\n",
    "                    if 'y_probs' in measuretype:\n",
    "                        scores[betatype][videotype][measuretype][hem] = np.zeros((nROIs,TR_crop,nItems, nSubj))\n",
    "\n",
    "\n",
    "                    ###\n",
    "                    ### Load the saved .h5 files\n",
    "                    ###\n",
    "                    roi_ids = range(len(SLlist[hem])) if roi=='SL' else [9999]\n",
    "                    for ri,roi_id in enumerate(tqdm_notebook(roi_ids)):\n",
    "\n",
    "                        fname = '{}_{}{:03d}_hems{}_betas{}_winsize{}_shift{}_ClassifyVideos'.format(\n",
    "                        date,\n",
    "                        roi,\n",
    "                        roi_id,\n",
    "                        hem_label,\n",
    "                        betatype_label,\n",
    "                        win_size,\n",
    "                        shift) + '.h5'\n",
    "\n",
    "                        fullpath = os.path.join(dirpath,fname)\n",
    "\n",
    "                        if 'normal' == measuretype or 'current_room' == measuretype or 'prev_room'==measuretype or 'next_room'==measuretype:\n",
    "\n",
    "                            # (27, nSubj, 23 transitions) \n",
    "                            temp = dd.io.load(fullpath,'/{}/{}/{}/{}'.format(betatype,videotype,hem,measuretype))\n",
    "                            temp = np.nanmean(temp,axis=2) #average out the 23 transitions\n",
    "                            scores[betatype][videotype][measuretype][hem][ri,] = temp \n",
    "                            \n",
    "                        elif 'event' in measuretype:\n",
    "                            scores[betatype][videotype][measuretype][hem] = dd.io.load(fullpath,'/{}/{}/{}/{}'.format(betatype,videotype,hem,measuretype))\n",
    "                            \n",
    "                        else:\n",
    "                            scores[betatype][videotype][measuretype][hem][ri] = dd.io.load(fullpath,'/{}/{}/{}/{}'.format(betatype,videotype,hem,measuretype))\n",
    "\n",
    "    return scores\n",
    "\n",
    "\n",
    "\n",
    "def GetCPsFromROV1or2(scores,ReOrderCPs=False, roi='SL',hems=['L','R']):\n",
    "    '''get CPs from averaging CPs from classifier evidence using event_mat'''\n",
    "    \n",
    "    for betatype in betatypes:\n",
    "        print(\"BETATYPE: \", betatype)\n",
    "\n",
    "        for videotype in videotypes:\n",
    "            print(\"...VIDEOTYPE: \", videotype)\n",
    "\n",
    "            for measuretype in ['CPs']:\n",
    "                scores[betatype][videotype]['CPs'] = {}\n",
    "\n",
    "                for hem in hems:\n",
    "                    print(\".......HEM: \", hem)\n",
    "                    \n",
    "                    nROIs =  len(SLlist[hem]) if roi=='SL' else 1\n",
    "                    scores[betatype][videotype]['CPs'][hem] = np.full((nROIs,nItems,nSubj),fill_value=np.nan)\n",
    "\n",
    "                    for si, subj in enumerate(subject_ids):\n",
    "\n",
    "                        ## event_mats --> (1483, 212, 23, 25)\n",
    "                        this_evmat = scores[betatype][videotype]['event_mats_all'][hem][:,:,si] #(212,23,25) --> TR_crop,nItems,nSubj\n",
    "\n",
    "                        ## (1483, 212, 23, 25), index 1 is current, 0 and 2 are past and next respectively\n",
    "                        current_evidence =  scores[betatype][videotype]['y_probs'][hem][:,:,:,si] # (nSLs, nTRs)\n",
    "\n",
    "                        ###\n",
    "                        ### Collect Overall CP Score for Event (not using window)\n",
    "                        ### \n",
    "\n",
    "                        items_and_times_dict = GetItemSpecificTimepoints(this_evmat)\n",
    "                        for item in items_and_times_dict.keys():\n",
    "                            ts = items_and_times_dict[item] # timepoints\n",
    "                            current_cps = current_evidence[:,ts,item] # index the timepoints and the item of interest\n",
    "        #                     print(current_cps.shape)\n",
    "                            scores[betatype][videotype]['CPs'][hem][:,item,si] = np.nanmean(np.nanmean(current_cps,1),1) #these cps are not ordered by subj assignment.\n",
    "\n",
    "                ####\n",
    "                #### RE-ORDER object CPs to the room -> object pairing for each subject\n",
    "                ####\n",
    "                if ReOrderCPs == True:\n",
    "                    scores[betatype][videotype]['CPs_bySubj'] = {'L':[],'R':[],'None':[]}\n",
    "                    reordered_cp_hem = {'L':[],'R':[],'None':[]}\n",
    "                    \n",
    "                    if roi =='SL':\n",
    "                        cp_hem_L = scores[betatype][videotype]['CPs']['L']\n",
    "                        cp_hem_R = scores[betatype][videotype]['CPs']['R']\n",
    "                        reordered_cp_hem['L'] =  np.full((len(SLlist['L']),nItems,nSubj), fill_value=np.nan)\n",
    "                        reordered_cp_hem['R'] =  np.full((len(SLlist['R']),nItems,nSubj), fill_value=np.nan)\n",
    "                    else:\n",
    "                        cp_hem = scores[betatype][videotype]['CPs']['None']\n",
    "                        reordered_cp_hem['None'] = np.full((len([9999]),nItems,nSubj), fill_value=np.nan)\n",
    "    \n",
    "                    item_order = np.arange(nItems)\n",
    "                    for si, subj in enumerate(subject_ids):\n",
    "\n",
    "                        if betatype == 'rooms':\n",
    "                            #no need to re-order\n",
    "                            print(\"no need to re-order \", end=',')\n",
    "\n",
    "                            new_item_order = item_order\n",
    "\n",
    "                        elif betatype == 'objects':\n",
    "\n",
    "                            # need to re-order so that object index is equal to room index per subject\n",
    "                            new_item_order = Convert_SourceItem_to_PairedItem_Order(subj,item_order,room_obj_assignments,fromItem='objidx',toItem='roomidx')\n",
    "                        \n",
    "                        if roi =='SL':\n",
    "                            reordered_cp_hem['L'][:,:,si] = cp_hem_L[:,new_item_order,si] # for getting ordered cps but per hemisphere\n",
    "                            reordered_cp_hem['R'][:,:,si] = cp_hem_R[:,new_item_order,si] # for getting ordered cps but per hemisphere\n",
    "                        else:\n",
    "                             reordered_cp_hem['None'][:,:,si] = cp_hem[:,new_item_order,si]\n",
    "                    if roi=='SL':\n",
    "                        scores[betatype][videotype]['CPs_bySubj']['L'] = reordered_cp_hem['L']\n",
    "                        scores[betatype][videotype]['CPs_bySubj']['R'] = reordered_cp_hem['R']\n",
    "                    else:\n",
    "                        scores[betatype][videotype]['CPs_bySubj']['None'] = reordered_cp_hem['None']\n",
    "                    \n",
    "    return scores\n"
   ]
  },
  {
   "cell_type": "markdown",
   "metadata": {},
   "source": [
    "### (2) import classification scores for recalled objects and perceived objects for hippo"
   ]
  },
  {
   "cell_type": "code",
   "execution_count": 13,
   "metadata": {},
   "outputs": [],
   "source": [
    "betatypes = ['objects', 'rooms']\n",
    "videotypes = ['rooms', 'objects'] \n",
    "\n",
    "# betatypes = ['objects']\n",
    "# videotypes = ['objects'] \n",
    "\n",
    "measure_list = [\n",
    "    #     'normal', #PCN (9*3,25)\n",
    "        'current_room', #PCN (9*3,25)\n",
    "    #     'next_room',#PCN (9*3,25)\n",
    "    #     'prev_room',#PCN (9*3,25)\n",
    "        'event_mats_all',\n",
    "#         'cp_results', # (212,3,25)\n",
    "    #     'y_correct_probs', # (212, 25) # dont need it, because it's just cp_results and its probably empty!\n",
    "#         'event_mats_all', #(212,23,25)\n",
    "        'accuracy', # (25,nPerm+1)\n",
    "        'conf_mat',# (23,23,25)\n",
    "        'y_probs'\n",
    "        ] \n",
    "\n",
    "# dirpath = '../PythonData2024/Output/ClassifyVideos'\n",
    "dirpath = '../PythonData2024/Output/ClassifyVideos_v6'\n"
   ]
  },
  {
   "cell_type": "code",
   "execution_count": 14,
   "metadata": {
    "scrolled": true
   },
   "outputs": [
    {
     "name": "stdout",
     "output_type": "stream",
     "text": [
      "ahippo\n"
     ]
    },
    {
     "name": "stderr",
     "output_type": "stream",
     "text": [
      "/jukebox/pkgs/PYGER/0.9.1/lib/python3.7/site-packages/ipykernel_launcher.py:46: TqdmDeprecationWarning: This function will be removed in tqdm==5.0.0\n",
      "Please use `tqdm.notebook.tqdm` instead of `tqdm.tqdm_notebook`\n"
     ]
    },
    {
     "data": {
      "application/vnd.jupyter.widget-view+json": {
       "model_id": "5165347dce3644b0b0bce684b700c97f",
       "version_major": 2,
       "version_minor": 0
      },
      "text/plain": [
       "  0%|          | 0/2 [00:00<?, ?it/s]"
      ]
     },
     "metadata": {},
     "output_type": "display_data"
    },
    {
     "name": "stderr",
     "output_type": "stream",
     "text": [
      "/jukebox/pkgs/PYGER/0.9.1/lib/python3.7/site-packages/ipykernel_launcher.py:52: TqdmDeprecationWarning: This function will be removed in tqdm==5.0.0\n",
      "Please use `tqdm.notebook.tqdm` instead of `tqdm.tqdm_notebook`\n"
     ]
    },
    {
     "data": {
      "application/vnd.jupyter.widget-view+json": {
       "model_id": "c6b6bef1a3cd4c7ba9ea36f399c65022",
       "version_major": 2,
       "version_minor": 0
      },
      "text/plain": [
       "  0%|          | 0/5 [00:00<?, ?it/s]"
      ]
     },
     "metadata": {},
     "output_type": "display_data"
    },
    {
     "name": "stderr",
     "output_type": "stream",
     "text": [
      "/jukebox/pkgs/PYGER/0.9.1/lib/python3.7/site-packages/ipykernel_launcher.py:84: TqdmDeprecationWarning: This function will be removed in tqdm==5.0.0\n",
      "Please use `tqdm.notebook.tqdm` instead of `tqdm.tqdm_notebook`\n"
     ]
    },
    {
     "data": {
      "application/vnd.jupyter.widget-view+json": {
       "model_id": "83af17864f3e4d44a947cec26cc9a91d",
       "version_major": 2,
       "version_minor": 0
      },
      "text/plain": [
       "  0%|          | 0/1 [00:00<?, ?it/s]"
      ]
     },
     "metadata": {},
     "output_type": "display_data"
    },
    {
     "data": {
      "application/vnd.jupyter.widget-view+json": {
       "model_id": "bf65c4e46a60464da6b352a0428a0453",
       "version_major": 2,
       "version_minor": 0
      },
      "text/plain": [
       "  0%|          | 0/1 [00:00<?, ?it/s]"
      ]
     },
     "metadata": {},
     "output_type": "display_data"
    },
    {
     "data": {
      "application/vnd.jupyter.widget-view+json": {
       "model_id": "dd1b493990544d80a9d966a49a69a7f7",
       "version_major": 2,
       "version_minor": 0
      },
      "text/plain": [
       "  0%|          | 0/1 [00:00<?, ?it/s]"
      ]
     },
     "metadata": {},
     "output_type": "display_data"
    },
    {
     "data": {
      "application/vnd.jupyter.widget-view+json": {
       "model_id": "2105358474e94a0284ebdfb43961aa29",
       "version_major": 2,
       "version_minor": 0
      },
      "text/plain": [
       "  0%|          | 0/1 [00:00<?, ?it/s]"
      ]
     },
     "metadata": {},
     "output_type": "display_data"
    },
    {
     "data": {
      "application/vnd.jupyter.widget-view+json": {
       "model_id": "9671d7b6a5134ecca2a45011f87098bc",
       "version_major": 2,
       "version_minor": 0
      },
      "text/plain": [
       "  0%|          | 0/1 [00:00<?, ?it/s]"
      ]
     },
     "metadata": {},
     "output_type": "display_data"
    },
    {
     "data": {
      "application/vnd.jupyter.widget-view+json": {
       "model_id": "b0745b26d3f845dabb5701f7b67a2f8e",
       "version_major": 2,
       "version_minor": 0
      },
      "text/plain": [
       "  0%|          | 0/5 [00:00<?, ?it/s]"
      ]
     },
     "metadata": {},
     "output_type": "display_data"
    },
    {
     "data": {
      "application/vnd.jupyter.widget-view+json": {
       "model_id": "6ca271bc257445ae9c28e5a0b449ce61",
       "version_major": 2,
       "version_minor": 0
      },
      "text/plain": [
       "  0%|          | 0/1 [00:00<?, ?it/s]"
      ]
     },
     "metadata": {},
     "output_type": "display_data"
    },
    {
     "data": {
      "application/vnd.jupyter.widget-view+json": {
       "model_id": "323cb26e0fc8488dade94fb8111e3d5d",
       "version_major": 2,
       "version_minor": 0
      },
      "text/plain": [
       "  0%|          | 0/1 [00:00<?, ?it/s]"
      ]
     },
     "metadata": {},
     "output_type": "display_data"
    },
    {
     "data": {
      "application/vnd.jupyter.widget-view+json": {
       "model_id": "145003ed5ec7457b86ff58cfc3966ca6",
       "version_major": 2,
       "version_minor": 0
      },
      "text/plain": [
       "  0%|          | 0/1 [00:00<?, ?it/s]"
      ]
     },
     "metadata": {},
     "output_type": "display_data"
    },
    {
     "data": {
      "application/vnd.jupyter.widget-view+json": {
       "model_id": "0d43f6cf4fe34945867a17268779a67b",
       "version_major": 2,
       "version_minor": 0
      },
      "text/plain": [
       "  0%|          | 0/1 [00:00<?, ?it/s]"
      ]
     },
     "metadata": {},
     "output_type": "display_data"
    },
    {
     "data": {
      "application/vnd.jupyter.widget-view+json": {
       "model_id": "d5b2199769ec47ef957fe4850a2c89af",
       "version_major": 2,
       "version_minor": 0
      },
      "text/plain": [
       "  0%|          | 0/1 [00:00<?, ?it/s]"
      ]
     },
     "metadata": {},
     "output_type": "display_data"
    },
    {
     "data": {
      "application/vnd.jupyter.widget-view+json": {
       "model_id": "58081cf4c2294ea5914c32066c8dbd47",
       "version_major": 2,
       "version_minor": 0
      },
      "text/plain": [
       "  0%|          | 0/5 [00:00<?, ?it/s]"
      ]
     },
     "metadata": {},
     "output_type": "display_data"
    },
    {
     "data": {
      "application/vnd.jupyter.widget-view+json": {
       "model_id": "6006ce6dc5ea4af48e0516b33a7c8950",
       "version_major": 2,
       "version_minor": 0
      },
      "text/plain": [
       "  0%|          | 0/1 [00:00<?, ?it/s]"
      ]
     },
     "metadata": {},
     "output_type": "display_data"
    },
    {
     "data": {
      "application/vnd.jupyter.widget-view+json": {
       "model_id": "c18bfd68443b4467ac79250648e0da32",
       "version_major": 2,
       "version_minor": 0
      },
      "text/plain": [
       "  0%|          | 0/1 [00:00<?, ?it/s]"
      ]
     },
     "metadata": {},
     "output_type": "display_data"
    },
    {
     "data": {
      "application/vnd.jupyter.widget-view+json": {
       "model_id": "edf60ffc67d64dd680283ed88b884f23",
       "version_major": 2,
       "version_minor": 0
      },
      "text/plain": [
       "  0%|          | 0/1 [00:00<?, ?it/s]"
      ]
     },
     "metadata": {},
     "output_type": "display_data"
    },
    {
     "data": {
      "application/vnd.jupyter.widget-view+json": {
       "model_id": "b115d995d6a3481493d12533a8fb8dbb",
       "version_major": 2,
       "version_minor": 0
      },
      "text/plain": [
       "  0%|          | 0/1 [00:00<?, ?it/s]"
      ]
     },
     "metadata": {},
     "output_type": "display_data"
    },
    {
     "data": {
      "application/vnd.jupyter.widget-view+json": {
       "model_id": "a40c1fb9b4bf46ccb773957e6c67490f",
       "version_major": 2,
       "version_minor": 0
      },
      "text/plain": [
       "  0%|          | 0/1 [00:00<?, ?it/s]"
      ]
     },
     "metadata": {},
     "output_type": "display_data"
    },
    {
     "data": {
      "application/vnd.jupyter.widget-view+json": {
       "model_id": "431bc8a35daa463298f89ee692b653bb",
       "version_major": 2,
       "version_minor": 0
      },
      "text/plain": [
       "  0%|          | 0/5 [00:00<?, ?it/s]"
      ]
     },
     "metadata": {},
     "output_type": "display_data"
    },
    {
     "data": {
      "application/vnd.jupyter.widget-view+json": {
       "model_id": "4fb6af965c2d4f709ebaf81bbe2a220a",
       "version_major": 2,
       "version_minor": 0
      },
      "text/plain": [
       "  0%|          | 0/1 [00:00<?, ?it/s]"
      ]
     },
     "metadata": {},
     "output_type": "display_data"
    },
    {
     "data": {
      "application/vnd.jupyter.widget-view+json": {
       "model_id": "398c1a4c4f6e4710882707cc8ca4f5c1",
       "version_major": 2,
       "version_minor": 0
      },
      "text/plain": [
       "  0%|          | 0/1 [00:00<?, ?it/s]"
      ]
     },
     "metadata": {},
     "output_type": "display_data"
    },
    {
     "data": {
      "application/vnd.jupyter.widget-view+json": {
       "model_id": "59ddf1835ba541409551aeb4641e33b5",
       "version_major": 2,
       "version_minor": 0
      },
      "text/plain": [
       "  0%|          | 0/1 [00:00<?, ?it/s]"
      ]
     },
     "metadata": {},
     "output_type": "display_data"
    },
    {
     "data": {
      "application/vnd.jupyter.widget-view+json": {
       "model_id": "098240b3a7b64681adc3f9e4f58a068a",
       "version_major": 2,
       "version_minor": 0
      },
      "text/plain": [
       "  0%|          | 0/1 [00:00<?, ?it/s]"
      ]
     },
     "metadata": {},
     "output_type": "display_data"
    },
    {
     "data": {
      "application/vnd.jupyter.widget-view+json": {
       "model_id": "ca2fa7c265584178ba72b0e0d2fc9c8a",
       "version_major": 2,
       "version_minor": 0
      },
      "text/plain": [
       "  0%|          | 0/1 [00:00<?, ?it/s]"
      ]
     },
     "metadata": {},
     "output_type": "display_data"
    },
    {
     "name": "stdout",
     "output_type": "stream",
     "text": [
      "BETATYPE:  rooms\n",
      "...VIDEOTYPE:  rooms\n",
      ".......HEM:  None\n",
      "no need to re-order ,no need to re-order ,no need to re-order ,no need to re-order ,no need to re-order ,no need to re-order ,no need to re-order ,no need to re-order ,no need to re-order ,no need to re-order ,no need to re-order ,no need to re-order ,no need to re-order ,no need to re-order ,no need to re-order ,no need to re-order ,no need to re-order ,no need to re-order ,no need to re-order ,no need to re-order ,no need to re-order ,no need to re-order ,no need to re-order ,no need to re-order ,no need to re-order ,...VIDEOTYPE:  objects\n",
      ".......HEM:  None\n",
      "no need to re-order ,no need to re-order ,no need to re-order ,no need to re-order ,no need to re-order ,no need to re-order ,no need to re-order ,no need to re-order ,no need to re-order ,no need to re-order ,no need to re-order ,no need to re-order ,no need to re-order ,no need to re-order ,no need to re-order ,no need to re-order ,no need to re-order ,no need to re-order ,no need to re-order ,no need to re-order ,no need to re-order ,no need to re-order ,no need to re-order ,no need to re-order ,no need to re-order ,BETATYPE:  objects\n",
      "...VIDEOTYPE:  rooms\n",
      ".......HEM:  None\n",
      "...VIDEOTYPE:  objects\n",
      ".......HEM:  None\n"
     ]
    },
    {
     "data": {
      "application/vnd.jupyter.widget-view+json": {
       "model_id": "ef3b54fe4e0d420c92ee2a9d5e974936",
       "version_major": 2,
       "version_minor": 0
      },
      "text/plain": [
       "  0%|          | 0/2 [00:00<?, ?it/s]"
      ]
     },
     "metadata": {},
     "output_type": "display_data"
    },
    {
     "data": {
      "application/vnd.jupyter.widget-view+json": {
       "model_id": "452bb63f057d4a84a516ea64ba62ad46",
       "version_major": 2,
       "version_minor": 0
      },
      "text/plain": [
       "  0%|          | 0/5 [00:00<?, ?it/s]"
      ]
     },
     "metadata": {},
     "output_type": "display_data"
    },
    {
     "data": {
      "application/vnd.jupyter.widget-view+json": {
       "model_id": "bdfdaa3e3dab448ba14a9626ff761a84",
       "version_major": 2,
       "version_minor": 0
      },
      "text/plain": [
       "  0%|          | 0/1 [00:00<?, ?it/s]"
      ]
     },
     "metadata": {},
     "output_type": "display_data"
    },
    {
     "data": {
      "application/vnd.jupyter.widget-view+json": {
       "model_id": "538d52634bdd4d73a76b393162cc9a2a",
       "version_major": 2,
       "version_minor": 0
      },
      "text/plain": [
       "  0%|          | 0/1 [00:00<?, ?it/s]"
      ]
     },
     "metadata": {},
     "output_type": "display_data"
    },
    {
     "data": {
      "application/vnd.jupyter.widget-view+json": {
       "model_id": "5b3d479e89864fb2ad1598be49e88176",
       "version_major": 2,
       "version_minor": 0
      },
      "text/plain": [
       "  0%|          | 0/1 [00:00<?, ?it/s]"
      ]
     },
     "metadata": {},
     "output_type": "display_data"
    },
    {
     "data": {
      "application/vnd.jupyter.widget-view+json": {
       "model_id": "001efd1335fe43a7b12b6974092381e8",
       "version_major": 2,
       "version_minor": 0
      },
      "text/plain": [
       "  0%|          | 0/1 [00:00<?, ?it/s]"
      ]
     },
     "metadata": {},
     "output_type": "display_data"
    },
    {
     "data": {
      "application/vnd.jupyter.widget-view+json": {
       "model_id": "50f0de6a33bf45ba80f0f2cb6ca23829",
       "version_major": 2,
       "version_minor": 0
      },
      "text/plain": [
       "  0%|          | 0/1 [00:00<?, ?it/s]"
      ]
     },
     "metadata": {},
     "output_type": "display_data"
    },
    {
     "data": {
      "application/vnd.jupyter.widget-view+json": {
       "model_id": "e24df3c51f3d441fb8cc30f85103c659",
       "version_major": 2,
       "version_minor": 0
      },
      "text/plain": [
       "  0%|          | 0/5 [00:00<?, ?it/s]"
      ]
     },
     "metadata": {},
     "output_type": "display_data"
    },
    {
     "data": {
      "application/vnd.jupyter.widget-view+json": {
       "model_id": "34ffcabac4d544d3a5a9a0736d4f3ecf",
       "version_major": 2,
       "version_minor": 0
      },
      "text/plain": [
       "  0%|          | 0/1 [00:00<?, ?it/s]"
      ]
     },
     "metadata": {},
     "output_type": "display_data"
    },
    {
     "data": {
      "application/vnd.jupyter.widget-view+json": {
       "model_id": "3b115f56ebc94d5e9d08e109d8eddcb0",
       "version_major": 2,
       "version_minor": 0
      },
      "text/plain": [
       "  0%|          | 0/1 [00:00<?, ?it/s]"
      ]
     },
     "metadata": {},
     "output_type": "display_data"
    },
    {
     "data": {
      "application/vnd.jupyter.widget-view+json": {
       "model_id": "f77fa67283fc4b6099b0051ab137e982",
       "version_major": 2,
       "version_minor": 0
      },
      "text/plain": [
       "  0%|          | 0/1 [00:00<?, ?it/s]"
      ]
     },
     "metadata": {},
     "output_type": "display_data"
    },
    {
     "data": {
      "application/vnd.jupyter.widget-view+json": {
       "model_id": "dd00740c84db4cb19149f262463418e7",
       "version_major": 2,
       "version_minor": 0
      },
      "text/plain": [
       "  0%|          | 0/1 [00:00<?, ?it/s]"
      ]
     },
     "metadata": {},
     "output_type": "display_data"
    },
    {
     "data": {
      "application/vnd.jupyter.widget-view+json": {
       "model_id": "9cab4e67bc0744cf9aa6b151a384bd3a",
       "version_major": 2,
       "version_minor": 0
      },
      "text/plain": [
       "  0%|          | 0/1 [00:00<?, ?it/s]"
      ]
     },
     "metadata": {},
     "output_type": "display_data"
    },
    {
     "data": {
      "application/vnd.jupyter.widget-view+json": {
       "model_id": "dbb577851eff44e1800c39c95ac671d0",
       "version_major": 2,
       "version_minor": 0
      },
      "text/plain": [
       "  0%|          | 0/5 [00:00<?, ?it/s]"
      ]
     },
     "metadata": {},
     "output_type": "display_data"
    },
    {
     "data": {
      "application/vnd.jupyter.widget-view+json": {
       "model_id": "6d3abc53dbb44276b07bf5d983e43649",
       "version_major": 2,
       "version_minor": 0
      },
      "text/plain": [
       "  0%|          | 0/1 [00:00<?, ?it/s]"
      ]
     },
     "metadata": {},
     "output_type": "display_data"
    },
    {
     "data": {
      "application/vnd.jupyter.widget-view+json": {
       "model_id": "bd4714693a634f65be185c6df332b9a3",
       "version_major": 2,
       "version_minor": 0
      },
      "text/plain": [
       "  0%|          | 0/1 [00:00<?, ?it/s]"
      ]
     },
     "metadata": {},
     "output_type": "display_data"
    },
    {
     "data": {
      "application/vnd.jupyter.widget-view+json": {
       "model_id": "70ee06f2647d40978602f4fefd2981b7",
       "version_major": 2,
       "version_minor": 0
      },
      "text/plain": [
       "  0%|          | 0/1 [00:00<?, ?it/s]"
      ]
     },
     "metadata": {},
     "output_type": "display_data"
    },
    {
     "data": {
      "application/vnd.jupyter.widget-view+json": {
       "model_id": "e3e456b90fe74175beb5c37b67b0642a",
       "version_major": 2,
       "version_minor": 0
      },
      "text/plain": [
       "  0%|          | 0/1 [00:00<?, ?it/s]"
      ]
     },
     "metadata": {},
     "output_type": "display_data"
    },
    {
     "data": {
      "application/vnd.jupyter.widget-view+json": {
       "model_id": "4653b57ab2ea4e459d42fa933900bd12",
       "version_major": 2,
       "version_minor": 0
      },
      "text/plain": [
       "  0%|          | 0/1 [00:00<?, ?it/s]"
      ]
     },
     "metadata": {},
     "output_type": "display_data"
    },
    {
     "data": {
      "application/vnd.jupyter.widget-view+json": {
       "model_id": "7ac7bc0819934c809fa26531b29c53ce",
       "version_major": 2,
       "version_minor": 0
      },
      "text/plain": [
       "  0%|          | 0/5 [00:00<?, ?it/s]"
      ]
     },
     "metadata": {},
     "output_type": "display_data"
    },
    {
     "data": {
      "application/vnd.jupyter.widget-view+json": {
       "model_id": "192378a287154699bc27a9e868ff70b1",
       "version_major": 2,
       "version_minor": 0
      },
      "text/plain": [
       "  0%|          | 0/1 [00:00<?, ?it/s]"
      ]
     },
     "metadata": {},
     "output_type": "display_data"
    },
    {
     "data": {
      "application/vnd.jupyter.widget-view+json": {
       "model_id": "aceccc4117b54d36afe57bc42a4d1b91",
       "version_major": 2,
       "version_minor": 0
      },
      "text/plain": [
       "  0%|          | 0/1 [00:00<?, ?it/s]"
      ]
     },
     "metadata": {},
     "output_type": "display_data"
    },
    {
     "data": {
      "application/vnd.jupyter.widget-view+json": {
       "model_id": "5ad27636b4f44feeb1ddff4e449f4f50",
       "version_major": 2,
       "version_minor": 0
      },
      "text/plain": [
       "  0%|          | 0/1 [00:00<?, ?it/s]"
      ]
     },
     "metadata": {},
     "output_type": "display_data"
    },
    {
     "data": {
      "application/vnd.jupyter.widget-view+json": {
       "model_id": "723ff5f018c44f6c8f8f516a2254754c",
       "version_major": 2,
       "version_minor": 0
      },
      "text/plain": [
       "  0%|          | 0/1 [00:00<?, ?it/s]"
      ]
     },
     "metadata": {},
     "output_type": "display_data"
    },
    {
     "data": {
      "application/vnd.jupyter.widget-view+json": {
       "model_id": "ffa3c9319a48474c8b06e20ed9337012",
       "version_major": 2,
       "version_minor": 0
      },
      "text/plain": [
       "  0%|          | 0/1 [00:00<?, ?it/s]"
      ]
     },
     "metadata": {},
     "output_type": "display_data"
    },
    {
     "name": "stdout",
     "output_type": "stream",
     "text": [
      "BETATYPE:  rooms\n",
      "...VIDEOTYPE:  rooms\n",
      ".......HEM:  None\n",
      "no need to re-order ,no need to re-order ,no need to re-order ,no need to re-order ,no need to re-order ,no need to re-order ,no need to re-order ,no need to re-order ,no need to re-order ,no need to re-order ,no need to re-order ,no need to re-order ,no need to re-order ,no need to re-order ,no need to re-order ,no need to re-order ,no need to re-order ,no need to re-order ,no need to re-order ,no need to re-order ,no need to re-order ,no need to re-order ,no need to re-order ,no need to re-order ,no need to re-order ,...VIDEOTYPE:  objects\n",
      ".......HEM:  None\n",
      "no need to re-order ,no need to re-order ,no need to re-order ,no need to re-order ,no need to re-order ,no need to re-order ,no need to re-order ,no need to re-order ,no need to re-order ,no need to re-order ,no need to re-order ,no need to re-order ,no need to re-order ,no need to re-order ,no need to re-order ,no need to re-order ,no need to re-order ,no need to re-order ,no need to re-order ,no need to re-order ,no need to re-order ,no need to re-order ,no need to re-order ,no need to re-order ,no need to re-order ,BETATYPE:  objects\n",
      "...VIDEOTYPE:  rooms\n",
      ".......HEM:  None\n",
      "...VIDEOTYPE:  objects\n",
      ".......HEM:  None\n",
      "phippo\n"
     ]
    },
    {
     "data": {
      "application/vnd.jupyter.widget-view+json": {
       "model_id": "3059e5a769fa4fe9852930de2db44299",
       "version_major": 2,
       "version_minor": 0
      },
      "text/plain": [
       "  0%|          | 0/2 [00:00<?, ?it/s]"
      ]
     },
     "metadata": {},
     "output_type": "display_data"
    },
    {
     "data": {
      "application/vnd.jupyter.widget-view+json": {
       "model_id": "f736dd3e07384b9cb2b5118e5edb1e19",
       "version_major": 2,
       "version_minor": 0
      },
      "text/plain": [
       "  0%|          | 0/5 [00:00<?, ?it/s]"
      ]
     },
     "metadata": {},
     "output_type": "display_data"
    },
    {
     "data": {
      "application/vnd.jupyter.widget-view+json": {
       "model_id": "3b7fd051f27d4815aa4e15efbe67ef5d",
       "version_major": 2,
       "version_minor": 0
      },
      "text/plain": [
       "  0%|          | 0/1 [00:00<?, ?it/s]"
      ]
     },
     "metadata": {},
     "output_type": "display_data"
    },
    {
     "data": {
      "application/vnd.jupyter.widget-view+json": {
       "model_id": "2812918075d84c51a897326022748d28",
       "version_major": 2,
       "version_minor": 0
      },
      "text/plain": [
       "  0%|          | 0/1 [00:00<?, ?it/s]"
      ]
     },
     "metadata": {},
     "output_type": "display_data"
    },
    {
     "data": {
      "application/vnd.jupyter.widget-view+json": {
       "model_id": "662029d70be340d6a14f57e02579446f",
       "version_major": 2,
       "version_minor": 0
      },
      "text/plain": [
       "  0%|          | 0/1 [00:00<?, ?it/s]"
      ]
     },
     "metadata": {},
     "output_type": "display_data"
    },
    {
     "data": {
      "application/vnd.jupyter.widget-view+json": {
       "model_id": "60eff6c78bd24beb972b4d5c4d10995a",
       "version_major": 2,
       "version_minor": 0
      },
      "text/plain": [
       "  0%|          | 0/1 [00:00<?, ?it/s]"
      ]
     },
     "metadata": {},
     "output_type": "display_data"
    },
    {
     "data": {
      "application/vnd.jupyter.widget-view+json": {
       "model_id": "a2ca893b2f1a4fedafde950538a3aa6a",
       "version_major": 2,
       "version_minor": 0
      },
      "text/plain": [
       "  0%|          | 0/1 [00:00<?, ?it/s]"
      ]
     },
     "metadata": {},
     "output_type": "display_data"
    },
    {
     "data": {
      "application/vnd.jupyter.widget-view+json": {
       "model_id": "232fae89b437498397115ccfa4595ad9",
       "version_major": 2,
       "version_minor": 0
      },
      "text/plain": [
       "  0%|          | 0/5 [00:00<?, ?it/s]"
      ]
     },
     "metadata": {},
     "output_type": "display_data"
    },
    {
     "data": {
      "application/vnd.jupyter.widget-view+json": {
       "model_id": "cf12efa981a64bd8b0a3b648bffd412a",
       "version_major": 2,
       "version_minor": 0
      },
      "text/plain": [
       "  0%|          | 0/1 [00:00<?, ?it/s]"
      ]
     },
     "metadata": {},
     "output_type": "display_data"
    },
    {
     "data": {
      "application/vnd.jupyter.widget-view+json": {
       "model_id": "d6acb2ddef4b4b63af376de27f16335d",
       "version_major": 2,
       "version_minor": 0
      },
      "text/plain": [
       "  0%|          | 0/1 [00:00<?, ?it/s]"
      ]
     },
     "metadata": {},
     "output_type": "display_data"
    },
    {
     "data": {
      "application/vnd.jupyter.widget-view+json": {
       "model_id": "c510f912ed604963958654b754664422",
       "version_major": 2,
       "version_minor": 0
      },
      "text/plain": [
       "  0%|          | 0/1 [00:00<?, ?it/s]"
      ]
     },
     "metadata": {},
     "output_type": "display_data"
    },
    {
     "data": {
      "application/vnd.jupyter.widget-view+json": {
       "model_id": "ef1b5897fd174362aea0c3fe1c923968",
       "version_major": 2,
       "version_minor": 0
      },
      "text/plain": [
       "  0%|          | 0/1 [00:00<?, ?it/s]"
      ]
     },
     "metadata": {},
     "output_type": "display_data"
    },
    {
     "data": {
      "application/vnd.jupyter.widget-view+json": {
       "model_id": "2437859e2e9442908eea75838780ce96",
       "version_major": 2,
       "version_minor": 0
      },
      "text/plain": [
       "  0%|          | 0/1 [00:00<?, ?it/s]"
      ]
     },
     "metadata": {},
     "output_type": "display_data"
    },
    {
     "data": {
      "application/vnd.jupyter.widget-view+json": {
       "model_id": "88334063673742388637fc8db5715a04",
       "version_major": 2,
       "version_minor": 0
      },
      "text/plain": [
       "  0%|          | 0/5 [00:00<?, ?it/s]"
      ]
     },
     "metadata": {},
     "output_type": "display_data"
    },
    {
     "data": {
      "application/vnd.jupyter.widget-view+json": {
       "model_id": "5e097296931342b19a1394bb47e22fc4",
       "version_major": 2,
       "version_minor": 0
      },
      "text/plain": [
       "  0%|          | 0/1 [00:00<?, ?it/s]"
      ]
     },
     "metadata": {},
     "output_type": "display_data"
    },
    {
     "data": {
      "application/vnd.jupyter.widget-view+json": {
       "model_id": "c83ca4e2b08a43b19c29c285944e6f42",
       "version_major": 2,
       "version_minor": 0
      },
      "text/plain": [
       "  0%|          | 0/1 [00:00<?, ?it/s]"
      ]
     },
     "metadata": {},
     "output_type": "display_data"
    },
    {
     "data": {
      "application/vnd.jupyter.widget-view+json": {
       "model_id": "e619d87148a841dbba8acd03e6369bd9",
       "version_major": 2,
       "version_minor": 0
      },
      "text/plain": [
       "  0%|          | 0/1 [00:00<?, ?it/s]"
      ]
     },
     "metadata": {},
     "output_type": "display_data"
    },
    {
     "data": {
      "application/vnd.jupyter.widget-view+json": {
       "model_id": "990e5f72037c488e88bb6c8671141f67",
       "version_major": 2,
       "version_minor": 0
      },
      "text/plain": [
       "  0%|          | 0/1 [00:00<?, ?it/s]"
      ]
     },
     "metadata": {},
     "output_type": "display_data"
    },
    {
     "data": {
      "application/vnd.jupyter.widget-view+json": {
       "model_id": "e947cfb4c1f84c28b6db9042aa4a594c",
       "version_major": 2,
       "version_minor": 0
      },
      "text/plain": [
       "  0%|          | 0/1 [00:00<?, ?it/s]"
      ]
     },
     "metadata": {},
     "output_type": "display_data"
    },
    {
     "data": {
      "application/vnd.jupyter.widget-view+json": {
       "model_id": "37d58f98af034cf4aee02071c0dda452",
       "version_major": 2,
       "version_minor": 0
      },
      "text/plain": [
       "  0%|          | 0/5 [00:00<?, ?it/s]"
      ]
     },
     "metadata": {},
     "output_type": "display_data"
    },
    {
     "data": {
      "application/vnd.jupyter.widget-view+json": {
       "model_id": "532474130cfb43dab3baa66a082ecfc9",
       "version_major": 2,
       "version_minor": 0
      },
      "text/plain": [
       "  0%|          | 0/1 [00:00<?, ?it/s]"
      ]
     },
     "metadata": {},
     "output_type": "display_data"
    },
    {
     "data": {
      "application/vnd.jupyter.widget-view+json": {
       "model_id": "2338859b67dc46da92bcadcedf808f07",
       "version_major": 2,
       "version_minor": 0
      },
      "text/plain": [
       "  0%|          | 0/1 [00:00<?, ?it/s]"
      ]
     },
     "metadata": {},
     "output_type": "display_data"
    },
    {
     "data": {
      "application/vnd.jupyter.widget-view+json": {
       "model_id": "6276a88132e4452694012ac9e4853be9",
       "version_major": 2,
       "version_minor": 0
      },
      "text/plain": [
       "  0%|          | 0/1 [00:00<?, ?it/s]"
      ]
     },
     "metadata": {},
     "output_type": "display_data"
    },
    {
     "data": {
      "application/vnd.jupyter.widget-view+json": {
       "model_id": "01e1a1a4e14a481790ac4de113560fae",
       "version_major": 2,
       "version_minor": 0
      },
      "text/plain": [
       "  0%|          | 0/1 [00:00<?, ?it/s]"
      ]
     },
     "metadata": {},
     "output_type": "display_data"
    },
    {
     "data": {
      "application/vnd.jupyter.widget-view+json": {
       "model_id": "34d3e6399cd949fea41da69a242a8fd9",
       "version_major": 2,
       "version_minor": 0
      },
      "text/plain": [
       "  0%|          | 0/1 [00:00<?, ?it/s]"
      ]
     },
     "metadata": {},
     "output_type": "display_data"
    },
    {
     "name": "stdout",
     "output_type": "stream",
     "text": [
      "BETATYPE:  rooms\n",
      "...VIDEOTYPE:  rooms\n",
      ".......HEM:  None\n",
      "no need to re-order ,no need to re-order ,no need to re-order ,no need to re-order ,no need to re-order ,no need to re-order ,no need to re-order ,no need to re-order ,no need to re-order ,no need to re-order ,no need to re-order ,no need to re-order ,no need to re-order ,no need to re-order ,no need to re-order ,no need to re-order ,no need to re-order ,no need to re-order ,no need to re-order ,no need to re-order ,no need to re-order ,no need to re-order ,no need to re-order ,no need to re-order ,no need to re-order ,...VIDEOTYPE:  objects\n",
      ".......HEM:  None\n",
      "no need to re-order ,no need to re-order ,no need to re-order ,no need to re-order ,no need to re-order ,no need to re-order ,no need to re-order ,no need to re-order ,no need to re-order ,no need to re-order ,no need to re-order ,no need to re-order ,no need to re-order ,no need to re-order ,no need to re-order ,no need to re-order ,no need to re-order ,no need to re-order ,no need to re-order ,no need to re-order ,no need to re-order ,no need to re-order ,no need to re-order ,no need to re-order ,no need to re-order ,BETATYPE:  objects\n",
      "...VIDEOTYPE:  rooms\n",
      ".......HEM:  None\n",
      "...VIDEOTYPE:  objects\n",
      ".......HEM:  None\n"
     ]
    },
    {
     "data": {
      "application/vnd.jupyter.widget-view+json": {
       "model_id": "baa71763fff544778fdc1e1f77cac982",
       "version_major": 2,
       "version_minor": 0
      },
      "text/plain": [
       "  0%|          | 0/2 [00:00<?, ?it/s]"
      ]
     },
     "metadata": {},
     "output_type": "display_data"
    },
    {
     "data": {
      "application/vnd.jupyter.widget-view+json": {
       "model_id": "0c32b2f2f94b41a393163649dd8c1e48",
       "version_major": 2,
       "version_minor": 0
      },
      "text/plain": [
       "  0%|          | 0/5 [00:00<?, ?it/s]"
      ]
     },
     "metadata": {},
     "output_type": "display_data"
    },
    {
     "data": {
      "application/vnd.jupyter.widget-view+json": {
       "model_id": "2e11df45c6b648c68468ce3633038289",
       "version_major": 2,
       "version_minor": 0
      },
      "text/plain": [
       "  0%|          | 0/1 [00:00<?, ?it/s]"
      ]
     },
     "metadata": {},
     "output_type": "display_data"
    },
    {
     "data": {
      "application/vnd.jupyter.widget-view+json": {
       "model_id": "01680fab6d774eedb2bf406f0825305a",
       "version_major": 2,
       "version_minor": 0
      },
      "text/plain": [
       "  0%|          | 0/1 [00:00<?, ?it/s]"
      ]
     },
     "metadata": {},
     "output_type": "display_data"
    },
    {
     "data": {
      "application/vnd.jupyter.widget-view+json": {
       "model_id": "3d8ff0b362074c26a655811e2602d903",
       "version_major": 2,
       "version_minor": 0
      },
      "text/plain": [
       "  0%|          | 0/1 [00:00<?, ?it/s]"
      ]
     },
     "metadata": {},
     "output_type": "display_data"
    },
    {
     "data": {
      "application/vnd.jupyter.widget-view+json": {
       "model_id": "04f9e152c13c4dcf99b3eb85fadb72fa",
       "version_major": 2,
       "version_minor": 0
      },
      "text/plain": [
       "  0%|          | 0/1 [00:00<?, ?it/s]"
      ]
     },
     "metadata": {},
     "output_type": "display_data"
    },
    {
     "data": {
      "application/vnd.jupyter.widget-view+json": {
       "model_id": "8e3cd803586c44ee9fc6612ad86513e0",
       "version_major": 2,
       "version_minor": 0
      },
      "text/plain": [
       "  0%|          | 0/1 [00:00<?, ?it/s]"
      ]
     },
     "metadata": {},
     "output_type": "display_data"
    },
    {
     "data": {
      "application/vnd.jupyter.widget-view+json": {
       "model_id": "4532f95ec7af4555a53b69fd8b8156f8",
       "version_major": 2,
       "version_minor": 0
      },
      "text/plain": [
       "  0%|          | 0/5 [00:00<?, ?it/s]"
      ]
     },
     "metadata": {},
     "output_type": "display_data"
    },
    {
     "data": {
      "application/vnd.jupyter.widget-view+json": {
       "model_id": "eb8ed8691280479483c2619600ea56ba",
       "version_major": 2,
       "version_minor": 0
      },
      "text/plain": [
       "  0%|          | 0/1 [00:00<?, ?it/s]"
      ]
     },
     "metadata": {},
     "output_type": "display_data"
    },
    {
     "data": {
      "application/vnd.jupyter.widget-view+json": {
       "model_id": "8ad9d121b49b4ee1b6e02e37ebe30105",
       "version_major": 2,
       "version_minor": 0
      },
      "text/plain": [
       "  0%|          | 0/1 [00:00<?, ?it/s]"
      ]
     },
     "metadata": {},
     "output_type": "display_data"
    },
    {
     "data": {
      "application/vnd.jupyter.widget-view+json": {
       "model_id": "11addb6965e04ec1b8e631c01fc87ac0",
       "version_major": 2,
       "version_minor": 0
      },
      "text/plain": [
       "  0%|          | 0/1 [00:00<?, ?it/s]"
      ]
     },
     "metadata": {},
     "output_type": "display_data"
    },
    {
     "data": {
      "application/vnd.jupyter.widget-view+json": {
       "model_id": "b7b8d4fe12dd4275a713454b3e42d79f",
       "version_major": 2,
       "version_minor": 0
      },
      "text/plain": [
       "  0%|          | 0/1 [00:00<?, ?it/s]"
      ]
     },
     "metadata": {},
     "output_type": "display_data"
    },
    {
     "data": {
      "application/vnd.jupyter.widget-view+json": {
       "model_id": "2d0968810eb044c39f26dc427e34e825",
       "version_major": 2,
       "version_minor": 0
      },
      "text/plain": [
       "  0%|          | 0/1 [00:00<?, ?it/s]"
      ]
     },
     "metadata": {},
     "output_type": "display_data"
    },
    {
     "data": {
      "application/vnd.jupyter.widget-view+json": {
       "model_id": "c917bc7d036c4e22bbcf5e3f09568712",
       "version_major": 2,
       "version_minor": 0
      },
      "text/plain": [
       "  0%|          | 0/5 [00:00<?, ?it/s]"
      ]
     },
     "metadata": {},
     "output_type": "display_data"
    },
    {
     "data": {
      "application/vnd.jupyter.widget-view+json": {
       "model_id": "233fc8a7e37b494f9c8e63a28831b92c",
       "version_major": 2,
       "version_minor": 0
      },
      "text/plain": [
       "  0%|          | 0/1 [00:00<?, ?it/s]"
      ]
     },
     "metadata": {},
     "output_type": "display_data"
    },
    {
     "data": {
      "application/vnd.jupyter.widget-view+json": {
       "model_id": "f237af02253c40fc81505bf58c1f13e9",
       "version_major": 2,
       "version_minor": 0
      },
      "text/plain": [
       "  0%|          | 0/1 [00:00<?, ?it/s]"
      ]
     },
     "metadata": {},
     "output_type": "display_data"
    },
    {
     "data": {
      "application/vnd.jupyter.widget-view+json": {
       "model_id": "3eb9310560c741ef93a270d7d53e7a4c",
       "version_major": 2,
       "version_minor": 0
      },
      "text/plain": [
       "  0%|          | 0/1 [00:00<?, ?it/s]"
      ]
     },
     "metadata": {},
     "output_type": "display_data"
    },
    {
     "data": {
      "application/vnd.jupyter.widget-view+json": {
       "model_id": "b795a15992274aff866eaaccd0d4a522",
       "version_major": 2,
       "version_minor": 0
      },
      "text/plain": [
       "  0%|          | 0/1 [00:00<?, ?it/s]"
      ]
     },
     "metadata": {},
     "output_type": "display_data"
    },
    {
     "data": {
      "application/vnd.jupyter.widget-view+json": {
       "model_id": "2a64bfe2a8a74e6c94dce1e60816433c",
       "version_major": 2,
       "version_minor": 0
      },
      "text/plain": [
       "  0%|          | 0/1 [00:00<?, ?it/s]"
      ]
     },
     "metadata": {},
     "output_type": "display_data"
    },
    {
     "data": {
      "application/vnd.jupyter.widget-view+json": {
       "model_id": "1f87bb4ebef047deb4f0faf305f6e06c",
       "version_major": 2,
       "version_minor": 0
      },
      "text/plain": [
       "  0%|          | 0/5 [00:00<?, ?it/s]"
      ]
     },
     "metadata": {},
     "output_type": "display_data"
    },
    {
     "data": {
      "application/vnd.jupyter.widget-view+json": {
       "model_id": "9da0b4aa8fde4de0b56eeb7df977861d",
       "version_major": 2,
       "version_minor": 0
      },
      "text/plain": [
       "  0%|          | 0/1 [00:00<?, ?it/s]"
      ]
     },
     "metadata": {},
     "output_type": "display_data"
    },
    {
     "data": {
      "application/vnd.jupyter.widget-view+json": {
       "model_id": "5f052e9b5c6447fca97badf1584bd422",
       "version_major": 2,
       "version_minor": 0
      },
      "text/plain": [
       "  0%|          | 0/1 [00:00<?, ?it/s]"
      ]
     },
     "metadata": {},
     "output_type": "display_data"
    },
    {
     "data": {
      "application/vnd.jupyter.widget-view+json": {
       "model_id": "d2209278d1e643ea9917c6920f10af48",
       "version_major": 2,
       "version_minor": 0
      },
      "text/plain": [
       "  0%|          | 0/1 [00:00<?, ?it/s]"
      ]
     },
     "metadata": {},
     "output_type": "display_data"
    },
    {
     "data": {
      "application/vnd.jupyter.widget-view+json": {
       "model_id": "24e5c4e38357467ea993bcd2b7ef3c9d",
       "version_major": 2,
       "version_minor": 0
      },
      "text/plain": [
       "  0%|          | 0/1 [00:00<?, ?it/s]"
      ]
     },
     "metadata": {},
     "output_type": "display_data"
    },
    {
     "data": {
      "application/vnd.jupyter.widget-view+json": {
       "model_id": "418664f6b0194caba8c99b90037ec0ad",
       "version_major": 2,
       "version_minor": 0
      },
      "text/plain": [
       "  0%|          | 0/1 [00:00<?, ?it/s]"
      ]
     },
     "metadata": {},
     "output_type": "display_data"
    },
    {
     "name": "stdout",
     "output_type": "stream",
     "text": [
      "BETATYPE:  rooms\n",
      "...VIDEOTYPE:  rooms\n",
      ".......HEM:  None\n",
      "no need to re-order ,no need to re-order ,no need to re-order ,no need to re-order ,no need to re-order ,no need to re-order ,no need to re-order ,no need to re-order ,no need to re-order ,no need to re-order ,no need to re-order ,no need to re-order ,no need to re-order ,no need to re-order ,no need to re-order ,no need to re-order ,no need to re-order ,no need to re-order ,no need to re-order ,no need to re-order ,no need to re-order ,no need to re-order ,no need to re-order ,no need to re-order ,no need to re-order ,...VIDEOTYPE:  objects\n",
      ".......HEM:  None\n",
      "no need to re-order ,no need to re-order ,no need to re-order ,no need to re-order ,no need to re-order ,no need to re-order ,no need to re-order ,no need to re-order ,no need to re-order ,no need to re-order ,no need to re-order ,no need to re-order ,no need to re-order ,no need to re-order ,no need to re-order ,no need to re-order ,no need to re-order ,no need to re-order ,no need to re-order ,no need to re-order ,no need to re-order ,no need to re-order ,no need to re-order ,no need to re-order ,no need to re-order ,BETATYPE:  objects\n",
      "...VIDEOTYPE:  rooms\n",
      ".......HEM:  None\n",
      "...VIDEOTYPE:  objects\n",
      ".......HEM:  None\n",
      "hippo\n"
     ]
    },
    {
     "data": {
      "application/vnd.jupyter.widget-view+json": {
       "model_id": "aa0ba66f64be430daa8dd76f5daa7021",
       "version_major": 2,
       "version_minor": 0
      },
      "text/plain": [
       "  0%|          | 0/2 [00:00<?, ?it/s]"
      ]
     },
     "metadata": {},
     "output_type": "display_data"
    },
    {
     "data": {
      "application/vnd.jupyter.widget-view+json": {
       "model_id": "06f32b4fe6344c4798fc0b6c96e7be92",
       "version_major": 2,
       "version_minor": 0
      },
      "text/plain": [
       "  0%|          | 0/5 [00:00<?, ?it/s]"
      ]
     },
     "metadata": {},
     "output_type": "display_data"
    },
    {
     "data": {
      "application/vnd.jupyter.widget-view+json": {
       "model_id": "4fe2c1acf83f4abca7082511790006f7",
       "version_major": 2,
       "version_minor": 0
      },
      "text/plain": [
       "  0%|          | 0/1 [00:00<?, ?it/s]"
      ]
     },
     "metadata": {},
     "output_type": "display_data"
    },
    {
     "data": {
      "application/vnd.jupyter.widget-view+json": {
       "model_id": "b64e7d20604548ee9d368e1cabc0f891",
       "version_major": 2,
       "version_minor": 0
      },
      "text/plain": [
       "  0%|          | 0/1 [00:00<?, ?it/s]"
      ]
     },
     "metadata": {},
     "output_type": "display_data"
    },
    {
     "data": {
      "application/vnd.jupyter.widget-view+json": {
       "model_id": "a80bd0aaa5aa44b79da326f15f9fe072",
       "version_major": 2,
       "version_minor": 0
      },
      "text/plain": [
       "  0%|          | 0/1 [00:00<?, ?it/s]"
      ]
     },
     "metadata": {},
     "output_type": "display_data"
    },
    {
     "data": {
      "application/vnd.jupyter.widget-view+json": {
       "model_id": "8e6b9666eb154db0841d769e653ee211",
       "version_major": 2,
       "version_minor": 0
      },
      "text/plain": [
       "  0%|          | 0/1 [00:00<?, ?it/s]"
      ]
     },
     "metadata": {},
     "output_type": "display_data"
    },
    {
     "data": {
      "application/vnd.jupyter.widget-view+json": {
       "model_id": "5121941695344319852a44b8502d312e",
       "version_major": 2,
       "version_minor": 0
      },
      "text/plain": [
       "  0%|          | 0/1 [00:00<?, ?it/s]"
      ]
     },
     "metadata": {},
     "output_type": "display_data"
    },
    {
     "data": {
      "application/vnd.jupyter.widget-view+json": {
       "model_id": "6e11634b678f47f2bff09bab2a12fd12",
       "version_major": 2,
       "version_minor": 0
      },
      "text/plain": [
       "  0%|          | 0/5 [00:00<?, ?it/s]"
      ]
     },
     "metadata": {},
     "output_type": "display_data"
    },
    {
     "data": {
      "application/vnd.jupyter.widget-view+json": {
       "model_id": "235366056053412581ec4874256b9636",
       "version_major": 2,
       "version_minor": 0
      },
      "text/plain": [
       "  0%|          | 0/1 [00:00<?, ?it/s]"
      ]
     },
     "metadata": {},
     "output_type": "display_data"
    },
    {
     "data": {
      "application/vnd.jupyter.widget-view+json": {
       "model_id": "59f31e2172b84f9ea2f3e0cc18235549",
       "version_major": 2,
       "version_minor": 0
      },
      "text/plain": [
       "  0%|          | 0/1 [00:00<?, ?it/s]"
      ]
     },
     "metadata": {},
     "output_type": "display_data"
    },
    {
     "data": {
      "application/vnd.jupyter.widget-view+json": {
       "model_id": "7b08ccb2798643d3be7e807218c86e92",
       "version_major": 2,
       "version_minor": 0
      },
      "text/plain": [
       "  0%|          | 0/1 [00:00<?, ?it/s]"
      ]
     },
     "metadata": {},
     "output_type": "display_data"
    },
    {
     "data": {
      "application/vnd.jupyter.widget-view+json": {
       "model_id": "670b4366e087422b8d5ae4bbe9985aa5",
       "version_major": 2,
       "version_minor": 0
      },
      "text/plain": [
       "  0%|          | 0/1 [00:00<?, ?it/s]"
      ]
     },
     "metadata": {},
     "output_type": "display_data"
    },
    {
     "data": {
      "application/vnd.jupyter.widget-view+json": {
       "model_id": "f795920a8d934856b4104e3ef1a9410e",
       "version_major": 2,
       "version_minor": 0
      },
      "text/plain": [
       "  0%|          | 0/1 [00:00<?, ?it/s]"
      ]
     },
     "metadata": {},
     "output_type": "display_data"
    },
    {
     "data": {
      "application/vnd.jupyter.widget-view+json": {
       "model_id": "a49c3d1d49394f6bbad321075bc50d08",
       "version_major": 2,
       "version_minor": 0
      },
      "text/plain": [
       "  0%|          | 0/5 [00:00<?, ?it/s]"
      ]
     },
     "metadata": {},
     "output_type": "display_data"
    },
    {
     "data": {
      "application/vnd.jupyter.widget-view+json": {
       "model_id": "f8491b2adcd84a6caeba29e77df29820",
       "version_major": 2,
       "version_minor": 0
      },
      "text/plain": [
       "  0%|          | 0/1 [00:00<?, ?it/s]"
      ]
     },
     "metadata": {},
     "output_type": "display_data"
    },
    {
     "data": {
      "application/vnd.jupyter.widget-view+json": {
       "model_id": "4c7c6d4b84c04f28a6531d24778be73f",
       "version_major": 2,
       "version_minor": 0
      },
      "text/plain": [
       "  0%|          | 0/1 [00:00<?, ?it/s]"
      ]
     },
     "metadata": {},
     "output_type": "display_data"
    },
    {
     "data": {
      "application/vnd.jupyter.widget-view+json": {
       "model_id": "41e7cf32d3b44e058ac017cbe586b11d",
       "version_major": 2,
       "version_minor": 0
      },
      "text/plain": [
       "  0%|          | 0/1 [00:00<?, ?it/s]"
      ]
     },
     "metadata": {},
     "output_type": "display_data"
    },
    {
     "data": {
      "application/vnd.jupyter.widget-view+json": {
       "model_id": "513210dbe500486d8da926007d339805",
       "version_major": 2,
       "version_minor": 0
      },
      "text/plain": [
       "  0%|          | 0/1 [00:00<?, ?it/s]"
      ]
     },
     "metadata": {},
     "output_type": "display_data"
    },
    {
     "data": {
      "application/vnd.jupyter.widget-view+json": {
       "model_id": "6b428788d51045a7a81cf544787924de",
       "version_major": 2,
       "version_minor": 0
      },
      "text/plain": [
       "  0%|          | 0/1 [00:00<?, ?it/s]"
      ]
     },
     "metadata": {},
     "output_type": "display_data"
    },
    {
     "data": {
      "application/vnd.jupyter.widget-view+json": {
       "model_id": "e6ca817b0cbe4abc9a820b29b3db9ccd",
       "version_major": 2,
       "version_minor": 0
      },
      "text/plain": [
       "  0%|          | 0/5 [00:00<?, ?it/s]"
      ]
     },
     "metadata": {},
     "output_type": "display_data"
    },
    {
     "data": {
      "application/vnd.jupyter.widget-view+json": {
       "model_id": "1f0b2ab386764da08116172c2bdfd60b",
       "version_major": 2,
       "version_minor": 0
      },
      "text/plain": [
       "  0%|          | 0/1 [00:00<?, ?it/s]"
      ]
     },
     "metadata": {},
     "output_type": "display_data"
    },
    {
     "data": {
      "application/vnd.jupyter.widget-view+json": {
       "model_id": "37618e34a7e74886a84608a7df315492",
       "version_major": 2,
       "version_minor": 0
      },
      "text/plain": [
       "  0%|          | 0/1 [00:00<?, ?it/s]"
      ]
     },
     "metadata": {},
     "output_type": "display_data"
    },
    {
     "data": {
      "application/vnd.jupyter.widget-view+json": {
       "model_id": "b7d91289367e46059fe724e60fe8b4b7",
       "version_major": 2,
       "version_minor": 0
      },
      "text/plain": [
       "  0%|          | 0/1 [00:00<?, ?it/s]"
      ]
     },
     "metadata": {},
     "output_type": "display_data"
    },
    {
     "data": {
      "application/vnd.jupyter.widget-view+json": {
       "model_id": "123570b5204043d9afd9d692acb1f495",
       "version_major": 2,
       "version_minor": 0
      },
      "text/plain": [
       "  0%|          | 0/1 [00:00<?, ?it/s]"
      ]
     },
     "metadata": {},
     "output_type": "display_data"
    },
    {
     "data": {
      "application/vnd.jupyter.widget-view+json": {
       "model_id": "6e5cfe41087b4608ae6d6c0dd0a15651",
       "version_major": 2,
       "version_minor": 0
      },
      "text/plain": [
       "  0%|          | 0/1 [00:00<?, ?it/s]"
      ]
     },
     "metadata": {},
     "output_type": "display_data"
    },
    {
     "name": "stdout",
     "output_type": "stream",
     "text": [
      "BETATYPE:  rooms\n",
      "...VIDEOTYPE:  rooms\n",
      ".......HEM:  None\n",
      "no need to re-order ,no need to re-order ,no need to re-order ,no need to re-order ,no need to re-order ,no need to re-order ,no need to re-order ,no need to re-order ,no need to re-order ,no need to re-order ,no need to re-order ,no need to re-order ,no need to re-order ,no need to re-order ,no need to re-order ,no need to re-order ,no need to re-order ,no need to re-order ,no need to re-order ,no need to re-order ,no need to re-order ,no need to re-order ,no need to re-order ,no need to re-order ,no need to re-order ,...VIDEOTYPE:  objects\n",
      ".......HEM:  None\n",
      "no need to re-order ,no need to re-order ,no need to re-order ,no need to re-order ,no need to re-order ,no need to re-order ,no need to re-order ,no need to re-order ,no need to re-order ,no need to re-order ,no need to re-order ,no need to re-order ,no need to re-order ,no need to re-order ,no need to re-order ,no need to re-order ,no need to re-order ,no need to re-order ,no need to re-order ,no need to re-order ,no need to re-order ,no need to re-order ,no need to re-order ,no need to re-order ,no need to re-order ,BETATYPE:  objects\n",
      "...VIDEOTYPE:  rooms\n",
      ".......HEM:  None\n",
      "...VIDEOTYPE:  objects\n",
      ".......HEM:  None\n"
     ]
    },
    {
     "data": {
      "application/vnd.jupyter.widget-view+json": {
       "model_id": "160e4088ae0440d8991d677f200cb381",
       "version_major": 2,
       "version_minor": 0
      },
      "text/plain": [
       "  0%|          | 0/2 [00:00<?, ?it/s]"
      ]
     },
     "metadata": {},
     "output_type": "display_data"
    },
    {
     "data": {
      "application/vnd.jupyter.widget-view+json": {
       "model_id": "7ebb8ea73121457ba431d332eaf9a4e6",
       "version_major": 2,
       "version_minor": 0
      },
      "text/plain": [
       "  0%|          | 0/5 [00:00<?, ?it/s]"
      ]
     },
     "metadata": {},
     "output_type": "display_data"
    },
    {
     "data": {
      "application/vnd.jupyter.widget-view+json": {
       "model_id": "4b76762cf00d45a7884ffa31676b4a98",
       "version_major": 2,
       "version_minor": 0
      },
      "text/plain": [
       "  0%|          | 0/1 [00:00<?, ?it/s]"
      ]
     },
     "metadata": {},
     "output_type": "display_data"
    },
    {
     "data": {
      "application/vnd.jupyter.widget-view+json": {
       "model_id": "1d650a4114424b37a72d744f65df2d3d",
       "version_major": 2,
       "version_minor": 0
      },
      "text/plain": [
       "  0%|          | 0/1 [00:00<?, ?it/s]"
      ]
     },
     "metadata": {},
     "output_type": "display_data"
    },
    {
     "data": {
      "application/vnd.jupyter.widget-view+json": {
       "model_id": "d7a971978362479e94e59a61c4341c60",
       "version_major": 2,
       "version_minor": 0
      },
      "text/plain": [
       "  0%|          | 0/1 [00:00<?, ?it/s]"
      ]
     },
     "metadata": {},
     "output_type": "display_data"
    },
    {
     "data": {
      "application/vnd.jupyter.widget-view+json": {
       "model_id": "5ab02d67e3e94a19958e516ec4bb340a",
       "version_major": 2,
       "version_minor": 0
      },
      "text/plain": [
       "  0%|          | 0/1 [00:00<?, ?it/s]"
      ]
     },
     "metadata": {},
     "output_type": "display_data"
    },
    {
     "data": {
      "application/vnd.jupyter.widget-view+json": {
       "model_id": "b99ec49d75614c419ebf63f829d29161",
       "version_major": 2,
       "version_minor": 0
      },
      "text/plain": [
       "  0%|          | 0/1 [00:00<?, ?it/s]"
      ]
     },
     "metadata": {},
     "output_type": "display_data"
    },
    {
     "data": {
      "application/vnd.jupyter.widget-view+json": {
       "model_id": "93d909f4cdf948bebd1d98f121a29fbb",
       "version_major": 2,
       "version_minor": 0
      },
      "text/plain": [
       "  0%|          | 0/5 [00:00<?, ?it/s]"
      ]
     },
     "metadata": {},
     "output_type": "display_data"
    },
    {
     "data": {
      "application/vnd.jupyter.widget-view+json": {
       "model_id": "75eb66cad2104c08986deae06f6a5953",
       "version_major": 2,
       "version_minor": 0
      },
      "text/plain": [
       "  0%|          | 0/1 [00:00<?, ?it/s]"
      ]
     },
     "metadata": {},
     "output_type": "display_data"
    },
    {
     "data": {
      "application/vnd.jupyter.widget-view+json": {
       "model_id": "23d774bd193f4b0f88afbef1ab7dc1a9",
       "version_major": 2,
       "version_minor": 0
      },
      "text/plain": [
       "  0%|          | 0/1 [00:00<?, ?it/s]"
      ]
     },
     "metadata": {},
     "output_type": "display_data"
    },
    {
     "data": {
      "application/vnd.jupyter.widget-view+json": {
       "model_id": "599d14fb555d4535847a7f8026e2de61",
       "version_major": 2,
       "version_minor": 0
      },
      "text/plain": [
       "  0%|          | 0/1 [00:00<?, ?it/s]"
      ]
     },
     "metadata": {},
     "output_type": "display_data"
    },
    {
     "data": {
      "application/vnd.jupyter.widget-view+json": {
       "model_id": "73967795ab994e948edac0f18ef7cb0b",
       "version_major": 2,
       "version_minor": 0
      },
      "text/plain": [
       "  0%|          | 0/1 [00:00<?, ?it/s]"
      ]
     },
     "metadata": {},
     "output_type": "display_data"
    },
    {
     "data": {
      "application/vnd.jupyter.widget-view+json": {
       "model_id": "b89c47be748c445d886c9cf0c12d23e5",
       "version_major": 2,
       "version_minor": 0
      },
      "text/plain": [
       "  0%|          | 0/1 [00:00<?, ?it/s]"
      ]
     },
     "metadata": {},
     "output_type": "display_data"
    },
    {
     "data": {
      "application/vnd.jupyter.widget-view+json": {
       "model_id": "96fdd28507894dfa808b9a9967bb5562",
       "version_major": 2,
       "version_minor": 0
      },
      "text/plain": [
       "  0%|          | 0/5 [00:00<?, ?it/s]"
      ]
     },
     "metadata": {},
     "output_type": "display_data"
    },
    {
     "data": {
      "application/vnd.jupyter.widget-view+json": {
       "model_id": "8b82f7e9b340421485d9d971cee423ce",
       "version_major": 2,
       "version_minor": 0
      },
      "text/plain": [
       "  0%|          | 0/1 [00:00<?, ?it/s]"
      ]
     },
     "metadata": {},
     "output_type": "display_data"
    },
    {
     "data": {
      "application/vnd.jupyter.widget-view+json": {
       "model_id": "a745a38e91fa4a76adf825f571a66c18",
       "version_major": 2,
       "version_minor": 0
      },
      "text/plain": [
       "  0%|          | 0/1 [00:00<?, ?it/s]"
      ]
     },
     "metadata": {},
     "output_type": "display_data"
    },
    {
     "data": {
      "application/vnd.jupyter.widget-view+json": {
       "model_id": "2a1e08d2b8f845bc83c00230f7314d2e",
       "version_major": 2,
       "version_minor": 0
      },
      "text/plain": [
       "  0%|          | 0/1 [00:00<?, ?it/s]"
      ]
     },
     "metadata": {},
     "output_type": "display_data"
    },
    {
     "data": {
      "application/vnd.jupyter.widget-view+json": {
       "model_id": "cceaeea2dc2c4d5bb6a9f859765ccfc4",
       "version_major": 2,
       "version_minor": 0
      },
      "text/plain": [
       "  0%|          | 0/1 [00:00<?, ?it/s]"
      ]
     },
     "metadata": {},
     "output_type": "display_data"
    },
    {
     "data": {
      "application/vnd.jupyter.widget-view+json": {
       "model_id": "fc7370e876f14026a3499f6c68d82b79",
       "version_major": 2,
       "version_minor": 0
      },
      "text/plain": [
       "  0%|          | 0/1 [00:00<?, ?it/s]"
      ]
     },
     "metadata": {},
     "output_type": "display_data"
    },
    {
     "data": {
      "application/vnd.jupyter.widget-view+json": {
       "model_id": "d3b2ab8cb7aa41a2b6240a272628625b",
       "version_major": 2,
       "version_minor": 0
      },
      "text/plain": [
       "  0%|          | 0/5 [00:00<?, ?it/s]"
      ]
     },
     "metadata": {},
     "output_type": "display_data"
    },
    {
     "data": {
      "application/vnd.jupyter.widget-view+json": {
       "model_id": "a1524e65bfee49688f157324eea0e2b1",
       "version_major": 2,
       "version_minor": 0
      },
      "text/plain": [
       "  0%|          | 0/1 [00:00<?, ?it/s]"
      ]
     },
     "metadata": {},
     "output_type": "display_data"
    },
    {
     "data": {
      "application/vnd.jupyter.widget-view+json": {
       "model_id": "51c43d4fd705408f993f9ae6788d1c35",
       "version_major": 2,
       "version_minor": 0
      },
      "text/plain": [
       "  0%|          | 0/1 [00:00<?, ?it/s]"
      ]
     },
     "metadata": {},
     "output_type": "display_data"
    },
    {
     "data": {
      "application/vnd.jupyter.widget-view+json": {
       "model_id": "7d0cf130ba1548d5a61340106f38f7eb",
       "version_major": 2,
       "version_minor": 0
      },
      "text/plain": [
       "  0%|          | 0/1 [00:00<?, ?it/s]"
      ]
     },
     "metadata": {},
     "output_type": "display_data"
    },
    {
     "data": {
      "application/vnd.jupyter.widget-view+json": {
       "model_id": "f070dd7f5cd64009bafeb4a1a75c65d0",
       "version_major": 2,
       "version_minor": 0
      },
      "text/plain": [
       "  0%|          | 0/1 [00:00<?, ?it/s]"
      ]
     },
     "metadata": {},
     "output_type": "display_data"
    },
    {
     "data": {
      "application/vnd.jupyter.widget-view+json": {
       "model_id": "23dbea6fffac4d0db6fb2100acae606c",
       "version_major": 2,
       "version_minor": 0
      },
      "text/plain": [
       "  0%|          | 0/1 [00:00<?, ?it/s]"
      ]
     },
     "metadata": {},
     "output_type": "display_data"
    },
    {
     "name": "stdout",
     "output_type": "stream",
     "text": [
      "BETATYPE:  rooms\n",
      "...VIDEOTYPE:  rooms\n",
      ".......HEM:  None\n",
      "no need to re-order ,no need to re-order ,no need to re-order ,no need to re-order ,no need to re-order ,no need to re-order ,no need to re-order ,no need to re-order ,no need to re-order ,no need to re-order ,no need to re-order ,no need to re-order ,no need to re-order ,no need to re-order ,no need to re-order ,no need to re-order ,no need to re-order ,no need to re-order ,no need to re-order ,no need to re-order ,no need to re-order ,no need to re-order ,no need to re-order ,no need to re-order ,no need to re-order ,...VIDEOTYPE:  objects\n",
      ".......HEM:  None\n",
      "no need to re-order ,no need to re-order ,no need to re-order ,no need to re-order ,no need to re-order ,no need to re-order ,no need to re-order ,no need to re-order ,no need to re-order ,no need to re-order ,no need to re-order ,no need to re-order ,no need to re-order ,no need to re-order ,no need to re-order ,no need to re-order ,no need to re-order ,no need to re-order ,no need to re-order ,no need to re-order ,no need to re-order ,no need to re-order ,no need to re-order ,no need to re-order ,no need to re-order ,BETATYPE:  objects\n",
      "...VIDEOTYPE:  rooms\n",
      ".......HEM:  None\n",
      "...VIDEOTYPE:  objects\n",
      ".......HEM:  None\n"
     ]
    }
   ],
   "source": [
    "### HIPPO\n",
    "\n",
    "\n",
    "betatypes = ['rooms','objects']\n",
    "videotypes = ['rooms','objects']\n",
    "hem_label='None'\n",
    "betatype_label='both'\n",
    "win_size=9\n",
    "shift=4\n",
    "\n",
    "\n",
    "hippo_ROV1_scores = {}\n",
    "hippo_ROV2_scores = {}\n",
    "for hipporoi in ['ahippo','phippo','hippo']:\n",
    "    print(hipporoi)\n",
    "#     date = 20240108_001; task_id = 1 # ROV1 after perm fix hippo\n",
    "    date = 20240401_001; task_id = 1 # ROV1 after perm fix hippo - second permutaiton fix\n",
    "    hippo_ROV1_scores[hipporoi] = ImportROV12(date,task_id,betatypes,videotypes,measure_list,roi=hipporoi,hems=['None'])\n",
    "    hippo_ROV1_scores[hipporoi] = GetCPsFromROV1or2(hippo_ROV1_scores[hipporoi],ReOrderCPs=True, roi=hipporoi,hems=['None'])\n",
    "\n",
    "\n",
    "#     date = 20240108_002; task_id = 2 # ROV2 after perm fix hippo\n",
    "    date = 20240401_002; task_id = 2 # ROV2 after perm fix hippo - second permutation fix\n",
    "    hippo_ROV2_scores[hipporoi] = ImportROV12(date,task_id,betatypes,videotypes,measure_list,roi=hipporoi,hems=['None'])\n",
    "    hippo_ROV2_scores[hipporoi] = GetCPsFromROV1or2(hippo_ROV2_scores[hipporoi],ReOrderCPs=True,roi=hipporoi, hems=['None'])\n"
   ]
  },
  {
   "cell_type": "code",
   "execution_count": null,
   "metadata": {},
   "outputs": [],
   "source": []
  },
  {
   "cell_type": "code",
   "execution_count": 18,
   "metadata": {},
   "outputs": [
    {
     "data": {
      "image/png": "[encoded data removed]",
      "text/plain": [
       "<Figure size 432x288 with 1 Axes>"
      ]
     },
     "metadata": {
      "needs_background": "light"
     },
     "output_type": "display_data"
    }
   ],
   "source": [
    "##### \n",
    "##### 20240411 == double checking confusion mat accuracy is the same as scikitleran score!\n",
    "#####\n",
    "\n",
    "# confusion matrix accuracy for ROV1 anterior hippo\n",
    "cf = hippo_ROV1_scores['ahippo']['objects']['rooms']['conf_mat']['None'].squeeze()\n",
    "x = [np.diag(cf[:,:,i]).sum()/np.sum(cf[:,:,i]) for i in range(25)]\n",
    "\n",
    "# sklearn accuracy\n",
    "y = hippo_ROV1_scores['ahippo']['objects']['rooms']['accuracy']['None'].squeeze()[:,0]\n",
    "\n",
    "# plt.scatter(x,y);plt.tight_layout()\n",
    "plt.figure()\n",
    "plt.plot(x,linestyle='--',label='confmat acc'); plt.plot(y, linestyle=(0, (5, 10)),label='sklearn acc', linewidth=4)\n",
    "plt.ylabel('accuracy'); plt.xlabel(\"subj\");plt.title(\"ROV1 object classification on room videos\");\n",
    "plt.legend();"
   ]
  },
  {
   "cell_type": "markdown",
   "metadata": {},
   "source": [
    "### (3) import classification scores for recalled objects and perceived objects for SLs\n",
    "\n",
    "this is so that we have all the scores and we can compare."
   ]
  },
  {
   "cell_type": "code",
   "execution_count": 62,
   "metadata": {},
   "outputs": [
    {
     "data": {
      "text/plain": [
       "'phippo'"
      ]
     },
     "execution_count": 62,
     "metadata": {},
     "output_type": "execute_result"
    }
   ],
   "source": [
    "roi"
   ]
  },
  {
   "cell_type": "code",
   "execution_count": 182,
   "metadata": {},
   "outputs": [
    {
     "name": "stderr",
     "output_type": "stream",
     "text": [
      "/jukebox/pkgs/PYGER/0.9.1/lib/python3.7/site-packages/ipykernel_launcher.py:46: TqdmDeprecationWarning: This function will be removed in tqdm==5.0.0\n",
      "Please use `tqdm.notebook.tqdm` instead of `tqdm.tqdm_notebook`\n"
     ]
    },
    {
     "data": {
      "application/vnd.jupyter.widget-view+json": {
       "model_id": "fe13b1462f4448a1940a57f0fd439034",
       "version_major": 2,
       "version_minor": 0
      },
      "text/plain": [
       "  0%|          | 0/2 [00:00<?, ?it/s]"
      ]
     },
     "metadata": {},
     "output_type": "display_data"
    },
    {
     "name": "stderr",
     "output_type": "stream",
     "text": [
      "/jukebox/pkgs/PYGER/0.9.1/lib/python3.7/site-packages/ipykernel_launcher.py:52: TqdmDeprecationWarning: This function will be removed in tqdm==5.0.0\n",
      "Please use `tqdm.notebook.tqdm` instead of `tqdm.tqdm_notebook`\n"
     ]
    },
    {
     "data": {
      "application/vnd.jupyter.widget-view+json": {
       "model_id": "04f00825063b4eb681dbbd6274678ebe",
       "version_major": 2,
       "version_minor": 0
      },
      "text/plain": [
       "  0%|          | 0/4 [00:00<?, ?it/s]"
      ]
     },
     "metadata": {},
     "output_type": "display_data"
    },
    {
     "name": "stderr",
     "output_type": "stream",
     "text": [
      "/jukebox/pkgs/PYGER/0.9.1/lib/python3.7/site-packages/ipykernel_launcher.py:84: TqdmDeprecationWarning: This function will be removed in tqdm==5.0.0\n",
      "Please use `tqdm.notebook.tqdm` instead of `tqdm.tqdm_notebook`\n"
     ]
    },
    {
     "data": {
      "application/vnd.jupyter.widget-view+json": {
       "model_id": "c1ae33218cb74afb8d50bfdf6658997e",
       "version_major": 2,
       "version_minor": 0
      },
      "text/plain": [
       "  0%|          | 0/1483 [00:00<?, ?it/s]"
      ]
     },
     "metadata": {},
     "output_type": "display_data"
    },
    {
     "data": {
      "application/vnd.jupyter.widget-view+json": {
       "model_id": "7380d5bbeed149ff9c2c73d91cf09911",
       "version_major": 2,
       "version_minor": 0
      },
      "text/plain": [
       "  0%|          | 0/1483 [00:00<?, ?it/s]"
      ]
     },
     "metadata": {},
     "output_type": "display_data"
    },
    {
     "data": {
      "application/vnd.jupyter.widget-view+json": {
       "model_id": "f8063a55208b450ca652efd52c59311a",
       "version_major": 2,
       "version_minor": 0
      },
      "text/plain": [
       "  0%|          | 0/1483 [00:00<?, ?it/s]"
      ]
     },
     "metadata": {},
     "output_type": "display_data"
    },
    {
     "data": {
      "application/vnd.jupyter.widget-view+json": {
       "model_id": "853266dad4f14e84be2275c992a151d9",
       "version_major": 2,
       "version_minor": 0
      },
      "text/plain": [
       "  0%|          | 0/1483 [00:00<?, ?it/s]"
      ]
     },
     "metadata": {},
     "output_type": "display_data"
    },
    {
     "data": {
      "application/vnd.jupyter.widget-view+json": {
       "model_id": "f2af78f92b0d436fa0a2a83ef51587f3",
       "version_major": 2,
       "version_minor": 0
      },
      "text/plain": [
       "  0%|          | 0/1483 [00:00<?, ?it/s]"
      ]
     },
     "metadata": {},
     "output_type": "display_data"
    },
    {
     "data": {
      "application/vnd.jupyter.widget-view+json": {
       "model_id": "d7ebacc6b8fd47de8a7c6be20b602377",
       "version_major": 2,
       "version_minor": 0
      },
      "text/plain": [
       "  0%|          | 0/1483 [00:00<?, ?it/s]"
      ]
     },
     "metadata": {},
     "output_type": "display_data"
    },
    {
     "data": {
      "application/vnd.jupyter.widget-view+json": {
       "model_id": "8b3dd9cb747c4f3fb978464032d78688",
       "version_major": 2,
       "version_minor": 0
      },
      "text/plain": [
       "  0%|          | 0/1483 [00:00<?, ?it/s]"
      ]
     },
     "metadata": {},
     "output_type": "display_data"
    },
    {
     "data": {
      "application/vnd.jupyter.widget-view+json": {
       "model_id": "b7f3e0b211414a84a601f4d793d29038",
       "version_major": 2,
       "version_minor": 0
      },
      "text/plain": [
       "  0%|          | 0/1483 [00:00<?, ?it/s]"
      ]
     },
     "metadata": {},
     "output_type": "display_data"
    },
    {
     "data": {
      "application/vnd.jupyter.widget-view+json": {
       "model_id": "eac3a2617f604f2782559339a9df0651",
       "version_major": 2,
       "version_minor": 0
      },
      "text/plain": [
       "  0%|          | 0/4 [00:00<?, ?it/s]"
      ]
     },
     "metadata": {},
     "output_type": "display_data"
    },
    {
     "data": {
      "application/vnd.jupyter.widget-view+json": {
       "model_id": "e0eaf1eabc47421da04d67d0dce6889a",
       "version_major": 2,
       "version_minor": 0
      },
      "text/plain": [
       "  0%|          | 0/1483 [00:00<?, ?it/s]"
      ]
     },
     "metadata": {},
     "output_type": "display_data"
    },
    {
     "data": {
      "application/vnd.jupyter.widget-view+json": {
       "model_id": "50e62a65a23148cbb78b0be7bd282013",
       "version_major": 2,
       "version_minor": 0
      },
      "text/plain": [
       "  0%|          | 0/1483 [00:00<?, ?it/s]"
      ]
     },
     "metadata": {},
     "output_type": "display_data"
    },
    {
     "data": {
      "application/vnd.jupyter.widget-view+json": {
       "model_id": "6582b5395a904a24a05133e554c38c00",
       "version_major": 2,
       "version_minor": 0
      },
      "text/plain": [
       "  0%|          | 0/1483 [00:00<?, ?it/s]"
      ]
     },
     "metadata": {},
     "output_type": "display_data"
    },
    {
     "data": {
      "application/vnd.jupyter.widget-view+json": {
       "model_id": "4928fdda6e05422580cb142264d1d14d",
       "version_major": 2,
       "version_minor": 0
      },
      "text/plain": [
       "  0%|          | 0/1483 [00:00<?, ?it/s]"
      ]
     },
     "metadata": {},
     "output_type": "display_data"
    },
    {
     "data": {
      "application/vnd.jupyter.widget-view+json": {
       "model_id": "15c6dfd2d2cf4705ba44d07990d8fba6",
       "version_major": 2,
       "version_minor": 0
      },
      "text/plain": [
       "  0%|          | 0/1483 [00:00<?, ?it/s]"
      ]
     },
     "metadata": {},
     "output_type": "display_data"
    },
    {
     "data": {
      "application/vnd.jupyter.widget-view+json": {
       "model_id": "b71b101408264b839517edddea33f8f2",
       "version_major": 2,
       "version_minor": 0
      },
      "text/plain": [
       "  0%|          | 0/1483 [00:00<?, ?it/s]"
      ]
     },
     "metadata": {},
     "output_type": "display_data"
    },
    {
     "data": {
      "application/vnd.jupyter.widget-view+json": {
       "model_id": "f2c17d61acf64afc972161270c87ea28",
       "version_major": 2,
       "version_minor": 0
      },
      "text/plain": [
       "  0%|          | 0/1483 [00:00<?, ?it/s]"
      ]
     },
     "metadata": {},
     "output_type": "display_data"
    },
    {
     "data": {
      "application/vnd.jupyter.widget-view+json": {
       "model_id": "a78675866337476f9adb0e95fdd98b55",
       "version_major": 2,
       "version_minor": 0
      },
      "text/plain": [
       "  0%|          | 0/1483 [00:00<?, ?it/s]"
      ]
     },
     "metadata": {},
     "output_type": "display_data"
    },
    {
     "data": {
      "application/vnd.jupyter.widget-view+json": {
       "model_id": "502de2f2938b4734892846e9a6cc24c2",
       "version_major": 2,
       "version_minor": 0
      },
      "text/plain": [
       "  0%|          | 0/4 [00:00<?, ?it/s]"
      ]
     },
     "metadata": {},
     "output_type": "display_data"
    },
    {
     "data": {
      "application/vnd.jupyter.widget-view+json": {
       "model_id": "0edf37bcf9ee4bc98530d407277b7a22",
       "version_major": 2,
       "version_minor": 0
      },
      "text/plain": [
       "  0%|          | 0/1483 [00:00<?, ?it/s]"
      ]
     },
     "metadata": {},
     "output_type": "display_data"
    },
    {
     "data": {
      "application/vnd.jupyter.widget-view+json": {
       "model_id": "013aeb03f3a8400cab4b869b77a0de22",
       "version_major": 2,
       "version_minor": 0
      },
      "text/plain": [
       "  0%|          | 0/1483 [00:00<?, ?it/s]"
      ]
     },
     "metadata": {},
     "output_type": "display_data"
    },
    {
     "data": {
      "application/vnd.jupyter.widget-view+json": {
       "model_id": "c489db478e944823a7f9e8f4858c3b0d",
       "version_major": 2,
       "version_minor": 0
      },
      "text/plain": [
       "  0%|          | 0/1483 [00:00<?, ?it/s]"
      ]
     },
     "metadata": {},
     "output_type": "display_data"
    },
    {
     "data": {
      "application/vnd.jupyter.widget-view+json": {
       "model_id": "55966382fa134208b17da6d9ee68c8de",
       "version_major": 2,
       "version_minor": 0
      },
      "text/plain": [
       "  0%|          | 0/1483 [00:00<?, ?it/s]"
      ]
     },
     "metadata": {},
     "output_type": "display_data"
    },
    {
     "data": {
      "application/vnd.jupyter.widget-view+json": {
       "model_id": "c0ad3f1a3f2b4a09adfcbc74be533497",
       "version_major": 2,
       "version_minor": 0
      },
      "text/plain": [
       "  0%|          | 0/1483 [00:00<?, ?it/s]"
      ]
     },
     "metadata": {},
     "output_type": "display_data"
    },
    {
     "data": {
      "application/vnd.jupyter.widget-view+json": {
       "model_id": "a2412e9f0e2c411483f829cb7e77e917",
       "version_major": 2,
       "version_minor": 0
      },
      "text/plain": [
       "  0%|          | 0/1483 [00:00<?, ?it/s]"
      ]
     },
     "metadata": {},
     "output_type": "display_data"
    },
    {
     "data": {
      "application/vnd.jupyter.widget-view+json": {
       "model_id": "acf4215a569949e798b613b0f40edbb8",
       "version_major": 2,
       "version_minor": 0
      },
      "text/plain": [
       "  0%|          | 0/1483 [00:00<?, ?it/s]"
      ]
     },
     "metadata": {},
     "output_type": "display_data"
    },
    {
     "data": {
      "application/vnd.jupyter.widget-view+json": {
       "model_id": "fa7e8455f1894a80a6dbb9e7e6098454",
       "version_major": 2,
       "version_minor": 0
      },
      "text/plain": [
       "  0%|          | 0/1483 [00:00<?, ?it/s]"
      ]
     },
     "metadata": {},
     "output_type": "display_data"
    },
    {
     "data": {
      "application/vnd.jupyter.widget-view+json": {
       "model_id": "2ba6b29de61a4ba280eaa293bf471b58",
       "version_major": 2,
       "version_minor": 0
      },
      "text/plain": [
       "  0%|          | 0/4 [00:00<?, ?it/s]"
      ]
     },
     "metadata": {},
     "output_type": "display_data"
    },
    {
     "data": {
      "application/vnd.jupyter.widget-view+json": {
       "model_id": "ec4889708a444e3ea12cd85accf1a333",
       "version_major": 2,
       "version_minor": 0
      },
      "text/plain": [
       "  0%|          | 0/1483 [00:00<?, ?it/s]"
      ]
     },
     "metadata": {},
     "output_type": "display_data"
    },
    {
     "data": {
      "application/vnd.jupyter.widget-view+json": {
       "model_id": "25eafaee83a3452cb75e3dfe98efaba2",
       "version_major": 2,
       "version_minor": 0
      },
      "text/plain": [
       "  0%|          | 0/1483 [00:00<?, ?it/s]"
      ]
     },
     "metadata": {},
     "output_type": "display_data"
    },
    {
     "data": {
      "application/vnd.jupyter.widget-view+json": {
       "model_id": "ac70483d2c6b46ae91e0666daae18ebb",
       "version_major": 2,
       "version_minor": 0
      },
      "text/plain": [
       "  0%|          | 0/1483 [00:00<?, ?it/s]"
      ]
     },
     "metadata": {},
     "output_type": "display_data"
    },
    {
     "data": {
      "application/vnd.jupyter.widget-view+json": {
       "model_id": "4935700337bd465a8edfbd5933b1ec99",
       "version_major": 2,
       "version_minor": 0
      },
      "text/plain": [
       "  0%|          | 0/1483 [00:00<?, ?it/s]"
      ]
     },
     "metadata": {},
     "output_type": "display_data"
    },
    {
     "data": {
      "application/vnd.jupyter.widget-view+json": {
       "model_id": "20479addfccb474488fcfc8867fdeadb",
       "version_major": 2,
       "version_minor": 0
      },
      "text/plain": [
       "  0%|          | 0/1483 [00:00<?, ?it/s]"
      ]
     },
     "metadata": {},
     "output_type": "display_data"
    },
    {
     "data": {
      "application/vnd.jupyter.widget-view+json": {
       "model_id": "9a35ab38554b413d8042b188c1d9a9c4",
       "version_major": 2,
       "version_minor": 0
      },
      "text/plain": [
       "  0%|          | 0/1483 [00:00<?, ?it/s]"
      ]
     },
     "metadata": {},
     "output_type": "display_data"
    },
    {
     "data": {
      "application/vnd.jupyter.widget-view+json": {
       "model_id": "e5f49135055949ad942a7682aa2c17ce",
       "version_major": 2,
       "version_minor": 0
      },
      "text/plain": [
       "  0%|          | 0/1483 [00:00<?, ?it/s]"
      ]
     },
     "metadata": {},
     "output_type": "display_data"
    },
    {
     "data": {
      "application/vnd.jupyter.widget-view+json": {
       "model_id": "362a6de41dca4916994ff6d3159db477",
       "version_major": 2,
       "version_minor": 0
      },
      "text/plain": [
       "  0%|          | 0/1483 [00:00<?, ?it/s]"
      ]
     },
     "metadata": {},
     "output_type": "display_data"
    },
    {
     "name": "stdout",
     "output_type": "stream",
     "text": [
      "BETATYPE:  rooms\n",
      "...VIDEOTYPE:  rooms\n",
      ".......HEM:  L\n",
      ".......HEM:  R\n",
      "no need to re-order ,no need to re-order ,no need to re-order ,no need to re-order ,no need to re-order ,no need to re-order ,no need to re-order ,no need to re-order ,no need to re-order ,no need to re-order ,no need to re-order ,no need to re-order ,no need to re-order ,no need to re-order ,no need to re-order ,no need to re-order ,no need to re-order ,no need to re-order ,no need to re-order ,no need to re-order ,no need to re-order ,no need to re-order ,no need to re-order ,no need to re-order ,no need to re-order ,...VIDEOTYPE:  objects\n",
      ".......HEM:  L\n",
      ".......HEM:  R\n",
      "no need to re-order ,no need to re-order ,no need to re-order ,no need to re-order ,no need to re-order ,no need to re-order ,no need to re-order ,no need to re-order ,no need to re-order ,no need to re-order ,no need to re-order ,no need to re-order ,no need to re-order ,no need to re-order ,no need to re-order ,no need to re-order ,no need to re-order ,no need to re-order ,no need to re-order ,no need to re-order ,no need to re-order ,no need to re-order ,no need to re-order ,no need to re-order ,no need to re-order ,BETATYPE:  objects\n",
      "...VIDEOTYPE:  rooms\n",
      ".......HEM:  L\n",
      ".......HEM:  R\n",
      "...VIDEOTYPE:  objects\n",
      ".......HEM:  L\n",
      ".......HEM:  R\n"
     ]
    },
    {
     "data": {
      "application/vnd.jupyter.widget-view+json": {
       "model_id": "965199aedc1a4466a5993b2c65364992",
       "version_major": 2,
       "version_minor": 0
      },
      "text/plain": [
       "  0%|          | 0/2 [00:00<?, ?it/s]"
      ]
     },
     "metadata": {},
     "output_type": "display_data"
    },
    {
     "data": {
      "application/vnd.jupyter.widget-view+json": {
       "model_id": "3390b29368654ad4bc11c44ae1ae9f66",
       "version_major": 2,
       "version_minor": 0
      },
      "text/plain": [
       "  0%|          | 0/4 [00:00<?, ?it/s]"
      ]
     },
     "metadata": {},
     "output_type": "display_data"
    },
    {
     "data": {
      "application/vnd.jupyter.widget-view+json": {
       "model_id": "9ab005641b834bc58b815ea45f065fe3",
       "version_major": 2,
       "version_minor": 0
      },
      "text/plain": [
       "  0%|          | 0/1483 [00:00<?, ?it/s]"
      ]
     },
     "metadata": {},
     "output_type": "display_data"
    },
    {
     "data": {
      "application/vnd.jupyter.widget-view+json": {
       "model_id": "062a0d17c8144369abe6cfda81af6eb4",
       "version_major": 2,
       "version_minor": 0
      },
      "text/plain": [
       "  0%|          | 0/1483 [00:00<?, ?it/s]"
      ]
     },
     "metadata": {},
     "output_type": "display_data"
    },
    {
     "data": {
      "application/vnd.jupyter.widget-view+json": {
       "model_id": "5e9aeca41fd945c7add60763f44699dc",
       "version_major": 2,
       "version_minor": 0
      },
      "text/plain": [
       "  0%|          | 0/1483 [00:00<?, ?it/s]"
      ]
     },
     "metadata": {},
     "output_type": "display_data"
    },
    {
     "data": {
      "application/vnd.jupyter.widget-view+json": {
       "model_id": "95a934e5f5b04ca48234d72afceba3f8",
       "version_major": 2,
       "version_minor": 0
      },
      "text/plain": [
       "  0%|          | 0/1483 [00:00<?, ?it/s]"
      ]
     },
     "metadata": {},
     "output_type": "display_data"
    },
    {
     "data": {
      "application/vnd.jupyter.widget-view+json": {
       "model_id": "047e8ad5da61450c89a9f881aa20fd8e",
       "version_major": 2,
       "version_minor": 0
      },
      "text/plain": [
       "  0%|          | 0/1483 [00:00<?, ?it/s]"
      ]
     },
     "metadata": {},
     "output_type": "display_data"
    },
    {
     "data": {
      "application/vnd.jupyter.widget-view+json": {
       "model_id": "234147cbfb934f4ebf4fe9f8d2122127",
       "version_major": 2,
       "version_minor": 0
      },
      "text/plain": [
       "  0%|          | 0/1483 [00:00<?, ?it/s]"
      ]
     },
     "metadata": {},
     "output_type": "display_data"
    },
    {
     "data": {
      "application/vnd.jupyter.widget-view+json": {
       "model_id": "220fa309048c4376bf240a0307dcd7aa",
       "version_major": 2,
       "version_minor": 0
      },
      "text/plain": [
       "  0%|          | 0/1483 [00:00<?, ?it/s]"
      ]
     },
     "metadata": {},
     "output_type": "display_data"
    },
    {
     "data": {
      "application/vnd.jupyter.widget-view+json": {
       "model_id": "c0cfced7329945e1b4e3a7a45eeda249",
       "version_major": 2,
       "version_minor": 0
      },
      "text/plain": [
       "  0%|          | 0/1483 [00:00<?, ?it/s]"
      ]
     },
     "metadata": {},
     "output_type": "display_data"
    },
    {
     "data": {
      "application/vnd.jupyter.widget-view+json": {
       "model_id": "45051b7086954d79a76e5ac0da4da5d5",
       "version_major": 2,
       "version_minor": 0
      },
      "text/plain": [
       "  0%|          | 0/4 [00:00<?, ?it/s]"
      ]
     },
     "metadata": {},
     "output_type": "display_data"
    },
    {
     "data": {
      "application/vnd.jupyter.widget-view+json": {
       "model_id": "3f34a9e52bd3480ba6a7dfa714913fbf",
       "version_major": 2,
       "version_minor": 0
      },
      "text/plain": [
       "  0%|          | 0/1483 [00:00<?, ?it/s]"
      ]
     },
     "metadata": {},
     "output_type": "display_data"
    },
    {
     "data": {
      "application/vnd.jupyter.widget-view+json": {
       "model_id": "ea104e99f262481d989f11f56fb2245d",
       "version_major": 2,
       "version_minor": 0
      },
      "text/plain": [
       "  0%|          | 0/1483 [00:00<?, ?it/s]"
      ]
     },
     "metadata": {},
     "output_type": "display_data"
    },
    {
     "data": {
      "application/vnd.jupyter.widget-view+json": {
       "model_id": "766bb63d8b2d410db21576ddc8438c0e",
       "version_major": 2,
       "version_minor": 0
      },
      "text/plain": [
       "  0%|          | 0/1483 [00:00<?, ?it/s]"
      ]
     },
     "metadata": {},
     "output_type": "display_data"
    },
    {
     "data": {
      "application/vnd.jupyter.widget-view+json": {
       "model_id": "c994f4ccfad648bfab31e7423e1e9924",
       "version_major": 2,
       "version_minor": 0
      },
      "text/plain": [
       "  0%|          | 0/1483 [00:00<?, ?it/s]"
      ]
     },
     "metadata": {},
     "output_type": "display_data"
    },
    {
     "data": {
      "application/vnd.jupyter.widget-view+json": {
       "model_id": "d0d50edcdccd47f8a164842594f05bfc",
       "version_major": 2,
       "version_minor": 0
      },
      "text/plain": [
       "  0%|          | 0/1483 [00:00<?, ?it/s]"
      ]
     },
     "metadata": {},
     "output_type": "display_data"
    },
    {
     "data": {
      "application/vnd.jupyter.widget-view+json": {
       "model_id": "0748f54919ac4965ab28ba12fb75e199",
       "version_major": 2,
       "version_minor": 0
      },
      "text/plain": [
       "  0%|          | 0/1483 [00:00<?, ?it/s]"
      ]
     },
     "metadata": {},
     "output_type": "display_data"
    },
    {
     "data": {
      "application/vnd.jupyter.widget-view+json": {
       "model_id": "3a59d0843d8c491c9762e367478db711",
       "version_major": 2,
       "version_minor": 0
      },
      "text/plain": [
       "  0%|          | 0/1483 [00:00<?, ?it/s]"
      ]
     },
     "metadata": {},
     "output_type": "display_data"
    },
    {
     "data": {
      "application/vnd.jupyter.widget-view+json": {
       "model_id": "ba8939fe312c4cf9b813af6c6c63c555",
       "version_major": 2,
       "version_minor": 0
      },
      "text/plain": [
       "  0%|          | 0/1483 [00:00<?, ?it/s]"
      ]
     },
     "metadata": {},
     "output_type": "display_data"
    },
    {
     "data": {
      "application/vnd.jupyter.widget-view+json": {
       "model_id": "d498af8d50144952b18efa74e0e41185",
       "version_major": 2,
       "version_minor": 0
      },
      "text/plain": [
       "  0%|          | 0/4 [00:00<?, ?it/s]"
      ]
     },
     "metadata": {},
     "output_type": "display_data"
    },
    {
     "data": {
      "application/vnd.jupyter.widget-view+json": {
       "model_id": "981a13c321d6441783d1db601381a5f1",
       "version_major": 2,
       "version_minor": 0
      },
      "text/plain": [
       "  0%|          | 0/1483 [00:00<?, ?it/s]"
      ]
     },
     "metadata": {},
     "output_type": "display_data"
    },
    {
     "ename": "KeyboardInterrupt",
     "evalue": "",
     "output_type": "error",
     "traceback": [
      "\u001b[0;31m---------------------------------------------------------------------------\u001b[0m",
      "\u001b[0;31mKeyError\u001b[0m                                  Traceback (most recent call last)",
      "\u001b[0;32m/jukebox/pkgs/PYGER/0.9.1/lib/python3.7/site-packages/deepdish/io/hdf5io.py\u001b[0m in \u001b[0;36m_load_level\u001b[0;34m(handler, level, pathtable)\u001b[0m\n\u001b[1;32m    470\u001b[0m     \u001b[0;32mtry\u001b[0m\u001b[0;34m:\u001b[0m\u001b[0;34m\u001b[0m\u001b[0;34m\u001b[0m\u001b[0m\n\u001b[0;32m--> 471\u001b[0;31m         \u001b[0;32mreturn\u001b[0m \u001b[0mpathtable\u001b[0m\u001b[0;34m[\u001b[0m\u001b[0mpathname\u001b[0m\u001b[0;34m]\u001b[0m\u001b[0;34m\u001b[0m\u001b[0;34m\u001b[0m\u001b[0m\n\u001b[0m\u001b[1;32m    472\u001b[0m     \u001b[0;32mexcept\u001b[0m \u001b[0mKeyError\u001b[0m\u001b[0;34m:\u001b[0m\u001b[0;34m\u001b[0m\u001b[0;34m\u001b[0m\u001b[0m\n",
      "\u001b[0;31mKeyError\u001b[0m: '/objects/rooms/L/current_room'",
      "\nDuring handling of the above exception, another exception occurred:\n",
      "\u001b[0;31mKeyboardInterrupt\u001b[0m                         Traceback (most recent call last)",
      "\u001b[0;32m<ipython-input-182-97b456d31655>\u001b[0m in \u001b[0;36m<module>\u001b[0;34m\u001b[0m\n\u001b[1;32m     73\u001b[0m \u001b[0mdate\u001b[0m \u001b[0;34m=\u001b[0m \u001b[0;36m20240401002\u001b[0m\u001b[0;34m;\u001b[0m \u001b[0mtask_id\u001b[0m \u001b[0;34m=\u001b[0m \u001b[0;36m2\u001b[0m \u001b[0;31m#for ROV2; task_id = 2\u001b[0m\u001b[0;34m\u001b[0m\u001b[0;34m\u001b[0m\u001b[0m\n\u001b[1;32m     74\u001b[0m \u001b[0;34m\u001b[0m\u001b[0m\n\u001b[0;32m---> 75\u001b[0;31m \u001b[0mROV2_scores\u001b[0m \u001b[0;34m=\u001b[0m \u001b[0mImportROV12\u001b[0m\u001b[0;34m(\u001b[0m\u001b[0mdate\u001b[0m\u001b[0;34m,\u001b[0m\u001b[0mtask_id\u001b[0m\u001b[0;34m,\u001b[0m\u001b[0mbetatypes\u001b[0m\u001b[0;34m,\u001b[0m\u001b[0mvideotypes\u001b[0m\u001b[0;34m,\u001b[0m\u001b[0mmeasure_list\u001b[0m\u001b[0;34m)\u001b[0m\u001b[0;34m\u001b[0m\u001b[0;34m\u001b[0m\u001b[0m\n\u001b[0m\u001b[1;32m     76\u001b[0m \u001b[0mROV2_scores\u001b[0m \u001b[0;34m=\u001b[0m \u001b[0mGetCPsFromROV1or2\u001b[0m\u001b[0;34m(\u001b[0m\u001b[0mROV2_scores\u001b[0m\u001b[0;34m,\u001b[0m\u001b[0mReOrderCPs\u001b[0m\u001b[0;34m=\u001b[0m\u001b[0;32mTrue\u001b[0m\u001b[0;34m)\u001b[0m\u001b[0;34m\u001b[0m\u001b[0;34m\u001b[0m\u001b[0m\n\u001b[1;32m     77\u001b[0m \u001b[0;34m\u001b[0m\u001b[0m\n",
      "\u001b[0;32m<ipython-input-68-3949170fb205>\u001b[0m in \u001b[0;36mImportROV12\u001b[0;34m(date, task_id, betatypes, videotypes, measure_list, roi, hems)\u001b[0m\n\u001b[1;32m     98\u001b[0m \u001b[0;34m\u001b[0m\u001b[0m\n\u001b[1;32m     99\u001b[0m                             \u001b[0;31m# (27, nSubj, 23 transitions)\u001b[0m\u001b[0;34m\u001b[0m\u001b[0;34m\u001b[0m\u001b[0;34m\u001b[0m\u001b[0m\n\u001b[0;32m--> 100\u001b[0;31m                             \u001b[0mtemp\u001b[0m \u001b[0;34m=\u001b[0m \u001b[0mdd\u001b[0m\u001b[0;34m.\u001b[0m\u001b[0mio\u001b[0m\u001b[0;34m.\u001b[0m\u001b[0mload\u001b[0m\u001b[0;34m(\u001b[0m\u001b[0mfullpath\u001b[0m\u001b[0;34m,\u001b[0m\u001b[0;34m'/{}/{}/{}/{}'\u001b[0m\u001b[0;34m.\u001b[0m\u001b[0mformat\u001b[0m\u001b[0;34m(\u001b[0m\u001b[0mbetatype\u001b[0m\u001b[0;34m,\u001b[0m\u001b[0mvideotype\u001b[0m\u001b[0;34m,\u001b[0m\u001b[0mhem\u001b[0m\u001b[0;34m,\u001b[0m\u001b[0mmeasuretype\u001b[0m\u001b[0;34m)\u001b[0m\u001b[0;34m)\u001b[0m\u001b[0;34m\u001b[0m\u001b[0;34m\u001b[0m\u001b[0m\n\u001b[0m\u001b[1;32m    101\u001b[0m                             \u001b[0mtemp\u001b[0m \u001b[0;34m=\u001b[0m \u001b[0mnp\u001b[0m\u001b[0;34m.\u001b[0m\u001b[0mnanmean\u001b[0m\u001b[0;34m(\u001b[0m\u001b[0mtemp\u001b[0m\u001b[0;34m,\u001b[0m\u001b[0maxis\u001b[0m\u001b[0;34m=\u001b[0m\u001b[0;36m2\u001b[0m\u001b[0;34m)\u001b[0m \u001b[0;31m#average out the 23 transitions\u001b[0m\u001b[0;34m\u001b[0m\u001b[0;34m\u001b[0m\u001b[0m\n\u001b[1;32m    102\u001b[0m                             \u001b[0mscores\u001b[0m\u001b[0;34m[\u001b[0m\u001b[0mbetatype\u001b[0m\u001b[0;34m]\u001b[0m\u001b[0;34m[\u001b[0m\u001b[0mvideotype\u001b[0m\u001b[0;34m]\u001b[0m\u001b[0;34m[\u001b[0m\u001b[0mmeasuretype\u001b[0m\u001b[0;34m]\u001b[0m\u001b[0;34m[\u001b[0m\u001b[0mhem\u001b[0m\u001b[0;34m]\u001b[0m\u001b[0;34m[\u001b[0m\u001b[0mri\u001b[0m\u001b[0;34m,\u001b[0m\u001b[0;34m]\u001b[0m \u001b[0;34m=\u001b[0m \u001b[0mtemp\u001b[0m\u001b[0;34m\u001b[0m\u001b[0;34m\u001b[0m\u001b[0m\n",
      "\u001b[0;32m/jukebox/pkgs/PYGER/0.9.1/lib/python3.7/site-packages/deepdish/io/hdf5io.py\u001b[0m in \u001b[0;36mload\u001b[0;34m(path, group, sel, unpack)\u001b[0m\n\u001b[1;32m    623\u001b[0m             \u001b[0;32mif\u001b[0m \u001b[0misinstance\u001b[0m\u001b[0;34m(\u001b[0m\u001b[0mgroup\u001b[0m\u001b[0;34m,\u001b[0m \u001b[0mstr\u001b[0m\u001b[0;34m)\u001b[0m\u001b[0;34m:\u001b[0m\u001b[0;34m\u001b[0m\u001b[0;34m\u001b[0m\u001b[0m\n\u001b[1;32m    624\u001b[0m                 data = _load_specific_level(h5file, h5file, group, sel=sel,\n\u001b[0;32m--> 625\u001b[0;31m                                             pathtable=pathtable)\n\u001b[0m\u001b[1;32m    626\u001b[0m             \u001b[0;32melse\u001b[0m\u001b[0;34m:\u001b[0m  \u001b[0;31m# Assume group is a list or tuple\u001b[0m\u001b[0;34m\u001b[0m\u001b[0;34m\u001b[0m\u001b[0m\n\u001b[1;32m    627\u001b[0m                 \u001b[0mdata\u001b[0m \u001b[0;34m=\u001b[0m \u001b[0;34m[\u001b[0m\u001b[0;34m]\u001b[0m\u001b[0;34m\u001b[0m\u001b[0;34m\u001b[0m\u001b[0m\n",
      "\u001b[0;32m/jukebox/pkgs/PYGER/0.9.1/lib/python3.7/site-packages/deepdish/io/hdf5io.py\u001b[0m in \u001b[0;36m_load_specific_level\u001b[0;34m(handler, grp, path, sel, pathtable)\u001b[0m\n\u001b[1;32m    323\u001b[0m         \u001b[0;32mif\u001b[0m \u001b[0mlevel\u001b[0m \u001b[0;34m==\u001b[0m \u001b[0;34m''\u001b[0m\u001b[0;34m:\u001b[0m\u001b[0;34m\u001b[0m\u001b[0;34m\u001b[0m\u001b[0m\n\u001b[1;32m    324\u001b[0m             return _load_specific_level(handler, grp.root, rest, sel=sel,\n\u001b[0;32m--> 325\u001b[0;31m                                         pathtable=pathtable)\n\u001b[0m\u001b[1;32m    326\u001b[0m         \u001b[0;32melse\u001b[0m\u001b[0;34m:\u001b[0m\u001b[0;34m\u001b[0m\u001b[0;34m\u001b[0m\u001b[0m\n\u001b[1;32m    327\u001b[0m             \u001b[0;32mif\u001b[0m \u001b[0mhasattr\u001b[0m\u001b[0;34m(\u001b[0m\u001b[0mgrp\u001b[0m\u001b[0;34m,\u001b[0m \u001b[0mlevel\u001b[0m\u001b[0;34m)\u001b[0m\u001b[0;34m:\u001b[0m\u001b[0;34m\u001b[0m\u001b[0;34m\u001b[0m\u001b[0m\n",
      "\u001b[0;32m/jukebox/pkgs/PYGER/0.9.1/lib/python3.7/site-packages/deepdish/io/hdf5io.py\u001b[0m in \u001b[0;36m_load_specific_level\u001b[0;34m(handler, grp, path, sel, pathtable)\u001b[0m\n\u001b[1;32m    327\u001b[0m             \u001b[0;32mif\u001b[0m \u001b[0mhasattr\u001b[0m\u001b[0;34m(\u001b[0m\u001b[0mgrp\u001b[0m\u001b[0;34m,\u001b[0m \u001b[0mlevel\u001b[0m\u001b[0;34m)\u001b[0m\u001b[0;34m:\u001b[0m\u001b[0;34m\u001b[0m\u001b[0;34m\u001b[0m\u001b[0m\n\u001b[1;32m    328\u001b[0m                 return _load_specific_level(handler, getattr(grp, level),\n\u001b[0;32m--> 329\u001b[0;31m                                             rest, sel=sel, pathtable=pathtable)\n\u001b[0m\u001b[1;32m    330\u001b[0m             \u001b[0;32melse\u001b[0m\u001b[0;34m:\u001b[0m\u001b[0;34m\u001b[0m\u001b[0;34m\u001b[0m\u001b[0m\n\u001b[1;32m    331\u001b[0m                 \u001b[0;32mraise\u001b[0m \u001b[0mValueError\u001b[0m\u001b[0;34m(\u001b[0m\u001b[0;34m'Undefined group \"{}\"'\u001b[0m\u001b[0;34m.\u001b[0m\u001b[0mformat\u001b[0m\u001b[0;34m(\u001b[0m\u001b[0mlevel\u001b[0m\u001b[0;34m)\u001b[0m\u001b[0;34m)\u001b[0m\u001b[0;34m\u001b[0m\u001b[0;34m\u001b[0m\u001b[0m\n",
      "\u001b[0;32m/jukebox/pkgs/PYGER/0.9.1/lib/python3.7/site-packages/deepdish/io/hdf5io.py\u001b[0m in \u001b[0;36m_load_specific_level\u001b[0;34m(handler, grp, path, sel, pathtable)\u001b[0m\n\u001b[1;32m    327\u001b[0m             \u001b[0;32mif\u001b[0m \u001b[0mhasattr\u001b[0m\u001b[0;34m(\u001b[0m\u001b[0mgrp\u001b[0m\u001b[0;34m,\u001b[0m \u001b[0mlevel\u001b[0m\u001b[0;34m)\u001b[0m\u001b[0;34m:\u001b[0m\u001b[0;34m\u001b[0m\u001b[0;34m\u001b[0m\u001b[0m\n\u001b[1;32m    328\u001b[0m                 return _load_specific_level(handler, getattr(grp, level),\n\u001b[0;32m--> 329\u001b[0;31m                                             rest, sel=sel, pathtable=pathtable)\n\u001b[0m\u001b[1;32m    330\u001b[0m             \u001b[0;32melse\u001b[0m\u001b[0;34m:\u001b[0m\u001b[0;34m\u001b[0m\u001b[0;34m\u001b[0m\u001b[0m\n\u001b[1;32m    331\u001b[0m                 \u001b[0;32mraise\u001b[0m \u001b[0mValueError\u001b[0m\u001b[0;34m(\u001b[0m\u001b[0;34m'Undefined group \"{}\"'\u001b[0m\u001b[0;34m.\u001b[0m\u001b[0mformat\u001b[0m\u001b[0;34m(\u001b[0m\u001b[0mlevel\u001b[0m\u001b[0;34m)\u001b[0m\u001b[0;34m)\u001b[0m\u001b[0;34m\u001b[0m\u001b[0;34m\u001b[0m\u001b[0m\n",
      "\u001b[0;32m/jukebox/pkgs/PYGER/0.9.1/lib/python3.7/site-packages/deepdish/io/hdf5io.py\u001b[0m in \u001b[0;36m_load_specific_level\u001b[0;34m(handler, grp, path, sel, pathtable)\u001b[0m\n\u001b[1;32m    327\u001b[0m             \u001b[0;32mif\u001b[0m \u001b[0mhasattr\u001b[0m\u001b[0;34m(\u001b[0m\u001b[0mgrp\u001b[0m\u001b[0;34m,\u001b[0m \u001b[0mlevel\u001b[0m\u001b[0;34m)\u001b[0m\u001b[0;34m:\u001b[0m\u001b[0;34m\u001b[0m\u001b[0;34m\u001b[0m\u001b[0m\n\u001b[1;32m    328\u001b[0m                 return _load_specific_level(handler, getattr(grp, level),\n\u001b[0;32m--> 329\u001b[0;31m                                             rest, sel=sel, pathtable=pathtable)\n\u001b[0m\u001b[1;32m    330\u001b[0m             \u001b[0;32melse\u001b[0m\u001b[0;34m:\u001b[0m\u001b[0;34m\u001b[0m\u001b[0;34m\u001b[0m\u001b[0m\n\u001b[1;32m    331\u001b[0m                 \u001b[0;32mraise\u001b[0m \u001b[0mValueError\u001b[0m\u001b[0;34m(\u001b[0m\u001b[0;34m'Undefined group \"{}\"'\u001b[0m\u001b[0;34m.\u001b[0m\u001b[0mformat\u001b[0m\u001b[0;34m(\u001b[0m\u001b[0mlevel\u001b[0m\u001b[0;34m)\u001b[0m\u001b[0;34m)\u001b[0m\u001b[0;34m\u001b[0m\u001b[0;34m\u001b[0m\u001b[0m\n",
      "\u001b[0;32m/jukebox/pkgs/PYGER/0.9.1/lib/python3.7/site-packages/deepdish/io/hdf5io.py\u001b[0m in \u001b[0;36m_load_specific_level\u001b[0;34m(handler, grp, path, sel, pathtable)\u001b[0m\n\u001b[1;32m    309\u001b[0m                 \u001b[0;32mreturn\u001b[0m \u001b[0m_load_sliced_level\u001b[0m\u001b[0;34m(\u001b[0m\u001b[0mhandler\u001b[0m\u001b[0;34m,\u001b[0m \u001b[0mgetattr\u001b[0m\u001b[0;34m(\u001b[0m\u001b[0mgrp\u001b[0m\u001b[0;34m,\u001b[0m \u001b[0mvv\u001b[0m\u001b[0;34m[\u001b[0m\u001b[0;36m0\u001b[0m\u001b[0;34m]\u001b[0m\u001b[0;34m)\u001b[0m\u001b[0;34m,\u001b[0m \u001b[0msel\u001b[0m\u001b[0;34m)\u001b[0m\u001b[0;34m\u001b[0m\u001b[0;34m\u001b[0m\u001b[0m\n\u001b[1;32m    310\u001b[0m             \u001b[0;32melse\u001b[0m\u001b[0;34m:\u001b[0m\u001b[0;34m\u001b[0m\u001b[0;34m\u001b[0m\u001b[0m\n\u001b[0;32m--> 311\u001b[0;31m                 \u001b[0;32mreturn\u001b[0m \u001b[0m_load_level\u001b[0m\u001b[0;34m(\u001b[0m\u001b[0mhandler\u001b[0m\u001b[0;34m,\u001b[0m \u001b[0mgetattr\u001b[0m\u001b[0;34m(\u001b[0m\u001b[0mgrp\u001b[0m\u001b[0;34m,\u001b[0m \u001b[0mvv\u001b[0m\u001b[0;34m[\u001b[0m\u001b[0;36m0\u001b[0m\u001b[0;34m]\u001b[0m\u001b[0;34m)\u001b[0m\u001b[0;34m,\u001b[0m \u001b[0mpathtable\u001b[0m\u001b[0;34m)\u001b[0m\u001b[0;34m\u001b[0m\u001b[0;34m\u001b[0m\u001b[0m\n\u001b[0m\u001b[1;32m    312\u001b[0m         \u001b[0;32melif\u001b[0m \u001b[0mhasattr\u001b[0m\u001b[0;34m(\u001b[0m\u001b[0mgrp\u001b[0m\u001b[0;34m,\u001b[0m \u001b[0;34m'_v_attrs'\u001b[0m\u001b[0;34m)\u001b[0m \u001b[0;32mand\u001b[0m \u001b[0mvv\u001b[0m\u001b[0;34m[\u001b[0m\u001b[0;36m0\u001b[0m\u001b[0;34m]\u001b[0m \u001b[0;32min\u001b[0m \u001b[0mgrp\u001b[0m\u001b[0;34m.\u001b[0m\u001b[0m_v_attrs\u001b[0m\u001b[0;34m:\u001b[0m\u001b[0;34m\u001b[0m\u001b[0;34m\u001b[0m\u001b[0m\n\u001b[1;32m    313\u001b[0m             \u001b[0;32mif\u001b[0m \u001b[0msel\u001b[0m \u001b[0;32mis\u001b[0m \u001b[0;32mnot\u001b[0m \u001b[0;32mNone\u001b[0m\u001b[0;34m:\u001b[0m\u001b[0;34m\u001b[0m\u001b[0;34m\u001b[0m\u001b[0m\n",
      "\u001b[0;32m/jukebox/pkgs/PYGER/0.9.1/lib/python3.7/site-packages/deepdish/io/hdf5io.py\u001b[0m in \u001b[0;36m_load_level\u001b[0;34m(handler, level, pathtable)\u001b[0m\n\u001b[1;32m    472\u001b[0m     \u001b[0;32mexcept\u001b[0m \u001b[0mKeyError\u001b[0m\u001b[0;34m:\u001b[0m\u001b[0;34m\u001b[0m\u001b[0;34m\u001b[0m\u001b[0m\n\u001b[1;32m    473\u001b[0m         pathtable[pathname] = _load_nonlink_level(handler, node, pathtable,\n\u001b[0;32m--> 474\u001b[0;31m                                                   pathname)\n\u001b[0m\u001b[1;32m    475\u001b[0m         \u001b[0;32mreturn\u001b[0m \u001b[0mpathtable\u001b[0m\u001b[0;34m[\u001b[0m\u001b[0mpathname\u001b[0m\u001b[0;34m]\u001b[0m\u001b[0;34m\u001b[0m\u001b[0;34m\u001b[0m\u001b[0m\n\u001b[1;32m    476\u001b[0m \u001b[0;34m\u001b[0m\u001b[0m\n",
      "\u001b[0;32m/jukebox/pkgs/PYGER/0.9.1/lib/python3.7/site-packages/deepdish/io/hdf5io.py\u001b[0m in \u001b[0;36m_load_nonlink_level\u001b[0;34m(handler, level, pathtable, pathname)\u001b[0m\n\u001b[1;32m    452\u001b[0m             \u001b[0;32mreturn\u001b[0m \u001b[0mlevel\u001b[0m\u001b[0;34m[\u001b[0m\u001b[0;34m(\u001b[0m\u001b[0;34m)\u001b[0m\u001b[0;34m]\u001b[0m\u001b[0;34m\u001b[0m\u001b[0;34m\u001b[0m\u001b[0m\n\u001b[1;32m    453\u001b[0m \u001b[0;34m\u001b[0m\u001b[0m\n\u001b[0;32m--> 454\u001b[0;31m         \u001b[0;32mreturn\u001b[0m \u001b[0mlevel\u001b[0m\u001b[0;34m[\u001b[0m\u001b[0;34m:\u001b[0m\u001b[0;34m]\u001b[0m\u001b[0;34m\u001b[0m\u001b[0;34m\u001b[0m\u001b[0m\n\u001b[0m\u001b[1;32m    455\u001b[0m \u001b[0;34m\u001b[0m\u001b[0m\n\u001b[1;32m    456\u001b[0m \u001b[0;34m\u001b[0m\u001b[0m\n",
      "\u001b[0;32m/jukebox/pkgs/PYGER/0.9.1/lib/python3.7/site-packages/tables/array.py\u001b[0m in \u001b[0;36m__getitem__\u001b[0;34m(self, key)\u001b[0m\n\u001b[1;32m    656\u001b[0m             \u001b[0;31m# First, try with a regular selection\u001b[0m\u001b[0;34m\u001b[0m\u001b[0;34m\u001b[0m\u001b[0;34m\u001b[0m\u001b[0m\n\u001b[1;32m    657\u001b[0m             \u001b[0mstartl\u001b[0m\u001b[0;34m,\u001b[0m \u001b[0mstopl\u001b[0m\u001b[0;34m,\u001b[0m \u001b[0mstepl\u001b[0m\u001b[0;34m,\u001b[0m \u001b[0mshape\u001b[0m \u001b[0;34m=\u001b[0m \u001b[0mself\u001b[0m\u001b[0;34m.\u001b[0m\u001b[0m_interpret_indexing\u001b[0m\u001b[0;34m(\u001b[0m\u001b[0mkey\u001b[0m\u001b[0;34m)\u001b[0m\u001b[0;34m\u001b[0m\u001b[0;34m\u001b[0m\u001b[0m\n\u001b[0;32m--> 658\u001b[0;31m             \u001b[0marr\u001b[0m \u001b[0;34m=\u001b[0m \u001b[0mself\u001b[0m\u001b[0;34m.\u001b[0m\u001b[0m_read_slice\u001b[0m\u001b[0;34m(\u001b[0m\u001b[0mstartl\u001b[0m\u001b[0;34m,\u001b[0m \u001b[0mstopl\u001b[0m\u001b[0;34m,\u001b[0m \u001b[0mstepl\u001b[0m\u001b[0;34m,\u001b[0m \u001b[0mshape\u001b[0m\u001b[0;34m)\u001b[0m\u001b[0;34m\u001b[0m\u001b[0;34m\u001b[0m\u001b[0m\n\u001b[0m\u001b[1;32m    659\u001b[0m         \u001b[0;32mexcept\u001b[0m \u001b[0mTypeError\u001b[0m\u001b[0;34m:\u001b[0m\u001b[0;34m\u001b[0m\u001b[0;34m\u001b[0m\u001b[0m\n\u001b[1;32m    660\u001b[0m             \u001b[0;31m# Then, try with a point-wise selection\u001b[0m\u001b[0;34m\u001b[0m\u001b[0;34m\u001b[0m\u001b[0;34m\u001b[0m\u001b[0m\n",
      "\u001b[0;32m/jukebox/pkgs/PYGER/0.9.1/lib/python3.7/site-packages/tables/array.py\u001b[0m in \u001b[0;36m_read_slice\u001b[0;34m(self, startl, stopl, stepl, shape)\u001b[0m\n\u001b[1;32m    760\u001b[0m         \u001b[0;32mif\u001b[0m \u001b[0;36m0\u001b[0m \u001b[0;32mnot\u001b[0m \u001b[0;32min\u001b[0m \u001b[0mshape\u001b[0m\u001b[0;34m:\u001b[0m\u001b[0;34m\u001b[0m\u001b[0;34m\u001b[0m\u001b[0m\n\u001b[1;32m    761\u001b[0m             \u001b[0;31m# Arrays that have non-zero dimensionality\u001b[0m\u001b[0;34m\u001b[0m\u001b[0;34m\u001b[0m\u001b[0;34m\u001b[0m\u001b[0m\n\u001b[0;32m--> 762\u001b[0;31m             \u001b[0mself\u001b[0m\u001b[0;34m.\u001b[0m\u001b[0m_g_read_slice\u001b[0m\u001b[0;34m(\u001b[0m\u001b[0mstartl\u001b[0m\u001b[0;34m,\u001b[0m \u001b[0mstopl\u001b[0m\u001b[0;34m,\u001b[0m \u001b[0mstepl\u001b[0m\u001b[0;34m,\u001b[0m \u001b[0mnparr\u001b[0m\u001b[0;34m)\u001b[0m\u001b[0;34m\u001b[0m\u001b[0;34m\u001b[0m\u001b[0m\n\u001b[0m\u001b[1;32m    763\u001b[0m         \u001b[0;31m# For zero-shaped arrays, return the scalar\u001b[0m\u001b[0;34m\u001b[0m\u001b[0;34m\u001b[0m\u001b[0;34m\u001b[0m\u001b[0m\n\u001b[1;32m    764\u001b[0m         \u001b[0;32mif\u001b[0m \u001b[0mnparr\u001b[0m\u001b[0;34m.\u001b[0m\u001b[0mshape\u001b[0m \u001b[0;34m==\u001b[0m \u001b[0;34m(\u001b[0m\u001b[0;34m)\u001b[0m\u001b[0;34m:\u001b[0m\u001b[0;34m\u001b[0m\u001b[0;34m\u001b[0m\u001b[0m\n",
      "\u001b[0;31mKeyboardInterrupt\u001b[0m: "
     ]
    }
   ],
   "source": [
    "\n",
    "measure_list = [\n",
    "    #     'normal', #PCN (9*3,25)\n",
    "        'current_room', #PCN (9*3,25)\n",
    "    #     'next_room',#PCN (9*3,25)\n",
    "    #     'prev_room',#PCN (9*3,25)\n",
    "#         'event_mats_all',\n",
    "#         'cp_results', # (212,3,25)\n",
    "    #     'y_correct_probs', # (212, 25) # dont need it, because it's just cp_results and its probably empty!\n",
    "        'event_mats_all', #(212,23,25)\n",
    "        'accuracy', # (25,nPerm+1)\n",
    "    #     'conf_mat'# (23,23,25)\n",
    "        'y_probs'\n",
    "        ] \n",
    "\n",
    "roi = 'SL'\n",
    "betatypes = ['rooms','objects']\n",
    "videotypes = ['rooms','objects']\n",
    "hem_label='both'\n",
    "betatype_label='both'\n",
    "win_size=9\n",
    "shift=4\n",
    "\n",
    "\n",
    "##second permutation fix\n",
    "date = 20240401001 ; task_id = 1 #for ROV1; task_id = 1\n",
    "ROV1_scores = ImportROV12(date,task_id,betatypes,videotypes,measure_list,)\n",
    "ROV1_scores = GetCPsFromROV1or2(ROV1_scores,ReOrderCPs=True)\n",
    "\n",
    "\n",
    "### second permutation fix\n",
    "date = 20240401002; task_id = 2 #for ROV2; task_id = 2\n",
    "ROV2_scores = ImportROV12(date,task_id,betatypes,videotypes,measure_list)\n",
    "ROV2_scores = GetCPsFromROV1or2(ROV2_scores,ReOrderCPs=True)\n",
    "\n"
   ]
  },
  {
   "cell_type": "code",
   "execution_count": 6,
   "metadata": {},
   "outputs": [
    {
     "name": "stdout",
     "output_type": "stream",
     "text": [
      "20240401_SL_hemsboth_betasboth_winsize9_shift4_ClassifyRecalls_CONFMAT.pkl\r\n"
     ]
    }
   ],
   "source": [
    "sl_confmat_path =  '../PythonData2024/Output/confmats/20240401_SL_hemsboth_betasboth_winsize9_shift4_ClassifyRecalls_CONFMAT.pkl'"
   ]
  },
  {
   "cell_type": "markdown",
   "metadata": {},
   "source": [
    "### (4) look at accuracy z-scores "
   ]
  },
  {
   "cell_type": "code",
   "execution_count": 71,
   "metadata": {},
   "outputs": [
    {
     "name": "stdout",
     "output_type": "stream",
     "text": [
      "*************** METHOD TOP_Z 50 simultaneous HEMISPHERES ***************\n",
      "[2228 2259 2537 2715 2306 1636 1909 2919 1830 2944 2916 2621 2883 2882\n",
      " 1699 1961 2716 1545 2227 1831 2274 2475 1796 2373 2229 2920  979 1512\n",
      " 2915  458 2945 2487 1973 1763 2054 1851 2784 1375  555 1374 2048 1846\n",
      "  987 2960 2959 2277  903 2454  746 1976]\n",
      "8 42 []\n",
      "*** TRAIN: rooms Classify on rooms videos |  TOP SCORES: ***\n",
      ".... worst z acc: 12.222\n",
      ".... is hippocampus in the list? : []\n",
      ".... hippo z_acc: hippo: 1.253, phippo: 1.040, ahippo: 0.256\n",
      ".... Best Z Accuracy SLs: \n",
      ".... 0.06925707547169811\n",
      ".... 0.07362758310871519\n",
      "[ 729 2154 1351   10  907  178  179 2277  869 1169 1034 2789 2244  776\n",
      " 1653  544  398 1345  395  594  786  917 2517 2647 1179  599  399  646\n",
      " 2015 1371 1427 1341 1358   82 2183 1200 2188 2279  717 1321 2064 1267\n",
      "  247  440 2121  456  545 1732  688 2898]\n",
      "35 15 []\n",
      "*** TRAIN: rooms Classify on objects videos |  TOP SCORES: ***\n",
      ".... worst z acc: 2.398\n",
      ".... is hippocampus in the list? : []\n",
      ".... hippo z_acc: hippo: 0.224, phippo: 0.270, ahippo: 0.153\n",
      ".... Best Z Accuracy SLs: \n",
      ".... 0.04902156334231807\n",
      ".... 0.04886792452830189\n",
      "[1821  252 2770 1410  154 2697 2245  469 2166 1584  985 1822 1187 1408\n",
      "  618 2727 1962  240  810 1528  956 1312 1839 1942 2442 2441 2002 2069\n",
      " 1841 1955 2174  590  825   57  745  172  949 2515  714 1397 1277 1429\n",
      " 1568 1441  372 1011  759 2084  461  616]\n",
      "28 22 []\n",
      "*** TRAIN: objects Classify on rooms videos |  TOP SCORES: ***\n",
      ".... worst z acc: 2.238\n",
      ".... is hippocampus in the list? : []\n",
      ".... hippo z_acc: hippo: -1.981, phippo: -0.085, ahippo: 0.310\n",
      ".... Best Z Accuracy SLs: \n",
      ".... 0.04850404312668463\n",
      ".... 0.04878216123499142\n",
      "[2944 1545 2716 2228 2882 2945 2715 2227 2373 1909 1851 1419 2274  360\n",
      " 2277 1763  802 2485 2225 1959 1680  775 2455 2486 1830 2454 1568 2883\n",
      "  564 2229 1512  818  206 1686 1119 1004 1983 1527  254  777 2487 1141\n",
      "  563  264 1533  290  359 1535  485 1702]\n",
      "17 33 []\n",
      "*** TRAIN: objects Classify on objects videos |  TOP SCORES: ***\n",
      ".... worst z acc: 20.906\n",
      ".... is hippocampus in the list? : []\n",
      ".... hippo z_acc: hippo: 1.593, phippo: 1.054, ahippo: 2.635\n",
      ".... Best Z Accuracy SLs: \n",
      ".... 0.08986126526082129\n",
      ".... 0.09714122355631791\n"
     ]
    }
   ],
   "source": [
    "betatypes = ['rooms','objects']\n",
    "videotypes = ['rooms','objects'] \n",
    "\n",
    "top_thresh = 50\n",
    "measuretype = 'accuracy'\n",
    "\n",
    "# z_thresh\n",
    "############################    \n",
    "\n",
    "##\n",
    "## SUPERTEAM BASED OFF CONCATENATING HEMISPHERES and GRABBING BEST Z_SCORES\n",
    "##\n",
    "\n",
    "############################   \n",
    "\n",
    "print('*************** METHOD TOP_Z {} simultaneous HEMISPHERES ***************'.format(top_thresh))\n",
    "\n",
    "\n",
    "best_Z_SLs = {} # this is done on both hemispheres\n",
    "for betatype in betatypes:\n",
    "    best_Z_SLs[betatype]= {}\n",
    "    \n",
    "    for videotype in videotypes:  \n",
    "        \n",
    "        hipp_acc = {}\n",
    "        hipp_acc_mean = {}\n",
    "        for hipporoi in ['ahippo','hippo','phippo']:\n",
    "            hipp_acc[hipporoi] = np.stack((hippo_ROV1_scores[hipporoi][betatype][videotype]['accuracy']['None'],\n",
    "                                           hippo_ROV2_scores[hipporoi][betatype][videotype]['accuracy']['None']))\n",
    "            hipp_acc_mean[hipporoi] = np.nanmean(hipp_acc[hipporoi],0) # 2,1,25,1001 #average out the stack\n",
    "            \n",
    "        \n",
    "\n",
    "        ## ROV1 and ROV2 combo\n",
    "        L_acc = np.stack((ROV1_scores[betatype][videotype]['accuracy']['L'],ROV2_scores[betatype][videotype]['accuracy']['L']))\n",
    "        R_acc = np.stack((ROV1_scores[betatype][videotype]['accuracy']['R'],ROV2_scores[betatype][videotype]['accuracy']['R']))\n",
    "        L_acc_mean = np.nanmean(L_acc,0) #2,nSLs,25,1001 (average out new axis)\n",
    "        R_acc_mean = np.nanmean(R_acc,0) #2,nSLs,25,1001 (average out new axis)\n",
    "        \n",
    "        best_Z_SLs[betatype][videotype] = {}\n",
    "        \n",
    "#         z_thresh_list = [1.96,2.576,3.090,3.719, 4.264, 5.19] # 95%, and 99%\n",
    "#         z_thresh = 6 #z_thresh_list[]\n",
    "\n",
    "        ###\n",
    "        ### GROUP LEVEL\n",
    "        ###\n",
    "        stacked_acc = np.vstack((L_acc_mean,R_acc_mean))\n",
    "        stacked_acc = np.vstack((L_acc_mean,R_acc_mean, hipp_acc_mean['ahippo'], hipp_acc_mean['phippo'], hipp_acc_mean['hippo']))\n",
    "        \n",
    "        stacked_acc_mean = stacked_acc.mean(1) #average across subjects\n",
    "        stacked_acc_null = stacked_acc_mean[:,1:] #grab the perms #(nSLs*2,nPerm)\n",
    "        stacked_acc_null_mean = stacked_acc_null.mean(1) #grab the perms #(nSLs*2)\n",
    "        stacked_acc_null_std = stacked_acc_null.std(1) #grab the perms #(nSLs*2)\n",
    "        stacked_acc_true = stacked_acc_mean[:,0] #grab the true, (nSLs*2)\n",
    "\n",
    "        ## convert SL accuracies to z-scores based on permutation\n",
    "        acc_z = (stacked_acc_true - stacked_acc_null_mean) / stacked_acc_null_std\n",
    "\n",
    "        ## what are the best SLs for this subj?\n",
    "        # acc_z_best_idx = np.where(acc_z>z_thresh)[0]\n",
    "        # best_for_L = acc_z_best_idx[np.where(acc_z_best_idx<1483)[0]]\n",
    "        # best_for_R = acc_z_best_idx[np.where(acc_z_best_idx>=1483)[0]] - 1483\n",
    "        \n",
    "        acc_z_best_idx = np.argsort(acc_z)[::-1][:top_thresh]\n",
    "        \n",
    "        print(acc_z_best_idx)\n",
    "        \n",
    "        best_for_L = acc_z_best_idx[acc_z_best_idx<1483] #convert back to hem specific indexing\n",
    "        best_for_R = acc_z_best_idx[(acc_z_best_idx>=1483) * (acc_z_best_idx<2966)] - 1483 # convert back to hem specicifc indexing\n",
    "        hippo_best = acc_z_best_idx[acc_z_best_idx>=2966] # 1483*2 = 2966, so hippos are 2966,2967,2968\n",
    "        print(len(best_for_L),len(best_for_R), hippo_best)\n",
    "\n",
    "        best_Z_SLs[betatype][videotype]['L'] = best_for_L \n",
    "        best_Z_SLs[betatype][videotype]['R'] = best_for_R\n",
    "        \n",
    "        print(\"*** TRAIN: {} Classify on {} videos |  TOP SCORES: ***\".format(betatype,videotype))\n",
    "        print('.... worst z acc: {:.3f}'.format(np.sort(acc_z)[::-1][:top_thresh][-1]))\n",
    "        print('.... is hippocampus in the list? :', acc_z_best_idx[acc_z_best_idx>=2966])\n",
    "        \n",
    "        print('.... hippo z_acc: hippo: {:.3f}, phippo: {:.3f}, ahippo: {:.3f}'.format(acc_z[2966],\n",
    "                                                                                       acc_z[2967],\n",
    "                                                                                       acc_z[2968]))\n",
    "        print('.... Best Z Accuracy SLs: ')\n",
    "        print('....', L_acc_mean[best_for_L][:,:,0].mean())\n",
    "        print('....', R_acc_mean[best_for_R][:,:,0].mean())\n",
    "        \n",
    "        ###\n",
    "        ### SUBJECT LEVEL\n",
    "        ###\n",
    "        \n",
    "        ## ROV1 and ROV2 combo\n",
    "        L_PCN = np.stack((ROV1_scores[betatype][videotype]['current_room']['L'],ROV2_scores[betatype][videotype]['current_room']['L']))\n",
    "        R_PCN = np.stack((ROV1_scores[betatype][videotype]['current_room']['R'],ROV2_scores[betatype][videotype]['current_room']['R']))\n",
    "        L_PCN_mean = np.nanmean(L_acc,0) #2,nSLs,25,1001 (average out new axis)\n",
    "        R_PCN_mean = np.nanmean(R_acc,0) #2,nSLs,25,1001 (average out new axis)\n",
    "        \n",
    "        stacked_PCN = np.vstack((L_PCN_mean,R_PCN_mean))\n",
    "        stacked_PCN_mean = stacked_PCN.mean(1) #average across subjects\n",
    "        stacked_PCN_null = stacked_PCN_mean[:,1:] #grab the perms #(nSLs*2,nPerm)\n",
    "        stacked_PCN_null_mean = stacked_PCN_null.mean(1) #grab the perms #(nSLs*2)\n",
    "        stacked_PCN_null_std = stacked_PCN_null.std(1) #grab the perms #(nSLs*2)\n",
    "        stacked_PCN_true = stacked_PCN_mean[:,0] #grab the true, (nSLs*2)\n",
    "        \n",
    "        \n",
    "        \n",
    "        \n",
    "        \n",
    "\n"
   ]
  },
  {
   "cell_type": "code",
   "execution_count": null,
   "metadata": {},
   "outputs": [],
   "source": []
  },
  {
   "cell_type": "markdown",
   "metadata": {},
   "source": [
    "# hippo performance on recalls"
   ]
  },
  {
   "cell_type": "code",
   "execution_count": 220,
   "metadata": {},
   "outputs": [],
   "source": [
    "def extract_all_diagonal_and_off_diagonals(arr, axis1, axis2):\n",
    "    # Determine the size of the dimensions for which to extract off-diagonals\n",
    "    dim_size = arr.shape[axis1]\n",
    "    \n",
    "    nTrials = arr.shape[2]\n",
    "    nSubj = arr.shape[3]\n",
    "#     nPerm_1 = arr.shape[4]\n",
    "    \n",
    "    # Initialize a list to hold all off-diagonals\n",
    "    off_diagonals = []\n",
    "    diagonal = 0 #np.full((nTrials,nSubj,nPerm_1), fill_value=np.nan)\n",
    "    \n",
    "    # Loop over all possible offsets\n",
    "    for offset in range(-dim_size + 1, dim_size):\n",
    "        # Skip the main diagonal\n",
    "        if offset != 0:\n",
    "            off_diagonal = arr.diagonal(offset=offset, axis1=axis1, axis2=axis2).sum(-1)\n",
    "            off_diagonals.append(off_diagonal)\n",
    "        else:\n",
    "            diagonal = arr.diagonal(axis1=axis1,axis2=axis2).sum(-1) #sum the last that contains diagonal values\n",
    "    \n",
    "    return diagonal, off_diagonals\n",
    "                            \n",
    "                            "
   ]
  },
  {
   "cell_type": "code",
   "execution_count": 22,
   "metadata": {},
   "outputs": [],
   "source": [
    "\n",
    "\n",
    "def GetRecallEvidence(date, roi, shift, win_size, measure_list, betatypes,hems=['L','R']):\n",
    "    '''\n",
    "    - grabs the whole-brain results of classifying recalls (GRs+FRs)\n",
    "    - returns 'scores' which is a dict with the data in measure_list\n",
    "    \n",
    "    '''\n",
    "\n",
    "    trials = ['GR0', 'GR1', 'GR2', 'GR3','GR4', 'GR5', 'GR6', 'GR7','GR8', 'GR9', 'GR10','FR']\n",
    "\n",
    "    nPerm = 1000\n",
    "    nTrials = len(trials)\n",
    "    nItems = 23\n",
    "    nROIs =  len(SLlist[hem]) if roi=='SL' else 1\n",
    "\n",
    "    \n",
    "    scores = {}\n",
    "\n",
    "    for betatype in tqdm_notebook(betatypes):\n",
    "        scores[betatype] = {}\n",
    "\n",
    "        print(\"...BETATYPE: \", betatype)\n",
    "\n",
    "        for measuretype in tqdm_notebook(measure_list):\n",
    "            scores[betatype][measuretype] = {}\n",
    "\n",
    "            print(\"............MEASURE: \", measuretype)\n",
    "\n",
    "            for hem in hems:\n",
    "                print(\"...............HEM: \",hem)\n",
    "\n",
    "                hem_label = hem\n",
    "                betatype_label=betatype\n",
    "\n",
    "                ###\n",
    "                ### Specific initiation for different array shapes\n",
    "                ###\n",
    "\n",
    "                if 'RIP_window' == measuretype:\n",
    "                    scores[betatype][measuretype][hem] = np.zeros(((nROIs,win_size,nTrials,nSubj))) \n",
    "\n",
    "                if 'evidence_window' == measuretype:\n",
    "                    scores[betatype][measuretype][hem] = np.zeros(((nROIs,win_size,nItems, nTrials,nSubj))) \n",
    "\n",
    "                if 'accuracy' == measuretype:\n",
    "                    scores[betatype][measuretype][hem] = np.zeros(((nROIs,nTrials,nSubj,nPerm+1)))\n",
    "\n",
    "    #             if 'real_minus_prior' == measuretype:\n",
    "    #                 scores[betatype][measuretype][hem] = np.zeros(((len(SLlist[hem]),nTrials,nSubj)))   \n",
    "\n",
    "                if 'evidence' == measuretype:\n",
    "                    scores[betatype][measuretype][hem] = {}\n",
    "\n",
    "                if 'conf_mat' == measuretype:\n",
    "#                     scores[betatype][measuretype][hem] = np.full((nROIs,nItems,nItems,nSubj), fill_value=np.nan)\n",
    "                    \n",
    "                    ## old method, but i want to include permutations\n",
    "                    scores[betatype][measuretype][hem] = np.full((nROIs,nItems,nItems,nTrials,nSubj), fill_value=np.nan)\n",
    "#                     \n",
    "                    #scores[betatype][measuretype][hem] = np.full((nROIs,nItems,nItems), fill_value=np.nan)\n",
    "                    \n",
    "                    ## want to calculate diagonal - off diagonal sum\n",
    "#                     scores[betatype][measuretype][hem] = np.full((nROIs,nTrials,nSubj), fill_value=np.nan)\n",
    "\n",
    "                if 'RIPs' == measuretype:\n",
    "    #                 scores[betatype][measuretype][hem] = np.full((len(SLlist[hem]),nItems,nItems,nTrials,nSubj), fill_value=np.nan)\n",
    "                    scores[betatype][measuretype][hem] = np.full((nROIs,nItems,nTrials,nSubj), fill_value=np.nan)\n",
    "\n",
    "\n",
    "                ###\n",
    "                ### Load the saved .h5 files\n",
    "                ###\n",
    "                roi_ids = range(len(SLlist[hem])) if roi=='SL' else [9999]\n",
    "                for ri,roi_id in enumerate(tqdm_notebook(roi_ids)):\n",
    "#                 for roi_id in tqdm_notebook(range(len(SLlist[hem]))[:]):\n",
    "\n",
    "                    dirpath = '../PythonData2024/Output/ClassifyRecalls'\n",
    "\n",
    "                    fname = '{}_{}{:03d}_hems{}_betas{}_winsize{}_shift{}_ClassifyRecalls'.format(\n",
    "                    date,\n",
    "                    roi,\n",
    "                    roi_id,\n",
    "                    hem_label,\n",
    "                    betatype_label,\n",
    "                    win_size,\n",
    "                    shift) + '.h5'\n",
    "\n",
    "                    fullpath = os.path.join(dirpath,fname)\n",
    "\n",
    "                    temp = dd.io.load(fullpath,'/{}/{}/{}'.format(betatype,hem,measuretype))\n",
    "\n",
    "                    if measuretype=='conf_mat':\n",
    "                        print('.......conf_mat shape: ', temp.shape)\n",
    "                        # older method\n",
    "                        scores[betatype][measuretype][hem][ri] = temp[:,:,:,:,0] \n",
    "                        \n",
    "                        # Items,nItems,nTrials,nSubj, nPerm+1\n",
    "#                         diagonal, all_off_diagonals = extract_all_diagonal_and_off_diagonals(temp[:,:,:,:,0], axis1=0, axis2=1)\n",
    "#                         acc_confmat = (diagonal) / (diagonal+np.array(all_off_diagonals).sum(0))\n",
    "#                         scores[betatype][measuretype][hem][ri] = acc_confmat\n",
    "                            \n",
    "                        \n",
    "                        \n",
    "#                         scores[betatype][measuretype][hem][ri] = np.nanmean(temp[:,:,:,:,0],2)\n",
    "#                         scores[betatype][measuretype][hem][ri] = np.nanmean(np.nanmean(temp[:,:,:,:,0],2),2)\n",
    "                    \n",
    "                    else:\n",
    "                        scores[betatype][measuretype][hem][ri] = temp\n",
    "                        \n",
    "                        \n",
    "    return scores\n",
    "\n",
    "                \n"
   ]
  },
  {
   "cell_type": "code",
   "execution_count": 23,
   "metadata": {},
   "outputs": [
    {
     "name": "stderr",
     "output_type": "stream",
     "text": [
      "/jukebox/pkgs/PYGER/base/envs/0.11.0/lib/python3.7/site-packages/ipykernel_launcher.py:18: TqdmDeprecationWarning: This function will be removed in tqdm==5.0.0\n",
      "Please use `tqdm.notebook.tqdm` instead of `tqdm.tqdm_notebook`\n"
     ]
    },
    {
     "data": {
      "application/vnd.jupyter.widget-view+json": {
       "model_id": "c699506b328f4663b110fb44354a84cb",
       "version_major": 2,
       "version_minor": 0
      },
      "text/plain": [
       "  0%|          | 0/2 [00:00<?, ?it/s]"
      ]
     },
     "metadata": {},
     "output_type": "display_data"
    },
    {
     "name": "stdout",
     "output_type": "stream",
     "text": [
      "...BETATYPE:  objects\n"
     ]
    },
    {
     "name": "stderr",
     "output_type": "stream",
     "text": [
      "/jukebox/pkgs/PYGER/base/envs/0.11.0/lib/python3.7/site-packages/ipykernel_launcher.py:23: TqdmDeprecationWarning: This function will be removed in tqdm==5.0.0\n",
      "Please use `tqdm.notebook.tqdm` instead of `tqdm.tqdm_notebook`\n"
     ]
    },
    {
     "data": {
      "application/vnd.jupyter.widget-view+json": {
       "model_id": "067681d055ae4bb995783e71b5e1f4b6",
       "version_major": 2,
       "version_minor": 0
      },
      "text/plain": [
       "  0%|          | 0/3 [00:00<?, ?it/s]"
      ]
     },
     "metadata": {},
     "output_type": "display_data"
    },
    {
     "name": "stdout",
     "output_type": "stream",
     "text": [
      "............MEASURE:  accuracy\n",
      "...............HEM:  None\n"
     ]
    },
    {
     "name": "stderr",
     "output_type": "stream",
     "text": [
      "/jukebox/pkgs/PYGER/base/envs/0.11.0/lib/python3.7/site-packages/ipykernel_launcher.py:73: TqdmDeprecationWarning: This function will be removed in tqdm==5.0.0\n",
      "Please use `tqdm.notebook.tqdm` instead of `tqdm.tqdm_notebook`\n"
     ]
    },
    {
     "data": {
      "application/vnd.jupyter.widget-view+json": {
       "model_id": "6881030587f14252ac703220e08287b2",
       "version_major": 2,
       "version_minor": 0
      },
      "text/plain": [
       "  0%|          | 0/1 [00:00<?, ?it/s]"
      ]
     },
     "metadata": {},
     "output_type": "display_data"
    },
    {
     "name": "stdout",
     "output_type": "stream",
     "text": [
      "............MEASURE:  RIPs\n",
      "...............HEM:  None\n"
     ]
    },
    {
     "data": {
      "application/vnd.jupyter.widget-view+json": {
       "model_id": "0abf99812d794a26b6bbb5f03402728b",
       "version_major": 2,
       "version_minor": 0
      },
      "text/plain": [
       "  0%|          | 0/1 [00:00<?, ?it/s]"
      ]
     },
     "metadata": {},
     "output_type": "display_data"
    },
    {
     "name": "stdout",
     "output_type": "stream",
     "text": [
      "............MEASURE:  conf_mat\n",
      "...............HEM:  None\n"
     ]
    },
    {
     "data": {
      "application/vnd.jupyter.widget-view+json": {
       "model_id": "b6bf325f8d1040858c2ccb325fed8683",
       "version_major": 2,
       "version_minor": 0
      },
      "text/plain": [
       "  0%|          | 0/1 [00:00<?, ?it/s]"
      ]
     },
     "metadata": {},
     "output_type": "display_data"
    },
    {
     "name": "stdout",
     "output_type": "stream",
     "text": [
      ".......conf_mat shape:  (23, 23, 12, 25, 1001)\n",
      "...BETATYPE:  rooms\n"
     ]
    },
    {
     "data": {
      "application/vnd.jupyter.widget-view+json": {
       "model_id": "06559b11ec2342b3ab4abaa7aa6f2bf7",
       "version_major": 2,
       "version_minor": 0
      },
      "text/plain": [
       "  0%|          | 0/3 [00:00<?, ?it/s]"
      ]
     },
     "metadata": {},
     "output_type": "display_data"
    },
    {
     "name": "stdout",
     "output_type": "stream",
     "text": [
      "............MEASURE:  accuracy\n",
      "...............HEM:  None\n"
     ]
    },
    {
     "data": {
      "application/vnd.jupyter.widget-view+json": {
       "model_id": "75862d1e1feb4b56b8474fd11c532702",
       "version_major": 2,
       "version_minor": 0
      },
      "text/plain": [
       "  0%|          | 0/1 [00:00<?, ?it/s]"
      ]
     },
     "metadata": {},
     "output_type": "display_data"
    },
    {
     "name": "stdout",
     "output_type": "stream",
     "text": [
      "............MEASURE:  RIPs\n",
      "...............HEM:  None\n"
     ]
    },
    {
     "data": {
      "application/vnd.jupyter.widget-view+json": {
       "model_id": "11e05495e4ec42d9aeeb6eb43ae4873c",
       "version_major": 2,
       "version_minor": 0
      },
      "text/plain": [
       "  0%|          | 0/1 [00:00<?, ?it/s]"
      ]
     },
     "metadata": {},
     "output_type": "display_data"
    },
    {
     "name": "stdout",
     "output_type": "stream",
     "text": [
      "............MEASURE:  conf_mat\n",
      "...............HEM:  None\n"
     ]
    },
    {
     "data": {
      "application/vnd.jupyter.widget-view+json": {
       "model_id": "f5fa8adfd9774f9ab0dc308caa1205e2",
       "version_major": 2,
       "version_minor": 0
      },
      "text/plain": [
       "  0%|          | 0/1 [00:00<?, ?it/s]"
      ]
     },
     "metadata": {},
     "output_type": "display_data"
    },
    {
     "name": "stdout",
     "output_type": "stream",
     "text": [
      ".......conf_mat shape:  (23, 23, 12, 25, 1001)\n"
     ]
    }
   ],
   "source": [
    "## \n",
    "## IMPORT\n",
    "##\n",
    "\n",
    "# date = 20240108; shift = 4; win_size = 9;\n",
    "\n",
    "date = 20240401; shift = 4; win_size = 9;\n",
    "\n",
    "\n",
    "# betatypes = ['rooms','objects']\n",
    "betatypes = ['objects', 'rooms'] #['objects']\n",
    "roi = 'ahippo' # <--------- CHANGE THIS to see results for other HIPPO ROIs\n",
    "hems = ['None']\n",
    "measure_list = [\n",
    "#     'evidence',\n",
    "    'accuracy', #\n",
    "#     'RIP_window', # \n",
    "    'RIPs',\n",
    "    'conf_mat', #  \n",
    "  ]\n",
    "\n",
    "hippo_recall_scores = GetRecallEvidence(date, roi, shift, win_size, measure_list, betatypes, hems=hems)\n",
    "\n",
    "     "
   ]
  },
  {
   "cell_type": "code",
   "execution_count": 235,
   "metadata": {},
   "outputs": [
    {
     "data": {
      "text/plain": [
       "array([19., 26., 30., 20., 21., 13., 28., 28., 29., 25., 39., 17., 21.,\n",
       "       32., 31., 22., 14., 26., 20., 20., 20., 26., 23.])"
      ]
     },
     "execution_count": 235,
     "metadata": {},
     "output_type": "execute_result"
    }
   ],
   "source": [
    "conf_mat.sum(-1).sum(-1)[np.eye(23,dtype=bool)]"
   ]
  },
  {
   "cell_type": "code",
   "execution_count": 30,
   "metadata": {},
   "outputs": [
    {
     "name": "stdout",
     "output_type": "stream",
     "text": [
      "(23, 23, 12, 25)\n"
     ]
    }
   ],
   "source": [
    "conf_mat = hippo_recall_scores['objects']['conf_mat']['None'].squeeze()[:,:,:,:]\n",
    "print(conf_mat.shape)\n",
    "conf_acc = conf_mat.sum(-1).sum(-1)[np.eye(23,dtype=bool)].sum() / conf_mat.sum()"
   ]
  },
  {
   "cell_type": "code",
   "execution_count": 31,
   "metadata": {},
   "outputs": [
    {
     "data": {
      "text/plain": [
       "(23, 23, 12, 25)"
      ]
     },
     "execution_count": 31,
     "metadata": {},
     "output_type": "execute_result"
    }
   ],
   "source": [
    "conf_mat.shape"
   ]
  },
  {
   "cell_type": "code",
   "execution_count": 32,
   "metadata": {},
   "outputs": [
    {
     "data": {
      "text/plain": [
       "<matplotlib.colorbar.Colorbar at 0x7f0f3d8e5710>"
      ]
     },
     "execution_count": 32,
     "metadata": {},
     "output_type": "execute_result"
    },
    {
     "data": {
      "image/png": "[encoded data removed]",
      "text/plain": [
       "<Figure size 432x288 with 2 Axes>"
      ]
     },
     "metadata": {
      "needs_background": "light"
     },
     "output_type": "display_data"
    }
   ],
   "source": [
    "plt.imshow(conf_mat.sum(-1).sum(-1));plt.colorbar()"
   ]
  },
  {
   "cell_type": "code",
   "execution_count": 34,
   "metadata": {},
   "outputs": [
    {
     "data": {
      "image/png": "[encoded data removed]",
      "text/plain": [
       "<Figure size 432x288 with 2 Axes>"
      ]
     },
     "metadata": {
      "needs_background": "light"
     },
     "output_type": "display_data"
    }
   ],
   "source": [
    "plt.imshow(conf_mat[:,:,0,0] + conf_mat[:,:,1:,0].sum(2)); plt.colorbar();"
   ]
  },
  {
   "cell_type": "code",
   "execution_count": 256,
   "metadata": {},
   "outputs": [
    {
     "name": "stdout",
     "output_type": "stream",
     "text": [
      "(1, 23, 23, 12, 25)\n",
      "(12,)\n",
      "(25,)\n",
      "0.04414869124961836 0.04414869124961836 (25, 1001)\n",
      "(1, 23, 23, 12, 25)\n",
      "(12,)\n",
      "(275,)\n",
      "0.04430066531720682 0.044300665317206826 (25, 1001)\n",
      "(1, 23, 23, 12, 25)\n",
      "(12,)\n",
      "(300,)\n",
      "0.044288000811574454 0.04428800081157445 (25, 1001)\n",
      "(1, 23, 23, 12, 25)\n",
      "(12,)\n",
      "(25,)\n",
      "0.04384635568471423 0.04384635568471423 (25, 1001)\n",
      "(1, 23, 23, 12, 25)\n",
      "(12,)\n",
      "(275,)\n",
      "0.03757821892771183 0.03757821892771183 (25, 1001)\n",
      "(1, 23, 23, 12, 25)\n",
      "(12,)\n",
      "(300,)\n",
      "0.038100563657462026 0.03810056365746203 (25, 1001)\n"
     ]
    },
    {
     "data": {
      "image/png": "[encoded data removed]",
      "text/plain": [
       "<Figure size 432x288 with 1 Axes>"
      ]
     },
     "metadata": {
      "needs_background": "light"
     },
     "output_type": "display_data"
    },
    {
     "data": {
      "image/png": "[encoded data removed]",
      "text/plain": [
       "<Figure size 432x288 with 1 Axes>"
      ]
     },
     "metadata": {
      "needs_background": "light"
     },
     "output_type": "display_data"
    }
   ],
   "source": [
    "trials = ['GR0', 'GR1', 'GR2', 'GR3','GR4', 'GR5', 'GR6', 'GR7','GR8', 'GR9', 'GR10','FR']\n",
    "\n",
    "for beta2use in ['rooms','objects']:\n",
    "    \n",
    "    plt.figure()\n",
    "    for t2u, trial_to_use in enumerate(['FR','GR','both']):\n",
    "        \n",
    "        if trial_to_use == 'FR':\n",
    "            trials_to_use = [np.arange(len(trials))[-1]]\n",
    "        elif trial_to_use == 'GR':\n",
    "            trials_to_use = np.arange(len(trials))[:-1]\n",
    "        elif trial_to_use =='both':\n",
    "            trials_to_use = np.arange(len(trials))\n",
    "\n",
    "        print(hippo_recall_scores[beta2use]['conf_mat']['None'].shape)\n",
    "        conf_mat = hippo_recall_scores[beta2use]['conf_mat']['None'].squeeze()[:,:,:,:]\n",
    "#         conf_acc = conf_mat.sum(-1).sum(-1)[np.eye(23,dtype=bool)].sum() / conf_mat.sum()\n",
    "        \n",
    "#         conf_acc = []\n",
    "#         for i in range(12):\n",
    "#             temp_confmat = conf_mat[:,:,i,:]\n",
    "#             conf_acc.append(temp_confmat.sum(-1)[np.eye(23,dtype=bool)].sum() / temp_confmat.sum())\n",
    "#         print(np.shape(conf_acc))\n",
    "#         conf_acc = np.mean(np.array(conf_acc)[trials_to_use])\n",
    "        \n",
    "        conf_acc = []\n",
    "        for i in trials_to_use:\n",
    "            for j in range(25):\n",
    "                temp_confmat = conf_mat[:,:,i,j]\n",
    "                conf_acc.append(temp_confmat[np.eye(23,dtype=bool)].sum() / temp_confmat.sum())\n",
    "        print(np.shape(conf_acc))\n",
    "#         conf_acc = np.mean(np.array(conf_acc)[trials_to_use])\n",
    "        conf_acc = np.mean(np.array(conf_acc))\n",
    "        \n",
    "#         conf_acc = np.nanmean(hippo_recall_scores[beta2use]['conf_mat']['None'].squeeze()[trials_to_use,:,:],0).mean(0)\n",
    "\n",
    "        trial_acc = np.nanmean(hippo_recall_scores[beta2use]['accuracy']['None'].squeeze()[trials_to_use,:,:],0) #select trials\n",
    "\n",
    "        print(conf_acc, trial_acc[:,0].mean(), trial_acc.shape)\n",
    "        \n",
    "        trial_acc_mean = trial_acc[:,1:].mean(0) # averageout subj\n",
    "        \n",
    "        trialaccs = trial_acc[:,:].mean(0) #keep 1001\n",
    "        \n",
    "        ## get p-value\n",
    "        sided = 1        \n",
    "        thesum = np.sum(np.abs(trialaccs)>=np.abs(trialaccs[0])) if sided==2 else np.sum((trialaccs[:])>=(trialaccs[0]))\n",
    "        p = (thesum/(1001))  #turn to fraction\n",
    "        \n",
    "#         p = stats.norm.sf()\n",
    "\n",
    "        plt.violinplot(trial_acc_mean,positions=[t2u+1])\n",
    "        plt.scatter(t2u+1,trial_acc[:,0].mean())\n",
    "        plt.annotate('p: {:.3f}'.format(p), (t2u+1+0.05, trial_acc[:,0].mean()))\n",
    "        \n",
    "    plt.xticks(range(1,4),['FR','GR','both'],fontsize=14)\n",
    "    plt.title(\"{} | {} | classification during recalls\".format(roi,beta2use),fontsize=20)\n",
    "    plt.xlabel('recall',fontsize=15);plt.ylabel(\"acc\",fontsize=15)\n",
    "    plt.hlines(1/23,1,3,linestyle='--',alpha=.3)\n",
    "\n",
    "\n"
   ]
  },
  {
   "cell_type": "code",
   "execution_count": 252,
   "metadata": {
    "scrolled": true
   },
   "outputs": [
    {
     "data": {
      "text/plain": [
       "[11]"
      ]
     },
     "execution_count": 252,
     "metadata": {},
     "output_type": "execute_result"
    }
   ],
   "source": [
    "trials_to_use"
   ]
  },
  {
   "cell_type": "markdown",
   "metadata": {},
   "source": [
    "# hippo RIPs"
   ]
  },
  {
   "cell_type": "code",
   "execution_count": 174,
   "metadata": {
    "scrolled": false
   },
   "outputs": [
    {
     "name": "stderr",
     "output_type": "stream",
     "text": [
      "/jukebox/pkgs/PYGER/0.9.1/lib/python3.7/site-packages/ipykernel_launcher.py:17: TqdmDeprecationWarning: This function will be removed in tqdm==5.0.0\n",
      "Please use `tqdm.notebook.tqdm` instead of `tqdm.tqdm_notebook`\n"
     ]
    },
    {
     "data": {
      "application/vnd.jupyter.widget-view+json": {
       "model_id": "bc063aa5337f4d758daf3e03844e62a1",
       "version_major": 2,
       "version_minor": 0
      },
      "text/plain": [
       "  0%|          | 0/2 [00:00<?, ?it/s]"
      ]
     },
     "metadata": {},
     "output_type": "display_data"
    },
    {
     "name": "stdout",
     "output_type": "stream",
     "text": [
      "...BETATYPE:  objects\n"
     ]
    },
    {
     "name": "stderr",
     "output_type": "stream",
     "text": [
      "/jukebox/pkgs/PYGER/0.9.1/lib/python3.7/site-packages/ipykernel_launcher.py:22: TqdmDeprecationWarning: This function will be removed in tqdm==5.0.0\n",
      "Please use `tqdm.notebook.tqdm` instead of `tqdm.tqdm_notebook`\n"
     ]
    },
    {
     "data": {
      "application/vnd.jupyter.widget-view+json": {
       "model_id": "ef5c49bed89a4265a522216c746749d7",
       "version_major": 2,
       "version_minor": 0
      },
      "text/plain": [
       "  0%|          | 0/1 [00:00<?, ?it/s]"
      ]
     },
     "metadata": {},
     "output_type": "display_data"
    },
    {
     "name": "stdout",
     "output_type": "stream",
     "text": [
      "............MEASURE:  RIPs\n",
      "...............HEM:  None\n"
     ]
    },
    {
     "name": "stderr",
     "output_type": "stream",
     "text": [
      "/jukebox/pkgs/PYGER/0.9.1/lib/python3.7/site-packages/ipykernel_launcher.py:67: TqdmDeprecationWarning: This function will be removed in tqdm==5.0.0\n",
      "Please use `tqdm.notebook.tqdm` instead of `tqdm.tqdm_notebook`\n"
     ]
    },
    {
     "data": {
      "application/vnd.jupyter.widget-view+json": {
       "model_id": "81970dbf1e9446e984aa973499cc6b06",
       "version_major": 2,
       "version_minor": 0
      },
      "text/plain": [
       "  0%|          | 0/1 [00:00<?, ?it/s]"
      ]
     },
     "metadata": {},
     "output_type": "display_data"
    },
    {
     "name": "stdout",
     "output_type": "stream",
     "text": [
      "...BETATYPE:  rooms\n"
     ]
    },
    {
     "data": {
      "application/vnd.jupyter.widget-view+json": {
       "model_id": "c0171d36c48444a59f36cda94f77eeaa",
       "version_major": 2,
       "version_minor": 0
      },
      "text/plain": [
       "  0%|          | 0/1 [00:00<?, ?it/s]"
      ]
     },
     "metadata": {},
     "output_type": "display_data"
    },
    {
     "name": "stdout",
     "output_type": "stream",
     "text": [
      "............MEASURE:  RIPs\n",
      "...............HEM:  None\n"
     ]
    },
    {
     "data": {
      "application/vnd.jupyter.widget-view+json": {
       "model_id": "e805459d6cd5492b905645ffcbba1b77",
       "version_major": 2,
       "version_minor": 0
      },
      "text/plain": [
       "  0%|          | 0/1 [00:00<?, ?it/s]"
      ]
     },
     "metadata": {},
     "output_type": "display_data"
    },
    {
     "name": "stdout",
     "output_type": "stream",
     "text": [
      "..... hippo\n",
      "hippo rooms\n",
      ".... t: 0.383 | p: 0.705\n",
      "0.045968591593868346 0.043478260869565216\n",
      "hippo objects\n",
      ".... t: -0.833 | p: 0.413\n",
      "0.041598398590267774 0.043478260869565216\n"
     ]
    },
    {
     "name": "stderr",
     "output_type": "stream",
     "text": [
      "/jukebox/pkgs/PYGER/0.9.1/lib/python3.7/site-packages/ipykernel_launcher.py:29: RuntimeWarning: Mean of empty slice\n",
      "/jukebox/pkgs/PYGER/0.9.1/lib/python3.7/site-packages/ipykernel_launcher.py:38: RuntimeWarning: Mean of empty slice\n"
     ]
    },
    {
     "data": {
      "application/vnd.jupyter.widget-view+json": {
       "model_id": "89cb225fd2004db0bd176390927190ed",
       "version_major": 2,
       "version_minor": 0
      },
      "text/plain": [
       "  0%|          | 0/2 [00:00<?, ?it/s]"
      ]
     },
     "metadata": {},
     "output_type": "display_data"
    },
    {
     "name": "stdout",
     "output_type": "stream",
     "text": [
      "...BETATYPE:  objects\n"
     ]
    },
    {
     "data": {
      "application/vnd.jupyter.widget-view+json": {
       "model_id": "a67419580ef841b29cb657f776ba15e3",
       "version_major": 2,
       "version_minor": 0
      },
      "text/plain": [
       "  0%|          | 0/1 [00:00<?, ?it/s]"
      ]
     },
     "metadata": {},
     "output_type": "display_data"
    },
    {
     "name": "stdout",
     "output_type": "stream",
     "text": [
      "............MEASURE:  RIPs\n",
      "...............HEM:  None\n"
     ]
    },
    {
     "data": {
      "application/vnd.jupyter.widget-view+json": {
       "model_id": "f02edefceecf4a5ca4b54a0c3d98ce01",
       "version_major": 2,
       "version_minor": 0
      },
      "text/plain": [
       "  0%|          | 0/1 [00:00<?, ?it/s]"
      ]
     },
     "metadata": {},
     "output_type": "display_data"
    },
    {
     "name": "stdout",
     "output_type": "stream",
     "text": [
      "...BETATYPE:  rooms\n"
     ]
    },
    {
     "data": {
      "application/vnd.jupyter.widget-view+json": {
       "model_id": "3246d75445ed4832a56f9e5ddcb195ed",
       "version_major": 2,
       "version_minor": 0
      },
      "text/plain": [
       "  0%|          | 0/1 [00:00<?, ?it/s]"
      ]
     },
     "metadata": {},
     "output_type": "display_data"
    },
    {
     "name": "stdout",
     "output_type": "stream",
     "text": [
      "............MEASURE:  RIPs\n",
      "...............HEM:  None\n"
     ]
    },
    {
     "data": {
      "application/vnd.jupyter.widget-view+json": {
       "model_id": "dbca996e35c040b0964d7f48d5485147",
       "version_major": 2,
       "version_minor": 0
      },
      "text/plain": [
       "  0%|          | 0/1 [00:00<?, ?it/s]"
      ]
     },
     "metadata": {},
     "output_type": "display_data"
    },
    {
     "name": "stdout",
     "output_type": "stream",
     "text": [
      "..... ahippo\n",
      "ahippo rooms\n",
      ".... t: 0.611 | p: 0.547\n",
      "0.044292121118908796 0.043478260869565216\n",
      "ahippo objects\n",
      ".... t: -0.085 | p: 0.933\n",
      "0.04246076973210334 0.043478260869565216\n"
     ]
    },
    {
     "data": {
      "application/vnd.jupyter.widget-view+json": {
       "model_id": "6805a69cc2f240dc998aac1e5ac60479",
       "version_major": 2,
       "version_minor": 0
      },
      "text/plain": [
       "  0%|          | 0/2 [00:00<?, ?it/s]"
      ]
     },
     "metadata": {},
     "output_type": "display_data"
    },
    {
     "name": "stdout",
     "output_type": "stream",
     "text": [
      "...BETATYPE:  objects\n"
     ]
    },
    {
     "data": {
      "application/vnd.jupyter.widget-view+json": {
       "model_id": "4f777263c9504d758745000a400cd052",
       "version_major": 2,
       "version_minor": 0
      },
      "text/plain": [
       "  0%|          | 0/1 [00:00<?, ?it/s]"
      ]
     },
     "metadata": {},
     "output_type": "display_data"
    },
    {
     "name": "stdout",
     "output_type": "stream",
     "text": [
      "............MEASURE:  RIPs\n",
      "...............HEM:  None\n"
     ]
    },
    {
     "data": {
      "application/vnd.jupyter.widget-view+json": {
       "model_id": "9df08179f7e444128597a63fe148da6a",
       "version_major": 2,
       "version_minor": 0
      },
      "text/plain": [
       "  0%|          | 0/1 [00:00<?, ?it/s]"
      ]
     },
     "metadata": {},
     "output_type": "display_data"
    },
    {
     "name": "stdout",
     "output_type": "stream",
     "text": [
      "...BETATYPE:  rooms\n"
     ]
    },
    {
     "data": {
      "application/vnd.jupyter.widget-view+json": {
       "model_id": "5008091cf664452790675535276fa102",
       "version_major": 2,
       "version_minor": 0
      },
      "text/plain": [
       "  0%|          | 0/1 [00:00<?, ?it/s]"
      ]
     },
     "metadata": {},
     "output_type": "display_data"
    },
    {
     "name": "stdout",
     "output_type": "stream",
     "text": [
      "............MEASURE:  RIPs\n",
      "...............HEM:  None\n"
     ]
    },
    {
     "data": {
      "application/vnd.jupyter.widget-view+json": {
       "model_id": "f4b3ead375ee43758adc3bee3245f14c",
       "version_major": 2,
       "version_minor": 0
      },
      "text/plain": [
       "  0%|          | 0/1 [00:00<?, ?it/s]"
      ]
     },
     "metadata": {},
     "output_type": "display_data"
    },
    {
     "name": "stdout",
     "output_type": "stream",
     "text": [
      "..... phippo\n",
      "phippo rooms\n",
      ".... t: 0.358 | p: 0.724\n",
      "0.04439920435574278 0.043478260869565216\n",
      "phippo objects\n",
      ".... t: 0.316 | p: 0.755\n",
      "0.043067353792512864 0.043478260869565216\n"
     ]
    },
    {
     "data": {
      "image/png": "[encoded data removed]",
      "text/plain": [
       "<Figure size 432x288 with 1 Axes>"
      ]
     },
     "metadata": {
      "needs_background": "light"
     },
     "output_type": "display_data"
    },
    {
     "data": {
      "image/png": "[encoded data removed]",
      "text/plain": [
       "<Figure size 432x288 with 1 Axes>"
      ]
     },
     "metadata": {
      "needs_background": "light"
     },
     "output_type": "display_data"
    },
    {
     "data": {
      "image/png": "[encoded data removed]",
      "text/plain": [
       "<Figure size 432x288 with 1 Axes>"
      ]
     },
     "metadata": {
      "needs_background": "light"
     },
     "output_type": "display_data"
    }
   ],
   "source": [
    "trial_to_use = 'GR'\n",
    "if trial_to_use == 'FR':\n",
    "    trials_to_use = [np.arange(len(trials))[-1]]\n",
    "elif trial_to_use == 'GR':\n",
    "    trials_to_use = np.arange(len(trials))[:-1]\n",
    "elif trial_to_use =='both':\n",
    "    trials_to_use = np.arange(len(trials))\n",
    "\n",
    "date = 20240108; shift = 4; win_size = 9;\n",
    "\n",
    "# betatypes = ['rooms','objects']\n",
    "betatypes = ['objects', 'rooms'] #['objects']\n",
    "roi = 'ahippo' # <--------- CHANGE THIS to see results for other HIPPO ROIs\n",
    "hems = ['None']\n",
    "measure_list = [\n",
    "#     'evidence',\n",
    "#     'accuracy', #\n",
    "#     'RIP_window', # \n",
    "    'RIPs',\n",
    "#     'conf_mat', #  \n",
    "  ]\n",
    "\n",
    "\n",
    "for hipporoi in ['hippo','ahippo','phippo']:\n",
    "    hippo_recall_scores = GetRecallEvidence(date, hipporoi, shift, win_size, measure_list, betatypes, hems=hems)\n",
    "    plt.figure()\n",
    "    print('.....', hipporoi)\n",
    "    for bi,beta2use in enumerate(['rooms','objects']):\n",
    "        curr_rip = np.nanmean(hippo_recall_scores[beta2use]['RIPs']['None'].squeeze()[trials_to_use],1) #.mean(1).mean(1)\n",
    "        all_rips = curr_rip.ravel()\n",
    "        all_rips = np.nanmean(curr_rip,0)\n",
    "        \n",
    "        t,p = stats.ttest_1samp(all_rips[~np.isnan(all_rips)],1/23)\n",
    "        print(hipporoi, beta2use)\n",
    "        print('.... t: {:.3f} | p: {:.3f}'.format(t, p))\n",
    "\n",
    "        \n",
    "        x = np.nanmean(np.nanmean(hippo_recall_scores[beta2use]['RIPs']['None'].squeeze(),1),1) #.mean(1).mean(1)\n",
    "        print(x.mean(), 1/23)\n",
    "        \n",
    "        plt.bar(bi,t)\n",
    "        plt.annotate('p: {:.3f}'.format(p), (bi+0.05, t))\n",
    "        \n",
    "#         plt.violinplot(trial_acc_mean,positions=[t2u+1])\n",
    "#         plt.scatter(t2u+1,trial_acc[:,0].mean())\n",
    "#         plt.annotate('p: {:.3f}'.format(p), (t2u+1+0.05, trial_acc[:,0].mean()))\n",
    "        \n",
    "    plt.xticks(range(0,2),['rooms','objects'],fontsize=14)\n",
    "    plt.title(\"{} recalled item probability avg\\n FR/GR/Both?: {} \".format(hipporoi,trial_to_use),fontsize=20)\n",
    "#     plt.xlabel('recall',fontsize=15);plt.ylabel(\"acc\",fontsize=15)\n",
    "#     plt.hlines(1/23,1,3,linestyle='--',alpha=.3)\n",
    "    plt.ylabel(\"t-score\", fontsize=14)\n",
    "\n",
    "\n"
   ]
  },
  {
   "cell_type": "code",
   "execution_count": 153,
   "metadata": {},
   "outputs": [
    {
     "data": {
      "text/plain": [
       "(23, 25)"
      ]
     },
     "execution_count": 153,
     "metadata": {},
     "output_type": "execute_result"
    }
   ],
   "source": [
    "curr_rip.shape"
   ]
  },
  {
   "cell_type": "code",
   "execution_count": null,
   "metadata": {},
   "outputs": [],
   "source": []
  },
  {
   "cell_type": "code",
   "execution_count": null,
   "metadata": {},
   "outputs": [],
   "source": []
  },
  {
   "cell_type": "code",
   "execution_count": null,
   "metadata": {},
   "outputs": [],
   "source": []
  }
 ],
 "metadata": {
  "kernelspec": {
   "display_name": "Python 3",
   "language": "python",
   "name": "python3"
  },
  "language_info": {
   "codemirror_mode": {
    "name": "ipython",
    "version": 3
   },
   "file_extension": ".py",
   "mimetype": "text/x-python",
   "name": "python",
   "nbconvert_exporter": "python",
   "pygments_lexer": "ipython3",
   "version": "3.7.9"
  }
 },
 "nbformat": 4,
 "nbformat_minor": 2
}
