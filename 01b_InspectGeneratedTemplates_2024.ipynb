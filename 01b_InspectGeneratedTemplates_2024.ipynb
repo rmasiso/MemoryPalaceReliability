{
 "cells": [
  {
   "cell_type": "markdown",
   "metadata": {},
   "source": [
    "# Inspect the Templates (after GenerateTemplates script is run)\n",
    "\n",
    "After running the template creator script, I can inspect the templates and run RSA-style analyses. \n"
   ]
  },
  {
   "cell_type": "code",
   "execution_count": 6,
   "metadata": {},
   "outputs": [],
   "source": [
    "import numpy as np\n",
    "import deepdish as dd\n",
    "import os\n",
    "import h5py\n",
    "import pandas as pd\n",
    "import matplotlib.pyplot as plt\n",
    "from _classification_util import GetTemplates\n",
    "from _mempal_util import subject_ids\n"
   ]
  },
  {
   "cell_type": "markdown",
   "metadata": {},
   "source": [
    "### function for spatial intersubject correlation"
   ]
  },
  {
   "cell_type": "code",
   "execution_count": 2,
   "metadata": {},
   "outputs": [],
   "source": [
    "def RunLOO_SpatialISC_bySubj(template_in,plot=True):\n",
    "    \n",
    "    '''\n",
    "    runs spatial ISC with leave one out. returns 23x23x25(subj) (hardcoded)\n",
    "    \n",
    "    templates are ordered by the default ordering so templates are consistent for all subjects.\n",
    "    \n",
    "    '''\n",
    "\n",
    "#     template_in = templates[run_i][betatype][hem]\n",
    "    spatial_isc = np.zeros((23,23,len(subject_ids)))\n",
    "    for si in range(len(subject_ids)):\n",
    "\n",
    "        loo = template_in[:,:,si]\n",
    "        group = template_in[:,:,np.arange(len(subject_ids))!=si].mean(2)\n",
    "\n",
    "        spatial_isc[:,:,si] = np.corrcoef(loo.T,group.T)[:23,23:] \n",
    "        \n",
    "        \n",
    "    if plot==True:\n",
    "        plt.imshow(spatial_isc.mean(2),aspect='auto');plt.colorbar();\n",
    "    else:\n",
    "        print()\n",
    "    \n",
    "    return spatial_isc "
   ]
  },
  {
   "cell_type": "markdown",
   "metadata": {},
   "source": [
    "### across subjects, room spatial patterns in V1 seem relatively differentiable"
   ]
  },
  {
   "cell_type": "code",
   "execution_count": 67,
   "metadata": {
    "scrolled": true
   },
   "outputs": [
    {
     "name": "stdout",
     "output_type": "stream",
     "text": [
      "dict_keys(['PV1', 'PV2', 'ROV1', 'ROV1+ROV2', 'ROV2', 'RV1', 'RV1+RV2', 'RV1+RV2+PV1', 'RV2'])\n",
      "['RV1']\n",
      "dict_keys(['PV1', 'PV2', 'ROV1', 'ROV1+ROV2', 'ROV2', 'RV1', 'RV1+RV2', 'RV1+RV2+PV1', 'RV2'])\n",
      "RV1\n"
     ]
    },
    {
     "data": {
      "image/png": "[encoded data removed]",
      "text/plain": [
       "<Figure size 432x288 with 2 Axes>"
      ]
     },
     "metadata": {
      "needs_background": "light"
     },
     "output_type": "display_data"
    }
   ],
   "source": [
    "### Show Spatial ISC for Visual Cortex (notice diagonal)\n",
    "\n",
    "roi = 'V1'\n",
    "roi_id = 9999\n",
    "hem = 'R'\n",
    "betatype = 'rooms'\n",
    "runs = ['RV1'] # room video 1\n",
    "\n",
    "###\n",
    "### GRAB TEMPLATES\n",
    "###\n",
    "\n",
    "template_dir = '../PythonData2024/Output/templates'\n",
    "\n",
    "# date = 20230802 \n",
    "date = 20240108\n",
    "\n",
    "templates, valid_verts = GetTemplates(date,runs,roi,roi_id, hem, template_dir)\n",
    "\n",
    "isc = RunLOO_SpatialISC_bySubj(templates['RV1']['rooms']['R'])\n",
    "\n",
    "# print(isc.shape)\n",
    "\n",
    "# plt.imshow(isc.mean(2));plt.colorbar();"
   ]
  },
  {
   "cell_type": "markdown",
   "metadata": {},
   "source": [
    "### across subjects, object spatial patterns in V1 seem relatively differentiable"
   ]
  },
  {
   "cell_type": "code",
   "execution_count": 7,
   "metadata": {},
   "outputs": [
    {
     "name": "stdout",
     "output_type": "stream",
     "text": [
      "dict_keys(['PV1', 'PV2', 'ROV1', 'ROV1+ROV2', 'ROV2', 'RV1', 'RV1+RV2', 'RV1+RV2+PV1', 'RV2'])\n",
      "['ROV1']\n",
      "dict_keys(['PV1', 'PV2', 'ROV1', 'ROV1+ROV2', 'ROV2', 'RV1', 'RV1+RV2', 'RV1+RV2+PV1', 'RV2'])\n",
      "ROV1\n"
     ]
    },
    {
     "data": {
      "image/png": "[encoded data removed]",
      "text/plain": [
       "<Figure size 432x288 with 2 Axes>"
      ]
     },
     "metadata": {
      "needs_background": "light"
     },
     "output_type": "display_data"
    }
   ],
   "source": [
    "### Show Spatial ISC for Visual Cortex (notice diagonal)\n",
    "\n",
    "roi = 'V1'\n",
    "roi_id = 9999\n",
    "hem = 'R'\n",
    "betatype = 'objects'\n",
    "runs = ['ROV1'] # room video 1\n",
    "\n",
    "###\n",
    "### GRAB TEMPLATES\n",
    "###\n",
    "\n",
    "template_dir = '../PythonData2024/Output/templates'\n",
    "\n",
    "# date = 20230802 \n",
    "date = 20240108\n",
    "\n",
    "templates, valid_verts = GetTemplates(date,runs,roi,roi_id, hem, template_dir)\n",
    "\n",
    "isc = RunLOO_SpatialISC_bySubj(templates[runs[0]]['rooms']['R'])\n",
    "\n",
    "# print(isc.shape)\n",
    "\n",
    "# plt.imshow(isc.mean(2));plt.colorbar();"
   ]
  },
  {
   "cell_type": "code",
   "execution_count": 13,
   "metadata": {},
   "outputs": [
    {
     "name": "stdout",
     "output_type": "stream",
     "text": [
      "dict_keys(['PV1', 'PV2', 'ROV1', 'ROV1+ROV2', 'ROV2', 'RV1', 'RV1+RV2', 'RV1+RV2+PV1', 'RV2'])\n",
      "['RV1']\n",
      "dict_keys(['PV1', 'PV2', 'ROV1', 'ROV1+ROV2', 'ROV2', 'RV1', 'RV1+RV2', 'RV1+RV2+PV1', 'RV2'])\n",
      "RV1\n"
     ]
    },
    {
     "data": {
      "image/png": "[encoded data removed]",
      "text/plain": [
       "<Figure size 432x288 with 2 Axes>"
      ]
     },
     "metadata": {
      "needs_background": "light"
     },
     "output_type": "display_data"
    }
   ],
   "source": [
    "### IMPORT NEW TEMPLATES\n",
    "\n",
    "roi = 'phippo'\n",
    "roi_id = 9999\n",
    "hem = 'None'\n",
    "betatype = 'rooms'\n",
    "runs = ['RV1']\n",
    "\n",
    "###\n",
    "### GRAB TEMPLATES\n",
    "###\n",
    "\n",
    "template_dir = '../PythonData2024/Output/templates'\n",
    "date = 20230802 \n",
    "date = 20240108\n",
    "\n",
    "\n",
    "templates,valid_verts = GetTemplates(date,runs,roi,roi_id, hem, template_dir)\n",
    "\n",
    "isc = RunLOO_SpatialISC_bySubj(templates['RV1']['rooms'][hem])\n",
    "# print(isc.shape)\n",
    "\n",
    "# plt.imshow(isc.mean(2));plt.colorbar();"
   ]
  },
  {
   "cell_type": "markdown",
   "metadata": {},
   "source": [
    "### posterior hippocampus spatial ISC for object video"
   ]
  },
  {
   "cell_type": "code",
   "execution_count": 63,
   "metadata": {},
   "outputs": [
    {
     "name": "stdout",
     "output_type": "stream",
     "text": [
      "dict_keys(['PV1', 'PV2', 'ROV1', 'ROV1+ROV2', 'ROV2', 'RV1', 'RV1+RV2', 'RV1+RV2+PV1', 'RV2'])\n",
      "['ROV1']\n",
      "dict_keys(['PV1', 'PV2', 'ROV1', 'ROV1+ROV2', 'ROV2', 'RV1', 'RV1+RV2', 'RV1+RV2+PV1', 'RV2'])\n",
      "ROV1\n"
     ]
    },
    {
     "data": {
      "image/png": "[encoded data removed]",
      "text/plain": [
       "<Figure size 432x288 with 2 Axes>"
      ]
     },
     "metadata": {
      "needs_background": "light"
     },
     "output_type": "display_data"
    }
   ],
   "source": [
    "### IMPORT NEW TEMPLATES\n",
    "\n",
    "roi = 'phippo'\n",
    "roi_id = 9999\n",
    "hem = 'None'\n",
    "betatype = 'objects'\n",
    "runs = ['ROV1']\n",
    "\n",
    "###\n",
    "### GRAB TEMPLATES\n",
    "###\n",
    "\n",
    "template_dir = '../PythonData2024/Output/templates'\n",
    "date = 20230802 \n",
    "date = 20240108\n",
    "\n",
    "\n",
    "templates,valid_verts = GetTemplates(date,runs,roi,roi_id, hem, template_dir)\n",
    "\n",
    "isc = RunLOO_SpatialISC_bySubj(templates[runs[0]]['rooms'][hem])\n",
    "# print(isc.shape)\n",
    "\n",
    "# plt.imshow(isc.mean(2));plt.colorbar();"
   ]
  },
  {
   "cell_type": "markdown",
   "metadata": {},
   "source": [
    "### random searchlight room patterns"
   ]
  },
  {
   "cell_type": "code",
   "execution_count": 61,
   "metadata": {},
   "outputs": [
    {
     "name": "stdout",
     "output_type": "stream",
     "text": [
      "dict_keys(['PV1', 'PV2', 'ROV1', 'ROV1+ROV2', 'ROV2', 'RV1', 'RV1+RV2', 'RV1+RV2+PV1', 'RV2'])\n",
      "['RV1']\n",
      "dict_keys(['PV1', 'PV2', 'ROV1', 'ROV1+ROV2', 'ROV2', 'RV1', 'RV1+RV2', 'RV1+RV2+PV1', 'RV2'])\n",
      "RV1\n"
     ]
    },
    {
     "data": {
      "image/png": "[encoded data removed]",
      "text/plain": [
       "<Figure size 432x288 with 2 Axes>"
      ]
     },
     "metadata": {
      "needs_background": "light"
     },
     "output_type": "display_data"
    }
   ],
   "source": [
    "roi = 'SL'\n",
    "roi_id = 234 #random\n",
    "hem = 'L'\n",
    "betatype = 'rooms'\n",
    "runs = ['RV1']\n",
    "\n",
    "###\n",
    "### GRAB TEMPLATES\n",
    "###\n",
    "\n",
    "template_dir = '../PythonData2024/Output/templates'\n",
    "date = 20230802 \n",
    "date = 20240108\n",
    "\n",
    "templates,valid_verts = GetTemplates(date,runs,roi,roi_id, hem, template_dir)\n",
    "\n",
    "isc = RunLOO_SpatialISC_bySubj(templates['RV1']['rooms'][hem])\n",
    "\n",
    "# print(isc.shape)\n",
    "# plt.imshow(isc.mean(2));plt.colorbar();"
   ]
  },
  {
   "cell_type": "code",
   "execution_count": null,
   "metadata": {},
   "outputs": [],
   "source": []
  },
  {
   "cell_type": "code",
   "execution_count": null,
   "metadata": {},
   "outputs": [],
   "source": []
  }
 ],
 "metadata": {
  "kernelspec": {
   "display_name": "Python 3",
   "language": "python",
   "name": "python3"
  },
  "language_info": {
   "codemirror_mode": {
    "name": "ipython",
    "version": 3
   },
   "file_extension": ".py",
   "mimetype": "text/x-python",
   "name": "python",
   "nbconvert_exporter": "python",
   "pygments_lexer": "ipython3",
   "version": "3.7.9"
  }
 },
 "nbformat": 4,
 "nbformat_minor": 2
}
