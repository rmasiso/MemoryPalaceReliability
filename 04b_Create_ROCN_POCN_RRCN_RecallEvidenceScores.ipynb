{
 "cells": [
  {
   "cell_type": "markdown",
   "metadata": {},
   "source": [
    "# Function:\n",
    "\n",
    "This notebook takes the room and object networks and uses them as a mask to extract the classifier evidence for rooms or objects (depending on the network) from recall data (GRs and FRs).\n",
    "\n",
    "\n"
   ]
  },
  {
   "cell_type": "markdown",
   "metadata": {},
   "source": [
    "# Import"
   ]
  },
  {
   "cell_type": "code",
   "execution_count": 1,
   "metadata": {},
   "outputs": [
    {
     "name": "stdout",
     "output_type": "stream",
     "text": [
      "total 1066240\r\n",
      "-rw-rw-r--. 1 rmasis normanlab 51881500 Aug  8 11:38 20250807_partialcorr_reliability2evidence_RRCNcontrol.pkl\r\n",
      "-rw-rw-r--. 1 rmasis normanlab 69451418 Aug  8 10:23 20250807_RRCNs_to_reliability_and_ROCN.pkl\r\n",
      "-rw-rw-r--. 1 rmasis normanlab 22037689 Aug  2 11:54 20250801_reliability2RecallBehav.pkl\r\n",
      "-rw-rw-r--. 1 rmasis normanlab  7715863 Jul  1 15:33 20250524_ClassifyRecalls_ConfMatAccuracy_RoomsOnObjectEvents_shift4.pkl\r\n",
      "-rw-rw-r--. 1 rmasis normanlab 51944890 May 26 13:27 20250524_reliability2efeatures.pkl\r\n",
      "-rw-rw-r--. 1 rmasis normanlab 45608255 May 26 12:32 20250524_reliability2evidence.pkl\r\n",
      "-rw-rw-r--. 1 rmasis normanlab 34167876 May 24 16:42 20250524_partialcorr_reliability2evidence_RRCNcontrol.pkl\r\n",
      "-rw-rw-r--. 1 rmasis normanlab 69491381 Apr 28 17:36 20250425_reliability2efeatures.pkl\r\n",
      "-rw-rw-r--. 1 rmasis normanlab 52293428 Apr 23 16:49 202504232_reliability2efeatures.pkl\r\n",
      "-rw-rw-r--. 1 rmasis normanlab 67003198 Apr 23 14:01 20250423_reliability2efeatures.pkl\r\n",
      "-rw-rw-r--. 1 rmasis normanlab 34920288 Apr 17  2025 20250417_reliability2efeatures.pkl\r\n",
      "-rw-rw-r--. 1 rmasis normanlab 45586264 Apr  8  2025 20250404_reliability2evidence.pkl\r\n",
      "-rw-rw-r--. 1 rmasis normanlab 31520820 Mar 26  2025 20250326_partialcorr_reliability2evidence_RRCNcontrol.pkl\r\n",
      "-rw-rw-r--. 1 rmasis normanlab 45871378 Mar 26  2025 20250326_reliability2evidence.pkl\r\n",
      "-rw-rw-r--. 1 rmasis normanlab 22994964 Mar 21  2025 202503203_partialcorr_reliability2evidence_RRCNcontrol.pkl\r\n",
      "-rw-rw-r--. 1 rmasis normanlab 30648115 Mar 21  2025 20250320_reliability2evidence.pkl\r\n",
      "-rw-rw-r--. 1 rmasis normanlab 22997475 Mar 21  2025 202503201_partialcorr_reliability2evidence_RRCNcontrol.pkl\r\n",
      "-rw-rw-r--. 1 rmasis normanlab 22702225 Mar 21  2025 202503202_partialcorr_reliability2evidence_RRCNcontrol.pkl\r\n",
      "-rw-rw-r--. 1 rmasis normanlab 23154624 Mar 20  2025 20250312_partialcorr_reliability2evidence_RRCNcontrol.pkl\r\n",
      "-rw-rw-r--. 1 rmasis normanlab 15459002 Mar 20  2025 20250312_reliability2evidence.pkl\r\n",
      "-rw-rw-r--. 1 rmasis normanlab 27334663 Mar 13  2025 20250312_ClassifyRecalls_Accuracy_shift4.pkl\r\n",
      "-rw-rw-r--. 1 rmasis normanlab 23163869 Mar  7  2025 20250307_partialcorr_reliability2evidence_RRCNcontrol.pkl\r\n",
      "-rw-rw-r--. 1 rmasis normanlab 33019532 Mar  6  2025 20250305_reliability2evidence_RRCNcontrol.pkl\r\n",
      "-rw-rw-r--. 1 rmasis normanlab  5670873 Mar  2  2025 20250302_TemplateCorrelations.pkl\r\n",
      "-rw-rw-r--. 1 rmasis normanlab 15509938 Mar  1  2025 20250301_roomsevidence2objecsevidence.pkl\r\n",
      "-rw-rw-r--. 1 rmasis normanlab 31187171 Feb 28  2025 20250227_reliability2RRCNAndPRCNroomsevidence.pkl\r\n",
      "-rw-rw-r--. 1 rmasis normanlab 15585882 Feb 27  2025 20250227_reliability2SLroomsevidence.pkl\r\n",
      "-rw-rw-r--. 1 rmasis normanlab 15488889 Feb 27  2025 20250227_reliability2SLobjectsevidence.pkl\r\n",
      "-rw-rw-r--. 1 rmasis normanlab 30704303 Sep 24  2024 20240924_reliability2evidence.pkl\r\n",
      "-rw-rw-r--. 1 rmasis normanlab 30702622 Apr 16  2024 20240401_reliability2evidence.pkl\r\n",
      "-rw-rw-r--. 1 rmasis normanlab 53986195 Apr 15  2024 20240401_ClassifyRecalls_Accuracy_shift4.pkl\r\n",
      "-rw-rw-r--. 1 rmasis normanlab 19033359 Apr  2  2024 20240401_ClassifyVideos_Accuracy.pkl\r\n",
      "-rw-rw-r--. 1 rmasis normanlab 30663329 Feb 28  2024 20240108_reliability2evidence.pkl\r\n",
      "-rw-rw-r--. 1 rmasis normanlab 19235925 Feb 19  2024 20240112_ClassifyVideos_Accuracy.pkl\r\n",
      "-rw-rw-r--. 1 rmasis normanlab 19155573 Feb 19  2024 20240111_ClassifyVideos_Accuracy.pkl\r\n",
      "-rw-rw-r--. 1 rmasis normanlab 27426811 Feb 19  2024 20240108_ClassifyRecalls_Accuracy_shift4.pkl\r\n",
      "-rw-rw-r--. 1 rmasis normanlab 18954815 Feb  5  2024 20240110_ClassifyVideos_Accuracy.pkl\r\n",
      "-rw-rw-r--. 1 rmasis normanlab 19149319 Feb  5  2024 20240108_ClassifyVideos_Accuracy.pkl\r\n",
      "-rw-rw-r--. 1 rmasis normanlab 18937891 Feb  5  2024 20240109_ClassifyVideos_Accuracy.pkl\r\n",
      "-rw-rw-r--. 1 rmasis normanlab  3682147 Jan 22  2024 20240108_Reliability.pkl\r\n"
     ]
    }
   ],
   "source": [
    "ls -lt ../PythonData2024/Output/brainmaps/"
   ]
  },
  {
   "cell_type": "code",
   "execution_count": 1,
   "metadata": {},
   "outputs": [],
   "source": [
    "from tqdm import tqdm_notebook\n",
    "import deepdish as dd\n",
    "import numpy as np\n",
    "import os\n",
    "import h5py\n",
    "import pandas as pd\n",
    "from scipy import stats\n",
    "from _searchlight_util import *\n",
    "import matplotlib.pyplot as plt\n",
    "from _classification_util import Convert_SourceItem_to_PairedItem_Order\n",
    "from _mempal_util import room_obj_assignments, save_obj, load_obj, create_dirs, subject_ids\n",
    "\n",
    "trials = ['GR0', 'GR1', 'GR2', 'GR3','GR4', 'GR5', 'GR6', 'GR7','GR8', 'GR9', 'GR10','FR']\n",
    "roi = 'SL'\n",
    "nSubj =25"
   ]
  },
  {
   "cell_type": "code",
   "execution_count": 2,
   "metadata": {
    "scrolled": true
   },
   "outputs": [],
   "source": [
    "def GetRecallEvidence(date, roi, shift, win_size, measure_list, betatypes, dirpath = '../PythonData2024/Output/ClassifyRecalls'):\n",
    "    '''\n",
    "    - grabs the whole-brain results of classifying recalls (GRs+FRs)\n",
    "    - returns 'scores' which is a dict with the data in measure_list\n",
    "    \n",
    "    '''\n",
    "\n",
    "    trials = ['GR0', 'GR1', 'GR2', 'GR3','GR4', 'GR5', 'GR6', 'GR7','GR8', 'GR9', 'GR10','FR']\n",
    "\n",
    "    nPerm = 1000\n",
    "    nTrials = len(trials)\n",
    "    nItems   = 23\n",
    "\n",
    "    \n",
    "    scores = {}\n",
    "\n",
    "    for betatype in tqdm_notebook(betatypes):\n",
    "        scores[betatype] = {}\n",
    "\n",
    "        print(\"...BETATYPE: \", betatype)\n",
    "\n",
    "        for measuretype in tqdm_notebook(measure_list):\n",
    "            scores[betatype][measuretype] = {}\n",
    "\n",
    "            print(\"............MEASURE: \", measuretype)\n",
    "\n",
    "            for hem in ['R','L']:\n",
    "                print(\"...............HEM: \",hem)\n",
    "\n",
    "                hem_label = hem\n",
    "                betatype_label=betatype\n",
    "\n",
    "                ###\n",
    "                ### Specific initiation for different array shapes\n",
    "                ###\n",
    "\n",
    "                if 'RIP_window' == measuretype:\n",
    "                    scores[betatype][measuretype][hem] = np.zeros(((len(SLlist[hem]),win_size,nTrials,nSubj))) \n",
    "\n",
    "                if 'evidence_window' == measuretype:\n",
    "                    scores[betatype][measuretype][hem] = np.zeros(((len(SLlist[hem]),win_size,nItems, nTrials,nSubj))) \n",
    "\n",
    "                if 'accuracy' == measuretype:\n",
    "                    scores[betatype][measuretype][hem] = np.zeros(((len(SLlist[hem]),nTrials,nSubj,nPerm+1)))\n",
    "\n",
    "    #             if 'real_minus_prior' == measuretype:\n",
    "    #                 scores[betatype][measuretype][hem] = np.zeros(((len(SLlist[hem]),nTrials,nSubj)))   \n",
    "\n",
    "                if 'evidence' == measuretype:\n",
    "                    scores[betatype][measuretype][hem] = {}\n",
    "\n",
    "                if 'conf_mat' == measuretype: # comes in as (nItems,nItems,nTrials,nSubj,nPerm+1)\n",
    "                    scores[betatype][measuretype][hem] = np.full((len(SLlist[hem]),nItems,nItems,nTrials,nSubj), fill_value=np.nan)\n",
    "#                     scores[betatype][measuretype][hem] = np.full((len(SLlist[hem]),nItems,nItems), fill_value=np.nan)\n",
    "\n",
    "\n",
    "                if 'RIPs' == measuretype:\n",
    "    #                 scores[betatype][measuretype][hem] = np.full((len(SLlist[hem]),nItems,nItems,nTrials,nSubj), fill_value=np.nan)\n",
    "                    scores[betatype][measuretype][hem] = np.full((len(SLlist[hem]),nItems,nTrials,nSubj), fill_value=np.nan)\n",
    "                    \n",
    "\n",
    "\n",
    "                if 'avg_RIPs' == measuretype:\n",
    "                    scores[betatype][measuretype][hem] = np.zeros(((len(SLlist[hem]),2, nItems,nSubj))) # for GR and FR\n",
    "                ###\n",
    "                ### Load the saved .h5 files\n",
    "                ###\n",
    "\n",
    "                for roi_id in tqdm_notebook(range(len(SLlist[hem]))[:]):\n",
    "\n",
    "#                     dirpath = '../PythonData2024/Output/ClassifyRecalls'\n",
    "\n",
    "                    fname = '{}_{}{:03d}_hems{}_betas{}_winsize{}_shift{}_ClassifyRecalls'.format(\n",
    "                    date,\n",
    "                    roi,\n",
    "                    roi_id,\n",
    "                    hem_label,\n",
    "                    betatype_label,\n",
    "                    win_size,\n",
    "                    shift) + '.h5'\n",
    "\n",
    "                    fullpath = os.path.join(dirpath,fname)\n",
    "\n",
    "                    temp = dd.io.load(fullpath,'/{}/{}/{}'.format(betatype,hem,measuretype))\n",
    "\n",
    "                    if measuretype=='conf_mat':\n",
    "#                         print('.......conf_mat shape: ', temp.shape)\n",
    "#                         scores[betatype][measuretype][hem][roi_id] = np.nanmean(np.nanmean(temp[:,:,:,:,0],2),2)\n",
    "                        scores[betatype][measuretype][hem][roi_id,:,:,:,:] = temp[:,:,:,:,0] # permutations are empty, so no need to collect them\n",
    "#                          scores[betatype][measuretype][hem][roi_id,:,:] = temp[:,:,:,:,0].sum(-1).sum(-1) # permutations are empty, so no need to collect them\n",
    "\n",
    "                        \n",
    "                    elif measuretype == \"avg_RIPs\":\n",
    "                        scores[betatype][measuretype][hem][roi_id,0,:,:] = temp['GR']\n",
    "                        scores[betatype][measuretype][hem][roi_id,1,:,:] = temp['FR']\n",
    "                    else:\n",
    "                        scores[betatype][measuretype][hem][roi_id] = temp\n",
    "                        \n",
    "                        \n",
    "    return scores\n",
    "\n",
    "                \n"
   ]
  },
  {
   "cell_type": "markdown",
   "metadata": {},
   "source": [
    "### load up classification results for object classification during object events and for rooms during room events in recall (GRs and FRs)"
   ]
  },
  {
   "cell_type": "code",
   "execution_count": 3,
   "metadata": {
    "scrolled": true
   },
   "outputs": [
    {
     "name": "stderr",
     "output_type": "stream",
     "text": [
      "/jukebox/pkgs/PYGER/base/envs/0.11.0/lib/python3.7/site-packages/ipykernel_launcher.py:17: TqdmDeprecationWarning: This function will be removed in tqdm==5.0.0\n",
      "Please use `tqdm.notebook.tqdm` instead of `tqdm.tqdm_notebook`\n"
     ]
    },
    {
     "data": {
      "application/vnd.jupyter.widget-view+json": {
       "model_id": "fd236d2433a94188bd24912fc4790fde",
       "version_major": 2,
       "version_minor": 0
      },
      "text/plain": [
       "  0%|          | 0/2 [00:00<?, ?it/s]"
      ]
     },
     "metadata": {},
     "output_type": "display_data"
    },
    {
     "name": "stdout",
     "output_type": "stream",
     "text": [
      "...BETATYPE:  objects\n"
     ]
    },
    {
     "name": "stderr",
     "output_type": "stream",
     "text": [
      "/jukebox/pkgs/PYGER/base/envs/0.11.0/lib/python3.7/site-packages/ipykernel_launcher.py:22: TqdmDeprecationWarning: This function will be removed in tqdm==5.0.0\n",
      "Please use `tqdm.notebook.tqdm` instead of `tqdm.tqdm_notebook`\n"
     ]
    },
    {
     "data": {
      "application/vnd.jupyter.widget-view+json": {
       "model_id": "0c42f05d9ce6435ab925db6cc9c4c5c7",
       "version_major": 2,
       "version_minor": 0
      },
      "text/plain": [
       "  0%|          | 0/3 [00:00<?, ?it/s]"
      ]
     },
     "metadata": {},
     "output_type": "display_data"
    },
    {
     "name": "stdout",
     "output_type": "stream",
     "text": [
      "............MEASURE:  avg_RIPs\n",
      "...............HEM:  R\n"
     ]
    },
    {
     "name": "stderr",
     "output_type": "stream",
     "text": [
      "/jukebox/pkgs/PYGER/base/envs/0.11.0/lib/python3.7/site-packages/ipykernel_launcher.py:69: TqdmDeprecationWarning: This function will be removed in tqdm==5.0.0\n",
      "Please use `tqdm.notebook.tqdm` instead of `tqdm.tqdm_notebook`\n"
     ]
    },
    {
     "data": {
      "application/vnd.jupyter.widget-view+json": {
       "model_id": "c795870a593c40dcaa7d926e2d19e2a3",
       "version_major": 2,
       "version_minor": 0
      },
      "text/plain": [
       "  0%|          | 0/1483 [00:00<?, ?it/s]"
      ]
     },
     "metadata": {},
     "output_type": "display_data"
    },
    {
     "name": "stdout",
     "output_type": "stream",
     "text": [
      "...............HEM:  L\n"
     ]
    },
    {
     "data": {
      "application/vnd.jupyter.widget-view+json": {
       "model_id": "24a562271a0746588615b969536cad65",
       "version_major": 2,
       "version_minor": 0
      },
      "text/plain": [
       "  0%|          | 0/1483 [00:00<?, ?it/s]"
      ]
     },
     "metadata": {},
     "output_type": "display_data"
    },
    {
     "name": "stdout",
     "output_type": "stream",
     "text": [
      "............MEASURE:  accuracy\n",
      "...............HEM:  R\n"
     ]
    },
    {
     "data": {
      "application/vnd.jupyter.widget-view+json": {
       "model_id": "7b8384bc1bbe414ab10acb6e342a4feb",
       "version_major": 2,
       "version_minor": 0
      },
      "text/plain": [
       "  0%|          | 0/1483 [00:00<?, ?it/s]"
      ]
     },
     "metadata": {},
     "output_type": "display_data"
    },
    {
     "name": "stdout",
     "output_type": "stream",
     "text": [
      "...............HEM:  L\n"
     ]
    },
    {
     "data": {
      "application/vnd.jupyter.widget-view+json": {
       "model_id": "a426a06aa19e4e11809b93deec39765a",
       "version_major": 2,
       "version_minor": 0
      },
      "text/plain": [
       "  0%|          | 0/1483 [00:00<?, ?it/s]"
      ]
     },
     "metadata": {},
     "output_type": "display_data"
    },
    {
     "name": "stdout",
     "output_type": "stream",
     "text": [
      "............MEASURE:  RIPs\n",
      "...............HEM:  R\n"
     ]
    },
    {
     "data": {
      "application/vnd.jupyter.widget-view+json": {
       "model_id": "10fe9d7a0c254c0b90d08268b8475804",
       "version_major": 2,
       "version_minor": 0
      },
      "text/plain": [
       "  0%|          | 0/1483 [00:00<?, ?it/s]"
      ]
     },
     "metadata": {},
     "output_type": "display_data"
    },
    {
     "name": "stdout",
     "output_type": "stream",
     "text": [
      "...............HEM:  L\n"
     ]
    },
    {
     "data": {
      "application/vnd.jupyter.widget-view+json": {
       "model_id": "40c5f43134e7424ba915166e0738c00e",
       "version_major": 2,
       "version_minor": 0
      },
      "text/plain": [
       "  0%|          | 0/1483 [00:00<?, ?it/s]"
      ]
     },
     "metadata": {},
     "output_type": "display_data"
    },
    {
     "name": "stdout",
     "output_type": "stream",
     "text": [
      "...BETATYPE:  rooms\n"
     ]
    },
    {
     "data": {
      "application/vnd.jupyter.widget-view+json": {
       "model_id": "2a968781e68f415f9d3999602a53eeac",
       "version_major": 2,
       "version_minor": 0
      },
      "text/plain": [
       "  0%|          | 0/3 [00:00<?, ?it/s]"
      ]
     },
     "metadata": {},
     "output_type": "display_data"
    },
    {
     "name": "stdout",
     "output_type": "stream",
     "text": [
      "............MEASURE:  avg_RIPs\n",
      "...............HEM:  R\n"
     ]
    },
    {
     "data": {
      "application/vnd.jupyter.widget-view+json": {
       "model_id": "ffe82fedf07e4e5e825aa6e6b4f8636f",
       "version_major": 2,
       "version_minor": 0
      },
      "text/plain": [
       "  0%|          | 0/1483 [00:00<?, ?it/s]"
      ]
     },
     "metadata": {},
     "output_type": "display_data"
    },
    {
     "name": "stdout",
     "output_type": "stream",
     "text": [
      "...............HEM:  L\n"
     ]
    },
    {
     "data": {
      "application/vnd.jupyter.widget-view+json": {
       "model_id": "aee160f361844ce584d046c9baab3988",
       "version_major": 2,
       "version_minor": 0
      },
      "text/plain": [
       "  0%|          | 0/1483 [00:00<?, ?it/s]"
      ]
     },
     "metadata": {},
     "output_type": "display_data"
    },
    {
     "name": "stdout",
     "output_type": "stream",
     "text": [
      "............MEASURE:  accuracy\n",
      "...............HEM:  R\n"
     ]
    },
    {
     "data": {
      "application/vnd.jupyter.widget-view+json": {
       "model_id": "d9859d3ee6f24b0abdbc4159424fc06b",
       "version_major": 2,
       "version_minor": 0
      },
      "text/plain": [
       "  0%|          | 0/1483 [00:00<?, ?it/s]"
      ]
     },
     "metadata": {},
     "output_type": "display_data"
    },
    {
     "name": "stdout",
     "output_type": "stream",
     "text": [
      "...............HEM:  L\n"
     ]
    },
    {
     "data": {
      "application/vnd.jupyter.widget-view+json": {
       "model_id": "d49ebd786d1f4bab918048f71a8f8fd9",
       "version_major": 2,
       "version_minor": 0
      },
      "text/plain": [
       "  0%|          | 0/1483 [00:00<?, ?it/s]"
      ]
     },
     "metadata": {},
     "output_type": "display_data"
    },
    {
     "name": "stdout",
     "output_type": "stream",
     "text": [
      "............MEASURE:  RIPs\n",
      "...............HEM:  R\n"
     ]
    },
    {
     "data": {
      "application/vnd.jupyter.widget-view+json": {
       "model_id": "426f80cebe5c4d73842a3d7c68c24f39",
       "version_major": 2,
       "version_minor": 0
      },
      "text/plain": [
       "  0%|          | 0/1483 [00:00<?, ?it/s]"
      ]
     },
     "metadata": {},
     "output_type": "display_data"
    },
    {
     "name": "stdout",
     "output_type": "stream",
     "text": [
      "...............HEM:  L\n"
     ]
    },
    {
     "data": {
      "application/vnd.jupyter.widget-view+json": {
       "model_id": "924913a00fc447139e3f9949fa1d8476",
       "version_major": 2,
       "version_minor": 0
      },
      "text/plain": [
       "  0%|          | 0/1483 [00:00<?, ?it/s]"
      ]
     },
     "metadata": {},
     "output_type": "display_data"
    }
   ],
   "source": [
    "## \n",
    "## IMPORT -- when rooms classify room events and objects classify object events\n",
    "##\n",
    "\n",
    "#accuracy[betatype][hem]= np.full((nTrials,nSubj,nPerm+1),fill_value=np.nan)\n",
    "# conf_mat[betatype][hem]= np.full((nItems,nItems,nTrials,nSubj,nPerm+1), fill_value=np.nan)\n",
    "# evidence[betatype][hem]= {} #dict of trials and subjects\n",
    "# cp_window[betatype][hem]= np.full((win_size,nTrials,nSubj), fill_value=np.nan) \n",
    "# trial_length[betatype][hem] = np.full((nTrials,nSubj),fill_value=np.nan)\n",
    "\n",
    "dirpath = '../PythonData2024/Output/ClassifyRecalls'\n",
    "\n",
    "\n",
    "date = 20240401; shift = 4; win_size=9 ;\n",
    "\n",
    "\n",
    "# betatypes = ['rooms','objects']\n",
    "betatypes = ['objects', 'rooms'] #['objects']\n",
    "roi = 'SL'\n",
    "measure_list = [\n",
    "#     'conf_mat', #  # only acquire if doing the accurazy brainmap not necessary for the ROCN evidence\n",
    "    \"avg_RIPs\", \n",
    "#     'evidence',\n",
    "    'accuracy', #\n",
    "#     'RIP_window', # \n",
    "    'RIPs',\n",
    "#     'conf_mat', # \n",
    "  ]\n",
    "\n",
    "scores = GetRecallEvidence(date, roi, shift, win_size, measure_list, betatypes, dirpath)\n",
    "\n",
    "     "
   ]
  },
  {
   "cell_type": "markdown",
   "metadata": {},
   "source": [
    "### load up classification results for classifying rooms during object events during recall GRs and FRs"
   ]
  },
  {
   "cell_type": "code",
   "execution_count": 5,
   "metadata": {},
   "outputs": [
    {
     "name": "stderr",
     "output_type": "stream",
     "text": [
      "/jukebox/pkgs/PYGER/base/envs/0.11.0/lib/python3.7/site-packages/ipykernel_launcher.py:17: TqdmDeprecationWarning: This function will be removed in tqdm==5.0.0\n",
      "Please use `tqdm.notebook.tqdm` instead of `tqdm.tqdm_notebook`\n"
     ]
    },
    {
     "data": {
      "application/vnd.jupyter.widget-view+json": {
       "model_id": "39bd843043f44b498c4628df9186e7ad",
       "version_major": 2,
       "version_minor": 0
      },
      "text/plain": [
       "  0%|          | 0/1 [00:00<?, ?it/s]"
      ]
     },
     "metadata": {},
     "output_type": "display_data"
    },
    {
     "name": "stdout",
     "output_type": "stream",
     "text": [
      "...BETATYPE:  rooms\n"
     ]
    },
    {
     "name": "stderr",
     "output_type": "stream",
     "text": [
      "/jukebox/pkgs/PYGER/base/envs/0.11.0/lib/python3.7/site-packages/ipykernel_launcher.py:22: TqdmDeprecationWarning: This function will be removed in tqdm==5.0.0\n",
      "Please use `tqdm.notebook.tqdm` instead of `tqdm.tqdm_notebook`\n"
     ]
    },
    {
     "data": {
      "application/vnd.jupyter.widget-view+json": {
       "model_id": "75b35399480340abbcf3a1b59ab53841",
       "version_major": 2,
       "version_minor": 0
      },
      "text/plain": [
       "  0%|          | 0/3 [00:00<?, ?it/s]"
      ]
     },
     "metadata": {},
     "output_type": "display_data"
    },
    {
     "name": "stdout",
     "output_type": "stream",
     "text": [
      "............MEASURE:  avg_RIPs\n",
      "...............HEM:  R\n"
     ]
    },
    {
     "name": "stderr",
     "output_type": "stream",
     "text": [
      "/jukebox/pkgs/PYGER/base/envs/0.11.0/lib/python3.7/site-packages/ipykernel_launcher.py:69: TqdmDeprecationWarning: This function will be removed in tqdm==5.0.0\n",
      "Please use `tqdm.notebook.tqdm` instead of `tqdm.tqdm_notebook`\n"
     ]
    },
    {
     "data": {
      "application/vnd.jupyter.widget-view+json": {
       "model_id": "322e0d6f3f3c4bffa69f86f157d9b0d5",
       "version_major": 2,
       "version_minor": 0
      },
      "text/plain": [
       "  0%|          | 0/1483 [00:00<?, ?it/s]"
      ]
     },
     "metadata": {},
     "output_type": "display_data"
    },
    {
     "name": "stdout",
     "output_type": "stream",
     "text": [
      "...............HEM:  L\n"
     ]
    },
    {
     "data": {
      "application/vnd.jupyter.widget-view+json": {
       "model_id": "4533b611b4aa4194a0506196ada5af20",
       "version_major": 2,
       "version_minor": 0
      },
      "text/plain": [
       "  0%|          | 0/1483 [00:00<?, ?it/s]"
      ]
     },
     "metadata": {},
     "output_type": "display_data"
    },
    {
     "name": "stdout",
     "output_type": "stream",
     "text": [
      "............MEASURE:  accuracy\n",
      "...............HEM:  R\n"
     ]
    },
    {
     "data": {
      "application/vnd.jupyter.widget-view+json": {
       "model_id": "31d42033d9b24e8fbe0f094a2f207635",
       "version_major": 2,
       "version_minor": 0
      },
      "text/plain": [
       "  0%|          | 0/1483 [00:00<?, ?it/s]"
      ]
     },
     "metadata": {},
     "output_type": "display_data"
    },
    {
     "name": "stdout",
     "output_type": "stream",
     "text": [
      "...............HEM:  L\n"
     ]
    },
    {
     "data": {
      "application/vnd.jupyter.widget-view+json": {
       "model_id": "1147bef967ec4c4c926b431a980a596a",
       "version_major": 2,
       "version_minor": 0
      },
      "text/plain": [
       "  0%|          | 0/1483 [00:00<?, ?it/s]"
      ]
     },
     "metadata": {},
     "output_type": "display_data"
    },
    {
     "name": "stdout",
     "output_type": "stream",
     "text": [
      "............MEASURE:  RIPs\n",
      "...............HEM:  R\n"
     ]
    },
    {
     "data": {
      "application/vnd.jupyter.widget-view+json": {
       "model_id": "7340ee024fd2409bbb40e6401bd4841d",
       "version_major": 2,
       "version_minor": 0
      },
      "text/plain": [
       "  0%|          | 0/1483 [00:00<?, ?it/s]"
      ]
     },
     "metadata": {},
     "output_type": "display_data"
    },
    {
     "name": "stdout",
     "output_type": "stream",
     "text": [
      "...............HEM:  L\n"
     ]
    },
    {
     "data": {
      "application/vnd.jupyter.widget-view+json": {
       "model_id": "a321288649ba4945a00c54fb4cb3e2cc",
       "version_major": 2,
       "version_minor": 0
      },
      "text/plain": [
       "  0%|          | 0/1483 [00:00<?, ?it/s]"
      ]
     },
     "metadata": {},
     "output_type": "display_data"
    }
   ],
   "source": [
    "###\n",
    "### IMPORT --- when rooms classify object events [revision update]\n",
    "###\n",
    "\n",
    "dirpath = '../PythonData2024/Output/ClassifyRecalls_RoomsOnObjectEvents/'\n",
    "\n",
    "\n",
    "date = 20250524; shift = 4; win_size=9 ;\n",
    "betatypes    = ['rooms']\n",
    "roi          = 'SL'\n",
    "measure_list = [\n",
    "#     'conf_mat', #  # only acquire if doing the accurazy brainmap not necessary for the ROCN evidence\n",
    "    \"avg_RIPs\", \n",
    "#     'evidence',\n",
    "    'accuracy', #\n",
    "#     'RIP_window', # \n",
    "    'RIPs',\n",
    "#     'conf_mat', # \n",
    "  ]\n",
    "\n",
    "scores2 = GetRecallEvidence(date, roi, shift, win_size, measure_list, betatypes, dirpath)\n"
   ]
  },
  {
   "cell_type": "code",
   "execution_count": 42,
   "metadata": {},
   "outputs": [
    {
     "data": {
      "text/plain": [
       "(dict_keys(['rooms']),\n",
       " dict_keys(['avg_RIPs', 'accuracy', 'RIPs']),\n",
       " dict_keys(['objects', 'rooms']))"
      ]
     },
     "execution_count": 42,
     "metadata": {},
     "output_type": "execute_result"
    }
   ],
   "source": [
    "scores2.keys(), scores2['rooms'].keys(),scores.keys()"
   ]
  },
  {
   "cell_type": "code",
   "execution_count": null,
   "metadata": {},
   "outputs": [],
   "source": []
  },
  {
   "cell_type": "code",
   "execution_count": null,
   "metadata": {},
   "outputs": [],
   "source": []
  },
  {
   "cell_type": "markdown",
   "metadata": {},
   "source": []
  },
  {
   "cell_type": "code",
   "execution_count": null,
   "metadata": {
    "scrolled": true
   },
   "outputs": [],
   "source": []
  },
  {
   "cell_type": "code",
   "execution_count": null,
   "metadata": {},
   "outputs": [],
   "source": []
  },
  {
   "cell_type": "markdown",
   "metadata": {},
   "source": [
    "# 2. Get ROCN, POCN, RRCN, and POCN network evidence scores\n",
    "\n",
    "1. ROCN and POCN object reinstatement evidence from recalling objects in GR and FR\n",
    "2. RRCN and PRCN room reinstatement evidence from recalling rooms in GR and FR (these are for the partial corr)\n",
    "3. RRCN_2 and PRCN_2 room reinstatement evidence from recalling objects in GR and FR (these are for the partial corr)\n",
    "\n",
    "These are all networks which serve as a mask to extract classifier evidence from recall. "
   ]
  },
  {
   "cell_type": "markdown",
   "metadata": {},
   "source": [
    "# 2a. Import the networks"
   ]
  },
  {
   "cell_type": "code",
   "execution_count": 9,
   "metadata": {},
   "outputs": [],
   "source": [
    "\n",
    "\n",
    "##########\n",
    "########## Grab the ROCN and POCN networks (made in 03b notebook)\n",
    "##########\n",
    "\n",
    "# date = 20240108\n",
    "date = 20240401 # second permutation fix\n",
    "\n",
    "\n",
    "besttype = 'Z'\n",
    "shift = 4\n",
    "top_thresh = 50\n",
    "\n",
    "superteam_path = '../PythonData2024/Output/Networks'\n",
    "\n",
    "\n",
    "superteam_SL_savename = '{}_Networks_Best{}SLs_shift{}_top{}.pkl'.format(date,besttype,shift,top_thresh)\n",
    "path = os.path.join(superteam_path,superteam_SL_savename)\n",
    "best_Z_SLs = load_obj(path)\n",
    "\n"
   ]
  },
  {
   "cell_type": "code",
   "execution_count": 10,
   "metadata": {},
   "outputs": [],
   "source": [
    "# Retrieved Object Classifier Network (ROCN)\n",
    "ROCN_SLs = best_Z_SLs['objects']['rooms']\n",
    "\n",
    "# Perceived Object Classifier Network (POCN)\n",
    "POCN_SLs = best_Z_SLs['objects']['objects']\n",
    "\n",
    "# Retrieved Room Classifier Network (RRCN)\n",
    "RRCN_SLs = best_Z_SLs['rooms']['objects']\n",
    "\n",
    "# Perceived Room Classifier Network (PRCN)\n",
    "PRCN_SLs = best_Z_SLs['rooms']['rooms']"
   ]
  },
  {
   "cell_type": "code",
   "execution_count": 10,
   "metadata": {},
   "outputs": [
    {
     "data": {
      "text/plain": [
       "{'L': array([ 729, 1351, 1034,   10,  907,  179,  398,  544,  786,  178, 1341,\n",
       "         917, 1169,  594,  717,  399, 1179,  869,  776, 1345, 1371,  599,\n",
       "          82,  395,  588,  646, 1427, 1358,  688, 1321,  440, 1200,  545,\n",
       "         247,  171, 1267]),\n",
       " 'R': array([ 671,  761, 1306,  170, 1034,  794,  705,  532, 1164,  700,  796,\n",
       "         249,  603,  581])}"
      ]
     },
     "execution_count": 10,
     "metadata": {},
     "output_type": "execute_result"
    }
   ],
   "source": [
    "RRCN_SLs"
   ]
  },
  {
   "cell_type": "code",
   "execution_count": 11,
   "metadata": {},
   "outputs": [
    {
     "name": "stdout",
     "output_type": "stream",
     "text": [
      "-----------------------------\n",
      "---- WORKING WITH: ROCN -----\n",
      "-----------------------------\n",
      "betatype: objects | videotype: rooms\n",
      "ROCN\n",
      "(50, 2, 23, 25)\n",
      "(23, 25)\n",
      "0\n",
      "... Classifying objects, need to match room-object pair for this subject:  sub-sid01\n",
      "... Classifying objects, need to match room-object pair for this subject:  sub-sid02\n",
      "... Classifying objects, need to match room-object pair for this subject:  sub-sid03\n",
      "... Classifying objects, need to match room-object pair for this subject:  sub-sid04\n",
      "... Classifying objects, need to match room-object pair for this subject:  sub-sid05\n",
      "... Classifying objects, need to match room-object pair for this subject:  sub-sid06\n",
      "... Classifying objects, need to match room-object pair for this subject:  sub-sid08\n",
      "... Classifying objects, need to match room-object pair for this subject:  sub-sid09\n",
      "... Classifying objects, need to match room-object pair for this subject:  sub-sid10\n",
      "... Classifying objects, need to match room-object pair for this subject:  sub-sid11\n",
      "... Classifying objects, need to match room-object pair for this subject:  sub-sid12\n",
      "... Classifying objects, need to match room-object pair for this subject:  sub-sid13\n",
      "... Classifying objects, need to match room-object pair for this subject:  sub-sid14\n",
      "... Classifying objects, need to match room-object pair for this subject:  sub-sid15\n",
      "... Classifying objects, need to match room-object pair for this subject:  sub-sid16\n",
      "... Classifying objects, need to match room-object pair for this subject:  sub-sid17\n",
      "... Classifying objects, need to match room-object pair for this subject:  sub-sid18\n",
      "... Classifying objects, need to match room-object pair for this subject:  sub-sid19\n",
      "... Classifying objects, need to match room-object pair for this subject: "
     ]
    },
    {
     "name": "stderr",
     "output_type": "stream",
     "text": [
      "/jukebox/pkgs/PYGER/base/envs/0.11.0/lib/python3.7/site-packages/ipykernel_launcher.py:83: RuntimeWarning: Mean of empty slice\n"
     ]
    },
    {
     "name": "stdout",
     "output_type": "stream",
     "text": [
      " sub-sid20\n",
      "... Classifying objects, need to match room-object pair for this subject:  sub-sid22\n",
      "... Classifying objects, need to match room-object pair for this subject:  sub-sid24\n",
      "... Classifying objects, need to match room-object pair for this subject:  sub-sid26\n",
      "... Classifying objects, need to match room-object pair for this subject:  sub-sid27\n",
      "... Classifying objects, need to match room-object pair for this subject:  sub-sid28\n",
      "... Classifying objects, need to match room-object pair for this subject:  sub-sid29\n",
      "(23, 25)\n",
      "1\n",
      "... Classifying objects, need to match room-object pair for this subject:  sub-sid01\n",
      "... Classifying objects, need to match room-object pair for this subject:  sub-sid02\n",
      "... Classifying objects, need to match room-object pair for this subject:  sub-sid03\n",
      "... Classifying objects, need to match room-object pair for this subject:  sub-sid04\n",
      "... Classifying objects, need to match room-object pair for this subject:  sub-sid05\n",
      "... Classifying objects, need to match room-object pair for this subject:  sub-sid06\n",
      "... Classifying objects, need to match room-object pair for this subject:  sub-sid08\n",
      "... Classifying objects, need to match room-object pair for this subject:  sub-sid09\n",
      "... Classifying objects, need to match room-object pair for this subject:  sub-sid10\n",
      "... Classifying objects, need to match room-object pair for this subject:  sub-sid11\n",
      "... Classifying objects, need to match room-object pair for this subject:  sub-sid12\n",
      "... Classifying objects, need to match room-object pair for this subject:  sub-sid13\n",
      "... Classifying objects, need to match room-object pair for this subject:  sub-sid14\n",
      "... Classifying objects, need to match room-object pair for this subject:  sub-sid15"
     ]
    },
    {
     "name": "stderr",
     "output_type": "stream",
     "text": [
      "/jukebox/pkgs/PYGER/base/envs/0.11.0/lib/python3.7/site-packages/ipykernel_launcher.py:83: RuntimeWarning: Mean of empty slice\n"
     ]
    },
    {
     "name": "stdout",
     "output_type": "stream",
     "text": [
      "\n",
      "... Classifying objects, need to match room-object pair for this subject:  sub-sid16\n",
      "... Classifying objects, need to match room-object pair for this subject:  sub-sid17\n",
      "... Classifying objects, need to match room-object pair for this subject:  sub-sid18\n",
      "... Classifying objects, need to match room-object pair for this subject:  sub-sid19\n",
      "... Classifying objects, need to match room-object pair for this subject:  sub-sid20\n",
      "... Classifying objects, need to match room-object pair for this subject:  sub-sid22\n",
      "... Classifying objects, need to match room-object pair for this subject:  sub-sid24\n",
      "... Classifying objects, need to match room-object pair for this subject:  sub-sid26\n",
      "... Classifying objects, need to match room-object pair for this subject:  sub-sid27\n",
      "... Classifying objects, need to match room-object pair for this subject:  sub-sid28\n",
      "... Classifying objects, need to match room-object pair for this subject:  sub-sid29\n",
      "-----------------------------\n",
      "---- WORKING WITH: POCN -----\n",
      "-----------------------------\n",
      "betatype: objects | videotype: objects\n",
      "POCN\n",
      "(50, 2, 23, 25)\n",
      "(23, 25)\n",
      "0\n",
      "... Classifying objects, need to match room-object pair for this subject:  sub-sid01\n",
      "... Classifying objects, need to match room-object pair for this subject:  sub-sid02\n",
      "... Classifying objects, need to match room-object pair for this subject:  sub-sid03\n",
      "... Classifying objects, need to match room-object pair for this subject:  sub-sid04\n",
      "... Classifying objects, need to match room-object pair for this subject:  sub-sid05\n",
      "... Classifying objects, need to match room-object pair for this subject:  sub-sid06\n",
      "... Classifying objects, need to match room-object pair for this subject:  sub-sid08\n",
      "... Classifying objects, need to match room-object pair for this subject:  sub-sid09\n",
      "... Classifying objects, need to match room-object pair for this subject:  sub-sid10\n"
     ]
    },
    {
     "name": "stderr",
     "output_type": "stream",
     "text": [
      "/jukebox/pkgs/PYGER/base/envs/0.11.0/lib/python3.7/site-packages/ipykernel_launcher.py:83: RuntimeWarning: Mean of empty slice\n"
     ]
    },
    {
     "name": "stdout",
     "output_type": "stream",
     "text": [
      "... Classifying objects, need to match room-object pair for this subject:  sub-sid11\n",
      "... Classifying objects, need to match room-object pair for this subject:  sub-sid12\n",
      "... Classifying objects, need to match room-object pair for this subject:  sub-sid13\n",
      "... Classifying objects, need to match room-object pair for this subject:  sub-sid14\n",
      "... Classifying objects, need to match room-object pair for this subject:  sub-sid15\n",
      "... Classifying objects, need to match room-object pair for this subject:  sub-sid16\n",
      "... Classifying objects, need to match room-object pair for this subject:  sub-sid17\n",
      "... Classifying objects, need to match room-object pair for this subject:  sub-sid18\n",
      "... Classifying objects, need to match room-object pair for this subject:  sub-sid19\n",
      "... Classifying objects, need to match room-object pair for this subject:  sub-sid20\n",
      "... Classifying objects, need to match room-object pair for this subject:  sub-sid22\n",
      "... Classifying objects, need to match room-object pair for this subject:  sub-sid24\n",
      "... Classifying objects, need to match room-object pair for this subject:  sub-sid26\n",
      "... Classifying objects, need to match room-object pair for this subject:  sub-sid27\n",
      "... Classifying objects, need to match room-object pair for this subject:  sub-sid28\n",
      "... Classifying objects, need to match room-object pair for this subject:  sub-sid29\n",
      "(23, 25)\n",
      "1\n",
      "... Classifying objects, need to match room-object pair for this subject:  sub-sid01\n",
      "... Classifying objects, need to match room-object pair for this subject:  sub-sid02\n",
      "... Classifying objects, need to match room-object pair for this subject:  sub-sid03\n",
      "... Classifying objects, need to match room-object pair for this subject:  sub-sid04\n",
      "... Classifying objects, need to match room-object pair for this subject:  sub-sid05\n",
      "... Classifying objects, need to match room-object pair for this subject:  sub-sid06\n",
      "... Classifying objects, need to match room-object pair for this subject:  sub-sid08\n",
      "... Classifying objects, need to match room-object pair for this subject: "
     ]
    },
    {
     "name": "stderr",
     "output_type": "stream",
     "text": [
      "/jukebox/pkgs/PYGER/base/envs/0.11.0/lib/python3.7/site-packages/ipykernel_launcher.py:83: RuntimeWarning: Mean of empty slice\n"
     ]
    },
    {
     "name": "stdout",
     "output_type": "stream",
     "text": [
      " sub-sid09\n",
      "... Classifying objects, need to match room-object pair for this subject:  sub-sid10\n",
      "... Classifying objects, need to match room-object pair for this subject:  sub-sid11\n",
      "... Classifying objects, need to match room-object pair for this subject:  sub-sid12\n",
      "... Classifying objects, need to match room-object pair for this subject:  sub-sid13\n",
      "... Classifying objects, need to match room-object pair for this subject:  sub-sid14\n",
      "... Classifying objects, need to match room-object pair for this subject:  sub-sid15\n",
      "... Classifying objects, need to match room-object pair for this subject:  sub-sid16\n",
      "... Classifying objects, need to match room-object pair for this subject:  sub-sid17\n",
      "... Classifying objects, need to match room-object pair for this subject:  sub-sid18\n",
      "... Classifying objects, need to match room-object pair for this subject:  sub-sid19\n",
      "... Classifying objects, need to match room-object pair for this subject:  sub-sid20\n",
      "... Classifying objects, need to match room-object pair for this subject:  sub-sid22\n",
      "... Classifying objects, need to match room-object pair for this subject:  sub-sid24\n",
      "... Classifying objects, need to match room-object pair for this subject:  sub-sid26\n",
      "... Classifying objects, need to match room-object pair for this subject:  sub-sid27\n",
      "... Classifying objects, need to match room-object pair for this subject:  sub-sid28\n",
      "... Classifying objects, need to match room-object pair for this subject:  sub-sid29\n",
      "-----------------------------\n",
      "---- WORKING WITH: RRCN -----\n",
      "-----------------------------\n",
      "betatype: rooms | videotype: objects\n",
      "RRCN\n",
      "(50, 2, 23, 25)\n",
      "(23, 25)\n",
      "0\n",
      "... Classifying rooms, so no need to re-order for this subj:  sub-sid01\n",
      "... Classifying rooms, so no need to re-order for this subj:  sub-sid02\n",
      "... Classifying rooms, so no need to re-order for this subj:  sub-sid03\n",
      "... Classifying rooms, so no need to re-order for this subj:  sub-sid04\n",
      "... Classifying rooms, so no need to re-order for this subj:  sub-sid05\n",
      "... Classifying rooms, so no need to re-order for this subj:  sub-sid06\n",
      "... Classifying rooms, so no need to re-order for this subj:  sub-sid08\n",
      "... Classifying rooms, so no need to re-order for this subj:  sub-sid09\n",
      "... Classifying rooms, so no need to re-order for this subj:  sub-sid10\n",
      "... Classifying rooms, so no need to re-order for this subj:  sub-sid11\n",
      "... Classifying rooms, so no need to re-order for this subj:  sub-sid12\n",
      "... Classifying rooms, so no need to re-order for this subj:  sub-sid13\n",
      "... Classifying rooms, so no need to re-order for this subj:  sub-sid14\n",
      "... Classifying rooms, so no need to re-order for this subj:  sub-sid15\n",
      "... Classifying rooms, so no need to re-order for this subj:  sub-sid16\n",
      "... Classifying rooms, so no need to re-order for this subj:  sub-sid17\n",
      "... Classifying rooms, so no need to re-order for this subj:  sub-sid18\n",
      "... Classifying rooms, so no need to re-order for this subj:  sub-sid19\n",
      "... Classifying rooms, so no need to re-order for this subj:  sub-sid20\n",
      "... Classifying rooms, so no need to re-order for this subj:  sub-sid22\n",
      "... Classifying rooms, so no need to re-order for this subj:  sub-sid24\n",
      "... Classifying rooms, so no need to re-order for this subj:  sub-sid26\n",
      "... Classifying rooms, so no need to re-order for this subj:  sub-sid27\n",
      "... Classifying rooms, so no need to re-order for this subj:  sub-sid28\n",
      "... Classifying rooms, so no need to re-order for this subj:  sub-sid29\n",
      "(23, 25)\n",
      "1\n",
      "... Classifying rooms, so no need to re-order for this subj:  sub-sid01\n",
      "... Classifying rooms, so no need to re-order for this subj:  sub-sid02\n",
      "... Classifying rooms, so no need to re-order for this subj:  sub-sid03\n",
      "... Classifying rooms, so no need to re-order for this subj:  sub-sid04\n",
      "... Classifying rooms, so no need to re-order for this subj:  sub-sid05\n",
      "... Classifying rooms, so no need to re-order for this subj:  sub-sid06\n",
      "... Classifying rooms, so no need to re-order for this subj:  sub-sid08\n",
      "... Classifying rooms, so no need to re-order for this subj:  sub-sid09\n",
      "... Classifying rooms, so no need to re-order for this subj:  sub-sid10\n",
      "... Classifying rooms, so no need to re-order for this subj:  sub-sid11\n",
      "... Classifying rooms, so no need to re-order for this subj:  sub-sid12\n",
      "... Classifying rooms, so no need to re-order for this subj:  sub-sid13\n",
      "... Classifying rooms, so no need to re-order for this subj:  sub-sid14\n",
      "... Classifying rooms, so no need to re-order for this subj:  sub-sid15\n",
      "... Classifying rooms, so no need to re-order for this subj:  sub-sid16\n",
      "... Classifying rooms, so no need to re-order for this subj:  sub-sid17\n",
      "... Classifying rooms, so no need to re-order for this subj:  sub-sid18\n",
      "... Classifying rooms, so no need to re-order for this subj:  sub-sid19\n",
      "... Classifying rooms, so no need to re-order for this subj:  sub-sid20\n",
      "... Classifying rooms, so no need to re-order for this subj:  sub-sid22\n",
      "... Classifying rooms, so no need to re-order for this subj:  sub-sid24\n",
      "... Classifying rooms, so no need to re-order for this subj:  sub-sid26\n",
      "... Classifying rooms, so no need to re-order for this subj:  sub-sid27\n",
      "... Classifying rooms, so no need to re-order for this subj:  sub-sid28\n",
      "... Classifying rooms, so no need to re-order for this subj:  sub-sid29\n",
      "-----------------------------\n",
      "---- WORKING WITH: PRCN -----\n",
      "-----------------------------\n",
      "betatype: rooms | videotype: rooms\n",
      "PRCN\n",
      "(50, 2, 23, 25)\n",
      "(23, 25)\n",
      "0\n",
      "... Classifying rooms, so no need to re-order for this subj:  sub-sid01\n",
      "... Classifying rooms, so no need to re-order for this subj:  sub-sid02\n",
      "... Classifying rooms, so no need to re-order for this subj:  sub-sid03\n",
      "... Classifying rooms, so no need to re-order for this subj:  sub-sid04\n",
      "... Classifying rooms, so no need to re-order for this subj:  sub-sid05\n",
      "... Classifying rooms, so no need to re-order for this subj:  sub-sid06\n",
      "... Classifying rooms, so no need to re-order for this subj:  sub-sid08\n",
      "... Classifying rooms, so no need to re-order for this subj:  sub-sid09\n",
      "... Classifying rooms, so no need to re-order for this subj:  sub-sid10\n",
      "... Classifying rooms, so no need to re-order for this subj:  sub-sid11\n",
      "... Classifying rooms, so no need to re-order for this subj:  sub-sid12\n",
      "... Classifying rooms, so no need to re-order for this subj:  sub-sid13\n",
      "... Classifying rooms, so no need to re-order for this subj:  sub-sid14\n",
      "... Classifying rooms, so no need to re-order for this subj:  sub-sid15\n",
      "... Classifying rooms, so no need to re-order for this subj:  sub-sid16\n",
      "... Classifying rooms, so no need to re-order for this subj:  sub-sid17\n",
      "... Classifying rooms, so no need to re-order for this subj:  sub-sid18\n",
      "... Classifying rooms, so no need to re-order for this subj:  sub-sid19\n",
      "... Classifying rooms, so no need to re-order for this subj:  sub-sid20\n",
      "... Classifying rooms, so no need to re-order for this subj:  sub-sid22\n",
      "... Classifying rooms, so no need to re-order for this subj:  sub-sid24\n",
      "... Classifying rooms, so no need to re-order for this subj:  sub-sid26\n",
      "... Classifying rooms, so no need to re-order for this subj:  sub-sid27\n",
      "... Classifying rooms, so no need to re-order for this subj:  sub-sid28\n",
      "... Classifying rooms, so no need to re-order for this subj:  sub-sid29\n",
      "(23, 25)\n",
      "1\n",
      "... Classifying rooms, so no need to re-order for this subj:  sub-sid01\n",
      "... Classifying rooms, so no need to re-order for this subj:  sub-sid02\n",
      "... Classifying rooms, so no need to re-order for this subj:  sub-sid03\n",
      "... Classifying rooms, so no need to re-order for this subj:  sub-sid04\n",
      "... Classifying rooms, so no need to re-order for this subj:  sub-sid05\n",
      "... Classifying rooms, so no need to re-order for this subj:  sub-sid06\n",
      "... Classifying rooms, so no need to re-order for this subj:  sub-sid08\n",
      "... Classifying rooms, so no need to re-order for this subj:  sub-sid09\n",
      "... Classifying rooms, so no need to re-order for this subj:  sub-sid10\n",
      "... Classifying rooms, so no need to re-order for this subj:  sub-sid11\n",
      "... Classifying rooms, so no need to re-order for this subj:  sub-sid12\n",
      "... Classifying rooms, so no need to re-order for this subj:  sub-sid13\n",
      "... Classifying rooms, so no need to re-order for this subj:  sub-sid14\n",
      "... Classifying rooms, so no need to re-order for this subj:  sub-sid15\n",
      "... Classifying rooms, so no need to re-order for this subj:  sub-sid16\n",
      "... Classifying rooms, so no need to re-order for this subj:  sub-sid17\n",
      "... Classifying rooms, so no need to re-order for this subj:  sub-sid18\n",
      "... Classifying rooms, so no need to re-order for this subj:  sub-sid19\n",
      "... Classifying rooms, so no need to re-order for this subj:  sub-sid20\n",
      "... Classifying rooms, so no need to re-order for this subj:  sub-sid22\n",
      "... Classifying rooms, so no need to re-order for this subj:  sub-sid24\n",
      "... Classifying rooms, so no need to re-order for this subj:  sub-sid26\n",
      "... Classifying rooms, so no need to re-order for this subj:  sub-sid27\n",
      "... Classifying rooms, so no need to re-order for this subj:  sub-sid28\n",
      "... Classifying rooms, so no need to re-order for this subj:  sub-sid29\n",
      "-----------------------------\n",
      "---- WORKING WITH: RRCN2 -----\n",
      "-----------------------------\n",
      "betatype: rooms | videotype: objects\n",
      "RRCN2\n",
      "(50, 2, 23, 25)\n",
      "(23, 25)\n",
      "0\n",
      "... Classifying rooms, so no need to re-order for this subj:  sub-sid01\n",
      "... Classifying rooms, so no need to re-order for this subj:  sub-sid02\n",
      "... Classifying rooms, so no need to re-order for this subj:  sub-sid03\n",
      "... Classifying rooms, so no need to re-order for this subj:  sub-sid04\n",
      "... Classifying rooms, so no need to re-order for this subj:  sub-sid05\n",
      "... Classifying rooms, so no need to re-order for this subj:  sub-sid06\n",
      "... Classifying rooms, so no need to re-order for this subj:  sub-sid08\n",
      "... Classifying rooms, so no need to re-order for this subj:  sub-sid09\n",
      "... Classifying rooms, so no need to re-order for this subj:  sub-sid10\n",
      "... Classifying rooms, so no need to re-order for this subj:  sub-sid11\n",
      "... Classifying rooms, so no need to re-order for this subj:  sub-sid12\n",
      "... Classifying rooms, so no need to re-order for this subj:  sub-sid13\n",
      "... Classifying rooms, so no need to re-order for this subj:  sub-sid14\n",
      "... Classifying rooms, so no need to re-order for this subj:  sub-sid15\n",
      "... Classifying rooms, so no need to re-order for this subj:  sub-sid16\n",
      "... Classifying rooms, so no need to re-order for this subj:  sub-sid17\n",
      "... Classifying rooms, so no need to re-order for this subj:  sub-sid18\n",
      "... Classifying rooms, so no need to re-order for this subj:  sub-sid19\n",
      "... Classifying rooms, so no need to re-order for this subj:  sub-sid20\n",
      "... Classifying rooms, so no need to re-order for this subj:  sub-sid22\n",
      "... Classifying rooms, so no need to re-order for this subj:  sub-sid24\n",
      "... Classifying rooms, so no need to re-order for this subj:  sub-sid26\n",
      "... Classifying rooms, so no need to re-order for this subj:  sub-sid27\n",
      "... Classifying rooms, so no need to re-order for this subj:  sub-sid28\n",
      "... Classifying rooms, so no need to re-order for this subj:  sub-sid29\n",
      "(23, 25)\n",
      "1\n",
      "... Classifying rooms, so no need to re-order for this subj:  sub-sid01\n",
      "... Classifying rooms, so no need to re-order for this subj:  sub-sid02\n",
      "... Classifying rooms, so no need to re-order for this subj:  sub-sid03\n",
      "... Classifying rooms, so no need to re-order for this subj:  sub-sid04\n",
      "... Classifying rooms, so no need to re-order for this subj:  sub-sid05\n",
      "... Classifying rooms, so no need to re-order for this subj:  sub-sid06\n",
      "... Classifying rooms, so no need to re-order for this subj:  sub-sid08\n",
      "... Classifying rooms, so no need to re-order for this subj:  sub-sid09\n",
      "... Classifying rooms, so no need to re-order for this subj:  sub-sid10\n",
      "... Classifying rooms, so no need to re-order for this subj:  sub-sid11\n",
      "... Classifying rooms, so no need to re-order for this subj:  sub-sid12\n",
      "... Classifying rooms, so no need to re-order for this subj:  sub-sid13\n",
      "... Classifying rooms, so no need to re-order for this subj:  sub-sid14\n",
      "... Classifying rooms, so no need to re-order for this subj:  sub-sid15\n",
      "... Classifying rooms, so no need to re-order for this subj:  sub-sid16\n",
      "... Classifying rooms, so no need to re-order for this subj:  sub-sid17\n",
      "... Classifying rooms, so no need to re-order for this subj:  sub-sid18\n",
      "... Classifying rooms, so no need to re-order for this subj:  sub-sid19\n",
      "... Classifying rooms, so no need to re-order for this subj:  sub-sid20\n",
      "... Classifying rooms, so no need to re-order for this subj:  sub-sid22\n",
      "... Classifying rooms, so no need to re-order for this subj:  sub-sid24\n",
      "... Classifying rooms, so no need to re-order for this subj:  sub-sid26\n",
      "... Classifying rooms, so no need to re-order for this subj:  sub-sid27\n",
      "... Classifying rooms, so no need to re-order for this subj:  sub-sid28\n",
      "... Classifying rooms, so no need to re-order for this subj:  sub-sid29\n",
      "-----------------------------\n",
      "---- WORKING WITH: PRCN2 -----\n",
      "-----------------------------\n",
      "betatype: rooms | videotype: rooms\n",
      "PRCN2\n",
      "(50, 2, 23, 25)\n",
      "(23, 25)\n",
      "0\n",
      "... Classifying rooms, so no need to re-order for this subj:  sub-sid01\n",
      "... Classifying rooms, so no need to re-order for this subj:  sub-sid02\n",
      "... Classifying rooms, so no need to re-order for this subj:  sub-sid03\n",
      "... Classifying rooms, so no need to re-order for this subj:  sub-sid04\n",
      "... Classifying rooms, so no need to re-order for this subj:  sub-sid05\n",
      "... Classifying rooms, so no need to re-order for this subj:  sub-sid06\n",
      "... Classifying rooms, so no need to re-order for this subj:  sub-sid08\n",
      "... Classifying rooms, so no need to re-order for this subj:  sub-sid09\n",
      "... Classifying rooms, so no need to re-order for this subj:  sub-sid10\n",
      "... Classifying rooms, so no need to re-order for this subj:  sub-sid11\n"
     ]
    },
    {
     "name": "stdout",
     "output_type": "stream",
     "text": [
      "... Classifying rooms, so no need to re-order for this subj:  sub-sid12\n",
      "... Classifying rooms, so no need to re-order for this subj:  sub-sid13\n",
      "... Classifying rooms, so no need to re-order for this subj:  sub-sid14\n",
      "... Classifying rooms, so no need to re-order for this subj:  sub-sid15\n",
      "... Classifying rooms, so no need to re-order for this subj:  sub-sid16\n",
      "... Classifying rooms, so no need to re-order for this subj:  sub-sid17\n",
      "... Classifying rooms, so no need to re-order for this subj:  sub-sid18\n",
      "... Classifying rooms, so no need to re-order for this subj:  sub-sid19\n",
      "... Classifying rooms, so no need to re-order for this subj:  sub-sid20\n",
      "... Classifying rooms, so no need to re-order for this subj:  sub-sid22\n",
      "... Classifying rooms, so no need to re-order for this subj:  sub-sid24\n",
      "... Classifying rooms, so no need to re-order for this subj:  sub-sid26\n",
      "... Classifying rooms, so no need to re-order for this subj:  sub-sid27\n",
      "... Classifying rooms, so no need to re-order for this subj:  sub-sid28\n",
      "... Classifying rooms, so no need to re-order for this subj:  sub-sid29\n",
      "(23, 25)\n",
      "1\n",
      "... Classifying rooms, so no need to re-order for this subj:  sub-sid01\n",
      "... Classifying rooms, so no need to re-order for this subj:  sub-sid02\n",
      "... Classifying rooms, so no need to re-order for this subj:  sub-sid03\n",
      "... Classifying rooms, so no need to re-order for this subj:  sub-sid04\n",
      "... Classifying rooms, so no need to re-order for this subj:  sub-sid05\n",
      "... Classifying rooms, so no need to re-order for this subj:  sub-sid06\n",
      "... Classifying rooms, so no need to re-order for this subj:  sub-sid08\n",
      "... Classifying rooms, so no need to re-order for this subj:  sub-sid09\n",
      "... Classifying rooms, so no need to re-order for this subj:  sub-sid10\n",
      "... Classifying rooms, so no need to re-order for this subj:  sub-sid11\n",
      "... Classifying rooms, so no need to re-order for this subj:  sub-sid12\n",
      "... Classifying rooms, so no need to re-order for this subj:  sub-sid13\n",
      "... Classifying rooms, so no need to re-order for this subj:  sub-sid14\n",
      "... Classifying rooms, so no need to re-order for this subj:  sub-sid15\n",
      "... Classifying rooms, so no need to re-order for this subj:  sub-sid16\n",
      "... Classifying rooms, so no need to re-order for this subj:  sub-sid17\n",
      "... Classifying rooms, so no need to re-order for this subj:  sub-sid18\n",
      "... Classifying rooms, so no need to re-order for this subj:  sub-sid19\n",
      "... Classifying rooms, so no need to re-order for this subj:  sub-sid20\n",
      "... Classifying rooms, so no need to re-order for this subj:  sub-sid22\n",
      "... Classifying rooms, so no need to re-order for this subj:  sub-sid24\n",
      "... Classifying rooms, so no need to re-order for this subj:  sub-sid26\n",
      "... Classifying rooms, so no need to re-order for this subj:  sub-sid27\n",
      "... Classifying rooms, so no need to re-order for this subj:  sub-sid28\n",
      "... Classifying rooms, so no need to re-order for this subj:  sub-sid29\n"
     ]
    },
    {
     "name": "stderr",
     "output_type": "stream",
     "text": [
      "/jukebox/pkgs/PYGER/base/envs/0.11.0/lib/python3.7/site-packages/ipykernel_launcher.py:83: RuntimeWarning: Mean of empty slice\n"
     ]
    }
   ],
   "source": [
    "nItems = 23\n",
    "\n",
    "useAvgRIPs = True # use norm across all trials and subjects instead of norm across trials (normal RIPs)\n",
    "\n",
    "superteam_SLs = best_Z_SLs\n",
    "\n",
    "betatype = 'objects'\n",
    "\n",
    "modified_rip = {} # \n",
    "unordered_rip = {}\n",
    "\n",
    "item_order = np.arange(nItems)\n",
    "\n",
    "for network, SLs2Use in zip((\"ROCN\",\"POCN\", \"RRCN\", \"PRCN\", \"RRCN2\", \"PRCN2\"),(ROCN_SLs, POCN_SLs, RRCN_SLs, PRCN_SLs, RRCN_SLs, PRCN_SLs)):\n",
    "    print(\"-----------------------------\")\n",
    "    print(\"---- WORKING WITH: {} -----\".format(network))\n",
    "    print(\"-----------------------------\")\n",
    "    \n",
    "    \n",
    "    if network == \"RRCN2\" or network == \"PRCN2\":\n",
    "        # For revision and corresponding partial correlation analysis, we need to rule out possibility that room information\n",
    "        # is influencing our room reliability ~ ROCN result. So, we need to acquire classifier evidence for rooms not only when a participant\n",
    "        # talks about a room, but also when a participant talks/recalls the object paired to that room.\n",
    "        # thus, \"scores2\" contains classifier evidence for rooms during object events.\n",
    "        # RRCN2 and PRCN2 involve the same RRCN and PRCN masks (these networks are room networks), but in addition\n",
    "        # to getting room evidence for RRCN and PRCN during room events (the 'else' in this if-else block),\n",
    "        # we want to get room evidence during object events too, hence RRCN2 and PRCN2.\n",
    "        classifier_results = scores2.copy()\n",
    "        \n",
    "    else:\n",
    "        # 'scores' contains object evidence during recalls and we then mask the whole brain results\n",
    "        # with each network, ROCN, POCN. 'scores' also has room evidence during recalls\n",
    "        # which we then use for RRCN and PRCN.\n",
    "        classifier_results = scores.copy()\n",
    "    \n",
    "    modified_rip[network] = {}\n",
    "    unordered_rip[network] = {}\n",
    "    \n",
    "    ## each network comes from separate phase of experiment where participants\n",
    "    ## watched videos of rooms or objects. We can derive networks from classification results\n",
    "    ## during these tasks:\n",
    "    ##### ROCN is when we classify an object that is not visible\n",
    "    ##### POCN is when we classify an object that is visible (perceived)\n",
    "    ##### RRCN is when we classify room that is not visible\n",
    "    ##### PRCN is when we classify room that is visible (perceived)\n",
    "    \n",
    "    # if we want Retrieved Object (ROCN) or Perceived Room (PRCN)\n",
    "    # then, we are watching \"room\" videos and classifying objects and rooms, respectively\n",
    "    if network == 'ROCN' or 'PRCN' in network:\n",
    "        betatype = 'objects' if network =='ROCN' else 'rooms'\n",
    "        videotype = 'rooms'\n",
    "        \n",
    "    # if we want Retrieved Room (RRCN) or Perceived Object (POCN)\n",
    "    # then, we are watching \"object\" videos and classifying rooms and objects, respectively  \n",
    "    elif 'RRCN' in network or network == 'POCN':\n",
    "        betatype = 'objects' if network =='POCN' else 'rooms'\n",
    "        videotype = 'objects'\n",
    "    \n",
    "#     videotype = 'rooms' if network=='ROCN' else 'objects'\n",
    "    \n",
    "    print('betatype: {} | videotype: {}'.format(betatype,videotype))\n",
    "        \n",
    "    bestL = superteam_SLs[betatype][videotype]['L'].astype(int)\n",
    "    bestR = superteam_SLs[betatype][videotype]['R'].astype(int)\n",
    "    \n",
    "    print(network)\n",
    "    \n",
    "#     print('separate', ROCN_SLs['L'])\n",
    "#     print('embedded', bestL )\n",
    "    \n",
    "    if useAvgRIPs==True:\n",
    "        concat_rip = np.concatenate((classifier_results[betatype]['avg_RIPs']['L'][bestL],\n",
    "                                classifier_results[betatype]['avg_RIPs']['R'][bestR]),axis=0)\n",
    "    else:\n",
    "        concat_rip = np.concatenate((classifier_results[betatype]['RIPs']['L'][bestL],\n",
    "                                classifier_results[betatype]['RIPs']['R'][bestR]),axis=0)\n",
    "        \n",
    "    print(concat_rip.shape)\n",
    "    \n",
    "    for trial_to_use in ['GR','FR']:\n",
    "\n",
    "        modified_rip[network][trial_to_use] = np.full((nItems,nSubj),fill_value=np.nan)\n",
    "        unordered_rip[network][trial_to_use] = np.full((nItems,nSubj),fill_value=np.nan)\n",
    "\n",
    "        ## which type of recall are we going to get accuracy from?\n",
    "        ## choose between guided recalls (GR) or free recalls (FR)\n",
    "        \n",
    "        if useAvgRIPs==False:\n",
    "            # shape of concat_rip = (50, 12, 23, 25)\n",
    "            trials_to_use = np.arange(len(trials))[:-1] if trial_to_use == 'GR' else [np.arange(len(trials))[-1]]\n",
    "            current_rip = concat_rip[:,:,trials_to_use,:]\n",
    "            current_rip = np.nanmean(current_rip,2) #average out trials\n",
    "            current_rip = np.nanmean(current_rip,0) # average out SLs, now it's (23,25)\n",
    "        else:\n",
    "            # shape of concat_rip = (50, 2, 23, 25)\n",
    "            trials_to_use = 0 if trial_to_use == 'GR' else 1\n",
    "            current_rip = concat_rip[:,trials_to_use,:,:]\n",
    "            current_rip = np.nanmean(current_rip,0) # average out SLs, now it's (23,25)\n",
    "            print(current_rip.shape)\n",
    "        \n",
    "        print(trials_to_use)\n",
    "\n",
    "        for si, subj in enumerate(subject_ids):\n",
    "\n",
    "            if betatype == 'rooms':\n",
    "                #no need to re-order\n",
    "                print(\"... Classifying rooms, so no need to re-order for this subj: \", subj)\n",
    "                new_item_order = item_order\n",
    "\n",
    "            elif betatype == 'objects':\n",
    "                print(\"... Classifying objects, need to match room-object pair for this subject: \", subj)\n",
    "\n",
    "                # need to re-order so that object index is equal to room index per subject\n",
    "                new_item_order = Convert_SourceItem_to_PairedItem_Order(subj,item_order,room_obj_assignments,fromItem='objidx',toItem='roomidx')\n",
    "                \n",
    "#                 print(new_item_order)\n",
    "                      \n",
    "#             modified_rip[network][trial_to_use][:,si] = current_rip[new_item_order,si]\n",
    "            modified_rip[network][trial_to_use][new_item_order,si] = current_rip[:,si]\n",
    "    \n",
    "            # keep default object order\n",
    "            unordered_rip[network][trial_to_use][:,si] = current_rip[:,si]\n",
    "\n"
   ]
  },
  {
   "cell_type": "code",
   "execution_count": 107,
   "metadata": {},
   "outputs": [
    {
     "data": {
      "text/plain": [
       "True"
      ]
     },
     "execution_count": 107,
     "metadata": {},
     "output_type": "execute_result"
    }
   ],
   "source": [
    "useAvgRIPs"
   ]
  },
  {
   "cell_type": "code",
   "execution_count": 46,
   "metadata": {},
   "outputs": [
    {
     "data": {
      "text/plain": [
       "dict_keys(['ROCN', 'POCN', 'RRCN', 'PRCN', 'RRCN2', 'PRCN2'])"
      ]
     },
     "execution_count": 46,
     "metadata": {},
     "output_type": "execute_result"
    }
   ],
   "source": [
    "modified_rip.keys()"
   ]
  },
  {
   "cell_type": "code",
   "execution_count": 53,
   "metadata": {},
   "outputs": [
    {
     "name": "stdout",
     "output_type": "stream",
     "text": [
      "Folder already exists: ../PythonData2024/Output/RecallEvidence\n",
      "saved... \n",
      "... ../PythonData2024/Output/RecallEvidence/20250524_NetworksRecallEvidence_shift4_top50.pkl\n"
     ]
    }
   ],
   "source": [
    "\n",
    "###\n",
    "### SAVE SAVE SAVE SAVE SAVE\n",
    "###\n",
    "\n",
    "# date = 20240108 # \n",
    "date = 20240401 # second permutation fix\n",
    "date = 20250524 # ROCN, POCN, RRCN, PRCN and RRCN2 and PRCN2 composite reinstatement scores.\n",
    "savedir = '../PythonData2024/Output/RecallEvidence' ; create_dirs(savedir)\n",
    "\n",
    "fname = '{}_NetworksRecallEvidence_shift{}_top{}'.format(date,shift,top_thresh) + '.pkl'\n",
    "                                                                                                \n",
    "save_obj(os.path.join(savedir,fname),modified_rip)\n",
    "print('saved... ')\n",
    "print('...', os.path.join(savedir,fname))"
   ]
  },
  {
   "cell_type": "code",
   "execution_count": null,
   "metadata": {},
   "outputs": [],
   "source": []
  },
  {
   "cell_type": "markdown",
   "metadata": {},
   "source": [
    "# object evidence"
   ]
  },
  {
   "cell_type": "code",
   "execution_count": 78,
   "metadata": {},
   "outputs": [
    {
     "ename": "NameError",
     "evalue": "name 'trial_type' is not defined",
     "output_type": "error",
     "traceback": [
      "\u001b[0;31m---------------------------------------------------------------------------\u001b[0m",
      "\u001b[0;31mNameError\u001b[0m                                 Traceback (most recent call last)",
      "\u001b[0;32m<ipython-input-78-a7b7c888a9bc>\u001b[0m in \u001b[0;36m<module>\u001b[0;34m\u001b[0m\n\u001b[0;32m----> 1\u001b[0;31m \u001b[0mnetwork\u001b[0m\u001b[0;34m,\u001b[0m \u001b[0mtrial_type\u001b[0m\u001b[0;34m\u001b[0m\u001b[0;34m\u001b[0m\u001b[0m\n\u001b[0m",
      "\u001b[0;31mNameError\u001b[0m: name 'trial_type' is not defined"
     ]
    }
   ],
   "source": [
    "network, trial_type"
   ]
  },
  {
   "cell_type": "code",
   "execution_count": 8,
   "metadata": {},
   "outputs": [
    {
     "data": {
      "text/plain": [
       "['brain',\n",
       " 'tricycle',\n",
       " 'darts',\n",
       " 'camera',\n",
       " 'puppy',\n",
       " 'trex',\n",
       " 'chest',\n",
       " 'oven',\n",
       " 'carriage',\n",
       " 'plane',\n",
       " 'rubix',\n",
       " 'teddybear',\n",
       " 'basketball',\n",
       " 'zombie',\n",
       " 'playground',\n",
       " 'kerby',\n",
       " 'drums',\n",
       " 'snowman',\n",
       " 'breadloaf',\n",
       " 'chicken',\n",
       " 'skeleton',\n",
       " 'burger',\n",
       " 'butterfly']"
      ]
     },
     "execution_count": 8,
     "metadata": {},
     "output_type": "execute_result"
    }
   ],
   "source": [
    "from _mempal_util import RoomObjectIdxToNames\n",
    "[RoomObjectIdxToNames[i] for i in range(24, 47)]"
   ]
  },
  {
   "cell_type": "code",
   "execution_count": 99,
   "metadata": {},
   "outputs": [
    {
     "data": {
      "text/plain": [
       "(23, 50)"
      ]
     },
     "execution_count": 99,
     "metadata": {},
     "output_type": "execute_result"
    }
   ],
   "source": [
    "np.hstack((unordered_rip[network_in][trial_type_in],\n",
    "           unordered_rip[network_in][trial_type_in])).shape"
   ]
  },
  {
   "cell_type": "code",
   "execution_count": 18,
   "metadata": {},
   "outputs": [
    {
     "data": {
      "text/plain": [
       "(23, 25)"
      ]
     },
     "execution_count": 18,
     "metadata": {},
     "output_type": "execute_result"
    }
   ],
   "source": [
    "unordered_rip['ROCN']['GR'].shape"
   ]
  },
  {
   "cell_type": "code",
   "execution_count": 34,
   "metadata": {},
   "outputs": [],
   "source": [
    "def plot_best_objs(network_in, trial_type_in, mean_result=True):\n",
    "    obj_names = np.array([RoomObjectIdxToNames[i] for i in range(24, 47)])\n",
    "\n",
    "#     network_in = 'POCN'\n",
    "#     trial_type_in = 'GR'\n",
    "\n",
    "    if not mean_result:\n",
    "        object_data = unordered_rip[network_in][trial_type_in]\n",
    "        object_means = np.nanmean(object_data, 1)\n",
    "        object_stds = np.nanstd(object_data, 1, ddof=1)\n",
    "    else:\n",
    "        # turns (23,25) into (23, 50)\n",
    "        object_data = np.hstack((unordered_rip[network_in]['GR'],\n",
    "                                   unordered_rip[network_in]['FR']))\n",
    "                                \n",
    "        object_means = np.nanmean(object_data, axis=1)\n",
    "        \n",
    "        object_stds = np.nanstd(object_data, axis=1, ddof=1)\n",
    "        \n",
    "\n",
    "\n",
    "#     # Sort from highest to lowest\n",
    "    top_indices  = np.argsort(object_means)[::-1]\n",
    "#     top_indices  = np.array(top_indices)\n",
    "#     top_evidence = object_means[top_indices]\n",
    "\n",
    "    print(np.array(top_indices))\n",
    "\n",
    "    # Mean across subjects\n",
    "    # data shape: (23 objects, N subjects)\n",
    "    # compute SEM manually: SEM = std / sqrt(N), ignoring NaNs\n",
    "    object_nonnans   = np.sum(~np.isnan(object_data), axis=1)  # count of non-NaN entries per object\n",
    "    object_sems   = object_stds / np.sqrt(object_nonnans)  # standard error\n",
    "\n",
    "    # Sort by mean evidence\n",
    "    top_indices = np.argsort(object_means)[::-1]\n",
    "    top_means   = object_means[top_indices]\n",
    "    top_sems    = object_sems[top_indices]\n",
    "    top_names   = obj_names[top_indices]\n",
    "    \n",
    "    \n",
    "    plt.figure(figsize=(10, 4))\n",
    "    plt.bar(range(len(top_indices)), top_means, tick_label=top_indices, yerr=top_sems, capsize=4,)\n",
    "    plt.xlabel(\"Objects (sorted)\")\n",
    "    plt.ylabel(\"Avg evidence across subjects\")\n",
    "    plt.title(f\"{network_in} evidence per object \")\n",
    "    plt.tight_layout()\n",
    "    plt.xticks(range(23), np.array(obj_names)[top_indices], rotation=90)\n",
    "#     plt.hlines(1/23,0,23, color='black', linestyle='--', alpha=0.4)\n",
    "    plt.show()\n",
    "\n",
    "    if mean_result==True:\n",
    "        \n",
    "        print(f\"\\nTop objects by avg evidence ({network_in} | Average Across (GR and FR)):\") \n",
    "    else:\n",
    "        print(f\"\\nTop objects by avg evidence ({network_in} | {trial_type_in}):\") ;\n",
    "    \n",
    "    printed_line = False\n",
    "    for rank, (idx, val) in enumerate(zip(obj_names[top_indices], top_means)):\n",
    "        print(f\"{rank+1:2d}: {idx:15s} → {val:.4f}\")\n",
    "        if val <= (1/23) and not printed_line:\n",
    "            print(\"-------------\"); printed_line = True\n"
   ]
  },
  {
   "cell_type": "code",
   "execution_count": null,
   "metadata": {},
   "outputs": [],
   "source": []
  },
  {
   "cell_type": "code",
   "execution_count": 35,
   "metadata": {},
   "outputs": [
    {
     "name": "stdout",
     "output_type": "stream",
     "text": [
      "[19 16  9 13 20  8  2  5  1  7 12 21 18 15 14  6  4  3 22 11 17 10  0]\n"
     ]
    },
    {
     "data": {
      "image/png": "[encoded data removed]",
      "text/plain": [
       "<Figure size 720x288 with 1 Axes>"
      ]
     },
     "metadata": {
      "needs_background": "light"
     },
     "output_type": "display_data"
    },
    {
     "name": "stdout",
     "output_type": "stream",
     "text": [
      "\n",
      "Top objects by avg evidence (ROCN | Average Across (GR and FR)):\n",
      " 1: chicken         → 0.0479\n",
      " 2: drums           → 0.0474\n",
      " 3: plane           → 0.0470\n",
      " 4: zombie          → 0.0462\n",
      " 5: skeleton        → 0.0459\n",
      " 6: carriage        → 0.0457\n",
      " 7: darts           → 0.0454\n",
      " 8: trex            → 0.0450\n",
      " 9: tricycle        → 0.0448\n",
      "10: oven            → 0.0446\n",
      "11: basketball      → 0.0438\n",
      "12: burger          → 0.0435\n",
      "13: breadloaf       → 0.0433\n",
      "-------------\n",
      "14: kerby           → 0.0426\n",
      "15: playground      → 0.0425\n",
      "16: chest           → 0.0423\n",
      "17: puppy           → 0.0412\n",
      "18: camera          → 0.0407\n",
      "19: butterfly       → 0.0406\n",
      "20: teddybear       → 0.0405\n",
      "21: snowman         → 0.0403\n",
      "22: rubix           → 0.0401\n",
      "23: brain           → 0.0381\n",
      "[ 7 16 22  2 18  4 19 15  1  3  8 10 14  5  9 17 13 11 12  0  6 20 21]\n"
     ]
    },
    {
     "data": {
      "image/png": "[encoded data removed]",
      "text/plain": [
       "<Figure size 720x288 with 1 Axes>"
      ]
     },
     "metadata": {
      "needs_background": "light"
     },
     "output_type": "display_data"
    },
    {
     "name": "stdout",
     "output_type": "stream",
     "text": [
      "\n",
      "Top objects by avg evidence (POCN | Average Across (GR and FR)):\n",
      " 1: oven            → 0.0552\n",
      " 2: drums           → 0.0530\n",
      " 3: butterfly       → 0.0504\n",
      " 4: darts           → 0.0504\n",
      " 5: breadloaf       → 0.0487\n",
      " 6: puppy           → 0.0478\n",
      " 7: chicken         → 0.0476\n",
      " 8: kerby           → 0.0457\n",
      " 9: tricycle        → 0.0454\n",
      "10: camera          → 0.0452\n",
      "11: carriage        → 0.0449\n",
      "12: rubix           → 0.0449\n",
      "13: playground      → 0.0444\n",
      "14: trex            → 0.0444\n",
      "15: plane           → 0.0426\n",
      "-------------\n",
      "16: snowman         → 0.0418\n",
      "17: zombie          → 0.0414\n",
      "18: teddybear       → 0.0408\n",
      "19: basketball      → 0.0406\n",
      "20: brain           → 0.0405\n",
      "21: chest           → 0.0395\n",
      "22: skeleton        → 0.0349\n",
      "23: burger          → 0.0347\n"
     ]
    }
   ],
   "source": [
    "plot_best_objs('ROCN', 'GR', mean_result = True) # plots average between GR and FR\n",
    "plot_best_objs('POCN', 'GR', mean_result = True) # plots average between GR and FR\n",
    "\n",
    "## plot individual instead of group mean across GRs and FRs\n",
    "# plot_best_objs('ROCN', 'GR', mean_result = False)\n",
    "# plot_best_objs('POCN', 'GR', mean_result = False)\n",
    "# plot_best_objs('ROCN', 'FR', mean_result = False)\n",
    "# plot_best_objs('POCN', 'FR', mean_result = False)"
   ]
  },
  {
   "cell_type": "code",
   "execution_count": 23,
   "metadata": {},
   "outputs": [
    {
     "ename": "UnboundLocalError",
     "evalue": "local variable 'top_indices' referenced before assignment",
     "output_type": "error",
     "traceback": [
      "\u001b[0;31m---------------------------------------------------------------------------\u001b[0m",
      "\u001b[0;31mUnboundLocalError\u001b[0m                         Traceback (most recent call last)",
      "\u001b[0;32m<ipython-input-23-efd576def773>\u001b[0m in \u001b[0;36m<module>\u001b[0;34m\u001b[0m\n\u001b[0;32m----> 1\u001b[0;31m \u001b[0mplot_best_objs\u001b[0m\u001b[0;34m(\u001b[0m\u001b[0;34m'ROCN'\u001b[0m\u001b[0;34m,\u001b[0m \u001b[0;34m'GR'\u001b[0m\u001b[0;34m,\u001b[0m \u001b[0mmean_result\u001b[0m \u001b[0;34m=\u001b[0m \u001b[0;32mTrue\u001b[0m\u001b[0;34m)\u001b[0m\u001b[0;34m\u001b[0m\u001b[0;34m\u001b[0m\u001b[0m\n\u001b[0m\u001b[1;32m      2\u001b[0m \u001b[0mplot_best_objs\u001b[0m\u001b[0;34m(\u001b[0m\u001b[0;34m'POCN'\u001b[0m\u001b[0;34m,\u001b[0m \u001b[0;34m'GR'\u001b[0m\u001b[0;34m,\u001b[0m \u001b[0mmean_result\u001b[0m \u001b[0;34m=\u001b[0m \u001b[0;32mTrue\u001b[0m\u001b[0;34m)\u001b[0m\u001b[0;34m\u001b[0m\u001b[0;34m\u001b[0m\u001b[0m\n",
      "\u001b[0;32m<ipython-input-21-abaf71c028ff>\u001b[0m in \u001b[0;36mplot_best_objs\u001b[0;34m(network_in, trial_type_in, mean_result)\u001b[0m\n\u001b[1;32m     25\u001b[0m \u001b[0;31m#     top_evidence = object_means[top_indices]\u001b[0m\u001b[0;34m\u001b[0m\u001b[0;34m\u001b[0m\u001b[0;34m\u001b[0m\u001b[0m\n\u001b[1;32m     26\u001b[0m \u001b[0;34m\u001b[0m\u001b[0m\n\u001b[0;32m---> 27\u001b[0;31m     \u001b[0mprint\u001b[0m\u001b[0;34m(\u001b[0m\u001b[0mnp\u001b[0m\u001b[0;34m.\u001b[0m\u001b[0marray\u001b[0m\u001b[0;34m(\u001b[0m\u001b[0mtop_indices\u001b[0m\u001b[0;34m)\u001b[0m\u001b[0;34m)\u001b[0m\u001b[0;34m\u001b[0m\u001b[0;34m\u001b[0m\u001b[0m\n\u001b[0m\u001b[1;32m     28\u001b[0m \u001b[0;34m\u001b[0m\u001b[0m\n\u001b[1;32m     29\u001b[0m     \u001b[0;31m# Mean across subjects\u001b[0m\u001b[0;34m\u001b[0m\u001b[0;34m\u001b[0m\u001b[0;34m\u001b[0m\u001b[0m\n",
      "\u001b[0;31mUnboundLocalError\u001b[0m: local variable 'top_indices' referenced before assignment"
     ]
    }
   ],
   "source": [
    "plot_best_objs('ROCN', 'GR', mean_result = True)\n",
    "plot_best_objs('POCN', 'GR', mean_result = True)"
   ]
  },
  {
   "cell_type": "code",
   "execution_count": 75,
   "metadata": {},
   "outputs": [
    {
     "data": {
      "text/plain": [
       "<matplotlib.collections.LineCollection at 0x7f1f680597d0>"
      ]
     },
     "execution_count": 75,
     "metadata": {},
     "output_type": "execute_result"
    },
    {
     "data": {
      "image/png": "[encoded data removed]",
      "text/plain": [
       "<Figure size 432x288 with 1 Axes>"
      ]
     },
     "metadata": {
      "needs_background": "light"
     },
     "output_type": "display_data"
    }
   ],
   "source": [
    "plt.plot(np.nanmean(unordered_rip['ROCN']['FR'], 1), '.', markersize=10)\n",
    "plt.hlines(1/23,0,23, color='black', linestyle='--', alpha=0.5)\n",
    "\n",
    "plt.plot(np.nanmean(unordered_rip['ROCN']['GR'], 1), '.', markersize=10)\n",
    "plt.hlines(1/23,0,23, color='black', linestyle='--', alpha=0.5)\n",
    "\n",
    "\n"
   ]
  },
  {
   "cell_type": "code",
   "execution_count": 74,
   "metadata": {},
   "outputs": [
    {
     "data": {
      "text/plain": [
       "<matplotlib.collections.LineCollection at 0x7f1f680debd0>"
      ]
     },
     "execution_count": 74,
     "metadata": {},
     "output_type": "execute_result"
    },
    {
     "data": {
      "image/png": "[encoded data removed]",
      "text/plain": [
       "<Figure size 432x288 with 1 Axes>"
      ]
     },
     "metadata": {
      "needs_background": "light"
     },
     "output_type": "display_data"
    }
   ],
   "source": [
    "plt.plot(np.nanmean(unordered_rip['POCN']['GR'], 1), '.', markersize=10)\n",
    "plt.hlines(1/23,0,23, color='black', linestyle='--', alpha=0.5)\n",
    "\n",
    "plt.plot(np.nanmean(unordered_rip['POCN']['FR'], 1), '.', markersize=10)\n",
    "plt.hlines(1/23,0,23, color='black', linestyle='--', alpha=0.5)"
   ]
  },
  {
   "cell_type": "code",
   "execution_count": 1,
   "metadata": {},
   "outputs": [
    {
     "ename": "NameError",
     "evalue": "name 'plot_best_objs' is not defined",
     "output_type": "error",
     "traceback": [
      "\u001b[0;31m---------------------------------------------------------------------------\u001b[0m",
      "\u001b[0;31mNameError\u001b[0m                                 Traceback (most recent call last)",
      "\u001b[0;32m<ipython-input-1-395f0adce51d>\u001b[0m in \u001b[0;36m<module>\u001b[0;34m\u001b[0m\n\u001b[0;32m----> 1\u001b[0;31m \u001b[0mplot_best_objs\u001b[0m\u001b[0;34m(\u001b[0m\u001b[0;34m'RRCN'\u001b[0m\u001b[0;34m,\u001b[0m \u001b[0;34m'GR'\u001b[0m\u001b[0;34m,\u001b[0m \u001b[0mmean_result\u001b[0m \u001b[0;34m=\u001b[0m \u001b[0;32mTrue\u001b[0m\u001b[0;34m)\u001b[0m\u001b[0;34m\u001b[0m\u001b[0;34m\u001b[0m\u001b[0m\n\u001b[0m\u001b[1;32m      2\u001b[0m \u001b[0mplot_best_objs\u001b[0m\u001b[0;34m(\u001b[0m\u001b[0;34m'PRCN2'\u001b[0m\u001b[0;34m,\u001b[0m \u001b[0;34m'GR'\u001b[0m\u001b[0;34m,\u001b[0m \u001b[0mmean_result\u001b[0m \u001b[0;34m=\u001b[0m \u001b[0;32mTrue\u001b[0m\u001b[0;34m)\u001b[0m\u001b[0;34m\u001b[0m\u001b[0;34m\u001b[0m\u001b[0m\n",
      "\u001b[0;31mNameError\u001b[0m: name 'plot_best_objs' is not defined"
     ]
    }
   ],
   "source": [
    "plot_best_objs('RRCN', 'GR', mean_result = True)\n",
    "plot_best_objs('PRCN2', 'GR', mean_result = True)"
   ]
  },
  {
   "cell_type": "code",
   "execution_count": null,
   "metadata": {},
   "outputs": [],
   "source": []
  },
  {
   "cell_type": "code",
   "execution_count": null,
   "metadata": {},
   "outputs": [],
   "source": []
  }
 ],
 "metadata": {
  "kernelspec": {
   "display_name": "Python 3",
   "language": "python",
   "name": "python3"
  },
  "language_info": {
   "codemirror_mode": {
    "name": "ipython",
    "version": 3
   },
   "file_extension": ".py",
   "mimetype": "text/x-python",
   "name": "python",
   "nbconvert_exporter": "python",
   "pygments_lexer": "ipython3",
   "version": "3.7.9"
  }
 },
 "nbformat": 4,
 "nbformat_minor": 2
}
