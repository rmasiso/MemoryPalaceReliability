{
 "cells": [
  {
   "cell_type": "markdown",
   "metadata": {},
   "source": []
  },
  {
   "cell_type": "code",
   "execution_count": 1,
   "metadata": {},
   "outputs": [],
   "source": [
    "#import dependencies\n",
    "\n",
    "from _mempal_util import create_dirs, session_tasks\n",
    "import nibabel as nib\n",
    "import numpy as np\n",
    "import os\n",
    "import h5py\n",
    "from sklearn import linear_model\n",
    "from scipy import stats,special\n",
    "import nibabel as nib\n",
    "from nilearn.input_data import NiftiMasker,  MultiNiftiMasker\n"
   ]
  },
  {
   "cell_type": "code",
   "execution_count": 2,
   "metadata": {},
   "outputs": [
    {
     "name": "stdout",
     "output_type": "stream",
     "text": [
      "29 ['sub-sid01', 'sub-sid02', 'sub-sid03', 'sub-sid04', 'sub-sid05', 'sub-sid06', 'sub-sid07', 'sub-sid08', 'sub-sid09', 'sub-sid10', 'sub-sid11', 'sub-sid12', 'sub-sid13', 'sub-sid14', 'sub-sid15', 'sub-sid16', 'sub-sid17', 'sub-sid18', 'sub-sid19', 'sub-sid20', 'sub-sid21', 'sub-sid22', 'sub-sid23', 'sub-sid24', 'sub-sid25', 'sub-sid26', 'sub-sid27', 'sub-sid28', 'sub-sid29']\n"
     ]
    }
   ],
   "source": [
    "# REPLACE WITH YOUR LOCATION OF FMRIPREPed DATA\n",
    "fmriprep_dir = '/jukebox/norman/rmasis/MemPal/data/BIDS/Norman/Baldassano/10442_vrpalace/derivatives/fmriprep'\n",
    "\n",
    "### create subj_prefix list\n",
    "\n",
    "subj_prefix = [('sub-sid{:0>2d}'.format(i)) for i in np.arange(1, 29+1)]\n",
    "nSubj = len(subj_prefix)\n",
    "print(nSubj, subj_prefix)\n",
    "\n",
    "subj_sesh_dir = []\n",
    "for subj in subj_prefix:\n",
    "    subj_sesh_dir.append(subj + '/ses-01/func/')\n",
    "    subj_sesh_dir.append(subj + '/ses-02/func/')\n",
    "        \n",
    "#create \n",
    "run_names = []\n",
    "for subjIdx, subj in enumerate(subj_prefix):\n",
    "    for task in session_tasks:\n",
    "        run_names.append(subj + '_' + task)\n",
    "        \n",
    "fnames = []\n",
    "confnames = []\n",
    "for subjIdx, subj in enumerate(subj_prefix):\n",
    "    for seshIdx, sesh in enumerate(session_tasks):\n",
    "        for hem in ['L', 'R']: \n",
    "            confnames.append(os.path.join(subj, sesh.split('_')[0], 'func', subj + '_' + sesh + '_bold_confounds.tsv'))\n",
    "            fnames.append(os.path.join(subj, sesh.split('_')[0], 'func', subj + '_' + sesh + '_bold_space-fsaverage6.'+ hem +'.func.gii'))\n",
    "               \n",
    "                \n",
    "fnames.sort() #put things alphabetically    \n",
    "run_names = np.repeat(run_names,2) #make run_names same length as fnames and confnames"
   ]
  },
  {
   "cell_type": "code",
   "execution_count": 3,
   "metadata": {},
   "outputs": [
    {
     "data": {
      "text/plain": [
       "array(['sub-sid01_ses-01_task-pathvideo',\n",
       "       'sub-sid01_ses-01_task-pathvideo',\n",
       "       'sub-sid01_ses-01_task-roomvideo_run-01',\n",
       "       'sub-sid01_ses-01_task-roomvideo_run-01',\n",
       "       'sub-sid01_ses-01_task-roomvideo_run-02',\n",
       "       'sub-sid01_ses-01_task-roomvideo_run-02',\n",
       "       'sub-sid01_ses-02_task-pathvideo',\n",
       "       'sub-sid01_ses-02_task-pathvideo', 'sub-sid01_ses-02_task-recall',\n",
       "       'sub-sid01_ses-02_task-recall',\n",
       "       'sub-sid01_ses-02_task-roomobjectvideo_run-01',\n",
       "       'sub-sid01_ses-02_task-roomobjectvideo_run-01',\n",
       "       'sub-sid01_ses-02_task-roomobjectvideo_run-02',\n",
       "       'sub-sid01_ses-02_task-roomobjectvideo_run-02',\n",
       "       'sub-sid02_ses-01_task-pathvideo',\n",
       "       'sub-sid02_ses-01_task-pathvideo',\n",
       "       'sub-sid02_ses-01_task-roomvideo_run-01',\n",
       "       'sub-sid02_ses-01_task-roomvideo_run-01',\n",
       "       'sub-sid02_ses-01_task-roomvideo_run-02',\n",
       "       'sub-sid02_ses-01_task-roomvideo_run-02',\n",
       "       'sub-sid02_ses-02_task-pathvideo',\n",
       "       'sub-sid02_ses-02_task-pathvideo', 'sub-sid02_ses-02_task-recall',\n",
       "       'sub-sid02_ses-02_task-recall',\n",
       "       'sub-sid02_ses-02_task-roomobjectvideo_run-01',\n",
       "       'sub-sid02_ses-02_task-roomobjectvideo_run-01',\n",
       "       'sub-sid02_ses-02_task-roomobjectvideo_run-02',\n",
       "       'sub-sid02_ses-02_task-roomobjectvideo_run-02',\n",
       "       'sub-sid03_ses-01_task-pathvideo',\n",
       "       'sub-sid03_ses-01_task-pathvideo',\n",
       "       'sub-sid03_ses-01_task-roomvideo_run-01',\n",
       "       'sub-sid03_ses-01_task-roomvideo_run-01',\n",
       "       'sub-sid03_ses-01_task-roomvideo_run-02',\n",
       "       'sub-sid03_ses-01_task-roomvideo_run-02',\n",
       "       'sub-sid03_ses-02_task-pathvideo',\n",
       "       'sub-sid03_ses-02_task-pathvideo', 'sub-sid03_ses-02_task-recall',\n",
       "       'sub-sid03_ses-02_task-recall',\n",
       "       'sub-sid03_ses-02_task-roomobjectvideo_run-01',\n",
       "       'sub-sid03_ses-02_task-roomobjectvideo_run-01',\n",
       "       'sub-sid03_ses-02_task-roomobjectvideo_run-02',\n",
       "       'sub-sid03_ses-02_task-roomobjectvideo_run-02',\n",
       "       'sub-sid04_ses-01_task-pathvideo',\n",
       "       'sub-sid04_ses-01_task-pathvideo',\n",
       "       'sub-sid04_ses-01_task-roomvideo_run-01',\n",
       "       'sub-sid04_ses-01_task-roomvideo_run-01',\n",
       "       'sub-sid04_ses-01_task-roomvideo_run-02',\n",
       "       'sub-sid04_ses-01_task-roomvideo_run-02',\n",
       "       'sub-sid04_ses-02_task-pathvideo',\n",
       "       'sub-sid04_ses-02_task-pathvideo', 'sub-sid04_ses-02_task-recall',\n",
       "       'sub-sid04_ses-02_task-recall',\n",
       "       'sub-sid04_ses-02_task-roomobjectvideo_run-01',\n",
       "       'sub-sid04_ses-02_task-roomobjectvideo_run-01',\n",
       "       'sub-sid04_ses-02_task-roomobjectvideo_run-02',\n",
       "       'sub-sid04_ses-02_task-roomobjectvideo_run-02',\n",
       "       'sub-sid05_ses-01_task-pathvideo',\n",
       "       'sub-sid05_ses-01_task-pathvideo',\n",
       "       'sub-sid05_ses-01_task-roomvideo_run-01',\n",
       "       'sub-sid05_ses-01_task-roomvideo_run-01',\n",
       "       'sub-sid05_ses-01_task-roomvideo_run-02',\n",
       "       'sub-sid05_ses-01_task-roomvideo_run-02',\n",
       "       'sub-sid05_ses-02_task-pathvideo',\n",
       "       'sub-sid05_ses-02_task-pathvideo', 'sub-sid05_ses-02_task-recall',\n",
       "       'sub-sid05_ses-02_task-recall',\n",
       "       'sub-sid05_ses-02_task-roomobjectvideo_run-01',\n",
       "       'sub-sid05_ses-02_task-roomobjectvideo_run-01',\n",
       "       'sub-sid05_ses-02_task-roomobjectvideo_run-02',\n",
       "       'sub-sid05_ses-02_task-roomobjectvideo_run-02',\n",
       "       'sub-sid06_ses-01_task-pathvideo',\n",
       "       'sub-sid06_ses-01_task-pathvideo',\n",
       "       'sub-sid06_ses-01_task-roomvideo_run-01',\n",
       "       'sub-sid06_ses-01_task-roomvideo_run-01',\n",
       "       'sub-sid06_ses-01_task-roomvideo_run-02',\n",
       "       'sub-sid06_ses-01_task-roomvideo_run-02',\n",
       "       'sub-sid06_ses-02_task-pathvideo',\n",
       "       'sub-sid06_ses-02_task-pathvideo', 'sub-sid06_ses-02_task-recall',\n",
       "       'sub-sid06_ses-02_task-recall',\n",
       "       'sub-sid06_ses-02_task-roomobjectvideo_run-01',\n",
       "       'sub-sid06_ses-02_task-roomobjectvideo_run-01',\n",
       "       'sub-sid06_ses-02_task-roomobjectvideo_run-02',\n",
       "       'sub-sid06_ses-02_task-roomobjectvideo_run-02',\n",
       "       'sub-sid07_ses-01_task-pathvideo',\n",
       "       'sub-sid07_ses-01_task-pathvideo',\n",
       "       'sub-sid07_ses-01_task-roomvideo_run-01',\n",
       "       'sub-sid07_ses-01_task-roomvideo_run-01',\n",
       "       'sub-sid07_ses-01_task-roomvideo_run-02',\n",
       "       'sub-sid07_ses-01_task-roomvideo_run-02',\n",
       "       'sub-sid07_ses-02_task-pathvideo',\n",
       "       'sub-sid07_ses-02_task-pathvideo', 'sub-sid07_ses-02_task-recall',\n",
       "       'sub-sid07_ses-02_task-recall',\n",
       "       'sub-sid07_ses-02_task-roomobjectvideo_run-01',\n",
       "       'sub-sid07_ses-02_task-roomobjectvideo_run-01',\n",
       "       'sub-sid07_ses-02_task-roomobjectvideo_run-02',\n",
       "       'sub-sid07_ses-02_task-roomobjectvideo_run-02',\n",
       "       'sub-sid08_ses-01_task-pathvideo',\n",
       "       'sub-sid08_ses-01_task-pathvideo',\n",
       "       'sub-sid08_ses-01_task-roomvideo_run-01',\n",
       "       'sub-sid08_ses-01_task-roomvideo_run-01',\n",
       "       'sub-sid08_ses-01_task-roomvideo_run-02',\n",
       "       'sub-sid08_ses-01_task-roomvideo_run-02',\n",
       "       'sub-sid08_ses-02_task-pathvideo',\n",
       "       'sub-sid08_ses-02_task-pathvideo', 'sub-sid08_ses-02_task-recall',\n",
       "       'sub-sid08_ses-02_task-recall',\n",
       "       'sub-sid08_ses-02_task-roomobjectvideo_run-01',\n",
       "       'sub-sid08_ses-02_task-roomobjectvideo_run-01',\n",
       "       'sub-sid08_ses-02_task-roomobjectvideo_run-02',\n",
       "       'sub-sid08_ses-02_task-roomobjectvideo_run-02',\n",
       "       'sub-sid09_ses-01_task-pathvideo',\n",
       "       'sub-sid09_ses-01_task-pathvideo',\n",
       "       'sub-sid09_ses-01_task-roomvideo_run-01',\n",
       "       'sub-sid09_ses-01_task-roomvideo_run-01',\n",
       "       'sub-sid09_ses-01_task-roomvideo_run-02',\n",
       "       'sub-sid09_ses-01_task-roomvideo_run-02',\n",
       "       'sub-sid09_ses-02_task-pathvideo',\n",
       "       'sub-sid09_ses-02_task-pathvideo', 'sub-sid09_ses-02_task-recall',\n",
       "       'sub-sid09_ses-02_task-recall',\n",
       "       'sub-sid09_ses-02_task-roomobjectvideo_run-01',\n",
       "       'sub-sid09_ses-02_task-roomobjectvideo_run-01',\n",
       "       'sub-sid09_ses-02_task-roomobjectvideo_run-02',\n",
       "       'sub-sid09_ses-02_task-roomobjectvideo_run-02',\n",
       "       'sub-sid10_ses-01_task-pathvideo',\n",
       "       'sub-sid10_ses-01_task-pathvideo',\n",
       "       'sub-sid10_ses-01_task-roomvideo_run-01',\n",
       "       'sub-sid10_ses-01_task-roomvideo_run-01',\n",
       "       'sub-sid10_ses-01_task-roomvideo_run-02',\n",
       "       'sub-sid10_ses-01_task-roomvideo_run-02',\n",
       "       'sub-sid10_ses-02_task-pathvideo',\n",
       "       'sub-sid10_ses-02_task-pathvideo', 'sub-sid10_ses-02_task-recall',\n",
       "       'sub-sid10_ses-02_task-recall',\n",
       "       'sub-sid10_ses-02_task-roomobjectvideo_run-01',\n",
       "       'sub-sid10_ses-02_task-roomobjectvideo_run-01',\n",
       "       'sub-sid10_ses-02_task-roomobjectvideo_run-02',\n",
       "       'sub-sid10_ses-02_task-roomobjectvideo_run-02',\n",
       "       'sub-sid11_ses-01_task-pathvideo',\n",
       "       'sub-sid11_ses-01_task-pathvideo',\n",
       "       'sub-sid11_ses-01_task-roomvideo_run-01',\n",
       "       'sub-sid11_ses-01_task-roomvideo_run-01',\n",
       "       'sub-sid11_ses-01_task-roomvideo_run-02',\n",
       "       'sub-sid11_ses-01_task-roomvideo_run-02',\n",
       "       'sub-sid11_ses-02_task-pathvideo',\n",
       "       'sub-sid11_ses-02_task-pathvideo', 'sub-sid11_ses-02_task-recall',\n",
       "       'sub-sid11_ses-02_task-recall',\n",
       "       'sub-sid11_ses-02_task-roomobjectvideo_run-01',\n",
       "       'sub-sid11_ses-02_task-roomobjectvideo_run-01',\n",
       "       'sub-sid11_ses-02_task-roomobjectvideo_run-02',\n",
       "       'sub-sid11_ses-02_task-roomobjectvideo_run-02',\n",
       "       'sub-sid12_ses-01_task-pathvideo',\n",
       "       'sub-sid12_ses-01_task-pathvideo',\n",
       "       'sub-sid12_ses-01_task-roomvideo_run-01',\n",
       "       'sub-sid12_ses-01_task-roomvideo_run-01',\n",
       "       'sub-sid12_ses-01_task-roomvideo_run-02',\n",
       "       'sub-sid12_ses-01_task-roomvideo_run-02',\n",
       "       'sub-sid12_ses-02_task-pathvideo',\n",
       "       'sub-sid12_ses-02_task-pathvideo', 'sub-sid12_ses-02_task-recall',\n",
       "       'sub-sid12_ses-02_task-recall',\n",
       "       'sub-sid12_ses-02_task-roomobjectvideo_run-01',\n",
       "       'sub-sid12_ses-02_task-roomobjectvideo_run-01',\n",
       "       'sub-sid12_ses-02_task-roomobjectvideo_run-02',\n",
       "       'sub-sid12_ses-02_task-roomobjectvideo_run-02',\n",
       "       'sub-sid13_ses-01_task-pathvideo',\n",
       "       'sub-sid13_ses-01_task-pathvideo',\n",
       "       'sub-sid13_ses-01_task-roomvideo_run-01',\n",
       "       'sub-sid13_ses-01_task-roomvideo_run-01',\n",
       "       'sub-sid13_ses-01_task-roomvideo_run-02',\n",
       "       'sub-sid13_ses-01_task-roomvideo_run-02',\n",
       "       'sub-sid13_ses-02_task-pathvideo',\n",
       "       'sub-sid13_ses-02_task-pathvideo', 'sub-sid13_ses-02_task-recall',\n",
       "       'sub-sid13_ses-02_task-recall',\n",
       "       'sub-sid13_ses-02_task-roomobjectvideo_run-01',\n",
       "       'sub-sid13_ses-02_task-roomobjectvideo_run-01',\n",
       "       'sub-sid13_ses-02_task-roomobjectvideo_run-02',\n",
       "       'sub-sid13_ses-02_task-roomobjectvideo_run-02',\n",
       "       'sub-sid14_ses-01_task-pathvideo',\n",
       "       'sub-sid14_ses-01_task-pathvideo',\n",
       "       'sub-sid14_ses-01_task-roomvideo_run-01',\n",
       "       'sub-sid14_ses-01_task-roomvideo_run-01',\n",
       "       'sub-sid14_ses-01_task-roomvideo_run-02',\n",
       "       'sub-sid14_ses-01_task-roomvideo_run-02',\n",
       "       'sub-sid14_ses-02_task-pathvideo',\n",
       "       'sub-sid14_ses-02_task-pathvideo', 'sub-sid14_ses-02_task-recall',\n",
       "       'sub-sid14_ses-02_task-recall',\n",
       "       'sub-sid14_ses-02_task-roomobjectvideo_run-01',\n",
       "       'sub-sid14_ses-02_task-roomobjectvideo_run-01',\n",
       "       'sub-sid14_ses-02_task-roomobjectvideo_run-02',\n",
       "       'sub-sid14_ses-02_task-roomobjectvideo_run-02',\n",
       "       'sub-sid15_ses-01_task-pathvideo',\n",
       "       'sub-sid15_ses-01_task-pathvideo',\n",
       "       'sub-sid15_ses-01_task-roomvideo_run-01',\n",
       "       'sub-sid15_ses-01_task-roomvideo_run-01',\n",
       "       'sub-sid15_ses-01_task-roomvideo_run-02',\n",
       "       'sub-sid15_ses-01_task-roomvideo_run-02',\n",
       "       'sub-sid15_ses-02_task-pathvideo',\n",
       "       'sub-sid15_ses-02_task-pathvideo', 'sub-sid15_ses-02_task-recall',\n",
       "       'sub-sid15_ses-02_task-recall',\n",
       "       'sub-sid15_ses-02_task-roomobjectvideo_run-01',\n",
       "       'sub-sid15_ses-02_task-roomobjectvideo_run-01',\n",
       "       'sub-sid15_ses-02_task-roomobjectvideo_run-02',\n",
       "       'sub-sid15_ses-02_task-roomobjectvideo_run-02',\n",
       "       'sub-sid16_ses-01_task-pathvideo',\n",
       "       'sub-sid16_ses-01_task-pathvideo',\n",
       "       'sub-sid16_ses-01_task-roomvideo_run-01',\n",
       "       'sub-sid16_ses-01_task-roomvideo_run-01',\n",
       "       'sub-sid16_ses-01_task-roomvideo_run-02',\n",
       "       'sub-sid16_ses-01_task-roomvideo_run-02',\n",
       "       'sub-sid16_ses-02_task-pathvideo',\n",
       "       'sub-sid16_ses-02_task-pathvideo', 'sub-sid16_ses-02_task-recall',\n",
       "       'sub-sid16_ses-02_task-recall',\n",
       "       'sub-sid16_ses-02_task-roomobjectvideo_run-01',\n",
       "       'sub-sid16_ses-02_task-roomobjectvideo_run-01',\n",
       "       'sub-sid16_ses-02_task-roomobjectvideo_run-02',\n",
       "       'sub-sid16_ses-02_task-roomobjectvideo_run-02',\n",
       "       'sub-sid17_ses-01_task-pathvideo',\n",
       "       'sub-sid17_ses-01_task-pathvideo',\n",
       "       'sub-sid17_ses-01_task-roomvideo_run-01',\n",
       "       'sub-sid17_ses-01_task-roomvideo_run-01',\n",
       "       'sub-sid17_ses-01_task-roomvideo_run-02',\n",
       "       'sub-sid17_ses-01_task-roomvideo_run-02',\n",
       "       'sub-sid17_ses-02_task-pathvideo',\n",
       "       'sub-sid17_ses-02_task-pathvideo', 'sub-sid17_ses-02_task-recall',\n",
       "       'sub-sid17_ses-02_task-recall',\n",
       "       'sub-sid17_ses-02_task-roomobjectvideo_run-01',\n",
       "       'sub-sid17_ses-02_task-roomobjectvideo_run-01',\n",
       "       'sub-sid17_ses-02_task-roomobjectvideo_run-02',\n",
       "       'sub-sid17_ses-02_task-roomobjectvideo_run-02',\n",
       "       'sub-sid18_ses-01_task-pathvideo',\n",
       "       'sub-sid18_ses-01_task-pathvideo',\n",
       "       'sub-sid18_ses-01_task-roomvideo_run-01',\n",
       "       'sub-sid18_ses-01_task-roomvideo_run-01',\n",
       "       'sub-sid18_ses-01_task-roomvideo_run-02',\n",
       "       'sub-sid18_ses-01_task-roomvideo_run-02',\n",
       "       'sub-sid18_ses-02_task-pathvideo',\n",
       "       'sub-sid18_ses-02_task-pathvideo', 'sub-sid18_ses-02_task-recall',\n",
       "       'sub-sid18_ses-02_task-recall',\n",
       "       'sub-sid18_ses-02_task-roomobjectvideo_run-01',\n",
       "       'sub-sid18_ses-02_task-roomobjectvideo_run-01',\n",
       "       'sub-sid18_ses-02_task-roomobjectvideo_run-02',\n",
       "       'sub-sid18_ses-02_task-roomobjectvideo_run-02',\n",
       "       'sub-sid19_ses-01_task-pathvideo',\n",
       "       'sub-sid19_ses-01_task-pathvideo',\n",
       "       'sub-sid19_ses-01_task-roomvideo_run-01',\n",
       "       'sub-sid19_ses-01_task-roomvideo_run-01',\n",
       "       'sub-sid19_ses-01_task-roomvideo_run-02',\n",
       "       'sub-sid19_ses-01_task-roomvideo_run-02',\n",
       "       'sub-sid19_ses-02_task-pathvideo',\n",
       "       'sub-sid19_ses-02_task-pathvideo', 'sub-sid19_ses-02_task-recall',\n",
       "       'sub-sid19_ses-02_task-recall',\n",
       "       'sub-sid19_ses-02_task-roomobjectvideo_run-01',\n",
       "       'sub-sid19_ses-02_task-roomobjectvideo_run-01',\n",
       "       'sub-sid19_ses-02_task-roomobjectvideo_run-02',\n",
       "       'sub-sid19_ses-02_task-roomobjectvideo_run-02',\n",
       "       'sub-sid20_ses-01_task-pathvideo',\n",
       "       'sub-sid20_ses-01_task-pathvideo',\n",
       "       'sub-sid20_ses-01_task-roomvideo_run-01',\n",
       "       'sub-sid20_ses-01_task-roomvideo_run-01',\n",
       "       'sub-sid20_ses-01_task-roomvideo_run-02',\n",
       "       'sub-sid20_ses-01_task-roomvideo_run-02',\n",
       "       'sub-sid20_ses-02_task-pathvideo',\n",
       "       'sub-sid20_ses-02_task-pathvideo', 'sub-sid20_ses-02_task-recall',\n",
       "       'sub-sid20_ses-02_task-recall',\n",
       "       'sub-sid20_ses-02_task-roomobjectvideo_run-01',\n",
       "       'sub-sid20_ses-02_task-roomobjectvideo_run-01',\n",
       "       'sub-sid20_ses-02_task-roomobjectvideo_run-02',\n",
       "       'sub-sid20_ses-02_task-roomobjectvideo_run-02',\n",
       "       'sub-sid21_ses-01_task-pathvideo',\n",
       "       'sub-sid21_ses-01_task-pathvideo',\n",
       "       'sub-sid21_ses-01_task-roomvideo_run-01',\n",
       "       'sub-sid21_ses-01_task-roomvideo_run-01',\n",
       "       'sub-sid21_ses-01_task-roomvideo_run-02',\n",
       "       'sub-sid21_ses-01_task-roomvideo_run-02',\n",
       "       'sub-sid21_ses-02_task-pathvideo',\n",
       "       'sub-sid21_ses-02_task-pathvideo', 'sub-sid21_ses-02_task-recall',\n",
       "       'sub-sid21_ses-02_task-recall',\n",
       "       'sub-sid21_ses-02_task-roomobjectvideo_run-01',\n",
       "       'sub-sid21_ses-02_task-roomobjectvideo_run-01',\n",
       "       'sub-sid21_ses-02_task-roomobjectvideo_run-02',\n",
       "       'sub-sid21_ses-02_task-roomobjectvideo_run-02',\n",
       "       'sub-sid22_ses-01_task-pathvideo',\n",
       "       'sub-sid22_ses-01_task-pathvideo',\n",
       "       'sub-sid22_ses-01_task-roomvideo_run-01',\n",
       "       'sub-sid22_ses-01_task-roomvideo_run-01',\n",
       "       'sub-sid22_ses-01_task-roomvideo_run-02',\n",
       "       'sub-sid22_ses-01_task-roomvideo_run-02',\n",
       "       'sub-sid22_ses-02_task-pathvideo',\n",
       "       'sub-sid22_ses-02_task-pathvideo', 'sub-sid22_ses-02_task-recall',\n",
       "       'sub-sid22_ses-02_task-recall',\n",
       "       'sub-sid22_ses-02_task-roomobjectvideo_run-01',\n",
       "       'sub-sid22_ses-02_task-roomobjectvideo_run-01',\n",
       "       'sub-sid22_ses-02_task-roomobjectvideo_run-02',\n",
       "       'sub-sid22_ses-02_task-roomobjectvideo_run-02',\n",
       "       'sub-sid23_ses-01_task-pathvideo',\n",
       "       'sub-sid23_ses-01_task-pathvideo',\n",
       "       'sub-sid23_ses-01_task-roomvideo_run-01',\n",
       "       'sub-sid23_ses-01_task-roomvideo_run-01',\n",
       "       'sub-sid23_ses-01_task-roomvideo_run-02',\n",
       "       'sub-sid23_ses-01_task-roomvideo_run-02',\n",
       "       'sub-sid23_ses-02_task-pathvideo',\n",
       "       'sub-sid23_ses-02_task-pathvideo', 'sub-sid23_ses-02_task-recall',\n",
       "       'sub-sid23_ses-02_task-recall',\n",
       "       'sub-sid23_ses-02_task-roomobjectvideo_run-01',\n",
       "       'sub-sid23_ses-02_task-roomobjectvideo_run-01',\n",
       "       'sub-sid23_ses-02_task-roomobjectvideo_run-02',\n",
       "       'sub-sid23_ses-02_task-roomobjectvideo_run-02',\n",
       "       'sub-sid24_ses-01_task-pathvideo',\n",
       "       'sub-sid24_ses-01_task-pathvideo',\n",
       "       'sub-sid24_ses-01_task-roomvideo_run-01',\n",
       "       'sub-sid24_ses-01_task-roomvideo_run-01',\n",
       "       'sub-sid24_ses-01_task-roomvideo_run-02',\n",
       "       'sub-sid24_ses-01_task-roomvideo_run-02',\n",
       "       'sub-sid24_ses-02_task-pathvideo',\n",
       "       'sub-sid24_ses-02_task-pathvideo', 'sub-sid24_ses-02_task-recall',\n",
       "       'sub-sid24_ses-02_task-recall',\n",
       "       'sub-sid24_ses-02_task-roomobjectvideo_run-01',\n",
       "       'sub-sid24_ses-02_task-roomobjectvideo_run-01',\n",
       "       'sub-sid24_ses-02_task-roomobjectvideo_run-02',\n",
       "       'sub-sid24_ses-02_task-roomobjectvideo_run-02',\n",
       "       'sub-sid25_ses-01_task-pathvideo',\n",
       "       'sub-sid25_ses-01_task-pathvideo',\n",
       "       'sub-sid25_ses-01_task-roomvideo_run-01',\n",
       "       'sub-sid25_ses-01_task-roomvideo_run-01',\n",
       "       'sub-sid25_ses-01_task-roomvideo_run-02',\n",
       "       'sub-sid25_ses-01_task-roomvideo_run-02',\n",
       "       'sub-sid25_ses-02_task-pathvideo',\n",
       "       'sub-sid25_ses-02_task-pathvideo', 'sub-sid25_ses-02_task-recall',\n",
       "       'sub-sid25_ses-02_task-recall',\n",
       "       'sub-sid25_ses-02_task-roomobjectvideo_run-01',\n",
       "       'sub-sid25_ses-02_task-roomobjectvideo_run-01',\n",
       "       'sub-sid25_ses-02_task-roomobjectvideo_run-02',\n",
       "       'sub-sid25_ses-02_task-roomobjectvideo_run-02',\n",
       "       'sub-sid26_ses-01_task-pathvideo',\n",
       "       'sub-sid26_ses-01_task-pathvideo',\n",
       "       'sub-sid26_ses-01_task-roomvideo_run-01',\n",
       "       'sub-sid26_ses-01_task-roomvideo_run-01',\n",
       "       'sub-sid26_ses-01_task-roomvideo_run-02',\n",
       "       'sub-sid26_ses-01_task-roomvideo_run-02',\n",
       "       'sub-sid26_ses-02_task-pathvideo',\n",
       "       'sub-sid26_ses-02_task-pathvideo', 'sub-sid26_ses-02_task-recall',\n",
       "       'sub-sid26_ses-02_task-recall',\n",
       "       'sub-sid26_ses-02_task-roomobjectvideo_run-01',\n",
       "       'sub-sid26_ses-02_task-roomobjectvideo_run-01',\n",
       "       'sub-sid26_ses-02_task-roomobjectvideo_run-02',\n",
       "       'sub-sid26_ses-02_task-roomobjectvideo_run-02',\n",
       "       'sub-sid27_ses-01_task-pathvideo',\n",
       "       'sub-sid27_ses-01_task-pathvideo',\n",
       "       'sub-sid27_ses-01_task-roomvideo_run-01',\n",
       "       'sub-sid27_ses-01_task-roomvideo_run-01',\n",
       "       'sub-sid27_ses-01_task-roomvideo_run-02',\n",
       "       'sub-sid27_ses-01_task-roomvideo_run-02',\n",
       "       'sub-sid27_ses-02_task-pathvideo',\n",
       "       'sub-sid27_ses-02_task-pathvideo', 'sub-sid27_ses-02_task-recall',\n",
       "       'sub-sid27_ses-02_task-recall',\n",
       "       'sub-sid27_ses-02_task-roomobjectvideo_run-01',\n",
       "       'sub-sid27_ses-02_task-roomobjectvideo_run-01',\n",
       "       'sub-sid27_ses-02_task-roomobjectvideo_run-02',\n",
       "       'sub-sid27_ses-02_task-roomobjectvideo_run-02',\n",
       "       'sub-sid28_ses-01_task-pathvideo',\n",
       "       'sub-sid28_ses-01_task-pathvideo',\n",
       "       'sub-sid28_ses-01_task-roomvideo_run-01',\n",
       "       'sub-sid28_ses-01_task-roomvideo_run-01',\n",
       "       'sub-sid28_ses-01_task-roomvideo_run-02',\n",
       "       'sub-sid28_ses-01_task-roomvideo_run-02',\n",
       "       'sub-sid28_ses-02_task-pathvideo',\n",
       "       'sub-sid28_ses-02_task-pathvideo', 'sub-sid28_ses-02_task-recall',\n",
       "       'sub-sid28_ses-02_task-recall',\n",
       "       'sub-sid28_ses-02_task-roomobjectvideo_run-01',\n",
       "       'sub-sid28_ses-02_task-roomobjectvideo_run-01',\n",
       "       'sub-sid28_ses-02_task-roomobjectvideo_run-02',\n",
       "       'sub-sid28_ses-02_task-roomobjectvideo_run-02',\n",
       "       'sub-sid29_ses-01_task-pathvideo',\n",
       "       'sub-sid29_ses-01_task-pathvideo',\n",
       "       'sub-sid29_ses-01_task-roomvideo_run-01',\n",
       "       'sub-sid29_ses-01_task-roomvideo_run-01',\n",
       "       'sub-sid29_ses-01_task-roomvideo_run-02',\n",
       "       'sub-sid29_ses-01_task-roomvideo_run-02',\n",
       "       'sub-sid29_ses-02_task-pathvideo',\n",
       "       'sub-sid29_ses-02_task-pathvideo', 'sub-sid29_ses-02_task-recall',\n",
       "       'sub-sid29_ses-02_task-recall',\n",
       "       'sub-sid29_ses-02_task-roomobjectvideo_run-01',\n",
       "       'sub-sid29_ses-02_task-roomobjectvideo_run-01',\n",
       "       'sub-sid29_ses-02_task-roomobjectvideo_run-02',\n",
       "       'sub-sid29_ses-02_task-roomobjectvideo_run-02'], dtype='<U44')"
      ]
     },
     "execution_count": 3,
     "metadata": {},
     "output_type": "execute_result"
    }
   ],
   "source": [
    "run_names"
   ]
  },
  {
   "cell_type": "code",
   "execution_count": 14,
   "metadata": {},
   "outputs": [
    {
     "name": "stdout",
     "output_type": "stream",
     "text": [
      "Folder already exists: ../PythonData2024/ProcessedData/\n",
      "***sub-sid01***\n",
      "    Processing run  sub-sid01_ses-01_task-pathvideo_bold_space-fsaverage6.L.func.gii\n",
      "    Loading  /jukebox/norman/rmasis/MemPal/data/BIDS/Norman/Baldassano/10442_vrpalace/derivatives/fmriprep/sub-sid01/ses-01/func/sub-sid01_ses-01_task-pathvideo_bold_space-fsaverage6.L.func.gii\n",
      "    Extracting confound information from  sub-sid01/ses-01/func/sub-sid01_ses-01_task-pathvideo_bold_confounds.tsv\n",
      "   D[hem] =  (40962, 595)\n",
      "   np dot regrcoef, reg.t:  (40962, 595)\n",
      "   interecept shape:  (40962, 1)\n"
     ]
    },
    {
     "name": "stderr",
     "output_type": "stream",
     "text": [
      "/jukebox/pkgs/PYGER/0.9.1/lib/python3.7/site-packages/scipy/stats/stats.py:2279: RuntimeWarning: divide by zero encountered in true_divide\n",
      "  np.expand_dims(sstd, axis=axis))\n",
      "/jukebox/pkgs/PYGER/0.9.1/lib/python3.7/site-packages/scipy/stats/stats.py:2279: RuntimeWarning: invalid value encountered in true_divide\n",
      "  np.expand_dims(sstd, axis=axis))\n"
     ]
    },
    {
     "name": "stdout",
     "output_type": "stream",
     "text": [
      "   making new directory ../PythonData2024/ProcessedData//sub-sid01/\n",
      "...saving left hem.\n",
      "***sub-sid01***\n",
      "    Processing run  sub-sid01_ses-01_task-pathvideo_bold_space-fsaverage6.R.func.gii\n",
      "    Loading  /jukebox/norman/rmasis/MemPal/data/BIDS/Norman/Baldassano/10442_vrpalace/derivatives/fmriprep/sub-sid01/ses-01/func/sub-sid01_ses-01_task-pathvideo_bold_space-fsaverage6.R.func.gii\n",
      "    Extracting confound information from  sub-sid01/ses-01/func/sub-sid01_ses-01_task-pathvideo_bold_confounds.tsv\n",
      "   D[hem] =  (40962, 595)\n",
      "   np dot regrcoef, reg.t:  (40962, 595)\n",
      "   interecept shape:  (40962, 1)\n"
     ]
    },
    {
     "name": "stderr",
     "output_type": "stream",
     "text": [
      "/jukebox/pkgs/PYGER/0.9.1/lib/python3.7/site-packages/scipy/stats/stats.py:2279: RuntimeWarning: divide by zero encountered in true_divide\n",
      "  np.expand_dims(sstd, axis=axis))\n",
      "/jukebox/pkgs/PYGER/0.9.1/lib/python3.7/site-packages/scipy/stats/stats.py:2279: RuntimeWarning: invalid value encountered in true_divide\n",
      "  np.expand_dims(sstd, axis=axis))\n"
     ]
    },
    {
     "name": "stdout",
     "output_type": "stream",
     "text": [
      "...saving right hem.\n",
      "***sub-sid01***\n",
      "    Processing run  sub-sid01_ses-01_task-roomvideo_run-01_bold_space-fsaverage6.L.func.gii\n",
      "    Loading  /jukebox/norman/rmasis/MemPal/data/BIDS/Norman/Baldassano/10442_vrpalace/derivatives/fmriprep/sub-sid01/ses-01/func/sub-sid01_ses-01_task-roomvideo_run-01_bold_space-fsaverage6.L.func.gii\n",
      "    Extracting confound information from  sub-sid01/ses-01/func/sub-sid01_ses-01_task-roomvideo_run-01_bold_confounds.tsv\n",
      "   D[hem] =  (40962, 235)\n",
      "   np dot regrcoef, reg.t:  (40962, 235)\n",
      "   interecept shape:  (40962, 1)\n"
     ]
    },
    {
     "name": "stderr",
     "output_type": "stream",
     "text": [
      "/jukebox/pkgs/PYGER/0.9.1/lib/python3.7/site-packages/scipy/stats/stats.py:2279: RuntimeWarning: divide by zero encountered in true_divide\n",
      "  np.expand_dims(sstd, axis=axis))\n",
      "/jukebox/pkgs/PYGER/0.9.1/lib/python3.7/site-packages/scipy/stats/stats.py:2279: RuntimeWarning: invalid value encountered in true_divide\n",
      "  np.expand_dims(sstd, axis=axis))\n"
     ]
    },
    {
     "name": "stdout",
     "output_type": "stream",
     "text": [
      "...saving left hem.\n",
      "***sub-sid01***\n",
      "    Processing run  sub-sid01_ses-01_task-roomvideo_run-01_bold_space-fsaverage6.R.func.gii\n",
      "    Loading  /jukebox/norman/rmasis/MemPal/data/BIDS/Norman/Baldassano/10442_vrpalace/derivatives/fmriprep/sub-sid01/ses-01/func/sub-sid01_ses-01_task-roomvideo_run-01_bold_space-fsaverage6.R.func.gii\n",
      "    Extracting confound information from  sub-sid01/ses-01/func/sub-sid01_ses-01_task-roomvideo_run-01_bold_confounds.tsv\n",
      "   D[hem] =  (40962, 235)\n",
      "   np dot regrcoef, reg.t:  (40962, 235)\n",
      "   interecept shape:  (40962, 1)\n"
     ]
    },
    {
     "name": "stderr",
     "output_type": "stream",
     "text": [
      "/jukebox/pkgs/PYGER/0.9.1/lib/python3.7/site-packages/scipy/stats/stats.py:2279: RuntimeWarning: divide by zero encountered in true_divide\n",
      "  np.expand_dims(sstd, axis=axis))\n",
      "/jukebox/pkgs/PYGER/0.9.1/lib/python3.7/site-packages/scipy/stats/stats.py:2279: RuntimeWarning: invalid value encountered in true_divide\n",
      "  np.expand_dims(sstd, axis=axis))\n"
     ]
    },
    {
     "name": "stdout",
     "output_type": "stream",
     "text": [
      "...saving right hem.\n",
      "***sub-sid01***\n",
      "    Processing run  sub-sid01_ses-01_task-roomvideo_run-02_bold_space-fsaverage6.L.func.gii\n",
      "    Loading  /jukebox/norman/rmasis/MemPal/data/BIDS/Norman/Baldassano/10442_vrpalace/derivatives/fmriprep/sub-sid01/ses-01/func/sub-sid01_ses-01_task-roomvideo_run-02_bold_space-fsaverage6.L.func.gii\n",
      "    Extracting confound information from  sub-sid01/ses-01/func/sub-sid01_ses-01_task-roomvideo_run-02_bold_confounds.tsv\n",
      "   D[hem] =  (40962, 235)\n",
      "   np dot regrcoef, reg.t:  (40962, 235)\n",
      "   interecept shape:  (40962, 1)\n"
     ]
    },
    {
     "name": "stderr",
     "output_type": "stream",
     "text": [
      "/jukebox/pkgs/PYGER/0.9.1/lib/python3.7/site-packages/scipy/stats/stats.py:2279: RuntimeWarning: divide by zero encountered in true_divide\n",
      "  np.expand_dims(sstd, axis=axis))\n",
      "/jukebox/pkgs/PYGER/0.9.1/lib/python3.7/site-packages/scipy/stats/stats.py:2279: RuntimeWarning: invalid value encountered in true_divide\n",
      "  np.expand_dims(sstd, axis=axis))\n"
     ]
    },
    {
     "name": "stdout",
     "output_type": "stream",
     "text": [
      "...saving left hem.\n",
      "***sub-sid01***\n",
      "    Processing run  sub-sid01_ses-01_task-roomvideo_run-02_bold_space-fsaverage6.R.func.gii\n",
      "    Loading  /jukebox/norman/rmasis/MemPal/data/BIDS/Norman/Baldassano/10442_vrpalace/derivatives/fmriprep/sub-sid01/ses-01/func/sub-sid01_ses-01_task-roomvideo_run-02_bold_space-fsaverage6.R.func.gii\n",
      "    Extracting confound information from  sub-sid01/ses-01/func/sub-sid01_ses-01_task-roomvideo_run-02_bold_confounds.tsv\n",
      "   D[hem] =  (40962, 235)\n",
      "   np dot regrcoef, reg.t:  (40962, 235)\n",
      "   interecept shape:  (40962, 1)\n"
     ]
    },
    {
     "name": "stderr",
     "output_type": "stream",
     "text": [
      "/jukebox/pkgs/PYGER/0.9.1/lib/python3.7/site-packages/scipy/stats/stats.py:2279: RuntimeWarning: divide by zero encountered in true_divide\n",
      "  np.expand_dims(sstd, axis=axis))\n",
      "/jukebox/pkgs/PYGER/0.9.1/lib/python3.7/site-packages/scipy/stats/stats.py:2279: RuntimeWarning: invalid value encountered in true_divide\n",
      "  np.expand_dims(sstd, axis=axis))\n"
     ]
    },
    {
     "name": "stdout",
     "output_type": "stream",
     "text": [
      "...saving right hem.\n",
      "***sub-sid01***\n",
      "    Processing run  sub-sid01_ses-02_task-pathvideo_bold_space-fsaverage6.L.func.gii\n",
      "    Loading  /jukebox/norman/rmasis/MemPal/data/BIDS/Norman/Baldassano/10442_vrpalace/derivatives/fmriprep/sub-sid01/ses-02/func/sub-sid01_ses-02_task-pathvideo_bold_space-fsaverage6.L.func.gii\n",
      "    Extracting confound information from  sub-sid01/ses-02/func/sub-sid01_ses-02_task-pathvideo_bold_confounds.tsv\n",
      "   D[hem] =  (40962, 595)\n",
      "   np dot regrcoef, reg.t:  (40962, 595)\n",
      "   interecept shape:  (40962, 1)\n"
     ]
    },
    {
     "name": "stderr",
     "output_type": "stream",
     "text": [
      "/jukebox/pkgs/PYGER/0.9.1/lib/python3.7/site-packages/scipy/stats/stats.py:2279: RuntimeWarning: divide by zero encountered in true_divide\n",
      "  np.expand_dims(sstd, axis=axis))\n",
      "/jukebox/pkgs/PYGER/0.9.1/lib/python3.7/site-packages/scipy/stats/stats.py:2279: RuntimeWarning: invalid value encountered in true_divide\n",
      "  np.expand_dims(sstd, axis=axis))\n"
     ]
    },
    {
     "name": "stdout",
     "output_type": "stream",
     "text": [
      "...saving left hem.\n",
      "***sub-sid01***\n",
      "    Processing run  sub-sid01_ses-02_task-pathvideo_bold_space-fsaverage6.R.func.gii\n",
      "    Loading  /jukebox/norman/rmasis/MemPal/data/BIDS/Norman/Baldassano/10442_vrpalace/derivatives/fmriprep/sub-sid01/ses-02/func/sub-sid01_ses-02_task-pathvideo_bold_space-fsaverage6.R.func.gii\n",
      "    Extracting confound information from  sub-sid01/ses-02/func/sub-sid01_ses-02_task-pathvideo_bold_confounds.tsv\n",
      "   D[hem] =  (40962, 595)\n",
      "   np dot regrcoef, reg.t:  (40962, 595)\n",
      "   interecept shape:  (40962, 1)\n"
     ]
    },
    {
     "name": "stderr",
     "output_type": "stream",
     "text": [
      "/jukebox/pkgs/PYGER/0.9.1/lib/python3.7/site-packages/scipy/stats/stats.py:2279: RuntimeWarning: divide by zero encountered in true_divide\n",
      "  np.expand_dims(sstd, axis=axis))\n",
      "/jukebox/pkgs/PYGER/0.9.1/lib/python3.7/site-packages/scipy/stats/stats.py:2279: RuntimeWarning: invalid value encountered in true_divide\n",
      "  np.expand_dims(sstd, axis=axis))\n"
     ]
    },
    {
     "name": "stdout",
     "output_type": "stream",
     "text": [
      "...saving right hem.\n",
      "***sub-sid01***\n",
      "    Processing run  sub-sid01_ses-02_task-recall_bold_space-fsaverage6.L.func.gii\n",
      "    Loading  /jukebox/norman/rmasis/MemPal/data/BIDS/Norman/Baldassano/10442_vrpalace/derivatives/fmriprep/sub-sid01/ses-02/func/sub-sid01_ses-02_task-recall_bold_space-fsaverage6.L.func.gii\n",
      "    Extracting confound information from  sub-sid01/ses-02/func/sub-sid01_ses-02_task-recall_bold_confounds.tsv\n",
      "   D[hem] =  (40962, 1367)\n",
      "   np dot regrcoef, reg.t:  (40962, 1367)\n",
      "   interecept shape:  (40962, 1)\n"
     ]
    },
    {
     "name": "stderr",
     "output_type": "stream",
     "text": [
      "/jukebox/pkgs/PYGER/0.9.1/lib/python3.7/site-packages/scipy/stats/stats.py:2279: RuntimeWarning: divide by zero encountered in true_divide\n",
      "  np.expand_dims(sstd, axis=axis))\n",
      "/jukebox/pkgs/PYGER/0.9.1/lib/python3.7/site-packages/scipy/stats/stats.py:2279: RuntimeWarning: invalid value encountered in true_divide\n",
      "  np.expand_dims(sstd, axis=axis))\n"
     ]
    },
    {
     "name": "stdout",
     "output_type": "stream",
     "text": [
      "...saving left hem.\n",
      "***sub-sid01***\n",
      "    Processing run  sub-sid01_ses-02_task-recall_bold_space-fsaverage6.R.func.gii\n",
      "    Loading  /jukebox/norman/rmasis/MemPal/data/BIDS/Norman/Baldassano/10442_vrpalace/derivatives/fmriprep/sub-sid01/ses-02/func/sub-sid01_ses-02_task-recall_bold_space-fsaverage6.R.func.gii\n",
      "    Extracting confound information from  sub-sid01/ses-02/func/sub-sid01_ses-02_task-recall_bold_confounds.tsv\n",
      "   D[hem] =  (40962, 1367)\n",
      "   np dot regrcoef, reg.t:  (40962, 1367)\n",
      "   interecept shape:  (40962, 1)\n"
     ]
    },
    {
     "name": "stderr",
     "output_type": "stream",
     "text": [
      "/jukebox/pkgs/PYGER/0.9.1/lib/python3.7/site-packages/scipy/stats/stats.py:2279: RuntimeWarning: divide by zero encountered in true_divide\n",
      "  np.expand_dims(sstd, axis=axis))\n",
      "/jukebox/pkgs/PYGER/0.9.1/lib/python3.7/site-packages/scipy/stats/stats.py:2279: RuntimeWarning: invalid value encountered in true_divide\n",
      "  np.expand_dims(sstd, axis=axis))\n"
     ]
    },
    {
     "name": "stdout",
     "output_type": "stream",
     "text": [
      "...saving right hem.\n",
      "***sub-sid01***\n",
      "    Processing run  sub-sid01_ses-02_task-roomobjectvideo_run-01_bold_space-fsaverage6.L.func.gii\n",
      "    Loading  /jukebox/norman/rmasis/MemPal/data/BIDS/Norman/Baldassano/10442_vrpalace/derivatives/fmriprep/sub-sid01/ses-02/func/sub-sid01_ses-02_task-roomobjectvideo_run-01_bold_space-fsaverage6.L.func.gii\n",
      "    Extracting confound information from  sub-sid01/ses-02/func/sub-sid01_ses-02_task-roomobjectvideo_run-01_bold_confounds.tsv\n",
      "   D[hem] =  (40962, 460)\n",
      "   np dot regrcoef, reg.t:  (40962, 460)\n",
      "   interecept shape:  (40962, 1)\n"
     ]
    },
    {
     "name": "stderr",
     "output_type": "stream",
     "text": [
      "/jukebox/pkgs/PYGER/0.9.1/lib/python3.7/site-packages/scipy/stats/stats.py:2279: RuntimeWarning: divide by zero encountered in true_divide\n",
      "  np.expand_dims(sstd, axis=axis))\n",
      "/jukebox/pkgs/PYGER/0.9.1/lib/python3.7/site-packages/scipy/stats/stats.py:2279: RuntimeWarning: invalid value encountered in true_divide\n",
      "  np.expand_dims(sstd, axis=axis))\n"
     ]
    },
    {
     "name": "stdout",
     "output_type": "stream",
     "text": [
      "...saving left hem.\n",
      "***sub-sid01***\n",
      "    Processing run  sub-sid01_ses-02_task-roomobjectvideo_run-01_bold_space-fsaverage6.R.func.gii\n",
      "    Loading  /jukebox/norman/rmasis/MemPal/data/BIDS/Norman/Baldassano/10442_vrpalace/derivatives/fmriprep/sub-sid01/ses-02/func/sub-sid01_ses-02_task-roomobjectvideo_run-01_bold_space-fsaverage6.R.func.gii\n",
      "    Extracting confound information from  sub-sid01/ses-02/func/sub-sid01_ses-02_task-roomobjectvideo_run-01_bold_confounds.tsv\n",
      "   D[hem] =  (40962, 460)\n",
      "   np dot regrcoef, reg.t:  (40962, 460)\n",
      "   interecept shape:  (40962, 1)\n"
     ]
    },
    {
     "name": "stderr",
     "output_type": "stream",
     "text": [
      "/jukebox/pkgs/PYGER/0.9.1/lib/python3.7/site-packages/scipy/stats/stats.py:2279: RuntimeWarning: divide by zero encountered in true_divide\n",
      "  np.expand_dims(sstd, axis=axis))\n",
      "/jukebox/pkgs/PYGER/0.9.1/lib/python3.7/site-packages/scipy/stats/stats.py:2279: RuntimeWarning: invalid value encountered in true_divide\n",
      "  np.expand_dims(sstd, axis=axis))\n"
     ]
    },
    {
     "name": "stdout",
     "output_type": "stream",
     "text": [
      "...saving right hem.\n",
      "***sub-sid01***\n",
      "    Processing run  sub-sid01_ses-02_task-roomobjectvideo_run-02_bold_space-fsaverage6.L.func.gii\n",
      "    Loading  /jukebox/norman/rmasis/MemPal/data/BIDS/Norman/Baldassano/10442_vrpalace/derivatives/fmriprep/sub-sid01/ses-02/func/sub-sid01_ses-02_task-roomobjectvideo_run-02_bold_space-fsaverage6.L.func.gii\n",
      "    Extracting confound information from  sub-sid01/ses-02/func/sub-sid01_ses-02_task-roomobjectvideo_run-02_bold_confounds.tsv\n",
      "   D[hem] =  (40962, 460)\n",
      "   np dot regrcoef, reg.t:  (40962, 460)\n",
      "   interecept shape:  (40962, 1)\n"
     ]
    },
    {
     "name": "stderr",
     "output_type": "stream",
     "text": [
      "/jukebox/pkgs/PYGER/0.9.1/lib/python3.7/site-packages/scipy/stats/stats.py:2279: RuntimeWarning: divide by zero encountered in true_divide\n",
      "  np.expand_dims(sstd, axis=axis))\n",
      "/jukebox/pkgs/PYGER/0.9.1/lib/python3.7/site-packages/scipy/stats/stats.py:2279: RuntimeWarning: invalid value encountered in true_divide\n",
      "  np.expand_dims(sstd, axis=axis))\n"
     ]
    },
    {
     "name": "stdout",
     "output_type": "stream",
     "text": [
      "...saving left hem.\n",
      "***sub-sid01***\n",
      "    Processing run  sub-sid01_ses-02_task-roomobjectvideo_run-02_bold_space-fsaverage6.R.func.gii\n",
      "    Loading  /jukebox/norman/rmasis/MemPal/data/BIDS/Norman/Baldassano/10442_vrpalace/derivatives/fmriprep/sub-sid01/ses-02/func/sub-sid01_ses-02_task-roomobjectvideo_run-02_bold_space-fsaverage6.R.func.gii\n",
      "    Extracting confound information from  sub-sid01/ses-02/func/sub-sid01_ses-02_task-roomobjectvideo_run-02_bold_confounds.tsv\n",
      "   D[hem] =  (40962, 460)\n",
      "   np dot regrcoef, reg.t:  (40962, 460)\n",
      "   interecept shape:  (40962, 1)\n"
     ]
    },
    {
     "name": "stderr",
     "output_type": "stream",
     "text": [
      "/jukebox/pkgs/PYGER/0.9.1/lib/python3.7/site-packages/scipy/stats/stats.py:2279: RuntimeWarning: divide by zero encountered in true_divide\n",
      "  np.expand_dims(sstd, axis=axis))\n",
      "/jukebox/pkgs/PYGER/0.9.1/lib/python3.7/site-packages/scipy/stats/stats.py:2279: RuntimeWarning: invalid value encountered in true_divide\n",
      "  np.expand_dims(sstd, axis=axis))\n"
     ]
    },
    {
     "name": "stdout",
     "output_type": "stream",
     "text": [
      "...saving right hem.\n",
      "***sub-sid02***\n",
      "    Processing run  sub-sid02_ses-01_task-pathvideo_bold_space-fsaverage6.L.func.gii\n",
      "    Loading  /jukebox/norman/rmasis/MemPal/data/BIDS/Norman/Baldassano/10442_vrpalace/derivatives/fmriprep/sub-sid02/ses-01/func/sub-sid02_ses-01_task-pathvideo_bold_space-fsaverage6.L.func.gii\n",
      "    Extracting confound information from  sub-sid02/ses-01/func/sub-sid02_ses-01_task-pathvideo_bold_confounds.tsv\n",
      "   D[hem] =  (40962, 595)\n",
      "   np dot regrcoef, reg.t:  (40962, 595)\n",
      "   interecept shape:  (40962, 1)\n"
     ]
    },
    {
     "name": "stderr",
     "output_type": "stream",
     "text": [
      "/jukebox/pkgs/PYGER/0.9.1/lib/python3.7/site-packages/scipy/stats/stats.py:2279: RuntimeWarning: divide by zero encountered in true_divide\n",
      "  np.expand_dims(sstd, axis=axis))\n",
      "/jukebox/pkgs/PYGER/0.9.1/lib/python3.7/site-packages/scipy/stats/stats.py:2279: RuntimeWarning: invalid value encountered in true_divide\n",
      "  np.expand_dims(sstd, axis=axis))\n"
     ]
    },
    {
     "name": "stdout",
     "output_type": "stream",
     "text": [
      "   making new directory ../PythonData2024/ProcessedData//sub-sid02/\n",
      "...saving left hem.\n",
      "***sub-sid02***\n",
      "    Processing run  sub-sid02_ses-01_task-pathvideo_bold_space-fsaverage6.R.func.gii\n",
      "    Loading  /jukebox/norman/rmasis/MemPal/data/BIDS/Norman/Baldassano/10442_vrpalace/derivatives/fmriprep/sub-sid02/ses-01/func/sub-sid02_ses-01_task-pathvideo_bold_space-fsaverage6.R.func.gii\n",
      "    Extracting confound information from  sub-sid02/ses-01/func/sub-sid02_ses-01_task-pathvideo_bold_confounds.tsv\n",
      "   D[hem] =  (40962, 595)\n",
      "   np dot regrcoef, reg.t:  (40962, 595)\n",
      "   interecept shape:  (40962, 1)\n"
     ]
    },
    {
     "name": "stderr",
     "output_type": "stream",
     "text": [
      "/jukebox/pkgs/PYGER/0.9.1/lib/python3.7/site-packages/scipy/stats/stats.py:2279: RuntimeWarning: divide by zero encountered in true_divide\n",
      "  np.expand_dims(sstd, axis=axis))\n",
      "/jukebox/pkgs/PYGER/0.9.1/lib/python3.7/site-packages/scipy/stats/stats.py:2279: RuntimeWarning: invalid value encountered in true_divide\n",
      "  np.expand_dims(sstd, axis=axis))\n"
     ]
    },
    {
     "name": "stdout",
     "output_type": "stream",
     "text": [
      "...saving right hem.\n",
      "***sub-sid02***\n",
      "    Processing run  sub-sid02_ses-01_task-roomvideo_run-01_bold_space-fsaverage6.L.func.gii\n",
      "    Loading  /jukebox/norman/rmasis/MemPal/data/BIDS/Norman/Baldassano/10442_vrpalace/derivatives/fmriprep/sub-sid02/ses-01/func/sub-sid02_ses-01_task-roomvideo_run-01_bold_space-fsaverage6.L.func.gii\n",
      "    Extracting confound information from  sub-sid02/ses-01/func/sub-sid02_ses-01_task-roomvideo_run-01_bold_confounds.tsv\n",
      "   D[hem] =  (40962, 235)\n",
      "   np dot regrcoef, reg.t:  (40962, 235)\n",
      "   interecept shape:  (40962, 1)\n"
     ]
    },
    {
     "name": "stderr",
     "output_type": "stream",
     "text": [
      "/jukebox/pkgs/PYGER/0.9.1/lib/python3.7/site-packages/scipy/stats/stats.py:2279: RuntimeWarning: divide by zero encountered in true_divide\n",
      "  np.expand_dims(sstd, axis=axis))\n",
      "/jukebox/pkgs/PYGER/0.9.1/lib/python3.7/site-packages/scipy/stats/stats.py:2279: RuntimeWarning: invalid value encountered in true_divide\n",
      "  np.expand_dims(sstd, axis=axis))\n"
     ]
    },
    {
     "name": "stdout",
     "output_type": "stream",
     "text": [
      "...saving left hem.\n",
      "***sub-sid02***\n",
      "    Processing run  sub-sid02_ses-01_task-roomvideo_run-01_bold_space-fsaverage6.R.func.gii\n",
      "    Loading  /jukebox/norman/rmasis/MemPal/data/BIDS/Norman/Baldassano/10442_vrpalace/derivatives/fmriprep/sub-sid02/ses-01/func/sub-sid02_ses-01_task-roomvideo_run-01_bold_space-fsaverage6.R.func.gii\n",
      "    Extracting confound information from  sub-sid02/ses-01/func/sub-sid02_ses-01_task-roomvideo_run-01_bold_confounds.tsv\n",
      "   D[hem] =  (40962, 235)\n",
      "   np dot regrcoef, reg.t:  (40962, 235)\n",
      "   interecept shape:  (40962, 1)\n"
     ]
    },
    {
     "name": "stderr",
     "output_type": "stream",
     "text": [
      "/jukebox/pkgs/PYGER/0.9.1/lib/python3.7/site-packages/scipy/stats/stats.py:2279: RuntimeWarning: divide by zero encountered in true_divide\n",
      "  np.expand_dims(sstd, axis=axis))\n",
      "/jukebox/pkgs/PYGER/0.9.1/lib/python3.7/site-packages/scipy/stats/stats.py:2279: RuntimeWarning: invalid value encountered in true_divide\n",
      "  np.expand_dims(sstd, axis=axis))\n"
     ]
    },
    {
     "name": "stdout",
     "output_type": "stream",
     "text": [
      "...saving right hem.\n",
      "***sub-sid02***\n",
      "    Processing run  sub-sid02_ses-01_task-roomvideo_run-02_bold_space-fsaverage6.L.func.gii\n",
      "    Loading  /jukebox/norman/rmasis/MemPal/data/BIDS/Norman/Baldassano/10442_vrpalace/derivatives/fmriprep/sub-sid02/ses-01/func/sub-sid02_ses-01_task-roomvideo_run-02_bold_space-fsaverage6.L.func.gii\n",
      "    Extracting confound information from  sub-sid02/ses-01/func/sub-sid02_ses-01_task-roomvideo_run-02_bold_confounds.tsv\n",
      "   D[hem] =  (40962, 235)\n",
      "   np dot regrcoef, reg.t:  (40962, 235)\n",
      "   interecept shape:  (40962, 1)\n"
     ]
    },
    {
     "name": "stderr",
     "output_type": "stream",
     "text": [
      "/jukebox/pkgs/PYGER/0.9.1/lib/python3.7/site-packages/scipy/stats/stats.py:2279: RuntimeWarning: divide by zero encountered in true_divide\n",
      "  np.expand_dims(sstd, axis=axis))\n",
      "/jukebox/pkgs/PYGER/0.9.1/lib/python3.7/site-packages/scipy/stats/stats.py:2279: RuntimeWarning: invalid value encountered in true_divide\n",
      "  np.expand_dims(sstd, axis=axis))\n"
     ]
    },
    {
     "name": "stdout",
     "output_type": "stream",
     "text": [
      "...saving left hem.\n",
      "***sub-sid02***\n",
      "    Processing run  sub-sid02_ses-01_task-roomvideo_run-02_bold_space-fsaverage6.R.func.gii\n",
      "    Loading  /jukebox/norman/rmasis/MemPal/data/BIDS/Norman/Baldassano/10442_vrpalace/derivatives/fmriprep/sub-sid02/ses-01/func/sub-sid02_ses-01_task-roomvideo_run-02_bold_space-fsaverage6.R.func.gii\n",
      "    Extracting confound information from  sub-sid02/ses-01/func/sub-sid02_ses-01_task-roomvideo_run-02_bold_confounds.tsv\n",
      "   D[hem] =  (40962, 235)\n",
      "   np dot regrcoef, reg.t:  (40962, 235)\n",
      "   interecept shape:  (40962, 1)\n"
     ]
    },
    {
     "name": "stderr",
     "output_type": "stream",
     "text": [
      "/jukebox/pkgs/PYGER/0.9.1/lib/python3.7/site-packages/scipy/stats/stats.py:2279: RuntimeWarning: divide by zero encountered in true_divide\n",
      "  np.expand_dims(sstd, axis=axis))\n",
      "/jukebox/pkgs/PYGER/0.9.1/lib/python3.7/site-packages/scipy/stats/stats.py:2279: RuntimeWarning: invalid value encountered in true_divide\n",
      "  np.expand_dims(sstd, axis=axis))\n"
     ]
    },
    {
     "name": "stdout",
     "output_type": "stream",
     "text": [
      "...saving right hem.\n",
      "***sub-sid02***\n",
      "    Processing run  sub-sid02_ses-02_task-pathvideo_bold_space-fsaverage6.L.func.gii\n",
      "    Loading  /jukebox/norman/rmasis/MemPal/data/BIDS/Norman/Baldassano/10442_vrpalace/derivatives/fmriprep/sub-sid02/ses-02/func/sub-sid02_ses-02_task-pathvideo_bold_space-fsaverage6.L.func.gii\n",
      "    Extracting confound information from  sub-sid02/ses-02/func/sub-sid02_ses-02_task-pathvideo_bold_confounds.tsv\n",
      "   D[hem] =  (40962, 595)\n",
      "   np dot regrcoef, reg.t:  (40962, 595)\n",
      "   interecept shape:  (40962, 1)\n"
     ]
    },
    {
     "name": "stderr",
     "output_type": "stream",
     "text": [
      "/jukebox/pkgs/PYGER/0.9.1/lib/python3.7/site-packages/scipy/stats/stats.py:2279: RuntimeWarning: divide by zero encountered in true_divide\n",
      "  np.expand_dims(sstd, axis=axis))\n",
      "/jukebox/pkgs/PYGER/0.9.1/lib/python3.7/site-packages/scipy/stats/stats.py:2279: RuntimeWarning: invalid value encountered in true_divide\n",
      "  np.expand_dims(sstd, axis=axis))\n"
     ]
    },
    {
     "name": "stdout",
     "output_type": "stream",
     "text": [
      "...saving left hem.\n",
      "***sub-sid02***\n",
      "    Processing run  sub-sid02_ses-02_task-pathvideo_bold_space-fsaverage6.R.func.gii\n",
      "    Loading  /jukebox/norman/rmasis/MemPal/data/BIDS/Norman/Baldassano/10442_vrpalace/derivatives/fmriprep/sub-sid02/ses-02/func/sub-sid02_ses-02_task-pathvideo_bold_space-fsaverage6.R.func.gii\n",
      "    Extracting confound information from  sub-sid02/ses-02/func/sub-sid02_ses-02_task-pathvideo_bold_confounds.tsv\n",
      "   D[hem] =  (40962, 595)\n",
      "   np dot regrcoef, reg.t:  (40962, 595)\n",
      "   interecept shape:  (40962, 1)\n"
     ]
    },
    {
     "name": "stderr",
     "output_type": "stream",
     "text": [
      "/jukebox/pkgs/PYGER/0.9.1/lib/python3.7/site-packages/scipy/stats/stats.py:2279: RuntimeWarning: divide by zero encountered in true_divide\n",
      "  np.expand_dims(sstd, axis=axis))\n",
      "/jukebox/pkgs/PYGER/0.9.1/lib/python3.7/site-packages/scipy/stats/stats.py:2279: RuntimeWarning: invalid value encountered in true_divide\n",
      "  np.expand_dims(sstd, axis=axis))\n"
     ]
    },
    {
     "name": "stdout",
     "output_type": "stream",
     "text": [
      "...saving right hem.\n",
      "***sub-sid02***\n",
      "    Processing run  sub-sid02_ses-02_task-recall_bold_space-fsaverage6.L.func.gii\n",
      "    Loading  /jukebox/norman/rmasis/MemPal/data/BIDS/Norman/Baldassano/10442_vrpalace/derivatives/fmriprep/sub-sid02/ses-02/func/sub-sid02_ses-02_task-recall_bold_space-fsaverage6.L.func.gii\n",
      "    Extracting confound information from  sub-sid02/ses-02/func/sub-sid02_ses-02_task-recall_bold_confounds.tsv\n",
      "   D[hem] =  (40962, 1782)\n",
      "   np dot regrcoef, reg.t:  (40962, 1782)\n",
      "   interecept shape:  (40962, 1)\n"
     ]
    },
    {
     "name": "stderr",
     "output_type": "stream",
     "text": [
      "/jukebox/pkgs/PYGER/0.9.1/lib/python3.7/site-packages/scipy/stats/stats.py:2279: RuntimeWarning: divide by zero encountered in true_divide\n",
      "  np.expand_dims(sstd, axis=axis))\n",
      "/jukebox/pkgs/PYGER/0.9.1/lib/python3.7/site-packages/scipy/stats/stats.py:2279: RuntimeWarning: invalid value encountered in true_divide\n",
      "  np.expand_dims(sstd, axis=axis))\n"
     ]
    },
    {
     "name": "stdout",
     "output_type": "stream",
     "text": [
      "...saving left hem.\n",
      "***sub-sid02***\n",
      "    Processing run  sub-sid02_ses-02_task-recall_bold_space-fsaverage6.R.func.gii\n",
      "    Loading  /jukebox/norman/rmasis/MemPal/data/BIDS/Norman/Baldassano/10442_vrpalace/derivatives/fmriprep/sub-sid02/ses-02/func/sub-sid02_ses-02_task-recall_bold_space-fsaverage6.R.func.gii\n",
      "    Extracting confound information from  sub-sid02/ses-02/func/sub-sid02_ses-02_task-recall_bold_confounds.tsv\n",
      "   D[hem] =  (40962, 1782)\n",
      "   np dot regrcoef, reg.t:  (40962, 1782)\n",
      "   interecept shape:  (40962, 1)\n"
     ]
    },
    {
     "name": "stderr",
     "output_type": "stream",
     "text": [
      "/jukebox/pkgs/PYGER/0.9.1/lib/python3.7/site-packages/scipy/stats/stats.py:2279: RuntimeWarning: divide by zero encountered in true_divide\n",
      "  np.expand_dims(sstd, axis=axis))\n",
      "/jukebox/pkgs/PYGER/0.9.1/lib/python3.7/site-packages/scipy/stats/stats.py:2279: RuntimeWarning: invalid value encountered in true_divide\n",
      "  np.expand_dims(sstd, axis=axis))\n"
     ]
    },
    {
     "name": "stdout",
     "output_type": "stream",
     "text": [
      "...saving right hem.\n",
      "***sub-sid02***\n",
      "    Processing run  sub-sid02_ses-02_task-roomobjectvideo_run-01_bold_space-fsaverage6.L.func.gii\n",
      "    Loading  /jukebox/norman/rmasis/MemPal/data/BIDS/Norman/Baldassano/10442_vrpalace/derivatives/fmriprep/sub-sid02/ses-02/func/sub-sid02_ses-02_task-roomobjectvideo_run-01_bold_space-fsaverage6.L.func.gii\n",
      "    Extracting confound information from  sub-sid02/ses-02/func/sub-sid02_ses-02_task-roomobjectvideo_run-01_bold_confounds.tsv\n",
      "   D[hem] =  (40962, 460)\n",
      "   np dot regrcoef, reg.t:  (40962, 460)\n",
      "   interecept shape:  (40962, 1)\n"
     ]
    },
    {
     "name": "stderr",
     "output_type": "stream",
     "text": [
      "/jukebox/pkgs/PYGER/0.9.1/lib/python3.7/site-packages/scipy/stats/stats.py:2279: RuntimeWarning: divide by zero encountered in true_divide\n",
      "  np.expand_dims(sstd, axis=axis))\n",
      "/jukebox/pkgs/PYGER/0.9.1/lib/python3.7/site-packages/scipy/stats/stats.py:2279: RuntimeWarning: invalid value encountered in true_divide\n",
      "  np.expand_dims(sstd, axis=axis))\n"
     ]
    },
    {
     "name": "stdout",
     "output_type": "stream",
     "text": [
      "...saving left hem.\n",
      "***sub-sid02***\n",
      "    Processing run  sub-sid02_ses-02_task-roomobjectvideo_run-01_bold_space-fsaverage6.R.func.gii\n",
      "    Loading  /jukebox/norman/rmasis/MemPal/data/BIDS/Norman/Baldassano/10442_vrpalace/derivatives/fmriprep/sub-sid02/ses-02/func/sub-sid02_ses-02_task-roomobjectvideo_run-01_bold_space-fsaverage6.R.func.gii\n",
      "    Extracting confound information from  sub-sid02/ses-02/func/sub-sid02_ses-02_task-roomobjectvideo_run-01_bold_confounds.tsv\n",
      "   D[hem] =  (40962, 460)\n",
      "   np dot regrcoef, reg.t:  (40962, 460)\n",
      "   interecept shape:  (40962, 1)\n"
     ]
    },
    {
     "name": "stderr",
     "output_type": "stream",
     "text": [
      "/jukebox/pkgs/PYGER/0.9.1/lib/python3.7/site-packages/scipy/stats/stats.py:2279: RuntimeWarning: divide by zero encountered in true_divide\n",
      "  np.expand_dims(sstd, axis=axis))\n",
      "/jukebox/pkgs/PYGER/0.9.1/lib/python3.7/site-packages/scipy/stats/stats.py:2279: RuntimeWarning: invalid value encountered in true_divide\n",
      "  np.expand_dims(sstd, axis=axis))\n"
     ]
    },
    {
     "name": "stdout",
     "output_type": "stream",
     "text": [
      "...saving right hem.\n",
      "***sub-sid02***\n",
      "    Processing run  sub-sid02_ses-02_task-roomobjectvideo_run-02_bold_space-fsaverage6.L.func.gii\n",
      "    Loading  /jukebox/norman/rmasis/MemPal/data/BIDS/Norman/Baldassano/10442_vrpalace/derivatives/fmriprep/sub-sid02/ses-02/func/sub-sid02_ses-02_task-roomobjectvideo_run-02_bold_space-fsaverage6.L.func.gii\n",
      "    Extracting confound information from  sub-sid02/ses-02/func/sub-sid02_ses-02_task-roomobjectvideo_run-02_bold_confounds.tsv\n",
      "   D[hem] =  (40962, 460)\n",
      "   np dot regrcoef, reg.t:  (40962, 460)\n",
      "   interecept shape:  (40962, 1)\n"
     ]
    },
    {
     "name": "stderr",
     "output_type": "stream",
     "text": [
      "/jukebox/pkgs/PYGER/0.9.1/lib/python3.7/site-packages/scipy/stats/stats.py:2279: RuntimeWarning: divide by zero encountered in true_divide\n",
      "  np.expand_dims(sstd, axis=axis))\n",
      "/jukebox/pkgs/PYGER/0.9.1/lib/python3.7/site-packages/scipy/stats/stats.py:2279: RuntimeWarning: invalid value encountered in true_divide\n",
      "  np.expand_dims(sstd, axis=axis))\n"
     ]
    },
    {
     "name": "stdout",
     "output_type": "stream",
     "text": [
      "...saving left hem.\n",
      "***sub-sid02***\n",
      "    Processing run  sub-sid02_ses-02_task-roomobjectvideo_run-02_bold_space-fsaverage6.R.func.gii\n",
      "    Loading  /jukebox/norman/rmasis/MemPal/data/BIDS/Norman/Baldassano/10442_vrpalace/derivatives/fmriprep/sub-sid02/ses-02/func/sub-sid02_ses-02_task-roomobjectvideo_run-02_bold_space-fsaverage6.R.func.gii\n",
      "    Extracting confound information from  sub-sid02/ses-02/func/sub-sid02_ses-02_task-roomobjectvideo_run-02_bold_confounds.tsv\n",
      "   D[hem] =  (40962, 460)\n",
      "   np dot regrcoef, reg.t:  (40962, 460)\n",
      "   interecept shape:  (40962, 1)\n"
     ]
    },
    {
     "name": "stderr",
     "output_type": "stream",
     "text": [
      "/jukebox/pkgs/PYGER/0.9.1/lib/python3.7/site-packages/scipy/stats/stats.py:2279: RuntimeWarning: divide by zero encountered in true_divide\n",
      "  np.expand_dims(sstd, axis=axis))\n",
      "/jukebox/pkgs/PYGER/0.9.1/lib/python3.7/site-packages/scipy/stats/stats.py:2279: RuntimeWarning: invalid value encountered in true_divide\n",
      "  np.expand_dims(sstd, axis=axis))\n"
     ]
    },
    {
     "name": "stdout",
     "output_type": "stream",
     "text": [
      "...saving right hem.\n",
      "***sub-sid03***\n",
      "    Processing run  sub-sid03_ses-01_task-pathvideo_bold_space-fsaverage6.L.func.gii\n",
      "    Loading  /jukebox/norman/rmasis/MemPal/data/BIDS/Norman/Baldassano/10442_vrpalace/derivatives/fmriprep/sub-sid03/ses-01/func/sub-sid03_ses-01_task-pathvideo_bold_space-fsaverage6.L.func.gii\n",
      "    Extracting confound information from  sub-sid03/ses-01/func/sub-sid03_ses-01_task-pathvideo_bold_confounds.tsv\n",
      "   D[hem] =  (40962, 595)\n",
      "   np dot regrcoef, reg.t:  (40962, 595)\n",
      "   interecept shape:  (40962, 1)\n"
     ]
    },
    {
     "name": "stderr",
     "output_type": "stream",
     "text": [
      "/jukebox/pkgs/PYGER/0.9.1/lib/python3.7/site-packages/scipy/stats/stats.py:2279: RuntimeWarning: divide by zero encountered in true_divide\n",
      "  np.expand_dims(sstd, axis=axis))\n",
      "/jukebox/pkgs/PYGER/0.9.1/lib/python3.7/site-packages/scipy/stats/stats.py:2279: RuntimeWarning: invalid value encountered in true_divide\n",
      "  np.expand_dims(sstd, axis=axis))\n"
     ]
    },
    {
     "name": "stdout",
     "output_type": "stream",
     "text": [
      "   making new directory ../PythonData2024/ProcessedData//sub-sid03/\n",
      "...saving left hem.\n",
      "***sub-sid03***\n",
      "    Processing run  sub-sid03_ses-01_task-pathvideo_bold_space-fsaverage6.R.func.gii\n",
      "    Loading  /jukebox/norman/rmasis/MemPal/data/BIDS/Norman/Baldassano/10442_vrpalace/derivatives/fmriprep/sub-sid03/ses-01/func/sub-sid03_ses-01_task-pathvideo_bold_space-fsaverage6.R.func.gii\n",
      "    Extracting confound information from  sub-sid03/ses-01/func/sub-sid03_ses-01_task-pathvideo_bold_confounds.tsv\n",
      "   D[hem] =  (40962, 595)\n",
      "   np dot regrcoef, reg.t:  (40962, 595)\n",
      "   interecept shape:  (40962, 1)\n"
     ]
    },
    {
     "name": "stderr",
     "output_type": "stream",
     "text": [
      "/jukebox/pkgs/PYGER/0.9.1/lib/python3.7/site-packages/scipy/stats/stats.py:2279: RuntimeWarning: divide by zero encountered in true_divide\n",
      "  np.expand_dims(sstd, axis=axis))\n",
      "/jukebox/pkgs/PYGER/0.9.1/lib/python3.7/site-packages/scipy/stats/stats.py:2279: RuntimeWarning: invalid value encountered in true_divide\n",
      "  np.expand_dims(sstd, axis=axis))\n"
     ]
    },
    {
     "name": "stdout",
     "output_type": "stream",
     "text": [
      "...saving right hem.\n",
      "***sub-sid03***\n",
      "    Processing run  sub-sid03_ses-01_task-roomvideo_run-01_bold_space-fsaverage6.L.func.gii\n",
      "    Loading  /jukebox/norman/rmasis/MemPal/data/BIDS/Norman/Baldassano/10442_vrpalace/derivatives/fmriprep/sub-sid03/ses-01/func/sub-sid03_ses-01_task-roomvideo_run-01_bold_space-fsaverage6.L.func.gii\n",
      "    Extracting confound information from  sub-sid03/ses-01/func/sub-sid03_ses-01_task-roomvideo_run-01_bold_confounds.tsv\n",
      "   D[hem] =  (40962, 235)\n",
      "   np dot regrcoef, reg.t:  (40962, 235)\n",
      "   interecept shape:  (40962, 1)\n"
     ]
    },
    {
     "name": "stderr",
     "output_type": "stream",
     "text": [
      "/jukebox/pkgs/PYGER/0.9.1/lib/python3.7/site-packages/scipy/stats/stats.py:2279: RuntimeWarning: divide by zero encountered in true_divide\n",
      "  np.expand_dims(sstd, axis=axis))\n",
      "/jukebox/pkgs/PYGER/0.9.1/lib/python3.7/site-packages/scipy/stats/stats.py:2279: RuntimeWarning: invalid value encountered in true_divide\n",
      "  np.expand_dims(sstd, axis=axis))\n"
     ]
    },
    {
     "name": "stdout",
     "output_type": "stream",
     "text": [
      "...saving left hem.\n",
      "***sub-sid03***\n",
      "    Processing run  sub-sid03_ses-01_task-roomvideo_run-01_bold_space-fsaverage6.R.func.gii\n",
      "    Loading  /jukebox/norman/rmasis/MemPal/data/BIDS/Norman/Baldassano/10442_vrpalace/derivatives/fmriprep/sub-sid03/ses-01/func/sub-sid03_ses-01_task-roomvideo_run-01_bold_space-fsaverage6.R.func.gii\n",
      "    Extracting confound information from  sub-sid03/ses-01/func/sub-sid03_ses-01_task-roomvideo_run-01_bold_confounds.tsv\n",
      "   D[hem] =  (40962, 235)\n",
      "   np dot regrcoef, reg.t:  (40962, 235)\n",
      "   interecept shape:  (40962, 1)\n"
     ]
    },
    {
     "name": "stderr",
     "output_type": "stream",
     "text": [
      "/jukebox/pkgs/PYGER/0.9.1/lib/python3.7/site-packages/scipy/stats/stats.py:2279: RuntimeWarning: divide by zero encountered in true_divide\n",
      "  np.expand_dims(sstd, axis=axis))\n",
      "/jukebox/pkgs/PYGER/0.9.1/lib/python3.7/site-packages/scipy/stats/stats.py:2279: RuntimeWarning: invalid value encountered in true_divide\n",
      "  np.expand_dims(sstd, axis=axis))\n"
     ]
    },
    {
     "name": "stdout",
     "output_type": "stream",
     "text": [
      "...saving right hem.\n",
      "***sub-sid03***\n",
      "    Processing run  sub-sid03_ses-01_task-roomvideo_run-02_bold_space-fsaverage6.L.func.gii\n",
      "    Loading  /jukebox/norman/rmasis/MemPal/data/BIDS/Norman/Baldassano/10442_vrpalace/derivatives/fmriprep/sub-sid03/ses-01/func/sub-sid03_ses-01_task-roomvideo_run-02_bold_space-fsaverage6.L.func.gii\n",
      "    Extracting confound information from  sub-sid03/ses-01/func/sub-sid03_ses-01_task-roomvideo_run-02_bold_confounds.tsv\n",
      "   D[hem] =  (40962, 235)\n",
      "   np dot regrcoef, reg.t:  (40962, 235)\n",
      "   interecept shape:  (40962, 1)\n"
     ]
    },
    {
     "name": "stderr",
     "output_type": "stream",
     "text": [
      "/jukebox/pkgs/PYGER/0.9.1/lib/python3.7/site-packages/scipy/stats/stats.py:2279: RuntimeWarning: divide by zero encountered in true_divide\n",
      "  np.expand_dims(sstd, axis=axis))\n",
      "/jukebox/pkgs/PYGER/0.9.1/lib/python3.7/site-packages/scipy/stats/stats.py:2279: RuntimeWarning: invalid value encountered in true_divide\n",
      "  np.expand_dims(sstd, axis=axis))\n"
     ]
    },
    {
     "name": "stdout",
     "output_type": "stream",
     "text": [
      "...saving left hem.\n",
      "***sub-sid03***\n",
      "    Processing run  sub-sid03_ses-01_task-roomvideo_run-02_bold_space-fsaverage6.R.func.gii\n",
      "    Loading  /jukebox/norman/rmasis/MemPal/data/BIDS/Norman/Baldassano/10442_vrpalace/derivatives/fmriprep/sub-sid03/ses-01/func/sub-sid03_ses-01_task-roomvideo_run-02_bold_space-fsaverage6.R.func.gii\n",
      "    Extracting confound information from  sub-sid03/ses-01/func/sub-sid03_ses-01_task-roomvideo_run-02_bold_confounds.tsv\n",
      "   D[hem] =  (40962, 235)\n",
      "   np dot regrcoef, reg.t:  (40962, 235)\n",
      "   interecept shape:  (40962, 1)\n"
     ]
    },
    {
     "name": "stderr",
     "output_type": "stream",
     "text": [
      "/jukebox/pkgs/PYGER/0.9.1/lib/python3.7/site-packages/scipy/stats/stats.py:2279: RuntimeWarning: divide by zero encountered in true_divide\n",
      "  np.expand_dims(sstd, axis=axis))\n",
      "/jukebox/pkgs/PYGER/0.9.1/lib/python3.7/site-packages/scipy/stats/stats.py:2279: RuntimeWarning: invalid value encountered in true_divide\n",
      "  np.expand_dims(sstd, axis=axis))\n"
     ]
    },
    {
     "name": "stdout",
     "output_type": "stream",
     "text": [
      "...saving right hem.\n",
      "***sub-sid03***\n",
      "    Processing run  sub-sid03_ses-02_task-pathvideo_bold_space-fsaverage6.L.func.gii\n",
      "    Loading  /jukebox/norman/rmasis/MemPal/data/BIDS/Norman/Baldassano/10442_vrpalace/derivatives/fmriprep/sub-sid03/ses-02/func/sub-sid03_ses-02_task-pathvideo_bold_space-fsaverage6.L.func.gii\n",
      "    Extracting confound information from  sub-sid03/ses-02/func/sub-sid03_ses-02_task-pathvideo_bold_confounds.tsv\n",
      "   D[hem] =  (40962, 595)\n",
      "   np dot regrcoef, reg.t:  (40962, 595)\n",
      "   interecept shape:  (40962, 1)\n"
     ]
    },
    {
     "name": "stderr",
     "output_type": "stream",
     "text": [
      "/jukebox/pkgs/PYGER/0.9.1/lib/python3.7/site-packages/scipy/stats/stats.py:2279: RuntimeWarning: divide by zero encountered in true_divide\n",
      "  np.expand_dims(sstd, axis=axis))\n",
      "/jukebox/pkgs/PYGER/0.9.1/lib/python3.7/site-packages/scipy/stats/stats.py:2279: RuntimeWarning: invalid value encountered in true_divide\n",
      "  np.expand_dims(sstd, axis=axis))\n"
     ]
    },
    {
     "name": "stdout",
     "output_type": "stream",
     "text": [
      "...saving left hem.\n",
      "***sub-sid03***\n",
      "    Processing run  sub-sid03_ses-02_task-pathvideo_bold_space-fsaverage6.R.func.gii\n",
      "    Loading  /jukebox/norman/rmasis/MemPal/data/BIDS/Norman/Baldassano/10442_vrpalace/derivatives/fmriprep/sub-sid03/ses-02/func/sub-sid03_ses-02_task-pathvideo_bold_space-fsaverage6.R.func.gii\n",
      "    Extracting confound information from  sub-sid03/ses-02/func/sub-sid03_ses-02_task-pathvideo_bold_confounds.tsv\n",
      "   D[hem] =  (40962, 595)\n",
      "   np dot regrcoef, reg.t:  (40962, 595)\n",
      "   interecept shape:  (40962, 1)\n"
     ]
    },
    {
     "name": "stderr",
     "output_type": "stream",
     "text": [
      "/jukebox/pkgs/PYGER/0.9.1/lib/python3.7/site-packages/scipy/stats/stats.py:2279: RuntimeWarning: divide by zero encountered in true_divide\n",
      "  np.expand_dims(sstd, axis=axis))\n",
      "/jukebox/pkgs/PYGER/0.9.1/lib/python3.7/site-packages/scipy/stats/stats.py:2279: RuntimeWarning: invalid value encountered in true_divide\n",
      "  np.expand_dims(sstd, axis=axis))\n"
     ]
    },
    {
     "name": "stdout",
     "output_type": "stream",
     "text": [
      "...saving right hem.\n",
      "***sub-sid03***\n",
      "    Processing run  sub-sid03_ses-02_task-recall_bold_space-fsaverage6.L.func.gii\n",
      "    Loading  /jukebox/norman/rmasis/MemPal/data/BIDS/Norman/Baldassano/10442_vrpalace/derivatives/fmriprep/sub-sid03/ses-02/func/sub-sid03_ses-02_task-recall_bold_space-fsaverage6.L.func.gii\n",
      "    Extracting confound information from  sub-sid03/ses-02/func/sub-sid03_ses-02_task-recall_bold_confounds.tsv\n",
      "   D[hem] =  (40962, 1780)\n",
      "   np dot regrcoef, reg.t:  (40962, 1780)\n",
      "   interecept shape:  (40962, 1)\n"
     ]
    },
    {
     "name": "stderr",
     "output_type": "stream",
     "text": [
      "/jukebox/pkgs/PYGER/0.9.1/lib/python3.7/site-packages/scipy/stats/stats.py:2279: RuntimeWarning: divide by zero encountered in true_divide\n",
      "  np.expand_dims(sstd, axis=axis))\n",
      "/jukebox/pkgs/PYGER/0.9.1/lib/python3.7/site-packages/scipy/stats/stats.py:2279: RuntimeWarning: invalid value encountered in true_divide\n",
      "  np.expand_dims(sstd, axis=axis))\n"
     ]
    },
    {
     "name": "stdout",
     "output_type": "stream",
     "text": [
      "...saving left hem.\n",
      "***sub-sid03***\n",
      "    Processing run  sub-sid03_ses-02_task-recall_bold_space-fsaverage6.R.func.gii\n",
      "    Loading  /jukebox/norman/rmasis/MemPal/data/BIDS/Norman/Baldassano/10442_vrpalace/derivatives/fmriprep/sub-sid03/ses-02/func/sub-sid03_ses-02_task-recall_bold_space-fsaverage6.R.func.gii\n",
      "    Extracting confound information from  sub-sid03/ses-02/func/sub-sid03_ses-02_task-recall_bold_confounds.tsv\n",
      "   D[hem] =  (40962, 1780)\n",
      "   np dot regrcoef, reg.t:  (40962, 1780)\n",
      "   interecept shape:  (40962, 1)\n"
     ]
    },
    {
     "name": "stderr",
     "output_type": "stream",
     "text": [
      "/jukebox/pkgs/PYGER/0.9.1/lib/python3.7/site-packages/scipy/stats/stats.py:2279: RuntimeWarning: divide by zero encountered in true_divide\n",
      "  np.expand_dims(sstd, axis=axis))\n",
      "/jukebox/pkgs/PYGER/0.9.1/lib/python3.7/site-packages/scipy/stats/stats.py:2279: RuntimeWarning: invalid value encountered in true_divide\n",
      "  np.expand_dims(sstd, axis=axis))\n"
     ]
    },
    {
     "name": "stdout",
     "output_type": "stream",
     "text": [
      "...saving right hem.\n",
      "***sub-sid03***\n",
      "    Processing run  sub-sid03_ses-02_task-roomobjectvideo_run-01_bold_space-fsaverage6.L.func.gii\n",
      "    Loading  /jukebox/norman/rmasis/MemPal/data/BIDS/Norman/Baldassano/10442_vrpalace/derivatives/fmriprep/sub-sid03/ses-02/func/sub-sid03_ses-02_task-roomobjectvideo_run-01_bold_space-fsaverage6.L.func.gii\n",
      "    Extracting confound information from  sub-sid03/ses-02/func/sub-sid03_ses-02_task-roomobjectvideo_run-01_bold_confounds.tsv\n",
      "   D[hem] =  (40962, 460)\n",
      "   np dot regrcoef, reg.t:  (40962, 460)\n",
      "   interecept shape:  (40962, 1)\n"
     ]
    },
    {
     "name": "stderr",
     "output_type": "stream",
     "text": [
      "/jukebox/pkgs/PYGER/0.9.1/lib/python3.7/site-packages/scipy/stats/stats.py:2279: RuntimeWarning: divide by zero encountered in true_divide\n",
      "  np.expand_dims(sstd, axis=axis))\n",
      "/jukebox/pkgs/PYGER/0.9.1/lib/python3.7/site-packages/scipy/stats/stats.py:2279: RuntimeWarning: invalid value encountered in true_divide\n",
      "  np.expand_dims(sstd, axis=axis))\n"
     ]
    },
    {
     "name": "stdout",
     "output_type": "stream",
     "text": [
      "...saving left hem.\n",
      "***sub-sid03***\n",
      "    Processing run  sub-sid03_ses-02_task-roomobjectvideo_run-01_bold_space-fsaverage6.R.func.gii\n",
      "    Loading  /jukebox/norman/rmasis/MemPal/data/BIDS/Norman/Baldassano/10442_vrpalace/derivatives/fmriprep/sub-sid03/ses-02/func/sub-sid03_ses-02_task-roomobjectvideo_run-01_bold_space-fsaverage6.R.func.gii\n",
      "    Extracting confound information from  sub-sid03/ses-02/func/sub-sid03_ses-02_task-roomobjectvideo_run-01_bold_confounds.tsv\n",
      "   D[hem] =  (40962, 460)\n",
      "   np dot regrcoef, reg.t:  (40962, 460)\n",
      "   interecept shape:  (40962, 1)\n"
     ]
    },
    {
     "name": "stderr",
     "output_type": "stream",
     "text": [
      "/jukebox/pkgs/PYGER/0.9.1/lib/python3.7/site-packages/scipy/stats/stats.py:2279: RuntimeWarning: divide by zero encountered in true_divide\n",
      "  np.expand_dims(sstd, axis=axis))\n",
      "/jukebox/pkgs/PYGER/0.9.1/lib/python3.7/site-packages/scipy/stats/stats.py:2279: RuntimeWarning: invalid value encountered in true_divide\n",
      "  np.expand_dims(sstd, axis=axis))\n"
     ]
    },
    {
     "name": "stdout",
     "output_type": "stream",
     "text": [
      "...saving right hem.\n",
      "***sub-sid03***\n",
      "    Processing run  sub-sid03_ses-02_task-roomobjectvideo_run-02_bold_space-fsaverage6.L.func.gii\n",
      "    Loading  /jukebox/norman/rmasis/MemPal/data/BIDS/Norman/Baldassano/10442_vrpalace/derivatives/fmriprep/sub-sid03/ses-02/func/sub-sid03_ses-02_task-roomobjectvideo_run-02_bold_space-fsaverage6.L.func.gii\n",
      "    Extracting confound information from  sub-sid03/ses-02/func/sub-sid03_ses-02_task-roomobjectvideo_run-02_bold_confounds.tsv\n",
      "   D[hem] =  (40962, 460)\n",
      "   np dot regrcoef, reg.t:  (40962, 460)\n",
      "   interecept shape:  (40962, 1)\n"
     ]
    },
    {
     "name": "stderr",
     "output_type": "stream",
     "text": [
      "/jukebox/pkgs/PYGER/0.9.1/lib/python3.7/site-packages/scipy/stats/stats.py:2279: RuntimeWarning: divide by zero encountered in true_divide\n",
      "  np.expand_dims(sstd, axis=axis))\n",
      "/jukebox/pkgs/PYGER/0.9.1/lib/python3.7/site-packages/scipy/stats/stats.py:2279: RuntimeWarning: invalid value encountered in true_divide\n",
      "  np.expand_dims(sstd, axis=axis))\n"
     ]
    },
    {
     "name": "stdout",
     "output_type": "stream",
     "text": [
      "...saving left hem.\n",
      "***sub-sid03***\n",
      "    Processing run  sub-sid03_ses-02_task-roomobjectvideo_run-02_bold_space-fsaverage6.R.func.gii\n",
      "    Loading  /jukebox/norman/rmasis/MemPal/data/BIDS/Norman/Baldassano/10442_vrpalace/derivatives/fmriprep/sub-sid03/ses-02/func/sub-sid03_ses-02_task-roomobjectvideo_run-02_bold_space-fsaverage6.R.func.gii\n",
      "    Extracting confound information from  sub-sid03/ses-02/func/sub-sid03_ses-02_task-roomobjectvideo_run-02_bold_confounds.tsv\n",
      "   D[hem] =  (40962, 460)\n",
      "   np dot regrcoef, reg.t:  (40962, 460)\n",
      "   interecept shape:  (40962, 1)\n"
     ]
    },
    {
     "name": "stderr",
     "output_type": "stream",
     "text": [
      "/jukebox/pkgs/PYGER/0.9.1/lib/python3.7/site-packages/scipy/stats/stats.py:2279: RuntimeWarning: divide by zero encountered in true_divide\n",
      "  np.expand_dims(sstd, axis=axis))\n",
      "/jukebox/pkgs/PYGER/0.9.1/lib/python3.7/site-packages/scipy/stats/stats.py:2279: RuntimeWarning: invalid value encountered in true_divide\n",
      "  np.expand_dims(sstd, axis=axis))\n"
     ]
    },
    {
     "name": "stdout",
     "output_type": "stream",
     "text": [
      "...saving right hem.\n",
      "***sub-sid04***\n",
      "    Processing run  sub-sid04_ses-01_task-pathvideo_bold_space-fsaverage6.L.func.gii\n",
      "    Loading  /jukebox/norman/rmasis/MemPal/data/BIDS/Norman/Baldassano/10442_vrpalace/derivatives/fmriprep/sub-sid04/ses-01/func/sub-sid04_ses-01_task-pathvideo_bold_space-fsaverage6.L.func.gii\n",
      "    Extracting confound information from  sub-sid04/ses-01/func/sub-sid04_ses-01_task-pathvideo_bold_confounds.tsv\n",
      "   D[hem] =  (40962, 595)\n",
      "   np dot regrcoef, reg.t:  (40962, 595)\n",
      "   interecept shape:  (40962, 1)\n"
     ]
    },
    {
     "name": "stderr",
     "output_type": "stream",
     "text": [
      "/jukebox/pkgs/PYGER/0.9.1/lib/python3.7/site-packages/scipy/stats/stats.py:2279: RuntimeWarning: divide by zero encountered in true_divide\n",
      "  np.expand_dims(sstd, axis=axis))\n",
      "/jukebox/pkgs/PYGER/0.9.1/lib/python3.7/site-packages/scipy/stats/stats.py:2279: RuntimeWarning: invalid value encountered in true_divide\n",
      "  np.expand_dims(sstd, axis=axis))\n"
     ]
    },
    {
     "name": "stdout",
     "output_type": "stream",
     "text": [
      "   making new directory ../PythonData2024/ProcessedData//sub-sid04/\n",
      "...saving left hem.\n",
      "***sub-sid04***\n",
      "    Processing run  sub-sid04_ses-01_task-pathvideo_bold_space-fsaverage6.R.func.gii\n",
      "    Loading  /jukebox/norman/rmasis/MemPal/data/BIDS/Norman/Baldassano/10442_vrpalace/derivatives/fmriprep/sub-sid04/ses-01/func/sub-sid04_ses-01_task-pathvideo_bold_space-fsaverage6.R.func.gii\n",
      "    Extracting confound information from  sub-sid04/ses-01/func/sub-sid04_ses-01_task-pathvideo_bold_confounds.tsv\n",
      "   D[hem] =  (40962, 595)\n",
      "   np dot regrcoef, reg.t:  (40962, 595)\n",
      "   interecept shape:  (40962, 1)\n"
     ]
    },
    {
     "name": "stderr",
     "output_type": "stream",
     "text": [
      "/jukebox/pkgs/PYGER/0.9.1/lib/python3.7/site-packages/scipy/stats/stats.py:2279: RuntimeWarning: divide by zero encountered in true_divide\n",
      "  np.expand_dims(sstd, axis=axis))\n",
      "/jukebox/pkgs/PYGER/0.9.1/lib/python3.7/site-packages/scipy/stats/stats.py:2279: RuntimeWarning: invalid value encountered in true_divide\n",
      "  np.expand_dims(sstd, axis=axis))\n"
     ]
    },
    {
     "name": "stdout",
     "output_type": "stream",
     "text": [
      "...saving right hem.\n",
      "***sub-sid04***\n",
      "    Processing run  sub-sid04_ses-01_task-roomvideo_run-01_bold_space-fsaverage6.L.func.gii\n",
      "    Loading  /jukebox/norman/rmasis/MemPal/data/BIDS/Norman/Baldassano/10442_vrpalace/derivatives/fmriprep/sub-sid04/ses-01/func/sub-sid04_ses-01_task-roomvideo_run-01_bold_space-fsaverage6.L.func.gii\n",
      "    Extracting confound information from  sub-sid04/ses-01/func/sub-sid04_ses-01_task-roomvideo_run-01_bold_confounds.tsv\n",
      "   D[hem] =  (40962, 235)\n",
      "   np dot regrcoef, reg.t:  (40962, 235)\n",
      "   interecept shape:  (40962, 1)\n"
     ]
    },
    {
     "name": "stderr",
     "output_type": "stream",
     "text": [
      "/jukebox/pkgs/PYGER/0.9.1/lib/python3.7/site-packages/scipy/stats/stats.py:2279: RuntimeWarning: divide by zero encountered in true_divide\n",
      "  np.expand_dims(sstd, axis=axis))\n",
      "/jukebox/pkgs/PYGER/0.9.1/lib/python3.7/site-packages/scipy/stats/stats.py:2279: RuntimeWarning: invalid value encountered in true_divide\n",
      "  np.expand_dims(sstd, axis=axis))\n"
     ]
    },
    {
     "name": "stdout",
     "output_type": "stream",
     "text": [
      "...saving left hem.\n",
      "***sub-sid04***\n",
      "    Processing run  sub-sid04_ses-01_task-roomvideo_run-01_bold_space-fsaverage6.R.func.gii\n",
      "    Loading  /jukebox/norman/rmasis/MemPal/data/BIDS/Norman/Baldassano/10442_vrpalace/derivatives/fmriprep/sub-sid04/ses-01/func/sub-sid04_ses-01_task-roomvideo_run-01_bold_space-fsaverage6.R.func.gii\n",
      "    Extracting confound information from  sub-sid04/ses-01/func/sub-sid04_ses-01_task-roomvideo_run-01_bold_confounds.tsv\n",
      "   D[hem] =  (40962, 235)\n",
      "   np dot regrcoef, reg.t:  (40962, 235)\n",
      "   interecept shape:  (40962, 1)\n"
     ]
    },
    {
     "name": "stderr",
     "output_type": "stream",
     "text": [
      "/jukebox/pkgs/PYGER/0.9.1/lib/python3.7/site-packages/scipy/stats/stats.py:2279: RuntimeWarning: divide by zero encountered in true_divide\n",
      "  np.expand_dims(sstd, axis=axis))\n",
      "/jukebox/pkgs/PYGER/0.9.1/lib/python3.7/site-packages/scipy/stats/stats.py:2279: RuntimeWarning: invalid value encountered in true_divide\n",
      "  np.expand_dims(sstd, axis=axis))\n"
     ]
    },
    {
     "name": "stdout",
     "output_type": "stream",
     "text": [
      "...saving right hem.\n",
      "***sub-sid04***\n",
      "    Processing run  sub-sid04_ses-01_task-roomvideo_run-02_bold_space-fsaverage6.L.func.gii\n",
      "    Loading  /jukebox/norman/rmasis/MemPal/data/BIDS/Norman/Baldassano/10442_vrpalace/derivatives/fmriprep/sub-sid04/ses-01/func/sub-sid04_ses-01_task-roomvideo_run-02_bold_space-fsaverage6.L.func.gii\n",
      "    Extracting confound information from  sub-sid04/ses-01/func/sub-sid04_ses-01_task-roomvideo_run-02_bold_confounds.tsv\n",
      "   D[hem] =  (40962, 235)\n",
      "   np dot regrcoef, reg.t:  (40962, 235)\n",
      "   interecept shape:  (40962, 1)\n"
     ]
    },
    {
     "name": "stderr",
     "output_type": "stream",
     "text": [
      "/jukebox/pkgs/PYGER/0.9.1/lib/python3.7/site-packages/scipy/stats/stats.py:2279: RuntimeWarning: divide by zero encountered in true_divide\n",
      "  np.expand_dims(sstd, axis=axis))\n",
      "/jukebox/pkgs/PYGER/0.9.1/lib/python3.7/site-packages/scipy/stats/stats.py:2279: RuntimeWarning: invalid value encountered in true_divide\n",
      "  np.expand_dims(sstd, axis=axis))\n"
     ]
    },
    {
     "name": "stdout",
     "output_type": "stream",
     "text": [
      "...saving left hem.\n",
      "***sub-sid04***\n",
      "    Processing run  sub-sid04_ses-01_task-roomvideo_run-02_bold_space-fsaverage6.R.func.gii\n",
      "    Loading  /jukebox/norman/rmasis/MemPal/data/BIDS/Norman/Baldassano/10442_vrpalace/derivatives/fmriprep/sub-sid04/ses-01/func/sub-sid04_ses-01_task-roomvideo_run-02_bold_space-fsaverage6.R.func.gii\n",
      "    Extracting confound information from  sub-sid04/ses-01/func/sub-sid04_ses-01_task-roomvideo_run-02_bold_confounds.tsv\n",
      "   D[hem] =  (40962, 235)\n",
      "   np dot regrcoef, reg.t:  (40962, 235)\n",
      "   interecept shape:  (40962, 1)\n"
     ]
    },
    {
     "name": "stderr",
     "output_type": "stream",
     "text": [
      "/jukebox/pkgs/PYGER/0.9.1/lib/python3.7/site-packages/scipy/stats/stats.py:2279: RuntimeWarning: divide by zero encountered in true_divide\n",
      "  np.expand_dims(sstd, axis=axis))\n",
      "/jukebox/pkgs/PYGER/0.9.1/lib/python3.7/site-packages/scipy/stats/stats.py:2279: RuntimeWarning: invalid value encountered in true_divide\n",
      "  np.expand_dims(sstd, axis=axis))\n"
     ]
    },
    {
     "name": "stdout",
     "output_type": "stream",
     "text": [
      "...saving right hem.\n",
      "***sub-sid04***\n",
      "    Processing run  sub-sid04_ses-02_task-pathvideo_bold_space-fsaverage6.L.func.gii\n",
      "    Loading  /jukebox/norman/rmasis/MemPal/data/BIDS/Norman/Baldassano/10442_vrpalace/derivatives/fmriprep/sub-sid04/ses-02/func/sub-sid04_ses-02_task-pathvideo_bold_space-fsaverage6.L.func.gii\n",
      "    Extracting confound information from  sub-sid04/ses-02/func/sub-sid04_ses-02_task-pathvideo_bold_confounds.tsv\n",
      "   D[hem] =  (40962, 595)\n",
      "   np dot regrcoef, reg.t:  (40962, 595)\n",
      "   interecept shape:  (40962, 1)\n"
     ]
    },
    {
     "name": "stderr",
     "output_type": "stream",
     "text": [
      "/jukebox/pkgs/PYGER/0.9.1/lib/python3.7/site-packages/scipy/stats/stats.py:2279: RuntimeWarning: divide by zero encountered in true_divide\n",
      "  np.expand_dims(sstd, axis=axis))\n",
      "/jukebox/pkgs/PYGER/0.9.1/lib/python3.7/site-packages/scipy/stats/stats.py:2279: RuntimeWarning: invalid value encountered in true_divide\n",
      "  np.expand_dims(sstd, axis=axis))\n"
     ]
    },
    {
     "name": "stdout",
     "output_type": "stream",
     "text": [
      "...saving left hem.\n",
      "***sub-sid04***\n",
      "    Processing run  sub-sid04_ses-02_task-pathvideo_bold_space-fsaverage6.R.func.gii\n",
      "    Loading  /jukebox/norman/rmasis/MemPal/data/BIDS/Norman/Baldassano/10442_vrpalace/derivatives/fmriprep/sub-sid04/ses-02/func/sub-sid04_ses-02_task-pathvideo_bold_space-fsaverage6.R.func.gii\n",
      "    Extracting confound information from  sub-sid04/ses-02/func/sub-sid04_ses-02_task-pathvideo_bold_confounds.tsv\n",
      "   D[hem] =  (40962, 595)\n",
      "   np dot regrcoef, reg.t:  (40962, 595)\n",
      "   interecept shape:  (40962, 1)\n"
     ]
    },
    {
     "name": "stderr",
     "output_type": "stream",
     "text": [
      "/jukebox/pkgs/PYGER/0.9.1/lib/python3.7/site-packages/scipy/stats/stats.py:2279: RuntimeWarning: divide by zero encountered in true_divide\n",
      "  np.expand_dims(sstd, axis=axis))\n",
      "/jukebox/pkgs/PYGER/0.9.1/lib/python3.7/site-packages/scipy/stats/stats.py:2279: RuntimeWarning: invalid value encountered in true_divide\n",
      "  np.expand_dims(sstd, axis=axis))\n"
     ]
    },
    {
     "name": "stdout",
     "output_type": "stream",
     "text": [
      "...saving right hem.\n",
      "***sub-sid04***\n",
      "    Processing run  sub-sid04_ses-02_task-recall_bold_space-fsaverage6.L.func.gii\n",
      "    Loading  /jukebox/norman/rmasis/MemPal/data/BIDS/Norman/Baldassano/10442_vrpalace/derivatives/fmriprep/sub-sid04/ses-02/func/sub-sid04_ses-02_task-recall_bold_space-fsaverage6.L.func.gii\n",
      "    Extracting confound information from  sub-sid04/ses-02/func/sub-sid04_ses-02_task-recall_bold_confounds.tsv\n",
      "   D[hem] =  (40962, 1847)\n",
      "   np dot regrcoef, reg.t:  (40962, 1847)\n",
      "   interecept shape:  (40962, 1)\n"
     ]
    },
    {
     "name": "stderr",
     "output_type": "stream",
     "text": [
      "/jukebox/pkgs/PYGER/0.9.1/lib/python3.7/site-packages/scipy/stats/stats.py:2279: RuntimeWarning: divide by zero encountered in true_divide\n",
      "  np.expand_dims(sstd, axis=axis))\n",
      "/jukebox/pkgs/PYGER/0.9.1/lib/python3.7/site-packages/scipy/stats/stats.py:2279: RuntimeWarning: invalid value encountered in true_divide\n",
      "  np.expand_dims(sstd, axis=axis))\n"
     ]
    },
    {
     "name": "stdout",
     "output_type": "stream",
     "text": [
      "...saving left hem.\n",
      "***sub-sid04***\n",
      "    Processing run  sub-sid04_ses-02_task-recall_bold_space-fsaverage6.R.func.gii\n",
      "    Loading  /jukebox/norman/rmasis/MemPal/data/BIDS/Norman/Baldassano/10442_vrpalace/derivatives/fmriprep/sub-sid04/ses-02/func/sub-sid04_ses-02_task-recall_bold_space-fsaverage6.R.func.gii\n",
      "    Extracting confound information from  sub-sid04/ses-02/func/sub-sid04_ses-02_task-recall_bold_confounds.tsv\n",
      "   D[hem] =  (40962, 1847)\n",
      "   np dot regrcoef, reg.t:  (40962, 1847)\n",
      "   interecept shape:  (40962, 1)\n"
     ]
    },
    {
     "name": "stderr",
     "output_type": "stream",
     "text": [
      "/jukebox/pkgs/PYGER/0.9.1/lib/python3.7/site-packages/scipy/stats/stats.py:2279: RuntimeWarning: divide by zero encountered in true_divide\n",
      "  np.expand_dims(sstd, axis=axis))\n",
      "/jukebox/pkgs/PYGER/0.9.1/lib/python3.7/site-packages/scipy/stats/stats.py:2279: RuntimeWarning: invalid value encountered in true_divide\n",
      "  np.expand_dims(sstd, axis=axis))\n"
     ]
    },
    {
     "name": "stdout",
     "output_type": "stream",
     "text": [
      "...saving right hem.\n",
      "***sub-sid04***\n",
      "    Processing run  sub-sid04_ses-02_task-roomobjectvideo_run-01_bold_space-fsaverage6.L.func.gii\n",
      "    Loading  /jukebox/norman/rmasis/MemPal/data/BIDS/Norman/Baldassano/10442_vrpalace/derivatives/fmriprep/sub-sid04/ses-02/func/sub-sid04_ses-02_task-roomobjectvideo_run-01_bold_space-fsaverage6.L.func.gii\n",
      "    Extracting confound information from  sub-sid04/ses-02/func/sub-sid04_ses-02_task-roomobjectvideo_run-01_bold_confounds.tsv\n",
      "   D[hem] =  (40962, 460)\n",
      "   np dot regrcoef, reg.t:  (40962, 460)\n",
      "   interecept shape:  (40962, 1)\n"
     ]
    },
    {
     "name": "stderr",
     "output_type": "stream",
     "text": [
      "/jukebox/pkgs/PYGER/0.9.1/lib/python3.7/site-packages/scipy/stats/stats.py:2279: RuntimeWarning: divide by zero encountered in true_divide\n",
      "  np.expand_dims(sstd, axis=axis))\n",
      "/jukebox/pkgs/PYGER/0.9.1/lib/python3.7/site-packages/scipy/stats/stats.py:2279: RuntimeWarning: invalid value encountered in true_divide\n",
      "  np.expand_dims(sstd, axis=axis))\n"
     ]
    },
    {
     "name": "stdout",
     "output_type": "stream",
     "text": [
      "...saving left hem.\n",
      "***sub-sid04***\n",
      "    Processing run  sub-sid04_ses-02_task-roomobjectvideo_run-01_bold_space-fsaverage6.R.func.gii\n",
      "    Loading  /jukebox/norman/rmasis/MemPal/data/BIDS/Norman/Baldassano/10442_vrpalace/derivatives/fmriprep/sub-sid04/ses-02/func/sub-sid04_ses-02_task-roomobjectvideo_run-01_bold_space-fsaverage6.R.func.gii\n",
      "    Extracting confound information from  sub-sid04/ses-02/func/sub-sid04_ses-02_task-roomobjectvideo_run-01_bold_confounds.tsv\n",
      "   D[hem] =  (40962, 460)\n",
      "   np dot regrcoef, reg.t:  (40962, 460)\n",
      "   interecept shape:  (40962, 1)\n"
     ]
    },
    {
     "name": "stderr",
     "output_type": "stream",
     "text": [
      "/jukebox/pkgs/PYGER/0.9.1/lib/python3.7/site-packages/scipy/stats/stats.py:2279: RuntimeWarning: divide by zero encountered in true_divide\n",
      "  np.expand_dims(sstd, axis=axis))\n",
      "/jukebox/pkgs/PYGER/0.9.1/lib/python3.7/site-packages/scipy/stats/stats.py:2279: RuntimeWarning: invalid value encountered in true_divide\n",
      "  np.expand_dims(sstd, axis=axis))\n"
     ]
    },
    {
     "name": "stdout",
     "output_type": "stream",
     "text": [
      "...saving right hem.\n",
      "***sub-sid04***\n",
      "    Processing run  sub-sid04_ses-02_task-roomobjectvideo_run-02_bold_space-fsaverage6.L.func.gii\n",
      "    Loading  /jukebox/norman/rmasis/MemPal/data/BIDS/Norman/Baldassano/10442_vrpalace/derivatives/fmriprep/sub-sid04/ses-02/func/sub-sid04_ses-02_task-roomobjectvideo_run-02_bold_space-fsaverage6.L.func.gii\n",
      "    Extracting confound information from  sub-sid04/ses-02/func/sub-sid04_ses-02_task-roomobjectvideo_run-02_bold_confounds.tsv\n",
      "   D[hem] =  (40962, 460)\n",
      "   np dot regrcoef, reg.t:  (40962, 460)\n",
      "   interecept shape:  (40962, 1)\n"
     ]
    },
    {
     "name": "stderr",
     "output_type": "stream",
     "text": [
      "/jukebox/pkgs/PYGER/0.9.1/lib/python3.7/site-packages/scipy/stats/stats.py:2279: RuntimeWarning: divide by zero encountered in true_divide\n",
      "  np.expand_dims(sstd, axis=axis))\n",
      "/jukebox/pkgs/PYGER/0.9.1/lib/python3.7/site-packages/scipy/stats/stats.py:2279: RuntimeWarning: invalid value encountered in true_divide\n",
      "  np.expand_dims(sstd, axis=axis))\n"
     ]
    },
    {
     "name": "stdout",
     "output_type": "stream",
     "text": [
      "...saving left hem.\n",
      "***sub-sid04***\n",
      "    Processing run  sub-sid04_ses-02_task-roomobjectvideo_run-02_bold_space-fsaverage6.R.func.gii\n",
      "    Loading  /jukebox/norman/rmasis/MemPal/data/BIDS/Norman/Baldassano/10442_vrpalace/derivatives/fmriprep/sub-sid04/ses-02/func/sub-sid04_ses-02_task-roomobjectvideo_run-02_bold_space-fsaverage6.R.func.gii\n",
      "    Extracting confound information from  sub-sid04/ses-02/func/sub-sid04_ses-02_task-roomobjectvideo_run-02_bold_confounds.tsv\n",
      "   D[hem] =  (40962, 460)\n",
      "   np dot regrcoef, reg.t:  (40962, 460)\n",
      "   interecept shape:  (40962, 1)\n"
     ]
    },
    {
     "name": "stderr",
     "output_type": "stream",
     "text": [
      "/jukebox/pkgs/PYGER/0.9.1/lib/python3.7/site-packages/scipy/stats/stats.py:2279: RuntimeWarning: divide by zero encountered in true_divide\n",
      "  np.expand_dims(sstd, axis=axis))\n",
      "/jukebox/pkgs/PYGER/0.9.1/lib/python3.7/site-packages/scipy/stats/stats.py:2279: RuntimeWarning: invalid value encountered in true_divide\n",
      "  np.expand_dims(sstd, axis=axis))\n"
     ]
    },
    {
     "name": "stdout",
     "output_type": "stream",
     "text": [
      "...saving right hem.\n",
      "***sub-sid05***\n",
      "    Processing run  sub-sid05_ses-01_task-pathvideo_bold_space-fsaverage6.L.func.gii\n",
      "    Loading  /jukebox/norman/rmasis/MemPal/data/BIDS/Norman/Baldassano/10442_vrpalace/derivatives/fmriprep/sub-sid05/ses-01/func/sub-sid05_ses-01_task-pathvideo_bold_space-fsaverage6.L.func.gii\n",
      "    Extracting confound information from  sub-sid05/ses-01/func/sub-sid05_ses-01_task-pathvideo_bold_confounds.tsv\n",
      "   D[hem] =  (40962, 595)\n",
      "   np dot regrcoef, reg.t:  (40962, 595)\n",
      "   interecept shape:  (40962, 1)\n"
     ]
    },
    {
     "name": "stderr",
     "output_type": "stream",
     "text": [
      "/jukebox/pkgs/PYGER/0.9.1/lib/python3.7/site-packages/scipy/stats/stats.py:2279: RuntimeWarning: divide by zero encountered in true_divide\n",
      "  np.expand_dims(sstd, axis=axis))\n",
      "/jukebox/pkgs/PYGER/0.9.1/lib/python3.7/site-packages/scipy/stats/stats.py:2279: RuntimeWarning: invalid value encountered in true_divide\n",
      "  np.expand_dims(sstd, axis=axis))\n"
     ]
    },
    {
     "name": "stdout",
     "output_type": "stream",
     "text": [
      "   making new directory ../PythonData2024/ProcessedData//sub-sid05/\n",
      "...saving left hem.\n",
      "***sub-sid05***\n",
      "    Processing run  sub-sid05_ses-01_task-pathvideo_bold_space-fsaverage6.R.func.gii\n",
      "    Loading  /jukebox/norman/rmasis/MemPal/data/BIDS/Norman/Baldassano/10442_vrpalace/derivatives/fmriprep/sub-sid05/ses-01/func/sub-sid05_ses-01_task-pathvideo_bold_space-fsaverage6.R.func.gii\n",
      "    Extracting confound information from  sub-sid05/ses-01/func/sub-sid05_ses-01_task-pathvideo_bold_confounds.tsv\n",
      "   D[hem] =  (40962, 595)\n",
      "   np dot regrcoef, reg.t:  (40962, 595)\n",
      "   interecept shape:  (40962, 1)\n"
     ]
    },
    {
     "name": "stderr",
     "output_type": "stream",
     "text": [
      "/jukebox/pkgs/PYGER/0.9.1/lib/python3.7/site-packages/scipy/stats/stats.py:2279: RuntimeWarning: divide by zero encountered in true_divide\n",
      "  np.expand_dims(sstd, axis=axis))\n",
      "/jukebox/pkgs/PYGER/0.9.1/lib/python3.7/site-packages/scipy/stats/stats.py:2279: RuntimeWarning: invalid value encountered in true_divide\n",
      "  np.expand_dims(sstd, axis=axis))\n"
     ]
    },
    {
     "name": "stdout",
     "output_type": "stream",
     "text": [
      "...saving right hem.\n",
      "***sub-sid05***\n",
      "    Processing run  sub-sid05_ses-01_task-roomvideo_run-01_bold_space-fsaverage6.L.func.gii\n",
      "    Loading  /jukebox/norman/rmasis/MemPal/data/BIDS/Norman/Baldassano/10442_vrpalace/derivatives/fmriprep/sub-sid05/ses-01/func/sub-sid05_ses-01_task-roomvideo_run-01_bold_space-fsaverage6.L.func.gii\n",
      "    Extracting confound information from  sub-sid05/ses-01/func/sub-sid05_ses-01_task-roomvideo_run-01_bold_confounds.tsv\n",
      "   D[hem] =  (40962, 235)\n",
      "   np dot regrcoef, reg.t:  (40962, 235)\n",
      "   interecept shape:  (40962, 1)\n"
     ]
    },
    {
     "name": "stderr",
     "output_type": "stream",
     "text": [
      "/jukebox/pkgs/PYGER/0.9.1/lib/python3.7/site-packages/scipy/stats/stats.py:2279: RuntimeWarning: divide by zero encountered in true_divide\n",
      "  np.expand_dims(sstd, axis=axis))\n",
      "/jukebox/pkgs/PYGER/0.9.1/lib/python3.7/site-packages/scipy/stats/stats.py:2279: RuntimeWarning: invalid value encountered in true_divide\n",
      "  np.expand_dims(sstd, axis=axis))\n"
     ]
    },
    {
     "name": "stdout",
     "output_type": "stream",
     "text": [
      "...saving left hem.\n",
      "***sub-sid05***\n",
      "    Processing run  sub-sid05_ses-01_task-roomvideo_run-01_bold_space-fsaverage6.R.func.gii\n",
      "    Loading  /jukebox/norman/rmasis/MemPal/data/BIDS/Norman/Baldassano/10442_vrpalace/derivatives/fmriprep/sub-sid05/ses-01/func/sub-sid05_ses-01_task-roomvideo_run-01_bold_space-fsaverage6.R.func.gii\n",
      "    Extracting confound information from  sub-sid05/ses-01/func/sub-sid05_ses-01_task-roomvideo_run-01_bold_confounds.tsv\n",
      "   D[hem] =  (40962, 235)\n",
      "   np dot regrcoef, reg.t:  (40962, 235)\n",
      "   interecept shape:  (40962, 1)\n"
     ]
    },
    {
     "name": "stderr",
     "output_type": "stream",
     "text": [
      "/jukebox/pkgs/PYGER/0.9.1/lib/python3.7/site-packages/scipy/stats/stats.py:2279: RuntimeWarning: divide by zero encountered in true_divide\n",
      "  np.expand_dims(sstd, axis=axis))\n",
      "/jukebox/pkgs/PYGER/0.9.1/lib/python3.7/site-packages/scipy/stats/stats.py:2279: RuntimeWarning: invalid value encountered in true_divide\n",
      "  np.expand_dims(sstd, axis=axis))\n"
     ]
    },
    {
     "name": "stdout",
     "output_type": "stream",
     "text": [
      "...saving right hem.\n",
      "***sub-sid05***\n",
      "    Processing run  sub-sid05_ses-01_task-roomvideo_run-02_bold_space-fsaverage6.L.func.gii\n",
      "    Loading  /jukebox/norman/rmasis/MemPal/data/BIDS/Norman/Baldassano/10442_vrpalace/derivatives/fmriprep/sub-sid05/ses-01/func/sub-sid05_ses-01_task-roomvideo_run-02_bold_space-fsaverage6.L.func.gii\n",
      "    Extracting confound information from  sub-sid05/ses-01/func/sub-sid05_ses-01_task-roomvideo_run-02_bold_confounds.tsv\n",
      "   D[hem] =  (40962, 235)\n",
      "   np dot regrcoef, reg.t:  (40962, 235)\n",
      "   interecept shape:  (40962, 1)\n"
     ]
    },
    {
     "name": "stderr",
     "output_type": "stream",
     "text": [
      "/jukebox/pkgs/PYGER/0.9.1/lib/python3.7/site-packages/scipy/stats/stats.py:2279: RuntimeWarning: divide by zero encountered in true_divide\n",
      "  np.expand_dims(sstd, axis=axis))\n",
      "/jukebox/pkgs/PYGER/0.9.1/lib/python3.7/site-packages/scipy/stats/stats.py:2279: RuntimeWarning: invalid value encountered in true_divide\n",
      "  np.expand_dims(sstd, axis=axis))\n"
     ]
    },
    {
     "name": "stdout",
     "output_type": "stream",
     "text": [
      "...saving left hem.\n",
      "***sub-sid05***\n",
      "    Processing run  sub-sid05_ses-01_task-roomvideo_run-02_bold_space-fsaverage6.R.func.gii\n",
      "    Loading  /jukebox/norman/rmasis/MemPal/data/BIDS/Norman/Baldassano/10442_vrpalace/derivatives/fmriprep/sub-sid05/ses-01/func/sub-sid05_ses-01_task-roomvideo_run-02_bold_space-fsaverage6.R.func.gii\n",
      "    Extracting confound information from  sub-sid05/ses-01/func/sub-sid05_ses-01_task-roomvideo_run-02_bold_confounds.tsv\n",
      "   D[hem] =  (40962, 235)\n",
      "   np dot regrcoef, reg.t:  (40962, 235)\n",
      "   interecept shape:  (40962, 1)\n"
     ]
    },
    {
     "name": "stderr",
     "output_type": "stream",
     "text": [
      "/jukebox/pkgs/PYGER/0.9.1/lib/python3.7/site-packages/scipy/stats/stats.py:2279: RuntimeWarning: divide by zero encountered in true_divide\n",
      "  np.expand_dims(sstd, axis=axis))\n",
      "/jukebox/pkgs/PYGER/0.9.1/lib/python3.7/site-packages/scipy/stats/stats.py:2279: RuntimeWarning: invalid value encountered in true_divide\n",
      "  np.expand_dims(sstd, axis=axis))\n"
     ]
    },
    {
     "name": "stdout",
     "output_type": "stream",
     "text": [
      "...saving right hem.\n",
      "***sub-sid05***\n",
      "    Processing run  sub-sid05_ses-02_task-pathvideo_bold_space-fsaverage6.L.func.gii\n",
      "    Loading  /jukebox/norman/rmasis/MemPal/data/BIDS/Norman/Baldassano/10442_vrpalace/derivatives/fmriprep/sub-sid05/ses-02/func/sub-sid05_ses-02_task-pathvideo_bold_space-fsaverage6.L.func.gii\n",
      "    Extracting confound information from  sub-sid05/ses-02/func/sub-sid05_ses-02_task-pathvideo_bold_confounds.tsv\n",
      "   D[hem] =  (40962, 595)\n",
      "   np dot regrcoef, reg.t:  (40962, 595)\n",
      "   interecept shape:  (40962, 1)\n"
     ]
    },
    {
     "name": "stderr",
     "output_type": "stream",
     "text": [
      "/jukebox/pkgs/PYGER/0.9.1/lib/python3.7/site-packages/scipy/stats/stats.py:2279: RuntimeWarning: divide by zero encountered in true_divide\n",
      "  np.expand_dims(sstd, axis=axis))\n",
      "/jukebox/pkgs/PYGER/0.9.1/lib/python3.7/site-packages/scipy/stats/stats.py:2279: RuntimeWarning: invalid value encountered in true_divide\n",
      "  np.expand_dims(sstd, axis=axis))\n"
     ]
    },
    {
     "name": "stdout",
     "output_type": "stream",
     "text": [
      "...saving left hem.\n",
      "***sub-sid05***\n",
      "    Processing run  sub-sid05_ses-02_task-pathvideo_bold_space-fsaverage6.R.func.gii\n",
      "    Loading  /jukebox/norman/rmasis/MemPal/data/BIDS/Norman/Baldassano/10442_vrpalace/derivatives/fmriprep/sub-sid05/ses-02/func/sub-sid05_ses-02_task-pathvideo_bold_space-fsaverage6.R.func.gii\n",
      "    Extracting confound information from  sub-sid05/ses-02/func/sub-sid05_ses-02_task-pathvideo_bold_confounds.tsv\n",
      "   D[hem] =  (40962, 595)\n",
      "   np dot regrcoef, reg.t:  (40962, 595)\n",
      "   interecept shape:  (40962, 1)\n"
     ]
    },
    {
     "name": "stderr",
     "output_type": "stream",
     "text": [
      "/jukebox/pkgs/PYGER/0.9.1/lib/python3.7/site-packages/scipy/stats/stats.py:2279: RuntimeWarning: divide by zero encountered in true_divide\n",
      "  np.expand_dims(sstd, axis=axis))\n",
      "/jukebox/pkgs/PYGER/0.9.1/lib/python3.7/site-packages/scipy/stats/stats.py:2279: RuntimeWarning: invalid value encountered in true_divide\n",
      "  np.expand_dims(sstd, axis=axis))\n"
     ]
    },
    {
     "name": "stdout",
     "output_type": "stream",
     "text": [
      "...saving right hem.\n",
      "***sub-sid05***\n",
      "    Processing run  sub-sid05_ses-02_task-recall_bold_space-fsaverage6.L.func.gii\n",
      "    Loading  /jukebox/norman/rmasis/MemPal/data/BIDS/Norman/Baldassano/10442_vrpalace/derivatives/fmriprep/sub-sid05/ses-02/func/sub-sid05_ses-02_task-recall_bold_space-fsaverage6.L.func.gii\n",
      "    Extracting confound information from  sub-sid05/ses-02/func/sub-sid05_ses-02_task-recall_bold_confounds.tsv\n",
      "   D[hem] =  (40962, 849)\n",
      "   np dot regrcoef, reg.t:  (40962, 849)\n",
      "   interecept shape:  (40962, 1)\n"
     ]
    },
    {
     "name": "stderr",
     "output_type": "stream",
     "text": [
      "/jukebox/pkgs/PYGER/0.9.1/lib/python3.7/site-packages/scipy/stats/stats.py:2279: RuntimeWarning: divide by zero encountered in true_divide\n",
      "  np.expand_dims(sstd, axis=axis))\n",
      "/jukebox/pkgs/PYGER/0.9.1/lib/python3.7/site-packages/scipy/stats/stats.py:2279: RuntimeWarning: invalid value encountered in true_divide\n",
      "  np.expand_dims(sstd, axis=axis))\n"
     ]
    },
    {
     "name": "stdout",
     "output_type": "stream",
     "text": [
      "...saving left hem.\n",
      "***sub-sid05***\n",
      "    Processing run  sub-sid05_ses-02_task-recall_bold_space-fsaverage6.R.func.gii\n",
      "    Loading  /jukebox/norman/rmasis/MemPal/data/BIDS/Norman/Baldassano/10442_vrpalace/derivatives/fmriprep/sub-sid05/ses-02/func/sub-sid05_ses-02_task-recall_bold_space-fsaverage6.R.func.gii\n",
      "    Extracting confound information from  sub-sid05/ses-02/func/sub-sid05_ses-02_task-recall_bold_confounds.tsv\n",
      "   D[hem] =  (40962, 849)\n",
      "   np dot regrcoef, reg.t:  (40962, 849)\n",
      "   interecept shape:  (40962, 1)\n"
     ]
    },
    {
     "name": "stderr",
     "output_type": "stream",
     "text": [
      "/jukebox/pkgs/PYGER/0.9.1/lib/python3.7/site-packages/scipy/stats/stats.py:2279: RuntimeWarning: divide by zero encountered in true_divide\n",
      "  np.expand_dims(sstd, axis=axis))\n",
      "/jukebox/pkgs/PYGER/0.9.1/lib/python3.7/site-packages/scipy/stats/stats.py:2279: RuntimeWarning: invalid value encountered in true_divide\n",
      "  np.expand_dims(sstd, axis=axis))\n"
     ]
    },
    {
     "name": "stdout",
     "output_type": "stream",
     "text": [
      "...saving right hem.\n",
      "***sub-sid05***\n",
      "    Processing run  sub-sid05_ses-02_task-roomobjectvideo_run-01_bold_space-fsaverage6.L.func.gii\n",
      "    Loading  /jukebox/norman/rmasis/MemPal/data/BIDS/Norman/Baldassano/10442_vrpalace/derivatives/fmriprep/sub-sid05/ses-02/func/sub-sid05_ses-02_task-roomobjectvideo_run-01_bold_space-fsaverage6.L.func.gii\n",
      "    Extracting confound information from  sub-sid05/ses-02/func/sub-sid05_ses-02_task-roomobjectvideo_run-01_bold_confounds.tsv\n",
      "   D[hem] =  (40962, 460)\n",
      "   np dot regrcoef, reg.t:  (40962, 460)\n",
      "   interecept shape:  (40962, 1)\n"
     ]
    },
    {
     "name": "stderr",
     "output_type": "stream",
     "text": [
      "/jukebox/pkgs/PYGER/0.9.1/lib/python3.7/site-packages/scipy/stats/stats.py:2279: RuntimeWarning: divide by zero encountered in true_divide\n",
      "  np.expand_dims(sstd, axis=axis))\n",
      "/jukebox/pkgs/PYGER/0.9.1/lib/python3.7/site-packages/scipy/stats/stats.py:2279: RuntimeWarning: invalid value encountered in true_divide\n",
      "  np.expand_dims(sstd, axis=axis))\n"
     ]
    },
    {
     "name": "stdout",
     "output_type": "stream",
     "text": [
      "...saving left hem.\n",
      "***sub-sid05***\n",
      "    Processing run  sub-sid05_ses-02_task-roomobjectvideo_run-01_bold_space-fsaverage6.R.func.gii\n",
      "    Loading  /jukebox/norman/rmasis/MemPal/data/BIDS/Norman/Baldassano/10442_vrpalace/derivatives/fmriprep/sub-sid05/ses-02/func/sub-sid05_ses-02_task-roomobjectvideo_run-01_bold_space-fsaverage6.R.func.gii\n",
      "    Extracting confound information from  sub-sid05/ses-02/func/sub-sid05_ses-02_task-roomobjectvideo_run-01_bold_confounds.tsv\n",
      "   D[hem] =  (40962, 460)\n",
      "   np dot regrcoef, reg.t:  (40962, 460)\n",
      "   interecept shape:  (40962, 1)\n"
     ]
    },
    {
     "name": "stderr",
     "output_type": "stream",
     "text": [
      "/jukebox/pkgs/PYGER/0.9.1/lib/python3.7/site-packages/scipy/stats/stats.py:2279: RuntimeWarning: divide by zero encountered in true_divide\n",
      "  np.expand_dims(sstd, axis=axis))\n",
      "/jukebox/pkgs/PYGER/0.9.1/lib/python3.7/site-packages/scipy/stats/stats.py:2279: RuntimeWarning: invalid value encountered in true_divide\n",
      "  np.expand_dims(sstd, axis=axis))\n"
     ]
    },
    {
     "name": "stdout",
     "output_type": "stream",
     "text": [
      "...saving right hem.\n",
      "***sub-sid05***\n",
      "    Processing run  sub-sid05_ses-02_task-roomobjectvideo_run-02_bold_space-fsaverage6.L.func.gii\n",
      "    Loading  /jukebox/norman/rmasis/MemPal/data/BIDS/Norman/Baldassano/10442_vrpalace/derivatives/fmriprep/sub-sid05/ses-02/func/sub-sid05_ses-02_task-roomobjectvideo_run-02_bold_space-fsaverage6.L.func.gii\n",
      "    Extracting confound information from  sub-sid05/ses-02/func/sub-sid05_ses-02_task-roomobjectvideo_run-02_bold_confounds.tsv\n",
      "   D[hem] =  (40962, 460)\n",
      "   np dot regrcoef, reg.t:  (40962, 460)\n",
      "   interecept shape:  (40962, 1)\n"
     ]
    },
    {
     "name": "stderr",
     "output_type": "stream",
     "text": [
      "/jukebox/pkgs/PYGER/0.9.1/lib/python3.7/site-packages/scipy/stats/stats.py:2279: RuntimeWarning: divide by zero encountered in true_divide\n",
      "  np.expand_dims(sstd, axis=axis))\n",
      "/jukebox/pkgs/PYGER/0.9.1/lib/python3.7/site-packages/scipy/stats/stats.py:2279: RuntimeWarning: invalid value encountered in true_divide\n",
      "  np.expand_dims(sstd, axis=axis))\n"
     ]
    },
    {
     "name": "stdout",
     "output_type": "stream",
     "text": [
      "...saving left hem.\n",
      "***sub-sid05***\n",
      "    Processing run  sub-sid05_ses-02_task-roomobjectvideo_run-02_bold_space-fsaverage6.R.func.gii\n",
      "    Loading  /jukebox/norman/rmasis/MemPal/data/BIDS/Norman/Baldassano/10442_vrpalace/derivatives/fmriprep/sub-sid05/ses-02/func/sub-sid05_ses-02_task-roomobjectvideo_run-02_bold_space-fsaverage6.R.func.gii\n",
      "    Extracting confound information from  sub-sid05/ses-02/func/sub-sid05_ses-02_task-roomobjectvideo_run-02_bold_confounds.tsv\n",
      "   D[hem] =  (40962, 460)\n",
      "   np dot regrcoef, reg.t:  (40962, 460)\n",
      "   interecept shape:  (40962, 1)\n"
     ]
    },
    {
     "name": "stderr",
     "output_type": "stream",
     "text": [
      "/jukebox/pkgs/PYGER/0.9.1/lib/python3.7/site-packages/scipy/stats/stats.py:2279: RuntimeWarning: divide by zero encountered in true_divide\n",
      "  np.expand_dims(sstd, axis=axis))\n",
      "/jukebox/pkgs/PYGER/0.9.1/lib/python3.7/site-packages/scipy/stats/stats.py:2279: RuntimeWarning: invalid value encountered in true_divide\n",
      "  np.expand_dims(sstd, axis=axis))\n"
     ]
    },
    {
     "name": "stdout",
     "output_type": "stream",
     "text": [
      "...saving right hem.\n",
      "***sub-sid06***\n",
      "    Processing run  sub-sid06_ses-01_task-pathvideo_bold_space-fsaverage6.L.func.gii\n",
      "    Loading  /jukebox/norman/rmasis/MemPal/data/BIDS/Norman/Baldassano/10442_vrpalace/derivatives/fmriprep/sub-sid06/ses-01/func/sub-sid06_ses-01_task-pathvideo_bold_space-fsaverage6.L.func.gii\n",
      "    Extracting confound information from  sub-sid06/ses-01/func/sub-sid06_ses-01_task-pathvideo_bold_confounds.tsv\n",
      "   D[hem] =  (40962, 595)\n",
      "   np dot regrcoef, reg.t:  (40962, 595)\n",
      "   interecept shape:  (40962, 1)\n"
     ]
    },
    {
     "name": "stderr",
     "output_type": "stream",
     "text": [
      "/jukebox/pkgs/PYGER/0.9.1/lib/python3.7/site-packages/scipy/stats/stats.py:2279: RuntimeWarning: divide by zero encountered in true_divide\n",
      "  np.expand_dims(sstd, axis=axis))\n",
      "/jukebox/pkgs/PYGER/0.9.1/lib/python3.7/site-packages/scipy/stats/stats.py:2279: RuntimeWarning: invalid value encountered in true_divide\n",
      "  np.expand_dims(sstd, axis=axis))\n"
     ]
    },
    {
     "name": "stdout",
     "output_type": "stream",
     "text": [
      "   making new directory ../PythonData2024/ProcessedData//sub-sid06/\n",
      "...saving left hem.\n",
      "***sub-sid06***\n",
      "    Processing run  sub-sid06_ses-01_task-pathvideo_bold_space-fsaverage6.R.func.gii\n",
      "    Loading  /jukebox/norman/rmasis/MemPal/data/BIDS/Norman/Baldassano/10442_vrpalace/derivatives/fmriprep/sub-sid06/ses-01/func/sub-sid06_ses-01_task-pathvideo_bold_space-fsaverage6.R.func.gii\n",
      "    Extracting confound information from  sub-sid06/ses-01/func/sub-sid06_ses-01_task-pathvideo_bold_confounds.tsv\n",
      "   D[hem] =  (40962, 595)\n",
      "   np dot regrcoef, reg.t:  (40962, 595)\n",
      "   interecept shape:  (40962, 1)\n"
     ]
    },
    {
     "name": "stderr",
     "output_type": "stream",
     "text": [
      "/jukebox/pkgs/PYGER/0.9.1/lib/python3.7/site-packages/scipy/stats/stats.py:2279: RuntimeWarning: divide by zero encountered in true_divide\n",
      "  np.expand_dims(sstd, axis=axis))\n",
      "/jukebox/pkgs/PYGER/0.9.1/lib/python3.7/site-packages/scipy/stats/stats.py:2279: RuntimeWarning: invalid value encountered in true_divide\n",
      "  np.expand_dims(sstd, axis=axis))\n"
     ]
    },
    {
     "name": "stdout",
     "output_type": "stream",
     "text": [
      "...saving right hem.\n",
      "***sub-sid06***\n",
      "    Processing run  sub-sid06_ses-01_task-roomvideo_run-01_bold_space-fsaverage6.L.func.gii\n",
      "    Loading  /jukebox/norman/rmasis/MemPal/data/BIDS/Norman/Baldassano/10442_vrpalace/derivatives/fmriprep/sub-sid06/ses-01/func/sub-sid06_ses-01_task-roomvideo_run-01_bold_space-fsaverage6.L.func.gii\n",
      "    Extracting confound information from  sub-sid06/ses-01/func/sub-sid06_ses-01_task-roomvideo_run-01_bold_confounds.tsv\n",
      "   D[hem] =  (40962, 235)\n",
      "   np dot regrcoef, reg.t:  (40962, 235)\n",
      "   interecept shape:  (40962, 1)\n"
     ]
    },
    {
     "name": "stderr",
     "output_type": "stream",
     "text": [
      "/jukebox/pkgs/PYGER/0.9.1/lib/python3.7/site-packages/scipy/stats/stats.py:2279: RuntimeWarning: divide by zero encountered in true_divide\n",
      "  np.expand_dims(sstd, axis=axis))\n",
      "/jukebox/pkgs/PYGER/0.9.1/lib/python3.7/site-packages/scipy/stats/stats.py:2279: RuntimeWarning: invalid value encountered in true_divide\n",
      "  np.expand_dims(sstd, axis=axis))\n"
     ]
    },
    {
     "name": "stdout",
     "output_type": "stream",
     "text": [
      "...saving left hem.\n",
      "***sub-sid06***\n",
      "    Processing run  sub-sid06_ses-01_task-roomvideo_run-01_bold_space-fsaverage6.R.func.gii\n",
      "    Loading  /jukebox/norman/rmasis/MemPal/data/BIDS/Norman/Baldassano/10442_vrpalace/derivatives/fmriprep/sub-sid06/ses-01/func/sub-sid06_ses-01_task-roomvideo_run-01_bold_space-fsaverage6.R.func.gii\n",
      "    Extracting confound information from  sub-sid06/ses-01/func/sub-sid06_ses-01_task-roomvideo_run-01_bold_confounds.tsv\n",
      "   D[hem] =  (40962, 235)\n",
      "   np dot regrcoef, reg.t:  (40962, 235)\n",
      "   interecept shape:  (40962, 1)\n"
     ]
    },
    {
     "name": "stderr",
     "output_type": "stream",
     "text": [
      "/jukebox/pkgs/PYGER/0.9.1/lib/python3.7/site-packages/scipy/stats/stats.py:2279: RuntimeWarning: divide by zero encountered in true_divide\n",
      "  np.expand_dims(sstd, axis=axis))\n",
      "/jukebox/pkgs/PYGER/0.9.1/lib/python3.7/site-packages/scipy/stats/stats.py:2279: RuntimeWarning: invalid value encountered in true_divide\n",
      "  np.expand_dims(sstd, axis=axis))\n"
     ]
    },
    {
     "name": "stdout",
     "output_type": "stream",
     "text": [
      "...saving right hem.\n",
      "***sub-sid06***\n",
      "    Processing run  sub-sid06_ses-01_task-roomvideo_run-02_bold_space-fsaverage6.L.func.gii\n",
      "    Loading  /jukebox/norman/rmasis/MemPal/data/BIDS/Norman/Baldassano/10442_vrpalace/derivatives/fmriprep/sub-sid06/ses-01/func/sub-sid06_ses-01_task-roomvideo_run-02_bold_space-fsaverage6.L.func.gii\n",
      "    Extracting confound information from  sub-sid06/ses-01/func/sub-sid06_ses-01_task-roomvideo_run-02_bold_confounds.tsv\n",
      "   D[hem] =  (40962, 235)\n",
      "   np dot regrcoef, reg.t:  (40962, 235)\n",
      "   interecept shape:  (40962, 1)\n"
     ]
    },
    {
     "name": "stderr",
     "output_type": "stream",
     "text": [
      "/jukebox/pkgs/PYGER/0.9.1/lib/python3.7/site-packages/scipy/stats/stats.py:2279: RuntimeWarning: divide by zero encountered in true_divide\n",
      "  np.expand_dims(sstd, axis=axis))\n",
      "/jukebox/pkgs/PYGER/0.9.1/lib/python3.7/site-packages/scipy/stats/stats.py:2279: RuntimeWarning: invalid value encountered in true_divide\n",
      "  np.expand_dims(sstd, axis=axis))\n"
     ]
    },
    {
     "name": "stdout",
     "output_type": "stream",
     "text": [
      "...saving left hem.\n",
      "***sub-sid06***\n",
      "    Processing run  sub-sid06_ses-01_task-roomvideo_run-02_bold_space-fsaverage6.R.func.gii\n",
      "    Loading  /jukebox/norman/rmasis/MemPal/data/BIDS/Norman/Baldassano/10442_vrpalace/derivatives/fmriprep/sub-sid06/ses-01/func/sub-sid06_ses-01_task-roomvideo_run-02_bold_space-fsaverage6.R.func.gii\n",
      "    Extracting confound information from  sub-sid06/ses-01/func/sub-sid06_ses-01_task-roomvideo_run-02_bold_confounds.tsv\n",
      "   D[hem] =  (40962, 235)\n",
      "   np dot regrcoef, reg.t:  (40962, 235)\n",
      "   interecept shape:  (40962, 1)\n"
     ]
    },
    {
     "name": "stderr",
     "output_type": "stream",
     "text": [
      "/jukebox/pkgs/PYGER/0.9.1/lib/python3.7/site-packages/scipy/stats/stats.py:2279: RuntimeWarning: divide by zero encountered in true_divide\n",
      "  np.expand_dims(sstd, axis=axis))\n",
      "/jukebox/pkgs/PYGER/0.9.1/lib/python3.7/site-packages/scipy/stats/stats.py:2279: RuntimeWarning: invalid value encountered in true_divide\n",
      "  np.expand_dims(sstd, axis=axis))\n"
     ]
    },
    {
     "name": "stdout",
     "output_type": "stream",
     "text": [
      "...saving right hem.\n",
      "***sub-sid06***\n",
      "    Processing run  sub-sid06_ses-02_task-pathvideo_bold_space-fsaverage6.L.func.gii\n",
      "    Loading  /jukebox/norman/rmasis/MemPal/data/BIDS/Norman/Baldassano/10442_vrpalace/derivatives/fmriprep/sub-sid06/ses-02/func/sub-sid06_ses-02_task-pathvideo_bold_space-fsaverage6.L.func.gii\n",
      "    Extracting confound information from  sub-sid06/ses-02/func/sub-sid06_ses-02_task-pathvideo_bold_confounds.tsv\n",
      "   D[hem] =  (40962, 595)\n",
      "   np dot regrcoef, reg.t:  (40962, 595)\n",
      "   interecept shape:  (40962, 1)\n"
     ]
    },
    {
     "name": "stderr",
     "output_type": "stream",
     "text": [
      "/jukebox/pkgs/PYGER/0.9.1/lib/python3.7/site-packages/scipy/stats/stats.py:2279: RuntimeWarning: divide by zero encountered in true_divide\n",
      "  np.expand_dims(sstd, axis=axis))\n",
      "/jukebox/pkgs/PYGER/0.9.1/lib/python3.7/site-packages/scipy/stats/stats.py:2279: RuntimeWarning: invalid value encountered in true_divide\n",
      "  np.expand_dims(sstd, axis=axis))\n"
     ]
    },
    {
     "name": "stdout",
     "output_type": "stream",
     "text": [
      "...saving left hem.\n",
      "***sub-sid06***\n",
      "    Processing run  sub-sid06_ses-02_task-pathvideo_bold_space-fsaverage6.R.func.gii\n",
      "    Loading  /jukebox/norman/rmasis/MemPal/data/BIDS/Norman/Baldassano/10442_vrpalace/derivatives/fmriprep/sub-sid06/ses-02/func/sub-sid06_ses-02_task-pathvideo_bold_space-fsaverage6.R.func.gii\n",
      "    Extracting confound information from  sub-sid06/ses-02/func/sub-sid06_ses-02_task-pathvideo_bold_confounds.tsv\n",
      "   D[hem] =  (40962, 595)\n",
      "   np dot regrcoef, reg.t:  (40962, 595)\n",
      "   interecept shape:  (40962, 1)\n"
     ]
    },
    {
     "name": "stderr",
     "output_type": "stream",
     "text": [
      "/jukebox/pkgs/PYGER/0.9.1/lib/python3.7/site-packages/scipy/stats/stats.py:2279: RuntimeWarning: divide by zero encountered in true_divide\n",
      "  np.expand_dims(sstd, axis=axis))\n",
      "/jukebox/pkgs/PYGER/0.9.1/lib/python3.7/site-packages/scipy/stats/stats.py:2279: RuntimeWarning: invalid value encountered in true_divide\n",
      "  np.expand_dims(sstd, axis=axis))\n"
     ]
    },
    {
     "name": "stdout",
     "output_type": "stream",
     "text": [
      "...saving right hem.\n",
      "***sub-sid06***\n",
      "    Processing run  sub-sid06_ses-02_task-recall_bold_space-fsaverage6.L.func.gii\n",
      "    Loading  /jukebox/norman/rmasis/MemPal/data/BIDS/Norman/Baldassano/10442_vrpalace/derivatives/fmriprep/sub-sid06/ses-02/func/sub-sid06_ses-02_task-recall_bold_space-fsaverage6.L.func.gii\n",
      "    Extracting confound information from  sub-sid06/ses-02/func/sub-sid06_ses-02_task-recall_bold_confounds.tsv\n",
      "   D[hem] =  (40962, 1463)\n",
      "   np dot regrcoef, reg.t:  (40962, 1463)\n",
      "   interecept shape:  (40962, 1)\n"
     ]
    },
    {
     "name": "stderr",
     "output_type": "stream",
     "text": [
      "/jukebox/pkgs/PYGER/0.9.1/lib/python3.7/site-packages/scipy/stats/stats.py:2279: RuntimeWarning: divide by zero encountered in true_divide\n",
      "  np.expand_dims(sstd, axis=axis))\n",
      "/jukebox/pkgs/PYGER/0.9.1/lib/python3.7/site-packages/scipy/stats/stats.py:2279: RuntimeWarning: invalid value encountered in true_divide\n",
      "  np.expand_dims(sstd, axis=axis))\n"
     ]
    },
    {
     "name": "stdout",
     "output_type": "stream",
     "text": [
      "...saving left hem.\n",
      "***sub-sid06***\n",
      "    Processing run  sub-sid06_ses-02_task-recall_bold_space-fsaverage6.R.func.gii\n",
      "    Loading  /jukebox/norman/rmasis/MemPal/data/BIDS/Norman/Baldassano/10442_vrpalace/derivatives/fmriprep/sub-sid06/ses-02/func/sub-sid06_ses-02_task-recall_bold_space-fsaverage6.R.func.gii\n",
      "    Extracting confound information from  sub-sid06/ses-02/func/sub-sid06_ses-02_task-recall_bold_confounds.tsv\n",
      "   D[hem] =  (40962, 1463)\n",
      "   np dot regrcoef, reg.t:  (40962, 1463)\n",
      "   interecept shape:  (40962, 1)\n"
     ]
    },
    {
     "name": "stderr",
     "output_type": "stream",
     "text": [
      "/jukebox/pkgs/PYGER/0.9.1/lib/python3.7/site-packages/scipy/stats/stats.py:2279: RuntimeWarning: divide by zero encountered in true_divide\n",
      "  np.expand_dims(sstd, axis=axis))\n",
      "/jukebox/pkgs/PYGER/0.9.1/lib/python3.7/site-packages/scipy/stats/stats.py:2279: RuntimeWarning: invalid value encountered in true_divide\n",
      "  np.expand_dims(sstd, axis=axis))\n"
     ]
    },
    {
     "name": "stdout",
     "output_type": "stream",
     "text": [
      "...saving right hem.\n",
      "***sub-sid06***\n",
      "    Processing run  sub-sid06_ses-02_task-roomobjectvideo_run-01_bold_space-fsaverage6.L.func.gii\n",
      "    Loading  /jukebox/norman/rmasis/MemPal/data/BIDS/Norman/Baldassano/10442_vrpalace/derivatives/fmriprep/sub-sid06/ses-02/func/sub-sid06_ses-02_task-roomobjectvideo_run-01_bold_space-fsaverage6.L.func.gii\n",
      "    Extracting confound information from  sub-sid06/ses-02/func/sub-sid06_ses-02_task-roomobjectvideo_run-01_bold_confounds.tsv\n",
      "   D[hem] =  (40962, 460)\n",
      "   np dot regrcoef, reg.t:  (40962, 460)\n",
      "   interecept shape:  (40962, 1)\n"
     ]
    },
    {
     "name": "stderr",
     "output_type": "stream",
     "text": [
      "/jukebox/pkgs/PYGER/0.9.1/lib/python3.7/site-packages/scipy/stats/stats.py:2279: RuntimeWarning: divide by zero encountered in true_divide\n",
      "  np.expand_dims(sstd, axis=axis))\n",
      "/jukebox/pkgs/PYGER/0.9.1/lib/python3.7/site-packages/scipy/stats/stats.py:2279: RuntimeWarning: invalid value encountered in true_divide\n",
      "  np.expand_dims(sstd, axis=axis))\n"
     ]
    },
    {
     "name": "stdout",
     "output_type": "stream",
     "text": [
      "...saving left hem.\n",
      "***sub-sid06***\n",
      "    Processing run  sub-sid06_ses-02_task-roomobjectvideo_run-01_bold_space-fsaverage6.R.func.gii\n",
      "    Loading  /jukebox/norman/rmasis/MemPal/data/BIDS/Norman/Baldassano/10442_vrpalace/derivatives/fmriprep/sub-sid06/ses-02/func/sub-sid06_ses-02_task-roomobjectvideo_run-01_bold_space-fsaverage6.R.func.gii\n",
      "    Extracting confound information from  sub-sid06/ses-02/func/sub-sid06_ses-02_task-roomobjectvideo_run-01_bold_confounds.tsv\n",
      "   D[hem] =  (40962, 460)\n",
      "   np dot regrcoef, reg.t:  (40962, 460)\n",
      "   interecept shape:  (40962, 1)\n"
     ]
    },
    {
     "name": "stderr",
     "output_type": "stream",
     "text": [
      "/jukebox/pkgs/PYGER/0.9.1/lib/python3.7/site-packages/scipy/stats/stats.py:2279: RuntimeWarning: divide by zero encountered in true_divide\n",
      "  np.expand_dims(sstd, axis=axis))\n",
      "/jukebox/pkgs/PYGER/0.9.1/lib/python3.7/site-packages/scipy/stats/stats.py:2279: RuntimeWarning: invalid value encountered in true_divide\n",
      "  np.expand_dims(sstd, axis=axis))\n"
     ]
    },
    {
     "name": "stdout",
     "output_type": "stream",
     "text": [
      "...saving right hem.\n",
      "***sub-sid06***\n",
      "    Processing run  sub-sid06_ses-02_task-roomobjectvideo_run-02_bold_space-fsaverage6.L.func.gii\n",
      "    Loading  /jukebox/norman/rmasis/MemPal/data/BIDS/Norman/Baldassano/10442_vrpalace/derivatives/fmriprep/sub-sid06/ses-02/func/sub-sid06_ses-02_task-roomobjectvideo_run-02_bold_space-fsaverage6.L.func.gii\n",
      "    Extracting confound information from  sub-sid06/ses-02/func/sub-sid06_ses-02_task-roomobjectvideo_run-02_bold_confounds.tsv\n",
      "   D[hem] =  (40962, 460)\n",
      "   np dot regrcoef, reg.t:  (40962, 460)\n",
      "   interecept shape:  (40962, 1)\n"
     ]
    },
    {
     "name": "stderr",
     "output_type": "stream",
     "text": [
      "/jukebox/pkgs/PYGER/0.9.1/lib/python3.7/site-packages/scipy/stats/stats.py:2279: RuntimeWarning: divide by zero encountered in true_divide\n",
      "  np.expand_dims(sstd, axis=axis))\n",
      "/jukebox/pkgs/PYGER/0.9.1/lib/python3.7/site-packages/scipy/stats/stats.py:2279: RuntimeWarning: invalid value encountered in true_divide\n",
      "  np.expand_dims(sstd, axis=axis))\n"
     ]
    },
    {
     "name": "stdout",
     "output_type": "stream",
     "text": [
      "...saving left hem.\n",
      "***sub-sid06***\n",
      "    Processing run  sub-sid06_ses-02_task-roomobjectvideo_run-02_bold_space-fsaverage6.R.func.gii\n",
      "    Loading  /jukebox/norman/rmasis/MemPal/data/BIDS/Norman/Baldassano/10442_vrpalace/derivatives/fmriprep/sub-sid06/ses-02/func/sub-sid06_ses-02_task-roomobjectvideo_run-02_bold_space-fsaverage6.R.func.gii\n",
      "    Extracting confound information from  sub-sid06/ses-02/func/sub-sid06_ses-02_task-roomobjectvideo_run-02_bold_confounds.tsv\n",
      "   D[hem] =  (40962, 460)\n",
      "   np dot regrcoef, reg.t:  (40962, 460)\n",
      "   interecept shape:  (40962, 1)\n"
     ]
    },
    {
     "name": "stderr",
     "output_type": "stream",
     "text": [
      "/jukebox/pkgs/PYGER/0.9.1/lib/python3.7/site-packages/scipy/stats/stats.py:2279: RuntimeWarning: divide by zero encountered in true_divide\n",
      "  np.expand_dims(sstd, axis=axis))\n",
      "/jukebox/pkgs/PYGER/0.9.1/lib/python3.7/site-packages/scipy/stats/stats.py:2279: RuntimeWarning: invalid value encountered in true_divide\n",
      "  np.expand_dims(sstd, axis=axis))\n"
     ]
    },
    {
     "name": "stdout",
     "output_type": "stream",
     "text": [
      "...saving right hem.\n",
      "***sub-sid07***\n",
      "    Processing run  sub-sid07_ses-01_task-pathvideo_bold_space-fsaverage6.L.func.gii\n",
      "    Loading  /jukebox/norman/rmasis/MemPal/data/BIDS/Norman/Baldassano/10442_vrpalace/derivatives/fmriprep/sub-sid07/ses-01/func/sub-sid07_ses-01_task-pathvideo_bold_space-fsaverage6.L.func.gii\n",
      "    Extracting confound information from  sub-sid07/ses-01/func/sub-sid07_ses-01_task-pathvideo_bold_confounds.tsv\n",
      "   D[hem] =  (40962, 595)\n",
      "   np dot regrcoef, reg.t:  (40962, 595)\n",
      "   interecept shape:  (40962, 1)\n"
     ]
    },
    {
     "name": "stderr",
     "output_type": "stream",
     "text": [
      "/jukebox/pkgs/PYGER/0.9.1/lib/python3.7/site-packages/scipy/stats/stats.py:2279: RuntimeWarning: divide by zero encountered in true_divide\n",
      "  np.expand_dims(sstd, axis=axis))\n",
      "/jukebox/pkgs/PYGER/0.9.1/lib/python3.7/site-packages/scipy/stats/stats.py:2279: RuntimeWarning: invalid value encountered in true_divide\n",
      "  np.expand_dims(sstd, axis=axis))\n"
     ]
    },
    {
     "name": "stdout",
     "output_type": "stream",
     "text": [
      "   making new directory ../PythonData2024/ProcessedData//sub-sid07/\n",
      "...saving left hem.\n",
      "***sub-sid07***\n",
      "    Processing run  sub-sid07_ses-01_task-pathvideo_bold_space-fsaverage6.R.func.gii\n",
      "    Loading  /jukebox/norman/rmasis/MemPal/data/BIDS/Norman/Baldassano/10442_vrpalace/derivatives/fmriprep/sub-sid07/ses-01/func/sub-sid07_ses-01_task-pathvideo_bold_space-fsaverage6.R.func.gii\n",
      "    Extracting confound information from  sub-sid07/ses-01/func/sub-sid07_ses-01_task-pathvideo_bold_confounds.tsv\n",
      "   D[hem] =  (40962, 595)\n",
      "   np dot regrcoef, reg.t:  (40962, 595)\n",
      "   interecept shape:  (40962, 1)\n"
     ]
    },
    {
     "name": "stderr",
     "output_type": "stream",
     "text": [
      "/jukebox/pkgs/PYGER/0.9.1/lib/python3.7/site-packages/scipy/stats/stats.py:2279: RuntimeWarning: divide by zero encountered in true_divide\n",
      "  np.expand_dims(sstd, axis=axis))\n",
      "/jukebox/pkgs/PYGER/0.9.1/lib/python3.7/site-packages/scipy/stats/stats.py:2279: RuntimeWarning: invalid value encountered in true_divide\n",
      "  np.expand_dims(sstd, axis=axis))\n"
     ]
    },
    {
     "name": "stdout",
     "output_type": "stream",
     "text": [
      "...saving right hem.\n",
      "***sub-sid07***\n",
      "    Processing run  sub-sid07_ses-01_task-roomvideo_run-01_bold_space-fsaverage6.L.func.gii\n",
      "    Loading  /jukebox/norman/rmasis/MemPal/data/BIDS/Norman/Baldassano/10442_vrpalace/derivatives/fmriprep/sub-sid07/ses-01/func/sub-sid07_ses-01_task-roomvideo_run-01_bold_space-fsaverage6.L.func.gii\n",
      "    Extracting confound information from  sub-sid07/ses-01/func/sub-sid07_ses-01_task-roomvideo_run-01_bold_confounds.tsv\n",
      "   D[hem] =  (40962, 235)\n",
      "   np dot regrcoef, reg.t:  (40962, 235)\n",
      "   interecept shape:  (40962, 1)\n"
     ]
    },
    {
     "name": "stderr",
     "output_type": "stream",
     "text": [
      "/jukebox/pkgs/PYGER/0.9.1/lib/python3.7/site-packages/scipy/stats/stats.py:2279: RuntimeWarning: divide by zero encountered in true_divide\n",
      "  np.expand_dims(sstd, axis=axis))\n",
      "/jukebox/pkgs/PYGER/0.9.1/lib/python3.7/site-packages/scipy/stats/stats.py:2279: RuntimeWarning: invalid value encountered in true_divide\n",
      "  np.expand_dims(sstd, axis=axis))\n"
     ]
    },
    {
     "name": "stdout",
     "output_type": "stream",
     "text": [
      "...saving left hem.\n",
      "***sub-sid07***\n",
      "    Processing run  sub-sid07_ses-01_task-roomvideo_run-01_bold_space-fsaverage6.R.func.gii\n",
      "    Loading  /jukebox/norman/rmasis/MemPal/data/BIDS/Norman/Baldassano/10442_vrpalace/derivatives/fmriprep/sub-sid07/ses-01/func/sub-sid07_ses-01_task-roomvideo_run-01_bold_space-fsaverage6.R.func.gii\n",
      "    Extracting confound information from  sub-sid07/ses-01/func/sub-sid07_ses-01_task-roomvideo_run-01_bold_confounds.tsv\n",
      "   D[hem] =  (40962, 235)\n",
      "   np dot regrcoef, reg.t:  (40962, 235)\n",
      "   interecept shape:  (40962, 1)\n"
     ]
    },
    {
     "name": "stderr",
     "output_type": "stream",
     "text": [
      "/jukebox/pkgs/PYGER/0.9.1/lib/python3.7/site-packages/scipy/stats/stats.py:2279: RuntimeWarning: divide by zero encountered in true_divide\n",
      "  np.expand_dims(sstd, axis=axis))\n",
      "/jukebox/pkgs/PYGER/0.9.1/lib/python3.7/site-packages/scipy/stats/stats.py:2279: RuntimeWarning: invalid value encountered in true_divide\n",
      "  np.expand_dims(sstd, axis=axis))\n"
     ]
    },
    {
     "name": "stdout",
     "output_type": "stream",
     "text": [
      "...saving right hem.\n",
      "***sub-sid07***\n",
      "    Processing run  sub-sid07_ses-01_task-roomvideo_run-02_bold_space-fsaverage6.L.func.gii\n",
      "    Loading  /jukebox/norman/rmasis/MemPal/data/BIDS/Norman/Baldassano/10442_vrpalace/derivatives/fmriprep/sub-sid07/ses-01/func/sub-sid07_ses-01_task-roomvideo_run-02_bold_space-fsaverage6.L.func.gii\n",
      "    Extracting confound information from  sub-sid07/ses-01/func/sub-sid07_ses-01_task-roomvideo_run-02_bold_confounds.tsv\n",
      "   D[hem] =  (40962, 235)\n",
      "   np dot regrcoef, reg.t:  (40962, 235)\n",
      "   interecept shape:  (40962, 1)\n"
     ]
    },
    {
     "name": "stderr",
     "output_type": "stream",
     "text": [
      "/jukebox/pkgs/PYGER/0.9.1/lib/python3.7/site-packages/scipy/stats/stats.py:2279: RuntimeWarning: divide by zero encountered in true_divide\n",
      "  np.expand_dims(sstd, axis=axis))\n",
      "/jukebox/pkgs/PYGER/0.9.1/lib/python3.7/site-packages/scipy/stats/stats.py:2279: RuntimeWarning: invalid value encountered in true_divide\n",
      "  np.expand_dims(sstd, axis=axis))\n"
     ]
    },
    {
     "name": "stdout",
     "output_type": "stream",
     "text": [
      "...saving left hem.\n",
      "***sub-sid07***\n",
      "    Processing run  sub-sid07_ses-01_task-roomvideo_run-02_bold_space-fsaverage6.R.func.gii\n",
      "    Loading  /jukebox/norman/rmasis/MemPal/data/BIDS/Norman/Baldassano/10442_vrpalace/derivatives/fmriprep/sub-sid07/ses-01/func/sub-sid07_ses-01_task-roomvideo_run-02_bold_space-fsaverage6.R.func.gii\n",
      "    Extracting confound information from  sub-sid07/ses-01/func/sub-sid07_ses-01_task-roomvideo_run-02_bold_confounds.tsv\n",
      "   D[hem] =  (40962, 235)\n",
      "   np dot regrcoef, reg.t:  (40962, 235)\n",
      "   interecept shape:  (40962, 1)\n"
     ]
    },
    {
     "name": "stderr",
     "output_type": "stream",
     "text": [
      "/jukebox/pkgs/PYGER/0.9.1/lib/python3.7/site-packages/scipy/stats/stats.py:2279: RuntimeWarning: divide by zero encountered in true_divide\n",
      "  np.expand_dims(sstd, axis=axis))\n",
      "/jukebox/pkgs/PYGER/0.9.1/lib/python3.7/site-packages/scipy/stats/stats.py:2279: RuntimeWarning: invalid value encountered in true_divide\n",
      "  np.expand_dims(sstd, axis=axis))\n"
     ]
    },
    {
     "name": "stdout",
     "output_type": "stream",
     "text": [
      "...saving right hem.\n",
      "***sub-sid07***\n",
      "    Processing run  sub-sid07_ses-02_task-pathvideo_bold_space-fsaverage6.L.func.gii\n",
      "    Loading  /jukebox/norman/rmasis/MemPal/data/BIDS/Norman/Baldassano/10442_vrpalace/derivatives/fmriprep/sub-sid07/ses-02/func/sub-sid07_ses-02_task-pathvideo_bold_space-fsaverage6.L.func.gii\n",
      "    Extracting confound information from  sub-sid07/ses-02/func/sub-sid07_ses-02_task-pathvideo_bold_confounds.tsv\n",
      "   D[hem] =  (40962, 595)\n",
      "   np dot regrcoef, reg.t:  (40962, 595)\n",
      "   interecept shape:  (40962, 1)\n"
     ]
    },
    {
     "name": "stderr",
     "output_type": "stream",
     "text": [
      "/jukebox/pkgs/PYGER/0.9.1/lib/python3.7/site-packages/scipy/stats/stats.py:2279: RuntimeWarning: divide by zero encountered in true_divide\n",
      "  np.expand_dims(sstd, axis=axis))\n",
      "/jukebox/pkgs/PYGER/0.9.1/lib/python3.7/site-packages/scipy/stats/stats.py:2279: RuntimeWarning: invalid value encountered in true_divide\n",
      "  np.expand_dims(sstd, axis=axis))\n"
     ]
    },
    {
     "name": "stdout",
     "output_type": "stream",
     "text": [
      "...saving left hem.\n",
      "***sub-sid07***\n",
      "    Processing run  sub-sid07_ses-02_task-pathvideo_bold_space-fsaverage6.R.func.gii\n",
      "    Loading  /jukebox/norman/rmasis/MemPal/data/BIDS/Norman/Baldassano/10442_vrpalace/derivatives/fmriprep/sub-sid07/ses-02/func/sub-sid07_ses-02_task-pathvideo_bold_space-fsaverage6.R.func.gii\n",
      "    Extracting confound information from  sub-sid07/ses-02/func/sub-sid07_ses-02_task-pathvideo_bold_confounds.tsv\n",
      "   D[hem] =  (40962, 595)\n",
      "   np dot regrcoef, reg.t:  (40962, 595)\n",
      "   interecept shape:  (40962, 1)\n"
     ]
    },
    {
     "name": "stderr",
     "output_type": "stream",
     "text": [
      "/jukebox/pkgs/PYGER/0.9.1/lib/python3.7/site-packages/scipy/stats/stats.py:2279: RuntimeWarning: divide by zero encountered in true_divide\n",
      "  np.expand_dims(sstd, axis=axis))\n",
      "/jukebox/pkgs/PYGER/0.9.1/lib/python3.7/site-packages/scipy/stats/stats.py:2279: RuntimeWarning: invalid value encountered in true_divide\n",
      "  np.expand_dims(sstd, axis=axis))\n"
     ]
    },
    {
     "name": "stdout",
     "output_type": "stream",
     "text": [
      "...saving right hem.\n",
      "***sub-sid07***\n",
      "    Processing run  sub-sid07_ses-02_task-recall_bold_space-fsaverage6.L.func.gii\n",
      "    Loading  /jukebox/norman/rmasis/MemPal/data/BIDS/Norman/Baldassano/10442_vrpalace/derivatives/fmriprep/sub-sid07/ses-02/func/sub-sid07_ses-02_task-recall_bold_space-fsaverage6.L.func.gii\n",
      "**** ERROR ****\n",
      "**** ERROR ****\n",
      "---something happened---\n",
      "No such file or no access: '/jukebox/norman/rmasis/MemPal/data/BIDS/Norman/Baldassano/10442_vrpalace/derivatives/fmriprep/sub-sid07/ses-02/func/sub-sid07_ses-02_task-recall_bold_space-fsaverage6.L.func.gii'\n",
      "**** ERROR ****\n",
      "**** ERROR ****\n",
      "***sub-sid07***\n",
      "    Processing run  sub-sid07_ses-02_task-recall_bold_space-fsaverage6.R.func.gii\n",
      "    Loading  /jukebox/norman/rmasis/MemPal/data/BIDS/Norman/Baldassano/10442_vrpalace/derivatives/fmriprep/sub-sid07/ses-02/func/sub-sid07_ses-02_task-recall_bold_space-fsaverage6.R.func.gii\n",
      "**** ERROR ****\n",
      "**** ERROR ****\n",
      "---something happened---\n",
      "No such file or no access: '/jukebox/norman/rmasis/MemPal/data/BIDS/Norman/Baldassano/10442_vrpalace/derivatives/fmriprep/sub-sid07/ses-02/func/sub-sid07_ses-02_task-recall_bold_space-fsaverage6.R.func.gii'\n",
      "**** ERROR ****\n",
      "**** ERROR ****\n",
      "***sub-sid07***\n",
      "    Processing run  sub-sid07_ses-02_task-roomobjectvideo_run-01_bold_space-fsaverage6.L.func.gii\n",
      "    Loading  /jukebox/norman/rmasis/MemPal/data/BIDS/Norman/Baldassano/10442_vrpalace/derivatives/fmriprep/sub-sid07/ses-02/func/sub-sid07_ses-02_task-roomobjectvideo_run-01_bold_space-fsaverage6.L.func.gii\n",
      "    Extracting confound information from  sub-sid07/ses-02/func/sub-sid07_ses-02_task-roomobjectvideo_run-01_bold_confounds.tsv\n",
      "   D[hem] =  (40962, 460)\n",
      "   np dot regrcoef, reg.t:  (40962, 460)\n",
      "   interecept shape:  (40962, 1)\n"
     ]
    },
    {
     "name": "stderr",
     "output_type": "stream",
     "text": [
      "/jukebox/pkgs/PYGER/0.9.1/lib/python3.7/site-packages/scipy/stats/stats.py:2279: RuntimeWarning: divide by zero encountered in true_divide\n",
      "  np.expand_dims(sstd, axis=axis))\n",
      "/jukebox/pkgs/PYGER/0.9.1/lib/python3.7/site-packages/scipy/stats/stats.py:2279: RuntimeWarning: invalid value encountered in true_divide\n",
      "  np.expand_dims(sstd, axis=axis))\n"
     ]
    },
    {
     "name": "stdout",
     "output_type": "stream",
     "text": [
      "...saving left hem.\n",
      "***sub-sid07***\n",
      "    Processing run  sub-sid07_ses-02_task-roomobjectvideo_run-01_bold_space-fsaverage6.R.func.gii\n",
      "    Loading  /jukebox/norman/rmasis/MemPal/data/BIDS/Norman/Baldassano/10442_vrpalace/derivatives/fmriprep/sub-sid07/ses-02/func/sub-sid07_ses-02_task-roomobjectvideo_run-01_bold_space-fsaverage6.R.func.gii\n",
      "    Extracting confound information from  sub-sid07/ses-02/func/sub-sid07_ses-02_task-roomobjectvideo_run-01_bold_confounds.tsv\n",
      "   D[hem] =  (40962, 460)\n",
      "   np dot regrcoef, reg.t:  (40962, 460)\n",
      "   interecept shape:  (40962, 1)\n"
     ]
    },
    {
     "name": "stderr",
     "output_type": "stream",
     "text": [
      "/jukebox/pkgs/PYGER/0.9.1/lib/python3.7/site-packages/scipy/stats/stats.py:2279: RuntimeWarning: divide by zero encountered in true_divide\n",
      "  np.expand_dims(sstd, axis=axis))\n",
      "/jukebox/pkgs/PYGER/0.9.1/lib/python3.7/site-packages/scipy/stats/stats.py:2279: RuntimeWarning: invalid value encountered in true_divide\n",
      "  np.expand_dims(sstd, axis=axis))\n"
     ]
    },
    {
     "name": "stdout",
     "output_type": "stream",
     "text": [
      "...saving right hem.\n",
      "***sub-sid07***\n",
      "    Processing run  sub-sid07_ses-02_task-roomobjectvideo_run-02_bold_space-fsaverage6.L.func.gii\n",
      "    Loading  /jukebox/norman/rmasis/MemPal/data/BIDS/Norman/Baldassano/10442_vrpalace/derivatives/fmriprep/sub-sid07/ses-02/func/sub-sid07_ses-02_task-roomobjectvideo_run-02_bold_space-fsaverage6.L.func.gii\n",
      "    Extracting confound information from  sub-sid07/ses-02/func/sub-sid07_ses-02_task-roomobjectvideo_run-02_bold_confounds.tsv\n",
      "   D[hem] =  (40962, 460)\n",
      "   np dot regrcoef, reg.t:  (40962, 460)\n",
      "   interecept shape:  (40962, 1)\n"
     ]
    },
    {
     "name": "stderr",
     "output_type": "stream",
     "text": [
      "/jukebox/pkgs/PYGER/0.9.1/lib/python3.7/site-packages/scipy/stats/stats.py:2279: RuntimeWarning: divide by zero encountered in true_divide\n",
      "  np.expand_dims(sstd, axis=axis))\n",
      "/jukebox/pkgs/PYGER/0.9.1/lib/python3.7/site-packages/scipy/stats/stats.py:2279: RuntimeWarning: invalid value encountered in true_divide\n",
      "  np.expand_dims(sstd, axis=axis))\n"
     ]
    },
    {
     "name": "stdout",
     "output_type": "stream",
     "text": [
      "...saving left hem.\n",
      "***sub-sid07***\n",
      "    Processing run  sub-sid07_ses-02_task-roomobjectvideo_run-02_bold_space-fsaverage6.R.func.gii\n",
      "    Loading  /jukebox/norman/rmasis/MemPal/data/BIDS/Norman/Baldassano/10442_vrpalace/derivatives/fmriprep/sub-sid07/ses-02/func/sub-sid07_ses-02_task-roomobjectvideo_run-02_bold_space-fsaverage6.R.func.gii\n",
      "    Extracting confound information from  sub-sid07/ses-02/func/sub-sid07_ses-02_task-roomobjectvideo_run-02_bold_confounds.tsv\n",
      "   D[hem] =  (40962, 460)\n",
      "   np dot regrcoef, reg.t:  (40962, 460)\n",
      "   interecept shape:  (40962, 1)\n"
     ]
    },
    {
     "name": "stderr",
     "output_type": "stream",
     "text": [
      "/jukebox/pkgs/PYGER/0.9.1/lib/python3.7/site-packages/scipy/stats/stats.py:2279: RuntimeWarning: divide by zero encountered in true_divide\n",
      "  np.expand_dims(sstd, axis=axis))\n",
      "/jukebox/pkgs/PYGER/0.9.1/lib/python3.7/site-packages/scipy/stats/stats.py:2279: RuntimeWarning: invalid value encountered in true_divide\n",
      "  np.expand_dims(sstd, axis=axis))\n"
     ]
    },
    {
     "name": "stdout",
     "output_type": "stream",
     "text": [
      "...saving right hem.\n",
      "***sub-sid08***\n",
      "    Processing run  sub-sid08_ses-01_task-pathvideo_bold_space-fsaverage6.L.func.gii\n",
      "    Loading  /jukebox/norman/rmasis/MemPal/data/BIDS/Norman/Baldassano/10442_vrpalace/derivatives/fmriprep/sub-sid08/ses-01/func/sub-sid08_ses-01_task-pathvideo_bold_space-fsaverage6.L.func.gii\n",
      "    Extracting confound information from  sub-sid08/ses-01/func/sub-sid08_ses-01_task-pathvideo_bold_confounds.tsv\n",
      "   D[hem] =  (40962, 595)\n",
      "   np dot regrcoef, reg.t:  (40962, 595)\n",
      "   interecept shape:  (40962, 1)\n"
     ]
    },
    {
     "name": "stderr",
     "output_type": "stream",
     "text": [
      "/jukebox/pkgs/PYGER/0.9.1/lib/python3.7/site-packages/scipy/stats/stats.py:2279: RuntimeWarning: divide by zero encountered in true_divide\n",
      "  np.expand_dims(sstd, axis=axis))\n",
      "/jukebox/pkgs/PYGER/0.9.1/lib/python3.7/site-packages/scipy/stats/stats.py:2279: RuntimeWarning: invalid value encountered in true_divide\n",
      "  np.expand_dims(sstd, axis=axis))\n"
     ]
    },
    {
     "name": "stdout",
     "output_type": "stream",
     "text": [
      "   making new directory ../PythonData2024/ProcessedData//sub-sid08/\n",
      "...saving left hem.\n",
      "***sub-sid08***\n",
      "    Processing run  sub-sid08_ses-01_task-pathvideo_bold_space-fsaverage6.R.func.gii\n",
      "    Loading  /jukebox/norman/rmasis/MemPal/data/BIDS/Norman/Baldassano/10442_vrpalace/derivatives/fmriprep/sub-sid08/ses-01/func/sub-sid08_ses-01_task-pathvideo_bold_space-fsaverage6.R.func.gii\n",
      "    Extracting confound information from  sub-sid08/ses-01/func/sub-sid08_ses-01_task-pathvideo_bold_confounds.tsv\n",
      "   D[hem] =  (40962, 595)\n",
      "   np dot regrcoef, reg.t:  (40962, 595)\n",
      "   interecept shape:  (40962, 1)\n"
     ]
    },
    {
     "name": "stderr",
     "output_type": "stream",
     "text": [
      "/jukebox/pkgs/PYGER/0.9.1/lib/python3.7/site-packages/scipy/stats/stats.py:2279: RuntimeWarning: divide by zero encountered in true_divide\n",
      "  np.expand_dims(sstd, axis=axis))\n",
      "/jukebox/pkgs/PYGER/0.9.1/lib/python3.7/site-packages/scipy/stats/stats.py:2279: RuntimeWarning: invalid value encountered in true_divide\n",
      "  np.expand_dims(sstd, axis=axis))\n"
     ]
    },
    {
     "name": "stdout",
     "output_type": "stream",
     "text": [
      "...saving right hem.\n",
      "***sub-sid08***\n",
      "    Processing run  sub-sid08_ses-01_task-roomvideo_run-01_bold_space-fsaverage6.L.func.gii\n",
      "    Loading  /jukebox/norman/rmasis/MemPal/data/BIDS/Norman/Baldassano/10442_vrpalace/derivatives/fmriprep/sub-sid08/ses-01/func/sub-sid08_ses-01_task-roomvideo_run-01_bold_space-fsaverage6.L.func.gii\n",
      "    Extracting confound information from  sub-sid08/ses-01/func/sub-sid08_ses-01_task-roomvideo_run-01_bold_confounds.tsv\n",
      "   D[hem] =  (40962, 235)\n",
      "   np dot regrcoef, reg.t:  (40962, 235)\n",
      "   interecept shape:  (40962, 1)\n"
     ]
    },
    {
     "name": "stderr",
     "output_type": "stream",
     "text": [
      "/jukebox/pkgs/PYGER/0.9.1/lib/python3.7/site-packages/scipy/stats/stats.py:2279: RuntimeWarning: divide by zero encountered in true_divide\n",
      "  np.expand_dims(sstd, axis=axis))\n",
      "/jukebox/pkgs/PYGER/0.9.1/lib/python3.7/site-packages/scipy/stats/stats.py:2279: RuntimeWarning: invalid value encountered in true_divide\n",
      "  np.expand_dims(sstd, axis=axis))\n"
     ]
    },
    {
     "name": "stdout",
     "output_type": "stream",
     "text": [
      "...saving left hem.\n",
      "***sub-sid08***\n",
      "    Processing run  sub-sid08_ses-01_task-roomvideo_run-01_bold_space-fsaverage6.R.func.gii\n",
      "    Loading  /jukebox/norman/rmasis/MemPal/data/BIDS/Norman/Baldassano/10442_vrpalace/derivatives/fmriprep/sub-sid08/ses-01/func/sub-sid08_ses-01_task-roomvideo_run-01_bold_space-fsaverage6.R.func.gii\n",
      "    Extracting confound information from  sub-sid08/ses-01/func/sub-sid08_ses-01_task-roomvideo_run-01_bold_confounds.tsv\n",
      "   D[hem] =  (40962, 235)\n",
      "   np dot regrcoef, reg.t:  (40962, 235)\n",
      "   interecept shape:  (40962, 1)\n"
     ]
    },
    {
     "name": "stderr",
     "output_type": "stream",
     "text": [
      "/jukebox/pkgs/PYGER/0.9.1/lib/python3.7/site-packages/scipy/stats/stats.py:2279: RuntimeWarning: divide by zero encountered in true_divide\n",
      "  np.expand_dims(sstd, axis=axis))\n",
      "/jukebox/pkgs/PYGER/0.9.1/lib/python3.7/site-packages/scipy/stats/stats.py:2279: RuntimeWarning: invalid value encountered in true_divide\n",
      "  np.expand_dims(sstd, axis=axis))\n"
     ]
    },
    {
     "name": "stdout",
     "output_type": "stream",
     "text": [
      "...saving right hem.\n",
      "***sub-sid08***\n",
      "    Processing run  sub-sid08_ses-01_task-roomvideo_run-02_bold_space-fsaverage6.L.func.gii\n",
      "    Loading  /jukebox/norman/rmasis/MemPal/data/BIDS/Norman/Baldassano/10442_vrpalace/derivatives/fmriprep/sub-sid08/ses-01/func/sub-sid08_ses-01_task-roomvideo_run-02_bold_space-fsaverage6.L.func.gii\n",
      "    Extracting confound information from  sub-sid08/ses-01/func/sub-sid08_ses-01_task-roomvideo_run-02_bold_confounds.tsv\n",
      "   D[hem] =  (40962, 235)\n",
      "   np dot regrcoef, reg.t:  (40962, 235)\n",
      "   interecept shape:  (40962, 1)\n"
     ]
    },
    {
     "name": "stderr",
     "output_type": "stream",
     "text": [
      "/jukebox/pkgs/PYGER/0.9.1/lib/python3.7/site-packages/scipy/stats/stats.py:2279: RuntimeWarning: divide by zero encountered in true_divide\n",
      "  np.expand_dims(sstd, axis=axis))\n",
      "/jukebox/pkgs/PYGER/0.9.1/lib/python3.7/site-packages/scipy/stats/stats.py:2279: RuntimeWarning: invalid value encountered in true_divide\n",
      "  np.expand_dims(sstd, axis=axis))\n"
     ]
    },
    {
     "name": "stdout",
     "output_type": "stream",
     "text": [
      "...saving left hem.\n",
      "***sub-sid08***\n",
      "    Processing run  sub-sid08_ses-01_task-roomvideo_run-02_bold_space-fsaverage6.R.func.gii\n",
      "    Loading  /jukebox/norman/rmasis/MemPal/data/BIDS/Norman/Baldassano/10442_vrpalace/derivatives/fmriprep/sub-sid08/ses-01/func/sub-sid08_ses-01_task-roomvideo_run-02_bold_space-fsaverage6.R.func.gii\n",
      "    Extracting confound information from  sub-sid08/ses-01/func/sub-sid08_ses-01_task-roomvideo_run-02_bold_confounds.tsv\n",
      "   D[hem] =  (40962, 235)\n",
      "   np dot regrcoef, reg.t:  (40962, 235)\n",
      "   interecept shape:  (40962, 1)\n"
     ]
    },
    {
     "name": "stderr",
     "output_type": "stream",
     "text": [
      "/jukebox/pkgs/PYGER/0.9.1/lib/python3.7/site-packages/scipy/stats/stats.py:2279: RuntimeWarning: divide by zero encountered in true_divide\n",
      "  np.expand_dims(sstd, axis=axis))\n",
      "/jukebox/pkgs/PYGER/0.9.1/lib/python3.7/site-packages/scipy/stats/stats.py:2279: RuntimeWarning: invalid value encountered in true_divide\n",
      "  np.expand_dims(sstd, axis=axis))\n"
     ]
    },
    {
     "name": "stdout",
     "output_type": "stream",
     "text": [
      "...saving right hem.\n",
      "***sub-sid08***\n",
      "    Processing run  sub-sid08_ses-02_task-pathvideo_bold_space-fsaverage6.L.func.gii\n",
      "    Loading  /jukebox/norman/rmasis/MemPal/data/BIDS/Norman/Baldassano/10442_vrpalace/derivatives/fmriprep/sub-sid08/ses-02/func/sub-sid08_ses-02_task-pathvideo_bold_space-fsaverage6.L.func.gii\n",
      "    Extracting confound information from  sub-sid08/ses-02/func/sub-sid08_ses-02_task-pathvideo_bold_confounds.tsv\n",
      "   D[hem] =  (40962, 595)\n",
      "   np dot regrcoef, reg.t:  (40962, 595)\n",
      "   interecept shape:  (40962, 1)\n"
     ]
    },
    {
     "name": "stderr",
     "output_type": "stream",
     "text": [
      "/jukebox/pkgs/PYGER/0.9.1/lib/python3.7/site-packages/scipy/stats/stats.py:2279: RuntimeWarning: divide by zero encountered in true_divide\n",
      "  np.expand_dims(sstd, axis=axis))\n",
      "/jukebox/pkgs/PYGER/0.9.1/lib/python3.7/site-packages/scipy/stats/stats.py:2279: RuntimeWarning: invalid value encountered in true_divide\n",
      "  np.expand_dims(sstd, axis=axis))\n"
     ]
    },
    {
     "name": "stdout",
     "output_type": "stream",
     "text": [
      "...saving left hem.\n",
      "***sub-sid08***\n",
      "    Processing run  sub-sid08_ses-02_task-pathvideo_bold_space-fsaverage6.R.func.gii\n",
      "    Loading  /jukebox/norman/rmasis/MemPal/data/BIDS/Norman/Baldassano/10442_vrpalace/derivatives/fmriprep/sub-sid08/ses-02/func/sub-sid08_ses-02_task-pathvideo_bold_space-fsaverage6.R.func.gii\n",
      "    Extracting confound information from  sub-sid08/ses-02/func/sub-sid08_ses-02_task-pathvideo_bold_confounds.tsv\n",
      "   D[hem] =  (40962, 595)\n",
      "   np dot regrcoef, reg.t:  (40962, 595)\n",
      "   interecept shape:  (40962, 1)\n"
     ]
    },
    {
     "name": "stderr",
     "output_type": "stream",
     "text": [
      "/jukebox/pkgs/PYGER/0.9.1/lib/python3.7/site-packages/scipy/stats/stats.py:2279: RuntimeWarning: divide by zero encountered in true_divide\n",
      "  np.expand_dims(sstd, axis=axis))\n",
      "/jukebox/pkgs/PYGER/0.9.1/lib/python3.7/site-packages/scipy/stats/stats.py:2279: RuntimeWarning: invalid value encountered in true_divide\n",
      "  np.expand_dims(sstd, axis=axis))\n"
     ]
    },
    {
     "name": "stdout",
     "output_type": "stream",
     "text": [
      "...saving right hem.\n",
      "***sub-sid08***\n",
      "    Processing run  sub-sid08_ses-02_task-recall_bold_space-fsaverage6.L.func.gii\n",
      "    Loading  /jukebox/norman/rmasis/MemPal/data/BIDS/Norman/Baldassano/10442_vrpalace/derivatives/fmriprep/sub-sid08/ses-02/func/sub-sid08_ses-02_task-recall_bold_space-fsaverage6.L.func.gii\n",
      "    Extracting confound information from  sub-sid08/ses-02/func/sub-sid08_ses-02_task-recall_bold_confounds.tsv\n",
      "   D[hem] =  (40962, 2107)\n",
      "   np dot regrcoef, reg.t:  (40962, 2107)\n",
      "   interecept shape:  (40962, 1)\n"
     ]
    },
    {
     "name": "stderr",
     "output_type": "stream",
     "text": [
      "/jukebox/pkgs/PYGER/0.9.1/lib/python3.7/site-packages/scipy/stats/stats.py:2279: RuntimeWarning: divide by zero encountered in true_divide\n",
      "  np.expand_dims(sstd, axis=axis))\n",
      "/jukebox/pkgs/PYGER/0.9.1/lib/python3.7/site-packages/scipy/stats/stats.py:2279: RuntimeWarning: invalid value encountered in true_divide\n",
      "  np.expand_dims(sstd, axis=axis))\n"
     ]
    },
    {
     "name": "stdout",
     "output_type": "stream",
     "text": [
      "...saving left hem.\n",
      "***sub-sid08***\n",
      "    Processing run  sub-sid08_ses-02_task-recall_bold_space-fsaverage6.R.func.gii\n",
      "    Loading  /jukebox/norman/rmasis/MemPal/data/BIDS/Norman/Baldassano/10442_vrpalace/derivatives/fmriprep/sub-sid08/ses-02/func/sub-sid08_ses-02_task-recall_bold_space-fsaverage6.R.func.gii\n",
      "    Extracting confound information from  sub-sid08/ses-02/func/sub-sid08_ses-02_task-recall_bold_confounds.tsv\n",
      "   D[hem] =  (40962, 2107)\n",
      "   np dot regrcoef, reg.t:  (40962, 2107)\n",
      "   interecept shape:  (40962, 1)\n"
     ]
    },
    {
     "name": "stderr",
     "output_type": "stream",
     "text": [
      "/jukebox/pkgs/PYGER/0.9.1/lib/python3.7/site-packages/scipy/stats/stats.py:2279: RuntimeWarning: divide by zero encountered in true_divide\n",
      "  np.expand_dims(sstd, axis=axis))\n",
      "/jukebox/pkgs/PYGER/0.9.1/lib/python3.7/site-packages/scipy/stats/stats.py:2279: RuntimeWarning: invalid value encountered in true_divide\n",
      "  np.expand_dims(sstd, axis=axis))\n"
     ]
    },
    {
     "name": "stdout",
     "output_type": "stream",
     "text": [
      "...saving right hem.\n",
      "***sub-sid08***\n",
      "    Processing run  sub-sid08_ses-02_task-roomobjectvideo_run-01_bold_space-fsaverage6.L.func.gii\n",
      "    Loading  /jukebox/norman/rmasis/MemPal/data/BIDS/Norman/Baldassano/10442_vrpalace/derivatives/fmriprep/sub-sid08/ses-02/func/sub-sid08_ses-02_task-roomobjectvideo_run-01_bold_space-fsaverage6.L.func.gii\n",
      "    Extracting confound information from  sub-sid08/ses-02/func/sub-sid08_ses-02_task-roomobjectvideo_run-01_bold_confounds.tsv\n",
      "   D[hem] =  (40962, 460)\n",
      "   np dot regrcoef, reg.t:  (40962, 460)\n",
      "   interecept shape:  (40962, 1)\n"
     ]
    },
    {
     "name": "stderr",
     "output_type": "stream",
     "text": [
      "/jukebox/pkgs/PYGER/0.9.1/lib/python3.7/site-packages/scipy/stats/stats.py:2279: RuntimeWarning: divide by zero encountered in true_divide\n",
      "  np.expand_dims(sstd, axis=axis))\n",
      "/jukebox/pkgs/PYGER/0.9.1/lib/python3.7/site-packages/scipy/stats/stats.py:2279: RuntimeWarning: invalid value encountered in true_divide\n",
      "  np.expand_dims(sstd, axis=axis))\n"
     ]
    },
    {
     "name": "stdout",
     "output_type": "stream",
     "text": [
      "...saving left hem.\n",
      "***sub-sid08***\n",
      "    Processing run  sub-sid08_ses-02_task-roomobjectvideo_run-01_bold_space-fsaverage6.R.func.gii\n",
      "    Loading  /jukebox/norman/rmasis/MemPal/data/BIDS/Norman/Baldassano/10442_vrpalace/derivatives/fmriprep/sub-sid08/ses-02/func/sub-sid08_ses-02_task-roomobjectvideo_run-01_bold_space-fsaverage6.R.func.gii\n",
      "    Extracting confound information from  sub-sid08/ses-02/func/sub-sid08_ses-02_task-roomobjectvideo_run-01_bold_confounds.tsv\n",
      "   D[hem] =  (40962, 460)\n",
      "   np dot regrcoef, reg.t:  (40962, 460)\n",
      "   interecept shape:  (40962, 1)\n"
     ]
    },
    {
     "name": "stderr",
     "output_type": "stream",
     "text": [
      "/jukebox/pkgs/PYGER/0.9.1/lib/python3.7/site-packages/scipy/stats/stats.py:2279: RuntimeWarning: divide by zero encountered in true_divide\n",
      "  np.expand_dims(sstd, axis=axis))\n",
      "/jukebox/pkgs/PYGER/0.9.1/lib/python3.7/site-packages/scipy/stats/stats.py:2279: RuntimeWarning: invalid value encountered in true_divide\n",
      "  np.expand_dims(sstd, axis=axis))\n"
     ]
    },
    {
     "name": "stdout",
     "output_type": "stream",
     "text": [
      "...saving right hem.\n",
      "***sub-sid08***\n",
      "    Processing run  sub-sid08_ses-02_task-roomobjectvideo_run-02_bold_space-fsaverage6.L.func.gii\n",
      "    Loading  /jukebox/norman/rmasis/MemPal/data/BIDS/Norman/Baldassano/10442_vrpalace/derivatives/fmriprep/sub-sid08/ses-02/func/sub-sid08_ses-02_task-roomobjectvideo_run-02_bold_space-fsaverage6.L.func.gii\n",
      "    Extracting confound information from  sub-sid08/ses-02/func/sub-sid08_ses-02_task-roomobjectvideo_run-02_bold_confounds.tsv\n",
      "   D[hem] =  (40962, 460)\n",
      "   np dot regrcoef, reg.t:  (40962, 460)\n",
      "   interecept shape:  (40962, 1)\n"
     ]
    },
    {
     "name": "stderr",
     "output_type": "stream",
     "text": [
      "/jukebox/pkgs/PYGER/0.9.1/lib/python3.7/site-packages/scipy/stats/stats.py:2279: RuntimeWarning: divide by zero encountered in true_divide\n",
      "  np.expand_dims(sstd, axis=axis))\n",
      "/jukebox/pkgs/PYGER/0.9.1/lib/python3.7/site-packages/scipy/stats/stats.py:2279: RuntimeWarning: invalid value encountered in true_divide\n",
      "  np.expand_dims(sstd, axis=axis))\n"
     ]
    },
    {
     "name": "stdout",
     "output_type": "stream",
     "text": [
      "...saving left hem.\n",
      "***sub-sid08***\n",
      "    Processing run  sub-sid08_ses-02_task-roomobjectvideo_run-02_bold_space-fsaverage6.R.func.gii\n",
      "    Loading  /jukebox/norman/rmasis/MemPal/data/BIDS/Norman/Baldassano/10442_vrpalace/derivatives/fmriprep/sub-sid08/ses-02/func/sub-sid08_ses-02_task-roomobjectvideo_run-02_bold_space-fsaverage6.R.func.gii\n",
      "    Extracting confound information from  sub-sid08/ses-02/func/sub-sid08_ses-02_task-roomobjectvideo_run-02_bold_confounds.tsv\n",
      "   D[hem] =  (40962, 460)\n",
      "   np dot regrcoef, reg.t:  (40962, 460)\n",
      "   interecept shape:  (40962, 1)\n"
     ]
    },
    {
     "name": "stderr",
     "output_type": "stream",
     "text": [
      "/jukebox/pkgs/PYGER/0.9.1/lib/python3.7/site-packages/scipy/stats/stats.py:2279: RuntimeWarning: divide by zero encountered in true_divide\n",
      "  np.expand_dims(sstd, axis=axis))\n",
      "/jukebox/pkgs/PYGER/0.9.1/lib/python3.7/site-packages/scipy/stats/stats.py:2279: RuntimeWarning: invalid value encountered in true_divide\n",
      "  np.expand_dims(sstd, axis=axis))\n"
     ]
    },
    {
     "name": "stdout",
     "output_type": "stream",
     "text": [
      "...saving right hem.\n",
      "***sub-sid09***\n",
      "    Processing run  sub-sid09_ses-01_task-pathvideo_bold_space-fsaverage6.L.func.gii\n",
      "    Loading  /jukebox/norman/rmasis/MemPal/data/BIDS/Norman/Baldassano/10442_vrpalace/derivatives/fmriprep/sub-sid09/ses-01/func/sub-sid09_ses-01_task-pathvideo_bold_space-fsaverage6.L.func.gii\n",
      "    Extracting confound information from  sub-sid09/ses-01/func/sub-sid09_ses-01_task-pathvideo_bold_confounds.tsv\n",
      "   D[hem] =  (40962, 595)\n",
      "   np dot regrcoef, reg.t:  (40962, 595)\n",
      "   interecept shape:  (40962, 1)\n"
     ]
    },
    {
     "name": "stderr",
     "output_type": "stream",
     "text": [
      "/jukebox/pkgs/PYGER/0.9.1/lib/python3.7/site-packages/scipy/stats/stats.py:2279: RuntimeWarning: divide by zero encountered in true_divide\n",
      "  np.expand_dims(sstd, axis=axis))\n",
      "/jukebox/pkgs/PYGER/0.9.1/lib/python3.7/site-packages/scipy/stats/stats.py:2279: RuntimeWarning: invalid value encountered in true_divide\n",
      "  np.expand_dims(sstd, axis=axis))\n"
     ]
    },
    {
     "name": "stdout",
     "output_type": "stream",
     "text": [
      "   making new directory ../PythonData2024/ProcessedData//sub-sid09/\n",
      "...saving left hem.\n",
      "***sub-sid09***\n",
      "    Processing run  sub-sid09_ses-01_task-pathvideo_bold_space-fsaverage6.R.func.gii\n",
      "    Loading  /jukebox/norman/rmasis/MemPal/data/BIDS/Norman/Baldassano/10442_vrpalace/derivatives/fmriprep/sub-sid09/ses-01/func/sub-sid09_ses-01_task-pathvideo_bold_space-fsaverage6.R.func.gii\n",
      "    Extracting confound information from  sub-sid09/ses-01/func/sub-sid09_ses-01_task-pathvideo_bold_confounds.tsv\n",
      "   D[hem] =  (40962, 595)\n",
      "   np dot regrcoef, reg.t:  (40962, 595)\n",
      "   interecept shape:  (40962, 1)\n"
     ]
    },
    {
     "name": "stderr",
     "output_type": "stream",
     "text": [
      "/jukebox/pkgs/PYGER/0.9.1/lib/python3.7/site-packages/scipy/stats/stats.py:2279: RuntimeWarning: divide by zero encountered in true_divide\n",
      "  np.expand_dims(sstd, axis=axis))\n",
      "/jukebox/pkgs/PYGER/0.9.1/lib/python3.7/site-packages/scipy/stats/stats.py:2279: RuntimeWarning: invalid value encountered in true_divide\n",
      "  np.expand_dims(sstd, axis=axis))\n"
     ]
    },
    {
     "name": "stdout",
     "output_type": "stream",
     "text": [
      "...saving right hem.\n",
      "***sub-sid09***\n",
      "    Processing run  sub-sid09_ses-01_task-roomvideo_run-01_bold_space-fsaverage6.L.func.gii\n",
      "    Loading  /jukebox/norman/rmasis/MemPal/data/BIDS/Norman/Baldassano/10442_vrpalace/derivatives/fmriprep/sub-sid09/ses-01/func/sub-sid09_ses-01_task-roomvideo_run-01_bold_space-fsaverage6.L.func.gii\n",
      "    Extracting confound information from  sub-sid09/ses-01/func/sub-sid09_ses-01_task-roomvideo_run-01_bold_confounds.tsv\n",
      "   D[hem] =  (40962, 235)\n",
      "   np dot regrcoef, reg.t:  (40962, 235)\n",
      "   interecept shape:  (40962, 1)\n"
     ]
    },
    {
     "name": "stderr",
     "output_type": "stream",
     "text": [
      "/jukebox/pkgs/PYGER/0.9.1/lib/python3.7/site-packages/scipy/stats/stats.py:2279: RuntimeWarning: divide by zero encountered in true_divide\n",
      "  np.expand_dims(sstd, axis=axis))\n",
      "/jukebox/pkgs/PYGER/0.9.1/lib/python3.7/site-packages/scipy/stats/stats.py:2279: RuntimeWarning: invalid value encountered in true_divide\n",
      "  np.expand_dims(sstd, axis=axis))\n"
     ]
    },
    {
     "name": "stdout",
     "output_type": "stream",
     "text": [
      "...saving left hem.\n",
      "***sub-sid09***\n",
      "    Processing run  sub-sid09_ses-01_task-roomvideo_run-01_bold_space-fsaverage6.R.func.gii\n",
      "    Loading  /jukebox/norman/rmasis/MemPal/data/BIDS/Norman/Baldassano/10442_vrpalace/derivatives/fmriprep/sub-sid09/ses-01/func/sub-sid09_ses-01_task-roomvideo_run-01_bold_space-fsaverage6.R.func.gii\n",
      "    Extracting confound information from  sub-sid09/ses-01/func/sub-sid09_ses-01_task-roomvideo_run-01_bold_confounds.tsv\n",
      "   D[hem] =  (40962, 235)\n",
      "   np dot regrcoef, reg.t:  (40962, 235)\n",
      "   interecept shape:  (40962, 1)\n"
     ]
    },
    {
     "name": "stderr",
     "output_type": "stream",
     "text": [
      "/jukebox/pkgs/PYGER/0.9.1/lib/python3.7/site-packages/scipy/stats/stats.py:2279: RuntimeWarning: divide by zero encountered in true_divide\n",
      "  np.expand_dims(sstd, axis=axis))\n",
      "/jukebox/pkgs/PYGER/0.9.1/lib/python3.7/site-packages/scipy/stats/stats.py:2279: RuntimeWarning: invalid value encountered in true_divide\n",
      "  np.expand_dims(sstd, axis=axis))\n"
     ]
    },
    {
     "name": "stdout",
     "output_type": "stream",
     "text": [
      "...saving right hem.\n",
      "***sub-sid09***\n",
      "    Processing run  sub-sid09_ses-01_task-roomvideo_run-02_bold_space-fsaverage6.L.func.gii\n",
      "    Loading  /jukebox/norman/rmasis/MemPal/data/BIDS/Norman/Baldassano/10442_vrpalace/derivatives/fmriprep/sub-sid09/ses-01/func/sub-sid09_ses-01_task-roomvideo_run-02_bold_space-fsaverage6.L.func.gii\n",
      "    Extracting confound information from  sub-sid09/ses-01/func/sub-sid09_ses-01_task-roomvideo_run-02_bold_confounds.tsv\n",
      "   D[hem] =  (40962, 235)\n",
      "   np dot regrcoef, reg.t:  (40962, 235)\n",
      "   interecept shape:  (40962, 1)\n"
     ]
    },
    {
     "name": "stderr",
     "output_type": "stream",
     "text": [
      "/jukebox/pkgs/PYGER/0.9.1/lib/python3.7/site-packages/scipy/stats/stats.py:2279: RuntimeWarning: divide by zero encountered in true_divide\n",
      "  np.expand_dims(sstd, axis=axis))\n",
      "/jukebox/pkgs/PYGER/0.9.1/lib/python3.7/site-packages/scipy/stats/stats.py:2279: RuntimeWarning: invalid value encountered in true_divide\n",
      "  np.expand_dims(sstd, axis=axis))\n"
     ]
    },
    {
     "name": "stdout",
     "output_type": "stream",
     "text": [
      "...saving left hem.\n",
      "***sub-sid09***\n",
      "    Processing run  sub-sid09_ses-01_task-roomvideo_run-02_bold_space-fsaverage6.R.func.gii\n",
      "    Loading  /jukebox/norman/rmasis/MemPal/data/BIDS/Norman/Baldassano/10442_vrpalace/derivatives/fmriprep/sub-sid09/ses-01/func/sub-sid09_ses-01_task-roomvideo_run-02_bold_space-fsaverage6.R.func.gii\n",
      "    Extracting confound information from  sub-sid09/ses-01/func/sub-sid09_ses-01_task-roomvideo_run-02_bold_confounds.tsv\n",
      "   D[hem] =  (40962, 235)\n",
      "   np dot regrcoef, reg.t:  (40962, 235)\n",
      "   interecept shape:  (40962, 1)\n"
     ]
    },
    {
     "name": "stderr",
     "output_type": "stream",
     "text": [
      "/jukebox/pkgs/PYGER/0.9.1/lib/python3.7/site-packages/scipy/stats/stats.py:2279: RuntimeWarning: divide by zero encountered in true_divide\n",
      "  np.expand_dims(sstd, axis=axis))\n",
      "/jukebox/pkgs/PYGER/0.9.1/lib/python3.7/site-packages/scipy/stats/stats.py:2279: RuntimeWarning: invalid value encountered in true_divide\n",
      "  np.expand_dims(sstd, axis=axis))\n"
     ]
    },
    {
     "name": "stdout",
     "output_type": "stream",
     "text": [
      "...saving right hem.\n",
      "***sub-sid09***\n",
      "    Processing run  sub-sid09_ses-02_task-pathvideo_bold_space-fsaverage6.L.func.gii\n",
      "    Loading  /jukebox/norman/rmasis/MemPal/data/BIDS/Norman/Baldassano/10442_vrpalace/derivatives/fmriprep/sub-sid09/ses-02/func/sub-sid09_ses-02_task-pathvideo_bold_space-fsaverage6.L.func.gii\n",
      "    Extracting confound information from  sub-sid09/ses-02/func/sub-sid09_ses-02_task-pathvideo_bold_confounds.tsv\n",
      "   D[hem] =  (40962, 595)\n",
      "   np dot regrcoef, reg.t:  (40962, 595)\n",
      "   interecept shape:  (40962, 1)\n"
     ]
    },
    {
     "name": "stderr",
     "output_type": "stream",
     "text": [
      "/jukebox/pkgs/PYGER/0.9.1/lib/python3.7/site-packages/scipy/stats/stats.py:2279: RuntimeWarning: divide by zero encountered in true_divide\n",
      "  np.expand_dims(sstd, axis=axis))\n",
      "/jukebox/pkgs/PYGER/0.9.1/lib/python3.7/site-packages/scipy/stats/stats.py:2279: RuntimeWarning: invalid value encountered in true_divide\n",
      "  np.expand_dims(sstd, axis=axis))\n"
     ]
    },
    {
     "name": "stdout",
     "output_type": "stream",
     "text": [
      "...saving left hem.\n",
      "***sub-sid09***\n",
      "    Processing run  sub-sid09_ses-02_task-pathvideo_bold_space-fsaverage6.R.func.gii\n",
      "    Loading  /jukebox/norman/rmasis/MemPal/data/BIDS/Norman/Baldassano/10442_vrpalace/derivatives/fmriprep/sub-sid09/ses-02/func/sub-sid09_ses-02_task-pathvideo_bold_space-fsaverage6.R.func.gii\n",
      "    Extracting confound information from  sub-sid09/ses-02/func/sub-sid09_ses-02_task-pathvideo_bold_confounds.tsv\n",
      "   D[hem] =  (40962, 595)\n",
      "   np dot regrcoef, reg.t:  (40962, 595)\n",
      "   interecept shape:  (40962, 1)\n"
     ]
    },
    {
     "name": "stderr",
     "output_type": "stream",
     "text": [
      "/jukebox/pkgs/PYGER/0.9.1/lib/python3.7/site-packages/scipy/stats/stats.py:2279: RuntimeWarning: divide by zero encountered in true_divide\n",
      "  np.expand_dims(sstd, axis=axis))\n",
      "/jukebox/pkgs/PYGER/0.9.1/lib/python3.7/site-packages/scipy/stats/stats.py:2279: RuntimeWarning: invalid value encountered in true_divide\n",
      "  np.expand_dims(sstd, axis=axis))\n"
     ]
    },
    {
     "name": "stdout",
     "output_type": "stream",
     "text": [
      "...saving right hem.\n",
      "***sub-sid09***\n",
      "    Processing run  sub-sid09_ses-02_task-recall_bold_space-fsaverage6.L.func.gii\n",
      "    Loading  /jukebox/norman/rmasis/MemPal/data/BIDS/Norman/Baldassano/10442_vrpalace/derivatives/fmriprep/sub-sid09/ses-02/func/sub-sid09_ses-02_task-recall_bold_space-fsaverage6.L.func.gii\n",
      "    Extracting confound information from  sub-sid09/ses-02/func/sub-sid09_ses-02_task-recall_bold_confounds.tsv\n",
      "   D[hem] =  (40962, 2663)\n",
      "   np dot regrcoef, reg.t:  (40962, 2663)\n",
      "   interecept shape:  (40962, 1)\n"
     ]
    },
    {
     "name": "stderr",
     "output_type": "stream",
     "text": [
      "/jukebox/pkgs/PYGER/0.9.1/lib/python3.7/site-packages/scipy/stats/stats.py:2279: RuntimeWarning: divide by zero encountered in true_divide\n",
      "  np.expand_dims(sstd, axis=axis))\n",
      "/jukebox/pkgs/PYGER/0.9.1/lib/python3.7/site-packages/scipy/stats/stats.py:2279: RuntimeWarning: invalid value encountered in true_divide\n",
      "  np.expand_dims(sstd, axis=axis))\n"
     ]
    },
    {
     "name": "stdout",
     "output_type": "stream",
     "text": [
      "...saving left hem.\n",
      "***sub-sid09***\n",
      "    Processing run  sub-sid09_ses-02_task-recall_bold_space-fsaverage6.R.func.gii\n",
      "    Loading  /jukebox/norman/rmasis/MemPal/data/BIDS/Norman/Baldassano/10442_vrpalace/derivatives/fmriprep/sub-sid09/ses-02/func/sub-sid09_ses-02_task-recall_bold_space-fsaverage6.R.func.gii\n",
      "    Extracting confound information from  sub-sid09/ses-02/func/sub-sid09_ses-02_task-recall_bold_confounds.tsv\n",
      "   D[hem] =  (40962, 2663)\n",
      "   np dot regrcoef, reg.t:  (40962, 2663)\n",
      "   interecept shape:  (40962, 1)\n"
     ]
    },
    {
     "name": "stderr",
     "output_type": "stream",
     "text": [
      "/jukebox/pkgs/PYGER/0.9.1/lib/python3.7/site-packages/scipy/stats/stats.py:2279: RuntimeWarning: divide by zero encountered in true_divide\n",
      "  np.expand_dims(sstd, axis=axis))\n",
      "/jukebox/pkgs/PYGER/0.9.1/lib/python3.7/site-packages/scipy/stats/stats.py:2279: RuntimeWarning: invalid value encountered in true_divide\n",
      "  np.expand_dims(sstd, axis=axis))\n"
     ]
    },
    {
     "name": "stdout",
     "output_type": "stream",
     "text": [
      "...saving right hem.\n",
      "***sub-sid09***\n",
      "    Processing run  sub-sid09_ses-02_task-roomobjectvideo_run-01_bold_space-fsaverage6.L.func.gii\n",
      "    Loading  /jukebox/norman/rmasis/MemPal/data/BIDS/Norman/Baldassano/10442_vrpalace/derivatives/fmriprep/sub-sid09/ses-02/func/sub-sid09_ses-02_task-roomobjectvideo_run-01_bold_space-fsaverage6.L.func.gii\n",
      "    Extracting confound information from  sub-sid09/ses-02/func/sub-sid09_ses-02_task-roomobjectvideo_run-01_bold_confounds.tsv\n",
      "   D[hem] =  (40962, 460)\n",
      "   np dot regrcoef, reg.t:  (40962, 460)\n",
      "   interecept shape:  (40962, 1)\n"
     ]
    },
    {
     "name": "stderr",
     "output_type": "stream",
     "text": [
      "/jukebox/pkgs/PYGER/0.9.1/lib/python3.7/site-packages/scipy/stats/stats.py:2279: RuntimeWarning: divide by zero encountered in true_divide\n",
      "  np.expand_dims(sstd, axis=axis))\n",
      "/jukebox/pkgs/PYGER/0.9.1/lib/python3.7/site-packages/scipy/stats/stats.py:2279: RuntimeWarning: invalid value encountered in true_divide\n",
      "  np.expand_dims(sstd, axis=axis))\n"
     ]
    },
    {
     "name": "stdout",
     "output_type": "stream",
     "text": [
      "...saving left hem.\n",
      "***sub-sid09***\n",
      "    Processing run  sub-sid09_ses-02_task-roomobjectvideo_run-01_bold_space-fsaverage6.R.func.gii\n",
      "    Loading  /jukebox/norman/rmasis/MemPal/data/BIDS/Norman/Baldassano/10442_vrpalace/derivatives/fmriprep/sub-sid09/ses-02/func/sub-sid09_ses-02_task-roomobjectvideo_run-01_bold_space-fsaverage6.R.func.gii\n",
      "    Extracting confound information from  sub-sid09/ses-02/func/sub-sid09_ses-02_task-roomobjectvideo_run-01_bold_confounds.tsv\n",
      "   D[hem] =  (40962, 460)\n",
      "   np dot regrcoef, reg.t:  (40962, 460)\n",
      "   interecept shape:  (40962, 1)\n"
     ]
    },
    {
     "name": "stderr",
     "output_type": "stream",
     "text": [
      "/jukebox/pkgs/PYGER/0.9.1/lib/python3.7/site-packages/scipy/stats/stats.py:2279: RuntimeWarning: divide by zero encountered in true_divide\n",
      "  np.expand_dims(sstd, axis=axis))\n",
      "/jukebox/pkgs/PYGER/0.9.1/lib/python3.7/site-packages/scipy/stats/stats.py:2279: RuntimeWarning: invalid value encountered in true_divide\n",
      "  np.expand_dims(sstd, axis=axis))\n"
     ]
    },
    {
     "name": "stdout",
     "output_type": "stream",
     "text": [
      "...saving right hem.\n",
      "***sub-sid09***\n",
      "    Processing run  sub-sid09_ses-02_task-roomobjectvideo_run-02_bold_space-fsaverage6.L.func.gii\n",
      "    Loading  /jukebox/norman/rmasis/MemPal/data/BIDS/Norman/Baldassano/10442_vrpalace/derivatives/fmriprep/sub-sid09/ses-02/func/sub-sid09_ses-02_task-roomobjectvideo_run-02_bold_space-fsaverage6.L.func.gii\n",
      "    Extracting confound information from  sub-sid09/ses-02/func/sub-sid09_ses-02_task-roomobjectvideo_run-02_bold_confounds.tsv\n",
      "   D[hem] =  (40962, 460)\n",
      "   np dot regrcoef, reg.t:  (40962, 460)\n",
      "   interecept shape:  (40962, 1)\n"
     ]
    },
    {
     "name": "stderr",
     "output_type": "stream",
     "text": [
      "/jukebox/pkgs/PYGER/0.9.1/lib/python3.7/site-packages/scipy/stats/stats.py:2279: RuntimeWarning: divide by zero encountered in true_divide\n",
      "  np.expand_dims(sstd, axis=axis))\n",
      "/jukebox/pkgs/PYGER/0.9.1/lib/python3.7/site-packages/scipy/stats/stats.py:2279: RuntimeWarning: invalid value encountered in true_divide\n",
      "  np.expand_dims(sstd, axis=axis))\n"
     ]
    },
    {
     "name": "stdout",
     "output_type": "stream",
     "text": [
      "...saving left hem.\n",
      "***sub-sid09***\n",
      "    Processing run  sub-sid09_ses-02_task-roomobjectvideo_run-02_bold_space-fsaverage6.R.func.gii\n",
      "    Loading  /jukebox/norman/rmasis/MemPal/data/BIDS/Norman/Baldassano/10442_vrpalace/derivatives/fmriprep/sub-sid09/ses-02/func/sub-sid09_ses-02_task-roomobjectvideo_run-02_bold_space-fsaverage6.R.func.gii\n",
      "    Extracting confound information from  sub-sid09/ses-02/func/sub-sid09_ses-02_task-roomobjectvideo_run-02_bold_confounds.tsv\n",
      "   D[hem] =  (40962, 460)\n",
      "   np dot regrcoef, reg.t:  (40962, 460)\n",
      "   interecept shape:  (40962, 1)\n"
     ]
    },
    {
     "name": "stderr",
     "output_type": "stream",
     "text": [
      "/jukebox/pkgs/PYGER/0.9.1/lib/python3.7/site-packages/scipy/stats/stats.py:2279: RuntimeWarning: divide by zero encountered in true_divide\n",
      "  np.expand_dims(sstd, axis=axis))\n",
      "/jukebox/pkgs/PYGER/0.9.1/lib/python3.7/site-packages/scipy/stats/stats.py:2279: RuntimeWarning: invalid value encountered in true_divide\n",
      "  np.expand_dims(sstd, axis=axis))\n"
     ]
    },
    {
     "name": "stdout",
     "output_type": "stream",
     "text": [
      "...saving right hem.\n",
      "***sub-sid10***\n",
      "    Processing run  sub-sid10_ses-01_task-pathvideo_bold_space-fsaverage6.L.func.gii\n",
      "    Loading  /jukebox/norman/rmasis/MemPal/data/BIDS/Norman/Baldassano/10442_vrpalace/derivatives/fmriprep/sub-sid10/ses-01/func/sub-sid10_ses-01_task-pathvideo_bold_space-fsaverage6.L.func.gii\n",
      "    Extracting confound information from  sub-sid10/ses-01/func/sub-sid10_ses-01_task-pathvideo_bold_confounds.tsv\n",
      "   D[hem] =  (40962, 595)\n",
      "   np dot regrcoef, reg.t:  (40962, 595)\n",
      "   interecept shape:  (40962, 1)\n"
     ]
    },
    {
     "name": "stderr",
     "output_type": "stream",
     "text": [
      "/jukebox/pkgs/PYGER/0.9.1/lib/python3.7/site-packages/scipy/stats/stats.py:2279: RuntimeWarning: divide by zero encountered in true_divide\n",
      "  np.expand_dims(sstd, axis=axis))\n",
      "/jukebox/pkgs/PYGER/0.9.1/lib/python3.7/site-packages/scipy/stats/stats.py:2279: RuntimeWarning: invalid value encountered in true_divide\n",
      "  np.expand_dims(sstd, axis=axis))\n"
     ]
    },
    {
     "name": "stdout",
     "output_type": "stream",
     "text": [
      "   making new directory ../PythonData2024/ProcessedData//sub-sid10/\n",
      "...saving left hem.\n",
      "***sub-sid10***\n",
      "    Processing run  sub-sid10_ses-01_task-pathvideo_bold_space-fsaverage6.R.func.gii\n",
      "    Loading  /jukebox/norman/rmasis/MemPal/data/BIDS/Norman/Baldassano/10442_vrpalace/derivatives/fmriprep/sub-sid10/ses-01/func/sub-sid10_ses-01_task-pathvideo_bold_space-fsaverage6.R.func.gii\n",
      "    Extracting confound information from  sub-sid10/ses-01/func/sub-sid10_ses-01_task-pathvideo_bold_confounds.tsv\n",
      "   D[hem] =  (40962, 595)\n",
      "   np dot regrcoef, reg.t:  (40962, 595)\n",
      "   interecept shape:  (40962, 1)\n"
     ]
    },
    {
     "name": "stderr",
     "output_type": "stream",
     "text": [
      "/jukebox/pkgs/PYGER/0.9.1/lib/python3.7/site-packages/scipy/stats/stats.py:2279: RuntimeWarning: divide by zero encountered in true_divide\n",
      "  np.expand_dims(sstd, axis=axis))\n",
      "/jukebox/pkgs/PYGER/0.9.1/lib/python3.7/site-packages/scipy/stats/stats.py:2279: RuntimeWarning: invalid value encountered in true_divide\n",
      "  np.expand_dims(sstd, axis=axis))\n"
     ]
    },
    {
     "name": "stdout",
     "output_type": "stream",
     "text": [
      "...saving right hem.\n",
      "***sub-sid10***\n",
      "    Processing run  sub-sid10_ses-01_task-roomvideo_run-01_bold_space-fsaverage6.L.func.gii\n",
      "    Loading  /jukebox/norman/rmasis/MemPal/data/BIDS/Norman/Baldassano/10442_vrpalace/derivatives/fmriprep/sub-sid10/ses-01/func/sub-sid10_ses-01_task-roomvideo_run-01_bold_space-fsaverage6.L.func.gii\n",
      "    Extracting confound information from  sub-sid10/ses-01/func/sub-sid10_ses-01_task-roomvideo_run-01_bold_confounds.tsv\n",
      "   D[hem] =  (40962, 235)\n",
      "   np dot regrcoef, reg.t:  (40962, 235)\n",
      "   interecept shape:  (40962, 1)\n"
     ]
    },
    {
     "name": "stderr",
     "output_type": "stream",
     "text": [
      "/jukebox/pkgs/PYGER/0.9.1/lib/python3.7/site-packages/scipy/stats/stats.py:2279: RuntimeWarning: divide by zero encountered in true_divide\n",
      "  np.expand_dims(sstd, axis=axis))\n",
      "/jukebox/pkgs/PYGER/0.9.1/lib/python3.7/site-packages/scipy/stats/stats.py:2279: RuntimeWarning: invalid value encountered in true_divide\n",
      "  np.expand_dims(sstd, axis=axis))\n"
     ]
    },
    {
     "name": "stdout",
     "output_type": "stream",
     "text": [
      "...saving left hem.\n",
      "***sub-sid10***\n",
      "    Processing run  sub-sid10_ses-01_task-roomvideo_run-01_bold_space-fsaverage6.R.func.gii\n",
      "    Loading  /jukebox/norman/rmasis/MemPal/data/BIDS/Norman/Baldassano/10442_vrpalace/derivatives/fmriprep/sub-sid10/ses-01/func/sub-sid10_ses-01_task-roomvideo_run-01_bold_space-fsaverage6.R.func.gii\n",
      "    Extracting confound information from  sub-sid10/ses-01/func/sub-sid10_ses-01_task-roomvideo_run-01_bold_confounds.tsv\n",
      "   D[hem] =  (40962, 235)\n",
      "   np dot regrcoef, reg.t:  (40962, 235)\n",
      "   interecept shape:  (40962, 1)\n"
     ]
    },
    {
     "name": "stderr",
     "output_type": "stream",
     "text": [
      "/jukebox/pkgs/PYGER/0.9.1/lib/python3.7/site-packages/scipy/stats/stats.py:2279: RuntimeWarning: divide by zero encountered in true_divide\n",
      "  np.expand_dims(sstd, axis=axis))\n",
      "/jukebox/pkgs/PYGER/0.9.1/lib/python3.7/site-packages/scipy/stats/stats.py:2279: RuntimeWarning: invalid value encountered in true_divide\n",
      "  np.expand_dims(sstd, axis=axis))\n"
     ]
    },
    {
     "name": "stdout",
     "output_type": "stream",
     "text": [
      "...saving right hem.\n",
      "***sub-sid10***\n",
      "    Processing run  sub-sid10_ses-01_task-roomvideo_run-02_bold_space-fsaverage6.L.func.gii\n",
      "    Loading  /jukebox/norman/rmasis/MemPal/data/BIDS/Norman/Baldassano/10442_vrpalace/derivatives/fmriprep/sub-sid10/ses-01/func/sub-sid10_ses-01_task-roomvideo_run-02_bold_space-fsaverage6.L.func.gii\n",
      "    Extracting confound information from  sub-sid10/ses-01/func/sub-sid10_ses-01_task-roomvideo_run-02_bold_confounds.tsv\n",
      "   D[hem] =  (40962, 235)\n",
      "   np dot regrcoef, reg.t:  (40962, 235)\n",
      "   interecept shape:  (40962, 1)\n"
     ]
    },
    {
     "name": "stderr",
     "output_type": "stream",
     "text": [
      "/jukebox/pkgs/PYGER/0.9.1/lib/python3.7/site-packages/scipy/stats/stats.py:2279: RuntimeWarning: divide by zero encountered in true_divide\n",
      "  np.expand_dims(sstd, axis=axis))\n",
      "/jukebox/pkgs/PYGER/0.9.1/lib/python3.7/site-packages/scipy/stats/stats.py:2279: RuntimeWarning: invalid value encountered in true_divide\n",
      "  np.expand_dims(sstd, axis=axis))\n"
     ]
    },
    {
     "name": "stdout",
     "output_type": "stream",
     "text": [
      "...saving left hem.\n",
      "***sub-sid10***\n",
      "    Processing run  sub-sid10_ses-01_task-roomvideo_run-02_bold_space-fsaverage6.R.func.gii\n",
      "    Loading  /jukebox/norman/rmasis/MemPal/data/BIDS/Norman/Baldassano/10442_vrpalace/derivatives/fmriprep/sub-sid10/ses-01/func/sub-sid10_ses-01_task-roomvideo_run-02_bold_space-fsaverage6.R.func.gii\n",
      "    Extracting confound information from  sub-sid10/ses-01/func/sub-sid10_ses-01_task-roomvideo_run-02_bold_confounds.tsv\n",
      "   D[hem] =  (40962, 235)\n",
      "   np dot regrcoef, reg.t:  (40962, 235)\n",
      "   interecept shape:  (40962, 1)\n"
     ]
    },
    {
     "name": "stderr",
     "output_type": "stream",
     "text": [
      "/jukebox/pkgs/PYGER/0.9.1/lib/python3.7/site-packages/scipy/stats/stats.py:2279: RuntimeWarning: divide by zero encountered in true_divide\n",
      "  np.expand_dims(sstd, axis=axis))\n",
      "/jukebox/pkgs/PYGER/0.9.1/lib/python3.7/site-packages/scipy/stats/stats.py:2279: RuntimeWarning: invalid value encountered in true_divide\n",
      "  np.expand_dims(sstd, axis=axis))\n"
     ]
    },
    {
     "name": "stdout",
     "output_type": "stream",
     "text": [
      "...saving right hem.\n",
      "***sub-sid10***\n",
      "    Processing run  sub-sid10_ses-02_task-pathvideo_bold_space-fsaverage6.L.func.gii\n",
      "    Loading  /jukebox/norman/rmasis/MemPal/data/BIDS/Norman/Baldassano/10442_vrpalace/derivatives/fmriprep/sub-sid10/ses-02/func/sub-sid10_ses-02_task-pathvideo_bold_space-fsaverage6.L.func.gii\n",
      "    Extracting confound information from  sub-sid10/ses-02/func/sub-sid10_ses-02_task-pathvideo_bold_confounds.tsv\n",
      "   D[hem] =  (40962, 595)\n",
      "   np dot regrcoef, reg.t:  (40962, 595)\n",
      "   interecept shape:  (40962, 1)\n"
     ]
    },
    {
     "name": "stderr",
     "output_type": "stream",
     "text": [
      "/jukebox/pkgs/PYGER/0.9.1/lib/python3.7/site-packages/scipy/stats/stats.py:2279: RuntimeWarning: divide by zero encountered in true_divide\n",
      "  np.expand_dims(sstd, axis=axis))\n",
      "/jukebox/pkgs/PYGER/0.9.1/lib/python3.7/site-packages/scipy/stats/stats.py:2279: RuntimeWarning: invalid value encountered in true_divide\n",
      "  np.expand_dims(sstd, axis=axis))\n"
     ]
    },
    {
     "name": "stdout",
     "output_type": "stream",
     "text": [
      "...saving left hem.\n",
      "***sub-sid10***\n",
      "    Processing run  sub-sid10_ses-02_task-pathvideo_bold_space-fsaverage6.R.func.gii\n",
      "    Loading  /jukebox/norman/rmasis/MemPal/data/BIDS/Norman/Baldassano/10442_vrpalace/derivatives/fmriprep/sub-sid10/ses-02/func/sub-sid10_ses-02_task-pathvideo_bold_space-fsaverage6.R.func.gii\n",
      "    Extracting confound information from  sub-sid10/ses-02/func/sub-sid10_ses-02_task-pathvideo_bold_confounds.tsv\n",
      "   D[hem] =  (40962, 595)\n",
      "   np dot regrcoef, reg.t:  (40962, 595)\n",
      "   interecept shape:  (40962, 1)\n"
     ]
    },
    {
     "name": "stderr",
     "output_type": "stream",
     "text": [
      "/jukebox/pkgs/PYGER/0.9.1/lib/python3.7/site-packages/scipy/stats/stats.py:2279: RuntimeWarning: divide by zero encountered in true_divide\n",
      "  np.expand_dims(sstd, axis=axis))\n",
      "/jukebox/pkgs/PYGER/0.9.1/lib/python3.7/site-packages/scipy/stats/stats.py:2279: RuntimeWarning: invalid value encountered in true_divide\n",
      "  np.expand_dims(sstd, axis=axis))\n"
     ]
    },
    {
     "name": "stdout",
     "output_type": "stream",
     "text": [
      "...saving right hem.\n",
      "***sub-sid10***\n",
      "    Processing run  sub-sid10_ses-02_task-recall_bold_space-fsaverage6.L.func.gii\n",
      "    Loading  /jukebox/norman/rmasis/MemPal/data/BIDS/Norman/Baldassano/10442_vrpalace/derivatives/fmriprep/sub-sid10/ses-02/func/sub-sid10_ses-02_task-recall_bold_space-fsaverage6.L.func.gii\n",
      "    Extracting confound information from  sub-sid10/ses-02/func/sub-sid10_ses-02_task-recall_bold_confounds.tsv\n",
      "   D[hem] =  (40962, 2191)\n",
      "   np dot regrcoef, reg.t:  (40962, 2191)\n",
      "   interecept shape:  (40962, 1)\n"
     ]
    },
    {
     "name": "stderr",
     "output_type": "stream",
     "text": [
      "/jukebox/pkgs/PYGER/0.9.1/lib/python3.7/site-packages/scipy/stats/stats.py:2279: RuntimeWarning: divide by zero encountered in true_divide\n",
      "  np.expand_dims(sstd, axis=axis))\n",
      "/jukebox/pkgs/PYGER/0.9.1/lib/python3.7/site-packages/scipy/stats/stats.py:2279: RuntimeWarning: invalid value encountered in true_divide\n",
      "  np.expand_dims(sstd, axis=axis))\n"
     ]
    },
    {
     "name": "stdout",
     "output_type": "stream",
     "text": [
      "...saving left hem.\n",
      "***sub-sid10***\n",
      "    Processing run  sub-sid10_ses-02_task-recall_bold_space-fsaverage6.R.func.gii\n",
      "    Loading  /jukebox/norman/rmasis/MemPal/data/BIDS/Norman/Baldassano/10442_vrpalace/derivatives/fmriprep/sub-sid10/ses-02/func/sub-sid10_ses-02_task-recall_bold_space-fsaverage6.R.func.gii\n",
      "    Extracting confound information from  sub-sid10/ses-02/func/sub-sid10_ses-02_task-recall_bold_confounds.tsv\n",
      "   D[hem] =  (40962, 2191)\n",
      "   np dot regrcoef, reg.t:  (40962, 2191)\n",
      "   interecept shape:  (40962, 1)\n"
     ]
    },
    {
     "name": "stderr",
     "output_type": "stream",
     "text": [
      "/jukebox/pkgs/PYGER/0.9.1/lib/python3.7/site-packages/scipy/stats/stats.py:2279: RuntimeWarning: divide by zero encountered in true_divide\n",
      "  np.expand_dims(sstd, axis=axis))\n",
      "/jukebox/pkgs/PYGER/0.9.1/lib/python3.7/site-packages/scipy/stats/stats.py:2279: RuntimeWarning: invalid value encountered in true_divide\n",
      "  np.expand_dims(sstd, axis=axis))\n"
     ]
    },
    {
     "name": "stdout",
     "output_type": "stream",
     "text": [
      "...saving right hem.\n",
      "***sub-sid10***\n",
      "    Processing run  sub-sid10_ses-02_task-roomobjectvideo_run-01_bold_space-fsaverage6.L.func.gii\n",
      "    Loading  /jukebox/norman/rmasis/MemPal/data/BIDS/Norman/Baldassano/10442_vrpalace/derivatives/fmriprep/sub-sid10/ses-02/func/sub-sid10_ses-02_task-roomobjectvideo_run-01_bold_space-fsaverage6.L.func.gii\n",
      "    Extracting confound information from  sub-sid10/ses-02/func/sub-sid10_ses-02_task-roomobjectvideo_run-01_bold_confounds.tsv\n",
      "   D[hem] =  (40962, 460)\n",
      "   np dot regrcoef, reg.t:  (40962, 460)\n",
      "   interecept shape:  (40962, 1)\n"
     ]
    },
    {
     "name": "stderr",
     "output_type": "stream",
     "text": [
      "/jukebox/pkgs/PYGER/0.9.1/lib/python3.7/site-packages/scipy/stats/stats.py:2279: RuntimeWarning: divide by zero encountered in true_divide\n",
      "  np.expand_dims(sstd, axis=axis))\n",
      "/jukebox/pkgs/PYGER/0.9.1/lib/python3.7/site-packages/scipy/stats/stats.py:2279: RuntimeWarning: invalid value encountered in true_divide\n",
      "  np.expand_dims(sstd, axis=axis))\n"
     ]
    },
    {
     "name": "stdout",
     "output_type": "stream",
     "text": [
      "...saving left hem.\n",
      "***sub-sid10***\n",
      "    Processing run  sub-sid10_ses-02_task-roomobjectvideo_run-01_bold_space-fsaverage6.R.func.gii\n",
      "    Loading  /jukebox/norman/rmasis/MemPal/data/BIDS/Norman/Baldassano/10442_vrpalace/derivatives/fmriprep/sub-sid10/ses-02/func/sub-sid10_ses-02_task-roomobjectvideo_run-01_bold_space-fsaverage6.R.func.gii\n",
      "    Extracting confound information from  sub-sid10/ses-02/func/sub-sid10_ses-02_task-roomobjectvideo_run-01_bold_confounds.tsv\n",
      "   D[hem] =  (40962, 460)\n",
      "   np dot regrcoef, reg.t:  (40962, 460)\n",
      "   interecept shape:  (40962, 1)\n"
     ]
    },
    {
     "name": "stderr",
     "output_type": "stream",
     "text": [
      "/jukebox/pkgs/PYGER/0.9.1/lib/python3.7/site-packages/scipy/stats/stats.py:2279: RuntimeWarning: divide by zero encountered in true_divide\n",
      "  np.expand_dims(sstd, axis=axis))\n",
      "/jukebox/pkgs/PYGER/0.9.1/lib/python3.7/site-packages/scipy/stats/stats.py:2279: RuntimeWarning: invalid value encountered in true_divide\n",
      "  np.expand_dims(sstd, axis=axis))\n"
     ]
    },
    {
     "name": "stdout",
     "output_type": "stream",
     "text": [
      "...saving right hem.\n",
      "***sub-sid10***\n",
      "    Processing run  sub-sid10_ses-02_task-roomobjectvideo_run-02_bold_space-fsaverage6.L.func.gii\n",
      "    Loading  /jukebox/norman/rmasis/MemPal/data/BIDS/Norman/Baldassano/10442_vrpalace/derivatives/fmriprep/sub-sid10/ses-02/func/sub-sid10_ses-02_task-roomobjectvideo_run-02_bold_space-fsaverage6.L.func.gii\n",
      "    Extracting confound information from  sub-sid10/ses-02/func/sub-sid10_ses-02_task-roomobjectvideo_run-02_bold_confounds.tsv\n",
      "   D[hem] =  (40962, 460)\n",
      "   np dot regrcoef, reg.t:  (40962, 460)\n",
      "   interecept shape:  (40962, 1)\n"
     ]
    },
    {
     "name": "stderr",
     "output_type": "stream",
     "text": [
      "/jukebox/pkgs/PYGER/0.9.1/lib/python3.7/site-packages/scipy/stats/stats.py:2279: RuntimeWarning: divide by zero encountered in true_divide\n",
      "  np.expand_dims(sstd, axis=axis))\n",
      "/jukebox/pkgs/PYGER/0.9.1/lib/python3.7/site-packages/scipy/stats/stats.py:2279: RuntimeWarning: invalid value encountered in true_divide\n",
      "  np.expand_dims(sstd, axis=axis))\n"
     ]
    },
    {
     "name": "stdout",
     "output_type": "stream",
     "text": [
      "...saving left hem.\n",
      "***sub-sid10***\n",
      "    Processing run  sub-sid10_ses-02_task-roomobjectvideo_run-02_bold_space-fsaverage6.R.func.gii\n",
      "    Loading  /jukebox/norman/rmasis/MemPal/data/BIDS/Norman/Baldassano/10442_vrpalace/derivatives/fmriprep/sub-sid10/ses-02/func/sub-sid10_ses-02_task-roomobjectvideo_run-02_bold_space-fsaverage6.R.func.gii\n",
      "    Extracting confound information from  sub-sid10/ses-02/func/sub-sid10_ses-02_task-roomobjectvideo_run-02_bold_confounds.tsv\n",
      "   D[hem] =  (40962, 460)\n",
      "   np dot regrcoef, reg.t:  (40962, 460)\n",
      "   interecept shape:  (40962, 1)\n"
     ]
    },
    {
     "name": "stderr",
     "output_type": "stream",
     "text": [
      "/jukebox/pkgs/PYGER/0.9.1/lib/python3.7/site-packages/scipy/stats/stats.py:2279: RuntimeWarning: divide by zero encountered in true_divide\n",
      "  np.expand_dims(sstd, axis=axis))\n",
      "/jukebox/pkgs/PYGER/0.9.1/lib/python3.7/site-packages/scipy/stats/stats.py:2279: RuntimeWarning: invalid value encountered in true_divide\n",
      "  np.expand_dims(sstd, axis=axis))\n"
     ]
    },
    {
     "name": "stdout",
     "output_type": "stream",
     "text": [
      "...saving right hem.\n",
      "***sub-sid11***\n",
      "    Processing run  sub-sid11_ses-01_task-pathvideo_bold_space-fsaverage6.L.func.gii\n",
      "    Loading  /jukebox/norman/rmasis/MemPal/data/BIDS/Norman/Baldassano/10442_vrpalace/derivatives/fmriprep/sub-sid11/ses-01/func/sub-sid11_ses-01_task-pathvideo_bold_space-fsaverage6.L.func.gii\n",
      "    Extracting confound information from  sub-sid11/ses-01/func/sub-sid11_ses-01_task-pathvideo_bold_confounds.tsv\n",
      "   D[hem] =  (40962, 595)\n",
      "   np dot regrcoef, reg.t:  (40962, 595)\n",
      "   interecept shape:  (40962, 1)\n"
     ]
    },
    {
     "name": "stderr",
     "output_type": "stream",
     "text": [
      "/jukebox/pkgs/PYGER/0.9.1/lib/python3.7/site-packages/scipy/stats/stats.py:2279: RuntimeWarning: divide by zero encountered in true_divide\n",
      "  np.expand_dims(sstd, axis=axis))\n",
      "/jukebox/pkgs/PYGER/0.9.1/lib/python3.7/site-packages/scipy/stats/stats.py:2279: RuntimeWarning: invalid value encountered in true_divide\n",
      "  np.expand_dims(sstd, axis=axis))\n"
     ]
    },
    {
     "name": "stdout",
     "output_type": "stream",
     "text": [
      "   making new directory ../PythonData2024/ProcessedData//sub-sid11/\n",
      "...saving left hem.\n",
      "***sub-sid11***\n",
      "    Processing run  sub-sid11_ses-01_task-pathvideo_bold_space-fsaverage6.R.func.gii\n",
      "    Loading  /jukebox/norman/rmasis/MemPal/data/BIDS/Norman/Baldassano/10442_vrpalace/derivatives/fmriprep/sub-sid11/ses-01/func/sub-sid11_ses-01_task-pathvideo_bold_space-fsaverage6.R.func.gii\n",
      "    Extracting confound information from  sub-sid11/ses-01/func/sub-sid11_ses-01_task-pathvideo_bold_confounds.tsv\n",
      "   D[hem] =  (40962, 595)\n",
      "   np dot regrcoef, reg.t:  (40962, 595)\n",
      "   interecept shape:  (40962, 1)\n"
     ]
    },
    {
     "name": "stderr",
     "output_type": "stream",
     "text": [
      "/jukebox/pkgs/PYGER/0.9.1/lib/python3.7/site-packages/scipy/stats/stats.py:2279: RuntimeWarning: divide by zero encountered in true_divide\n",
      "  np.expand_dims(sstd, axis=axis))\n",
      "/jukebox/pkgs/PYGER/0.9.1/lib/python3.7/site-packages/scipy/stats/stats.py:2279: RuntimeWarning: invalid value encountered in true_divide\n",
      "  np.expand_dims(sstd, axis=axis))\n"
     ]
    },
    {
     "name": "stdout",
     "output_type": "stream",
     "text": [
      "...saving right hem.\n",
      "***sub-sid11***\n",
      "    Processing run  sub-sid11_ses-01_task-roomvideo_run-01_bold_space-fsaverage6.L.func.gii\n",
      "    Loading  /jukebox/norman/rmasis/MemPal/data/BIDS/Norman/Baldassano/10442_vrpalace/derivatives/fmriprep/sub-sid11/ses-01/func/sub-sid11_ses-01_task-roomvideo_run-01_bold_space-fsaverage6.L.func.gii\n",
      "    Extracting confound information from  sub-sid11/ses-01/func/sub-sid11_ses-01_task-roomvideo_run-01_bold_confounds.tsv\n",
      "   D[hem] =  (40962, 235)\n",
      "   np dot regrcoef, reg.t:  (40962, 235)\n",
      "   interecept shape:  (40962, 1)\n"
     ]
    },
    {
     "name": "stderr",
     "output_type": "stream",
     "text": [
      "/jukebox/pkgs/PYGER/0.9.1/lib/python3.7/site-packages/scipy/stats/stats.py:2279: RuntimeWarning: divide by zero encountered in true_divide\n",
      "  np.expand_dims(sstd, axis=axis))\n",
      "/jukebox/pkgs/PYGER/0.9.1/lib/python3.7/site-packages/scipy/stats/stats.py:2279: RuntimeWarning: invalid value encountered in true_divide\n",
      "  np.expand_dims(sstd, axis=axis))\n"
     ]
    },
    {
     "name": "stdout",
     "output_type": "stream",
     "text": [
      "...saving left hem.\n",
      "***sub-sid11***\n",
      "    Processing run  sub-sid11_ses-01_task-roomvideo_run-01_bold_space-fsaverage6.R.func.gii\n",
      "    Loading  /jukebox/norman/rmasis/MemPal/data/BIDS/Norman/Baldassano/10442_vrpalace/derivatives/fmriprep/sub-sid11/ses-01/func/sub-sid11_ses-01_task-roomvideo_run-01_bold_space-fsaverage6.R.func.gii\n",
      "    Extracting confound information from  sub-sid11/ses-01/func/sub-sid11_ses-01_task-roomvideo_run-01_bold_confounds.tsv\n",
      "   D[hem] =  (40962, 235)\n",
      "   np dot regrcoef, reg.t:  (40962, 235)\n",
      "   interecept shape:  (40962, 1)\n"
     ]
    },
    {
     "name": "stderr",
     "output_type": "stream",
     "text": [
      "/jukebox/pkgs/PYGER/0.9.1/lib/python3.7/site-packages/scipy/stats/stats.py:2279: RuntimeWarning: divide by zero encountered in true_divide\n",
      "  np.expand_dims(sstd, axis=axis))\n",
      "/jukebox/pkgs/PYGER/0.9.1/lib/python3.7/site-packages/scipy/stats/stats.py:2279: RuntimeWarning: invalid value encountered in true_divide\n",
      "  np.expand_dims(sstd, axis=axis))\n"
     ]
    },
    {
     "name": "stdout",
     "output_type": "stream",
     "text": [
      "...saving right hem.\n",
      "***sub-sid11***\n",
      "    Processing run  sub-sid11_ses-01_task-roomvideo_run-02_bold_space-fsaverage6.L.func.gii\n",
      "    Loading  /jukebox/norman/rmasis/MemPal/data/BIDS/Norman/Baldassano/10442_vrpalace/derivatives/fmriprep/sub-sid11/ses-01/func/sub-sid11_ses-01_task-roomvideo_run-02_bold_space-fsaverage6.L.func.gii\n",
      "    Extracting confound information from  sub-sid11/ses-01/func/sub-sid11_ses-01_task-roomvideo_run-02_bold_confounds.tsv\n",
      "   D[hem] =  (40962, 235)\n",
      "   np dot regrcoef, reg.t:  (40962, 235)\n",
      "   interecept shape:  (40962, 1)\n"
     ]
    },
    {
     "name": "stderr",
     "output_type": "stream",
     "text": [
      "/jukebox/pkgs/PYGER/0.9.1/lib/python3.7/site-packages/scipy/stats/stats.py:2279: RuntimeWarning: divide by zero encountered in true_divide\n",
      "  np.expand_dims(sstd, axis=axis))\n",
      "/jukebox/pkgs/PYGER/0.9.1/lib/python3.7/site-packages/scipy/stats/stats.py:2279: RuntimeWarning: invalid value encountered in true_divide\n",
      "  np.expand_dims(sstd, axis=axis))\n"
     ]
    },
    {
     "name": "stdout",
     "output_type": "stream",
     "text": [
      "...saving left hem.\n",
      "***sub-sid11***\n",
      "    Processing run  sub-sid11_ses-01_task-roomvideo_run-02_bold_space-fsaverage6.R.func.gii\n",
      "    Loading  /jukebox/norman/rmasis/MemPal/data/BIDS/Norman/Baldassano/10442_vrpalace/derivatives/fmriprep/sub-sid11/ses-01/func/sub-sid11_ses-01_task-roomvideo_run-02_bold_space-fsaverage6.R.func.gii\n",
      "    Extracting confound information from  sub-sid11/ses-01/func/sub-sid11_ses-01_task-roomvideo_run-02_bold_confounds.tsv\n",
      "   D[hem] =  (40962, 235)\n",
      "   np dot regrcoef, reg.t:  (40962, 235)\n",
      "   interecept shape:  (40962, 1)\n"
     ]
    },
    {
     "name": "stderr",
     "output_type": "stream",
     "text": [
      "/jukebox/pkgs/PYGER/0.9.1/lib/python3.7/site-packages/scipy/stats/stats.py:2279: RuntimeWarning: divide by zero encountered in true_divide\n",
      "  np.expand_dims(sstd, axis=axis))\n",
      "/jukebox/pkgs/PYGER/0.9.1/lib/python3.7/site-packages/scipy/stats/stats.py:2279: RuntimeWarning: invalid value encountered in true_divide\n",
      "  np.expand_dims(sstd, axis=axis))\n"
     ]
    },
    {
     "name": "stdout",
     "output_type": "stream",
     "text": [
      "...saving right hem.\n",
      "***sub-sid11***\n",
      "    Processing run  sub-sid11_ses-02_task-pathvideo_bold_space-fsaverage6.L.func.gii\n",
      "    Loading  /jukebox/norman/rmasis/MemPal/data/BIDS/Norman/Baldassano/10442_vrpalace/derivatives/fmriprep/sub-sid11/ses-02/func/sub-sid11_ses-02_task-pathvideo_bold_space-fsaverage6.L.func.gii\n",
      "    Extracting confound information from  sub-sid11/ses-02/func/sub-sid11_ses-02_task-pathvideo_bold_confounds.tsv\n",
      "   D[hem] =  (40962, 595)\n",
      "   np dot regrcoef, reg.t:  (40962, 595)\n",
      "   interecept shape:  (40962, 1)\n"
     ]
    },
    {
     "name": "stderr",
     "output_type": "stream",
     "text": [
      "/jukebox/pkgs/PYGER/0.9.1/lib/python3.7/site-packages/scipy/stats/stats.py:2279: RuntimeWarning: divide by zero encountered in true_divide\n",
      "  np.expand_dims(sstd, axis=axis))\n",
      "/jukebox/pkgs/PYGER/0.9.1/lib/python3.7/site-packages/scipy/stats/stats.py:2279: RuntimeWarning: invalid value encountered in true_divide\n",
      "  np.expand_dims(sstd, axis=axis))\n"
     ]
    },
    {
     "name": "stdout",
     "output_type": "stream",
     "text": [
      "...saving left hem.\n",
      "***sub-sid11***\n",
      "    Processing run  sub-sid11_ses-02_task-pathvideo_bold_space-fsaverage6.R.func.gii\n",
      "    Loading  /jukebox/norman/rmasis/MemPal/data/BIDS/Norman/Baldassano/10442_vrpalace/derivatives/fmriprep/sub-sid11/ses-02/func/sub-sid11_ses-02_task-pathvideo_bold_space-fsaverage6.R.func.gii\n",
      "    Extracting confound information from  sub-sid11/ses-02/func/sub-sid11_ses-02_task-pathvideo_bold_confounds.tsv\n",
      "   D[hem] =  (40962, 595)\n",
      "   np dot regrcoef, reg.t:  (40962, 595)\n",
      "   interecept shape:  (40962, 1)\n"
     ]
    },
    {
     "name": "stderr",
     "output_type": "stream",
     "text": [
      "/jukebox/pkgs/PYGER/0.9.1/lib/python3.7/site-packages/scipy/stats/stats.py:2279: RuntimeWarning: divide by zero encountered in true_divide\n",
      "  np.expand_dims(sstd, axis=axis))\n",
      "/jukebox/pkgs/PYGER/0.9.1/lib/python3.7/site-packages/scipy/stats/stats.py:2279: RuntimeWarning: invalid value encountered in true_divide\n",
      "  np.expand_dims(sstd, axis=axis))\n"
     ]
    },
    {
     "name": "stdout",
     "output_type": "stream",
     "text": [
      "...saving right hem.\n",
      "***sub-sid11***\n",
      "    Processing run  sub-sid11_ses-02_task-recall_bold_space-fsaverage6.L.func.gii\n",
      "    Loading  /jukebox/norman/rmasis/MemPal/data/BIDS/Norman/Baldassano/10442_vrpalace/derivatives/fmriprep/sub-sid11/ses-02/func/sub-sid11_ses-02_task-recall_bold_space-fsaverage6.L.func.gii\n",
      "    Extracting confound information from  sub-sid11/ses-02/func/sub-sid11_ses-02_task-recall_bold_confounds.tsv\n",
      "   D[hem] =  (40962, 1243)\n",
      "   np dot regrcoef, reg.t:  (40962, 1243)\n",
      "   interecept shape:  (40962, 1)\n"
     ]
    },
    {
     "name": "stderr",
     "output_type": "stream",
     "text": [
      "/jukebox/pkgs/PYGER/0.9.1/lib/python3.7/site-packages/scipy/stats/stats.py:2279: RuntimeWarning: divide by zero encountered in true_divide\n",
      "  np.expand_dims(sstd, axis=axis))\n",
      "/jukebox/pkgs/PYGER/0.9.1/lib/python3.7/site-packages/scipy/stats/stats.py:2279: RuntimeWarning: invalid value encountered in true_divide\n",
      "  np.expand_dims(sstd, axis=axis))\n"
     ]
    },
    {
     "name": "stdout",
     "output_type": "stream",
     "text": [
      "...saving left hem.\n",
      "***sub-sid11***\n",
      "    Processing run  sub-sid11_ses-02_task-recall_bold_space-fsaverage6.R.func.gii\n",
      "    Loading  /jukebox/norman/rmasis/MemPal/data/BIDS/Norman/Baldassano/10442_vrpalace/derivatives/fmriprep/sub-sid11/ses-02/func/sub-sid11_ses-02_task-recall_bold_space-fsaverage6.R.func.gii\n",
      "    Extracting confound information from  sub-sid11/ses-02/func/sub-sid11_ses-02_task-recall_bold_confounds.tsv\n",
      "   D[hem] =  (40962, 1243)\n",
      "   np dot regrcoef, reg.t:  (40962, 1243)\n",
      "   interecept shape:  (40962, 1)\n"
     ]
    },
    {
     "name": "stderr",
     "output_type": "stream",
     "text": [
      "/jukebox/pkgs/PYGER/0.9.1/lib/python3.7/site-packages/scipy/stats/stats.py:2279: RuntimeWarning: divide by zero encountered in true_divide\n",
      "  np.expand_dims(sstd, axis=axis))\n",
      "/jukebox/pkgs/PYGER/0.9.1/lib/python3.7/site-packages/scipy/stats/stats.py:2279: RuntimeWarning: invalid value encountered in true_divide\n",
      "  np.expand_dims(sstd, axis=axis))\n"
     ]
    },
    {
     "name": "stdout",
     "output_type": "stream",
     "text": [
      "...saving right hem.\n",
      "***sub-sid11***\n",
      "    Processing run  sub-sid11_ses-02_task-roomobjectvideo_run-01_bold_space-fsaverage6.L.func.gii\n",
      "    Loading  /jukebox/norman/rmasis/MemPal/data/BIDS/Norman/Baldassano/10442_vrpalace/derivatives/fmriprep/sub-sid11/ses-02/func/sub-sid11_ses-02_task-roomobjectvideo_run-01_bold_space-fsaverage6.L.func.gii\n",
      "    Extracting confound information from  sub-sid11/ses-02/func/sub-sid11_ses-02_task-roomobjectvideo_run-01_bold_confounds.tsv\n",
      "   D[hem] =  (40962, 460)\n",
      "   np dot regrcoef, reg.t:  (40962, 460)\n",
      "   interecept shape:  (40962, 1)\n"
     ]
    },
    {
     "name": "stderr",
     "output_type": "stream",
     "text": [
      "/jukebox/pkgs/PYGER/0.9.1/lib/python3.7/site-packages/scipy/stats/stats.py:2279: RuntimeWarning: divide by zero encountered in true_divide\n",
      "  np.expand_dims(sstd, axis=axis))\n",
      "/jukebox/pkgs/PYGER/0.9.1/lib/python3.7/site-packages/scipy/stats/stats.py:2279: RuntimeWarning: invalid value encountered in true_divide\n",
      "  np.expand_dims(sstd, axis=axis))\n"
     ]
    },
    {
     "name": "stdout",
     "output_type": "stream",
     "text": [
      "...saving left hem.\n",
      "***sub-sid11***\n",
      "    Processing run  sub-sid11_ses-02_task-roomobjectvideo_run-01_bold_space-fsaverage6.R.func.gii\n",
      "    Loading  /jukebox/norman/rmasis/MemPal/data/BIDS/Norman/Baldassano/10442_vrpalace/derivatives/fmriprep/sub-sid11/ses-02/func/sub-sid11_ses-02_task-roomobjectvideo_run-01_bold_space-fsaverage6.R.func.gii\n",
      "    Extracting confound information from  sub-sid11/ses-02/func/sub-sid11_ses-02_task-roomobjectvideo_run-01_bold_confounds.tsv\n",
      "   D[hem] =  (40962, 460)\n",
      "   np dot regrcoef, reg.t:  (40962, 460)\n",
      "   interecept shape:  (40962, 1)\n"
     ]
    },
    {
     "name": "stderr",
     "output_type": "stream",
     "text": [
      "/jukebox/pkgs/PYGER/0.9.1/lib/python3.7/site-packages/scipy/stats/stats.py:2279: RuntimeWarning: divide by zero encountered in true_divide\n",
      "  np.expand_dims(sstd, axis=axis))\n",
      "/jukebox/pkgs/PYGER/0.9.1/lib/python3.7/site-packages/scipy/stats/stats.py:2279: RuntimeWarning: invalid value encountered in true_divide\n",
      "  np.expand_dims(sstd, axis=axis))\n"
     ]
    },
    {
     "name": "stdout",
     "output_type": "stream",
     "text": [
      "...saving right hem.\n",
      "***sub-sid11***\n",
      "    Processing run  sub-sid11_ses-02_task-roomobjectvideo_run-02_bold_space-fsaverage6.L.func.gii\n",
      "    Loading  /jukebox/norman/rmasis/MemPal/data/BIDS/Norman/Baldassano/10442_vrpalace/derivatives/fmriprep/sub-sid11/ses-02/func/sub-sid11_ses-02_task-roomobjectvideo_run-02_bold_space-fsaverage6.L.func.gii\n",
      "    Extracting confound information from  sub-sid11/ses-02/func/sub-sid11_ses-02_task-roomobjectvideo_run-02_bold_confounds.tsv\n",
      "   D[hem] =  (40962, 460)\n",
      "   np dot regrcoef, reg.t:  (40962, 460)\n",
      "   interecept shape:  (40962, 1)\n"
     ]
    },
    {
     "name": "stderr",
     "output_type": "stream",
     "text": [
      "/jukebox/pkgs/PYGER/0.9.1/lib/python3.7/site-packages/scipy/stats/stats.py:2279: RuntimeWarning: divide by zero encountered in true_divide\n",
      "  np.expand_dims(sstd, axis=axis))\n",
      "/jukebox/pkgs/PYGER/0.9.1/lib/python3.7/site-packages/scipy/stats/stats.py:2279: RuntimeWarning: invalid value encountered in true_divide\n",
      "  np.expand_dims(sstd, axis=axis))\n"
     ]
    },
    {
     "name": "stdout",
     "output_type": "stream",
     "text": [
      "...saving left hem.\n",
      "***sub-sid11***\n",
      "    Processing run  sub-sid11_ses-02_task-roomobjectvideo_run-02_bold_space-fsaverage6.R.func.gii\n",
      "    Loading  /jukebox/norman/rmasis/MemPal/data/BIDS/Norman/Baldassano/10442_vrpalace/derivatives/fmriprep/sub-sid11/ses-02/func/sub-sid11_ses-02_task-roomobjectvideo_run-02_bold_space-fsaverage6.R.func.gii\n",
      "    Extracting confound information from  sub-sid11/ses-02/func/sub-sid11_ses-02_task-roomobjectvideo_run-02_bold_confounds.tsv\n",
      "   D[hem] =  (40962, 460)\n",
      "   np dot regrcoef, reg.t:  (40962, 460)\n",
      "   interecept shape:  (40962, 1)\n"
     ]
    },
    {
     "name": "stderr",
     "output_type": "stream",
     "text": [
      "/jukebox/pkgs/PYGER/0.9.1/lib/python3.7/site-packages/scipy/stats/stats.py:2279: RuntimeWarning: divide by zero encountered in true_divide\n",
      "  np.expand_dims(sstd, axis=axis))\n",
      "/jukebox/pkgs/PYGER/0.9.1/lib/python3.7/site-packages/scipy/stats/stats.py:2279: RuntimeWarning: invalid value encountered in true_divide\n",
      "  np.expand_dims(sstd, axis=axis))\n"
     ]
    },
    {
     "name": "stdout",
     "output_type": "stream",
     "text": [
      "...saving right hem.\n",
      "***sub-sid12***\n",
      "    Processing run  sub-sid12_ses-01_task-pathvideo_bold_space-fsaverage6.L.func.gii\n",
      "    Loading  /jukebox/norman/rmasis/MemPal/data/BIDS/Norman/Baldassano/10442_vrpalace/derivatives/fmriprep/sub-sid12/ses-01/func/sub-sid12_ses-01_task-pathvideo_bold_space-fsaverage6.L.func.gii\n",
      "    Extracting confound information from  sub-sid12/ses-01/func/sub-sid12_ses-01_task-pathvideo_bold_confounds.tsv\n",
      "   D[hem] =  (40962, 595)\n",
      "   np dot regrcoef, reg.t:  (40962, 595)\n",
      "   interecept shape:  (40962, 1)\n"
     ]
    },
    {
     "name": "stderr",
     "output_type": "stream",
     "text": [
      "/jukebox/pkgs/PYGER/0.9.1/lib/python3.7/site-packages/scipy/stats/stats.py:2279: RuntimeWarning: divide by zero encountered in true_divide\n",
      "  np.expand_dims(sstd, axis=axis))\n",
      "/jukebox/pkgs/PYGER/0.9.1/lib/python3.7/site-packages/scipy/stats/stats.py:2279: RuntimeWarning: invalid value encountered in true_divide\n",
      "  np.expand_dims(sstd, axis=axis))\n"
     ]
    },
    {
     "name": "stdout",
     "output_type": "stream",
     "text": [
      "   making new directory ../PythonData2024/ProcessedData//sub-sid12/\n",
      "...saving left hem.\n",
      "***sub-sid12***\n",
      "    Processing run  sub-sid12_ses-01_task-pathvideo_bold_space-fsaverage6.R.func.gii\n",
      "    Loading  /jukebox/norman/rmasis/MemPal/data/BIDS/Norman/Baldassano/10442_vrpalace/derivatives/fmriprep/sub-sid12/ses-01/func/sub-sid12_ses-01_task-pathvideo_bold_space-fsaverage6.R.func.gii\n",
      "    Extracting confound information from  sub-sid12/ses-01/func/sub-sid12_ses-01_task-pathvideo_bold_confounds.tsv\n",
      "   D[hem] =  (40962, 595)\n",
      "   np dot regrcoef, reg.t:  (40962, 595)\n",
      "   interecept shape:  (40962, 1)\n"
     ]
    },
    {
     "name": "stderr",
     "output_type": "stream",
     "text": [
      "/jukebox/pkgs/PYGER/0.9.1/lib/python3.7/site-packages/scipy/stats/stats.py:2279: RuntimeWarning: divide by zero encountered in true_divide\n",
      "  np.expand_dims(sstd, axis=axis))\n",
      "/jukebox/pkgs/PYGER/0.9.1/lib/python3.7/site-packages/scipy/stats/stats.py:2279: RuntimeWarning: invalid value encountered in true_divide\n",
      "  np.expand_dims(sstd, axis=axis))\n"
     ]
    },
    {
     "name": "stdout",
     "output_type": "stream",
     "text": [
      "...saving right hem.\n",
      "***sub-sid12***\n",
      "    Processing run  sub-sid12_ses-01_task-roomvideo_run-01_bold_space-fsaverage6.L.func.gii\n",
      "    Loading  /jukebox/norman/rmasis/MemPal/data/BIDS/Norman/Baldassano/10442_vrpalace/derivatives/fmriprep/sub-sid12/ses-01/func/sub-sid12_ses-01_task-roomvideo_run-01_bold_space-fsaverage6.L.func.gii\n",
      "    Extracting confound information from  sub-sid12/ses-01/func/sub-sid12_ses-01_task-roomvideo_run-01_bold_confounds.tsv\n",
      "   D[hem] =  (40962, 235)\n",
      "   np dot regrcoef, reg.t:  (40962, 235)\n",
      "   interecept shape:  (40962, 1)\n"
     ]
    },
    {
     "name": "stderr",
     "output_type": "stream",
     "text": [
      "/jukebox/pkgs/PYGER/0.9.1/lib/python3.7/site-packages/scipy/stats/stats.py:2279: RuntimeWarning: divide by zero encountered in true_divide\n",
      "  np.expand_dims(sstd, axis=axis))\n",
      "/jukebox/pkgs/PYGER/0.9.1/lib/python3.7/site-packages/scipy/stats/stats.py:2279: RuntimeWarning: invalid value encountered in true_divide\n",
      "  np.expand_dims(sstd, axis=axis))\n"
     ]
    },
    {
     "name": "stdout",
     "output_type": "stream",
     "text": [
      "...saving left hem.\n",
      "***sub-sid12***\n",
      "    Processing run  sub-sid12_ses-01_task-roomvideo_run-01_bold_space-fsaverage6.R.func.gii\n",
      "    Loading  /jukebox/norman/rmasis/MemPal/data/BIDS/Norman/Baldassano/10442_vrpalace/derivatives/fmriprep/sub-sid12/ses-01/func/sub-sid12_ses-01_task-roomvideo_run-01_bold_space-fsaverage6.R.func.gii\n",
      "    Extracting confound information from  sub-sid12/ses-01/func/sub-sid12_ses-01_task-roomvideo_run-01_bold_confounds.tsv\n",
      "   D[hem] =  (40962, 235)\n",
      "   np dot regrcoef, reg.t:  (40962, 235)\n",
      "   interecept shape:  (40962, 1)\n"
     ]
    },
    {
     "name": "stderr",
     "output_type": "stream",
     "text": [
      "/jukebox/pkgs/PYGER/0.9.1/lib/python3.7/site-packages/scipy/stats/stats.py:2279: RuntimeWarning: divide by zero encountered in true_divide\n",
      "  np.expand_dims(sstd, axis=axis))\n",
      "/jukebox/pkgs/PYGER/0.9.1/lib/python3.7/site-packages/scipy/stats/stats.py:2279: RuntimeWarning: invalid value encountered in true_divide\n",
      "  np.expand_dims(sstd, axis=axis))\n"
     ]
    },
    {
     "name": "stdout",
     "output_type": "stream",
     "text": [
      "...saving right hem.\n",
      "***sub-sid12***\n",
      "    Processing run  sub-sid12_ses-01_task-roomvideo_run-02_bold_space-fsaverage6.L.func.gii\n",
      "    Loading  /jukebox/norman/rmasis/MemPal/data/BIDS/Norman/Baldassano/10442_vrpalace/derivatives/fmriprep/sub-sid12/ses-01/func/sub-sid12_ses-01_task-roomvideo_run-02_bold_space-fsaverage6.L.func.gii\n",
      "    Extracting confound information from  sub-sid12/ses-01/func/sub-sid12_ses-01_task-roomvideo_run-02_bold_confounds.tsv\n",
      "   D[hem] =  (40962, 235)\n",
      "   np dot regrcoef, reg.t:  (40962, 235)\n",
      "   interecept shape:  (40962, 1)\n"
     ]
    },
    {
     "name": "stderr",
     "output_type": "stream",
     "text": [
      "/jukebox/pkgs/PYGER/0.9.1/lib/python3.7/site-packages/scipy/stats/stats.py:2279: RuntimeWarning: divide by zero encountered in true_divide\n",
      "  np.expand_dims(sstd, axis=axis))\n",
      "/jukebox/pkgs/PYGER/0.9.1/lib/python3.7/site-packages/scipy/stats/stats.py:2279: RuntimeWarning: invalid value encountered in true_divide\n",
      "  np.expand_dims(sstd, axis=axis))\n"
     ]
    },
    {
     "name": "stdout",
     "output_type": "stream",
     "text": [
      "...saving left hem.\n",
      "***sub-sid12***\n",
      "    Processing run  sub-sid12_ses-01_task-roomvideo_run-02_bold_space-fsaverage6.R.func.gii\n",
      "    Loading  /jukebox/norman/rmasis/MemPal/data/BIDS/Norman/Baldassano/10442_vrpalace/derivatives/fmriprep/sub-sid12/ses-01/func/sub-sid12_ses-01_task-roomvideo_run-02_bold_space-fsaverage6.R.func.gii\n",
      "    Extracting confound information from  sub-sid12/ses-01/func/sub-sid12_ses-01_task-roomvideo_run-02_bold_confounds.tsv\n",
      "   D[hem] =  (40962, 235)\n",
      "   np dot regrcoef, reg.t:  (40962, 235)\n",
      "   interecept shape:  (40962, 1)\n"
     ]
    },
    {
     "name": "stderr",
     "output_type": "stream",
     "text": [
      "/jukebox/pkgs/PYGER/0.9.1/lib/python3.7/site-packages/scipy/stats/stats.py:2279: RuntimeWarning: divide by zero encountered in true_divide\n",
      "  np.expand_dims(sstd, axis=axis))\n",
      "/jukebox/pkgs/PYGER/0.9.1/lib/python3.7/site-packages/scipy/stats/stats.py:2279: RuntimeWarning: invalid value encountered in true_divide\n",
      "  np.expand_dims(sstd, axis=axis))\n"
     ]
    },
    {
     "name": "stdout",
     "output_type": "stream",
     "text": [
      "...saving right hem.\n",
      "***sub-sid12***\n",
      "    Processing run  sub-sid12_ses-02_task-pathvideo_bold_space-fsaverage6.L.func.gii\n",
      "    Loading  /jukebox/norman/rmasis/MemPal/data/BIDS/Norman/Baldassano/10442_vrpalace/derivatives/fmriprep/sub-sid12/ses-02/func/sub-sid12_ses-02_task-pathvideo_bold_space-fsaverage6.L.func.gii\n",
      "    Extracting confound information from  sub-sid12/ses-02/func/sub-sid12_ses-02_task-pathvideo_bold_confounds.tsv\n",
      "   D[hem] =  (40962, 595)\n",
      "   np dot regrcoef, reg.t:  (40962, 595)\n",
      "   interecept shape:  (40962, 1)\n"
     ]
    },
    {
     "name": "stderr",
     "output_type": "stream",
     "text": [
      "/jukebox/pkgs/PYGER/0.9.1/lib/python3.7/site-packages/scipy/stats/stats.py:2279: RuntimeWarning: divide by zero encountered in true_divide\n",
      "  np.expand_dims(sstd, axis=axis))\n",
      "/jukebox/pkgs/PYGER/0.9.1/lib/python3.7/site-packages/scipy/stats/stats.py:2279: RuntimeWarning: invalid value encountered in true_divide\n",
      "  np.expand_dims(sstd, axis=axis))\n"
     ]
    },
    {
     "name": "stdout",
     "output_type": "stream",
     "text": [
      "...saving left hem.\n",
      "***sub-sid12***\n",
      "    Processing run  sub-sid12_ses-02_task-pathvideo_bold_space-fsaverage6.R.func.gii\n",
      "    Loading  /jukebox/norman/rmasis/MemPal/data/BIDS/Norman/Baldassano/10442_vrpalace/derivatives/fmriprep/sub-sid12/ses-02/func/sub-sid12_ses-02_task-pathvideo_bold_space-fsaverage6.R.func.gii\n",
      "    Extracting confound information from  sub-sid12/ses-02/func/sub-sid12_ses-02_task-pathvideo_bold_confounds.tsv\n",
      "   D[hem] =  (40962, 595)\n",
      "   np dot regrcoef, reg.t:  (40962, 595)\n",
      "   interecept shape:  (40962, 1)\n"
     ]
    },
    {
     "name": "stderr",
     "output_type": "stream",
     "text": [
      "/jukebox/pkgs/PYGER/0.9.1/lib/python3.7/site-packages/scipy/stats/stats.py:2279: RuntimeWarning: divide by zero encountered in true_divide\n",
      "  np.expand_dims(sstd, axis=axis))\n",
      "/jukebox/pkgs/PYGER/0.9.1/lib/python3.7/site-packages/scipy/stats/stats.py:2279: RuntimeWarning: invalid value encountered in true_divide\n",
      "  np.expand_dims(sstd, axis=axis))\n"
     ]
    },
    {
     "name": "stdout",
     "output_type": "stream",
     "text": [
      "...saving right hem.\n",
      "***sub-sid12***\n",
      "    Processing run  sub-sid12_ses-02_task-recall_bold_space-fsaverage6.L.func.gii\n",
      "    Loading  /jukebox/norman/rmasis/MemPal/data/BIDS/Norman/Baldassano/10442_vrpalace/derivatives/fmriprep/sub-sid12/ses-02/func/sub-sid12_ses-02_task-recall_bold_space-fsaverage6.L.func.gii\n",
      "    Extracting confound information from  sub-sid12/ses-02/func/sub-sid12_ses-02_task-recall_bold_confounds.tsv\n",
      "   D[hem] =  (40962, 1514)\n",
      "   np dot regrcoef, reg.t:  (40962, 1514)\n",
      "   interecept shape:  (40962, 1)\n"
     ]
    },
    {
     "name": "stderr",
     "output_type": "stream",
     "text": [
      "/jukebox/pkgs/PYGER/0.9.1/lib/python3.7/site-packages/scipy/stats/stats.py:2279: RuntimeWarning: divide by zero encountered in true_divide\n",
      "  np.expand_dims(sstd, axis=axis))\n",
      "/jukebox/pkgs/PYGER/0.9.1/lib/python3.7/site-packages/scipy/stats/stats.py:2279: RuntimeWarning: invalid value encountered in true_divide\n",
      "  np.expand_dims(sstd, axis=axis))\n"
     ]
    },
    {
     "name": "stdout",
     "output_type": "stream",
     "text": [
      "...saving left hem.\n",
      "***sub-sid12***\n",
      "    Processing run  sub-sid12_ses-02_task-recall_bold_space-fsaverage6.R.func.gii\n",
      "    Loading  /jukebox/norman/rmasis/MemPal/data/BIDS/Norman/Baldassano/10442_vrpalace/derivatives/fmriprep/sub-sid12/ses-02/func/sub-sid12_ses-02_task-recall_bold_space-fsaverage6.R.func.gii\n",
      "    Extracting confound information from  sub-sid12/ses-02/func/sub-sid12_ses-02_task-recall_bold_confounds.tsv\n",
      "   D[hem] =  (40962, 1514)\n",
      "   np dot regrcoef, reg.t:  (40962, 1514)\n",
      "   interecept shape:  (40962, 1)\n"
     ]
    },
    {
     "name": "stderr",
     "output_type": "stream",
     "text": [
      "/jukebox/pkgs/PYGER/0.9.1/lib/python3.7/site-packages/scipy/stats/stats.py:2279: RuntimeWarning: divide by zero encountered in true_divide\n",
      "  np.expand_dims(sstd, axis=axis))\n",
      "/jukebox/pkgs/PYGER/0.9.1/lib/python3.7/site-packages/scipy/stats/stats.py:2279: RuntimeWarning: invalid value encountered in true_divide\n",
      "  np.expand_dims(sstd, axis=axis))\n"
     ]
    },
    {
     "name": "stdout",
     "output_type": "stream",
     "text": [
      "...saving right hem.\n",
      "***sub-sid12***\n",
      "    Processing run  sub-sid12_ses-02_task-roomobjectvideo_run-01_bold_space-fsaverage6.L.func.gii\n",
      "    Loading  /jukebox/norman/rmasis/MemPal/data/BIDS/Norman/Baldassano/10442_vrpalace/derivatives/fmriprep/sub-sid12/ses-02/func/sub-sid12_ses-02_task-roomobjectvideo_run-01_bold_space-fsaverage6.L.func.gii\n",
      "    Extracting confound information from  sub-sid12/ses-02/func/sub-sid12_ses-02_task-roomobjectvideo_run-01_bold_confounds.tsv\n",
      "   D[hem] =  (40962, 460)\n",
      "   np dot regrcoef, reg.t:  (40962, 460)\n",
      "   interecept shape:  (40962, 1)\n"
     ]
    },
    {
     "name": "stderr",
     "output_type": "stream",
     "text": [
      "/jukebox/pkgs/PYGER/0.9.1/lib/python3.7/site-packages/scipy/stats/stats.py:2279: RuntimeWarning: divide by zero encountered in true_divide\n",
      "  np.expand_dims(sstd, axis=axis))\n",
      "/jukebox/pkgs/PYGER/0.9.1/lib/python3.7/site-packages/scipy/stats/stats.py:2279: RuntimeWarning: invalid value encountered in true_divide\n",
      "  np.expand_dims(sstd, axis=axis))\n"
     ]
    },
    {
     "name": "stdout",
     "output_type": "stream",
     "text": [
      "...saving left hem.\n",
      "***sub-sid12***\n",
      "    Processing run  sub-sid12_ses-02_task-roomobjectvideo_run-01_bold_space-fsaverage6.R.func.gii\n",
      "    Loading  /jukebox/norman/rmasis/MemPal/data/BIDS/Norman/Baldassano/10442_vrpalace/derivatives/fmriprep/sub-sid12/ses-02/func/sub-sid12_ses-02_task-roomobjectvideo_run-01_bold_space-fsaverage6.R.func.gii\n",
      "    Extracting confound information from  sub-sid12/ses-02/func/sub-sid12_ses-02_task-roomobjectvideo_run-01_bold_confounds.tsv\n",
      "   D[hem] =  (40962, 460)\n",
      "   np dot regrcoef, reg.t:  (40962, 460)\n",
      "   interecept shape:  (40962, 1)\n"
     ]
    },
    {
     "name": "stderr",
     "output_type": "stream",
     "text": [
      "/jukebox/pkgs/PYGER/0.9.1/lib/python3.7/site-packages/scipy/stats/stats.py:2279: RuntimeWarning: divide by zero encountered in true_divide\n",
      "  np.expand_dims(sstd, axis=axis))\n",
      "/jukebox/pkgs/PYGER/0.9.1/lib/python3.7/site-packages/scipy/stats/stats.py:2279: RuntimeWarning: invalid value encountered in true_divide\n",
      "  np.expand_dims(sstd, axis=axis))\n"
     ]
    },
    {
     "name": "stdout",
     "output_type": "stream",
     "text": [
      "...saving right hem.\n",
      "***sub-sid12***\n",
      "    Processing run  sub-sid12_ses-02_task-roomobjectvideo_run-02_bold_space-fsaverage6.L.func.gii\n",
      "    Loading  /jukebox/norman/rmasis/MemPal/data/BIDS/Norman/Baldassano/10442_vrpalace/derivatives/fmriprep/sub-sid12/ses-02/func/sub-sid12_ses-02_task-roomobjectvideo_run-02_bold_space-fsaverage6.L.func.gii\n",
      "    Extracting confound information from  sub-sid12/ses-02/func/sub-sid12_ses-02_task-roomobjectvideo_run-02_bold_confounds.tsv\n",
      "   D[hem] =  (40962, 460)\n",
      "   np dot regrcoef, reg.t:  (40962, 460)\n",
      "   interecept shape:  (40962, 1)\n"
     ]
    },
    {
     "name": "stderr",
     "output_type": "stream",
     "text": [
      "/jukebox/pkgs/PYGER/0.9.1/lib/python3.7/site-packages/scipy/stats/stats.py:2279: RuntimeWarning: divide by zero encountered in true_divide\n",
      "  np.expand_dims(sstd, axis=axis))\n",
      "/jukebox/pkgs/PYGER/0.9.1/lib/python3.7/site-packages/scipy/stats/stats.py:2279: RuntimeWarning: invalid value encountered in true_divide\n",
      "  np.expand_dims(sstd, axis=axis))\n"
     ]
    },
    {
     "name": "stdout",
     "output_type": "stream",
     "text": [
      "...saving left hem.\n",
      "***sub-sid12***\n",
      "    Processing run  sub-sid12_ses-02_task-roomobjectvideo_run-02_bold_space-fsaverage6.R.func.gii\n",
      "    Loading  /jukebox/norman/rmasis/MemPal/data/BIDS/Norman/Baldassano/10442_vrpalace/derivatives/fmriprep/sub-sid12/ses-02/func/sub-sid12_ses-02_task-roomobjectvideo_run-02_bold_space-fsaverage6.R.func.gii\n",
      "    Extracting confound information from  sub-sid12/ses-02/func/sub-sid12_ses-02_task-roomobjectvideo_run-02_bold_confounds.tsv\n",
      "   D[hem] =  (40962, 460)\n",
      "   np dot regrcoef, reg.t:  (40962, 460)\n",
      "   interecept shape:  (40962, 1)\n"
     ]
    },
    {
     "name": "stderr",
     "output_type": "stream",
     "text": [
      "/jukebox/pkgs/PYGER/0.9.1/lib/python3.7/site-packages/scipy/stats/stats.py:2279: RuntimeWarning: divide by zero encountered in true_divide\n",
      "  np.expand_dims(sstd, axis=axis))\n",
      "/jukebox/pkgs/PYGER/0.9.1/lib/python3.7/site-packages/scipy/stats/stats.py:2279: RuntimeWarning: invalid value encountered in true_divide\n",
      "  np.expand_dims(sstd, axis=axis))\n"
     ]
    },
    {
     "name": "stdout",
     "output_type": "stream",
     "text": [
      "...saving right hem.\n",
      "***sub-sid13***\n",
      "    Processing run  sub-sid13_ses-01_task-pathvideo_bold_space-fsaverage6.L.func.gii\n",
      "    Loading  /jukebox/norman/rmasis/MemPal/data/BIDS/Norman/Baldassano/10442_vrpalace/derivatives/fmriprep/sub-sid13/ses-01/func/sub-sid13_ses-01_task-pathvideo_bold_space-fsaverage6.L.func.gii\n",
      "    Extracting confound information from  sub-sid13/ses-01/func/sub-sid13_ses-01_task-pathvideo_bold_confounds.tsv\n",
      "   D[hem] =  (40962, 595)\n",
      "   np dot regrcoef, reg.t:  (40962, 595)\n",
      "   interecept shape:  (40962, 1)\n"
     ]
    },
    {
     "name": "stderr",
     "output_type": "stream",
     "text": [
      "/jukebox/pkgs/PYGER/0.9.1/lib/python3.7/site-packages/scipy/stats/stats.py:2279: RuntimeWarning: divide by zero encountered in true_divide\n",
      "  np.expand_dims(sstd, axis=axis))\n",
      "/jukebox/pkgs/PYGER/0.9.1/lib/python3.7/site-packages/scipy/stats/stats.py:2279: RuntimeWarning: invalid value encountered in true_divide\n",
      "  np.expand_dims(sstd, axis=axis))\n"
     ]
    },
    {
     "name": "stdout",
     "output_type": "stream",
     "text": [
      "   making new directory ../PythonData2024/ProcessedData//sub-sid13/\n",
      "...saving left hem.\n",
      "***sub-sid13***\n",
      "    Processing run  sub-sid13_ses-01_task-pathvideo_bold_space-fsaverage6.R.func.gii\n",
      "    Loading  /jukebox/norman/rmasis/MemPal/data/BIDS/Norman/Baldassano/10442_vrpalace/derivatives/fmriprep/sub-sid13/ses-01/func/sub-sid13_ses-01_task-pathvideo_bold_space-fsaverage6.R.func.gii\n",
      "    Extracting confound information from  sub-sid13/ses-01/func/sub-sid13_ses-01_task-pathvideo_bold_confounds.tsv\n",
      "   D[hem] =  (40962, 595)\n",
      "   np dot regrcoef, reg.t:  (40962, 595)\n",
      "   interecept shape:  (40962, 1)\n"
     ]
    },
    {
     "name": "stderr",
     "output_type": "stream",
     "text": [
      "/jukebox/pkgs/PYGER/0.9.1/lib/python3.7/site-packages/scipy/stats/stats.py:2279: RuntimeWarning: divide by zero encountered in true_divide\n",
      "  np.expand_dims(sstd, axis=axis))\n",
      "/jukebox/pkgs/PYGER/0.9.1/lib/python3.7/site-packages/scipy/stats/stats.py:2279: RuntimeWarning: invalid value encountered in true_divide\n",
      "  np.expand_dims(sstd, axis=axis))\n"
     ]
    },
    {
     "name": "stdout",
     "output_type": "stream",
     "text": [
      "...saving right hem.\n",
      "***sub-sid13***\n",
      "    Processing run  sub-sid13_ses-01_task-roomvideo_run-01_bold_space-fsaverage6.L.func.gii\n",
      "    Loading  /jukebox/norman/rmasis/MemPal/data/BIDS/Norman/Baldassano/10442_vrpalace/derivatives/fmriprep/sub-sid13/ses-01/func/sub-sid13_ses-01_task-roomvideo_run-01_bold_space-fsaverage6.L.func.gii\n",
      "    Extracting confound information from  sub-sid13/ses-01/func/sub-sid13_ses-01_task-roomvideo_run-01_bold_confounds.tsv\n",
      "   D[hem] =  (40962, 235)\n",
      "   np dot regrcoef, reg.t:  (40962, 235)\n",
      "   interecept shape:  (40962, 1)\n"
     ]
    },
    {
     "name": "stderr",
     "output_type": "stream",
     "text": [
      "/jukebox/pkgs/PYGER/0.9.1/lib/python3.7/site-packages/scipy/stats/stats.py:2279: RuntimeWarning: divide by zero encountered in true_divide\n",
      "  np.expand_dims(sstd, axis=axis))\n",
      "/jukebox/pkgs/PYGER/0.9.1/lib/python3.7/site-packages/scipy/stats/stats.py:2279: RuntimeWarning: invalid value encountered in true_divide\n",
      "  np.expand_dims(sstd, axis=axis))\n"
     ]
    },
    {
     "name": "stdout",
     "output_type": "stream",
     "text": [
      "...saving left hem.\n",
      "***sub-sid13***\n",
      "    Processing run  sub-sid13_ses-01_task-roomvideo_run-01_bold_space-fsaverage6.R.func.gii\n",
      "    Loading  /jukebox/norman/rmasis/MemPal/data/BIDS/Norman/Baldassano/10442_vrpalace/derivatives/fmriprep/sub-sid13/ses-01/func/sub-sid13_ses-01_task-roomvideo_run-01_bold_space-fsaverage6.R.func.gii\n",
      "    Extracting confound information from  sub-sid13/ses-01/func/sub-sid13_ses-01_task-roomvideo_run-01_bold_confounds.tsv\n",
      "   D[hem] =  (40962, 235)\n",
      "   np dot regrcoef, reg.t:  (40962, 235)\n",
      "   interecept shape:  (40962, 1)\n"
     ]
    },
    {
     "name": "stderr",
     "output_type": "stream",
     "text": [
      "/jukebox/pkgs/PYGER/0.9.1/lib/python3.7/site-packages/scipy/stats/stats.py:2279: RuntimeWarning: divide by zero encountered in true_divide\n",
      "  np.expand_dims(sstd, axis=axis))\n",
      "/jukebox/pkgs/PYGER/0.9.1/lib/python3.7/site-packages/scipy/stats/stats.py:2279: RuntimeWarning: invalid value encountered in true_divide\n",
      "  np.expand_dims(sstd, axis=axis))\n"
     ]
    },
    {
     "name": "stdout",
     "output_type": "stream",
     "text": [
      "...saving right hem.\n",
      "***sub-sid13***\n",
      "    Processing run  sub-sid13_ses-01_task-roomvideo_run-02_bold_space-fsaverage6.L.func.gii\n",
      "    Loading  /jukebox/norman/rmasis/MemPal/data/BIDS/Norman/Baldassano/10442_vrpalace/derivatives/fmriprep/sub-sid13/ses-01/func/sub-sid13_ses-01_task-roomvideo_run-02_bold_space-fsaverage6.L.func.gii\n",
      "    Extracting confound information from  sub-sid13/ses-01/func/sub-sid13_ses-01_task-roomvideo_run-02_bold_confounds.tsv\n",
      "   D[hem] =  (40962, 235)\n",
      "   np dot regrcoef, reg.t:  (40962, 235)\n",
      "   interecept shape:  (40962, 1)\n"
     ]
    },
    {
     "name": "stderr",
     "output_type": "stream",
     "text": [
      "/jukebox/pkgs/PYGER/0.9.1/lib/python3.7/site-packages/scipy/stats/stats.py:2279: RuntimeWarning: divide by zero encountered in true_divide\n",
      "  np.expand_dims(sstd, axis=axis))\n",
      "/jukebox/pkgs/PYGER/0.9.1/lib/python3.7/site-packages/scipy/stats/stats.py:2279: RuntimeWarning: invalid value encountered in true_divide\n",
      "  np.expand_dims(sstd, axis=axis))\n"
     ]
    },
    {
     "name": "stdout",
     "output_type": "stream",
     "text": [
      "...saving left hem.\n",
      "***sub-sid13***\n",
      "    Processing run  sub-sid13_ses-01_task-roomvideo_run-02_bold_space-fsaverage6.R.func.gii\n",
      "    Loading  /jukebox/norman/rmasis/MemPal/data/BIDS/Norman/Baldassano/10442_vrpalace/derivatives/fmriprep/sub-sid13/ses-01/func/sub-sid13_ses-01_task-roomvideo_run-02_bold_space-fsaverage6.R.func.gii\n",
      "    Extracting confound information from  sub-sid13/ses-01/func/sub-sid13_ses-01_task-roomvideo_run-02_bold_confounds.tsv\n",
      "   D[hem] =  (40962, 235)\n",
      "   np dot regrcoef, reg.t:  (40962, 235)\n",
      "   interecept shape:  (40962, 1)\n"
     ]
    },
    {
     "name": "stderr",
     "output_type": "stream",
     "text": [
      "/jukebox/pkgs/PYGER/0.9.1/lib/python3.7/site-packages/scipy/stats/stats.py:2279: RuntimeWarning: divide by zero encountered in true_divide\n",
      "  np.expand_dims(sstd, axis=axis))\n",
      "/jukebox/pkgs/PYGER/0.9.1/lib/python3.7/site-packages/scipy/stats/stats.py:2279: RuntimeWarning: invalid value encountered in true_divide\n",
      "  np.expand_dims(sstd, axis=axis))\n"
     ]
    },
    {
     "name": "stdout",
     "output_type": "stream",
     "text": [
      "...saving right hem.\n",
      "***sub-sid13***\n",
      "    Processing run  sub-sid13_ses-02_task-pathvideo_bold_space-fsaverage6.L.func.gii\n",
      "    Loading  /jukebox/norman/rmasis/MemPal/data/BIDS/Norman/Baldassano/10442_vrpalace/derivatives/fmriprep/sub-sid13/ses-02/func/sub-sid13_ses-02_task-pathvideo_bold_space-fsaverage6.L.func.gii\n",
      "    Extracting confound information from  sub-sid13/ses-02/func/sub-sid13_ses-02_task-pathvideo_bold_confounds.tsv\n",
      "   D[hem] =  (40962, 595)\n",
      "   np dot regrcoef, reg.t:  (40962, 595)\n",
      "   interecept shape:  (40962, 1)\n"
     ]
    },
    {
     "name": "stderr",
     "output_type": "stream",
     "text": [
      "/jukebox/pkgs/PYGER/0.9.1/lib/python3.7/site-packages/scipy/stats/stats.py:2279: RuntimeWarning: divide by zero encountered in true_divide\n",
      "  np.expand_dims(sstd, axis=axis))\n",
      "/jukebox/pkgs/PYGER/0.9.1/lib/python3.7/site-packages/scipy/stats/stats.py:2279: RuntimeWarning: invalid value encountered in true_divide\n",
      "  np.expand_dims(sstd, axis=axis))\n"
     ]
    },
    {
     "name": "stdout",
     "output_type": "stream",
     "text": [
      "...saving left hem.\n",
      "***sub-sid13***\n",
      "    Processing run  sub-sid13_ses-02_task-pathvideo_bold_space-fsaverage6.R.func.gii\n",
      "    Loading  /jukebox/norman/rmasis/MemPal/data/BIDS/Norman/Baldassano/10442_vrpalace/derivatives/fmriprep/sub-sid13/ses-02/func/sub-sid13_ses-02_task-pathvideo_bold_space-fsaverage6.R.func.gii\n",
      "    Extracting confound information from  sub-sid13/ses-02/func/sub-sid13_ses-02_task-pathvideo_bold_confounds.tsv\n",
      "   D[hem] =  (40962, 595)\n",
      "   np dot regrcoef, reg.t:  (40962, 595)\n",
      "   interecept shape:  (40962, 1)\n"
     ]
    },
    {
     "name": "stderr",
     "output_type": "stream",
     "text": [
      "/jukebox/pkgs/PYGER/0.9.1/lib/python3.7/site-packages/scipy/stats/stats.py:2279: RuntimeWarning: divide by zero encountered in true_divide\n",
      "  np.expand_dims(sstd, axis=axis))\n",
      "/jukebox/pkgs/PYGER/0.9.1/lib/python3.7/site-packages/scipy/stats/stats.py:2279: RuntimeWarning: invalid value encountered in true_divide\n",
      "  np.expand_dims(sstd, axis=axis))\n"
     ]
    },
    {
     "name": "stdout",
     "output_type": "stream",
     "text": [
      "...saving right hem.\n",
      "***sub-sid13***\n",
      "    Processing run  sub-sid13_ses-02_task-recall_bold_space-fsaverage6.L.func.gii\n",
      "    Loading  /jukebox/norman/rmasis/MemPal/data/BIDS/Norman/Baldassano/10442_vrpalace/derivatives/fmriprep/sub-sid13/ses-02/func/sub-sid13_ses-02_task-recall_bold_space-fsaverage6.L.func.gii\n",
      "    Extracting confound information from  sub-sid13/ses-02/func/sub-sid13_ses-02_task-recall_bold_confounds.tsv\n",
      "   D[hem] =  (40962, 2671)\n",
      "   np dot regrcoef, reg.t:  (40962, 2671)\n",
      "   interecept shape:  (40962, 1)\n"
     ]
    },
    {
     "name": "stderr",
     "output_type": "stream",
     "text": [
      "/jukebox/pkgs/PYGER/0.9.1/lib/python3.7/site-packages/scipy/stats/stats.py:2279: RuntimeWarning: divide by zero encountered in true_divide\n",
      "  np.expand_dims(sstd, axis=axis))\n",
      "/jukebox/pkgs/PYGER/0.9.1/lib/python3.7/site-packages/scipy/stats/stats.py:2279: RuntimeWarning: invalid value encountered in true_divide\n",
      "  np.expand_dims(sstd, axis=axis))\n"
     ]
    },
    {
     "name": "stdout",
     "output_type": "stream",
     "text": [
      "...saving left hem.\n",
      "***sub-sid13***\n",
      "    Processing run  sub-sid13_ses-02_task-recall_bold_space-fsaverage6.R.func.gii\n",
      "    Loading  /jukebox/norman/rmasis/MemPal/data/BIDS/Norman/Baldassano/10442_vrpalace/derivatives/fmriprep/sub-sid13/ses-02/func/sub-sid13_ses-02_task-recall_bold_space-fsaverage6.R.func.gii\n",
      "    Extracting confound information from  sub-sid13/ses-02/func/sub-sid13_ses-02_task-recall_bold_confounds.tsv\n",
      "   D[hem] =  (40962, 2671)\n",
      "   np dot regrcoef, reg.t:  (40962, 2671)\n",
      "   interecept shape:  (40962, 1)\n"
     ]
    },
    {
     "name": "stderr",
     "output_type": "stream",
     "text": [
      "/jukebox/pkgs/PYGER/0.9.1/lib/python3.7/site-packages/scipy/stats/stats.py:2279: RuntimeWarning: divide by zero encountered in true_divide\n",
      "  np.expand_dims(sstd, axis=axis))\n",
      "/jukebox/pkgs/PYGER/0.9.1/lib/python3.7/site-packages/scipy/stats/stats.py:2279: RuntimeWarning: invalid value encountered in true_divide\n",
      "  np.expand_dims(sstd, axis=axis))\n"
     ]
    },
    {
     "name": "stdout",
     "output_type": "stream",
     "text": [
      "...saving right hem.\n",
      "***sub-sid13***\n",
      "    Processing run  sub-sid13_ses-02_task-roomobjectvideo_run-01_bold_space-fsaverage6.L.func.gii\n",
      "    Loading  /jukebox/norman/rmasis/MemPal/data/BIDS/Norman/Baldassano/10442_vrpalace/derivatives/fmriprep/sub-sid13/ses-02/func/sub-sid13_ses-02_task-roomobjectvideo_run-01_bold_space-fsaverage6.L.func.gii\n",
      "    Extracting confound information from  sub-sid13/ses-02/func/sub-sid13_ses-02_task-roomobjectvideo_run-01_bold_confounds.tsv\n",
      "   D[hem] =  (40962, 460)\n",
      "   np dot regrcoef, reg.t:  (40962, 460)\n",
      "   interecept shape:  (40962, 1)\n"
     ]
    },
    {
     "name": "stderr",
     "output_type": "stream",
     "text": [
      "/jukebox/pkgs/PYGER/0.9.1/lib/python3.7/site-packages/scipy/stats/stats.py:2279: RuntimeWarning: divide by zero encountered in true_divide\n",
      "  np.expand_dims(sstd, axis=axis))\n",
      "/jukebox/pkgs/PYGER/0.9.1/lib/python3.7/site-packages/scipy/stats/stats.py:2279: RuntimeWarning: invalid value encountered in true_divide\n",
      "  np.expand_dims(sstd, axis=axis))\n"
     ]
    },
    {
     "name": "stdout",
     "output_type": "stream",
     "text": [
      "...saving left hem.\n",
      "***sub-sid13***\n",
      "    Processing run  sub-sid13_ses-02_task-roomobjectvideo_run-01_bold_space-fsaverage6.R.func.gii\n",
      "    Loading  /jukebox/norman/rmasis/MemPal/data/BIDS/Norman/Baldassano/10442_vrpalace/derivatives/fmriprep/sub-sid13/ses-02/func/sub-sid13_ses-02_task-roomobjectvideo_run-01_bold_space-fsaverage6.R.func.gii\n",
      "    Extracting confound information from  sub-sid13/ses-02/func/sub-sid13_ses-02_task-roomobjectvideo_run-01_bold_confounds.tsv\n",
      "   D[hem] =  (40962, 460)\n",
      "   np dot regrcoef, reg.t:  (40962, 460)\n",
      "   interecept shape:  (40962, 1)\n"
     ]
    },
    {
     "name": "stderr",
     "output_type": "stream",
     "text": [
      "/jukebox/pkgs/PYGER/0.9.1/lib/python3.7/site-packages/scipy/stats/stats.py:2279: RuntimeWarning: divide by zero encountered in true_divide\n",
      "  np.expand_dims(sstd, axis=axis))\n",
      "/jukebox/pkgs/PYGER/0.9.1/lib/python3.7/site-packages/scipy/stats/stats.py:2279: RuntimeWarning: invalid value encountered in true_divide\n",
      "  np.expand_dims(sstd, axis=axis))\n"
     ]
    },
    {
     "name": "stdout",
     "output_type": "stream",
     "text": [
      "...saving right hem.\n",
      "***sub-sid13***\n",
      "    Processing run  sub-sid13_ses-02_task-roomobjectvideo_run-02_bold_space-fsaverage6.L.func.gii\n",
      "    Loading  /jukebox/norman/rmasis/MemPal/data/BIDS/Norman/Baldassano/10442_vrpalace/derivatives/fmriprep/sub-sid13/ses-02/func/sub-sid13_ses-02_task-roomobjectvideo_run-02_bold_space-fsaverage6.L.func.gii\n",
      "    Extracting confound information from  sub-sid13/ses-02/func/sub-sid13_ses-02_task-roomobjectvideo_run-02_bold_confounds.tsv\n",
      "   D[hem] =  (40962, 460)\n",
      "   np dot regrcoef, reg.t:  (40962, 460)\n",
      "   interecept shape:  (40962, 1)\n"
     ]
    },
    {
     "name": "stderr",
     "output_type": "stream",
     "text": [
      "/jukebox/pkgs/PYGER/0.9.1/lib/python3.7/site-packages/scipy/stats/stats.py:2279: RuntimeWarning: divide by zero encountered in true_divide\n",
      "  np.expand_dims(sstd, axis=axis))\n",
      "/jukebox/pkgs/PYGER/0.9.1/lib/python3.7/site-packages/scipy/stats/stats.py:2279: RuntimeWarning: invalid value encountered in true_divide\n",
      "  np.expand_dims(sstd, axis=axis))\n"
     ]
    },
    {
     "name": "stdout",
     "output_type": "stream",
     "text": [
      "...saving left hem.\n",
      "***sub-sid13***\n",
      "    Processing run  sub-sid13_ses-02_task-roomobjectvideo_run-02_bold_space-fsaverage6.R.func.gii\n",
      "    Loading  /jukebox/norman/rmasis/MemPal/data/BIDS/Norman/Baldassano/10442_vrpalace/derivatives/fmriprep/sub-sid13/ses-02/func/sub-sid13_ses-02_task-roomobjectvideo_run-02_bold_space-fsaverage6.R.func.gii\n",
      "    Extracting confound information from  sub-sid13/ses-02/func/sub-sid13_ses-02_task-roomobjectvideo_run-02_bold_confounds.tsv\n",
      "   D[hem] =  (40962, 460)\n",
      "   np dot regrcoef, reg.t:  (40962, 460)\n",
      "   interecept shape:  (40962, 1)\n"
     ]
    },
    {
     "name": "stderr",
     "output_type": "stream",
     "text": [
      "/jukebox/pkgs/PYGER/0.9.1/lib/python3.7/site-packages/scipy/stats/stats.py:2279: RuntimeWarning: divide by zero encountered in true_divide\n",
      "  np.expand_dims(sstd, axis=axis))\n",
      "/jukebox/pkgs/PYGER/0.9.1/lib/python3.7/site-packages/scipy/stats/stats.py:2279: RuntimeWarning: invalid value encountered in true_divide\n",
      "  np.expand_dims(sstd, axis=axis))\n"
     ]
    },
    {
     "name": "stdout",
     "output_type": "stream",
     "text": [
      "...saving right hem.\n",
      "***sub-sid14***\n",
      "    Processing run  sub-sid14_ses-01_task-pathvideo_bold_space-fsaverage6.L.func.gii\n",
      "    Loading  /jukebox/norman/rmasis/MemPal/data/BIDS/Norman/Baldassano/10442_vrpalace/derivatives/fmriprep/sub-sid14/ses-01/func/sub-sid14_ses-01_task-pathvideo_bold_space-fsaverage6.L.func.gii\n",
      "    Extracting confound information from  sub-sid14/ses-01/func/sub-sid14_ses-01_task-pathvideo_bold_confounds.tsv\n",
      "   D[hem] =  (40962, 595)\n",
      "   np dot regrcoef, reg.t:  (40962, 595)\n",
      "   interecept shape:  (40962, 1)\n"
     ]
    },
    {
     "name": "stderr",
     "output_type": "stream",
     "text": [
      "/jukebox/pkgs/PYGER/0.9.1/lib/python3.7/site-packages/scipy/stats/stats.py:2279: RuntimeWarning: divide by zero encountered in true_divide\n",
      "  np.expand_dims(sstd, axis=axis))\n",
      "/jukebox/pkgs/PYGER/0.9.1/lib/python3.7/site-packages/scipy/stats/stats.py:2279: RuntimeWarning: invalid value encountered in true_divide\n",
      "  np.expand_dims(sstd, axis=axis))\n"
     ]
    },
    {
     "name": "stdout",
     "output_type": "stream",
     "text": [
      "   making new directory ../PythonData2024/ProcessedData//sub-sid14/\n",
      "...saving left hem.\n",
      "***sub-sid14***\n",
      "    Processing run  sub-sid14_ses-01_task-pathvideo_bold_space-fsaverage6.R.func.gii\n",
      "    Loading  /jukebox/norman/rmasis/MemPal/data/BIDS/Norman/Baldassano/10442_vrpalace/derivatives/fmriprep/sub-sid14/ses-01/func/sub-sid14_ses-01_task-pathvideo_bold_space-fsaverage6.R.func.gii\n",
      "    Extracting confound information from  sub-sid14/ses-01/func/sub-sid14_ses-01_task-pathvideo_bold_confounds.tsv\n",
      "   D[hem] =  (40962, 595)\n",
      "   np dot regrcoef, reg.t:  (40962, 595)\n",
      "   interecept shape:  (40962, 1)\n"
     ]
    },
    {
     "name": "stderr",
     "output_type": "stream",
     "text": [
      "/jukebox/pkgs/PYGER/0.9.1/lib/python3.7/site-packages/scipy/stats/stats.py:2279: RuntimeWarning: divide by zero encountered in true_divide\n",
      "  np.expand_dims(sstd, axis=axis))\n",
      "/jukebox/pkgs/PYGER/0.9.1/lib/python3.7/site-packages/scipy/stats/stats.py:2279: RuntimeWarning: invalid value encountered in true_divide\n",
      "  np.expand_dims(sstd, axis=axis))\n"
     ]
    },
    {
     "name": "stdout",
     "output_type": "stream",
     "text": [
      "...saving right hem.\n",
      "***sub-sid14***\n",
      "    Processing run  sub-sid14_ses-01_task-roomvideo_run-01_bold_space-fsaverage6.L.func.gii\n",
      "    Loading  /jukebox/norman/rmasis/MemPal/data/BIDS/Norman/Baldassano/10442_vrpalace/derivatives/fmriprep/sub-sid14/ses-01/func/sub-sid14_ses-01_task-roomvideo_run-01_bold_space-fsaverage6.L.func.gii\n",
      "    Extracting confound information from  sub-sid14/ses-01/func/sub-sid14_ses-01_task-roomvideo_run-01_bold_confounds.tsv\n",
      "   D[hem] =  (40962, 235)\n",
      "   np dot regrcoef, reg.t:  (40962, 235)\n",
      "   interecept shape:  (40962, 1)\n"
     ]
    },
    {
     "name": "stderr",
     "output_type": "stream",
     "text": [
      "/jukebox/pkgs/PYGER/0.9.1/lib/python3.7/site-packages/scipy/stats/stats.py:2279: RuntimeWarning: divide by zero encountered in true_divide\n",
      "  np.expand_dims(sstd, axis=axis))\n",
      "/jukebox/pkgs/PYGER/0.9.1/lib/python3.7/site-packages/scipy/stats/stats.py:2279: RuntimeWarning: invalid value encountered in true_divide\n",
      "  np.expand_dims(sstd, axis=axis))\n"
     ]
    },
    {
     "name": "stdout",
     "output_type": "stream",
     "text": [
      "...saving left hem.\n",
      "***sub-sid14***\n",
      "    Processing run  sub-sid14_ses-01_task-roomvideo_run-01_bold_space-fsaverage6.R.func.gii\n",
      "    Loading  /jukebox/norman/rmasis/MemPal/data/BIDS/Norman/Baldassano/10442_vrpalace/derivatives/fmriprep/sub-sid14/ses-01/func/sub-sid14_ses-01_task-roomvideo_run-01_bold_space-fsaverage6.R.func.gii\n",
      "    Extracting confound information from  sub-sid14/ses-01/func/sub-sid14_ses-01_task-roomvideo_run-01_bold_confounds.tsv\n",
      "   D[hem] =  (40962, 235)\n",
      "   np dot regrcoef, reg.t:  (40962, 235)\n",
      "   interecept shape:  (40962, 1)\n"
     ]
    },
    {
     "name": "stderr",
     "output_type": "stream",
     "text": [
      "/jukebox/pkgs/PYGER/0.9.1/lib/python3.7/site-packages/scipy/stats/stats.py:2279: RuntimeWarning: divide by zero encountered in true_divide\n",
      "  np.expand_dims(sstd, axis=axis))\n",
      "/jukebox/pkgs/PYGER/0.9.1/lib/python3.7/site-packages/scipy/stats/stats.py:2279: RuntimeWarning: invalid value encountered in true_divide\n",
      "  np.expand_dims(sstd, axis=axis))\n"
     ]
    },
    {
     "name": "stdout",
     "output_type": "stream",
     "text": [
      "...saving right hem.\n",
      "***sub-sid14***\n",
      "    Processing run  sub-sid14_ses-01_task-roomvideo_run-02_bold_space-fsaverage6.L.func.gii\n",
      "    Loading  /jukebox/norman/rmasis/MemPal/data/BIDS/Norman/Baldassano/10442_vrpalace/derivatives/fmriprep/sub-sid14/ses-01/func/sub-sid14_ses-01_task-roomvideo_run-02_bold_space-fsaverage6.L.func.gii\n",
      "    Extracting confound information from  sub-sid14/ses-01/func/sub-sid14_ses-01_task-roomvideo_run-02_bold_confounds.tsv\n",
      "   D[hem] =  (40962, 235)\n",
      "   np dot regrcoef, reg.t:  (40962, 235)\n",
      "   interecept shape:  (40962, 1)\n"
     ]
    },
    {
     "name": "stderr",
     "output_type": "stream",
     "text": [
      "/jukebox/pkgs/PYGER/0.9.1/lib/python3.7/site-packages/scipy/stats/stats.py:2279: RuntimeWarning: divide by zero encountered in true_divide\n",
      "  np.expand_dims(sstd, axis=axis))\n",
      "/jukebox/pkgs/PYGER/0.9.1/lib/python3.7/site-packages/scipy/stats/stats.py:2279: RuntimeWarning: invalid value encountered in true_divide\n",
      "  np.expand_dims(sstd, axis=axis))\n"
     ]
    },
    {
     "name": "stdout",
     "output_type": "stream",
     "text": [
      "...saving left hem.\n",
      "***sub-sid14***\n",
      "    Processing run  sub-sid14_ses-01_task-roomvideo_run-02_bold_space-fsaverage6.R.func.gii\n",
      "    Loading  /jukebox/norman/rmasis/MemPal/data/BIDS/Norman/Baldassano/10442_vrpalace/derivatives/fmriprep/sub-sid14/ses-01/func/sub-sid14_ses-01_task-roomvideo_run-02_bold_space-fsaverage6.R.func.gii\n",
      "    Extracting confound information from  sub-sid14/ses-01/func/sub-sid14_ses-01_task-roomvideo_run-02_bold_confounds.tsv\n",
      "   D[hem] =  (40962, 235)\n",
      "   np dot regrcoef, reg.t:  (40962, 235)\n",
      "   interecept shape:  (40962, 1)\n"
     ]
    },
    {
     "name": "stderr",
     "output_type": "stream",
     "text": [
      "/jukebox/pkgs/PYGER/0.9.1/lib/python3.7/site-packages/scipy/stats/stats.py:2279: RuntimeWarning: divide by zero encountered in true_divide\n",
      "  np.expand_dims(sstd, axis=axis))\n",
      "/jukebox/pkgs/PYGER/0.9.1/lib/python3.7/site-packages/scipy/stats/stats.py:2279: RuntimeWarning: invalid value encountered in true_divide\n",
      "  np.expand_dims(sstd, axis=axis))\n"
     ]
    },
    {
     "name": "stdout",
     "output_type": "stream",
     "text": [
      "...saving right hem.\n",
      "***sub-sid14***\n",
      "    Processing run  sub-sid14_ses-02_task-pathvideo_bold_space-fsaverage6.L.func.gii\n",
      "    Loading  /jukebox/norman/rmasis/MemPal/data/BIDS/Norman/Baldassano/10442_vrpalace/derivatives/fmriprep/sub-sid14/ses-02/func/sub-sid14_ses-02_task-pathvideo_bold_space-fsaverage6.L.func.gii\n",
      "    Extracting confound information from  sub-sid14/ses-02/func/sub-sid14_ses-02_task-pathvideo_bold_confounds.tsv\n",
      "   D[hem] =  (40962, 595)\n",
      "   np dot regrcoef, reg.t:  (40962, 595)\n",
      "   interecept shape:  (40962, 1)\n"
     ]
    },
    {
     "name": "stderr",
     "output_type": "stream",
     "text": [
      "/jukebox/pkgs/PYGER/0.9.1/lib/python3.7/site-packages/scipy/stats/stats.py:2279: RuntimeWarning: divide by zero encountered in true_divide\n",
      "  np.expand_dims(sstd, axis=axis))\n",
      "/jukebox/pkgs/PYGER/0.9.1/lib/python3.7/site-packages/scipy/stats/stats.py:2279: RuntimeWarning: invalid value encountered in true_divide\n",
      "  np.expand_dims(sstd, axis=axis))\n"
     ]
    },
    {
     "name": "stdout",
     "output_type": "stream",
     "text": [
      "...saving left hem.\n",
      "***sub-sid14***\n",
      "    Processing run  sub-sid14_ses-02_task-pathvideo_bold_space-fsaverage6.R.func.gii\n",
      "    Loading  /jukebox/norman/rmasis/MemPal/data/BIDS/Norman/Baldassano/10442_vrpalace/derivatives/fmriprep/sub-sid14/ses-02/func/sub-sid14_ses-02_task-pathvideo_bold_space-fsaverage6.R.func.gii\n",
      "    Extracting confound information from  sub-sid14/ses-02/func/sub-sid14_ses-02_task-pathvideo_bold_confounds.tsv\n",
      "   D[hem] =  (40962, 595)\n",
      "   np dot regrcoef, reg.t:  (40962, 595)\n",
      "   interecept shape:  (40962, 1)\n"
     ]
    },
    {
     "name": "stderr",
     "output_type": "stream",
     "text": [
      "/jukebox/pkgs/PYGER/0.9.1/lib/python3.7/site-packages/scipy/stats/stats.py:2279: RuntimeWarning: divide by zero encountered in true_divide\n",
      "  np.expand_dims(sstd, axis=axis))\n",
      "/jukebox/pkgs/PYGER/0.9.1/lib/python3.7/site-packages/scipy/stats/stats.py:2279: RuntimeWarning: invalid value encountered in true_divide\n",
      "  np.expand_dims(sstd, axis=axis))\n"
     ]
    },
    {
     "name": "stdout",
     "output_type": "stream",
     "text": [
      "...saving right hem.\n",
      "***sub-sid14***\n",
      "    Processing run  sub-sid14_ses-02_task-recall_bold_space-fsaverage6.L.func.gii\n",
      "    Loading  /jukebox/norman/rmasis/MemPal/data/BIDS/Norman/Baldassano/10442_vrpalace/derivatives/fmriprep/sub-sid14/ses-02/func/sub-sid14_ses-02_task-recall_bold_space-fsaverage6.L.func.gii\n",
      "    Extracting confound information from  sub-sid14/ses-02/func/sub-sid14_ses-02_task-recall_bold_confounds.tsv\n",
      "   D[hem] =  (40962, 1445)\n",
      "   np dot regrcoef, reg.t:  (40962, 1445)\n",
      "   interecept shape:  (40962, 1)\n"
     ]
    },
    {
     "name": "stderr",
     "output_type": "stream",
     "text": [
      "/jukebox/pkgs/PYGER/0.9.1/lib/python3.7/site-packages/scipy/stats/stats.py:2279: RuntimeWarning: divide by zero encountered in true_divide\n",
      "  np.expand_dims(sstd, axis=axis))\n",
      "/jukebox/pkgs/PYGER/0.9.1/lib/python3.7/site-packages/scipy/stats/stats.py:2279: RuntimeWarning: invalid value encountered in true_divide\n",
      "  np.expand_dims(sstd, axis=axis))\n"
     ]
    },
    {
     "name": "stdout",
     "output_type": "stream",
     "text": [
      "...saving left hem.\n",
      "***sub-sid14***\n",
      "    Processing run  sub-sid14_ses-02_task-recall_bold_space-fsaverage6.R.func.gii\n",
      "    Loading  /jukebox/norman/rmasis/MemPal/data/BIDS/Norman/Baldassano/10442_vrpalace/derivatives/fmriprep/sub-sid14/ses-02/func/sub-sid14_ses-02_task-recall_bold_space-fsaverage6.R.func.gii\n",
      "    Extracting confound information from  sub-sid14/ses-02/func/sub-sid14_ses-02_task-recall_bold_confounds.tsv\n",
      "   D[hem] =  (40962, 1445)\n",
      "   np dot regrcoef, reg.t:  (40962, 1445)\n",
      "   interecept shape:  (40962, 1)\n"
     ]
    },
    {
     "name": "stderr",
     "output_type": "stream",
     "text": [
      "/jukebox/pkgs/PYGER/0.9.1/lib/python3.7/site-packages/scipy/stats/stats.py:2279: RuntimeWarning: divide by zero encountered in true_divide\n",
      "  np.expand_dims(sstd, axis=axis))\n",
      "/jukebox/pkgs/PYGER/0.9.1/lib/python3.7/site-packages/scipy/stats/stats.py:2279: RuntimeWarning: invalid value encountered in true_divide\n",
      "  np.expand_dims(sstd, axis=axis))\n"
     ]
    },
    {
     "name": "stdout",
     "output_type": "stream",
     "text": [
      "...saving right hem.\n",
      "***sub-sid14***\n",
      "    Processing run  sub-sid14_ses-02_task-roomobjectvideo_run-01_bold_space-fsaverage6.L.func.gii\n",
      "    Loading  /jukebox/norman/rmasis/MemPal/data/BIDS/Norman/Baldassano/10442_vrpalace/derivatives/fmriprep/sub-sid14/ses-02/func/sub-sid14_ses-02_task-roomobjectvideo_run-01_bold_space-fsaverage6.L.func.gii\n",
      "    Extracting confound information from  sub-sid14/ses-02/func/sub-sid14_ses-02_task-roomobjectvideo_run-01_bold_confounds.tsv\n",
      "   D[hem] =  (40962, 460)\n",
      "   np dot regrcoef, reg.t:  (40962, 460)\n",
      "   interecept shape:  (40962, 1)\n"
     ]
    },
    {
     "name": "stderr",
     "output_type": "stream",
     "text": [
      "/jukebox/pkgs/PYGER/0.9.1/lib/python3.7/site-packages/scipy/stats/stats.py:2279: RuntimeWarning: divide by zero encountered in true_divide\n",
      "  np.expand_dims(sstd, axis=axis))\n",
      "/jukebox/pkgs/PYGER/0.9.1/lib/python3.7/site-packages/scipy/stats/stats.py:2279: RuntimeWarning: invalid value encountered in true_divide\n",
      "  np.expand_dims(sstd, axis=axis))\n"
     ]
    },
    {
     "name": "stdout",
     "output_type": "stream",
     "text": [
      "...saving left hem.\n",
      "***sub-sid14***\n",
      "    Processing run  sub-sid14_ses-02_task-roomobjectvideo_run-01_bold_space-fsaverage6.R.func.gii\n",
      "    Loading  /jukebox/norman/rmasis/MemPal/data/BIDS/Norman/Baldassano/10442_vrpalace/derivatives/fmriprep/sub-sid14/ses-02/func/sub-sid14_ses-02_task-roomobjectvideo_run-01_bold_space-fsaverage6.R.func.gii\n",
      "    Extracting confound information from  sub-sid14/ses-02/func/sub-sid14_ses-02_task-roomobjectvideo_run-01_bold_confounds.tsv\n",
      "   D[hem] =  (40962, 460)\n",
      "   np dot regrcoef, reg.t:  (40962, 460)\n",
      "   interecept shape:  (40962, 1)\n"
     ]
    },
    {
     "name": "stderr",
     "output_type": "stream",
     "text": [
      "/jukebox/pkgs/PYGER/0.9.1/lib/python3.7/site-packages/scipy/stats/stats.py:2279: RuntimeWarning: divide by zero encountered in true_divide\n",
      "  np.expand_dims(sstd, axis=axis))\n",
      "/jukebox/pkgs/PYGER/0.9.1/lib/python3.7/site-packages/scipy/stats/stats.py:2279: RuntimeWarning: invalid value encountered in true_divide\n",
      "  np.expand_dims(sstd, axis=axis))\n"
     ]
    },
    {
     "name": "stdout",
     "output_type": "stream",
     "text": [
      "...saving right hem.\n",
      "***sub-sid14***\n",
      "    Processing run  sub-sid14_ses-02_task-roomobjectvideo_run-02_bold_space-fsaverage6.L.func.gii\n",
      "    Loading  /jukebox/norman/rmasis/MemPal/data/BIDS/Norman/Baldassano/10442_vrpalace/derivatives/fmriprep/sub-sid14/ses-02/func/sub-sid14_ses-02_task-roomobjectvideo_run-02_bold_space-fsaverage6.L.func.gii\n",
      "    Extracting confound information from  sub-sid14/ses-02/func/sub-sid14_ses-02_task-roomobjectvideo_run-02_bold_confounds.tsv\n",
      "   D[hem] =  (40962, 460)\n",
      "   np dot regrcoef, reg.t:  (40962, 460)\n",
      "   interecept shape:  (40962, 1)\n"
     ]
    },
    {
     "name": "stderr",
     "output_type": "stream",
     "text": [
      "/jukebox/pkgs/PYGER/0.9.1/lib/python3.7/site-packages/scipy/stats/stats.py:2279: RuntimeWarning: divide by zero encountered in true_divide\n",
      "  np.expand_dims(sstd, axis=axis))\n",
      "/jukebox/pkgs/PYGER/0.9.1/lib/python3.7/site-packages/scipy/stats/stats.py:2279: RuntimeWarning: invalid value encountered in true_divide\n",
      "  np.expand_dims(sstd, axis=axis))\n"
     ]
    },
    {
     "name": "stdout",
     "output_type": "stream",
     "text": [
      "...saving left hem.\n",
      "***sub-sid14***\n",
      "    Processing run  sub-sid14_ses-02_task-roomobjectvideo_run-02_bold_space-fsaverage6.R.func.gii\n",
      "    Loading  /jukebox/norman/rmasis/MemPal/data/BIDS/Norman/Baldassano/10442_vrpalace/derivatives/fmriprep/sub-sid14/ses-02/func/sub-sid14_ses-02_task-roomobjectvideo_run-02_bold_space-fsaverage6.R.func.gii\n",
      "    Extracting confound information from  sub-sid14/ses-02/func/sub-sid14_ses-02_task-roomobjectvideo_run-02_bold_confounds.tsv\n",
      "   D[hem] =  (40962, 460)\n",
      "   np dot regrcoef, reg.t:  (40962, 460)\n",
      "   interecept shape:  (40962, 1)\n"
     ]
    },
    {
     "name": "stderr",
     "output_type": "stream",
     "text": [
      "/jukebox/pkgs/PYGER/0.9.1/lib/python3.7/site-packages/scipy/stats/stats.py:2279: RuntimeWarning: divide by zero encountered in true_divide\n",
      "  np.expand_dims(sstd, axis=axis))\n",
      "/jukebox/pkgs/PYGER/0.9.1/lib/python3.7/site-packages/scipy/stats/stats.py:2279: RuntimeWarning: invalid value encountered in true_divide\n",
      "  np.expand_dims(sstd, axis=axis))\n"
     ]
    },
    {
     "name": "stdout",
     "output_type": "stream",
     "text": [
      "...saving right hem.\n",
      "***sub-sid15***\n",
      "    Processing run  sub-sid15_ses-01_task-pathvideo_bold_space-fsaverage6.L.func.gii\n",
      "    Loading  /jukebox/norman/rmasis/MemPal/data/BIDS/Norman/Baldassano/10442_vrpalace/derivatives/fmriprep/sub-sid15/ses-01/func/sub-sid15_ses-01_task-pathvideo_bold_space-fsaverage6.L.func.gii\n",
      "    Extracting confound information from  sub-sid15/ses-01/func/sub-sid15_ses-01_task-pathvideo_bold_confounds.tsv\n",
      "   D[hem] =  (40962, 595)\n",
      "   np dot regrcoef, reg.t:  (40962, 595)\n",
      "   interecept shape:  (40962, 1)\n"
     ]
    },
    {
     "name": "stderr",
     "output_type": "stream",
     "text": [
      "/jukebox/pkgs/PYGER/0.9.1/lib/python3.7/site-packages/scipy/stats/stats.py:2279: RuntimeWarning: divide by zero encountered in true_divide\n",
      "  np.expand_dims(sstd, axis=axis))\n",
      "/jukebox/pkgs/PYGER/0.9.1/lib/python3.7/site-packages/scipy/stats/stats.py:2279: RuntimeWarning: invalid value encountered in true_divide\n",
      "  np.expand_dims(sstd, axis=axis))\n"
     ]
    },
    {
     "name": "stdout",
     "output_type": "stream",
     "text": [
      "   making new directory ../PythonData2024/ProcessedData//sub-sid15/\n",
      "...saving left hem.\n",
      "***sub-sid15***\n",
      "    Processing run  sub-sid15_ses-01_task-pathvideo_bold_space-fsaverage6.R.func.gii\n",
      "    Loading  /jukebox/norman/rmasis/MemPal/data/BIDS/Norman/Baldassano/10442_vrpalace/derivatives/fmriprep/sub-sid15/ses-01/func/sub-sid15_ses-01_task-pathvideo_bold_space-fsaverage6.R.func.gii\n",
      "    Extracting confound information from  sub-sid15/ses-01/func/sub-sid15_ses-01_task-pathvideo_bold_confounds.tsv\n",
      "   D[hem] =  (40962, 595)\n",
      "   np dot regrcoef, reg.t:  (40962, 595)\n",
      "   interecept shape:  (40962, 1)\n"
     ]
    },
    {
     "name": "stderr",
     "output_type": "stream",
     "text": [
      "/jukebox/pkgs/PYGER/0.9.1/lib/python3.7/site-packages/scipy/stats/stats.py:2279: RuntimeWarning: divide by zero encountered in true_divide\n",
      "  np.expand_dims(sstd, axis=axis))\n",
      "/jukebox/pkgs/PYGER/0.9.1/lib/python3.7/site-packages/scipy/stats/stats.py:2279: RuntimeWarning: invalid value encountered in true_divide\n",
      "  np.expand_dims(sstd, axis=axis))\n"
     ]
    },
    {
     "name": "stdout",
     "output_type": "stream",
     "text": [
      "...saving right hem.\n",
      "***sub-sid15***\n",
      "    Processing run  sub-sid15_ses-01_task-roomvideo_run-01_bold_space-fsaverage6.L.func.gii\n",
      "    Loading  /jukebox/norman/rmasis/MemPal/data/BIDS/Norman/Baldassano/10442_vrpalace/derivatives/fmriprep/sub-sid15/ses-01/func/sub-sid15_ses-01_task-roomvideo_run-01_bold_space-fsaverage6.L.func.gii\n",
      "    Extracting confound information from  sub-sid15/ses-01/func/sub-sid15_ses-01_task-roomvideo_run-01_bold_confounds.tsv\n",
      "   D[hem] =  (40962, 235)\n",
      "   np dot regrcoef, reg.t:  (40962, 235)\n",
      "   interecept shape:  (40962, 1)\n"
     ]
    },
    {
     "name": "stderr",
     "output_type": "stream",
     "text": [
      "/jukebox/pkgs/PYGER/0.9.1/lib/python3.7/site-packages/scipy/stats/stats.py:2279: RuntimeWarning: divide by zero encountered in true_divide\n",
      "  np.expand_dims(sstd, axis=axis))\n",
      "/jukebox/pkgs/PYGER/0.9.1/lib/python3.7/site-packages/scipy/stats/stats.py:2279: RuntimeWarning: invalid value encountered in true_divide\n",
      "  np.expand_dims(sstd, axis=axis))\n"
     ]
    },
    {
     "name": "stdout",
     "output_type": "stream",
     "text": [
      "...saving left hem.\n",
      "***sub-sid15***\n",
      "    Processing run  sub-sid15_ses-01_task-roomvideo_run-01_bold_space-fsaverage6.R.func.gii\n",
      "    Loading  /jukebox/norman/rmasis/MemPal/data/BIDS/Norman/Baldassano/10442_vrpalace/derivatives/fmriprep/sub-sid15/ses-01/func/sub-sid15_ses-01_task-roomvideo_run-01_bold_space-fsaverage6.R.func.gii\n",
      "    Extracting confound information from  sub-sid15/ses-01/func/sub-sid15_ses-01_task-roomvideo_run-01_bold_confounds.tsv\n",
      "   D[hem] =  (40962, 235)\n",
      "   np dot regrcoef, reg.t:  (40962, 235)\n",
      "   interecept shape:  (40962, 1)\n"
     ]
    },
    {
     "name": "stderr",
     "output_type": "stream",
     "text": [
      "/jukebox/pkgs/PYGER/0.9.1/lib/python3.7/site-packages/scipy/stats/stats.py:2279: RuntimeWarning: divide by zero encountered in true_divide\n",
      "  np.expand_dims(sstd, axis=axis))\n",
      "/jukebox/pkgs/PYGER/0.9.1/lib/python3.7/site-packages/scipy/stats/stats.py:2279: RuntimeWarning: invalid value encountered in true_divide\n",
      "  np.expand_dims(sstd, axis=axis))\n"
     ]
    },
    {
     "name": "stdout",
     "output_type": "stream",
     "text": [
      "...saving right hem.\n",
      "***sub-sid15***\n",
      "    Processing run  sub-sid15_ses-01_task-roomvideo_run-02_bold_space-fsaverage6.L.func.gii\n",
      "    Loading  /jukebox/norman/rmasis/MemPal/data/BIDS/Norman/Baldassano/10442_vrpalace/derivatives/fmriprep/sub-sid15/ses-01/func/sub-sid15_ses-01_task-roomvideo_run-02_bold_space-fsaverage6.L.func.gii\n",
      "    Extracting confound information from  sub-sid15/ses-01/func/sub-sid15_ses-01_task-roomvideo_run-02_bold_confounds.tsv\n",
      "   D[hem] =  (40962, 235)\n",
      "   np dot regrcoef, reg.t:  (40962, 235)\n",
      "   interecept shape:  (40962, 1)\n"
     ]
    },
    {
     "name": "stderr",
     "output_type": "stream",
     "text": [
      "/jukebox/pkgs/PYGER/0.9.1/lib/python3.7/site-packages/scipy/stats/stats.py:2279: RuntimeWarning: divide by zero encountered in true_divide\n",
      "  np.expand_dims(sstd, axis=axis))\n",
      "/jukebox/pkgs/PYGER/0.9.1/lib/python3.7/site-packages/scipy/stats/stats.py:2279: RuntimeWarning: invalid value encountered in true_divide\n",
      "  np.expand_dims(sstd, axis=axis))\n"
     ]
    },
    {
     "name": "stdout",
     "output_type": "stream",
     "text": [
      "...saving left hem.\n",
      "***sub-sid15***\n",
      "    Processing run  sub-sid15_ses-01_task-roomvideo_run-02_bold_space-fsaverage6.R.func.gii\n",
      "    Loading  /jukebox/norman/rmasis/MemPal/data/BIDS/Norman/Baldassano/10442_vrpalace/derivatives/fmriprep/sub-sid15/ses-01/func/sub-sid15_ses-01_task-roomvideo_run-02_bold_space-fsaverage6.R.func.gii\n",
      "    Extracting confound information from  sub-sid15/ses-01/func/sub-sid15_ses-01_task-roomvideo_run-02_bold_confounds.tsv\n",
      "   D[hem] =  (40962, 235)\n",
      "   np dot regrcoef, reg.t:  (40962, 235)\n",
      "   interecept shape:  (40962, 1)\n"
     ]
    },
    {
     "name": "stderr",
     "output_type": "stream",
     "text": [
      "/jukebox/pkgs/PYGER/0.9.1/lib/python3.7/site-packages/scipy/stats/stats.py:2279: RuntimeWarning: divide by zero encountered in true_divide\n",
      "  np.expand_dims(sstd, axis=axis))\n",
      "/jukebox/pkgs/PYGER/0.9.1/lib/python3.7/site-packages/scipy/stats/stats.py:2279: RuntimeWarning: invalid value encountered in true_divide\n",
      "  np.expand_dims(sstd, axis=axis))\n"
     ]
    },
    {
     "name": "stdout",
     "output_type": "stream",
     "text": [
      "...saving right hem.\n",
      "***sub-sid15***\n",
      "    Processing run  sub-sid15_ses-02_task-pathvideo_bold_space-fsaverage6.L.func.gii\n",
      "    Loading  /jukebox/norman/rmasis/MemPal/data/BIDS/Norman/Baldassano/10442_vrpalace/derivatives/fmriprep/sub-sid15/ses-02/func/sub-sid15_ses-02_task-pathvideo_bold_space-fsaverage6.L.func.gii\n",
      "    Extracting confound information from  sub-sid15/ses-02/func/sub-sid15_ses-02_task-pathvideo_bold_confounds.tsv\n",
      "   D[hem] =  (40962, 595)\n",
      "   np dot regrcoef, reg.t:  (40962, 595)\n",
      "   interecept shape:  (40962, 1)\n"
     ]
    },
    {
     "name": "stderr",
     "output_type": "stream",
     "text": [
      "/jukebox/pkgs/PYGER/0.9.1/lib/python3.7/site-packages/scipy/stats/stats.py:2279: RuntimeWarning: divide by zero encountered in true_divide\n",
      "  np.expand_dims(sstd, axis=axis))\n",
      "/jukebox/pkgs/PYGER/0.9.1/lib/python3.7/site-packages/scipy/stats/stats.py:2279: RuntimeWarning: invalid value encountered in true_divide\n",
      "  np.expand_dims(sstd, axis=axis))\n"
     ]
    },
    {
     "name": "stdout",
     "output_type": "stream",
     "text": [
      "...saving left hem.\n",
      "***sub-sid15***\n",
      "    Processing run  sub-sid15_ses-02_task-pathvideo_bold_space-fsaverage6.R.func.gii\n",
      "    Loading  /jukebox/norman/rmasis/MemPal/data/BIDS/Norman/Baldassano/10442_vrpalace/derivatives/fmriprep/sub-sid15/ses-02/func/sub-sid15_ses-02_task-pathvideo_bold_space-fsaverage6.R.func.gii\n",
      "    Extracting confound information from  sub-sid15/ses-02/func/sub-sid15_ses-02_task-pathvideo_bold_confounds.tsv\n",
      "   D[hem] =  (40962, 595)\n",
      "   np dot regrcoef, reg.t:  (40962, 595)\n",
      "   interecept shape:  (40962, 1)\n"
     ]
    },
    {
     "name": "stderr",
     "output_type": "stream",
     "text": [
      "/jukebox/pkgs/PYGER/0.9.1/lib/python3.7/site-packages/scipy/stats/stats.py:2279: RuntimeWarning: divide by zero encountered in true_divide\n",
      "  np.expand_dims(sstd, axis=axis))\n",
      "/jukebox/pkgs/PYGER/0.9.1/lib/python3.7/site-packages/scipy/stats/stats.py:2279: RuntimeWarning: invalid value encountered in true_divide\n",
      "  np.expand_dims(sstd, axis=axis))\n"
     ]
    },
    {
     "name": "stdout",
     "output_type": "stream",
     "text": [
      "...saving right hem.\n",
      "***sub-sid15***\n",
      "    Processing run  sub-sid15_ses-02_task-recall_bold_space-fsaverage6.L.func.gii\n",
      "    Loading  /jukebox/norman/rmasis/MemPal/data/BIDS/Norman/Baldassano/10442_vrpalace/derivatives/fmriprep/sub-sid15/ses-02/func/sub-sid15_ses-02_task-recall_bold_space-fsaverage6.L.func.gii\n",
      "    Extracting confound information from  sub-sid15/ses-02/func/sub-sid15_ses-02_task-recall_bold_confounds.tsv\n",
      "   D[hem] =  (40962, 818)\n",
      "   np dot regrcoef, reg.t:  (40962, 818)\n",
      "   interecept shape:  (40962, 1)\n"
     ]
    },
    {
     "name": "stderr",
     "output_type": "stream",
     "text": [
      "/jukebox/pkgs/PYGER/0.9.1/lib/python3.7/site-packages/scipy/stats/stats.py:2279: RuntimeWarning: divide by zero encountered in true_divide\n",
      "  np.expand_dims(sstd, axis=axis))\n",
      "/jukebox/pkgs/PYGER/0.9.1/lib/python3.7/site-packages/scipy/stats/stats.py:2279: RuntimeWarning: invalid value encountered in true_divide\n",
      "  np.expand_dims(sstd, axis=axis))\n"
     ]
    },
    {
     "name": "stdout",
     "output_type": "stream",
     "text": [
      "...saving left hem.\n",
      "***sub-sid15***\n",
      "    Processing run  sub-sid15_ses-02_task-recall_bold_space-fsaverage6.R.func.gii\n",
      "    Loading  /jukebox/norman/rmasis/MemPal/data/BIDS/Norman/Baldassano/10442_vrpalace/derivatives/fmriprep/sub-sid15/ses-02/func/sub-sid15_ses-02_task-recall_bold_space-fsaverage6.R.func.gii\n",
      "    Extracting confound information from  sub-sid15/ses-02/func/sub-sid15_ses-02_task-recall_bold_confounds.tsv\n",
      "   D[hem] =  (40962, 818)\n",
      "   np dot regrcoef, reg.t:  (40962, 818)\n",
      "   interecept shape:  (40962, 1)\n"
     ]
    },
    {
     "name": "stderr",
     "output_type": "stream",
     "text": [
      "/jukebox/pkgs/PYGER/0.9.1/lib/python3.7/site-packages/scipy/stats/stats.py:2279: RuntimeWarning: divide by zero encountered in true_divide\n",
      "  np.expand_dims(sstd, axis=axis))\n",
      "/jukebox/pkgs/PYGER/0.9.1/lib/python3.7/site-packages/scipy/stats/stats.py:2279: RuntimeWarning: invalid value encountered in true_divide\n",
      "  np.expand_dims(sstd, axis=axis))\n"
     ]
    },
    {
     "name": "stdout",
     "output_type": "stream",
     "text": [
      "...saving right hem.\n",
      "***sub-sid15***\n",
      "    Processing run  sub-sid15_ses-02_task-roomobjectvideo_run-01_bold_space-fsaverage6.L.func.gii\n",
      "    Loading  /jukebox/norman/rmasis/MemPal/data/BIDS/Norman/Baldassano/10442_vrpalace/derivatives/fmriprep/sub-sid15/ses-02/func/sub-sid15_ses-02_task-roomobjectvideo_run-01_bold_space-fsaverage6.L.func.gii\n",
      "    Extracting confound information from  sub-sid15/ses-02/func/sub-sid15_ses-02_task-roomobjectvideo_run-01_bold_confounds.tsv\n",
      "   D[hem] =  (40962, 460)\n",
      "   np dot regrcoef, reg.t:  (40962, 460)\n",
      "   interecept shape:  (40962, 1)\n"
     ]
    },
    {
     "name": "stderr",
     "output_type": "stream",
     "text": [
      "/jukebox/pkgs/PYGER/0.9.1/lib/python3.7/site-packages/scipy/stats/stats.py:2279: RuntimeWarning: divide by zero encountered in true_divide\n",
      "  np.expand_dims(sstd, axis=axis))\n",
      "/jukebox/pkgs/PYGER/0.9.1/lib/python3.7/site-packages/scipy/stats/stats.py:2279: RuntimeWarning: invalid value encountered in true_divide\n",
      "  np.expand_dims(sstd, axis=axis))\n"
     ]
    },
    {
     "name": "stdout",
     "output_type": "stream",
     "text": [
      "...saving left hem.\n",
      "***sub-sid15***\n",
      "    Processing run  sub-sid15_ses-02_task-roomobjectvideo_run-01_bold_space-fsaverage6.R.func.gii\n",
      "    Loading  /jukebox/norman/rmasis/MemPal/data/BIDS/Norman/Baldassano/10442_vrpalace/derivatives/fmriprep/sub-sid15/ses-02/func/sub-sid15_ses-02_task-roomobjectvideo_run-01_bold_space-fsaverage6.R.func.gii\n",
      "    Extracting confound information from  sub-sid15/ses-02/func/sub-sid15_ses-02_task-roomobjectvideo_run-01_bold_confounds.tsv\n",
      "   D[hem] =  (40962, 460)\n",
      "   np dot regrcoef, reg.t:  (40962, 460)\n",
      "   interecept shape:  (40962, 1)\n"
     ]
    },
    {
     "name": "stderr",
     "output_type": "stream",
     "text": [
      "/jukebox/pkgs/PYGER/0.9.1/lib/python3.7/site-packages/scipy/stats/stats.py:2279: RuntimeWarning: divide by zero encountered in true_divide\n",
      "  np.expand_dims(sstd, axis=axis))\n",
      "/jukebox/pkgs/PYGER/0.9.1/lib/python3.7/site-packages/scipy/stats/stats.py:2279: RuntimeWarning: invalid value encountered in true_divide\n",
      "  np.expand_dims(sstd, axis=axis))\n"
     ]
    },
    {
     "name": "stdout",
     "output_type": "stream",
     "text": [
      "...saving right hem.\n",
      "***sub-sid15***\n",
      "    Processing run  sub-sid15_ses-02_task-roomobjectvideo_run-02_bold_space-fsaverage6.L.func.gii\n",
      "    Loading  /jukebox/norman/rmasis/MemPal/data/BIDS/Norman/Baldassano/10442_vrpalace/derivatives/fmriprep/sub-sid15/ses-02/func/sub-sid15_ses-02_task-roomobjectvideo_run-02_bold_space-fsaverage6.L.func.gii\n",
      "    Extracting confound information from  sub-sid15/ses-02/func/sub-sid15_ses-02_task-roomobjectvideo_run-02_bold_confounds.tsv\n",
      "   D[hem] =  (40962, 460)\n",
      "   np dot regrcoef, reg.t:  (40962, 460)\n",
      "   interecept shape:  (40962, 1)\n"
     ]
    },
    {
     "name": "stderr",
     "output_type": "stream",
     "text": [
      "/jukebox/pkgs/PYGER/0.9.1/lib/python3.7/site-packages/scipy/stats/stats.py:2279: RuntimeWarning: divide by zero encountered in true_divide\n",
      "  np.expand_dims(sstd, axis=axis))\n",
      "/jukebox/pkgs/PYGER/0.9.1/lib/python3.7/site-packages/scipy/stats/stats.py:2279: RuntimeWarning: invalid value encountered in true_divide\n",
      "  np.expand_dims(sstd, axis=axis))\n"
     ]
    },
    {
     "name": "stdout",
     "output_type": "stream",
     "text": [
      "...saving left hem.\n",
      "***sub-sid15***\n",
      "    Processing run  sub-sid15_ses-02_task-roomobjectvideo_run-02_bold_space-fsaverage6.R.func.gii\n",
      "    Loading  /jukebox/norman/rmasis/MemPal/data/BIDS/Norman/Baldassano/10442_vrpalace/derivatives/fmriprep/sub-sid15/ses-02/func/sub-sid15_ses-02_task-roomobjectvideo_run-02_bold_space-fsaverage6.R.func.gii\n",
      "    Extracting confound information from  sub-sid15/ses-02/func/sub-sid15_ses-02_task-roomobjectvideo_run-02_bold_confounds.tsv\n",
      "   D[hem] =  (40962, 460)\n",
      "   np dot regrcoef, reg.t:  (40962, 460)\n",
      "   interecept shape:  (40962, 1)\n"
     ]
    },
    {
     "name": "stderr",
     "output_type": "stream",
     "text": [
      "/jukebox/pkgs/PYGER/0.9.1/lib/python3.7/site-packages/scipy/stats/stats.py:2279: RuntimeWarning: divide by zero encountered in true_divide\n",
      "  np.expand_dims(sstd, axis=axis))\n",
      "/jukebox/pkgs/PYGER/0.9.1/lib/python3.7/site-packages/scipy/stats/stats.py:2279: RuntimeWarning: invalid value encountered in true_divide\n",
      "  np.expand_dims(sstd, axis=axis))\n"
     ]
    },
    {
     "name": "stdout",
     "output_type": "stream",
     "text": [
      "...saving right hem.\n",
      "***sub-sid16***\n",
      "    Processing run  sub-sid16_ses-01_task-pathvideo_bold_space-fsaverage6.L.func.gii\n",
      "    Loading  /jukebox/norman/rmasis/MemPal/data/BIDS/Norman/Baldassano/10442_vrpalace/derivatives/fmriprep/sub-sid16/ses-01/func/sub-sid16_ses-01_task-pathvideo_bold_space-fsaverage6.L.func.gii\n",
      "    Extracting confound information from  sub-sid16/ses-01/func/sub-sid16_ses-01_task-pathvideo_bold_confounds.tsv\n",
      "   D[hem] =  (40962, 595)\n",
      "   np dot regrcoef, reg.t:  (40962, 595)\n",
      "   interecept shape:  (40962, 1)\n"
     ]
    },
    {
     "name": "stderr",
     "output_type": "stream",
     "text": [
      "/jukebox/pkgs/PYGER/0.9.1/lib/python3.7/site-packages/scipy/stats/stats.py:2279: RuntimeWarning: divide by zero encountered in true_divide\n",
      "  np.expand_dims(sstd, axis=axis))\n",
      "/jukebox/pkgs/PYGER/0.9.1/lib/python3.7/site-packages/scipy/stats/stats.py:2279: RuntimeWarning: invalid value encountered in true_divide\n",
      "  np.expand_dims(sstd, axis=axis))\n"
     ]
    },
    {
     "name": "stdout",
     "output_type": "stream",
     "text": [
      "   making new directory ../PythonData2024/ProcessedData//sub-sid16/\n",
      "...saving left hem.\n",
      "***sub-sid16***\n",
      "    Processing run  sub-sid16_ses-01_task-pathvideo_bold_space-fsaverage6.R.func.gii\n",
      "    Loading  /jukebox/norman/rmasis/MemPal/data/BIDS/Norman/Baldassano/10442_vrpalace/derivatives/fmriprep/sub-sid16/ses-01/func/sub-sid16_ses-01_task-pathvideo_bold_space-fsaverage6.R.func.gii\n",
      "    Extracting confound information from  sub-sid16/ses-01/func/sub-sid16_ses-01_task-pathvideo_bold_confounds.tsv\n",
      "   D[hem] =  (40962, 595)\n",
      "   np dot regrcoef, reg.t:  (40962, 595)\n",
      "   interecept shape:  (40962, 1)\n"
     ]
    },
    {
     "name": "stderr",
     "output_type": "stream",
     "text": [
      "/jukebox/pkgs/PYGER/0.9.1/lib/python3.7/site-packages/scipy/stats/stats.py:2279: RuntimeWarning: divide by zero encountered in true_divide\n",
      "  np.expand_dims(sstd, axis=axis))\n",
      "/jukebox/pkgs/PYGER/0.9.1/lib/python3.7/site-packages/scipy/stats/stats.py:2279: RuntimeWarning: invalid value encountered in true_divide\n",
      "  np.expand_dims(sstd, axis=axis))\n"
     ]
    },
    {
     "name": "stdout",
     "output_type": "stream",
     "text": [
      "...saving right hem.\n",
      "***sub-sid16***\n",
      "    Processing run  sub-sid16_ses-01_task-roomvideo_run-01_bold_space-fsaverage6.L.func.gii\n",
      "    Loading  /jukebox/norman/rmasis/MemPal/data/BIDS/Norman/Baldassano/10442_vrpalace/derivatives/fmriprep/sub-sid16/ses-01/func/sub-sid16_ses-01_task-roomvideo_run-01_bold_space-fsaverage6.L.func.gii\n",
      "    Extracting confound information from  sub-sid16/ses-01/func/sub-sid16_ses-01_task-roomvideo_run-01_bold_confounds.tsv\n",
      "   D[hem] =  (40962, 235)\n",
      "   np dot regrcoef, reg.t:  (40962, 235)\n",
      "   interecept shape:  (40962, 1)\n"
     ]
    },
    {
     "name": "stderr",
     "output_type": "stream",
     "text": [
      "/jukebox/pkgs/PYGER/0.9.1/lib/python3.7/site-packages/scipy/stats/stats.py:2279: RuntimeWarning: divide by zero encountered in true_divide\n",
      "  np.expand_dims(sstd, axis=axis))\n",
      "/jukebox/pkgs/PYGER/0.9.1/lib/python3.7/site-packages/scipy/stats/stats.py:2279: RuntimeWarning: invalid value encountered in true_divide\n",
      "  np.expand_dims(sstd, axis=axis))\n"
     ]
    },
    {
     "name": "stdout",
     "output_type": "stream",
     "text": [
      "...saving left hem.\n",
      "***sub-sid16***\n",
      "    Processing run  sub-sid16_ses-01_task-roomvideo_run-01_bold_space-fsaverage6.R.func.gii\n",
      "    Loading  /jukebox/norman/rmasis/MemPal/data/BIDS/Norman/Baldassano/10442_vrpalace/derivatives/fmriprep/sub-sid16/ses-01/func/sub-sid16_ses-01_task-roomvideo_run-01_bold_space-fsaverage6.R.func.gii\n",
      "    Extracting confound information from  sub-sid16/ses-01/func/sub-sid16_ses-01_task-roomvideo_run-01_bold_confounds.tsv\n",
      "   D[hem] =  (40962, 235)\n",
      "   np dot regrcoef, reg.t:  (40962, 235)\n",
      "   interecept shape:  (40962, 1)\n"
     ]
    },
    {
     "name": "stderr",
     "output_type": "stream",
     "text": [
      "/jukebox/pkgs/PYGER/0.9.1/lib/python3.7/site-packages/scipy/stats/stats.py:2279: RuntimeWarning: divide by zero encountered in true_divide\n",
      "  np.expand_dims(sstd, axis=axis))\n",
      "/jukebox/pkgs/PYGER/0.9.1/lib/python3.7/site-packages/scipy/stats/stats.py:2279: RuntimeWarning: invalid value encountered in true_divide\n",
      "  np.expand_dims(sstd, axis=axis))\n"
     ]
    },
    {
     "name": "stdout",
     "output_type": "stream",
     "text": [
      "...saving right hem.\n",
      "***sub-sid16***\n",
      "    Processing run  sub-sid16_ses-01_task-roomvideo_run-02_bold_space-fsaverage6.L.func.gii\n",
      "    Loading  /jukebox/norman/rmasis/MemPal/data/BIDS/Norman/Baldassano/10442_vrpalace/derivatives/fmriprep/sub-sid16/ses-01/func/sub-sid16_ses-01_task-roomvideo_run-02_bold_space-fsaverage6.L.func.gii\n",
      "    Extracting confound information from  sub-sid16/ses-01/func/sub-sid16_ses-01_task-roomvideo_run-02_bold_confounds.tsv\n",
      "   D[hem] =  (40962, 235)\n",
      "   np dot regrcoef, reg.t:  (40962, 235)\n",
      "   interecept shape:  (40962, 1)\n"
     ]
    },
    {
     "name": "stderr",
     "output_type": "stream",
     "text": [
      "/jukebox/pkgs/PYGER/0.9.1/lib/python3.7/site-packages/scipy/stats/stats.py:2279: RuntimeWarning: divide by zero encountered in true_divide\n",
      "  np.expand_dims(sstd, axis=axis))\n",
      "/jukebox/pkgs/PYGER/0.9.1/lib/python3.7/site-packages/scipy/stats/stats.py:2279: RuntimeWarning: invalid value encountered in true_divide\n",
      "  np.expand_dims(sstd, axis=axis))\n"
     ]
    },
    {
     "name": "stdout",
     "output_type": "stream",
     "text": [
      "...saving left hem.\n",
      "***sub-sid16***\n",
      "    Processing run  sub-sid16_ses-01_task-roomvideo_run-02_bold_space-fsaverage6.R.func.gii\n",
      "    Loading  /jukebox/norman/rmasis/MemPal/data/BIDS/Norman/Baldassano/10442_vrpalace/derivatives/fmriprep/sub-sid16/ses-01/func/sub-sid16_ses-01_task-roomvideo_run-02_bold_space-fsaverage6.R.func.gii\n",
      "    Extracting confound information from  sub-sid16/ses-01/func/sub-sid16_ses-01_task-roomvideo_run-02_bold_confounds.tsv\n",
      "   D[hem] =  (40962, 235)\n",
      "   np dot regrcoef, reg.t:  (40962, 235)\n",
      "   interecept shape:  (40962, 1)\n"
     ]
    },
    {
     "name": "stderr",
     "output_type": "stream",
     "text": [
      "/jukebox/pkgs/PYGER/0.9.1/lib/python3.7/site-packages/scipy/stats/stats.py:2279: RuntimeWarning: divide by zero encountered in true_divide\n",
      "  np.expand_dims(sstd, axis=axis))\n",
      "/jukebox/pkgs/PYGER/0.9.1/lib/python3.7/site-packages/scipy/stats/stats.py:2279: RuntimeWarning: invalid value encountered in true_divide\n",
      "  np.expand_dims(sstd, axis=axis))\n"
     ]
    },
    {
     "name": "stdout",
     "output_type": "stream",
     "text": [
      "...saving right hem.\n",
      "***sub-sid16***\n",
      "    Processing run  sub-sid16_ses-02_task-pathvideo_bold_space-fsaverage6.L.func.gii\n",
      "    Loading  /jukebox/norman/rmasis/MemPal/data/BIDS/Norman/Baldassano/10442_vrpalace/derivatives/fmriprep/sub-sid16/ses-02/func/sub-sid16_ses-02_task-pathvideo_bold_space-fsaverage6.L.func.gii\n",
      "    Extracting confound information from  sub-sid16/ses-02/func/sub-sid16_ses-02_task-pathvideo_bold_confounds.tsv\n",
      "   D[hem] =  (40962, 595)\n",
      "   np dot regrcoef, reg.t:  (40962, 595)\n",
      "   interecept shape:  (40962, 1)\n"
     ]
    },
    {
     "name": "stderr",
     "output_type": "stream",
     "text": [
      "/jukebox/pkgs/PYGER/0.9.1/lib/python3.7/site-packages/scipy/stats/stats.py:2279: RuntimeWarning: divide by zero encountered in true_divide\n",
      "  np.expand_dims(sstd, axis=axis))\n",
      "/jukebox/pkgs/PYGER/0.9.1/lib/python3.7/site-packages/scipy/stats/stats.py:2279: RuntimeWarning: invalid value encountered in true_divide\n",
      "  np.expand_dims(sstd, axis=axis))\n"
     ]
    },
    {
     "name": "stdout",
     "output_type": "stream",
     "text": [
      "...saving left hem.\n",
      "***sub-sid16***\n",
      "    Processing run  sub-sid16_ses-02_task-pathvideo_bold_space-fsaverage6.R.func.gii\n",
      "    Loading  /jukebox/norman/rmasis/MemPal/data/BIDS/Norman/Baldassano/10442_vrpalace/derivatives/fmriprep/sub-sid16/ses-02/func/sub-sid16_ses-02_task-pathvideo_bold_space-fsaverage6.R.func.gii\n",
      "    Extracting confound information from  sub-sid16/ses-02/func/sub-sid16_ses-02_task-pathvideo_bold_confounds.tsv\n",
      "   D[hem] =  (40962, 595)\n",
      "   np dot regrcoef, reg.t:  (40962, 595)\n",
      "   interecept shape:  (40962, 1)\n"
     ]
    },
    {
     "name": "stderr",
     "output_type": "stream",
     "text": [
      "/jukebox/pkgs/PYGER/0.9.1/lib/python3.7/site-packages/scipy/stats/stats.py:2279: RuntimeWarning: divide by zero encountered in true_divide\n",
      "  np.expand_dims(sstd, axis=axis))\n",
      "/jukebox/pkgs/PYGER/0.9.1/lib/python3.7/site-packages/scipy/stats/stats.py:2279: RuntimeWarning: invalid value encountered in true_divide\n",
      "  np.expand_dims(sstd, axis=axis))\n"
     ]
    },
    {
     "name": "stdout",
     "output_type": "stream",
     "text": [
      "...saving right hem.\n",
      "***sub-sid16***\n",
      "    Processing run  sub-sid16_ses-02_task-recall_bold_space-fsaverage6.L.func.gii\n",
      "    Loading  /jukebox/norman/rmasis/MemPal/data/BIDS/Norman/Baldassano/10442_vrpalace/derivatives/fmriprep/sub-sid16/ses-02/func/sub-sid16_ses-02_task-recall_bold_space-fsaverage6.L.func.gii\n",
      "    Extracting confound information from  sub-sid16/ses-02/func/sub-sid16_ses-02_task-recall_bold_confounds.tsv\n",
      "   D[hem] =  (40962, 1290)\n",
      "   np dot regrcoef, reg.t:  (40962, 1290)\n",
      "   interecept shape:  (40962, 1)\n"
     ]
    },
    {
     "name": "stderr",
     "output_type": "stream",
     "text": [
      "/jukebox/pkgs/PYGER/0.9.1/lib/python3.7/site-packages/scipy/stats/stats.py:2279: RuntimeWarning: divide by zero encountered in true_divide\n",
      "  np.expand_dims(sstd, axis=axis))\n",
      "/jukebox/pkgs/PYGER/0.9.1/lib/python3.7/site-packages/scipy/stats/stats.py:2279: RuntimeWarning: invalid value encountered in true_divide\n",
      "  np.expand_dims(sstd, axis=axis))\n"
     ]
    },
    {
     "name": "stdout",
     "output_type": "stream",
     "text": [
      "...saving left hem.\n",
      "***sub-sid16***\n",
      "    Processing run  sub-sid16_ses-02_task-recall_bold_space-fsaverage6.R.func.gii\n",
      "    Loading  /jukebox/norman/rmasis/MemPal/data/BIDS/Norman/Baldassano/10442_vrpalace/derivatives/fmriprep/sub-sid16/ses-02/func/sub-sid16_ses-02_task-recall_bold_space-fsaverage6.R.func.gii\n",
      "    Extracting confound information from  sub-sid16/ses-02/func/sub-sid16_ses-02_task-recall_bold_confounds.tsv\n",
      "   D[hem] =  (40962, 1290)\n",
      "   np dot regrcoef, reg.t:  (40962, 1290)\n",
      "   interecept shape:  (40962, 1)\n"
     ]
    },
    {
     "name": "stderr",
     "output_type": "stream",
     "text": [
      "/jukebox/pkgs/PYGER/0.9.1/lib/python3.7/site-packages/scipy/stats/stats.py:2279: RuntimeWarning: divide by zero encountered in true_divide\n",
      "  np.expand_dims(sstd, axis=axis))\n",
      "/jukebox/pkgs/PYGER/0.9.1/lib/python3.7/site-packages/scipy/stats/stats.py:2279: RuntimeWarning: invalid value encountered in true_divide\n",
      "  np.expand_dims(sstd, axis=axis))\n"
     ]
    },
    {
     "name": "stdout",
     "output_type": "stream",
     "text": [
      "...saving right hem.\n",
      "***sub-sid16***\n",
      "    Processing run  sub-sid16_ses-02_task-roomobjectvideo_run-01_bold_space-fsaverage6.L.func.gii\n",
      "    Loading  /jukebox/norman/rmasis/MemPal/data/BIDS/Norman/Baldassano/10442_vrpalace/derivatives/fmriprep/sub-sid16/ses-02/func/sub-sid16_ses-02_task-roomobjectvideo_run-01_bold_space-fsaverage6.L.func.gii\n",
      "    Extracting confound information from  sub-sid16/ses-02/func/sub-sid16_ses-02_task-roomobjectvideo_run-01_bold_confounds.tsv\n",
      "   D[hem] =  (40962, 460)\n",
      "   np dot regrcoef, reg.t:  (40962, 460)\n",
      "   interecept shape:  (40962, 1)\n"
     ]
    },
    {
     "name": "stderr",
     "output_type": "stream",
     "text": [
      "/jukebox/pkgs/PYGER/0.9.1/lib/python3.7/site-packages/scipy/stats/stats.py:2279: RuntimeWarning: divide by zero encountered in true_divide\n",
      "  np.expand_dims(sstd, axis=axis))\n",
      "/jukebox/pkgs/PYGER/0.9.1/lib/python3.7/site-packages/scipy/stats/stats.py:2279: RuntimeWarning: invalid value encountered in true_divide\n",
      "  np.expand_dims(sstd, axis=axis))\n"
     ]
    },
    {
     "name": "stdout",
     "output_type": "stream",
     "text": [
      "...saving left hem.\n",
      "***sub-sid16***\n",
      "    Processing run  sub-sid16_ses-02_task-roomobjectvideo_run-01_bold_space-fsaverage6.R.func.gii\n",
      "    Loading  /jukebox/norman/rmasis/MemPal/data/BIDS/Norman/Baldassano/10442_vrpalace/derivatives/fmriprep/sub-sid16/ses-02/func/sub-sid16_ses-02_task-roomobjectvideo_run-01_bold_space-fsaverage6.R.func.gii\n",
      "    Extracting confound information from  sub-sid16/ses-02/func/sub-sid16_ses-02_task-roomobjectvideo_run-01_bold_confounds.tsv\n",
      "   D[hem] =  (40962, 460)\n",
      "   np dot regrcoef, reg.t:  (40962, 460)\n",
      "   interecept shape:  (40962, 1)\n"
     ]
    },
    {
     "name": "stderr",
     "output_type": "stream",
     "text": [
      "/jukebox/pkgs/PYGER/0.9.1/lib/python3.7/site-packages/scipy/stats/stats.py:2279: RuntimeWarning: divide by zero encountered in true_divide\n",
      "  np.expand_dims(sstd, axis=axis))\n",
      "/jukebox/pkgs/PYGER/0.9.1/lib/python3.7/site-packages/scipy/stats/stats.py:2279: RuntimeWarning: invalid value encountered in true_divide\n",
      "  np.expand_dims(sstd, axis=axis))\n"
     ]
    },
    {
     "name": "stdout",
     "output_type": "stream",
     "text": [
      "...saving right hem.\n",
      "***sub-sid16***\n",
      "    Processing run  sub-sid16_ses-02_task-roomobjectvideo_run-02_bold_space-fsaverage6.L.func.gii\n",
      "    Loading  /jukebox/norman/rmasis/MemPal/data/BIDS/Norman/Baldassano/10442_vrpalace/derivatives/fmriprep/sub-sid16/ses-02/func/sub-sid16_ses-02_task-roomobjectvideo_run-02_bold_space-fsaverage6.L.func.gii\n",
      "    Extracting confound information from  sub-sid16/ses-02/func/sub-sid16_ses-02_task-roomobjectvideo_run-02_bold_confounds.tsv\n",
      "   D[hem] =  (40962, 460)\n",
      "   np dot regrcoef, reg.t:  (40962, 460)\n",
      "   interecept shape:  (40962, 1)\n"
     ]
    },
    {
     "name": "stderr",
     "output_type": "stream",
     "text": [
      "/jukebox/pkgs/PYGER/0.9.1/lib/python3.7/site-packages/scipy/stats/stats.py:2279: RuntimeWarning: divide by zero encountered in true_divide\n",
      "  np.expand_dims(sstd, axis=axis))\n",
      "/jukebox/pkgs/PYGER/0.9.1/lib/python3.7/site-packages/scipy/stats/stats.py:2279: RuntimeWarning: invalid value encountered in true_divide\n",
      "  np.expand_dims(sstd, axis=axis))\n"
     ]
    },
    {
     "name": "stdout",
     "output_type": "stream",
     "text": [
      "...saving left hem.\n",
      "***sub-sid16***\n",
      "    Processing run  sub-sid16_ses-02_task-roomobjectvideo_run-02_bold_space-fsaverage6.R.func.gii\n",
      "    Loading  /jukebox/norman/rmasis/MemPal/data/BIDS/Norman/Baldassano/10442_vrpalace/derivatives/fmriprep/sub-sid16/ses-02/func/sub-sid16_ses-02_task-roomobjectvideo_run-02_bold_space-fsaverage6.R.func.gii\n",
      "    Extracting confound information from  sub-sid16/ses-02/func/sub-sid16_ses-02_task-roomobjectvideo_run-02_bold_confounds.tsv\n",
      "   D[hem] =  (40962, 460)\n",
      "   np dot regrcoef, reg.t:  (40962, 460)\n",
      "   interecept shape:  (40962, 1)\n"
     ]
    },
    {
     "name": "stderr",
     "output_type": "stream",
     "text": [
      "/jukebox/pkgs/PYGER/0.9.1/lib/python3.7/site-packages/scipy/stats/stats.py:2279: RuntimeWarning: divide by zero encountered in true_divide\n",
      "  np.expand_dims(sstd, axis=axis))\n",
      "/jukebox/pkgs/PYGER/0.9.1/lib/python3.7/site-packages/scipy/stats/stats.py:2279: RuntimeWarning: invalid value encountered in true_divide\n",
      "  np.expand_dims(sstd, axis=axis))\n"
     ]
    },
    {
     "name": "stdout",
     "output_type": "stream",
     "text": [
      "...saving right hem.\n",
      "***sub-sid17***\n",
      "    Processing run  sub-sid17_ses-01_task-pathvideo_bold_space-fsaverage6.L.func.gii\n",
      "    Loading  /jukebox/norman/rmasis/MemPal/data/BIDS/Norman/Baldassano/10442_vrpalace/derivatives/fmriprep/sub-sid17/ses-01/func/sub-sid17_ses-01_task-pathvideo_bold_space-fsaverage6.L.func.gii\n",
      "    Extracting confound information from  sub-sid17/ses-01/func/sub-sid17_ses-01_task-pathvideo_bold_confounds.tsv\n",
      "   D[hem] =  (40962, 595)\n",
      "   np dot regrcoef, reg.t:  (40962, 595)\n",
      "   interecept shape:  (40962, 1)\n"
     ]
    },
    {
     "name": "stderr",
     "output_type": "stream",
     "text": [
      "/jukebox/pkgs/PYGER/0.9.1/lib/python3.7/site-packages/scipy/stats/stats.py:2279: RuntimeWarning: divide by zero encountered in true_divide\n",
      "  np.expand_dims(sstd, axis=axis))\n",
      "/jukebox/pkgs/PYGER/0.9.1/lib/python3.7/site-packages/scipy/stats/stats.py:2279: RuntimeWarning: invalid value encountered in true_divide\n",
      "  np.expand_dims(sstd, axis=axis))\n"
     ]
    },
    {
     "name": "stdout",
     "output_type": "stream",
     "text": [
      "   making new directory ../PythonData2024/ProcessedData//sub-sid17/\n",
      "...saving left hem.\n",
      "***sub-sid17***\n",
      "    Processing run  sub-sid17_ses-01_task-pathvideo_bold_space-fsaverage6.R.func.gii\n",
      "    Loading  /jukebox/norman/rmasis/MemPal/data/BIDS/Norman/Baldassano/10442_vrpalace/derivatives/fmriprep/sub-sid17/ses-01/func/sub-sid17_ses-01_task-pathvideo_bold_space-fsaverage6.R.func.gii\n",
      "    Extracting confound information from  sub-sid17/ses-01/func/sub-sid17_ses-01_task-pathvideo_bold_confounds.tsv\n",
      "   D[hem] =  (40962, 595)\n",
      "   np dot regrcoef, reg.t:  (40962, 595)\n",
      "   interecept shape:  (40962, 1)\n"
     ]
    },
    {
     "name": "stderr",
     "output_type": "stream",
     "text": [
      "/jukebox/pkgs/PYGER/0.9.1/lib/python3.7/site-packages/scipy/stats/stats.py:2279: RuntimeWarning: divide by zero encountered in true_divide\n",
      "  np.expand_dims(sstd, axis=axis))\n",
      "/jukebox/pkgs/PYGER/0.9.1/lib/python3.7/site-packages/scipy/stats/stats.py:2279: RuntimeWarning: invalid value encountered in true_divide\n",
      "  np.expand_dims(sstd, axis=axis))\n"
     ]
    },
    {
     "name": "stdout",
     "output_type": "stream",
     "text": [
      "...saving right hem.\n",
      "***sub-sid17***\n",
      "    Processing run  sub-sid17_ses-01_task-roomvideo_run-01_bold_space-fsaverage6.L.func.gii\n",
      "    Loading  /jukebox/norman/rmasis/MemPal/data/BIDS/Norman/Baldassano/10442_vrpalace/derivatives/fmriprep/sub-sid17/ses-01/func/sub-sid17_ses-01_task-roomvideo_run-01_bold_space-fsaverage6.L.func.gii\n",
      "    Extracting confound information from  sub-sid17/ses-01/func/sub-sid17_ses-01_task-roomvideo_run-01_bold_confounds.tsv\n",
      "   D[hem] =  (40962, 235)\n",
      "   np dot regrcoef, reg.t:  (40962, 235)\n",
      "   interecept shape:  (40962, 1)\n"
     ]
    },
    {
     "name": "stderr",
     "output_type": "stream",
     "text": [
      "/jukebox/pkgs/PYGER/0.9.1/lib/python3.7/site-packages/scipy/stats/stats.py:2279: RuntimeWarning: divide by zero encountered in true_divide\n",
      "  np.expand_dims(sstd, axis=axis))\n",
      "/jukebox/pkgs/PYGER/0.9.1/lib/python3.7/site-packages/scipy/stats/stats.py:2279: RuntimeWarning: invalid value encountered in true_divide\n",
      "  np.expand_dims(sstd, axis=axis))\n"
     ]
    },
    {
     "name": "stdout",
     "output_type": "stream",
     "text": [
      "...saving left hem.\n",
      "***sub-sid17***\n",
      "    Processing run  sub-sid17_ses-01_task-roomvideo_run-01_bold_space-fsaverage6.R.func.gii\n",
      "    Loading  /jukebox/norman/rmasis/MemPal/data/BIDS/Norman/Baldassano/10442_vrpalace/derivatives/fmriprep/sub-sid17/ses-01/func/sub-sid17_ses-01_task-roomvideo_run-01_bold_space-fsaverage6.R.func.gii\n",
      "    Extracting confound information from  sub-sid17/ses-01/func/sub-sid17_ses-01_task-roomvideo_run-01_bold_confounds.tsv\n",
      "   D[hem] =  (40962, 235)\n",
      "   np dot regrcoef, reg.t:  (40962, 235)\n",
      "   interecept shape:  (40962, 1)\n"
     ]
    },
    {
     "name": "stderr",
     "output_type": "stream",
     "text": [
      "/jukebox/pkgs/PYGER/0.9.1/lib/python3.7/site-packages/scipy/stats/stats.py:2279: RuntimeWarning: divide by zero encountered in true_divide\n",
      "  np.expand_dims(sstd, axis=axis))\n",
      "/jukebox/pkgs/PYGER/0.9.1/lib/python3.7/site-packages/scipy/stats/stats.py:2279: RuntimeWarning: invalid value encountered in true_divide\n",
      "  np.expand_dims(sstd, axis=axis))\n"
     ]
    },
    {
     "name": "stdout",
     "output_type": "stream",
     "text": [
      "...saving right hem.\n",
      "***sub-sid17***\n",
      "    Processing run  sub-sid17_ses-01_task-roomvideo_run-02_bold_space-fsaverage6.L.func.gii\n",
      "    Loading  /jukebox/norman/rmasis/MemPal/data/BIDS/Norman/Baldassano/10442_vrpalace/derivatives/fmriprep/sub-sid17/ses-01/func/sub-sid17_ses-01_task-roomvideo_run-02_bold_space-fsaverage6.L.func.gii\n",
      "    Extracting confound information from  sub-sid17/ses-01/func/sub-sid17_ses-01_task-roomvideo_run-02_bold_confounds.tsv\n",
      "   D[hem] =  (40962, 235)\n",
      "   np dot regrcoef, reg.t:  (40962, 235)\n",
      "   interecept shape:  (40962, 1)\n"
     ]
    },
    {
     "name": "stderr",
     "output_type": "stream",
     "text": [
      "/jukebox/pkgs/PYGER/0.9.1/lib/python3.7/site-packages/scipy/stats/stats.py:2279: RuntimeWarning: divide by zero encountered in true_divide\n",
      "  np.expand_dims(sstd, axis=axis))\n",
      "/jukebox/pkgs/PYGER/0.9.1/lib/python3.7/site-packages/scipy/stats/stats.py:2279: RuntimeWarning: invalid value encountered in true_divide\n",
      "  np.expand_dims(sstd, axis=axis))\n"
     ]
    },
    {
     "name": "stdout",
     "output_type": "stream",
     "text": [
      "...saving left hem.\n",
      "***sub-sid17***\n",
      "    Processing run  sub-sid17_ses-01_task-roomvideo_run-02_bold_space-fsaverage6.R.func.gii\n",
      "    Loading  /jukebox/norman/rmasis/MemPal/data/BIDS/Norman/Baldassano/10442_vrpalace/derivatives/fmriprep/sub-sid17/ses-01/func/sub-sid17_ses-01_task-roomvideo_run-02_bold_space-fsaverage6.R.func.gii\n",
      "    Extracting confound information from  sub-sid17/ses-01/func/sub-sid17_ses-01_task-roomvideo_run-02_bold_confounds.tsv\n",
      "   D[hem] =  (40962, 235)\n",
      "   np dot regrcoef, reg.t:  (40962, 235)\n",
      "   interecept shape:  (40962, 1)\n"
     ]
    },
    {
     "name": "stderr",
     "output_type": "stream",
     "text": [
      "/jukebox/pkgs/PYGER/0.9.1/lib/python3.7/site-packages/scipy/stats/stats.py:2279: RuntimeWarning: divide by zero encountered in true_divide\n",
      "  np.expand_dims(sstd, axis=axis))\n",
      "/jukebox/pkgs/PYGER/0.9.1/lib/python3.7/site-packages/scipy/stats/stats.py:2279: RuntimeWarning: invalid value encountered in true_divide\n",
      "  np.expand_dims(sstd, axis=axis))\n"
     ]
    },
    {
     "name": "stdout",
     "output_type": "stream",
     "text": [
      "...saving right hem.\n",
      "***sub-sid17***\n",
      "    Processing run  sub-sid17_ses-02_task-pathvideo_bold_space-fsaverage6.L.func.gii\n",
      "    Loading  /jukebox/norman/rmasis/MemPal/data/BIDS/Norman/Baldassano/10442_vrpalace/derivatives/fmriprep/sub-sid17/ses-02/func/sub-sid17_ses-02_task-pathvideo_bold_space-fsaverage6.L.func.gii\n",
      "    Extracting confound information from  sub-sid17/ses-02/func/sub-sid17_ses-02_task-pathvideo_bold_confounds.tsv\n",
      "   D[hem] =  (40962, 595)\n",
      "   np dot regrcoef, reg.t:  (40962, 595)\n",
      "   interecept shape:  (40962, 1)\n"
     ]
    },
    {
     "name": "stderr",
     "output_type": "stream",
     "text": [
      "/jukebox/pkgs/PYGER/0.9.1/lib/python3.7/site-packages/scipy/stats/stats.py:2279: RuntimeWarning: divide by zero encountered in true_divide\n",
      "  np.expand_dims(sstd, axis=axis))\n",
      "/jukebox/pkgs/PYGER/0.9.1/lib/python3.7/site-packages/scipy/stats/stats.py:2279: RuntimeWarning: invalid value encountered in true_divide\n",
      "  np.expand_dims(sstd, axis=axis))\n"
     ]
    },
    {
     "name": "stdout",
     "output_type": "stream",
     "text": [
      "...saving left hem.\n",
      "***sub-sid17***\n",
      "    Processing run  sub-sid17_ses-02_task-pathvideo_bold_space-fsaverage6.R.func.gii\n",
      "    Loading  /jukebox/norman/rmasis/MemPal/data/BIDS/Norman/Baldassano/10442_vrpalace/derivatives/fmriprep/sub-sid17/ses-02/func/sub-sid17_ses-02_task-pathvideo_bold_space-fsaverage6.R.func.gii\n",
      "    Extracting confound information from  sub-sid17/ses-02/func/sub-sid17_ses-02_task-pathvideo_bold_confounds.tsv\n",
      "   D[hem] =  (40962, 595)\n",
      "   np dot regrcoef, reg.t:  (40962, 595)\n",
      "   interecept shape:  (40962, 1)\n"
     ]
    },
    {
     "name": "stderr",
     "output_type": "stream",
     "text": [
      "/jukebox/pkgs/PYGER/0.9.1/lib/python3.7/site-packages/scipy/stats/stats.py:2279: RuntimeWarning: divide by zero encountered in true_divide\n",
      "  np.expand_dims(sstd, axis=axis))\n",
      "/jukebox/pkgs/PYGER/0.9.1/lib/python3.7/site-packages/scipy/stats/stats.py:2279: RuntimeWarning: invalid value encountered in true_divide\n",
      "  np.expand_dims(sstd, axis=axis))\n"
     ]
    },
    {
     "name": "stdout",
     "output_type": "stream",
     "text": [
      "...saving right hem.\n",
      "***sub-sid17***\n",
      "    Processing run  sub-sid17_ses-02_task-recall_bold_space-fsaverage6.L.func.gii\n",
      "    Loading  /jukebox/norman/rmasis/MemPal/data/BIDS/Norman/Baldassano/10442_vrpalace/derivatives/fmriprep/sub-sid17/ses-02/func/sub-sid17_ses-02_task-recall_bold_space-fsaverage6.L.func.gii\n",
      "    Extracting confound information from  sub-sid17/ses-02/func/sub-sid17_ses-02_task-recall_bold_confounds.tsv\n",
      "   D[hem] =  (40962, 1003)\n",
      "   np dot regrcoef, reg.t:  (40962, 1003)\n",
      "   interecept shape:  (40962, 1)\n"
     ]
    },
    {
     "name": "stderr",
     "output_type": "stream",
     "text": [
      "/jukebox/pkgs/PYGER/0.9.1/lib/python3.7/site-packages/scipy/stats/stats.py:2279: RuntimeWarning: divide by zero encountered in true_divide\n",
      "  np.expand_dims(sstd, axis=axis))\n",
      "/jukebox/pkgs/PYGER/0.9.1/lib/python3.7/site-packages/scipy/stats/stats.py:2279: RuntimeWarning: invalid value encountered in true_divide\n",
      "  np.expand_dims(sstd, axis=axis))\n"
     ]
    },
    {
     "name": "stdout",
     "output_type": "stream",
     "text": [
      "...saving left hem.\n",
      "***sub-sid17***\n",
      "    Processing run  sub-sid17_ses-02_task-recall_bold_space-fsaverage6.R.func.gii\n",
      "    Loading  /jukebox/norman/rmasis/MemPal/data/BIDS/Norman/Baldassano/10442_vrpalace/derivatives/fmriprep/sub-sid17/ses-02/func/sub-sid17_ses-02_task-recall_bold_space-fsaverage6.R.func.gii\n",
      "    Extracting confound information from  sub-sid17/ses-02/func/sub-sid17_ses-02_task-recall_bold_confounds.tsv\n",
      "   D[hem] =  (40962, 1003)\n",
      "   np dot regrcoef, reg.t:  (40962, 1003)\n",
      "   interecept shape:  (40962, 1)\n"
     ]
    },
    {
     "name": "stderr",
     "output_type": "stream",
     "text": [
      "/jukebox/pkgs/PYGER/0.9.1/lib/python3.7/site-packages/scipy/stats/stats.py:2279: RuntimeWarning: divide by zero encountered in true_divide\n",
      "  np.expand_dims(sstd, axis=axis))\n",
      "/jukebox/pkgs/PYGER/0.9.1/lib/python3.7/site-packages/scipy/stats/stats.py:2279: RuntimeWarning: invalid value encountered in true_divide\n",
      "  np.expand_dims(sstd, axis=axis))\n"
     ]
    },
    {
     "name": "stdout",
     "output_type": "stream",
     "text": [
      "...saving right hem.\n",
      "***sub-sid17***\n",
      "    Processing run  sub-sid17_ses-02_task-roomobjectvideo_run-01_bold_space-fsaverage6.L.func.gii\n",
      "    Loading  /jukebox/norman/rmasis/MemPal/data/BIDS/Norman/Baldassano/10442_vrpalace/derivatives/fmriprep/sub-sid17/ses-02/func/sub-sid17_ses-02_task-roomobjectvideo_run-01_bold_space-fsaverage6.L.func.gii\n",
      "    Extracting confound information from  sub-sid17/ses-02/func/sub-sid17_ses-02_task-roomobjectvideo_run-01_bold_confounds.tsv\n",
      "   D[hem] =  (40962, 460)\n",
      "   np dot regrcoef, reg.t:  (40962, 460)\n",
      "   interecept shape:  (40962, 1)\n"
     ]
    },
    {
     "name": "stderr",
     "output_type": "stream",
     "text": [
      "/jukebox/pkgs/PYGER/0.9.1/lib/python3.7/site-packages/scipy/stats/stats.py:2279: RuntimeWarning: divide by zero encountered in true_divide\n",
      "  np.expand_dims(sstd, axis=axis))\n",
      "/jukebox/pkgs/PYGER/0.9.1/lib/python3.7/site-packages/scipy/stats/stats.py:2279: RuntimeWarning: invalid value encountered in true_divide\n",
      "  np.expand_dims(sstd, axis=axis))\n"
     ]
    },
    {
     "name": "stdout",
     "output_type": "stream",
     "text": [
      "...saving left hem.\n",
      "***sub-sid17***\n",
      "    Processing run  sub-sid17_ses-02_task-roomobjectvideo_run-01_bold_space-fsaverage6.R.func.gii\n",
      "    Loading  /jukebox/norman/rmasis/MemPal/data/BIDS/Norman/Baldassano/10442_vrpalace/derivatives/fmriprep/sub-sid17/ses-02/func/sub-sid17_ses-02_task-roomobjectvideo_run-01_bold_space-fsaverage6.R.func.gii\n",
      "    Extracting confound information from  sub-sid17/ses-02/func/sub-sid17_ses-02_task-roomobjectvideo_run-01_bold_confounds.tsv\n",
      "   D[hem] =  (40962, 460)\n",
      "   np dot regrcoef, reg.t:  (40962, 460)\n",
      "   interecept shape:  (40962, 1)\n"
     ]
    },
    {
     "name": "stderr",
     "output_type": "stream",
     "text": [
      "/jukebox/pkgs/PYGER/0.9.1/lib/python3.7/site-packages/scipy/stats/stats.py:2279: RuntimeWarning: divide by zero encountered in true_divide\n",
      "  np.expand_dims(sstd, axis=axis))\n",
      "/jukebox/pkgs/PYGER/0.9.1/lib/python3.7/site-packages/scipy/stats/stats.py:2279: RuntimeWarning: invalid value encountered in true_divide\n",
      "  np.expand_dims(sstd, axis=axis))\n"
     ]
    },
    {
     "name": "stdout",
     "output_type": "stream",
     "text": [
      "...saving right hem.\n",
      "***sub-sid17***\n",
      "    Processing run  sub-sid17_ses-02_task-roomobjectvideo_run-02_bold_space-fsaverage6.L.func.gii\n",
      "    Loading  /jukebox/norman/rmasis/MemPal/data/BIDS/Norman/Baldassano/10442_vrpalace/derivatives/fmriprep/sub-sid17/ses-02/func/sub-sid17_ses-02_task-roomobjectvideo_run-02_bold_space-fsaverage6.L.func.gii\n",
      "    Extracting confound information from  sub-sid17/ses-02/func/sub-sid17_ses-02_task-roomobjectvideo_run-02_bold_confounds.tsv\n",
      "   D[hem] =  (40962, 460)\n",
      "   np dot regrcoef, reg.t:  (40962, 460)\n",
      "   interecept shape:  (40962, 1)\n"
     ]
    },
    {
     "name": "stderr",
     "output_type": "stream",
     "text": [
      "/jukebox/pkgs/PYGER/0.9.1/lib/python3.7/site-packages/scipy/stats/stats.py:2279: RuntimeWarning: divide by zero encountered in true_divide\n",
      "  np.expand_dims(sstd, axis=axis))\n",
      "/jukebox/pkgs/PYGER/0.9.1/lib/python3.7/site-packages/scipy/stats/stats.py:2279: RuntimeWarning: invalid value encountered in true_divide\n",
      "  np.expand_dims(sstd, axis=axis))\n"
     ]
    },
    {
     "name": "stdout",
     "output_type": "stream",
     "text": [
      "...saving left hem.\n",
      "***sub-sid17***\n",
      "    Processing run  sub-sid17_ses-02_task-roomobjectvideo_run-02_bold_space-fsaverage6.R.func.gii\n",
      "    Loading  /jukebox/norman/rmasis/MemPal/data/BIDS/Norman/Baldassano/10442_vrpalace/derivatives/fmriprep/sub-sid17/ses-02/func/sub-sid17_ses-02_task-roomobjectvideo_run-02_bold_space-fsaverage6.R.func.gii\n",
      "    Extracting confound information from  sub-sid17/ses-02/func/sub-sid17_ses-02_task-roomobjectvideo_run-02_bold_confounds.tsv\n",
      "   D[hem] =  (40962, 460)\n",
      "   np dot regrcoef, reg.t:  (40962, 460)\n",
      "   interecept shape:  (40962, 1)\n"
     ]
    },
    {
     "name": "stderr",
     "output_type": "stream",
     "text": [
      "/jukebox/pkgs/PYGER/0.9.1/lib/python3.7/site-packages/scipy/stats/stats.py:2279: RuntimeWarning: divide by zero encountered in true_divide\n",
      "  np.expand_dims(sstd, axis=axis))\n",
      "/jukebox/pkgs/PYGER/0.9.1/lib/python3.7/site-packages/scipy/stats/stats.py:2279: RuntimeWarning: invalid value encountered in true_divide\n",
      "  np.expand_dims(sstd, axis=axis))\n"
     ]
    },
    {
     "name": "stdout",
     "output_type": "stream",
     "text": [
      "...saving right hem.\n",
      "***sub-sid18***\n",
      "    Processing run  sub-sid18_ses-01_task-pathvideo_bold_space-fsaverage6.L.func.gii\n",
      "    Loading  /jukebox/norman/rmasis/MemPal/data/BIDS/Norman/Baldassano/10442_vrpalace/derivatives/fmriprep/sub-sid18/ses-01/func/sub-sid18_ses-01_task-pathvideo_bold_space-fsaverage6.L.func.gii\n",
      "    Extracting confound information from  sub-sid18/ses-01/func/sub-sid18_ses-01_task-pathvideo_bold_confounds.tsv\n",
      "   D[hem] =  (40962, 595)\n",
      "   np dot regrcoef, reg.t:  (40962, 595)\n",
      "   interecept shape:  (40962, 1)\n"
     ]
    },
    {
     "name": "stderr",
     "output_type": "stream",
     "text": [
      "/jukebox/pkgs/PYGER/0.9.1/lib/python3.7/site-packages/scipy/stats/stats.py:2279: RuntimeWarning: divide by zero encountered in true_divide\n",
      "  np.expand_dims(sstd, axis=axis))\n",
      "/jukebox/pkgs/PYGER/0.9.1/lib/python3.7/site-packages/scipy/stats/stats.py:2279: RuntimeWarning: invalid value encountered in true_divide\n",
      "  np.expand_dims(sstd, axis=axis))\n"
     ]
    },
    {
     "name": "stdout",
     "output_type": "stream",
     "text": [
      "   making new directory ../PythonData2024/ProcessedData//sub-sid18/\n",
      "...saving left hem.\n",
      "***sub-sid18***\n",
      "    Processing run  sub-sid18_ses-01_task-pathvideo_bold_space-fsaverage6.R.func.gii\n",
      "    Loading  /jukebox/norman/rmasis/MemPal/data/BIDS/Norman/Baldassano/10442_vrpalace/derivatives/fmriprep/sub-sid18/ses-01/func/sub-sid18_ses-01_task-pathvideo_bold_space-fsaverage6.R.func.gii\n",
      "    Extracting confound information from  sub-sid18/ses-01/func/sub-sid18_ses-01_task-pathvideo_bold_confounds.tsv\n",
      "   D[hem] =  (40962, 595)\n",
      "   np dot regrcoef, reg.t:  (40962, 595)\n",
      "   interecept shape:  (40962, 1)\n"
     ]
    },
    {
     "name": "stderr",
     "output_type": "stream",
     "text": [
      "/jukebox/pkgs/PYGER/0.9.1/lib/python3.7/site-packages/scipy/stats/stats.py:2279: RuntimeWarning: divide by zero encountered in true_divide\n",
      "  np.expand_dims(sstd, axis=axis))\n",
      "/jukebox/pkgs/PYGER/0.9.1/lib/python3.7/site-packages/scipy/stats/stats.py:2279: RuntimeWarning: invalid value encountered in true_divide\n",
      "  np.expand_dims(sstd, axis=axis))\n"
     ]
    },
    {
     "name": "stdout",
     "output_type": "stream",
     "text": [
      "...saving right hem.\n",
      "***sub-sid18***\n",
      "    Processing run  sub-sid18_ses-01_task-roomvideo_run-01_bold_space-fsaverage6.L.func.gii\n",
      "    Loading  /jukebox/norman/rmasis/MemPal/data/BIDS/Norman/Baldassano/10442_vrpalace/derivatives/fmriprep/sub-sid18/ses-01/func/sub-sid18_ses-01_task-roomvideo_run-01_bold_space-fsaverage6.L.func.gii\n",
      "    Extracting confound information from  sub-sid18/ses-01/func/sub-sid18_ses-01_task-roomvideo_run-01_bold_confounds.tsv\n",
      "   D[hem] =  (40962, 235)\n",
      "   np dot regrcoef, reg.t:  (40962, 235)\n",
      "   interecept shape:  (40962, 1)\n"
     ]
    },
    {
     "name": "stderr",
     "output_type": "stream",
     "text": [
      "/jukebox/pkgs/PYGER/0.9.1/lib/python3.7/site-packages/scipy/stats/stats.py:2279: RuntimeWarning: divide by zero encountered in true_divide\n",
      "  np.expand_dims(sstd, axis=axis))\n",
      "/jukebox/pkgs/PYGER/0.9.1/lib/python3.7/site-packages/scipy/stats/stats.py:2279: RuntimeWarning: invalid value encountered in true_divide\n",
      "  np.expand_dims(sstd, axis=axis))\n"
     ]
    },
    {
     "name": "stdout",
     "output_type": "stream",
     "text": [
      "...saving left hem.\n",
      "***sub-sid18***\n",
      "    Processing run  sub-sid18_ses-01_task-roomvideo_run-01_bold_space-fsaverage6.R.func.gii\n",
      "    Loading  /jukebox/norman/rmasis/MemPal/data/BIDS/Norman/Baldassano/10442_vrpalace/derivatives/fmriprep/sub-sid18/ses-01/func/sub-sid18_ses-01_task-roomvideo_run-01_bold_space-fsaverage6.R.func.gii\n",
      "    Extracting confound information from  sub-sid18/ses-01/func/sub-sid18_ses-01_task-roomvideo_run-01_bold_confounds.tsv\n",
      "   D[hem] =  (40962, 235)\n",
      "   np dot regrcoef, reg.t:  (40962, 235)\n",
      "   interecept shape:  (40962, 1)\n"
     ]
    },
    {
     "name": "stderr",
     "output_type": "stream",
     "text": [
      "/jukebox/pkgs/PYGER/0.9.1/lib/python3.7/site-packages/scipy/stats/stats.py:2279: RuntimeWarning: divide by zero encountered in true_divide\n",
      "  np.expand_dims(sstd, axis=axis))\n",
      "/jukebox/pkgs/PYGER/0.9.1/lib/python3.7/site-packages/scipy/stats/stats.py:2279: RuntimeWarning: invalid value encountered in true_divide\n",
      "  np.expand_dims(sstd, axis=axis))\n"
     ]
    },
    {
     "name": "stdout",
     "output_type": "stream",
     "text": [
      "...saving right hem.\n",
      "***sub-sid18***\n",
      "    Processing run  sub-sid18_ses-01_task-roomvideo_run-02_bold_space-fsaverage6.L.func.gii\n",
      "    Loading  /jukebox/norman/rmasis/MemPal/data/BIDS/Norman/Baldassano/10442_vrpalace/derivatives/fmriprep/sub-sid18/ses-01/func/sub-sid18_ses-01_task-roomvideo_run-02_bold_space-fsaverage6.L.func.gii\n",
      "    Extracting confound information from  sub-sid18/ses-01/func/sub-sid18_ses-01_task-roomvideo_run-02_bold_confounds.tsv\n",
      "   D[hem] =  (40962, 235)\n",
      "   np dot regrcoef, reg.t:  (40962, 235)\n",
      "   interecept shape:  (40962, 1)\n"
     ]
    },
    {
     "name": "stderr",
     "output_type": "stream",
     "text": [
      "/jukebox/pkgs/PYGER/0.9.1/lib/python3.7/site-packages/scipy/stats/stats.py:2279: RuntimeWarning: divide by zero encountered in true_divide\n",
      "  np.expand_dims(sstd, axis=axis))\n",
      "/jukebox/pkgs/PYGER/0.9.1/lib/python3.7/site-packages/scipy/stats/stats.py:2279: RuntimeWarning: invalid value encountered in true_divide\n",
      "  np.expand_dims(sstd, axis=axis))\n"
     ]
    },
    {
     "name": "stdout",
     "output_type": "stream",
     "text": [
      "...saving left hem.\n",
      "***sub-sid18***\n",
      "    Processing run  sub-sid18_ses-01_task-roomvideo_run-02_bold_space-fsaverage6.R.func.gii\n",
      "    Loading  /jukebox/norman/rmasis/MemPal/data/BIDS/Norman/Baldassano/10442_vrpalace/derivatives/fmriprep/sub-sid18/ses-01/func/sub-sid18_ses-01_task-roomvideo_run-02_bold_space-fsaverage6.R.func.gii\n",
      "    Extracting confound information from  sub-sid18/ses-01/func/sub-sid18_ses-01_task-roomvideo_run-02_bold_confounds.tsv\n",
      "   D[hem] =  (40962, 235)\n",
      "   np dot regrcoef, reg.t:  (40962, 235)\n",
      "   interecept shape:  (40962, 1)\n"
     ]
    },
    {
     "name": "stderr",
     "output_type": "stream",
     "text": [
      "/jukebox/pkgs/PYGER/0.9.1/lib/python3.7/site-packages/scipy/stats/stats.py:2279: RuntimeWarning: divide by zero encountered in true_divide\n",
      "  np.expand_dims(sstd, axis=axis))\n",
      "/jukebox/pkgs/PYGER/0.9.1/lib/python3.7/site-packages/scipy/stats/stats.py:2279: RuntimeWarning: invalid value encountered in true_divide\n",
      "  np.expand_dims(sstd, axis=axis))\n"
     ]
    },
    {
     "name": "stdout",
     "output_type": "stream",
     "text": [
      "...saving right hem.\n",
      "***sub-sid18***\n",
      "    Processing run  sub-sid18_ses-02_task-pathvideo_bold_space-fsaverage6.L.func.gii\n",
      "    Loading  /jukebox/norman/rmasis/MemPal/data/BIDS/Norman/Baldassano/10442_vrpalace/derivatives/fmriprep/sub-sid18/ses-02/func/sub-sid18_ses-02_task-pathvideo_bold_space-fsaverage6.L.func.gii\n",
      "    Extracting confound information from  sub-sid18/ses-02/func/sub-sid18_ses-02_task-pathvideo_bold_confounds.tsv\n",
      "   D[hem] =  (40962, 595)\n",
      "   np dot regrcoef, reg.t:  (40962, 595)\n",
      "   interecept shape:  (40962, 1)\n"
     ]
    },
    {
     "name": "stderr",
     "output_type": "stream",
     "text": [
      "/jukebox/pkgs/PYGER/0.9.1/lib/python3.7/site-packages/scipy/stats/stats.py:2279: RuntimeWarning: divide by zero encountered in true_divide\n",
      "  np.expand_dims(sstd, axis=axis))\n",
      "/jukebox/pkgs/PYGER/0.9.1/lib/python3.7/site-packages/scipy/stats/stats.py:2279: RuntimeWarning: invalid value encountered in true_divide\n",
      "  np.expand_dims(sstd, axis=axis))\n"
     ]
    },
    {
     "name": "stdout",
     "output_type": "stream",
     "text": [
      "...saving left hem.\n",
      "***sub-sid18***\n",
      "    Processing run  sub-sid18_ses-02_task-pathvideo_bold_space-fsaverage6.R.func.gii\n",
      "    Loading  /jukebox/norman/rmasis/MemPal/data/BIDS/Norman/Baldassano/10442_vrpalace/derivatives/fmriprep/sub-sid18/ses-02/func/sub-sid18_ses-02_task-pathvideo_bold_space-fsaverage6.R.func.gii\n",
      "    Extracting confound information from  sub-sid18/ses-02/func/sub-sid18_ses-02_task-pathvideo_bold_confounds.tsv\n",
      "   D[hem] =  (40962, 595)\n",
      "   np dot regrcoef, reg.t:  (40962, 595)\n",
      "   interecept shape:  (40962, 1)\n"
     ]
    },
    {
     "name": "stderr",
     "output_type": "stream",
     "text": [
      "/jukebox/pkgs/PYGER/0.9.1/lib/python3.7/site-packages/scipy/stats/stats.py:2279: RuntimeWarning: divide by zero encountered in true_divide\n",
      "  np.expand_dims(sstd, axis=axis))\n",
      "/jukebox/pkgs/PYGER/0.9.1/lib/python3.7/site-packages/scipy/stats/stats.py:2279: RuntimeWarning: invalid value encountered in true_divide\n",
      "  np.expand_dims(sstd, axis=axis))\n"
     ]
    },
    {
     "name": "stdout",
     "output_type": "stream",
     "text": [
      "...saving right hem.\n",
      "***sub-sid18***\n",
      "    Processing run  sub-sid18_ses-02_task-recall_bold_space-fsaverage6.L.func.gii\n",
      "    Loading  /jukebox/norman/rmasis/MemPal/data/BIDS/Norman/Baldassano/10442_vrpalace/derivatives/fmriprep/sub-sid18/ses-02/func/sub-sid18_ses-02_task-recall_bold_space-fsaverage6.L.func.gii\n",
      "    Extracting confound information from  sub-sid18/ses-02/func/sub-sid18_ses-02_task-recall_bold_confounds.tsv\n",
      "   D[hem] =  (40962, 1643)\n",
      "   np dot regrcoef, reg.t:  (40962, 1643)\n",
      "   interecept shape:  (40962, 1)\n"
     ]
    },
    {
     "name": "stderr",
     "output_type": "stream",
     "text": [
      "/jukebox/pkgs/PYGER/0.9.1/lib/python3.7/site-packages/scipy/stats/stats.py:2279: RuntimeWarning: divide by zero encountered in true_divide\n",
      "  np.expand_dims(sstd, axis=axis))\n",
      "/jukebox/pkgs/PYGER/0.9.1/lib/python3.7/site-packages/scipy/stats/stats.py:2279: RuntimeWarning: invalid value encountered in true_divide\n",
      "  np.expand_dims(sstd, axis=axis))\n"
     ]
    },
    {
     "name": "stdout",
     "output_type": "stream",
     "text": [
      "...saving left hem.\n",
      "***sub-sid18***\n",
      "    Processing run  sub-sid18_ses-02_task-recall_bold_space-fsaverage6.R.func.gii\n",
      "    Loading  /jukebox/norman/rmasis/MemPal/data/BIDS/Norman/Baldassano/10442_vrpalace/derivatives/fmriprep/sub-sid18/ses-02/func/sub-sid18_ses-02_task-recall_bold_space-fsaverage6.R.func.gii\n",
      "    Extracting confound information from  sub-sid18/ses-02/func/sub-sid18_ses-02_task-recall_bold_confounds.tsv\n",
      "   D[hem] =  (40962, 1643)\n",
      "   np dot regrcoef, reg.t:  (40962, 1643)\n",
      "   interecept shape:  (40962, 1)\n"
     ]
    },
    {
     "name": "stderr",
     "output_type": "stream",
     "text": [
      "/jukebox/pkgs/PYGER/0.9.1/lib/python3.7/site-packages/scipy/stats/stats.py:2279: RuntimeWarning: divide by zero encountered in true_divide\n",
      "  np.expand_dims(sstd, axis=axis))\n",
      "/jukebox/pkgs/PYGER/0.9.1/lib/python3.7/site-packages/scipy/stats/stats.py:2279: RuntimeWarning: invalid value encountered in true_divide\n",
      "  np.expand_dims(sstd, axis=axis))\n"
     ]
    },
    {
     "name": "stdout",
     "output_type": "stream",
     "text": [
      "...saving right hem.\n",
      "***sub-sid18***\n",
      "    Processing run  sub-sid18_ses-02_task-roomobjectvideo_run-01_bold_space-fsaverage6.L.func.gii\n",
      "    Loading  /jukebox/norman/rmasis/MemPal/data/BIDS/Norman/Baldassano/10442_vrpalace/derivatives/fmriprep/sub-sid18/ses-02/func/sub-sid18_ses-02_task-roomobjectvideo_run-01_bold_space-fsaverage6.L.func.gii\n",
      "    Extracting confound information from  sub-sid18/ses-02/func/sub-sid18_ses-02_task-roomobjectvideo_run-01_bold_confounds.tsv\n",
      "   D[hem] =  (40962, 460)\n",
      "   np dot regrcoef, reg.t:  (40962, 460)\n",
      "   interecept shape:  (40962, 1)\n"
     ]
    },
    {
     "name": "stderr",
     "output_type": "stream",
     "text": [
      "/jukebox/pkgs/PYGER/0.9.1/lib/python3.7/site-packages/scipy/stats/stats.py:2279: RuntimeWarning: divide by zero encountered in true_divide\n",
      "  np.expand_dims(sstd, axis=axis))\n",
      "/jukebox/pkgs/PYGER/0.9.1/lib/python3.7/site-packages/scipy/stats/stats.py:2279: RuntimeWarning: invalid value encountered in true_divide\n",
      "  np.expand_dims(sstd, axis=axis))\n"
     ]
    },
    {
     "name": "stdout",
     "output_type": "stream",
     "text": [
      "...saving left hem.\n",
      "***sub-sid18***\n",
      "    Processing run  sub-sid18_ses-02_task-roomobjectvideo_run-01_bold_space-fsaverage6.R.func.gii\n",
      "    Loading  /jukebox/norman/rmasis/MemPal/data/BIDS/Norman/Baldassano/10442_vrpalace/derivatives/fmriprep/sub-sid18/ses-02/func/sub-sid18_ses-02_task-roomobjectvideo_run-01_bold_space-fsaverage6.R.func.gii\n",
      "    Extracting confound information from  sub-sid18/ses-02/func/sub-sid18_ses-02_task-roomobjectvideo_run-01_bold_confounds.tsv\n",
      "   D[hem] =  (40962, 460)\n",
      "   np dot regrcoef, reg.t:  (40962, 460)\n",
      "   interecept shape:  (40962, 1)\n"
     ]
    },
    {
     "name": "stderr",
     "output_type": "stream",
     "text": [
      "/jukebox/pkgs/PYGER/0.9.1/lib/python3.7/site-packages/scipy/stats/stats.py:2279: RuntimeWarning: divide by zero encountered in true_divide\n",
      "  np.expand_dims(sstd, axis=axis))\n",
      "/jukebox/pkgs/PYGER/0.9.1/lib/python3.7/site-packages/scipy/stats/stats.py:2279: RuntimeWarning: invalid value encountered in true_divide\n",
      "  np.expand_dims(sstd, axis=axis))\n"
     ]
    },
    {
     "name": "stdout",
     "output_type": "stream",
     "text": [
      "...saving right hem.\n",
      "***sub-sid18***\n",
      "    Processing run  sub-sid18_ses-02_task-roomobjectvideo_run-02_bold_space-fsaverage6.L.func.gii\n",
      "    Loading  /jukebox/norman/rmasis/MemPal/data/BIDS/Norman/Baldassano/10442_vrpalace/derivatives/fmriprep/sub-sid18/ses-02/func/sub-sid18_ses-02_task-roomobjectvideo_run-02_bold_space-fsaverage6.L.func.gii\n",
      "    Extracting confound information from  sub-sid18/ses-02/func/sub-sid18_ses-02_task-roomobjectvideo_run-02_bold_confounds.tsv\n",
      "   D[hem] =  (40962, 460)\n",
      "   np dot regrcoef, reg.t:  (40962, 460)\n",
      "   interecept shape:  (40962, 1)\n"
     ]
    },
    {
     "name": "stderr",
     "output_type": "stream",
     "text": [
      "/jukebox/pkgs/PYGER/0.9.1/lib/python3.7/site-packages/scipy/stats/stats.py:2279: RuntimeWarning: divide by zero encountered in true_divide\n",
      "  np.expand_dims(sstd, axis=axis))\n",
      "/jukebox/pkgs/PYGER/0.9.1/lib/python3.7/site-packages/scipy/stats/stats.py:2279: RuntimeWarning: invalid value encountered in true_divide\n",
      "  np.expand_dims(sstd, axis=axis))\n"
     ]
    },
    {
     "name": "stdout",
     "output_type": "stream",
     "text": [
      "...saving left hem.\n",
      "***sub-sid18***\n",
      "    Processing run  sub-sid18_ses-02_task-roomobjectvideo_run-02_bold_space-fsaverage6.R.func.gii\n",
      "    Loading  /jukebox/norman/rmasis/MemPal/data/BIDS/Norman/Baldassano/10442_vrpalace/derivatives/fmriprep/sub-sid18/ses-02/func/sub-sid18_ses-02_task-roomobjectvideo_run-02_bold_space-fsaverage6.R.func.gii\n",
      "    Extracting confound information from  sub-sid18/ses-02/func/sub-sid18_ses-02_task-roomobjectvideo_run-02_bold_confounds.tsv\n",
      "   D[hem] =  (40962, 460)\n",
      "   np dot regrcoef, reg.t:  (40962, 460)\n",
      "   interecept shape:  (40962, 1)\n"
     ]
    },
    {
     "name": "stderr",
     "output_type": "stream",
     "text": [
      "/jukebox/pkgs/PYGER/0.9.1/lib/python3.7/site-packages/scipy/stats/stats.py:2279: RuntimeWarning: divide by zero encountered in true_divide\n",
      "  np.expand_dims(sstd, axis=axis))\n",
      "/jukebox/pkgs/PYGER/0.9.1/lib/python3.7/site-packages/scipy/stats/stats.py:2279: RuntimeWarning: invalid value encountered in true_divide\n",
      "  np.expand_dims(sstd, axis=axis))\n"
     ]
    },
    {
     "name": "stdout",
     "output_type": "stream",
     "text": [
      "...saving right hem.\n",
      "***sub-sid19***\n",
      "    Processing run  sub-sid19_ses-01_task-pathvideo_bold_space-fsaverage6.L.func.gii\n",
      "    Loading  /jukebox/norman/rmasis/MemPal/data/BIDS/Norman/Baldassano/10442_vrpalace/derivatives/fmriprep/sub-sid19/ses-01/func/sub-sid19_ses-01_task-pathvideo_bold_space-fsaverage6.L.func.gii\n",
      "    Extracting confound information from  sub-sid19/ses-01/func/sub-sid19_ses-01_task-pathvideo_bold_confounds.tsv\n",
      "   D[hem] =  (40962, 595)\n",
      "   np dot regrcoef, reg.t:  (40962, 595)\n",
      "   interecept shape:  (40962, 1)\n"
     ]
    },
    {
     "name": "stderr",
     "output_type": "stream",
     "text": [
      "/jukebox/pkgs/PYGER/0.9.1/lib/python3.7/site-packages/scipy/stats/stats.py:2279: RuntimeWarning: divide by zero encountered in true_divide\n",
      "  np.expand_dims(sstd, axis=axis))\n",
      "/jukebox/pkgs/PYGER/0.9.1/lib/python3.7/site-packages/scipy/stats/stats.py:2279: RuntimeWarning: invalid value encountered in true_divide\n",
      "  np.expand_dims(sstd, axis=axis))\n"
     ]
    },
    {
     "name": "stdout",
     "output_type": "stream",
     "text": [
      "   making new directory ../PythonData2024/ProcessedData//sub-sid19/\n",
      "...saving left hem.\n",
      "***sub-sid19***\n",
      "    Processing run  sub-sid19_ses-01_task-pathvideo_bold_space-fsaverage6.R.func.gii\n",
      "    Loading  /jukebox/norman/rmasis/MemPal/data/BIDS/Norman/Baldassano/10442_vrpalace/derivatives/fmriprep/sub-sid19/ses-01/func/sub-sid19_ses-01_task-pathvideo_bold_space-fsaverage6.R.func.gii\n",
      "    Extracting confound information from  sub-sid19/ses-01/func/sub-sid19_ses-01_task-pathvideo_bold_confounds.tsv\n",
      "   D[hem] =  (40962, 595)\n",
      "   np dot regrcoef, reg.t:  (40962, 595)\n",
      "   interecept shape:  (40962, 1)\n"
     ]
    },
    {
     "name": "stderr",
     "output_type": "stream",
     "text": [
      "/jukebox/pkgs/PYGER/0.9.1/lib/python3.7/site-packages/scipy/stats/stats.py:2279: RuntimeWarning: divide by zero encountered in true_divide\n",
      "  np.expand_dims(sstd, axis=axis))\n",
      "/jukebox/pkgs/PYGER/0.9.1/lib/python3.7/site-packages/scipy/stats/stats.py:2279: RuntimeWarning: invalid value encountered in true_divide\n",
      "  np.expand_dims(sstd, axis=axis))\n"
     ]
    },
    {
     "name": "stdout",
     "output_type": "stream",
     "text": [
      "...saving right hem.\n",
      "***sub-sid19***\n",
      "    Processing run  sub-sid19_ses-01_task-roomvideo_run-01_bold_space-fsaverage6.L.func.gii\n",
      "    Loading  /jukebox/norman/rmasis/MemPal/data/BIDS/Norman/Baldassano/10442_vrpalace/derivatives/fmriprep/sub-sid19/ses-01/func/sub-sid19_ses-01_task-roomvideo_run-01_bold_space-fsaverage6.L.func.gii\n",
      "    Extracting confound information from  sub-sid19/ses-01/func/sub-sid19_ses-01_task-roomvideo_run-01_bold_confounds.tsv\n",
      "   D[hem] =  (40962, 235)\n",
      "   np dot regrcoef, reg.t:  (40962, 235)\n",
      "   interecept shape:  (40962, 1)\n"
     ]
    },
    {
     "name": "stderr",
     "output_type": "stream",
     "text": [
      "/jukebox/pkgs/PYGER/0.9.1/lib/python3.7/site-packages/scipy/stats/stats.py:2279: RuntimeWarning: divide by zero encountered in true_divide\n",
      "  np.expand_dims(sstd, axis=axis))\n",
      "/jukebox/pkgs/PYGER/0.9.1/lib/python3.7/site-packages/scipy/stats/stats.py:2279: RuntimeWarning: invalid value encountered in true_divide\n",
      "  np.expand_dims(sstd, axis=axis))\n"
     ]
    },
    {
     "name": "stdout",
     "output_type": "stream",
     "text": [
      "...saving left hem.\n",
      "***sub-sid19***\n",
      "    Processing run  sub-sid19_ses-01_task-roomvideo_run-01_bold_space-fsaverage6.R.func.gii\n",
      "    Loading  /jukebox/norman/rmasis/MemPal/data/BIDS/Norman/Baldassano/10442_vrpalace/derivatives/fmriprep/sub-sid19/ses-01/func/sub-sid19_ses-01_task-roomvideo_run-01_bold_space-fsaverage6.R.func.gii\n",
      "    Extracting confound information from  sub-sid19/ses-01/func/sub-sid19_ses-01_task-roomvideo_run-01_bold_confounds.tsv\n",
      "   D[hem] =  (40962, 235)\n",
      "   np dot regrcoef, reg.t:  (40962, 235)\n",
      "   interecept shape:  (40962, 1)\n"
     ]
    },
    {
     "name": "stderr",
     "output_type": "stream",
     "text": [
      "/jukebox/pkgs/PYGER/0.9.1/lib/python3.7/site-packages/scipy/stats/stats.py:2279: RuntimeWarning: divide by zero encountered in true_divide\n",
      "  np.expand_dims(sstd, axis=axis))\n",
      "/jukebox/pkgs/PYGER/0.9.1/lib/python3.7/site-packages/scipy/stats/stats.py:2279: RuntimeWarning: invalid value encountered in true_divide\n",
      "  np.expand_dims(sstd, axis=axis))\n"
     ]
    },
    {
     "name": "stdout",
     "output_type": "stream",
     "text": [
      "...saving right hem.\n",
      "***sub-sid19***\n",
      "    Processing run  sub-sid19_ses-01_task-roomvideo_run-02_bold_space-fsaverage6.L.func.gii\n",
      "    Loading  /jukebox/norman/rmasis/MemPal/data/BIDS/Norman/Baldassano/10442_vrpalace/derivatives/fmriprep/sub-sid19/ses-01/func/sub-sid19_ses-01_task-roomvideo_run-02_bold_space-fsaverage6.L.func.gii\n",
      "    Extracting confound information from  sub-sid19/ses-01/func/sub-sid19_ses-01_task-roomvideo_run-02_bold_confounds.tsv\n",
      "   D[hem] =  (40962, 235)\n",
      "   np dot regrcoef, reg.t:  (40962, 235)\n",
      "   interecept shape:  (40962, 1)\n"
     ]
    },
    {
     "name": "stderr",
     "output_type": "stream",
     "text": [
      "/jukebox/pkgs/PYGER/0.9.1/lib/python3.7/site-packages/scipy/stats/stats.py:2279: RuntimeWarning: divide by zero encountered in true_divide\n",
      "  np.expand_dims(sstd, axis=axis))\n",
      "/jukebox/pkgs/PYGER/0.9.1/lib/python3.7/site-packages/scipy/stats/stats.py:2279: RuntimeWarning: invalid value encountered in true_divide\n",
      "  np.expand_dims(sstd, axis=axis))\n"
     ]
    },
    {
     "name": "stdout",
     "output_type": "stream",
     "text": [
      "...saving left hem.\n",
      "***sub-sid19***\n",
      "    Processing run  sub-sid19_ses-01_task-roomvideo_run-02_bold_space-fsaverage6.R.func.gii\n",
      "    Loading  /jukebox/norman/rmasis/MemPal/data/BIDS/Norman/Baldassano/10442_vrpalace/derivatives/fmriprep/sub-sid19/ses-01/func/sub-sid19_ses-01_task-roomvideo_run-02_bold_space-fsaverage6.R.func.gii\n",
      "    Extracting confound information from  sub-sid19/ses-01/func/sub-sid19_ses-01_task-roomvideo_run-02_bold_confounds.tsv\n",
      "   D[hem] =  (40962, 235)\n",
      "   np dot regrcoef, reg.t:  (40962, 235)\n",
      "   interecept shape:  (40962, 1)\n"
     ]
    },
    {
     "name": "stderr",
     "output_type": "stream",
     "text": [
      "/jukebox/pkgs/PYGER/0.9.1/lib/python3.7/site-packages/scipy/stats/stats.py:2279: RuntimeWarning: divide by zero encountered in true_divide\n",
      "  np.expand_dims(sstd, axis=axis))\n",
      "/jukebox/pkgs/PYGER/0.9.1/lib/python3.7/site-packages/scipy/stats/stats.py:2279: RuntimeWarning: invalid value encountered in true_divide\n",
      "  np.expand_dims(sstd, axis=axis))\n"
     ]
    },
    {
     "name": "stdout",
     "output_type": "stream",
     "text": [
      "...saving right hem.\n",
      "***sub-sid19***\n",
      "    Processing run  sub-sid19_ses-02_task-pathvideo_bold_space-fsaverage6.L.func.gii\n",
      "    Loading  /jukebox/norman/rmasis/MemPal/data/BIDS/Norman/Baldassano/10442_vrpalace/derivatives/fmriprep/sub-sid19/ses-02/func/sub-sid19_ses-02_task-pathvideo_bold_space-fsaverage6.L.func.gii\n",
      "    Extracting confound information from  sub-sid19/ses-02/func/sub-sid19_ses-02_task-pathvideo_bold_confounds.tsv\n",
      "   D[hem] =  (40962, 595)\n",
      "   np dot regrcoef, reg.t:  (40962, 595)\n",
      "   interecept shape:  (40962, 1)\n"
     ]
    },
    {
     "name": "stderr",
     "output_type": "stream",
     "text": [
      "/jukebox/pkgs/PYGER/0.9.1/lib/python3.7/site-packages/scipy/stats/stats.py:2279: RuntimeWarning: divide by zero encountered in true_divide\n",
      "  np.expand_dims(sstd, axis=axis))\n",
      "/jukebox/pkgs/PYGER/0.9.1/lib/python3.7/site-packages/scipy/stats/stats.py:2279: RuntimeWarning: invalid value encountered in true_divide\n",
      "  np.expand_dims(sstd, axis=axis))\n"
     ]
    },
    {
     "name": "stdout",
     "output_type": "stream",
     "text": [
      "...saving left hem.\n",
      "***sub-sid19***\n",
      "    Processing run  sub-sid19_ses-02_task-pathvideo_bold_space-fsaverage6.R.func.gii\n",
      "    Loading  /jukebox/norman/rmasis/MemPal/data/BIDS/Norman/Baldassano/10442_vrpalace/derivatives/fmriprep/sub-sid19/ses-02/func/sub-sid19_ses-02_task-pathvideo_bold_space-fsaverage6.R.func.gii\n",
      "    Extracting confound information from  sub-sid19/ses-02/func/sub-sid19_ses-02_task-pathvideo_bold_confounds.tsv\n",
      "   D[hem] =  (40962, 595)\n",
      "   np dot regrcoef, reg.t:  (40962, 595)\n",
      "   interecept shape:  (40962, 1)\n"
     ]
    },
    {
     "name": "stderr",
     "output_type": "stream",
     "text": [
      "/jukebox/pkgs/PYGER/0.9.1/lib/python3.7/site-packages/scipy/stats/stats.py:2279: RuntimeWarning: divide by zero encountered in true_divide\n",
      "  np.expand_dims(sstd, axis=axis))\n",
      "/jukebox/pkgs/PYGER/0.9.1/lib/python3.7/site-packages/scipy/stats/stats.py:2279: RuntimeWarning: invalid value encountered in true_divide\n",
      "  np.expand_dims(sstd, axis=axis))\n"
     ]
    },
    {
     "name": "stdout",
     "output_type": "stream",
     "text": [
      "...saving right hem.\n",
      "***sub-sid19***\n",
      "    Processing run  sub-sid19_ses-02_task-recall_bold_space-fsaverage6.L.func.gii\n",
      "    Loading  /jukebox/norman/rmasis/MemPal/data/BIDS/Norman/Baldassano/10442_vrpalace/derivatives/fmriprep/sub-sid19/ses-02/func/sub-sid19_ses-02_task-recall_bold_space-fsaverage6.L.func.gii\n",
      "    Extracting confound information from  sub-sid19/ses-02/func/sub-sid19_ses-02_task-recall_bold_confounds.tsv\n",
      "   D[hem] =  (40962, 2062)\n",
      "   np dot regrcoef, reg.t:  (40962, 2062)\n",
      "   interecept shape:  (40962, 1)\n"
     ]
    },
    {
     "name": "stderr",
     "output_type": "stream",
     "text": [
      "/jukebox/pkgs/PYGER/0.9.1/lib/python3.7/site-packages/scipy/stats/stats.py:2279: RuntimeWarning: divide by zero encountered in true_divide\n",
      "  np.expand_dims(sstd, axis=axis))\n",
      "/jukebox/pkgs/PYGER/0.9.1/lib/python3.7/site-packages/scipy/stats/stats.py:2279: RuntimeWarning: invalid value encountered in true_divide\n",
      "  np.expand_dims(sstd, axis=axis))\n"
     ]
    },
    {
     "name": "stdout",
     "output_type": "stream",
     "text": [
      "...saving left hem.\n",
      "***sub-sid19***\n",
      "    Processing run  sub-sid19_ses-02_task-recall_bold_space-fsaverage6.R.func.gii\n",
      "    Loading  /jukebox/norman/rmasis/MemPal/data/BIDS/Norman/Baldassano/10442_vrpalace/derivatives/fmriprep/sub-sid19/ses-02/func/sub-sid19_ses-02_task-recall_bold_space-fsaverage6.R.func.gii\n",
      "    Extracting confound information from  sub-sid19/ses-02/func/sub-sid19_ses-02_task-recall_bold_confounds.tsv\n",
      "   D[hem] =  (40962, 2062)\n",
      "   np dot regrcoef, reg.t:  (40962, 2062)\n",
      "   interecept shape:  (40962, 1)\n"
     ]
    },
    {
     "name": "stderr",
     "output_type": "stream",
     "text": [
      "/jukebox/pkgs/PYGER/0.9.1/lib/python3.7/site-packages/scipy/stats/stats.py:2279: RuntimeWarning: divide by zero encountered in true_divide\n",
      "  np.expand_dims(sstd, axis=axis))\n",
      "/jukebox/pkgs/PYGER/0.9.1/lib/python3.7/site-packages/scipy/stats/stats.py:2279: RuntimeWarning: invalid value encountered in true_divide\n",
      "  np.expand_dims(sstd, axis=axis))\n"
     ]
    },
    {
     "name": "stdout",
     "output_type": "stream",
     "text": [
      "...saving right hem.\n",
      "***sub-sid19***\n",
      "    Processing run  sub-sid19_ses-02_task-roomobjectvideo_run-01_bold_space-fsaverage6.L.func.gii\n",
      "    Loading  /jukebox/norman/rmasis/MemPal/data/BIDS/Norman/Baldassano/10442_vrpalace/derivatives/fmriprep/sub-sid19/ses-02/func/sub-sid19_ses-02_task-roomobjectvideo_run-01_bold_space-fsaverage6.L.func.gii\n",
      "    Extracting confound information from  sub-sid19/ses-02/func/sub-sid19_ses-02_task-roomobjectvideo_run-01_bold_confounds.tsv\n",
      "   D[hem] =  (40962, 460)\n",
      "   np dot regrcoef, reg.t:  (40962, 460)\n",
      "   interecept shape:  (40962, 1)\n"
     ]
    },
    {
     "name": "stderr",
     "output_type": "stream",
     "text": [
      "/jukebox/pkgs/PYGER/0.9.1/lib/python3.7/site-packages/scipy/stats/stats.py:2279: RuntimeWarning: divide by zero encountered in true_divide\n",
      "  np.expand_dims(sstd, axis=axis))\n",
      "/jukebox/pkgs/PYGER/0.9.1/lib/python3.7/site-packages/scipy/stats/stats.py:2279: RuntimeWarning: invalid value encountered in true_divide\n",
      "  np.expand_dims(sstd, axis=axis))\n"
     ]
    },
    {
     "name": "stdout",
     "output_type": "stream",
     "text": [
      "...saving left hem.\n",
      "***sub-sid19***\n",
      "    Processing run  sub-sid19_ses-02_task-roomobjectvideo_run-01_bold_space-fsaverage6.R.func.gii\n",
      "    Loading  /jukebox/norman/rmasis/MemPal/data/BIDS/Norman/Baldassano/10442_vrpalace/derivatives/fmriprep/sub-sid19/ses-02/func/sub-sid19_ses-02_task-roomobjectvideo_run-01_bold_space-fsaverage6.R.func.gii\n",
      "    Extracting confound information from  sub-sid19/ses-02/func/sub-sid19_ses-02_task-roomobjectvideo_run-01_bold_confounds.tsv\n",
      "   D[hem] =  (40962, 460)\n",
      "   np dot regrcoef, reg.t:  (40962, 460)\n",
      "   interecept shape:  (40962, 1)\n"
     ]
    },
    {
     "name": "stderr",
     "output_type": "stream",
     "text": [
      "/jukebox/pkgs/PYGER/0.9.1/lib/python3.7/site-packages/scipy/stats/stats.py:2279: RuntimeWarning: divide by zero encountered in true_divide\n",
      "  np.expand_dims(sstd, axis=axis))\n",
      "/jukebox/pkgs/PYGER/0.9.1/lib/python3.7/site-packages/scipy/stats/stats.py:2279: RuntimeWarning: invalid value encountered in true_divide\n",
      "  np.expand_dims(sstd, axis=axis))\n"
     ]
    },
    {
     "name": "stdout",
     "output_type": "stream",
     "text": [
      "...saving right hem.\n",
      "***sub-sid19***\n",
      "    Processing run  sub-sid19_ses-02_task-roomobjectvideo_run-02_bold_space-fsaverage6.L.func.gii\n",
      "    Loading  /jukebox/norman/rmasis/MemPal/data/BIDS/Norman/Baldassano/10442_vrpalace/derivatives/fmriprep/sub-sid19/ses-02/func/sub-sid19_ses-02_task-roomobjectvideo_run-02_bold_space-fsaverage6.L.func.gii\n",
      "    Extracting confound information from  sub-sid19/ses-02/func/sub-sid19_ses-02_task-roomobjectvideo_run-02_bold_confounds.tsv\n",
      "   D[hem] =  (40962, 460)\n",
      "   np dot regrcoef, reg.t:  (40962, 460)\n",
      "   interecept shape:  (40962, 1)\n"
     ]
    },
    {
     "name": "stderr",
     "output_type": "stream",
     "text": [
      "/jukebox/pkgs/PYGER/0.9.1/lib/python3.7/site-packages/scipy/stats/stats.py:2279: RuntimeWarning: divide by zero encountered in true_divide\n",
      "  np.expand_dims(sstd, axis=axis))\n",
      "/jukebox/pkgs/PYGER/0.9.1/lib/python3.7/site-packages/scipy/stats/stats.py:2279: RuntimeWarning: invalid value encountered in true_divide\n",
      "  np.expand_dims(sstd, axis=axis))\n"
     ]
    },
    {
     "name": "stdout",
     "output_type": "stream",
     "text": [
      "...saving left hem.\n",
      "***sub-sid19***\n",
      "    Processing run  sub-sid19_ses-02_task-roomobjectvideo_run-02_bold_space-fsaverage6.R.func.gii\n",
      "    Loading  /jukebox/norman/rmasis/MemPal/data/BIDS/Norman/Baldassano/10442_vrpalace/derivatives/fmriprep/sub-sid19/ses-02/func/sub-sid19_ses-02_task-roomobjectvideo_run-02_bold_space-fsaverage6.R.func.gii\n",
      "    Extracting confound information from  sub-sid19/ses-02/func/sub-sid19_ses-02_task-roomobjectvideo_run-02_bold_confounds.tsv\n",
      "   D[hem] =  (40962, 460)\n",
      "   np dot regrcoef, reg.t:  (40962, 460)\n",
      "   interecept shape:  (40962, 1)\n"
     ]
    },
    {
     "name": "stderr",
     "output_type": "stream",
     "text": [
      "/jukebox/pkgs/PYGER/0.9.1/lib/python3.7/site-packages/scipy/stats/stats.py:2279: RuntimeWarning: divide by zero encountered in true_divide\n",
      "  np.expand_dims(sstd, axis=axis))\n",
      "/jukebox/pkgs/PYGER/0.9.1/lib/python3.7/site-packages/scipy/stats/stats.py:2279: RuntimeWarning: invalid value encountered in true_divide\n",
      "  np.expand_dims(sstd, axis=axis))\n"
     ]
    },
    {
     "name": "stdout",
     "output_type": "stream",
     "text": [
      "...saving right hem.\n",
      "***sub-sid20***\n",
      "    Processing run  sub-sid20_ses-01_task-pathvideo_bold_space-fsaverage6.L.func.gii\n",
      "    Loading  /jukebox/norman/rmasis/MemPal/data/BIDS/Norman/Baldassano/10442_vrpalace/derivatives/fmriprep/sub-sid20/ses-01/func/sub-sid20_ses-01_task-pathvideo_bold_space-fsaverage6.L.func.gii\n",
      "    Extracting confound information from  sub-sid20/ses-01/func/sub-sid20_ses-01_task-pathvideo_bold_confounds.tsv\n",
      "   D[hem] =  (40962, 595)\n",
      "   np dot regrcoef, reg.t:  (40962, 595)\n",
      "   interecept shape:  (40962, 1)\n"
     ]
    },
    {
     "name": "stderr",
     "output_type": "stream",
     "text": [
      "/jukebox/pkgs/PYGER/0.9.1/lib/python3.7/site-packages/scipy/stats/stats.py:2279: RuntimeWarning: divide by zero encountered in true_divide\n",
      "  np.expand_dims(sstd, axis=axis))\n",
      "/jukebox/pkgs/PYGER/0.9.1/lib/python3.7/site-packages/scipy/stats/stats.py:2279: RuntimeWarning: invalid value encountered in true_divide\n",
      "  np.expand_dims(sstd, axis=axis))\n"
     ]
    },
    {
     "name": "stdout",
     "output_type": "stream",
     "text": [
      "   making new directory ../PythonData2024/ProcessedData//sub-sid20/\n",
      "...saving left hem.\n",
      "***sub-sid20***\n",
      "    Processing run  sub-sid20_ses-01_task-pathvideo_bold_space-fsaverage6.R.func.gii\n",
      "    Loading  /jukebox/norman/rmasis/MemPal/data/BIDS/Norman/Baldassano/10442_vrpalace/derivatives/fmriprep/sub-sid20/ses-01/func/sub-sid20_ses-01_task-pathvideo_bold_space-fsaverage6.R.func.gii\n",
      "    Extracting confound information from  sub-sid20/ses-01/func/sub-sid20_ses-01_task-pathvideo_bold_confounds.tsv\n",
      "   D[hem] =  (40962, 595)\n",
      "   np dot regrcoef, reg.t:  (40962, 595)\n",
      "   interecept shape:  (40962, 1)\n"
     ]
    },
    {
     "name": "stderr",
     "output_type": "stream",
     "text": [
      "/jukebox/pkgs/PYGER/0.9.1/lib/python3.7/site-packages/scipy/stats/stats.py:2279: RuntimeWarning: divide by zero encountered in true_divide\n",
      "  np.expand_dims(sstd, axis=axis))\n",
      "/jukebox/pkgs/PYGER/0.9.1/lib/python3.7/site-packages/scipy/stats/stats.py:2279: RuntimeWarning: invalid value encountered in true_divide\n",
      "  np.expand_dims(sstd, axis=axis))\n"
     ]
    },
    {
     "name": "stdout",
     "output_type": "stream",
     "text": [
      "...saving right hem.\n",
      "***sub-sid20***\n",
      "    Processing run  sub-sid20_ses-01_task-roomvideo_run-01_bold_space-fsaverage6.L.func.gii\n",
      "    Loading  /jukebox/norman/rmasis/MemPal/data/BIDS/Norman/Baldassano/10442_vrpalace/derivatives/fmriprep/sub-sid20/ses-01/func/sub-sid20_ses-01_task-roomvideo_run-01_bold_space-fsaverage6.L.func.gii\n",
      "    Extracting confound information from  sub-sid20/ses-01/func/sub-sid20_ses-01_task-roomvideo_run-01_bold_confounds.tsv\n",
      "   D[hem] =  (40962, 235)\n",
      "   np dot regrcoef, reg.t:  (40962, 235)\n",
      "   interecept shape:  (40962, 1)\n"
     ]
    },
    {
     "name": "stderr",
     "output_type": "stream",
     "text": [
      "/jukebox/pkgs/PYGER/0.9.1/lib/python3.7/site-packages/scipy/stats/stats.py:2279: RuntimeWarning: divide by zero encountered in true_divide\n",
      "  np.expand_dims(sstd, axis=axis))\n",
      "/jukebox/pkgs/PYGER/0.9.1/lib/python3.7/site-packages/scipy/stats/stats.py:2279: RuntimeWarning: invalid value encountered in true_divide\n",
      "  np.expand_dims(sstd, axis=axis))\n"
     ]
    },
    {
     "name": "stdout",
     "output_type": "stream",
     "text": [
      "...saving left hem.\n",
      "***sub-sid20***\n",
      "    Processing run  sub-sid20_ses-01_task-roomvideo_run-01_bold_space-fsaverage6.R.func.gii\n",
      "    Loading  /jukebox/norman/rmasis/MemPal/data/BIDS/Norman/Baldassano/10442_vrpalace/derivatives/fmriprep/sub-sid20/ses-01/func/sub-sid20_ses-01_task-roomvideo_run-01_bold_space-fsaverage6.R.func.gii\n",
      "    Extracting confound information from  sub-sid20/ses-01/func/sub-sid20_ses-01_task-roomvideo_run-01_bold_confounds.tsv\n",
      "   D[hem] =  (40962, 235)\n",
      "   np dot regrcoef, reg.t:  (40962, 235)\n",
      "   interecept shape:  (40962, 1)\n"
     ]
    },
    {
     "name": "stderr",
     "output_type": "stream",
     "text": [
      "/jukebox/pkgs/PYGER/0.9.1/lib/python3.7/site-packages/scipy/stats/stats.py:2279: RuntimeWarning: divide by zero encountered in true_divide\n",
      "  np.expand_dims(sstd, axis=axis))\n",
      "/jukebox/pkgs/PYGER/0.9.1/lib/python3.7/site-packages/scipy/stats/stats.py:2279: RuntimeWarning: invalid value encountered in true_divide\n",
      "  np.expand_dims(sstd, axis=axis))\n"
     ]
    },
    {
     "name": "stdout",
     "output_type": "stream",
     "text": [
      "...saving right hem.\n",
      "***sub-sid20***\n",
      "    Processing run  sub-sid20_ses-01_task-roomvideo_run-02_bold_space-fsaverage6.L.func.gii\n",
      "    Loading  /jukebox/norman/rmasis/MemPal/data/BIDS/Norman/Baldassano/10442_vrpalace/derivatives/fmriprep/sub-sid20/ses-01/func/sub-sid20_ses-01_task-roomvideo_run-02_bold_space-fsaverage6.L.func.gii\n",
      "    Extracting confound information from  sub-sid20/ses-01/func/sub-sid20_ses-01_task-roomvideo_run-02_bold_confounds.tsv\n",
      "   D[hem] =  (40962, 235)\n",
      "   np dot regrcoef, reg.t:  (40962, 235)\n",
      "   interecept shape:  (40962, 1)\n"
     ]
    },
    {
     "name": "stderr",
     "output_type": "stream",
     "text": [
      "/jukebox/pkgs/PYGER/0.9.1/lib/python3.7/site-packages/scipy/stats/stats.py:2279: RuntimeWarning: divide by zero encountered in true_divide\n",
      "  np.expand_dims(sstd, axis=axis))\n",
      "/jukebox/pkgs/PYGER/0.9.1/lib/python3.7/site-packages/scipy/stats/stats.py:2279: RuntimeWarning: invalid value encountered in true_divide\n",
      "  np.expand_dims(sstd, axis=axis))\n"
     ]
    },
    {
     "name": "stdout",
     "output_type": "stream",
     "text": [
      "...saving left hem.\n",
      "***sub-sid20***\n",
      "    Processing run  sub-sid20_ses-01_task-roomvideo_run-02_bold_space-fsaverage6.R.func.gii\n",
      "    Loading  /jukebox/norman/rmasis/MemPal/data/BIDS/Norman/Baldassano/10442_vrpalace/derivatives/fmriprep/sub-sid20/ses-01/func/sub-sid20_ses-01_task-roomvideo_run-02_bold_space-fsaverage6.R.func.gii\n",
      "    Extracting confound information from  sub-sid20/ses-01/func/sub-sid20_ses-01_task-roomvideo_run-02_bold_confounds.tsv\n",
      "   D[hem] =  (40962, 235)\n",
      "   np dot regrcoef, reg.t:  (40962, 235)\n",
      "   interecept shape:  (40962, 1)\n"
     ]
    },
    {
     "name": "stderr",
     "output_type": "stream",
     "text": [
      "/jukebox/pkgs/PYGER/0.9.1/lib/python3.7/site-packages/scipy/stats/stats.py:2279: RuntimeWarning: divide by zero encountered in true_divide\n",
      "  np.expand_dims(sstd, axis=axis))\n",
      "/jukebox/pkgs/PYGER/0.9.1/lib/python3.7/site-packages/scipy/stats/stats.py:2279: RuntimeWarning: invalid value encountered in true_divide\n",
      "  np.expand_dims(sstd, axis=axis))\n"
     ]
    },
    {
     "name": "stdout",
     "output_type": "stream",
     "text": [
      "...saving right hem.\n",
      "***sub-sid20***\n",
      "    Processing run  sub-sid20_ses-02_task-pathvideo_bold_space-fsaverage6.L.func.gii\n",
      "    Loading  /jukebox/norman/rmasis/MemPal/data/BIDS/Norman/Baldassano/10442_vrpalace/derivatives/fmriprep/sub-sid20/ses-02/func/sub-sid20_ses-02_task-pathvideo_bold_space-fsaverage6.L.func.gii\n",
      "    Extracting confound information from  sub-sid20/ses-02/func/sub-sid20_ses-02_task-pathvideo_bold_confounds.tsv\n",
      "   D[hem] =  (40962, 595)\n",
      "   np dot regrcoef, reg.t:  (40962, 595)\n",
      "   interecept shape:  (40962, 1)\n"
     ]
    },
    {
     "name": "stderr",
     "output_type": "stream",
     "text": [
      "/jukebox/pkgs/PYGER/0.9.1/lib/python3.7/site-packages/scipy/stats/stats.py:2279: RuntimeWarning: divide by zero encountered in true_divide\n",
      "  np.expand_dims(sstd, axis=axis))\n",
      "/jukebox/pkgs/PYGER/0.9.1/lib/python3.7/site-packages/scipy/stats/stats.py:2279: RuntimeWarning: invalid value encountered in true_divide\n",
      "  np.expand_dims(sstd, axis=axis))\n"
     ]
    },
    {
     "name": "stdout",
     "output_type": "stream",
     "text": [
      "...saving left hem.\n",
      "***sub-sid20***\n",
      "    Processing run  sub-sid20_ses-02_task-pathvideo_bold_space-fsaverage6.R.func.gii\n",
      "    Loading  /jukebox/norman/rmasis/MemPal/data/BIDS/Norman/Baldassano/10442_vrpalace/derivatives/fmriprep/sub-sid20/ses-02/func/sub-sid20_ses-02_task-pathvideo_bold_space-fsaverage6.R.func.gii\n",
      "    Extracting confound information from  sub-sid20/ses-02/func/sub-sid20_ses-02_task-pathvideo_bold_confounds.tsv\n",
      "   D[hem] =  (40962, 595)\n",
      "   np dot regrcoef, reg.t:  (40962, 595)\n",
      "   interecept shape:  (40962, 1)\n"
     ]
    },
    {
     "name": "stderr",
     "output_type": "stream",
     "text": [
      "/jukebox/pkgs/PYGER/0.9.1/lib/python3.7/site-packages/scipy/stats/stats.py:2279: RuntimeWarning: divide by zero encountered in true_divide\n",
      "  np.expand_dims(sstd, axis=axis))\n",
      "/jukebox/pkgs/PYGER/0.9.1/lib/python3.7/site-packages/scipy/stats/stats.py:2279: RuntimeWarning: invalid value encountered in true_divide\n",
      "  np.expand_dims(sstd, axis=axis))\n"
     ]
    },
    {
     "name": "stdout",
     "output_type": "stream",
     "text": [
      "...saving right hem.\n",
      "***sub-sid20***\n",
      "    Processing run  sub-sid20_ses-02_task-recall_bold_space-fsaverage6.L.func.gii\n",
      "    Loading  /jukebox/norman/rmasis/MemPal/data/BIDS/Norman/Baldassano/10442_vrpalace/derivatives/fmriprep/sub-sid20/ses-02/func/sub-sid20_ses-02_task-recall_bold_space-fsaverage6.L.func.gii\n",
      "    Extracting confound information from  sub-sid20/ses-02/func/sub-sid20_ses-02_task-recall_bold_confounds.tsv\n",
      "   D[hem] =  (40962, 3041)\n",
      "   np dot regrcoef, reg.t:  (40962, 3041)\n",
      "   interecept shape:  (40962, 1)\n"
     ]
    },
    {
     "name": "stderr",
     "output_type": "stream",
     "text": [
      "/jukebox/pkgs/PYGER/0.9.1/lib/python3.7/site-packages/scipy/stats/stats.py:2279: RuntimeWarning: divide by zero encountered in true_divide\n",
      "  np.expand_dims(sstd, axis=axis))\n",
      "/jukebox/pkgs/PYGER/0.9.1/lib/python3.7/site-packages/scipy/stats/stats.py:2279: RuntimeWarning: invalid value encountered in true_divide\n",
      "  np.expand_dims(sstd, axis=axis))\n"
     ]
    },
    {
     "name": "stdout",
     "output_type": "stream",
     "text": [
      "...saving left hem.\n",
      "***sub-sid20***\n",
      "    Processing run  sub-sid20_ses-02_task-recall_bold_space-fsaverage6.R.func.gii\n",
      "    Loading  /jukebox/norman/rmasis/MemPal/data/BIDS/Norman/Baldassano/10442_vrpalace/derivatives/fmriprep/sub-sid20/ses-02/func/sub-sid20_ses-02_task-recall_bold_space-fsaverage6.R.func.gii\n",
      "    Extracting confound information from  sub-sid20/ses-02/func/sub-sid20_ses-02_task-recall_bold_confounds.tsv\n",
      "   D[hem] =  (40962, 3041)\n",
      "   np dot regrcoef, reg.t:  (40962, 3041)\n",
      "   interecept shape:  (40962, 1)\n"
     ]
    },
    {
     "name": "stderr",
     "output_type": "stream",
     "text": [
      "/jukebox/pkgs/PYGER/0.9.1/lib/python3.7/site-packages/scipy/stats/stats.py:2279: RuntimeWarning: divide by zero encountered in true_divide\n",
      "  np.expand_dims(sstd, axis=axis))\n",
      "/jukebox/pkgs/PYGER/0.9.1/lib/python3.7/site-packages/scipy/stats/stats.py:2279: RuntimeWarning: invalid value encountered in true_divide\n",
      "  np.expand_dims(sstd, axis=axis))\n"
     ]
    },
    {
     "name": "stdout",
     "output_type": "stream",
     "text": [
      "...saving right hem.\n",
      "***sub-sid20***\n",
      "    Processing run  sub-sid20_ses-02_task-roomobjectvideo_run-01_bold_space-fsaverage6.L.func.gii\n",
      "    Loading  /jukebox/norman/rmasis/MemPal/data/BIDS/Norman/Baldassano/10442_vrpalace/derivatives/fmriprep/sub-sid20/ses-02/func/sub-sid20_ses-02_task-roomobjectvideo_run-01_bold_space-fsaverage6.L.func.gii\n",
      "    Extracting confound information from  sub-sid20/ses-02/func/sub-sid20_ses-02_task-roomobjectvideo_run-01_bold_confounds.tsv\n",
      "   D[hem] =  (40962, 460)\n",
      "   np dot regrcoef, reg.t:  (40962, 460)\n",
      "   interecept shape:  (40962, 1)\n"
     ]
    },
    {
     "name": "stderr",
     "output_type": "stream",
     "text": [
      "/jukebox/pkgs/PYGER/0.9.1/lib/python3.7/site-packages/scipy/stats/stats.py:2279: RuntimeWarning: divide by zero encountered in true_divide\n",
      "  np.expand_dims(sstd, axis=axis))\n",
      "/jukebox/pkgs/PYGER/0.9.1/lib/python3.7/site-packages/scipy/stats/stats.py:2279: RuntimeWarning: invalid value encountered in true_divide\n",
      "  np.expand_dims(sstd, axis=axis))\n"
     ]
    },
    {
     "name": "stdout",
     "output_type": "stream",
     "text": [
      "...saving left hem.\n",
      "***sub-sid20***\n",
      "    Processing run  sub-sid20_ses-02_task-roomobjectvideo_run-01_bold_space-fsaverage6.R.func.gii\n",
      "    Loading  /jukebox/norman/rmasis/MemPal/data/BIDS/Norman/Baldassano/10442_vrpalace/derivatives/fmriprep/sub-sid20/ses-02/func/sub-sid20_ses-02_task-roomobjectvideo_run-01_bold_space-fsaverage6.R.func.gii\n",
      "    Extracting confound information from  sub-sid20/ses-02/func/sub-sid20_ses-02_task-roomobjectvideo_run-01_bold_confounds.tsv\n",
      "   D[hem] =  (40962, 460)\n",
      "   np dot regrcoef, reg.t:  (40962, 460)\n",
      "   interecept shape:  (40962, 1)\n"
     ]
    },
    {
     "name": "stderr",
     "output_type": "stream",
     "text": [
      "/jukebox/pkgs/PYGER/0.9.1/lib/python3.7/site-packages/scipy/stats/stats.py:2279: RuntimeWarning: divide by zero encountered in true_divide\n",
      "  np.expand_dims(sstd, axis=axis))\n",
      "/jukebox/pkgs/PYGER/0.9.1/lib/python3.7/site-packages/scipy/stats/stats.py:2279: RuntimeWarning: invalid value encountered in true_divide\n",
      "  np.expand_dims(sstd, axis=axis))\n"
     ]
    },
    {
     "name": "stdout",
     "output_type": "stream",
     "text": [
      "...saving right hem.\n",
      "***sub-sid20***\n",
      "    Processing run  sub-sid20_ses-02_task-roomobjectvideo_run-02_bold_space-fsaverage6.L.func.gii\n",
      "    Loading  /jukebox/norman/rmasis/MemPal/data/BIDS/Norman/Baldassano/10442_vrpalace/derivatives/fmriprep/sub-sid20/ses-02/func/sub-sid20_ses-02_task-roomobjectvideo_run-02_bold_space-fsaverage6.L.func.gii\n",
      "    Extracting confound information from  sub-sid20/ses-02/func/sub-sid20_ses-02_task-roomobjectvideo_run-02_bold_confounds.tsv\n",
      "   D[hem] =  (40962, 460)\n",
      "   np dot regrcoef, reg.t:  (40962, 460)\n",
      "   interecept shape:  (40962, 1)\n"
     ]
    },
    {
     "name": "stderr",
     "output_type": "stream",
     "text": [
      "/jukebox/pkgs/PYGER/0.9.1/lib/python3.7/site-packages/scipy/stats/stats.py:2279: RuntimeWarning: divide by zero encountered in true_divide\n",
      "  np.expand_dims(sstd, axis=axis))\n",
      "/jukebox/pkgs/PYGER/0.9.1/lib/python3.7/site-packages/scipy/stats/stats.py:2279: RuntimeWarning: invalid value encountered in true_divide\n",
      "  np.expand_dims(sstd, axis=axis))\n"
     ]
    },
    {
     "name": "stdout",
     "output_type": "stream",
     "text": [
      "...saving left hem.\n",
      "***sub-sid20***\n",
      "    Processing run  sub-sid20_ses-02_task-roomobjectvideo_run-02_bold_space-fsaverage6.R.func.gii\n",
      "    Loading  /jukebox/norman/rmasis/MemPal/data/BIDS/Norman/Baldassano/10442_vrpalace/derivatives/fmriprep/sub-sid20/ses-02/func/sub-sid20_ses-02_task-roomobjectvideo_run-02_bold_space-fsaverage6.R.func.gii\n",
      "    Extracting confound information from  sub-sid20/ses-02/func/sub-sid20_ses-02_task-roomobjectvideo_run-02_bold_confounds.tsv\n",
      "   D[hem] =  (40962, 460)\n",
      "   np dot regrcoef, reg.t:  (40962, 460)\n",
      "   interecept shape:  (40962, 1)\n"
     ]
    },
    {
     "name": "stderr",
     "output_type": "stream",
     "text": [
      "/jukebox/pkgs/PYGER/0.9.1/lib/python3.7/site-packages/scipy/stats/stats.py:2279: RuntimeWarning: divide by zero encountered in true_divide\n",
      "  np.expand_dims(sstd, axis=axis))\n",
      "/jukebox/pkgs/PYGER/0.9.1/lib/python3.7/site-packages/scipy/stats/stats.py:2279: RuntimeWarning: invalid value encountered in true_divide\n",
      "  np.expand_dims(sstd, axis=axis))\n"
     ]
    },
    {
     "name": "stdout",
     "output_type": "stream",
     "text": [
      "...saving right hem.\n",
      "***sub-sid21***\n",
      "    Processing run  sub-sid21_ses-01_task-pathvideo_bold_space-fsaverage6.L.func.gii\n",
      "    Loading  /jukebox/norman/rmasis/MemPal/data/BIDS/Norman/Baldassano/10442_vrpalace/derivatives/fmriprep/sub-sid21/ses-01/func/sub-sid21_ses-01_task-pathvideo_bold_space-fsaverage6.L.func.gii\n",
      "**** ERROR ****\n",
      "**** ERROR ****\n",
      "---something happened---\n",
      "No such file or no access: '/jukebox/norman/rmasis/MemPal/data/BIDS/Norman/Baldassano/10442_vrpalace/derivatives/fmriprep/sub-sid21/ses-01/func/sub-sid21_ses-01_task-pathvideo_bold_space-fsaverage6.L.func.gii'\n",
      "**** ERROR ****\n",
      "**** ERROR ****\n",
      "***sub-sid21***\n",
      "    Processing run  sub-sid21_ses-01_task-pathvideo_bold_space-fsaverage6.R.func.gii\n",
      "    Loading  /jukebox/norman/rmasis/MemPal/data/BIDS/Norman/Baldassano/10442_vrpalace/derivatives/fmriprep/sub-sid21/ses-01/func/sub-sid21_ses-01_task-pathvideo_bold_space-fsaverage6.R.func.gii\n",
      "**** ERROR ****\n",
      "**** ERROR ****\n",
      "---something happened---\n",
      "No such file or no access: '/jukebox/norman/rmasis/MemPal/data/BIDS/Norman/Baldassano/10442_vrpalace/derivatives/fmriprep/sub-sid21/ses-01/func/sub-sid21_ses-01_task-pathvideo_bold_space-fsaverage6.R.func.gii'\n",
      "**** ERROR ****\n",
      "**** ERROR ****\n",
      "***sub-sid21***\n",
      "    Processing run  sub-sid21_ses-01_task-roomvideo_run-01_bold_space-fsaverage6.L.func.gii\n",
      "    Loading  /jukebox/norman/rmasis/MemPal/data/BIDS/Norman/Baldassano/10442_vrpalace/derivatives/fmriprep/sub-sid21/ses-01/func/sub-sid21_ses-01_task-roomvideo_run-01_bold_space-fsaverage6.L.func.gii\n",
      "**** ERROR ****\n",
      "**** ERROR ****\n",
      "---something happened---\n",
      "No such file or no access: '/jukebox/norman/rmasis/MemPal/data/BIDS/Norman/Baldassano/10442_vrpalace/derivatives/fmriprep/sub-sid21/ses-01/func/sub-sid21_ses-01_task-roomvideo_run-01_bold_space-fsaverage6.L.func.gii'\n",
      "**** ERROR ****\n",
      "**** ERROR ****\n",
      "***sub-sid21***\n",
      "    Processing run  sub-sid21_ses-01_task-roomvideo_run-01_bold_space-fsaverage6.R.func.gii\n",
      "    Loading  /jukebox/norman/rmasis/MemPal/data/BIDS/Norman/Baldassano/10442_vrpalace/derivatives/fmriprep/sub-sid21/ses-01/func/sub-sid21_ses-01_task-roomvideo_run-01_bold_space-fsaverage6.R.func.gii\n",
      "**** ERROR ****\n",
      "**** ERROR ****\n",
      "---something happened---\n",
      "No such file or no access: '/jukebox/norman/rmasis/MemPal/data/BIDS/Norman/Baldassano/10442_vrpalace/derivatives/fmriprep/sub-sid21/ses-01/func/sub-sid21_ses-01_task-roomvideo_run-01_bold_space-fsaverage6.R.func.gii'\n",
      "**** ERROR ****\n",
      "**** ERROR ****\n",
      "***sub-sid21***\n",
      "    Processing run  sub-sid21_ses-01_task-roomvideo_run-02_bold_space-fsaverage6.L.func.gii\n",
      "    Loading  /jukebox/norman/rmasis/MemPal/data/BIDS/Norman/Baldassano/10442_vrpalace/derivatives/fmriprep/sub-sid21/ses-01/func/sub-sid21_ses-01_task-roomvideo_run-02_bold_space-fsaverage6.L.func.gii\n",
      "**** ERROR ****\n",
      "**** ERROR ****\n",
      "---something happened---\n",
      "No such file or no access: '/jukebox/norman/rmasis/MemPal/data/BIDS/Norman/Baldassano/10442_vrpalace/derivatives/fmriprep/sub-sid21/ses-01/func/sub-sid21_ses-01_task-roomvideo_run-02_bold_space-fsaverage6.L.func.gii'\n",
      "**** ERROR ****\n",
      "**** ERROR ****\n",
      "***sub-sid21***\n",
      "    Processing run  sub-sid21_ses-01_task-roomvideo_run-02_bold_space-fsaverage6.R.func.gii\n",
      "    Loading  /jukebox/norman/rmasis/MemPal/data/BIDS/Norman/Baldassano/10442_vrpalace/derivatives/fmriprep/sub-sid21/ses-01/func/sub-sid21_ses-01_task-roomvideo_run-02_bold_space-fsaverage6.R.func.gii\n",
      "**** ERROR ****\n",
      "**** ERROR ****\n",
      "---something happened---\n",
      "No such file or no access: '/jukebox/norman/rmasis/MemPal/data/BIDS/Norman/Baldassano/10442_vrpalace/derivatives/fmriprep/sub-sid21/ses-01/func/sub-sid21_ses-01_task-roomvideo_run-02_bold_space-fsaverage6.R.func.gii'\n",
      "**** ERROR ****\n",
      "**** ERROR ****\n",
      "***sub-sid21***\n",
      "    Processing run  sub-sid21_ses-02_task-pathvideo_bold_space-fsaverage6.L.func.gii\n",
      "    Loading  /jukebox/norman/rmasis/MemPal/data/BIDS/Norman/Baldassano/10442_vrpalace/derivatives/fmriprep/sub-sid21/ses-02/func/sub-sid21_ses-02_task-pathvideo_bold_space-fsaverage6.L.func.gii\n",
      "**** ERROR ****\n",
      "**** ERROR ****\n",
      "---something happened---\n",
      "No such file or no access: '/jukebox/norman/rmasis/MemPal/data/BIDS/Norman/Baldassano/10442_vrpalace/derivatives/fmriprep/sub-sid21/ses-02/func/sub-sid21_ses-02_task-pathvideo_bold_space-fsaverage6.L.func.gii'\n",
      "**** ERROR ****\n",
      "**** ERROR ****\n",
      "***sub-sid21***\n",
      "    Processing run  sub-sid21_ses-02_task-pathvideo_bold_space-fsaverage6.R.func.gii\n",
      "    Loading  /jukebox/norman/rmasis/MemPal/data/BIDS/Norman/Baldassano/10442_vrpalace/derivatives/fmriprep/sub-sid21/ses-02/func/sub-sid21_ses-02_task-pathvideo_bold_space-fsaverage6.R.func.gii\n",
      "**** ERROR ****\n",
      "**** ERROR ****\n",
      "---something happened---\n",
      "No such file or no access: '/jukebox/norman/rmasis/MemPal/data/BIDS/Norman/Baldassano/10442_vrpalace/derivatives/fmriprep/sub-sid21/ses-02/func/sub-sid21_ses-02_task-pathvideo_bold_space-fsaverage6.R.func.gii'\n",
      "**** ERROR ****\n",
      "**** ERROR ****\n",
      "***sub-sid21***\n",
      "    Processing run  sub-sid21_ses-02_task-recall_bold_space-fsaverage6.L.func.gii\n",
      "    Loading  /jukebox/norman/rmasis/MemPal/data/BIDS/Norman/Baldassano/10442_vrpalace/derivatives/fmriprep/sub-sid21/ses-02/func/sub-sid21_ses-02_task-recall_bold_space-fsaverage6.L.func.gii\n",
      "**** ERROR ****\n",
      "**** ERROR ****\n",
      "---something happened---\n",
      "No such file or no access: '/jukebox/norman/rmasis/MemPal/data/BIDS/Norman/Baldassano/10442_vrpalace/derivatives/fmriprep/sub-sid21/ses-02/func/sub-sid21_ses-02_task-recall_bold_space-fsaverage6.L.func.gii'\n",
      "**** ERROR ****\n",
      "**** ERROR ****\n",
      "***sub-sid21***\n",
      "    Processing run  sub-sid21_ses-02_task-recall_bold_space-fsaverage6.R.func.gii\n",
      "    Loading  /jukebox/norman/rmasis/MemPal/data/BIDS/Norman/Baldassano/10442_vrpalace/derivatives/fmriprep/sub-sid21/ses-02/func/sub-sid21_ses-02_task-recall_bold_space-fsaverage6.R.func.gii\n",
      "**** ERROR ****\n",
      "**** ERROR ****\n",
      "---something happened---\n",
      "No such file or no access: '/jukebox/norman/rmasis/MemPal/data/BIDS/Norman/Baldassano/10442_vrpalace/derivatives/fmriprep/sub-sid21/ses-02/func/sub-sid21_ses-02_task-recall_bold_space-fsaverage6.R.func.gii'\n",
      "**** ERROR ****\n",
      "**** ERROR ****\n",
      "***sub-sid21***\n",
      "    Processing run  sub-sid21_ses-02_task-roomobjectvideo_run-01_bold_space-fsaverage6.L.func.gii\n",
      "    Loading  /jukebox/norman/rmasis/MemPal/data/BIDS/Norman/Baldassano/10442_vrpalace/derivatives/fmriprep/sub-sid21/ses-02/func/sub-sid21_ses-02_task-roomobjectvideo_run-01_bold_space-fsaverage6.L.func.gii\n",
      "**** ERROR ****\n",
      "**** ERROR ****\n",
      "---something happened---\n",
      "No such file or no access: '/jukebox/norman/rmasis/MemPal/data/BIDS/Norman/Baldassano/10442_vrpalace/derivatives/fmriprep/sub-sid21/ses-02/func/sub-sid21_ses-02_task-roomobjectvideo_run-01_bold_space-fsaverage6.L.func.gii'\n",
      "**** ERROR ****\n",
      "**** ERROR ****\n",
      "***sub-sid21***\n",
      "    Processing run  sub-sid21_ses-02_task-roomobjectvideo_run-01_bold_space-fsaverage6.R.func.gii\n",
      "    Loading  /jukebox/norman/rmasis/MemPal/data/BIDS/Norman/Baldassano/10442_vrpalace/derivatives/fmriprep/sub-sid21/ses-02/func/sub-sid21_ses-02_task-roomobjectvideo_run-01_bold_space-fsaverage6.R.func.gii\n",
      "**** ERROR ****\n",
      "**** ERROR ****\n",
      "---something happened---\n",
      "No such file or no access: '/jukebox/norman/rmasis/MemPal/data/BIDS/Norman/Baldassano/10442_vrpalace/derivatives/fmriprep/sub-sid21/ses-02/func/sub-sid21_ses-02_task-roomobjectvideo_run-01_bold_space-fsaverage6.R.func.gii'\n",
      "**** ERROR ****\n",
      "**** ERROR ****\n",
      "***sub-sid21***\n",
      "    Processing run  sub-sid21_ses-02_task-roomobjectvideo_run-02_bold_space-fsaverage6.L.func.gii\n",
      "    Loading  /jukebox/norman/rmasis/MemPal/data/BIDS/Norman/Baldassano/10442_vrpalace/derivatives/fmriprep/sub-sid21/ses-02/func/sub-sid21_ses-02_task-roomobjectvideo_run-02_bold_space-fsaverage6.L.func.gii\n",
      "**** ERROR ****\n",
      "**** ERROR ****\n",
      "---something happened---\n",
      "No such file or no access: '/jukebox/norman/rmasis/MemPal/data/BIDS/Norman/Baldassano/10442_vrpalace/derivatives/fmriprep/sub-sid21/ses-02/func/sub-sid21_ses-02_task-roomobjectvideo_run-02_bold_space-fsaverage6.L.func.gii'\n",
      "**** ERROR ****\n",
      "**** ERROR ****\n",
      "***sub-sid21***\n",
      "    Processing run  sub-sid21_ses-02_task-roomobjectvideo_run-02_bold_space-fsaverage6.R.func.gii\n",
      "    Loading  /jukebox/norman/rmasis/MemPal/data/BIDS/Norman/Baldassano/10442_vrpalace/derivatives/fmriprep/sub-sid21/ses-02/func/sub-sid21_ses-02_task-roomobjectvideo_run-02_bold_space-fsaverage6.R.func.gii\n",
      "**** ERROR ****\n",
      "**** ERROR ****\n",
      "---something happened---\n",
      "No such file or no access: '/jukebox/norman/rmasis/MemPal/data/BIDS/Norman/Baldassano/10442_vrpalace/derivatives/fmriprep/sub-sid21/ses-02/func/sub-sid21_ses-02_task-roomobjectvideo_run-02_bold_space-fsaverage6.R.func.gii'\n",
      "**** ERROR ****\n",
      "**** ERROR ****\n",
      "***sub-sid22***\n",
      "    Processing run  sub-sid22_ses-01_task-pathvideo_bold_space-fsaverage6.L.func.gii\n",
      "    Loading  /jukebox/norman/rmasis/MemPal/data/BIDS/Norman/Baldassano/10442_vrpalace/derivatives/fmriprep/sub-sid22/ses-01/func/sub-sid22_ses-01_task-pathvideo_bold_space-fsaverage6.L.func.gii\n"
     ]
    },
    {
     "name": "stdout",
     "output_type": "stream",
     "text": [
      "    Extracting confound information from  sub-sid22/ses-01/func/sub-sid22_ses-01_task-pathvideo_bold_confounds.tsv\n",
      "   D[hem] =  (40962, 595)\n",
      "   np dot regrcoef, reg.t:  (40962, 595)\n",
      "   interecept shape:  (40962, 1)\n"
     ]
    },
    {
     "name": "stderr",
     "output_type": "stream",
     "text": [
      "/jukebox/pkgs/PYGER/0.9.1/lib/python3.7/site-packages/scipy/stats/stats.py:2279: RuntimeWarning: divide by zero encountered in true_divide\n",
      "  np.expand_dims(sstd, axis=axis))\n",
      "/jukebox/pkgs/PYGER/0.9.1/lib/python3.7/site-packages/scipy/stats/stats.py:2279: RuntimeWarning: invalid value encountered in true_divide\n",
      "  np.expand_dims(sstd, axis=axis))\n"
     ]
    },
    {
     "name": "stdout",
     "output_type": "stream",
     "text": [
      "   making new directory ../PythonData2024/ProcessedData//sub-sid22/\n",
      "...saving left hem.\n",
      "***sub-sid22***\n",
      "    Processing run  sub-sid22_ses-01_task-pathvideo_bold_space-fsaverage6.R.func.gii\n",
      "    Loading  /jukebox/norman/rmasis/MemPal/data/BIDS/Norman/Baldassano/10442_vrpalace/derivatives/fmriprep/sub-sid22/ses-01/func/sub-sid22_ses-01_task-pathvideo_bold_space-fsaverage6.R.func.gii\n",
      "    Extracting confound information from  sub-sid22/ses-01/func/sub-sid22_ses-01_task-pathvideo_bold_confounds.tsv\n",
      "   D[hem] =  (40962, 595)\n",
      "   np dot regrcoef, reg.t:  (40962, 595)\n",
      "   interecept shape:  (40962, 1)\n"
     ]
    },
    {
     "name": "stderr",
     "output_type": "stream",
     "text": [
      "/jukebox/pkgs/PYGER/0.9.1/lib/python3.7/site-packages/scipy/stats/stats.py:2279: RuntimeWarning: divide by zero encountered in true_divide\n",
      "  np.expand_dims(sstd, axis=axis))\n",
      "/jukebox/pkgs/PYGER/0.9.1/lib/python3.7/site-packages/scipy/stats/stats.py:2279: RuntimeWarning: invalid value encountered in true_divide\n",
      "  np.expand_dims(sstd, axis=axis))\n"
     ]
    },
    {
     "name": "stdout",
     "output_type": "stream",
     "text": [
      "...saving right hem.\n",
      "***sub-sid22***\n",
      "    Processing run  sub-sid22_ses-01_task-roomvideo_run-01_bold_space-fsaverage6.L.func.gii\n",
      "    Loading  /jukebox/norman/rmasis/MemPal/data/BIDS/Norman/Baldassano/10442_vrpalace/derivatives/fmriprep/sub-sid22/ses-01/func/sub-sid22_ses-01_task-roomvideo_run-01_bold_space-fsaverage6.L.func.gii\n",
      "    Extracting confound information from  sub-sid22/ses-01/func/sub-sid22_ses-01_task-roomvideo_run-01_bold_confounds.tsv\n",
      "   D[hem] =  (40962, 235)\n",
      "   np dot regrcoef, reg.t:  (40962, 235)\n",
      "   interecept shape:  (40962, 1)\n"
     ]
    },
    {
     "name": "stderr",
     "output_type": "stream",
     "text": [
      "/jukebox/pkgs/PYGER/0.9.1/lib/python3.7/site-packages/scipy/stats/stats.py:2279: RuntimeWarning: divide by zero encountered in true_divide\n",
      "  np.expand_dims(sstd, axis=axis))\n",
      "/jukebox/pkgs/PYGER/0.9.1/lib/python3.7/site-packages/scipy/stats/stats.py:2279: RuntimeWarning: invalid value encountered in true_divide\n",
      "  np.expand_dims(sstd, axis=axis))\n"
     ]
    },
    {
     "name": "stdout",
     "output_type": "stream",
     "text": [
      "...saving left hem.\n",
      "***sub-sid22***\n",
      "    Processing run  sub-sid22_ses-01_task-roomvideo_run-01_bold_space-fsaverage6.R.func.gii\n",
      "    Loading  /jukebox/norman/rmasis/MemPal/data/BIDS/Norman/Baldassano/10442_vrpalace/derivatives/fmriprep/sub-sid22/ses-01/func/sub-sid22_ses-01_task-roomvideo_run-01_bold_space-fsaverage6.R.func.gii\n",
      "    Extracting confound information from  sub-sid22/ses-01/func/sub-sid22_ses-01_task-roomvideo_run-01_bold_confounds.tsv\n",
      "   D[hem] =  (40962, 235)\n",
      "   np dot regrcoef, reg.t:  (40962, 235)\n",
      "   interecept shape:  (40962, 1)\n"
     ]
    },
    {
     "name": "stderr",
     "output_type": "stream",
     "text": [
      "/jukebox/pkgs/PYGER/0.9.1/lib/python3.7/site-packages/scipy/stats/stats.py:2279: RuntimeWarning: divide by zero encountered in true_divide\n",
      "  np.expand_dims(sstd, axis=axis))\n",
      "/jukebox/pkgs/PYGER/0.9.1/lib/python3.7/site-packages/scipy/stats/stats.py:2279: RuntimeWarning: invalid value encountered in true_divide\n",
      "  np.expand_dims(sstd, axis=axis))\n"
     ]
    },
    {
     "name": "stdout",
     "output_type": "stream",
     "text": [
      "...saving right hem.\n",
      "***sub-sid22***\n",
      "    Processing run  sub-sid22_ses-01_task-roomvideo_run-02_bold_space-fsaverage6.L.func.gii\n",
      "    Loading  /jukebox/norman/rmasis/MemPal/data/BIDS/Norman/Baldassano/10442_vrpalace/derivatives/fmriprep/sub-sid22/ses-01/func/sub-sid22_ses-01_task-roomvideo_run-02_bold_space-fsaverage6.L.func.gii\n",
      "    Extracting confound information from  sub-sid22/ses-01/func/sub-sid22_ses-01_task-roomvideo_run-02_bold_confounds.tsv\n",
      "   D[hem] =  (40962, 235)\n",
      "   np dot regrcoef, reg.t:  (40962, 235)\n",
      "   interecept shape:  (40962, 1)\n"
     ]
    },
    {
     "name": "stderr",
     "output_type": "stream",
     "text": [
      "/jukebox/pkgs/PYGER/0.9.1/lib/python3.7/site-packages/scipy/stats/stats.py:2279: RuntimeWarning: divide by zero encountered in true_divide\n",
      "  np.expand_dims(sstd, axis=axis))\n",
      "/jukebox/pkgs/PYGER/0.9.1/lib/python3.7/site-packages/scipy/stats/stats.py:2279: RuntimeWarning: invalid value encountered in true_divide\n",
      "  np.expand_dims(sstd, axis=axis))\n"
     ]
    },
    {
     "name": "stdout",
     "output_type": "stream",
     "text": [
      "...saving left hem.\n",
      "***sub-sid22***\n",
      "    Processing run  sub-sid22_ses-01_task-roomvideo_run-02_bold_space-fsaverage6.R.func.gii\n",
      "    Loading  /jukebox/norman/rmasis/MemPal/data/BIDS/Norman/Baldassano/10442_vrpalace/derivatives/fmriprep/sub-sid22/ses-01/func/sub-sid22_ses-01_task-roomvideo_run-02_bold_space-fsaverage6.R.func.gii\n",
      "    Extracting confound information from  sub-sid22/ses-01/func/sub-sid22_ses-01_task-roomvideo_run-02_bold_confounds.tsv\n",
      "   D[hem] =  (40962, 235)\n",
      "   np dot regrcoef, reg.t:  (40962, 235)\n",
      "   interecept shape:  (40962, 1)\n"
     ]
    },
    {
     "name": "stderr",
     "output_type": "stream",
     "text": [
      "/jukebox/pkgs/PYGER/0.9.1/lib/python3.7/site-packages/scipy/stats/stats.py:2279: RuntimeWarning: divide by zero encountered in true_divide\n",
      "  np.expand_dims(sstd, axis=axis))\n",
      "/jukebox/pkgs/PYGER/0.9.1/lib/python3.7/site-packages/scipy/stats/stats.py:2279: RuntimeWarning: invalid value encountered in true_divide\n",
      "  np.expand_dims(sstd, axis=axis))\n"
     ]
    },
    {
     "name": "stdout",
     "output_type": "stream",
     "text": [
      "...saving right hem.\n",
      "***sub-sid22***\n",
      "    Processing run  sub-sid22_ses-02_task-pathvideo_bold_space-fsaverage6.L.func.gii\n",
      "    Loading  /jukebox/norman/rmasis/MemPal/data/BIDS/Norman/Baldassano/10442_vrpalace/derivatives/fmriprep/sub-sid22/ses-02/func/sub-sid22_ses-02_task-pathvideo_bold_space-fsaverage6.L.func.gii\n",
      "    Extracting confound information from  sub-sid22/ses-02/func/sub-sid22_ses-02_task-pathvideo_bold_confounds.tsv\n",
      "   D[hem] =  (40962, 595)\n",
      "   np dot regrcoef, reg.t:  (40962, 595)\n",
      "   interecept shape:  (40962, 1)\n"
     ]
    },
    {
     "name": "stderr",
     "output_type": "stream",
     "text": [
      "/jukebox/pkgs/PYGER/0.9.1/lib/python3.7/site-packages/scipy/stats/stats.py:2279: RuntimeWarning: divide by zero encountered in true_divide\n",
      "  np.expand_dims(sstd, axis=axis))\n",
      "/jukebox/pkgs/PYGER/0.9.1/lib/python3.7/site-packages/scipy/stats/stats.py:2279: RuntimeWarning: invalid value encountered in true_divide\n",
      "  np.expand_dims(sstd, axis=axis))\n"
     ]
    },
    {
     "name": "stdout",
     "output_type": "stream",
     "text": [
      "...saving left hem.\n",
      "***sub-sid22***\n",
      "    Processing run  sub-sid22_ses-02_task-pathvideo_bold_space-fsaverage6.R.func.gii\n",
      "    Loading  /jukebox/norman/rmasis/MemPal/data/BIDS/Norman/Baldassano/10442_vrpalace/derivatives/fmriprep/sub-sid22/ses-02/func/sub-sid22_ses-02_task-pathvideo_bold_space-fsaverage6.R.func.gii\n",
      "    Extracting confound information from  sub-sid22/ses-02/func/sub-sid22_ses-02_task-pathvideo_bold_confounds.tsv\n",
      "   D[hem] =  (40962, 595)\n",
      "   np dot regrcoef, reg.t:  (40962, 595)\n",
      "   interecept shape:  (40962, 1)\n"
     ]
    },
    {
     "name": "stderr",
     "output_type": "stream",
     "text": [
      "/jukebox/pkgs/PYGER/0.9.1/lib/python3.7/site-packages/scipy/stats/stats.py:2279: RuntimeWarning: divide by zero encountered in true_divide\n",
      "  np.expand_dims(sstd, axis=axis))\n",
      "/jukebox/pkgs/PYGER/0.9.1/lib/python3.7/site-packages/scipy/stats/stats.py:2279: RuntimeWarning: invalid value encountered in true_divide\n",
      "  np.expand_dims(sstd, axis=axis))\n"
     ]
    },
    {
     "name": "stdout",
     "output_type": "stream",
     "text": [
      "...saving right hem.\n",
      "***sub-sid22***\n",
      "    Processing run  sub-sid22_ses-02_task-recall_bold_space-fsaverage6.L.func.gii\n",
      "    Loading  /jukebox/norman/rmasis/MemPal/data/BIDS/Norman/Baldassano/10442_vrpalace/derivatives/fmriprep/sub-sid22/ses-02/func/sub-sid22_ses-02_task-recall_bold_space-fsaverage6.L.func.gii\n",
      "    Extracting confound information from  sub-sid22/ses-02/func/sub-sid22_ses-02_task-recall_bold_confounds.tsv\n",
      "   D[hem] =  (40962, 1284)\n",
      "   np dot regrcoef, reg.t:  (40962, 1284)\n",
      "   interecept shape:  (40962, 1)\n"
     ]
    },
    {
     "name": "stderr",
     "output_type": "stream",
     "text": [
      "/jukebox/pkgs/PYGER/0.9.1/lib/python3.7/site-packages/scipy/stats/stats.py:2279: RuntimeWarning: divide by zero encountered in true_divide\n",
      "  np.expand_dims(sstd, axis=axis))\n",
      "/jukebox/pkgs/PYGER/0.9.1/lib/python3.7/site-packages/scipy/stats/stats.py:2279: RuntimeWarning: invalid value encountered in true_divide\n",
      "  np.expand_dims(sstd, axis=axis))\n"
     ]
    },
    {
     "name": "stdout",
     "output_type": "stream",
     "text": [
      "...saving left hem.\n",
      "***sub-sid22***\n",
      "    Processing run  sub-sid22_ses-02_task-recall_bold_space-fsaverage6.R.func.gii\n",
      "    Loading  /jukebox/norman/rmasis/MemPal/data/BIDS/Norman/Baldassano/10442_vrpalace/derivatives/fmriprep/sub-sid22/ses-02/func/sub-sid22_ses-02_task-recall_bold_space-fsaverage6.R.func.gii\n",
      "    Extracting confound information from  sub-sid22/ses-02/func/sub-sid22_ses-02_task-recall_bold_confounds.tsv\n",
      "   D[hem] =  (40962, 1284)\n",
      "   np dot regrcoef, reg.t:  (40962, 1284)\n",
      "   interecept shape:  (40962, 1)\n"
     ]
    },
    {
     "name": "stderr",
     "output_type": "stream",
     "text": [
      "/jukebox/pkgs/PYGER/0.9.1/lib/python3.7/site-packages/scipy/stats/stats.py:2279: RuntimeWarning: divide by zero encountered in true_divide\n",
      "  np.expand_dims(sstd, axis=axis))\n",
      "/jukebox/pkgs/PYGER/0.9.1/lib/python3.7/site-packages/scipy/stats/stats.py:2279: RuntimeWarning: invalid value encountered in true_divide\n",
      "  np.expand_dims(sstd, axis=axis))\n"
     ]
    },
    {
     "name": "stdout",
     "output_type": "stream",
     "text": [
      "...saving right hem.\n",
      "***sub-sid22***\n",
      "    Processing run  sub-sid22_ses-02_task-roomobjectvideo_run-01_bold_space-fsaverage6.L.func.gii\n",
      "    Loading  /jukebox/norman/rmasis/MemPal/data/BIDS/Norman/Baldassano/10442_vrpalace/derivatives/fmriprep/sub-sid22/ses-02/func/sub-sid22_ses-02_task-roomobjectvideo_run-01_bold_space-fsaverage6.L.func.gii\n",
      "    Extracting confound information from  sub-sid22/ses-02/func/sub-sid22_ses-02_task-roomobjectvideo_run-01_bold_confounds.tsv\n",
      "   D[hem] =  (40962, 460)\n",
      "   np dot regrcoef, reg.t:  (40962, 460)\n",
      "   interecept shape:  (40962, 1)\n"
     ]
    },
    {
     "name": "stderr",
     "output_type": "stream",
     "text": [
      "/jukebox/pkgs/PYGER/0.9.1/lib/python3.7/site-packages/scipy/stats/stats.py:2279: RuntimeWarning: divide by zero encountered in true_divide\n",
      "  np.expand_dims(sstd, axis=axis))\n",
      "/jukebox/pkgs/PYGER/0.9.1/lib/python3.7/site-packages/scipy/stats/stats.py:2279: RuntimeWarning: invalid value encountered in true_divide\n",
      "  np.expand_dims(sstd, axis=axis))\n"
     ]
    },
    {
     "name": "stdout",
     "output_type": "stream",
     "text": [
      "...saving left hem.\n",
      "***sub-sid22***\n",
      "    Processing run  sub-sid22_ses-02_task-roomobjectvideo_run-01_bold_space-fsaverage6.R.func.gii\n",
      "    Loading  /jukebox/norman/rmasis/MemPal/data/BIDS/Norman/Baldassano/10442_vrpalace/derivatives/fmriprep/sub-sid22/ses-02/func/sub-sid22_ses-02_task-roomobjectvideo_run-01_bold_space-fsaverage6.R.func.gii\n",
      "    Extracting confound information from  sub-sid22/ses-02/func/sub-sid22_ses-02_task-roomobjectvideo_run-01_bold_confounds.tsv\n",
      "   D[hem] =  (40962, 460)\n",
      "   np dot regrcoef, reg.t:  (40962, 460)\n",
      "   interecept shape:  (40962, 1)\n"
     ]
    },
    {
     "name": "stderr",
     "output_type": "stream",
     "text": [
      "/jukebox/pkgs/PYGER/0.9.1/lib/python3.7/site-packages/scipy/stats/stats.py:2279: RuntimeWarning: divide by zero encountered in true_divide\n",
      "  np.expand_dims(sstd, axis=axis))\n",
      "/jukebox/pkgs/PYGER/0.9.1/lib/python3.7/site-packages/scipy/stats/stats.py:2279: RuntimeWarning: invalid value encountered in true_divide\n",
      "  np.expand_dims(sstd, axis=axis))\n"
     ]
    },
    {
     "name": "stdout",
     "output_type": "stream",
     "text": [
      "...saving right hem.\n",
      "***sub-sid22***\n",
      "    Processing run  sub-sid22_ses-02_task-roomobjectvideo_run-02_bold_space-fsaverage6.L.func.gii\n",
      "    Loading  /jukebox/norman/rmasis/MemPal/data/BIDS/Norman/Baldassano/10442_vrpalace/derivatives/fmriprep/sub-sid22/ses-02/func/sub-sid22_ses-02_task-roomobjectvideo_run-02_bold_space-fsaverage6.L.func.gii\n",
      "    Extracting confound information from  sub-sid22/ses-02/func/sub-sid22_ses-02_task-roomobjectvideo_run-02_bold_confounds.tsv\n",
      "   D[hem] =  (40962, 460)\n",
      "   np dot regrcoef, reg.t:  (40962, 460)\n",
      "   interecept shape:  (40962, 1)\n"
     ]
    },
    {
     "name": "stderr",
     "output_type": "stream",
     "text": [
      "/jukebox/pkgs/PYGER/0.9.1/lib/python3.7/site-packages/scipy/stats/stats.py:2279: RuntimeWarning: divide by zero encountered in true_divide\n",
      "  np.expand_dims(sstd, axis=axis))\n",
      "/jukebox/pkgs/PYGER/0.9.1/lib/python3.7/site-packages/scipy/stats/stats.py:2279: RuntimeWarning: invalid value encountered in true_divide\n",
      "  np.expand_dims(sstd, axis=axis))\n"
     ]
    },
    {
     "name": "stdout",
     "output_type": "stream",
     "text": [
      "...saving left hem.\n",
      "***sub-sid22***\n",
      "    Processing run  sub-sid22_ses-02_task-roomobjectvideo_run-02_bold_space-fsaverage6.R.func.gii\n",
      "    Loading  /jukebox/norman/rmasis/MemPal/data/BIDS/Norman/Baldassano/10442_vrpalace/derivatives/fmriprep/sub-sid22/ses-02/func/sub-sid22_ses-02_task-roomobjectvideo_run-02_bold_space-fsaverage6.R.func.gii\n",
      "    Extracting confound information from  sub-sid22/ses-02/func/sub-sid22_ses-02_task-roomobjectvideo_run-02_bold_confounds.tsv\n",
      "   D[hem] =  (40962, 460)\n",
      "   np dot regrcoef, reg.t:  (40962, 460)\n",
      "   interecept shape:  (40962, 1)\n"
     ]
    },
    {
     "name": "stderr",
     "output_type": "stream",
     "text": [
      "/jukebox/pkgs/PYGER/0.9.1/lib/python3.7/site-packages/scipy/stats/stats.py:2279: RuntimeWarning: divide by zero encountered in true_divide\n",
      "  np.expand_dims(sstd, axis=axis))\n",
      "/jukebox/pkgs/PYGER/0.9.1/lib/python3.7/site-packages/scipy/stats/stats.py:2279: RuntimeWarning: invalid value encountered in true_divide\n",
      "  np.expand_dims(sstd, axis=axis))\n"
     ]
    },
    {
     "name": "stdout",
     "output_type": "stream",
     "text": [
      "...saving right hem.\n",
      "***sub-sid23***\n",
      "    Processing run  sub-sid23_ses-01_task-pathvideo_bold_space-fsaverage6.L.func.gii\n",
      "    Loading  /jukebox/norman/rmasis/MemPal/data/BIDS/Norman/Baldassano/10442_vrpalace/derivatives/fmriprep/sub-sid23/ses-01/func/sub-sid23_ses-01_task-pathvideo_bold_space-fsaverage6.L.func.gii\n",
      "    Extracting confound information from  sub-sid23/ses-01/func/sub-sid23_ses-01_task-pathvideo_bold_confounds.tsv\n",
      "   D[hem] =  (40962, 595)\n",
      "   np dot regrcoef, reg.t:  (40962, 595)\n",
      "   interecept shape:  (40962, 1)\n"
     ]
    },
    {
     "name": "stderr",
     "output_type": "stream",
     "text": [
      "/jukebox/pkgs/PYGER/0.9.1/lib/python3.7/site-packages/scipy/stats/stats.py:2279: RuntimeWarning: divide by zero encountered in true_divide\n",
      "  np.expand_dims(sstd, axis=axis))\n",
      "/jukebox/pkgs/PYGER/0.9.1/lib/python3.7/site-packages/scipy/stats/stats.py:2279: RuntimeWarning: invalid value encountered in true_divide\n",
      "  np.expand_dims(sstd, axis=axis))\n"
     ]
    },
    {
     "name": "stdout",
     "output_type": "stream",
     "text": [
      "   making new directory ../PythonData2024/ProcessedData//sub-sid23/\n",
      "...saving left hem.\n",
      "***sub-sid23***\n",
      "    Processing run  sub-sid23_ses-01_task-pathvideo_bold_space-fsaverage6.R.func.gii\n",
      "    Loading  /jukebox/norman/rmasis/MemPal/data/BIDS/Norman/Baldassano/10442_vrpalace/derivatives/fmriprep/sub-sid23/ses-01/func/sub-sid23_ses-01_task-pathvideo_bold_space-fsaverage6.R.func.gii\n",
      "    Extracting confound information from  sub-sid23/ses-01/func/sub-sid23_ses-01_task-pathvideo_bold_confounds.tsv\n",
      "   D[hem] =  (40962, 595)\n",
      "   np dot regrcoef, reg.t:  (40962, 595)\n",
      "   interecept shape:  (40962, 1)\n"
     ]
    },
    {
     "name": "stderr",
     "output_type": "stream",
     "text": [
      "/jukebox/pkgs/PYGER/0.9.1/lib/python3.7/site-packages/scipy/stats/stats.py:2279: RuntimeWarning: divide by zero encountered in true_divide\n",
      "  np.expand_dims(sstd, axis=axis))\n",
      "/jukebox/pkgs/PYGER/0.9.1/lib/python3.7/site-packages/scipy/stats/stats.py:2279: RuntimeWarning: invalid value encountered in true_divide\n",
      "  np.expand_dims(sstd, axis=axis))\n"
     ]
    },
    {
     "name": "stdout",
     "output_type": "stream",
     "text": [
      "...saving right hem.\n",
      "***sub-sid23***\n",
      "    Processing run  sub-sid23_ses-01_task-roomvideo_run-01_bold_space-fsaverage6.L.func.gii\n",
      "    Loading  /jukebox/norman/rmasis/MemPal/data/BIDS/Norman/Baldassano/10442_vrpalace/derivatives/fmriprep/sub-sid23/ses-01/func/sub-sid23_ses-01_task-roomvideo_run-01_bold_space-fsaverage6.L.func.gii\n",
      "    Extracting confound information from  sub-sid23/ses-01/func/sub-sid23_ses-01_task-roomvideo_run-01_bold_confounds.tsv\n",
      "   D[hem] =  (40962, 235)\n",
      "   np dot regrcoef, reg.t:  (40962, 235)\n",
      "   interecept shape:  (40962, 1)\n"
     ]
    },
    {
     "name": "stderr",
     "output_type": "stream",
     "text": [
      "/jukebox/pkgs/PYGER/0.9.1/lib/python3.7/site-packages/scipy/stats/stats.py:2279: RuntimeWarning: divide by zero encountered in true_divide\n",
      "  np.expand_dims(sstd, axis=axis))\n",
      "/jukebox/pkgs/PYGER/0.9.1/lib/python3.7/site-packages/scipy/stats/stats.py:2279: RuntimeWarning: invalid value encountered in true_divide\n",
      "  np.expand_dims(sstd, axis=axis))\n"
     ]
    },
    {
     "name": "stdout",
     "output_type": "stream",
     "text": [
      "...saving left hem.\n",
      "***sub-sid23***\n",
      "    Processing run  sub-sid23_ses-01_task-roomvideo_run-01_bold_space-fsaverage6.R.func.gii\n",
      "    Loading  /jukebox/norman/rmasis/MemPal/data/BIDS/Norman/Baldassano/10442_vrpalace/derivatives/fmriprep/sub-sid23/ses-01/func/sub-sid23_ses-01_task-roomvideo_run-01_bold_space-fsaverage6.R.func.gii\n",
      "    Extracting confound information from  sub-sid23/ses-01/func/sub-sid23_ses-01_task-roomvideo_run-01_bold_confounds.tsv\n",
      "   D[hem] =  (40962, 235)\n",
      "   np dot regrcoef, reg.t:  (40962, 235)\n",
      "   interecept shape:  (40962, 1)\n"
     ]
    },
    {
     "name": "stderr",
     "output_type": "stream",
     "text": [
      "/jukebox/pkgs/PYGER/0.9.1/lib/python3.7/site-packages/scipy/stats/stats.py:2279: RuntimeWarning: divide by zero encountered in true_divide\n",
      "  np.expand_dims(sstd, axis=axis))\n",
      "/jukebox/pkgs/PYGER/0.9.1/lib/python3.7/site-packages/scipy/stats/stats.py:2279: RuntimeWarning: invalid value encountered in true_divide\n",
      "  np.expand_dims(sstd, axis=axis))\n"
     ]
    },
    {
     "name": "stdout",
     "output_type": "stream",
     "text": [
      "...saving right hem.\n",
      "***sub-sid23***\n",
      "    Processing run  sub-sid23_ses-01_task-roomvideo_run-02_bold_space-fsaverage6.L.func.gii\n",
      "    Loading  /jukebox/norman/rmasis/MemPal/data/BIDS/Norman/Baldassano/10442_vrpalace/derivatives/fmriprep/sub-sid23/ses-01/func/sub-sid23_ses-01_task-roomvideo_run-02_bold_space-fsaverage6.L.func.gii\n",
      "    Extracting confound information from  sub-sid23/ses-01/func/sub-sid23_ses-01_task-roomvideo_run-02_bold_confounds.tsv\n",
      "   D[hem] =  (40962, 235)\n",
      "   np dot regrcoef, reg.t:  (40962, 235)\n",
      "   interecept shape:  (40962, 1)\n"
     ]
    },
    {
     "name": "stderr",
     "output_type": "stream",
     "text": [
      "/jukebox/pkgs/PYGER/0.9.1/lib/python3.7/site-packages/scipy/stats/stats.py:2279: RuntimeWarning: divide by zero encountered in true_divide\n",
      "  np.expand_dims(sstd, axis=axis))\n",
      "/jukebox/pkgs/PYGER/0.9.1/lib/python3.7/site-packages/scipy/stats/stats.py:2279: RuntimeWarning: invalid value encountered in true_divide\n",
      "  np.expand_dims(sstd, axis=axis))\n"
     ]
    },
    {
     "name": "stdout",
     "output_type": "stream",
     "text": [
      "...saving left hem.\n",
      "***sub-sid23***\n",
      "    Processing run  sub-sid23_ses-01_task-roomvideo_run-02_bold_space-fsaverage6.R.func.gii\n",
      "    Loading  /jukebox/norman/rmasis/MemPal/data/BIDS/Norman/Baldassano/10442_vrpalace/derivatives/fmriprep/sub-sid23/ses-01/func/sub-sid23_ses-01_task-roomvideo_run-02_bold_space-fsaverage6.R.func.gii\n",
      "    Extracting confound information from  sub-sid23/ses-01/func/sub-sid23_ses-01_task-roomvideo_run-02_bold_confounds.tsv\n",
      "   D[hem] =  (40962, 235)\n",
      "   np dot regrcoef, reg.t:  (40962, 235)\n",
      "   interecept shape:  (40962, 1)\n"
     ]
    },
    {
     "name": "stderr",
     "output_type": "stream",
     "text": [
      "/jukebox/pkgs/PYGER/0.9.1/lib/python3.7/site-packages/scipy/stats/stats.py:2279: RuntimeWarning: divide by zero encountered in true_divide\n",
      "  np.expand_dims(sstd, axis=axis))\n",
      "/jukebox/pkgs/PYGER/0.9.1/lib/python3.7/site-packages/scipy/stats/stats.py:2279: RuntimeWarning: invalid value encountered in true_divide\n",
      "  np.expand_dims(sstd, axis=axis))\n"
     ]
    },
    {
     "name": "stdout",
     "output_type": "stream",
     "text": [
      "...saving right hem.\n",
      "***sub-sid23***\n",
      "    Processing run  sub-sid23_ses-02_task-pathvideo_bold_space-fsaverage6.L.func.gii\n",
      "    Loading  /jukebox/norman/rmasis/MemPal/data/BIDS/Norman/Baldassano/10442_vrpalace/derivatives/fmriprep/sub-sid23/ses-02/func/sub-sid23_ses-02_task-pathvideo_bold_space-fsaverage6.L.func.gii\n",
      "**** ERROR ****\n",
      "**** ERROR ****\n",
      "---something happened---\n",
      "No such file or no access: '/jukebox/norman/rmasis/MemPal/data/BIDS/Norman/Baldassano/10442_vrpalace/derivatives/fmriprep/sub-sid23/ses-02/func/sub-sid23_ses-02_task-pathvideo_bold_space-fsaverage6.L.func.gii'\n",
      "**** ERROR ****\n",
      "**** ERROR ****\n",
      "***sub-sid23***\n",
      "    Processing run  sub-sid23_ses-02_task-pathvideo_bold_space-fsaverage6.R.func.gii\n",
      "    Loading  /jukebox/norman/rmasis/MemPal/data/BIDS/Norman/Baldassano/10442_vrpalace/derivatives/fmriprep/sub-sid23/ses-02/func/sub-sid23_ses-02_task-pathvideo_bold_space-fsaverage6.R.func.gii\n",
      "**** ERROR ****\n",
      "**** ERROR ****\n",
      "---something happened---\n",
      "No such file or no access: '/jukebox/norman/rmasis/MemPal/data/BIDS/Norman/Baldassano/10442_vrpalace/derivatives/fmriprep/sub-sid23/ses-02/func/sub-sid23_ses-02_task-pathvideo_bold_space-fsaverage6.R.func.gii'\n",
      "**** ERROR ****\n",
      "**** ERROR ****\n",
      "***sub-sid23***\n",
      "    Processing run  sub-sid23_ses-02_task-recall_bold_space-fsaverage6.L.func.gii\n",
      "    Loading  /jukebox/norman/rmasis/MemPal/data/BIDS/Norman/Baldassano/10442_vrpalace/derivatives/fmriprep/sub-sid23/ses-02/func/sub-sid23_ses-02_task-recall_bold_space-fsaverage6.L.func.gii\n",
      "**** ERROR ****\n",
      "**** ERROR ****\n",
      "---something happened---\n",
      "No such file or no access: '/jukebox/norman/rmasis/MemPal/data/BIDS/Norman/Baldassano/10442_vrpalace/derivatives/fmriprep/sub-sid23/ses-02/func/sub-sid23_ses-02_task-recall_bold_space-fsaverage6.L.func.gii'\n",
      "**** ERROR ****\n",
      "**** ERROR ****\n",
      "***sub-sid23***\n",
      "    Processing run  sub-sid23_ses-02_task-recall_bold_space-fsaverage6.R.func.gii\n",
      "    Loading  /jukebox/norman/rmasis/MemPal/data/BIDS/Norman/Baldassano/10442_vrpalace/derivatives/fmriprep/sub-sid23/ses-02/func/sub-sid23_ses-02_task-recall_bold_space-fsaverage6.R.func.gii\n",
      "**** ERROR ****\n",
      "**** ERROR ****\n",
      "---something happened---\n",
      "No such file or no access: '/jukebox/norman/rmasis/MemPal/data/BIDS/Norman/Baldassano/10442_vrpalace/derivatives/fmriprep/sub-sid23/ses-02/func/sub-sid23_ses-02_task-recall_bold_space-fsaverage6.R.func.gii'\n",
      "**** ERROR ****\n",
      "**** ERROR ****\n",
      "***sub-sid23***\n",
      "    Processing run  sub-sid23_ses-02_task-roomobjectvideo_run-01_bold_space-fsaverage6.L.func.gii\n",
      "    Loading  /jukebox/norman/rmasis/MemPal/data/BIDS/Norman/Baldassano/10442_vrpalace/derivatives/fmriprep/sub-sid23/ses-02/func/sub-sid23_ses-02_task-roomobjectvideo_run-01_bold_space-fsaverage6.L.func.gii\n",
      "**** ERROR ****\n",
      "**** ERROR ****\n",
      "---something happened---\n",
      "No such file or no access: '/jukebox/norman/rmasis/MemPal/data/BIDS/Norman/Baldassano/10442_vrpalace/derivatives/fmriprep/sub-sid23/ses-02/func/sub-sid23_ses-02_task-roomobjectvideo_run-01_bold_space-fsaverage6.L.func.gii'\n",
      "**** ERROR ****\n",
      "**** ERROR ****\n",
      "***sub-sid23***\n",
      "    Processing run  sub-sid23_ses-02_task-roomobjectvideo_run-01_bold_space-fsaverage6.R.func.gii\n",
      "    Loading  /jukebox/norman/rmasis/MemPal/data/BIDS/Norman/Baldassano/10442_vrpalace/derivatives/fmriprep/sub-sid23/ses-02/func/sub-sid23_ses-02_task-roomobjectvideo_run-01_bold_space-fsaverage6.R.func.gii\n",
      "**** ERROR ****\n",
      "**** ERROR ****\n",
      "---something happened---\n",
      "No such file or no access: '/jukebox/norman/rmasis/MemPal/data/BIDS/Norman/Baldassano/10442_vrpalace/derivatives/fmriprep/sub-sid23/ses-02/func/sub-sid23_ses-02_task-roomobjectvideo_run-01_bold_space-fsaverage6.R.func.gii'\n",
      "**** ERROR ****\n",
      "**** ERROR ****\n",
      "***sub-sid23***\n",
      "    Processing run  sub-sid23_ses-02_task-roomobjectvideo_run-02_bold_space-fsaverage6.L.func.gii\n",
      "    Loading  /jukebox/norman/rmasis/MemPal/data/BIDS/Norman/Baldassano/10442_vrpalace/derivatives/fmriprep/sub-sid23/ses-02/func/sub-sid23_ses-02_task-roomobjectvideo_run-02_bold_space-fsaverage6.L.func.gii\n",
      "**** ERROR ****\n",
      "**** ERROR ****\n",
      "---something happened---\n",
      "No such file or no access: '/jukebox/norman/rmasis/MemPal/data/BIDS/Norman/Baldassano/10442_vrpalace/derivatives/fmriprep/sub-sid23/ses-02/func/sub-sid23_ses-02_task-roomobjectvideo_run-02_bold_space-fsaverage6.L.func.gii'\n",
      "**** ERROR ****\n",
      "**** ERROR ****\n",
      "***sub-sid23***\n",
      "    Processing run  sub-sid23_ses-02_task-roomobjectvideo_run-02_bold_space-fsaverage6.R.func.gii\n",
      "    Loading  /jukebox/norman/rmasis/MemPal/data/BIDS/Norman/Baldassano/10442_vrpalace/derivatives/fmriprep/sub-sid23/ses-02/func/sub-sid23_ses-02_task-roomobjectvideo_run-02_bold_space-fsaverage6.R.func.gii\n",
      "**** ERROR ****\n",
      "**** ERROR ****\n",
      "---something happened---\n",
      "No such file or no access: '/jukebox/norman/rmasis/MemPal/data/BIDS/Norman/Baldassano/10442_vrpalace/derivatives/fmriprep/sub-sid23/ses-02/func/sub-sid23_ses-02_task-roomobjectvideo_run-02_bold_space-fsaverage6.R.func.gii'\n",
      "**** ERROR ****\n",
      "**** ERROR ****\n",
      "***sub-sid24***\n",
      "    Processing run  sub-sid24_ses-01_task-pathvideo_bold_space-fsaverage6.L.func.gii\n",
      "    Loading  /jukebox/norman/rmasis/MemPal/data/BIDS/Norman/Baldassano/10442_vrpalace/derivatives/fmriprep/sub-sid24/ses-01/func/sub-sid24_ses-01_task-pathvideo_bold_space-fsaverage6.L.func.gii\n",
      "    Extracting confound information from  sub-sid24/ses-01/func/sub-sid24_ses-01_task-pathvideo_bold_confounds.tsv\n",
      "   D[hem] =  (40962, 595)\n",
      "   np dot regrcoef, reg.t:  (40962, 595)\n",
      "   interecept shape:  (40962, 1)\n"
     ]
    },
    {
     "name": "stderr",
     "output_type": "stream",
     "text": [
      "/jukebox/pkgs/PYGER/0.9.1/lib/python3.7/site-packages/scipy/stats/stats.py:2279: RuntimeWarning: divide by zero encountered in true_divide\n",
      "  np.expand_dims(sstd, axis=axis))\n",
      "/jukebox/pkgs/PYGER/0.9.1/lib/python3.7/site-packages/scipy/stats/stats.py:2279: RuntimeWarning: invalid value encountered in true_divide\n",
      "  np.expand_dims(sstd, axis=axis))\n"
     ]
    },
    {
     "name": "stdout",
     "output_type": "stream",
     "text": [
      "   making new directory ../PythonData2024/ProcessedData//sub-sid24/\n",
      "...saving left hem.\n",
      "***sub-sid24***\n",
      "    Processing run  sub-sid24_ses-01_task-pathvideo_bold_space-fsaverage6.R.func.gii\n",
      "    Loading  /jukebox/norman/rmasis/MemPal/data/BIDS/Norman/Baldassano/10442_vrpalace/derivatives/fmriprep/sub-sid24/ses-01/func/sub-sid24_ses-01_task-pathvideo_bold_space-fsaverage6.R.func.gii\n",
      "    Extracting confound information from  sub-sid24/ses-01/func/sub-sid24_ses-01_task-pathvideo_bold_confounds.tsv\n",
      "   D[hem] =  (40962, 595)\n",
      "   np dot regrcoef, reg.t:  (40962, 595)\n",
      "   interecept shape:  (40962, 1)\n"
     ]
    },
    {
     "name": "stderr",
     "output_type": "stream",
     "text": [
      "/jukebox/pkgs/PYGER/0.9.1/lib/python3.7/site-packages/scipy/stats/stats.py:2279: RuntimeWarning: divide by zero encountered in true_divide\n",
      "  np.expand_dims(sstd, axis=axis))\n",
      "/jukebox/pkgs/PYGER/0.9.1/lib/python3.7/site-packages/scipy/stats/stats.py:2279: RuntimeWarning: invalid value encountered in true_divide\n",
      "  np.expand_dims(sstd, axis=axis))\n"
     ]
    },
    {
     "name": "stdout",
     "output_type": "stream",
     "text": [
      "...saving right hem.\n",
      "***sub-sid24***\n",
      "    Processing run  sub-sid24_ses-01_task-roomvideo_run-01_bold_space-fsaverage6.L.func.gii\n",
      "    Loading  /jukebox/norman/rmasis/MemPal/data/BIDS/Norman/Baldassano/10442_vrpalace/derivatives/fmriprep/sub-sid24/ses-01/func/sub-sid24_ses-01_task-roomvideo_run-01_bold_space-fsaverage6.L.func.gii\n",
      "    Extracting confound information from  sub-sid24/ses-01/func/sub-sid24_ses-01_task-roomvideo_run-01_bold_confounds.tsv\n",
      "   D[hem] =  (40962, 235)\n",
      "   np dot regrcoef, reg.t:  (40962, 235)\n",
      "   interecept shape:  (40962, 1)\n"
     ]
    },
    {
     "name": "stderr",
     "output_type": "stream",
     "text": [
      "/jukebox/pkgs/PYGER/0.9.1/lib/python3.7/site-packages/scipy/stats/stats.py:2279: RuntimeWarning: divide by zero encountered in true_divide\n",
      "  np.expand_dims(sstd, axis=axis))\n",
      "/jukebox/pkgs/PYGER/0.9.1/lib/python3.7/site-packages/scipy/stats/stats.py:2279: RuntimeWarning: invalid value encountered in true_divide\n",
      "  np.expand_dims(sstd, axis=axis))\n"
     ]
    },
    {
     "name": "stdout",
     "output_type": "stream",
     "text": [
      "...saving left hem.\n",
      "***sub-sid24***\n",
      "    Processing run  sub-sid24_ses-01_task-roomvideo_run-01_bold_space-fsaverage6.R.func.gii\n",
      "    Loading  /jukebox/norman/rmasis/MemPal/data/BIDS/Norman/Baldassano/10442_vrpalace/derivatives/fmriprep/sub-sid24/ses-01/func/sub-sid24_ses-01_task-roomvideo_run-01_bold_space-fsaverage6.R.func.gii\n",
      "    Extracting confound information from  sub-sid24/ses-01/func/sub-sid24_ses-01_task-roomvideo_run-01_bold_confounds.tsv\n",
      "   D[hem] =  (40962, 235)\n",
      "   np dot regrcoef, reg.t:  (40962, 235)\n",
      "   interecept shape:  (40962, 1)\n"
     ]
    },
    {
     "name": "stderr",
     "output_type": "stream",
     "text": [
      "/jukebox/pkgs/PYGER/0.9.1/lib/python3.7/site-packages/scipy/stats/stats.py:2279: RuntimeWarning: divide by zero encountered in true_divide\n",
      "  np.expand_dims(sstd, axis=axis))\n",
      "/jukebox/pkgs/PYGER/0.9.1/lib/python3.7/site-packages/scipy/stats/stats.py:2279: RuntimeWarning: invalid value encountered in true_divide\n",
      "  np.expand_dims(sstd, axis=axis))\n"
     ]
    },
    {
     "name": "stdout",
     "output_type": "stream",
     "text": [
      "...saving right hem.\n",
      "***sub-sid24***\n",
      "    Processing run  sub-sid24_ses-01_task-roomvideo_run-02_bold_space-fsaverage6.L.func.gii\n",
      "    Loading  /jukebox/norman/rmasis/MemPal/data/BIDS/Norman/Baldassano/10442_vrpalace/derivatives/fmriprep/sub-sid24/ses-01/func/sub-sid24_ses-01_task-roomvideo_run-02_bold_space-fsaverage6.L.func.gii\n",
      "    Extracting confound information from  sub-sid24/ses-01/func/sub-sid24_ses-01_task-roomvideo_run-02_bold_confounds.tsv\n",
      "   D[hem] =  (40962, 235)\n",
      "   np dot regrcoef, reg.t:  (40962, 235)\n",
      "   interecept shape:  (40962, 1)\n"
     ]
    },
    {
     "name": "stderr",
     "output_type": "stream",
     "text": [
      "/jukebox/pkgs/PYGER/0.9.1/lib/python3.7/site-packages/scipy/stats/stats.py:2279: RuntimeWarning: divide by zero encountered in true_divide\n",
      "  np.expand_dims(sstd, axis=axis))\n",
      "/jukebox/pkgs/PYGER/0.9.1/lib/python3.7/site-packages/scipy/stats/stats.py:2279: RuntimeWarning: invalid value encountered in true_divide\n",
      "  np.expand_dims(sstd, axis=axis))\n"
     ]
    },
    {
     "name": "stdout",
     "output_type": "stream",
     "text": [
      "...saving left hem.\n",
      "***sub-sid24***\n",
      "    Processing run  sub-sid24_ses-01_task-roomvideo_run-02_bold_space-fsaverage6.R.func.gii\n",
      "    Loading  /jukebox/norman/rmasis/MemPal/data/BIDS/Norman/Baldassano/10442_vrpalace/derivatives/fmriprep/sub-sid24/ses-01/func/sub-sid24_ses-01_task-roomvideo_run-02_bold_space-fsaverage6.R.func.gii\n",
      "    Extracting confound information from  sub-sid24/ses-01/func/sub-sid24_ses-01_task-roomvideo_run-02_bold_confounds.tsv\n",
      "   D[hem] =  (40962, 235)\n",
      "   np dot regrcoef, reg.t:  (40962, 235)\n",
      "   interecept shape:  (40962, 1)\n"
     ]
    },
    {
     "name": "stderr",
     "output_type": "stream",
     "text": [
      "/jukebox/pkgs/PYGER/0.9.1/lib/python3.7/site-packages/scipy/stats/stats.py:2279: RuntimeWarning: divide by zero encountered in true_divide\n",
      "  np.expand_dims(sstd, axis=axis))\n",
      "/jukebox/pkgs/PYGER/0.9.1/lib/python3.7/site-packages/scipy/stats/stats.py:2279: RuntimeWarning: invalid value encountered in true_divide\n",
      "  np.expand_dims(sstd, axis=axis))\n"
     ]
    },
    {
     "name": "stdout",
     "output_type": "stream",
     "text": [
      "...saving right hem.\n",
      "***sub-sid24***\n",
      "    Processing run  sub-sid24_ses-02_task-pathvideo_bold_space-fsaverage6.L.func.gii\n",
      "    Loading  /jukebox/norman/rmasis/MemPal/data/BIDS/Norman/Baldassano/10442_vrpalace/derivatives/fmriprep/sub-sid24/ses-02/func/sub-sid24_ses-02_task-pathvideo_bold_space-fsaverage6.L.func.gii\n",
      "    Extracting confound information from  sub-sid24/ses-02/func/sub-sid24_ses-02_task-pathvideo_bold_confounds.tsv\n",
      "   D[hem] =  (40962, 595)\n",
      "   np dot regrcoef, reg.t:  (40962, 595)\n",
      "   interecept shape:  (40962, 1)\n"
     ]
    },
    {
     "name": "stderr",
     "output_type": "stream",
     "text": [
      "/jukebox/pkgs/PYGER/0.9.1/lib/python3.7/site-packages/scipy/stats/stats.py:2279: RuntimeWarning: divide by zero encountered in true_divide\n",
      "  np.expand_dims(sstd, axis=axis))\n",
      "/jukebox/pkgs/PYGER/0.9.1/lib/python3.7/site-packages/scipy/stats/stats.py:2279: RuntimeWarning: invalid value encountered in true_divide\n",
      "  np.expand_dims(sstd, axis=axis))\n"
     ]
    },
    {
     "name": "stdout",
     "output_type": "stream",
     "text": [
      "...saving left hem.\n",
      "***sub-sid24***\n",
      "    Processing run  sub-sid24_ses-02_task-pathvideo_bold_space-fsaverage6.R.func.gii\n",
      "    Loading  /jukebox/norman/rmasis/MemPal/data/BIDS/Norman/Baldassano/10442_vrpalace/derivatives/fmriprep/sub-sid24/ses-02/func/sub-sid24_ses-02_task-pathvideo_bold_space-fsaverage6.R.func.gii\n",
      "    Extracting confound information from  sub-sid24/ses-02/func/sub-sid24_ses-02_task-pathvideo_bold_confounds.tsv\n",
      "   D[hem] =  (40962, 595)\n",
      "   np dot regrcoef, reg.t:  (40962, 595)\n",
      "   interecept shape:  (40962, 1)\n"
     ]
    },
    {
     "name": "stderr",
     "output_type": "stream",
     "text": [
      "/jukebox/pkgs/PYGER/0.9.1/lib/python3.7/site-packages/scipy/stats/stats.py:2279: RuntimeWarning: divide by zero encountered in true_divide\n",
      "  np.expand_dims(sstd, axis=axis))\n",
      "/jukebox/pkgs/PYGER/0.9.1/lib/python3.7/site-packages/scipy/stats/stats.py:2279: RuntimeWarning: invalid value encountered in true_divide\n",
      "  np.expand_dims(sstd, axis=axis))\n"
     ]
    },
    {
     "name": "stdout",
     "output_type": "stream",
     "text": [
      "...saving right hem.\n",
      "***sub-sid24***\n",
      "    Processing run  sub-sid24_ses-02_task-recall_bold_space-fsaverage6.L.func.gii\n",
      "    Loading  /jukebox/norman/rmasis/MemPal/data/BIDS/Norman/Baldassano/10442_vrpalace/derivatives/fmriprep/sub-sid24/ses-02/func/sub-sid24_ses-02_task-recall_bold_space-fsaverage6.L.func.gii\n",
      "    Extracting confound information from  sub-sid24/ses-02/func/sub-sid24_ses-02_task-recall_bold_confounds.tsv\n",
      "   D[hem] =  (40962, 2154)\n",
      "   np dot regrcoef, reg.t:  (40962, 2154)\n",
      "   interecept shape:  (40962, 1)\n"
     ]
    },
    {
     "name": "stderr",
     "output_type": "stream",
     "text": [
      "/jukebox/pkgs/PYGER/0.9.1/lib/python3.7/site-packages/scipy/stats/stats.py:2279: RuntimeWarning: divide by zero encountered in true_divide\n",
      "  np.expand_dims(sstd, axis=axis))\n",
      "/jukebox/pkgs/PYGER/0.9.1/lib/python3.7/site-packages/scipy/stats/stats.py:2279: RuntimeWarning: invalid value encountered in true_divide\n",
      "  np.expand_dims(sstd, axis=axis))\n"
     ]
    },
    {
     "name": "stdout",
     "output_type": "stream",
     "text": [
      "...saving left hem.\n",
      "***sub-sid24***\n",
      "    Processing run  sub-sid24_ses-02_task-recall_bold_space-fsaverage6.R.func.gii\n",
      "    Loading  /jukebox/norman/rmasis/MemPal/data/BIDS/Norman/Baldassano/10442_vrpalace/derivatives/fmriprep/sub-sid24/ses-02/func/sub-sid24_ses-02_task-recall_bold_space-fsaverage6.R.func.gii\n",
      "    Extracting confound information from  sub-sid24/ses-02/func/sub-sid24_ses-02_task-recall_bold_confounds.tsv\n",
      "   D[hem] =  (40962, 2154)\n",
      "   np dot regrcoef, reg.t:  (40962, 2154)\n",
      "   interecept shape:  (40962, 1)\n"
     ]
    },
    {
     "name": "stderr",
     "output_type": "stream",
     "text": [
      "/jukebox/pkgs/PYGER/0.9.1/lib/python3.7/site-packages/scipy/stats/stats.py:2279: RuntimeWarning: divide by zero encountered in true_divide\n",
      "  np.expand_dims(sstd, axis=axis))\n",
      "/jukebox/pkgs/PYGER/0.9.1/lib/python3.7/site-packages/scipy/stats/stats.py:2279: RuntimeWarning: invalid value encountered in true_divide\n",
      "  np.expand_dims(sstd, axis=axis))\n"
     ]
    },
    {
     "name": "stdout",
     "output_type": "stream",
     "text": [
      "...saving right hem.\n",
      "***sub-sid24***\n",
      "    Processing run  sub-sid24_ses-02_task-roomobjectvideo_run-01_bold_space-fsaverage6.L.func.gii\n",
      "    Loading  /jukebox/norman/rmasis/MemPal/data/BIDS/Norman/Baldassano/10442_vrpalace/derivatives/fmriprep/sub-sid24/ses-02/func/sub-sid24_ses-02_task-roomobjectvideo_run-01_bold_space-fsaverage6.L.func.gii\n",
      "    Extracting confound information from  sub-sid24/ses-02/func/sub-sid24_ses-02_task-roomobjectvideo_run-01_bold_confounds.tsv\n",
      "   D[hem] =  (40962, 460)\n",
      "   np dot regrcoef, reg.t:  (40962, 460)\n",
      "   interecept shape:  (40962, 1)\n"
     ]
    },
    {
     "name": "stderr",
     "output_type": "stream",
     "text": [
      "/jukebox/pkgs/PYGER/0.9.1/lib/python3.7/site-packages/scipy/stats/stats.py:2279: RuntimeWarning: divide by zero encountered in true_divide\n",
      "  np.expand_dims(sstd, axis=axis))\n",
      "/jukebox/pkgs/PYGER/0.9.1/lib/python3.7/site-packages/scipy/stats/stats.py:2279: RuntimeWarning: invalid value encountered in true_divide\n",
      "  np.expand_dims(sstd, axis=axis))\n"
     ]
    },
    {
     "name": "stdout",
     "output_type": "stream",
     "text": [
      "...saving left hem.\n",
      "***sub-sid24***\n",
      "    Processing run  sub-sid24_ses-02_task-roomobjectvideo_run-01_bold_space-fsaverage6.R.func.gii\n",
      "    Loading  /jukebox/norman/rmasis/MemPal/data/BIDS/Norman/Baldassano/10442_vrpalace/derivatives/fmriprep/sub-sid24/ses-02/func/sub-sid24_ses-02_task-roomobjectvideo_run-01_bold_space-fsaverage6.R.func.gii\n",
      "    Extracting confound information from  sub-sid24/ses-02/func/sub-sid24_ses-02_task-roomobjectvideo_run-01_bold_confounds.tsv\n",
      "   D[hem] =  (40962, 460)\n",
      "   np dot regrcoef, reg.t:  (40962, 460)\n",
      "   interecept shape:  (40962, 1)\n"
     ]
    },
    {
     "name": "stderr",
     "output_type": "stream",
     "text": [
      "/jukebox/pkgs/PYGER/0.9.1/lib/python3.7/site-packages/scipy/stats/stats.py:2279: RuntimeWarning: divide by zero encountered in true_divide\n",
      "  np.expand_dims(sstd, axis=axis))\n",
      "/jukebox/pkgs/PYGER/0.9.1/lib/python3.7/site-packages/scipy/stats/stats.py:2279: RuntimeWarning: invalid value encountered in true_divide\n",
      "  np.expand_dims(sstd, axis=axis))\n"
     ]
    },
    {
     "name": "stdout",
     "output_type": "stream",
     "text": [
      "...saving right hem.\n",
      "***sub-sid24***\n",
      "    Processing run  sub-sid24_ses-02_task-roomobjectvideo_run-02_bold_space-fsaverage6.L.func.gii\n",
      "    Loading  /jukebox/norman/rmasis/MemPal/data/BIDS/Norman/Baldassano/10442_vrpalace/derivatives/fmriprep/sub-sid24/ses-02/func/sub-sid24_ses-02_task-roomobjectvideo_run-02_bold_space-fsaverage6.L.func.gii\n",
      "    Extracting confound information from  sub-sid24/ses-02/func/sub-sid24_ses-02_task-roomobjectvideo_run-02_bold_confounds.tsv\n",
      "   D[hem] =  (40962, 460)\n",
      "   np dot regrcoef, reg.t:  (40962, 460)\n",
      "   interecept shape:  (40962, 1)\n"
     ]
    },
    {
     "name": "stderr",
     "output_type": "stream",
     "text": [
      "/jukebox/pkgs/PYGER/0.9.1/lib/python3.7/site-packages/scipy/stats/stats.py:2279: RuntimeWarning: divide by zero encountered in true_divide\n",
      "  np.expand_dims(sstd, axis=axis))\n",
      "/jukebox/pkgs/PYGER/0.9.1/lib/python3.7/site-packages/scipy/stats/stats.py:2279: RuntimeWarning: invalid value encountered in true_divide\n",
      "  np.expand_dims(sstd, axis=axis))\n"
     ]
    },
    {
     "name": "stdout",
     "output_type": "stream",
     "text": [
      "...saving left hem.\n",
      "***sub-sid24***\n",
      "    Processing run  sub-sid24_ses-02_task-roomobjectvideo_run-02_bold_space-fsaverage6.R.func.gii\n",
      "    Loading  /jukebox/norman/rmasis/MemPal/data/BIDS/Norman/Baldassano/10442_vrpalace/derivatives/fmriprep/sub-sid24/ses-02/func/sub-sid24_ses-02_task-roomobjectvideo_run-02_bold_space-fsaverage6.R.func.gii\n",
      "    Extracting confound information from  sub-sid24/ses-02/func/sub-sid24_ses-02_task-roomobjectvideo_run-02_bold_confounds.tsv\n",
      "   D[hem] =  (40962, 460)\n",
      "   np dot regrcoef, reg.t:  (40962, 460)\n",
      "   interecept shape:  (40962, 1)\n"
     ]
    },
    {
     "name": "stderr",
     "output_type": "stream",
     "text": [
      "/jukebox/pkgs/PYGER/0.9.1/lib/python3.7/site-packages/scipy/stats/stats.py:2279: RuntimeWarning: divide by zero encountered in true_divide\n",
      "  np.expand_dims(sstd, axis=axis))\n",
      "/jukebox/pkgs/PYGER/0.9.1/lib/python3.7/site-packages/scipy/stats/stats.py:2279: RuntimeWarning: invalid value encountered in true_divide\n",
      "  np.expand_dims(sstd, axis=axis))\n"
     ]
    },
    {
     "name": "stdout",
     "output_type": "stream",
     "text": [
      "...saving right hem.\n",
      "***sub-sid25***\n",
      "    Processing run  sub-sid25_ses-01_task-pathvideo_bold_space-fsaverage6.L.func.gii\n",
      "    Loading  /jukebox/norman/rmasis/MemPal/data/BIDS/Norman/Baldassano/10442_vrpalace/derivatives/fmriprep/sub-sid25/ses-01/func/sub-sid25_ses-01_task-pathvideo_bold_space-fsaverage6.L.func.gii\n",
      "**** ERROR ****\n",
      "**** ERROR ****\n",
      "---something happened---\n",
      "No such file or no access: '/jukebox/norman/rmasis/MemPal/data/BIDS/Norman/Baldassano/10442_vrpalace/derivatives/fmriprep/sub-sid25/ses-01/func/sub-sid25_ses-01_task-pathvideo_bold_space-fsaverage6.L.func.gii'\n",
      "**** ERROR ****\n",
      "**** ERROR ****\n",
      "***sub-sid25***\n",
      "    Processing run  sub-sid25_ses-01_task-pathvideo_bold_space-fsaverage6.R.func.gii\n",
      "    Loading  /jukebox/norman/rmasis/MemPal/data/BIDS/Norman/Baldassano/10442_vrpalace/derivatives/fmriprep/sub-sid25/ses-01/func/sub-sid25_ses-01_task-pathvideo_bold_space-fsaverage6.R.func.gii\n",
      "**** ERROR ****\n",
      "**** ERROR ****\n",
      "---something happened---\n",
      "No such file or no access: '/jukebox/norman/rmasis/MemPal/data/BIDS/Norman/Baldassano/10442_vrpalace/derivatives/fmriprep/sub-sid25/ses-01/func/sub-sid25_ses-01_task-pathvideo_bold_space-fsaverage6.R.func.gii'\n",
      "**** ERROR ****\n",
      "**** ERROR ****\n",
      "***sub-sid25***\n",
      "    Processing run  sub-sid25_ses-01_task-roomvideo_run-01_bold_space-fsaverage6.L.func.gii\n",
      "    Loading  /jukebox/norman/rmasis/MemPal/data/BIDS/Norman/Baldassano/10442_vrpalace/derivatives/fmriprep/sub-sid25/ses-01/func/sub-sid25_ses-01_task-roomvideo_run-01_bold_space-fsaverage6.L.func.gii\n",
      "    Extracting confound information from  sub-sid25/ses-01/func/sub-sid25_ses-01_task-roomvideo_run-01_bold_confounds.tsv\n",
      "   D[hem] =  (40962, 235)\n",
      "   np dot regrcoef, reg.t:  (40962, 235)\n",
      "   interecept shape:  (40962, 1)\n"
     ]
    },
    {
     "name": "stderr",
     "output_type": "stream",
     "text": [
      "/jukebox/pkgs/PYGER/0.9.1/lib/python3.7/site-packages/scipy/stats/stats.py:2279: RuntimeWarning: divide by zero encountered in true_divide\n",
      "  np.expand_dims(sstd, axis=axis))\n",
      "/jukebox/pkgs/PYGER/0.9.1/lib/python3.7/site-packages/scipy/stats/stats.py:2279: RuntimeWarning: invalid value encountered in true_divide\n",
      "  np.expand_dims(sstd, axis=axis))\n"
     ]
    },
    {
     "name": "stdout",
     "output_type": "stream",
     "text": [
      "   making new directory ../PythonData2024/ProcessedData//sub-sid25/\n",
      "...saving left hem.\n",
      "***sub-sid25***\n",
      "    Processing run  sub-sid25_ses-01_task-roomvideo_run-01_bold_space-fsaverage6.R.func.gii\n",
      "    Loading  /jukebox/norman/rmasis/MemPal/data/BIDS/Norman/Baldassano/10442_vrpalace/derivatives/fmriprep/sub-sid25/ses-01/func/sub-sid25_ses-01_task-roomvideo_run-01_bold_space-fsaverage6.R.func.gii\n",
      "    Extracting confound information from  sub-sid25/ses-01/func/sub-sid25_ses-01_task-roomvideo_run-01_bold_confounds.tsv\n",
      "   D[hem] =  (40962, 235)\n",
      "   np dot regrcoef, reg.t:  (40962, 235)\n",
      "   interecept shape:  (40962, 1)\n"
     ]
    },
    {
     "name": "stderr",
     "output_type": "stream",
     "text": [
      "/jukebox/pkgs/PYGER/0.9.1/lib/python3.7/site-packages/scipy/stats/stats.py:2279: RuntimeWarning: divide by zero encountered in true_divide\n",
      "  np.expand_dims(sstd, axis=axis))\n",
      "/jukebox/pkgs/PYGER/0.9.1/lib/python3.7/site-packages/scipy/stats/stats.py:2279: RuntimeWarning: invalid value encountered in true_divide\n",
      "  np.expand_dims(sstd, axis=axis))\n"
     ]
    },
    {
     "name": "stdout",
     "output_type": "stream",
     "text": [
      "...saving right hem.\n",
      "***sub-sid25***\n",
      "    Processing run  sub-sid25_ses-01_task-roomvideo_run-02_bold_space-fsaverage6.L.func.gii\n",
      "    Loading  /jukebox/norman/rmasis/MemPal/data/BIDS/Norman/Baldassano/10442_vrpalace/derivatives/fmriprep/sub-sid25/ses-01/func/sub-sid25_ses-01_task-roomvideo_run-02_bold_space-fsaverage6.L.func.gii\n",
      "    Extracting confound information from  sub-sid25/ses-01/func/sub-sid25_ses-01_task-roomvideo_run-02_bold_confounds.tsv\n",
      "   D[hem] =  (40962, 235)\n",
      "   np dot regrcoef, reg.t:  (40962, 235)\n",
      "   interecept shape:  (40962, 1)\n"
     ]
    },
    {
     "name": "stderr",
     "output_type": "stream",
     "text": [
      "/jukebox/pkgs/PYGER/0.9.1/lib/python3.7/site-packages/scipy/stats/stats.py:2279: RuntimeWarning: divide by zero encountered in true_divide\n",
      "  np.expand_dims(sstd, axis=axis))\n",
      "/jukebox/pkgs/PYGER/0.9.1/lib/python3.7/site-packages/scipy/stats/stats.py:2279: RuntimeWarning: invalid value encountered in true_divide\n",
      "  np.expand_dims(sstd, axis=axis))\n"
     ]
    },
    {
     "name": "stdout",
     "output_type": "stream",
     "text": [
      "...saving left hem.\n",
      "***sub-sid25***\n",
      "    Processing run  sub-sid25_ses-01_task-roomvideo_run-02_bold_space-fsaverage6.R.func.gii\n",
      "    Loading  /jukebox/norman/rmasis/MemPal/data/BIDS/Norman/Baldassano/10442_vrpalace/derivatives/fmriprep/sub-sid25/ses-01/func/sub-sid25_ses-01_task-roomvideo_run-02_bold_space-fsaverage6.R.func.gii\n",
      "    Extracting confound information from  sub-sid25/ses-01/func/sub-sid25_ses-01_task-roomvideo_run-02_bold_confounds.tsv\n",
      "   D[hem] =  (40962, 235)\n",
      "   np dot regrcoef, reg.t:  (40962, 235)\n",
      "   interecept shape:  (40962, 1)\n"
     ]
    },
    {
     "name": "stderr",
     "output_type": "stream",
     "text": [
      "/jukebox/pkgs/PYGER/0.9.1/lib/python3.7/site-packages/scipy/stats/stats.py:2279: RuntimeWarning: divide by zero encountered in true_divide\n",
      "  np.expand_dims(sstd, axis=axis))\n",
      "/jukebox/pkgs/PYGER/0.9.1/lib/python3.7/site-packages/scipy/stats/stats.py:2279: RuntimeWarning: invalid value encountered in true_divide\n",
      "  np.expand_dims(sstd, axis=axis))\n"
     ]
    },
    {
     "name": "stdout",
     "output_type": "stream",
     "text": [
      "...saving right hem.\n",
      "***sub-sid25***\n",
      "    Processing run  sub-sid25_ses-02_task-pathvideo_bold_space-fsaverage6.L.func.gii\n",
      "    Loading  /jukebox/norman/rmasis/MemPal/data/BIDS/Norman/Baldassano/10442_vrpalace/derivatives/fmriprep/sub-sid25/ses-02/func/sub-sid25_ses-02_task-pathvideo_bold_space-fsaverage6.L.func.gii\n",
      "    Extracting confound information from  sub-sid25/ses-02/func/sub-sid25_ses-02_task-pathvideo_bold_confounds.tsv\n",
      "   D[hem] =  (40962, 595)\n",
      "   np dot regrcoef, reg.t:  (40962, 595)\n",
      "   interecept shape:  (40962, 1)\n"
     ]
    },
    {
     "name": "stderr",
     "output_type": "stream",
     "text": [
      "/jukebox/pkgs/PYGER/0.9.1/lib/python3.7/site-packages/scipy/stats/stats.py:2279: RuntimeWarning: divide by zero encountered in true_divide\n",
      "  np.expand_dims(sstd, axis=axis))\n",
      "/jukebox/pkgs/PYGER/0.9.1/lib/python3.7/site-packages/scipy/stats/stats.py:2279: RuntimeWarning: invalid value encountered in true_divide\n",
      "  np.expand_dims(sstd, axis=axis))\n"
     ]
    },
    {
     "name": "stdout",
     "output_type": "stream",
     "text": [
      "...saving left hem.\n",
      "***sub-sid25***\n",
      "    Processing run  sub-sid25_ses-02_task-pathvideo_bold_space-fsaverage6.R.func.gii\n",
      "    Loading  /jukebox/norman/rmasis/MemPal/data/BIDS/Norman/Baldassano/10442_vrpalace/derivatives/fmriprep/sub-sid25/ses-02/func/sub-sid25_ses-02_task-pathvideo_bold_space-fsaverage6.R.func.gii\n",
      "    Extracting confound information from  sub-sid25/ses-02/func/sub-sid25_ses-02_task-pathvideo_bold_confounds.tsv\n",
      "   D[hem] =  (40962, 595)\n",
      "   np dot regrcoef, reg.t:  (40962, 595)\n",
      "   interecept shape:  (40962, 1)\n"
     ]
    },
    {
     "name": "stderr",
     "output_type": "stream",
     "text": [
      "/jukebox/pkgs/PYGER/0.9.1/lib/python3.7/site-packages/scipy/stats/stats.py:2279: RuntimeWarning: divide by zero encountered in true_divide\n",
      "  np.expand_dims(sstd, axis=axis))\n",
      "/jukebox/pkgs/PYGER/0.9.1/lib/python3.7/site-packages/scipy/stats/stats.py:2279: RuntimeWarning: invalid value encountered in true_divide\n",
      "  np.expand_dims(sstd, axis=axis))\n"
     ]
    },
    {
     "name": "stdout",
     "output_type": "stream",
     "text": [
      "...saving right hem.\n",
      "***sub-sid25***\n",
      "    Processing run  sub-sid25_ses-02_task-recall_bold_space-fsaverage6.L.func.gii\n",
      "    Loading  /jukebox/norman/rmasis/MemPal/data/BIDS/Norman/Baldassano/10442_vrpalace/derivatives/fmriprep/sub-sid25/ses-02/func/sub-sid25_ses-02_task-recall_bold_space-fsaverage6.L.func.gii\n",
      "    Extracting confound information from  sub-sid25/ses-02/func/sub-sid25_ses-02_task-recall_bold_confounds.tsv\n",
      "   D[hem] =  (40962, 2669)\n",
      "   np dot regrcoef, reg.t:  (40962, 2669)\n",
      "   interecept shape:  (40962, 1)\n"
     ]
    },
    {
     "name": "stderr",
     "output_type": "stream",
     "text": [
      "/jukebox/pkgs/PYGER/0.9.1/lib/python3.7/site-packages/scipy/stats/stats.py:2279: RuntimeWarning: divide by zero encountered in true_divide\n",
      "  np.expand_dims(sstd, axis=axis))\n",
      "/jukebox/pkgs/PYGER/0.9.1/lib/python3.7/site-packages/scipy/stats/stats.py:2279: RuntimeWarning: invalid value encountered in true_divide\n",
      "  np.expand_dims(sstd, axis=axis))\n"
     ]
    },
    {
     "name": "stdout",
     "output_type": "stream",
     "text": [
      "...saving left hem.\n",
      "***sub-sid25***\n",
      "    Processing run  sub-sid25_ses-02_task-recall_bold_space-fsaverage6.R.func.gii\n",
      "    Loading  /jukebox/norman/rmasis/MemPal/data/BIDS/Norman/Baldassano/10442_vrpalace/derivatives/fmriprep/sub-sid25/ses-02/func/sub-sid25_ses-02_task-recall_bold_space-fsaverage6.R.func.gii\n",
      "    Extracting confound information from  sub-sid25/ses-02/func/sub-sid25_ses-02_task-recall_bold_confounds.tsv\n",
      "   D[hem] =  (40962, 2669)\n",
      "   np dot regrcoef, reg.t:  (40962, 2669)\n",
      "   interecept shape:  (40962, 1)\n"
     ]
    },
    {
     "name": "stderr",
     "output_type": "stream",
     "text": [
      "/jukebox/pkgs/PYGER/0.9.1/lib/python3.7/site-packages/scipy/stats/stats.py:2279: RuntimeWarning: divide by zero encountered in true_divide\n",
      "  np.expand_dims(sstd, axis=axis))\n",
      "/jukebox/pkgs/PYGER/0.9.1/lib/python3.7/site-packages/scipy/stats/stats.py:2279: RuntimeWarning: invalid value encountered in true_divide\n",
      "  np.expand_dims(sstd, axis=axis))\n"
     ]
    },
    {
     "name": "stdout",
     "output_type": "stream",
     "text": [
      "...saving right hem.\n",
      "***sub-sid25***\n",
      "    Processing run  sub-sid25_ses-02_task-roomobjectvideo_run-01_bold_space-fsaverage6.L.func.gii\n",
      "    Loading  /jukebox/norman/rmasis/MemPal/data/BIDS/Norman/Baldassano/10442_vrpalace/derivatives/fmriprep/sub-sid25/ses-02/func/sub-sid25_ses-02_task-roomobjectvideo_run-01_bold_space-fsaverage6.L.func.gii\n",
      "    Extracting confound information from  sub-sid25/ses-02/func/sub-sid25_ses-02_task-roomobjectvideo_run-01_bold_confounds.tsv\n",
      "   D[hem] =  (40962, 460)\n",
      "   np dot regrcoef, reg.t:  (40962, 460)\n",
      "   interecept shape:  (40962, 1)\n"
     ]
    },
    {
     "name": "stderr",
     "output_type": "stream",
     "text": [
      "/jukebox/pkgs/PYGER/0.9.1/lib/python3.7/site-packages/scipy/stats/stats.py:2279: RuntimeWarning: divide by zero encountered in true_divide\n",
      "  np.expand_dims(sstd, axis=axis))\n",
      "/jukebox/pkgs/PYGER/0.9.1/lib/python3.7/site-packages/scipy/stats/stats.py:2279: RuntimeWarning: invalid value encountered in true_divide\n",
      "  np.expand_dims(sstd, axis=axis))\n"
     ]
    },
    {
     "name": "stdout",
     "output_type": "stream",
     "text": [
      "...saving left hem.\n",
      "***sub-sid25***\n",
      "    Processing run  sub-sid25_ses-02_task-roomobjectvideo_run-01_bold_space-fsaverage6.R.func.gii\n",
      "    Loading  /jukebox/norman/rmasis/MemPal/data/BIDS/Norman/Baldassano/10442_vrpalace/derivatives/fmriprep/sub-sid25/ses-02/func/sub-sid25_ses-02_task-roomobjectvideo_run-01_bold_space-fsaverage6.R.func.gii\n",
      "    Extracting confound information from  sub-sid25/ses-02/func/sub-sid25_ses-02_task-roomobjectvideo_run-01_bold_confounds.tsv\n",
      "   D[hem] =  (40962, 460)\n",
      "   np dot regrcoef, reg.t:  (40962, 460)\n",
      "   interecept shape:  (40962, 1)\n"
     ]
    },
    {
     "name": "stderr",
     "output_type": "stream",
     "text": [
      "/jukebox/pkgs/PYGER/0.9.1/lib/python3.7/site-packages/scipy/stats/stats.py:2279: RuntimeWarning: divide by zero encountered in true_divide\n",
      "  np.expand_dims(sstd, axis=axis))\n",
      "/jukebox/pkgs/PYGER/0.9.1/lib/python3.7/site-packages/scipy/stats/stats.py:2279: RuntimeWarning: invalid value encountered in true_divide\n",
      "  np.expand_dims(sstd, axis=axis))\n"
     ]
    },
    {
     "name": "stdout",
     "output_type": "stream",
     "text": [
      "...saving right hem.\n",
      "***sub-sid25***\n",
      "    Processing run  sub-sid25_ses-02_task-roomobjectvideo_run-02_bold_space-fsaverage6.L.func.gii\n",
      "    Loading  /jukebox/norman/rmasis/MemPal/data/BIDS/Norman/Baldassano/10442_vrpalace/derivatives/fmriprep/sub-sid25/ses-02/func/sub-sid25_ses-02_task-roomobjectvideo_run-02_bold_space-fsaverage6.L.func.gii\n",
      "    Extracting confound information from  sub-sid25/ses-02/func/sub-sid25_ses-02_task-roomobjectvideo_run-02_bold_confounds.tsv\n",
      "   D[hem] =  (40962, 460)\n",
      "   np dot regrcoef, reg.t:  (40962, 460)\n",
      "   interecept shape:  (40962, 1)\n"
     ]
    },
    {
     "name": "stderr",
     "output_type": "stream",
     "text": [
      "/jukebox/pkgs/PYGER/0.9.1/lib/python3.7/site-packages/scipy/stats/stats.py:2279: RuntimeWarning: divide by zero encountered in true_divide\n",
      "  np.expand_dims(sstd, axis=axis))\n",
      "/jukebox/pkgs/PYGER/0.9.1/lib/python3.7/site-packages/scipy/stats/stats.py:2279: RuntimeWarning: invalid value encountered in true_divide\n",
      "  np.expand_dims(sstd, axis=axis))\n"
     ]
    },
    {
     "name": "stdout",
     "output_type": "stream",
     "text": [
      "...saving left hem.\n",
      "***sub-sid25***\n",
      "    Processing run  sub-sid25_ses-02_task-roomobjectvideo_run-02_bold_space-fsaverage6.R.func.gii\n",
      "    Loading  /jukebox/norman/rmasis/MemPal/data/BIDS/Norman/Baldassano/10442_vrpalace/derivatives/fmriprep/sub-sid25/ses-02/func/sub-sid25_ses-02_task-roomobjectvideo_run-02_bold_space-fsaverage6.R.func.gii\n",
      "    Extracting confound information from  sub-sid25/ses-02/func/sub-sid25_ses-02_task-roomobjectvideo_run-02_bold_confounds.tsv\n",
      "   D[hem] =  (40962, 460)\n",
      "   np dot regrcoef, reg.t:  (40962, 460)\n",
      "   interecept shape:  (40962, 1)\n"
     ]
    },
    {
     "name": "stderr",
     "output_type": "stream",
     "text": [
      "/jukebox/pkgs/PYGER/0.9.1/lib/python3.7/site-packages/scipy/stats/stats.py:2279: RuntimeWarning: divide by zero encountered in true_divide\n",
      "  np.expand_dims(sstd, axis=axis))\n",
      "/jukebox/pkgs/PYGER/0.9.1/lib/python3.7/site-packages/scipy/stats/stats.py:2279: RuntimeWarning: invalid value encountered in true_divide\n",
      "  np.expand_dims(sstd, axis=axis))\n"
     ]
    },
    {
     "name": "stdout",
     "output_type": "stream",
     "text": [
      "...saving right hem.\n",
      "***sub-sid26***\n",
      "    Processing run  sub-sid26_ses-01_task-pathvideo_bold_space-fsaverage6.L.func.gii\n",
      "    Loading  /jukebox/norman/rmasis/MemPal/data/BIDS/Norman/Baldassano/10442_vrpalace/derivatives/fmriprep/sub-sid26/ses-01/func/sub-sid26_ses-01_task-pathvideo_bold_space-fsaverage6.L.func.gii\n",
      "    Extracting confound information from  sub-sid26/ses-01/func/sub-sid26_ses-01_task-pathvideo_bold_confounds.tsv\n",
      "   D[hem] =  (40962, 595)\n",
      "   np dot regrcoef, reg.t:  (40962, 595)\n",
      "   interecept shape:  (40962, 1)\n"
     ]
    },
    {
     "name": "stderr",
     "output_type": "stream",
     "text": [
      "/jukebox/pkgs/PYGER/0.9.1/lib/python3.7/site-packages/scipy/stats/stats.py:2279: RuntimeWarning: divide by zero encountered in true_divide\n",
      "  np.expand_dims(sstd, axis=axis))\n",
      "/jukebox/pkgs/PYGER/0.9.1/lib/python3.7/site-packages/scipy/stats/stats.py:2279: RuntimeWarning: invalid value encountered in true_divide\n",
      "  np.expand_dims(sstd, axis=axis))\n"
     ]
    },
    {
     "name": "stdout",
     "output_type": "stream",
     "text": [
      "   making new directory ../PythonData2024/ProcessedData//sub-sid26/\n",
      "...saving left hem.\n",
      "***sub-sid26***\n",
      "    Processing run  sub-sid26_ses-01_task-pathvideo_bold_space-fsaverage6.R.func.gii\n",
      "    Loading  /jukebox/norman/rmasis/MemPal/data/BIDS/Norman/Baldassano/10442_vrpalace/derivatives/fmriprep/sub-sid26/ses-01/func/sub-sid26_ses-01_task-pathvideo_bold_space-fsaverage6.R.func.gii\n",
      "    Extracting confound information from  sub-sid26/ses-01/func/sub-sid26_ses-01_task-pathvideo_bold_confounds.tsv\n",
      "   D[hem] =  (40962, 595)\n",
      "   np dot regrcoef, reg.t:  (40962, 595)\n",
      "   interecept shape:  (40962, 1)\n"
     ]
    },
    {
     "name": "stderr",
     "output_type": "stream",
     "text": [
      "/jukebox/pkgs/PYGER/0.9.1/lib/python3.7/site-packages/scipy/stats/stats.py:2279: RuntimeWarning: divide by zero encountered in true_divide\n",
      "  np.expand_dims(sstd, axis=axis))\n",
      "/jukebox/pkgs/PYGER/0.9.1/lib/python3.7/site-packages/scipy/stats/stats.py:2279: RuntimeWarning: invalid value encountered in true_divide\n",
      "  np.expand_dims(sstd, axis=axis))\n"
     ]
    },
    {
     "name": "stdout",
     "output_type": "stream",
     "text": [
      "...saving right hem.\n",
      "***sub-sid26***\n",
      "    Processing run  sub-sid26_ses-01_task-roomvideo_run-01_bold_space-fsaverage6.L.func.gii\n",
      "    Loading  /jukebox/norman/rmasis/MemPal/data/BIDS/Norman/Baldassano/10442_vrpalace/derivatives/fmriprep/sub-sid26/ses-01/func/sub-sid26_ses-01_task-roomvideo_run-01_bold_space-fsaverage6.L.func.gii\n",
      "    Extracting confound information from  sub-sid26/ses-01/func/sub-sid26_ses-01_task-roomvideo_run-01_bold_confounds.tsv\n",
      "   D[hem] =  (40962, 235)\n",
      "   np dot regrcoef, reg.t:  (40962, 235)\n",
      "   interecept shape:  (40962, 1)\n"
     ]
    },
    {
     "name": "stderr",
     "output_type": "stream",
     "text": [
      "/jukebox/pkgs/PYGER/0.9.1/lib/python3.7/site-packages/scipy/stats/stats.py:2279: RuntimeWarning: divide by zero encountered in true_divide\n",
      "  np.expand_dims(sstd, axis=axis))\n",
      "/jukebox/pkgs/PYGER/0.9.1/lib/python3.7/site-packages/scipy/stats/stats.py:2279: RuntimeWarning: invalid value encountered in true_divide\n",
      "  np.expand_dims(sstd, axis=axis))\n"
     ]
    },
    {
     "name": "stdout",
     "output_type": "stream",
     "text": [
      "...saving left hem.\n",
      "***sub-sid26***\n",
      "    Processing run  sub-sid26_ses-01_task-roomvideo_run-01_bold_space-fsaverage6.R.func.gii\n",
      "    Loading  /jukebox/norman/rmasis/MemPal/data/BIDS/Norman/Baldassano/10442_vrpalace/derivatives/fmriprep/sub-sid26/ses-01/func/sub-sid26_ses-01_task-roomvideo_run-01_bold_space-fsaverage6.R.func.gii\n",
      "    Extracting confound information from  sub-sid26/ses-01/func/sub-sid26_ses-01_task-roomvideo_run-01_bold_confounds.tsv\n",
      "   D[hem] =  (40962, 235)\n",
      "   np dot regrcoef, reg.t:  (40962, 235)\n",
      "   interecept shape:  (40962, 1)\n"
     ]
    },
    {
     "name": "stderr",
     "output_type": "stream",
     "text": [
      "/jukebox/pkgs/PYGER/0.9.1/lib/python3.7/site-packages/scipy/stats/stats.py:2279: RuntimeWarning: divide by zero encountered in true_divide\n",
      "  np.expand_dims(sstd, axis=axis))\n",
      "/jukebox/pkgs/PYGER/0.9.1/lib/python3.7/site-packages/scipy/stats/stats.py:2279: RuntimeWarning: invalid value encountered in true_divide\n",
      "  np.expand_dims(sstd, axis=axis))\n"
     ]
    },
    {
     "name": "stdout",
     "output_type": "stream",
     "text": [
      "...saving right hem.\n",
      "***sub-sid26***\n",
      "    Processing run  sub-sid26_ses-01_task-roomvideo_run-02_bold_space-fsaverage6.L.func.gii\n",
      "    Loading  /jukebox/norman/rmasis/MemPal/data/BIDS/Norman/Baldassano/10442_vrpalace/derivatives/fmriprep/sub-sid26/ses-01/func/sub-sid26_ses-01_task-roomvideo_run-02_bold_space-fsaverage6.L.func.gii\n",
      "    Extracting confound information from  sub-sid26/ses-01/func/sub-sid26_ses-01_task-roomvideo_run-02_bold_confounds.tsv\n",
      "   D[hem] =  (40962, 235)\n",
      "   np dot regrcoef, reg.t:  (40962, 235)\n",
      "   interecept shape:  (40962, 1)\n"
     ]
    },
    {
     "name": "stderr",
     "output_type": "stream",
     "text": [
      "/jukebox/pkgs/PYGER/0.9.1/lib/python3.7/site-packages/scipy/stats/stats.py:2279: RuntimeWarning: divide by zero encountered in true_divide\n",
      "  np.expand_dims(sstd, axis=axis))\n",
      "/jukebox/pkgs/PYGER/0.9.1/lib/python3.7/site-packages/scipy/stats/stats.py:2279: RuntimeWarning: invalid value encountered in true_divide\n",
      "  np.expand_dims(sstd, axis=axis))\n"
     ]
    },
    {
     "name": "stdout",
     "output_type": "stream",
     "text": [
      "...saving left hem.\n",
      "***sub-sid26***\n",
      "    Processing run  sub-sid26_ses-01_task-roomvideo_run-02_bold_space-fsaverage6.R.func.gii\n",
      "    Loading  /jukebox/norman/rmasis/MemPal/data/BIDS/Norman/Baldassano/10442_vrpalace/derivatives/fmriprep/sub-sid26/ses-01/func/sub-sid26_ses-01_task-roomvideo_run-02_bold_space-fsaverage6.R.func.gii\n",
      "    Extracting confound information from  sub-sid26/ses-01/func/sub-sid26_ses-01_task-roomvideo_run-02_bold_confounds.tsv\n",
      "   D[hem] =  (40962, 235)\n",
      "   np dot regrcoef, reg.t:  (40962, 235)\n",
      "   interecept shape:  (40962, 1)\n"
     ]
    },
    {
     "name": "stderr",
     "output_type": "stream",
     "text": [
      "/jukebox/pkgs/PYGER/0.9.1/lib/python3.7/site-packages/scipy/stats/stats.py:2279: RuntimeWarning: divide by zero encountered in true_divide\n",
      "  np.expand_dims(sstd, axis=axis))\n",
      "/jukebox/pkgs/PYGER/0.9.1/lib/python3.7/site-packages/scipy/stats/stats.py:2279: RuntimeWarning: invalid value encountered in true_divide\n",
      "  np.expand_dims(sstd, axis=axis))\n"
     ]
    },
    {
     "name": "stdout",
     "output_type": "stream",
     "text": [
      "...saving right hem.\n",
      "***sub-sid26***\n",
      "    Processing run  sub-sid26_ses-02_task-pathvideo_bold_space-fsaverage6.L.func.gii\n",
      "    Loading  /jukebox/norman/rmasis/MemPal/data/BIDS/Norman/Baldassano/10442_vrpalace/derivatives/fmriprep/sub-sid26/ses-02/func/sub-sid26_ses-02_task-pathvideo_bold_space-fsaverage6.L.func.gii\n",
      "    Extracting confound information from  sub-sid26/ses-02/func/sub-sid26_ses-02_task-pathvideo_bold_confounds.tsv\n",
      "   D[hem] =  (40962, 595)\n",
      "   np dot regrcoef, reg.t:  (40962, 595)\n",
      "   interecept shape:  (40962, 1)\n"
     ]
    },
    {
     "name": "stderr",
     "output_type": "stream",
     "text": [
      "/jukebox/pkgs/PYGER/0.9.1/lib/python3.7/site-packages/scipy/stats/stats.py:2279: RuntimeWarning: divide by zero encountered in true_divide\n",
      "  np.expand_dims(sstd, axis=axis))\n",
      "/jukebox/pkgs/PYGER/0.9.1/lib/python3.7/site-packages/scipy/stats/stats.py:2279: RuntimeWarning: invalid value encountered in true_divide\n",
      "  np.expand_dims(sstd, axis=axis))\n"
     ]
    },
    {
     "name": "stdout",
     "output_type": "stream",
     "text": [
      "...saving left hem.\n",
      "***sub-sid26***\n",
      "    Processing run  sub-sid26_ses-02_task-pathvideo_bold_space-fsaverage6.R.func.gii\n",
      "    Loading  /jukebox/norman/rmasis/MemPal/data/BIDS/Norman/Baldassano/10442_vrpalace/derivatives/fmriprep/sub-sid26/ses-02/func/sub-sid26_ses-02_task-pathvideo_bold_space-fsaverage6.R.func.gii\n",
      "    Extracting confound information from  sub-sid26/ses-02/func/sub-sid26_ses-02_task-pathvideo_bold_confounds.tsv\n",
      "   D[hem] =  (40962, 595)\n",
      "   np dot regrcoef, reg.t:  (40962, 595)\n",
      "   interecept shape:  (40962, 1)\n"
     ]
    },
    {
     "name": "stderr",
     "output_type": "stream",
     "text": [
      "/jukebox/pkgs/PYGER/0.9.1/lib/python3.7/site-packages/scipy/stats/stats.py:2279: RuntimeWarning: divide by zero encountered in true_divide\n",
      "  np.expand_dims(sstd, axis=axis))\n",
      "/jukebox/pkgs/PYGER/0.9.1/lib/python3.7/site-packages/scipy/stats/stats.py:2279: RuntimeWarning: invalid value encountered in true_divide\n",
      "  np.expand_dims(sstd, axis=axis))\n"
     ]
    },
    {
     "name": "stdout",
     "output_type": "stream",
     "text": [
      "...saving right hem.\n",
      "***sub-sid26***\n",
      "    Processing run  sub-sid26_ses-02_task-recall_bold_space-fsaverage6.L.func.gii\n",
      "    Loading  /jukebox/norman/rmasis/MemPal/data/BIDS/Norman/Baldassano/10442_vrpalace/derivatives/fmriprep/sub-sid26/ses-02/func/sub-sid26_ses-02_task-recall_bold_space-fsaverage6.L.func.gii\n",
      "    Extracting confound information from  sub-sid26/ses-02/func/sub-sid26_ses-02_task-recall_bold_confounds.tsv\n",
      "   D[hem] =  (40962, 1701)\n",
      "   np dot regrcoef, reg.t:  (40962, 1701)\n",
      "   interecept shape:  (40962, 1)\n"
     ]
    },
    {
     "name": "stderr",
     "output_type": "stream",
     "text": [
      "/jukebox/pkgs/PYGER/0.9.1/lib/python3.7/site-packages/scipy/stats/stats.py:2279: RuntimeWarning: divide by zero encountered in true_divide\n",
      "  np.expand_dims(sstd, axis=axis))\n",
      "/jukebox/pkgs/PYGER/0.9.1/lib/python3.7/site-packages/scipy/stats/stats.py:2279: RuntimeWarning: invalid value encountered in true_divide\n",
      "  np.expand_dims(sstd, axis=axis))\n"
     ]
    },
    {
     "name": "stdout",
     "output_type": "stream",
     "text": [
      "...saving left hem.\n",
      "***sub-sid26***\n",
      "    Processing run  sub-sid26_ses-02_task-recall_bold_space-fsaverage6.R.func.gii\n",
      "    Loading  /jukebox/norman/rmasis/MemPal/data/BIDS/Norman/Baldassano/10442_vrpalace/derivatives/fmriprep/sub-sid26/ses-02/func/sub-sid26_ses-02_task-recall_bold_space-fsaverage6.R.func.gii\n",
      "    Extracting confound information from  sub-sid26/ses-02/func/sub-sid26_ses-02_task-recall_bold_confounds.tsv\n",
      "   D[hem] =  (40962, 1701)\n",
      "   np dot regrcoef, reg.t:  (40962, 1701)\n",
      "   interecept shape:  (40962, 1)\n"
     ]
    },
    {
     "name": "stderr",
     "output_type": "stream",
     "text": [
      "/jukebox/pkgs/PYGER/0.9.1/lib/python3.7/site-packages/scipy/stats/stats.py:2279: RuntimeWarning: divide by zero encountered in true_divide\n",
      "  np.expand_dims(sstd, axis=axis))\n",
      "/jukebox/pkgs/PYGER/0.9.1/lib/python3.7/site-packages/scipy/stats/stats.py:2279: RuntimeWarning: invalid value encountered in true_divide\n",
      "  np.expand_dims(sstd, axis=axis))\n"
     ]
    },
    {
     "name": "stdout",
     "output_type": "stream",
     "text": [
      "...saving right hem.\n",
      "***sub-sid26***\n",
      "    Processing run  sub-sid26_ses-02_task-roomobjectvideo_run-01_bold_space-fsaverage6.L.func.gii\n",
      "    Loading  /jukebox/norman/rmasis/MemPal/data/BIDS/Norman/Baldassano/10442_vrpalace/derivatives/fmriprep/sub-sid26/ses-02/func/sub-sid26_ses-02_task-roomobjectvideo_run-01_bold_space-fsaverage6.L.func.gii\n",
      "    Extracting confound information from  sub-sid26/ses-02/func/sub-sid26_ses-02_task-roomobjectvideo_run-01_bold_confounds.tsv\n",
      "   D[hem] =  (40962, 460)\n",
      "   np dot regrcoef, reg.t:  (40962, 460)\n",
      "   interecept shape:  (40962, 1)\n"
     ]
    },
    {
     "name": "stderr",
     "output_type": "stream",
     "text": [
      "/jukebox/pkgs/PYGER/0.9.1/lib/python3.7/site-packages/scipy/stats/stats.py:2279: RuntimeWarning: divide by zero encountered in true_divide\n",
      "  np.expand_dims(sstd, axis=axis))\n",
      "/jukebox/pkgs/PYGER/0.9.1/lib/python3.7/site-packages/scipy/stats/stats.py:2279: RuntimeWarning: invalid value encountered in true_divide\n",
      "  np.expand_dims(sstd, axis=axis))\n"
     ]
    },
    {
     "name": "stdout",
     "output_type": "stream",
     "text": [
      "...saving left hem.\n",
      "***sub-sid26***\n",
      "    Processing run  sub-sid26_ses-02_task-roomobjectvideo_run-01_bold_space-fsaverage6.R.func.gii\n",
      "    Loading  /jukebox/norman/rmasis/MemPal/data/BIDS/Norman/Baldassano/10442_vrpalace/derivatives/fmriprep/sub-sid26/ses-02/func/sub-sid26_ses-02_task-roomobjectvideo_run-01_bold_space-fsaverage6.R.func.gii\n",
      "    Extracting confound information from  sub-sid26/ses-02/func/sub-sid26_ses-02_task-roomobjectvideo_run-01_bold_confounds.tsv\n",
      "   D[hem] =  (40962, 460)\n",
      "   np dot regrcoef, reg.t:  (40962, 460)\n",
      "   interecept shape:  (40962, 1)\n"
     ]
    },
    {
     "name": "stderr",
     "output_type": "stream",
     "text": [
      "/jukebox/pkgs/PYGER/0.9.1/lib/python3.7/site-packages/scipy/stats/stats.py:2279: RuntimeWarning: divide by zero encountered in true_divide\n",
      "  np.expand_dims(sstd, axis=axis))\n",
      "/jukebox/pkgs/PYGER/0.9.1/lib/python3.7/site-packages/scipy/stats/stats.py:2279: RuntimeWarning: invalid value encountered in true_divide\n",
      "  np.expand_dims(sstd, axis=axis))\n"
     ]
    },
    {
     "name": "stdout",
     "output_type": "stream",
     "text": [
      "...saving right hem.\n",
      "***sub-sid26***\n",
      "    Processing run  sub-sid26_ses-02_task-roomobjectvideo_run-02_bold_space-fsaverage6.L.func.gii\n",
      "    Loading  /jukebox/norman/rmasis/MemPal/data/BIDS/Norman/Baldassano/10442_vrpalace/derivatives/fmriprep/sub-sid26/ses-02/func/sub-sid26_ses-02_task-roomobjectvideo_run-02_bold_space-fsaverage6.L.func.gii\n",
      "    Extracting confound information from  sub-sid26/ses-02/func/sub-sid26_ses-02_task-roomobjectvideo_run-02_bold_confounds.tsv\n",
      "   D[hem] =  (40962, 460)\n",
      "   np dot regrcoef, reg.t:  (40962, 460)\n",
      "   interecept shape:  (40962, 1)\n"
     ]
    },
    {
     "name": "stderr",
     "output_type": "stream",
     "text": [
      "/jukebox/pkgs/PYGER/0.9.1/lib/python3.7/site-packages/scipy/stats/stats.py:2279: RuntimeWarning: divide by zero encountered in true_divide\n",
      "  np.expand_dims(sstd, axis=axis))\n",
      "/jukebox/pkgs/PYGER/0.9.1/lib/python3.7/site-packages/scipy/stats/stats.py:2279: RuntimeWarning: invalid value encountered in true_divide\n",
      "  np.expand_dims(sstd, axis=axis))\n"
     ]
    },
    {
     "name": "stdout",
     "output_type": "stream",
     "text": [
      "...saving left hem.\n",
      "***sub-sid26***\n",
      "    Processing run  sub-sid26_ses-02_task-roomobjectvideo_run-02_bold_space-fsaverage6.R.func.gii\n",
      "    Loading  /jukebox/norman/rmasis/MemPal/data/BIDS/Norman/Baldassano/10442_vrpalace/derivatives/fmriprep/sub-sid26/ses-02/func/sub-sid26_ses-02_task-roomobjectvideo_run-02_bold_space-fsaverage6.R.func.gii\n",
      "    Extracting confound information from  sub-sid26/ses-02/func/sub-sid26_ses-02_task-roomobjectvideo_run-02_bold_confounds.tsv\n",
      "   D[hem] =  (40962, 460)\n",
      "   np dot regrcoef, reg.t:  (40962, 460)\n",
      "   interecept shape:  (40962, 1)\n"
     ]
    },
    {
     "name": "stderr",
     "output_type": "stream",
     "text": [
      "/jukebox/pkgs/PYGER/0.9.1/lib/python3.7/site-packages/scipy/stats/stats.py:2279: RuntimeWarning: divide by zero encountered in true_divide\n",
      "  np.expand_dims(sstd, axis=axis))\n",
      "/jukebox/pkgs/PYGER/0.9.1/lib/python3.7/site-packages/scipy/stats/stats.py:2279: RuntimeWarning: invalid value encountered in true_divide\n",
      "  np.expand_dims(sstd, axis=axis))\n"
     ]
    },
    {
     "name": "stdout",
     "output_type": "stream",
     "text": [
      "...saving right hem.\n",
      "***sub-sid27***\n",
      "    Processing run  sub-sid27_ses-01_task-pathvideo_bold_space-fsaverage6.L.func.gii\n",
      "    Loading  /jukebox/norman/rmasis/MemPal/data/BIDS/Norman/Baldassano/10442_vrpalace/derivatives/fmriprep/sub-sid27/ses-01/func/sub-sid27_ses-01_task-pathvideo_bold_space-fsaverage6.L.func.gii\n",
      "    Extracting confound information from  sub-sid27/ses-01/func/sub-sid27_ses-01_task-pathvideo_bold_confounds.tsv\n",
      "   D[hem] =  (40962, 595)\n",
      "   np dot regrcoef, reg.t:  (40962, 595)\n",
      "   interecept shape:  (40962, 1)\n"
     ]
    },
    {
     "name": "stderr",
     "output_type": "stream",
     "text": [
      "/jukebox/pkgs/PYGER/0.9.1/lib/python3.7/site-packages/scipy/stats/stats.py:2279: RuntimeWarning: divide by zero encountered in true_divide\n",
      "  np.expand_dims(sstd, axis=axis))\n",
      "/jukebox/pkgs/PYGER/0.9.1/lib/python3.7/site-packages/scipy/stats/stats.py:2279: RuntimeWarning: invalid value encountered in true_divide\n",
      "  np.expand_dims(sstd, axis=axis))\n"
     ]
    },
    {
     "name": "stdout",
     "output_type": "stream",
     "text": [
      "   making new directory ../PythonData2024/ProcessedData//sub-sid27/\n",
      "...saving left hem.\n",
      "***sub-sid27***\n",
      "    Processing run  sub-sid27_ses-01_task-pathvideo_bold_space-fsaverage6.R.func.gii\n",
      "    Loading  /jukebox/norman/rmasis/MemPal/data/BIDS/Norman/Baldassano/10442_vrpalace/derivatives/fmriprep/sub-sid27/ses-01/func/sub-sid27_ses-01_task-pathvideo_bold_space-fsaverage6.R.func.gii\n",
      "    Extracting confound information from  sub-sid27/ses-01/func/sub-sid27_ses-01_task-pathvideo_bold_confounds.tsv\n",
      "   D[hem] =  (40962, 595)\n",
      "   np dot regrcoef, reg.t:  (40962, 595)\n",
      "   interecept shape:  (40962, 1)\n"
     ]
    },
    {
     "name": "stderr",
     "output_type": "stream",
     "text": [
      "/jukebox/pkgs/PYGER/0.9.1/lib/python3.7/site-packages/scipy/stats/stats.py:2279: RuntimeWarning: divide by zero encountered in true_divide\n",
      "  np.expand_dims(sstd, axis=axis))\n",
      "/jukebox/pkgs/PYGER/0.9.1/lib/python3.7/site-packages/scipy/stats/stats.py:2279: RuntimeWarning: invalid value encountered in true_divide\n",
      "  np.expand_dims(sstd, axis=axis))\n"
     ]
    },
    {
     "name": "stdout",
     "output_type": "stream",
     "text": [
      "...saving right hem.\n",
      "***sub-sid27***\n",
      "    Processing run  sub-sid27_ses-01_task-roomvideo_run-01_bold_space-fsaverage6.L.func.gii\n",
      "    Loading  /jukebox/norman/rmasis/MemPal/data/BIDS/Norman/Baldassano/10442_vrpalace/derivatives/fmriprep/sub-sid27/ses-01/func/sub-sid27_ses-01_task-roomvideo_run-01_bold_space-fsaverage6.L.func.gii\n",
      "    Extracting confound information from  sub-sid27/ses-01/func/sub-sid27_ses-01_task-roomvideo_run-01_bold_confounds.tsv\n",
      "   D[hem] =  (40962, 235)\n",
      "   np dot regrcoef, reg.t:  (40962, 235)\n",
      "   interecept shape:  (40962, 1)\n"
     ]
    },
    {
     "name": "stderr",
     "output_type": "stream",
     "text": [
      "/jukebox/pkgs/PYGER/0.9.1/lib/python3.7/site-packages/scipy/stats/stats.py:2279: RuntimeWarning: divide by zero encountered in true_divide\n",
      "  np.expand_dims(sstd, axis=axis))\n",
      "/jukebox/pkgs/PYGER/0.9.1/lib/python3.7/site-packages/scipy/stats/stats.py:2279: RuntimeWarning: invalid value encountered in true_divide\n",
      "  np.expand_dims(sstd, axis=axis))\n"
     ]
    },
    {
     "name": "stdout",
     "output_type": "stream",
     "text": [
      "...saving left hem.\n",
      "***sub-sid27***\n",
      "    Processing run  sub-sid27_ses-01_task-roomvideo_run-01_bold_space-fsaverage6.R.func.gii\n",
      "    Loading  /jukebox/norman/rmasis/MemPal/data/BIDS/Norman/Baldassano/10442_vrpalace/derivatives/fmriprep/sub-sid27/ses-01/func/sub-sid27_ses-01_task-roomvideo_run-01_bold_space-fsaverage6.R.func.gii\n",
      "    Extracting confound information from  sub-sid27/ses-01/func/sub-sid27_ses-01_task-roomvideo_run-01_bold_confounds.tsv\n",
      "   D[hem] =  (40962, 235)\n",
      "   np dot regrcoef, reg.t:  (40962, 235)\n",
      "   interecept shape:  (40962, 1)\n"
     ]
    },
    {
     "name": "stderr",
     "output_type": "stream",
     "text": [
      "/jukebox/pkgs/PYGER/0.9.1/lib/python3.7/site-packages/scipy/stats/stats.py:2279: RuntimeWarning: divide by zero encountered in true_divide\n",
      "  np.expand_dims(sstd, axis=axis))\n",
      "/jukebox/pkgs/PYGER/0.9.1/lib/python3.7/site-packages/scipy/stats/stats.py:2279: RuntimeWarning: invalid value encountered in true_divide\n",
      "  np.expand_dims(sstd, axis=axis))\n"
     ]
    },
    {
     "name": "stdout",
     "output_type": "stream",
     "text": [
      "...saving right hem.\n",
      "***sub-sid27***\n",
      "    Processing run  sub-sid27_ses-01_task-roomvideo_run-02_bold_space-fsaverage6.L.func.gii\n",
      "    Loading  /jukebox/norman/rmasis/MemPal/data/BIDS/Norman/Baldassano/10442_vrpalace/derivatives/fmriprep/sub-sid27/ses-01/func/sub-sid27_ses-01_task-roomvideo_run-02_bold_space-fsaverage6.L.func.gii\n",
      "    Extracting confound information from  sub-sid27/ses-01/func/sub-sid27_ses-01_task-roomvideo_run-02_bold_confounds.tsv\n",
      "   D[hem] =  (40962, 235)\n",
      "   np dot regrcoef, reg.t:  (40962, 235)\n",
      "   interecept shape:  (40962, 1)\n"
     ]
    },
    {
     "name": "stderr",
     "output_type": "stream",
     "text": [
      "/jukebox/pkgs/PYGER/0.9.1/lib/python3.7/site-packages/scipy/stats/stats.py:2279: RuntimeWarning: divide by zero encountered in true_divide\n",
      "  np.expand_dims(sstd, axis=axis))\n",
      "/jukebox/pkgs/PYGER/0.9.1/lib/python3.7/site-packages/scipy/stats/stats.py:2279: RuntimeWarning: invalid value encountered in true_divide\n",
      "  np.expand_dims(sstd, axis=axis))\n"
     ]
    },
    {
     "name": "stdout",
     "output_type": "stream",
     "text": [
      "...saving left hem.\n",
      "***sub-sid27***\n",
      "    Processing run  sub-sid27_ses-01_task-roomvideo_run-02_bold_space-fsaverage6.R.func.gii\n",
      "    Loading  /jukebox/norman/rmasis/MemPal/data/BIDS/Norman/Baldassano/10442_vrpalace/derivatives/fmriprep/sub-sid27/ses-01/func/sub-sid27_ses-01_task-roomvideo_run-02_bold_space-fsaverage6.R.func.gii\n",
      "    Extracting confound information from  sub-sid27/ses-01/func/sub-sid27_ses-01_task-roomvideo_run-02_bold_confounds.tsv\n",
      "   D[hem] =  (40962, 235)\n",
      "   np dot regrcoef, reg.t:  (40962, 235)\n",
      "   interecept shape:  (40962, 1)\n"
     ]
    },
    {
     "name": "stderr",
     "output_type": "stream",
     "text": [
      "/jukebox/pkgs/PYGER/0.9.1/lib/python3.7/site-packages/scipy/stats/stats.py:2279: RuntimeWarning: divide by zero encountered in true_divide\n",
      "  np.expand_dims(sstd, axis=axis))\n",
      "/jukebox/pkgs/PYGER/0.9.1/lib/python3.7/site-packages/scipy/stats/stats.py:2279: RuntimeWarning: invalid value encountered in true_divide\n",
      "  np.expand_dims(sstd, axis=axis))\n"
     ]
    },
    {
     "name": "stdout",
     "output_type": "stream",
     "text": [
      "...saving right hem.\n",
      "***sub-sid27***\n",
      "    Processing run  sub-sid27_ses-02_task-pathvideo_bold_space-fsaverage6.L.func.gii\n",
      "    Loading  /jukebox/norman/rmasis/MemPal/data/BIDS/Norman/Baldassano/10442_vrpalace/derivatives/fmriprep/sub-sid27/ses-02/func/sub-sid27_ses-02_task-pathvideo_bold_space-fsaverage6.L.func.gii\n",
      "    Extracting confound information from  sub-sid27/ses-02/func/sub-sid27_ses-02_task-pathvideo_bold_confounds.tsv\n",
      "   D[hem] =  (40962, 595)\n",
      "   np dot regrcoef, reg.t:  (40962, 595)\n",
      "   interecept shape:  (40962, 1)\n"
     ]
    },
    {
     "name": "stderr",
     "output_type": "stream",
     "text": [
      "/jukebox/pkgs/PYGER/0.9.1/lib/python3.7/site-packages/scipy/stats/stats.py:2279: RuntimeWarning: divide by zero encountered in true_divide\n",
      "  np.expand_dims(sstd, axis=axis))\n",
      "/jukebox/pkgs/PYGER/0.9.1/lib/python3.7/site-packages/scipy/stats/stats.py:2279: RuntimeWarning: invalid value encountered in true_divide\n",
      "  np.expand_dims(sstd, axis=axis))\n"
     ]
    },
    {
     "name": "stdout",
     "output_type": "stream",
     "text": [
      "...saving left hem.\n",
      "***sub-sid27***\n",
      "    Processing run  sub-sid27_ses-02_task-pathvideo_bold_space-fsaverage6.R.func.gii\n",
      "    Loading  /jukebox/norman/rmasis/MemPal/data/BIDS/Norman/Baldassano/10442_vrpalace/derivatives/fmriprep/sub-sid27/ses-02/func/sub-sid27_ses-02_task-pathvideo_bold_space-fsaverage6.R.func.gii\n",
      "    Extracting confound information from  sub-sid27/ses-02/func/sub-sid27_ses-02_task-pathvideo_bold_confounds.tsv\n",
      "   D[hem] =  (40962, 595)\n",
      "   np dot regrcoef, reg.t:  (40962, 595)\n",
      "   interecept shape:  (40962, 1)\n"
     ]
    },
    {
     "name": "stderr",
     "output_type": "stream",
     "text": [
      "/jukebox/pkgs/PYGER/0.9.1/lib/python3.7/site-packages/scipy/stats/stats.py:2279: RuntimeWarning: divide by zero encountered in true_divide\n",
      "  np.expand_dims(sstd, axis=axis))\n",
      "/jukebox/pkgs/PYGER/0.9.1/lib/python3.7/site-packages/scipy/stats/stats.py:2279: RuntimeWarning: invalid value encountered in true_divide\n",
      "  np.expand_dims(sstd, axis=axis))\n"
     ]
    },
    {
     "name": "stdout",
     "output_type": "stream",
     "text": [
      "...saving right hem.\n",
      "***sub-sid27***\n",
      "    Processing run  sub-sid27_ses-02_task-recall_bold_space-fsaverage6.L.func.gii\n",
      "    Loading  /jukebox/norman/rmasis/MemPal/data/BIDS/Norman/Baldassano/10442_vrpalace/derivatives/fmriprep/sub-sid27/ses-02/func/sub-sid27_ses-02_task-recall_bold_space-fsaverage6.L.func.gii\n",
      "    Extracting confound information from  sub-sid27/ses-02/func/sub-sid27_ses-02_task-recall_bold_confounds.tsv\n",
      "   D[hem] =  (40962, 2063)\n",
      "   np dot regrcoef, reg.t:  (40962, 2063)\n",
      "   interecept shape:  (40962, 1)\n"
     ]
    },
    {
     "name": "stderr",
     "output_type": "stream",
     "text": [
      "/jukebox/pkgs/PYGER/0.9.1/lib/python3.7/site-packages/scipy/stats/stats.py:2279: RuntimeWarning: divide by zero encountered in true_divide\n",
      "  np.expand_dims(sstd, axis=axis))\n",
      "/jukebox/pkgs/PYGER/0.9.1/lib/python3.7/site-packages/scipy/stats/stats.py:2279: RuntimeWarning: invalid value encountered in true_divide\n",
      "  np.expand_dims(sstd, axis=axis))\n"
     ]
    },
    {
     "name": "stdout",
     "output_type": "stream",
     "text": [
      "...saving left hem.\n",
      "***sub-sid27***\n",
      "    Processing run  sub-sid27_ses-02_task-recall_bold_space-fsaverage6.R.func.gii\n",
      "    Loading  /jukebox/norman/rmasis/MemPal/data/BIDS/Norman/Baldassano/10442_vrpalace/derivatives/fmriprep/sub-sid27/ses-02/func/sub-sid27_ses-02_task-recall_bold_space-fsaverage6.R.func.gii\n",
      "    Extracting confound information from  sub-sid27/ses-02/func/sub-sid27_ses-02_task-recall_bold_confounds.tsv\n",
      "   D[hem] =  (40962, 2063)\n",
      "   np dot regrcoef, reg.t:  (40962, 2063)\n",
      "   interecept shape:  (40962, 1)\n"
     ]
    },
    {
     "name": "stderr",
     "output_type": "stream",
     "text": [
      "/jukebox/pkgs/PYGER/0.9.1/lib/python3.7/site-packages/scipy/stats/stats.py:2279: RuntimeWarning: divide by zero encountered in true_divide\n",
      "  np.expand_dims(sstd, axis=axis))\n",
      "/jukebox/pkgs/PYGER/0.9.1/lib/python3.7/site-packages/scipy/stats/stats.py:2279: RuntimeWarning: invalid value encountered in true_divide\n",
      "  np.expand_dims(sstd, axis=axis))\n"
     ]
    },
    {
     "name": "stdout",
     "output_type": "stream",
     "text": [
      "...saving right hem.\n",
      "***sub-sid27***\n",
      "    Processing run  sub-sid27_ses-02_task-roomobjectvideo_run-01_bold_space-fsaverage6.L.func.gii\n",
      "    Loading  /jukebox/norman/rmasis/MemPal/data/BIDS/Norman/Baldassano/10442_vrpalace/derivatives/fmriprep/sub-sid27/ses-02/func/sub-sid27_ses-02_task-roomobjectvideo_run-01_bold_space-fsaverage6.L.func.gii\n",
      "    Extracting confound information from  sub-sid27/ses-02/func/sub-sid27_ses-02_task-roomobjectvideo_run-01_bold_confounds.tsv\n",
      "   D[hem] =  (40962, 460)\n",
      "   np dot regrcoef, reg.t:  (40962, 460)\n",
      "   interecept shape:  (40962, 1)\n"
     ]
    },
    {
     "name": "stderr",
     "output_type": "stream",
     "text": [
      "/jukebox/pkgs/PYGER/0.9.1/lib/python3.7/site-packages/scipy/stats/stats.py:2279: RuntimeWarning: divide by zero encountered in true_divide\n",
      "  np.expand_dims(sstd, axis=axis))\n",
      "/jukebox/pkgs/PYGER/0.9.1/lib/python3.7/site-packages/scipy/stats/stats.py:2279: RuntimeWarning: invalid value encountered in true_divide\n",
      "  np.expand_dims(sstd, axis=axis))\n"
     ]
    },
    {
     "name": "stdout",
     "output_type": "stream",
     "text": [
      "...saving left hem.\n",
      "***sub-sid27***\n",
      "    Processing run  sub-sid27_ses-02_task-roomobjectvideo_run-01_bold_space-fsaverage6.R.func.gii\n",
      "    Loading  /jukebox/norman/rmasis/MemPal/data/BIDS/Norman/Baldassano/10442_vrpalace/derivatives/fmriprep/sub-sid27/ses-02/func/sub-sid27_ses-02_task-roomobjectvideo_run-01_bold_space-fsaverage6.R.func.gii\n",
      "    Extracting confound information from  sub-sid27/ses-02/func/sub-sid27_ses-02_task-roomobjectvideo_run-01_bold_confounds.tsv\n",
      "   D[hem] =  (40962, 460)\n",
      "   np dot regrcoef, reg.t:  (40962, 460)\n",
      "   interecept shape:  (40962, 1)\n"
     ]
    },
    {
     "name": "stderr",
     "output_type": "stream",
     "text": [
      "/jukebox/pkgs/PYGER/0.9.1/lib/python3.7/site-packages/scipy/stats/stats.py:2279: RuntimeWarning: divide by zero encountered in true_divide\n",
      "  np.expand_dims(sstd, axis=axis))\n",
      "/jukebox/pkgs/PYGER/0.9.1/lib/python3.7/site-packages/scipy/stats/stats.py:2279: RuntimeWarning: invalid value encountered in true_divide\n",
      "  np.expand_dims(sstd, axis=axis))\n"
     ]
    },
    {
     "name": "stdout",
     "output_type": "stream",
     "text": [
      "...saving right hem.\n",
      "***sub-sid27***\n",
      "    Processing run  sub-sid27_ses-02_task-roomobjectvideo_run-02_bold_space-fsaverage6.L.func.gii\n",
      "    Loading  /jukebox/norman/rmasis/MemPal/data/BIDS/Norman/Baldassano/10442_vrpalace/derivatives/fmriprep/sub-sid27/ses-02/func/sub-sid27_ses-02_task-roomobjectvideo_run-02_bold_space-fsaverage6.L.func.gii\n",
      "    Extracting confound information from  sub-sid27/ses-02/func/sub-sid27_ses-02_task-roomobjectvideo_run-02_bold_confounds.tsv\n",
      "   D[hem] =  (40962, 460)\n",
      "   np dot regrcoef, reg.t:  (40962, 460)\n",
      "   interecept shape:  (40962, 1)\n"
     ]
    },
    {
     "name": "stderr",
     "output_type": "stream",
     "text": [
      "/jukebox/pkgs/PYGER/0.9.1/lib/python3.7/site-packages/scipy/stats/stats.py:2279: RuntimeWarning: divide by zero encountered in true_divide\n",
      "  np.expand_dims(sstd, axis=axis))\n",
      "/jukebox/pkgs/PYGER/0.9.1/lib/python3.7/site-packages/scipy/stats/stats.py:2279: RuntimeWarning: invalid value encountered in true_divide\n",
      "  np.expand_dims(sstd, axis=axis))\n"
     ]
    },
    {
     "name": "stdout",
     "output_type": "stream",
     "text": [
      "...saving left hem.\n",
      "***sub-sid27***\n",
      "    Processing run  sub-sid27_ses-02_task-roomobjectvideo_run-02_bold_space-fsaverage6.R.func.gii\n",
      "    Loading  /jukebox/norman/rmasis/MemPal/data/BIDS/Norman/Baldassano/10442_vrpalace/derivatives/fmriprep/sub-sid27/ses-02/func/sub-sid27_ses-02_task-roomobjectvideo_run-02_bold_space-fsaverage6.R.func.gii\n",
      "    Extracting confound information from  sub-sid27/ses-02/func/sub-sid27_ses-02_task-roomobjectvideo_run-02_bold_confounds.tsv\n",
      "   D[hem] =  (40962, 460)\n",
      "   np dot regrcoef, reg.t:  (40962, 460)\n",
      "   interecept shape:  (40962, 1)\n"
     ]
    },
    {
     "name": "stderr",
     "output_type": "stream",
     "text": [
      "/jukebox/pkgs/PYGER/0.9.1/lib/python3.7/site-packages/scipy/stats/stats.py:2279: RuntimeWarning: divide by zero encountered in true_divide\n",
      "  np.expand_dims(sstd, axis=axis))\n",
      "/jukebox/pkgs/PYGER/0.9.1/lib/python3.7/site-packages/scipy/stats/stats.py:2279: RuntimeWarning: invalid value encountered in true_divide\n",
      "  np.expand_dims(sstd, axis=axis))\n"
     ]
    },
    {
     "name": "stdout",
     "output_type": "stream",
     "text": [
      "...saving right hem.\n",
      "***sub-sid28***\n",
      "    Processing run  sub-sid28_ses-01_task-pathvideo_bold_space-fsaverage6.L.func.gii\n",
      "    Loading  /jukebox/norman/rmasis/MemPal/data/BIDS/Norman/Baldassano/10442_vrpalace/derivatives/fmriprep/sub-sid28/ses-01/func/sub-sid28_ses-01_task-pathvideo_bold_space-fsaverage6.L.func.gii\n",
      "    Extracting confound information from  sub-sid28/ses-01/func/sub-sid28_ses-01_task-pathvideo_bold_confounds.tsv\n",
      "   D[hem] =  (40962, 595)\n",
      "   np dot regrcoef, reg.t:  (40962, 595)\n",
      "   interecept shape:  (40962, 1)\n"
     ]
    },
    {
     "name": "stderr",
     "output_type": "stream",
     "text": [
      "/jukebox/pkgs/PYGER/0.9.1/lib/python3.7/site-packages/scipy/stats/stats.py:2279: RuntimeWarning: divide by zero encountered in true_divide\n",
      "  np.expand_dims(sstd, axis=axis))\n",
      "/jukebox/pkgs/PYGER/0.9.1/lib/python3.7/site-packages/scipy/stats/stats.py:2279: RuntimeWarning: invalid value encountered in true_divide\n",
      "  np.expand_dims(sstd, axis=axis))\n"
     ]
    },
    {
     "name": "stdout",
     "output_type": "stream",
     "text": [
      "   making new directory ../PythonData2024/ProcessedData//sub-sid28/\n",
      "...saving left hem.\n",
      "***sub-sid28***\n",
      "    Processing run  sub-sid28_ses-01_task-pathvideo_bold_space-fsaverage6.R.func.gii\n",
      "    Loading  /jukebox/norman/rmasis/MemPal/data/BIDS/Norman/Baldassano/10442_vrpalace/derivatives/fmriprep/sub-sid28/ses-01/func/sub-sid28_ses-01_task-pathvideo_bold_space-fsaverage6.R.func.gii\n",
      "    Extracting confound information from  sub-sid28/ses-01/func/sub-sid28_ses-01_task-pathvideo_bold_confounds.tsv\n",
      "   D[hem] =  (40962, 595)\n",
      "   np dot regrcoef, reg.t:  (40962, 595)\n",
      "   interecept shape:  (40962, 1)\n"
     ]
    },
    {
     "name": "stderr",
     "output_type": "stream",
     "text": [
      "/jukebox/pkgs/PYGER/0.9.1/lib/python3.7/site-packages/scipy/stats/stats.py:2279: RuntimeWarning: divide by zero encountered in true_divide\n",
      "  np.expand_dims(sstd, axis=axis))\n",
      "/jukebox/pkgs/PYGER/0.9.1/lib/python3.7/site-packages/scipy/stats/stats.py:2279: RuntimeWarning: invalid value encountered in true_divide\n",
      "  np.expand_dims(sstd, axis=axis))\n"
     ]
    },
    {
     "name": "stdout",
     "output_type": "stream",
     "text": [
      "...saving right hem.\n",
      "***sub-sid28***\n",
      "    Processing run  sub-sid28_ses-01_task-roomvideo_run-01_bold_space-fsaverage6.L.func.gii\n",
      "    Loading  /jukebox/norman/rmasis/MemPal/data/BIDS/Norman/Baldassano/10442_vrpalace/derivatives/fmriprep/sub-sid28/ses-01/func/sub-sid28_ses-01_task-roomvideo_run-01_bold_space-fsaverage6.L.func.gii\n",
      "    Extracting confound information from  sub-sid28/ses-01/func/sub-sid28_ses-01_task-roomvideo_run-01_bold_confounds.tsv\n",
      "   D[hem] =  (40962, 235)\n",
      "   np dot regrcoef, reg.t:  (40962, 235)\n",
      "   interecept shape:  (40962, 1)\n"
     ]
    },
    {
     "name": "stderr",
     "output_type": "stream",
     "text": [
      "/jukebox/pkgs/PYGER/0.9.1/lib/python3.7/site-packages/scipy/stats/stats.py:2279: RuntimeWarning: divide by zero encountered in true_divide\n",
      "  np.expand_dims(sstd, axis=axis))\n",
      "/jukebox/pkgs/PYGER/0.9.1/lib/python3.7/site-packages/scipy/stats/stats.py:2279: RuntimeWarning: invalid value encountered in true_divide\n",
      "  np.expand_dims(sstd, axis=axis))\n"
     ]
    },
    {
     "name": "stdout",
     "output_type": "stream",
     "text": [
      "...saving left hem.\n",
      "***sub-sid28***\n",
      "    Processing run  sub-sid28_ses-01_task-roomvideo_run-01_bold_space-fsaverage6.R.func.gii\n",
      "    Loading  /jukebox/norman/rmasis/MemPal/data/BIDS/Norman/Baldassano/10442_vrpalace/derivatives/fmriprep/sub-sid28/ses-01/func/sub-sid28_ses-01_task-roomvideo_run-01_bold_space-fsaverage6.R.func.gii\n",
      "    Extracting confound information from  sub-sid28/ses-01/func/sub-sid28_ses-01_task-roomvideo_run-01_bold_confounds.tsv\n",
      "   D[hem] =  (40962, 235)\n",
      "   np dot regrcoef, reg.t:  (40962, 235)\n",
      "   interecept shape:  (40962, 1)\n"
     ]
    },
    {
     "name": "stderr",
     "output_type": "stream",
     "text": [
      "/jukebox/pkgs/PYGER/0.9.1/lib/python3.7/site-packages/scipy/stats/stats.py:2279: RuntimeWarning: divide by zero encountered in true_divide\n",
      "  np.expand_dims(sstd, axis=axis))\n",
      "/jukebox/pkgs/PYGER/0.9.1/lib/python3.7/site-packages/scipy/stats/stats.py:2279: RuntimeWarning: invalid value encountered in true_divide\n",
      "  np.expand_dims(sstd, axis=axis))\n"
     ]
    },
    {
     "name": "stdout",
     "output_type": "stream",
     "text": [
      "...saving right hem.\n",
      "***sub-sid28***\n",
      "    Processing run  sub-sid28_ses-01_task-roomvideo_run-02_bold_space-fsaverage6.L.func.gii\n",
      "    Loading  /jukebox/norman/rmasis/MemPal/data/BIDS/Norman/Baldassano/10442_vrpalace/derivatives/fmriprep/sub-sid28/ses-01/func/sub-sid28_ses-01_task-roomvideo_run-02_bold_space-fsaverage6.L.func.gii\n",
      "    Extracting confound information from  sub-sid28/ses-01/func/sub-sid28_ses-01_task-roomvideo_run-02_bold_confounds.tsv\n",
      "   D[hem] =  (40962, 235)\n",
      "   np dot regrcoef, reg.t:  (40962, 235)\n",
      "   interecept shape:  (40962, 1)\n"
     ]
    },
    {
     "name": "stderr",
     "output_type": "stream",
     "text": [
      "/jukebox/pkgs/PYGER/0.9.1/lib/python3.7/site-packages/scipy/stats/stats.py:2279: RuntimeWarning: divide by zero encountered in true_divide\n",
      "  np.expand_dims(sstd, axis=axis))\n",
      "/jukebox/pkgs/PYGER/0.9.1/lib/python3.7/site-packages/scipy/stats/stats.py:2279: RuntimeWarning: invalid value encountered in true_divide\n",
      "  np.expand_dims(sstd, axis=axis))\n"
     ]
    },
    {
     "name": "stdout",
     "output_type": "stream",
     "text": [
      "...saving left hem.\n",
      "***sub-sid28***\n",
      "    Processing run  sub-sid28_ses-01_task-roomvideo_run-02_bold_space-fsaverage6.R.func.gii\n",
      "    Loading  /jukebox/norman/rmasis/MemPal/data/BIDS/Norman/Baldassano/10442_vrpalace/derivatives/fmriprep/sub-sid28/ses-01/func/sub-sid28_ses-01_task-roomvideo_run-02_bold_space-fsaverage6.R.func.gii\n",
      "    Extracting confound information from  sub-sid28/ses-01/func/sub-sid28_ses-01_task-roomvideo_run-02_bold_confounds.tsv\n",
      "   D[hem] =  (40962, 235)\n",
      "   np dot regrcoef, reg.t:  (40962, 235)\n",
      "   interecept shape:  (40962, 1)\n"
     ]
    },
    {
     "name": "stderr",
     "output_type": "stream",
     "text": [
      "/jukebox/pkgs/PYGER/0.9.1/lib/python3.7/site-packages/scipy/stats/stats.py:2279: RuntimeWarning: divide by zero encountered in true_divide\n",
      "  np.expand_dims(sstd, axis=axis))\n",
      "/jukebox/pkgs/PYGER/0.9.1/lib/python3.7/site-packages/scipy/stats/stats.py:2279: RuntimeWarning: invalid value encountered in true_divide\n",
      "  np.expand_dims(sstd, axis=axis))\n"
     ]
    },
    {
     "name": "stdout",
     "output_type": "stream",
     "text": [
      "...saving right hem.\n",
      "***sub-sid28***\n",
      "    Processing run  sub-sid28_ses-02_task-pathvideo_bold_space-fsaverage6.L.func.gii\n",
      "    Loading  /jukebox/norman/rmasis/MemPal/data/BIDS/Norman/Baldassano/10442_vrpalace/derivatives/fmriprep/sub-sid28/ses-02/func/sub-sid28_ses-02_task-pathvideo_bold_space-fsaverage6.L.func.gii\n",
      "    Extracting confound information from  sub-sid28/ses-02/func/sub-sid28_ses-02_task-pathvideo_bold_confounds.tsv\n",
      "   D[hem] =  (40962, 595)\n",
      "   np dot regrcoef, reg.t:  (40962, 595)\n",
      "   interecept shape:  (40962, 1)\n"
     ]
    },
    {
     "name": "stderr",
     "output_type": "stream",
     "text": [
      "/jukebox/pkgs/PYGER/0.9.1/lib/python3.7/site-packages/scipy/stats/stats.py:2279: RuntimeWarning: divide by zero encountered in true_divide\n",
      "  np.expand_dims(sstd, axis=axis))\n",
      "/jukebox/pkgs/PYGER/0.9.1/lib/python3.7/site-packages/scipy/stats/stats.py:2279: RuntimeWarning: invalid value encountered in true_divide\n",
      "  np.expand_dims(sstd, axis=axis))\n"
     ]
    },
    {
     "name": "stdout",
     "output_type": "stream",
     "text": [
      "...saving left hem.\n",
      "***sub-sid28***\n",
      "    Processing run  sub-sid28_ses-02_task-pathvideo_bold_space-fsaverage6.R.func.gii\n",
      "    Loading  /jukebox/norman/rmasis/MemPal/data/BIDS/Norman/Baldassano/10442_vrpalace/derivatives/fmriprep/sub-sid28/ses-02/func/sub-sid28_ses-02_task-pathvideo_bold_space-fsaverage6.R.func.gii\n",
      "    Extracting confound information from  sub-sid28/ses-02/func/sub-sid28_ses-02_task-pathvideo_bold_confounds.tsv\n",
      "   D[hem] =  (40962, 595)\n",
      "   np dot regrcoef, reg.t:  (40962, 595)\n",
      "   interecept shape:  (40962, 1)\n"
     ]
    },
    {
     "name": "stderr",
     "output_type": "stream",
     "text": [
      "/jukebox/pkgs/PYGER/0.9.1/lib/python3.7/site-packages/scipy/stats/stats.py:2279: RuntimeWarning: divide by zero encountered in true_divide\n",
      "  np.expand_dims(sstd, axis=axis))\n",
      "/jukebox/pkgs/PYGER/0.9.1/lib/python3.7/site-packages/scipy/stats/stats.py:2279: RuntimeWarning: invalid value encountered in true_divide\n",
      "  np.expand_dims(sstd, axis=axis))\n"
     ]
    },
    {
     "name": "stdout",
     "output_type": "stream",
     "text": [
      "...saving right hem.\n",
      "***sub-sid28***\n",
      "    Processing run  sub-sid28_ses-02_task-recall_bold_space-fsaverage6.L.func.gii\n",
      "    Loading  /jukebox/norman/rmasis/MemPal/data/BIDS/Norman/Baldassano/10442_vrpalace/derivatives/fmriprep/sub-sid28/ses-02/func/sub-sid28_ses-02_task-recall_bold_space-fsaverage6.L.func.gii\n",
      "    Extracting confound information from  sub-sid28/ses-02/func/sub-sid28_ses-02_task-recall_bold_confounds.tsv\n",
      "   D[hem] =  (40962, 2678)\n",
      "   np dot regrcoef, reg.t:  (40962, 2678)\n",
      "   interecept shape:  (40962, 1)\n"
     ]
    },
    {
     "name": "stderr",
     "output_type": "stream",
     "text": [
      "/jukebox/pkgs/PYGER/0.9.1/lib/python3.7/site-packages/scipy/stats/stats.py:2279: RuntimeWarning: divide by zero encountered in true_divide\n",
      "  np.expand_dims(sstd, axis=axis))\n",
      "/jukebox/pkgs/PYGER/0.9.1/lib/python3.7/site-packages/scipy/stats/stats.py:2279: RuntimeWarning: invalid value encountered in true_divide\n",
      "  np.expand_dims(sstd, axis=axis))\n"
     ]
    },
    {
     "name": "stdout",
     "output_type": "stream",
     "text": [
      "...saving left hem.\n",
      "***sub-sid28***\n",
      "    Processing run  sub-sid28_ses-02_task-recall_bold_space-fsaverage6.R.func.gii\n",
      "    Loading  /jukebox/norman/rmasis/MemPal/data/BIDS/Norman/Baldassano/10442_vrpalace/derivatives/fmriprep/sub-sid28/ses-02/func/sub-sid28_ses-02_task-recall_bold_space-fsaverage6.R.func.gii\n",
      "    Extracting confound information from  sub-sid28/ses-02/func/sub-sid28_ses-02_task-recall_bold_confounds.tsv\n",
      "   D[hem] =  (40962, 2678)\n",
      "   np dot regrcoef, reg.t:  (40962, 2678)\n",
      "   interecept shape:  (40962, 1)\n"
     ]
    },
    {
     "name": "stderr",
     "output_type": "stream",
     "text": [
      "/jukebox/pkgs/PYGER/0.9.1/lib/python3.7/site-packages/scipy/stats/stats.py:2279: RuntimeWarning: divide by zero encountered in true_divide\n",
      "  np.expand_dims(sstd, axis=axis))\n",
      "/jukebox/pkgs/PYGER/0.9.1/lib/python3.7/site-packages/scipy/stats/stats.py:2279: RuntimeWarning: invalid value encountered in true_divide\n",
      "  np.expand_dims(sstd, axis=axis))\n"
     ]
    },
    {
     "name": "stdout",
     "output_type": "stream",
     "text": [
      "...saving right hem.\n",
      "***sub-sid28***\n",
      "    Processing run  sub-sid28_ses-02_task-roomobjectvideo_run-01_bold_space-fsaverage6.L.func.gii\n",
      "    Loading  /jukebox/norman/rmasis/MemPal/data/BIDS/Norman/Baldassano/10442_vrpalace/derivatives/fmriprep/sub-sid28/ses-02/func/sub-sid28_ses-02_task-roomobjectvideo_run-01_bold_space-fsaverage6.L.func.gii\n",
      "    Extracting confound information from  sub-sid28/ses-02/func/sub-sid28_ses-02_task-roomobjectvideo_run-01_bold_confounds.tsv\n",
      "   D[hem] =  (40962, 460)\n",
      "   np dot regrcoef, reg.t:  (40962, 460)\n",
      "   interecept shape:  (40962, 1)\n"
     ]
    },
    {
     "name": "stderr",
     "output_type": "stream",
     "text": [
      "/jukebox/pkgs/PYGER/0.9.1/lib/python3.7/site-packages/scipy/stats/stats.py:2279: RuntimeWarning: divide by zero encountered in true_divide\n",
      "  np.expand_dims(sstd, axis=axis))\n",
      "/jukebox/pkgs/PYGER/0.9.1/lib/python3.7/site-packages/scipy/stats/stats.py:2279: RuntimeWarning: invalid value encountered in true_divide\n",
      "  np.expand_dims(sstd, axis=axis))\n"
     ]
    },
    {
     "name": "stdout",
     "output_type": "stream",
     "text": [
      "...saving left hem.\n",
      "***sub-sid28***\n",
      "    Processing run  sub-sid28_ses-02_task-roomobjectvideo_run-01_bold_space-fsaverage6.R.func.gii\n",
      "    Loading  /jukebox/norman/rmasis/MemPal/data/BIDS/Norman/Baldassano/10442_vrpalace/derivatives/fmriprep/sub-sid28/ses-02/func/sub-sid28_ses-02_task-roomobjectvideo_run-01_bold_space-fsaverage6.R.func.gii\n",
      "    Extracting confound information from  sub-sid28/ses-02/func/sub-sid28_ses-02_task-roomobjectvideo_run-01_bold_confounds.tsv\n",
      "   D[hem] =  (40962, 460)\n",
      "   np dot regrcoef, reg.t:  (40962, 460)\n",
      "   interecept shape:  (40962, 1)\n"
     ]
    },
    {
     "name": "stderr",
     "output_type": "stream",
     "text": [
      "/jukebox/pkgs/PYGER/0.9.1/lib/python3.7/site-packages/scipy/stats/stats.py:2279: RuntimeWarning: divide by zero encountered in true_divide\n",
      "  np.expand_dims(sstd, axis=axis))\n",
      "/jukebox/pkgs/PYGER/0.9.1/lib/python3.7/site-packages/scipy/stats/stats.py:2279: RuntimeWarning: invalid value encountered in true_divide\n",
      "  np.expand_dims(sstd, axis=axis))\n"
     ]
    },
    {
     "name": "stdout",
     "output_type": "stream",
     "text": [
      "...saving right hem.\n",
      "***sub-sid28***\n",
      "    Processing run  sub-sid28_ses-02_task-roomobjectvideo_run-02_bold_space-fsaverage6.L.func.gii\n",
      "    Loading  /jukebox/norman/rmasis/MemPal/data/BIDS/Norman/Baldassano/10442_vrpalace/derivatives/fmriprep/sub-sid28/ses-02/func/sub-sid28_ses-02_task-roomobjectvideo_run-02_bold_space-fsaverage6.L.func.gii\n",
      "    Extracting confound information from  sub-sid28/ses-02/func/sub-sid28_ses-02_task-roomobjectvideo_run-02_bold_confounds.tsv\n",
      "   D[hem] =  (40962, 460)\n",
      "   np dot regrcoef, reg.t:  (40962, 460)\n",
      "   interecept shape:  (40962, 1)\n"
     ]
    },
    {
     "name": "stderr",
     "output_type": "stream",
     "text": [
      "/jukebox/pkgs/PYGER/0.9.1/lib/python3.7/site-packages/scipy/stats/stats.py:2279: RuntimeWarning: divide by zero encountered in true_divide\n",
      "  np.expand_dims(sstd, axis=axis))\n",
      "/jukebox/pkgs/PYGER/0.9.1/lib/python3.7/site-packages/scipy/stats/stats.py:2279: RuntimeWarning: invalid value encountered in true_divide\n",
      "  np.expand_dims(sstd, axis=axis))\n"
     ]
    },
    {
     "name": "stdout",
     "output_type": "stream",
     "text": [
      "...saving left hem.\n",
      "***sub-sid28***\n",
      "    Processing run  sub-sid28_ses-02_task-roomobjectvideo_run-02_bold_space-fsaverage6.R.func.gii\n",
      "    Loading  /jukebox/norman/rmasis/MemPal/data/BIDS/Norman/Baldassano/10442_vrpalace/derivatives/fmriprep/sub-sid28/ses-02/func/sub-sid28_ses-02_task-roomobjectvideo_run-02_bold_space-fsaverage6.R.func.gii\n",
      "    Extracting confound information from  sub-sid28/ses-02/func/sub-sid28_ses-02_task-roomobjectvideo_run-02_bold_confounds.tsv\n",
      "   D[hem] =  (40962, 460)\n",
      "   np dot regrcoef, reg.t:  (40962, 460)\n",
      "   interecept shape:  (40962, 1)\n"
     ]
    },
    {
     "name": "stderr",
     "output_type": "stream",
     "text": [
      "/jukebox/pkgs/PYGER/0.9.1/lib/python3.7/site-packages/scipy/stats/stats.py:2279: RuntimeWarning: divide by zero encountered in true_divide\n",
      "  np.expand_dims(sstd, axis=axis))\n",
      "/jukebox/pkgs/PYGER/0.9.1/lib/python3.7/site-packages/scipy/stats/stats.py:2279: RuntimeWarning: invalid value encountered in true_divide\n",
      "  np.expand_dims(sstd, axis=axis))\n"
     ]
    },
    {
     "name": "stdout",
     "output_type": "stream",
     "text": [
      "...saving right hem.\n",
      "***sub-sid29***\n",
      "    Processing run  sub-sid29_ses-01_task-pathvideo_bold_space-fsaverage6.L.func.gii\n",
      "    Loading  /jukebox/norman/rmasis/MemPal/data/BIDS/Norman/Baldassano/10442_vrpalace/derivatives/fmriprep/sub-sid29/ses-01/func/sub-sid29_ses-01_task-pathvideo_bold_space-fsaverage6.L.func.gii\n",
      "    Extracting confound information from  sub-sid29/ses-01/func/sub-sid29_ses-01_task-pathvideo_bold_confounds.tsv\n",
      "   D[hem] =  (40962, 595)\n",
      "   np dot regrcoef, reg.t:  (40962, 595)\n",
      "   interecept shape:  (40962, 1)\n"
     ]
    },
    {
     "name": "stderr",
     "output_type": "stream",
     "text": [
      "/jukebox/pkgs/PYGER/0.9.1/lib/python3.7/site-packages/scipy/stats/stats.py:2279: RuntimeWarning: divide by zero encountered in true_divide\n",
      "  np.expand_dims(sstd, axis=axis))\n",
      "/jukebox/pkgs/PYGER/0.9.1/lib/python3.7/site-packages/scipy/stats/stats.py:2279: RuntimeWarning: invalid value encountered in true_divide\n",
      "  np.expand_dims(sstd, axis=axis))\n"
     ]
    },
    {
     "name": "stdout",
     "output_type": "stream",
     "text": [
      "   making new directory ../PythonData2024/ProcessedData//sub-sid29/\n",
      "...saving left hem.\n",
      "***sub-sid29***\n",
      "    Processing run  sub-sid29_ses-01_task-pathvideo_bold_space-fsaverage6.R.func.gii\n",
      "    Loading  /jukebox/norman/rmasis/MemPal/data/BIDS/Norman/Baldassano/10442_vrpalace/derivatives/fmriprep/sub-sid29/ses-01/func/sub-sid29_ses-01_task-pathvideo_bold_space-fsaverage6.R.func.gii\n",
      "    Extracting confound information from  sub-sid29/ses-01/func/sub-sid29_ses-01_task-pathvideo_bold_confounds.tsv\n",
      "   D[hem] =  (40962, 595)\n",
      "   np dot regrcoef, reg.t:  (40962, 595)\n",
      "   interecept shape:  (40962, 1)\n"
     ]
    },
    {
     "name": "stderr",
     "output_type": "stream",
     "text": [
      "/jukebox/pkgs/PYGER/0.9.1/lib/python3.7/site-packages/scipy/stats/stats.py:2279: RuntimeWarning: divide by zero encountered in true_divide\n",
      "  np.expand_dims(sstd, axis=axis))\n",
      "/jukebox/pkgs/PYGER/0.9.1/lib/python3.7/site-packages/scipy/stats/stats.py:2279: RuntimeWarning: invalid value encountered in true_divide\n",
      "  np.expand_dims(sstd, axis=axis))\n"
     ]
    },
    {
     "name": "stdout",
     "output_type": "stream",
     "text": [
      "...saving right hem.\n",
      "***sub-sid29***\n",
      "    Processing run  sub-sid29_ses-01_task-roomvideo_run-01_bold_space-fsaverage6.L.func.gii\n",
      "    Loading  /jukebox/norman/rmasis/MemPal/data/BIDS/Norman/Baldassano/10442_vrpalace/derivatives/fmriprep/sub-sid29/ses-01/func/sub-sid29_ses-01_task-roomvideo_run-01_bold_space-fsaverage6.L.func.gii\n",
      "    Extracting confound information from  sub-sid29/ses-01/func/sub-sid29_ses-01_task-roomvideo_run-01_bold_confounds.tsv\n",
      "   D[hem] =  (40962, 235)\n",
      "   np dot regrcoef, reg.t:  (40962, 235)\n",
      "   interecept shape:  (40962, 1)\n"
     ]
    },
    {
     "name": "stderr",
     "output_type": "stream",
     "text": [
      "/jukebox/pkgs/PYGER/0.9.1/lib/python3.7/site-packages/scipy/stats/stats.py:2279: RuntimeWarning: divide by zero encountered in true_divide\n",
      "  np.expand_dims(sstd, axis=axis))\n",
      "/jukebox/pkgs/PYGER/0.9.1/lib/python3.7/site-packages/scipy/stats/stats.py:2279: RuntimeWarning: invalid value encountered in true_divide\n",
      "  np.expand_dims(sstd, axis=axis))\n"
     ]
    },
    {
     "name": "stdout",
     "output_type": "stream",
     "text": [
      "...saving left hem.\n",
      "***sub-sid29***\n",
      "    Processing run  sub-sid29_ses-01_task-roomvideo_run-01_bold_space-fsaverage6.R.func.gii\n",
      "    Loading  /jukebox/norman/rmasis/MemPal/data/BIDS/Norman/Baldassano/10442_vrpalace/derivatives/fmriprep/sub-sid29/ses-01/func/sub-sid29_ses-01_task-roomvideo_run-01_bold_space-fsaverage6.R.func.gii\n",
      "    Extracting confound information from  sub-sid29/ses-01/func/sub-sid29_ses-01_task-roomvideo_run-01_bold_confounds.tsv\n",
      "   D[hem] =  (40962, 235)\n",
      "   np dot regrcoef, reg.t:  (40962, 235)\n",
      "   interecept shape:  (40962, 1)\n"
     ]
    },
    {
     "name": "stderr",
     "output_type": "stream",
     "text": [
      "/jukebox/pkgs/PYGER/0.9.1/lib/python3.7/site-packages/scipy/stats/stats.py:2279: RuntimeWarning: divide by zero encountered in true_divide\n",
      "  np.expand_dims(sstd, axis=axis))\n",
      "/jukebox/pkgs/PYGER/0.9.1/lib/python3.7/site-packages/scipy/stats/stats.py:2279: RuntimeWarning: invalid value encountered in true_divide\n",
      "  np.expand_dims(sstd, axis=axis))\n"
     ]
    },
    {
     "name": "stdout",
     "output_type": "stream",
     "text": [
      "...saving right hem.\n",
      "***sub-sid29***\n",
      "    Processing run  sub-sid29_ses-01_task-roomvideo_run-02_bold_space-fsaverage6.L.func.gii\n",
      "    Loading  /jukebox/norman/rmasis/MemPal/data/BIDS/Norman/Baldassano/10442_vrpalace/derivatives/fmriprep/sub-sid29/ses-01/func/sub-sid29_ses-01_task-roomvideo_run-02_bold_space-fsaverage6.L.func.gii\n",
      "    Extracting confound information from  sub-sid29/ses-01/func/sub-sid29_ses-01_task-roomvideo_run-02_bold_confounds.tsv\n",
      "   D[hem] =  (40962, 235)\n",
      "   np dot regrcoef, reg.t:  (40962, 235)\n",
      "   interecept shape:  (40962, 1)\n"
     ]
    },
    {
     "name": "stderr",
     "output_type": "stream",
     "text": [
      "/jukebox/pkgs/PYGER/0.9.1/lib/python3.7/site-packages/scipy/stats/stats.py:2279: RuntimeWarning: divide by zero encountered in true_divide\n",
      "  np.expand_dims(sstd, axis=axis))\n",
      "/jukebox/pkgs/PYGER/0.9.1/lib/python3.7/site-packages/scipy/stats/stats.py:2279: RuntimeWarning: invalid value encountered in true_divide\n",
      "  np.expand_dims(sstd, axis=axis))\n"
     ]
    },
    {
     "name": "stdout",
     "output_type": "stream",
     "text": [
      "...saving left hem.\n",
      "***sub-sid29***\n",
      "    Processing run  sub-sid29_ses-01_task-roomvideo_run-02_bold_space-fsaverage6.R.func.gii\n",
      "    Loading  /jukebox/norman/rmasis/MemPal/data/BIDS/Norman/Baldassano/10442_vrpalace/derivatives/fmriprep/sub-sid29/ses-01/func/sub-sid29_ses-01_task-roomvideo_run-02_bold_space-fsaverage6.R.func.gii\n",
      "    Extracting confound information from  sub-sid29/ses-01/func/sub-sid29_ses-01_task-roomvideo_run-02_bold_confounds.tsv\n",
      "   D[hem] =  (40962, 235)\n",
      "   np dot regrcoef, reg.t:  (40962, 235)\n",
      "   interecept shape:  (40962, 1)\n"
     ]
    },
    {
     "name": "stderr",
     "output_type": "stream",
     "text": [
      "/jukebox/pkgs/PYGER/0.9.1/lib/python3.7/site-packages/scipy/stats/stats.py:2279: RuntimeWarning: divide by zero encountered in true_divide\n",
      "  np.expand_dims(sstd, axis=axis))\n",
      "/jukebox/pkgs/PYGER/0.9.1/lib/python3.7/site-packages/scipy/stats/stats.py:2279: RuntimeWarning: invalid value encountered in true_divide\n",
      "  np.expand_dims(sstd, axis=axis))\n"
     ]
    },
    {
     "name": "stdout",
     "output_type": "stream",
     "text": [
      "...saving right hem.\n",
      "***sub-sid29***\n",
      "    Processing run  sub-sid29_ses-02_task-pathvideo_bold_space-fsaverage6.L.func.gii\n",
      "    Loading  /jukebox/norman/rmasis/MemPal/data/BIDS/Norman/Baldassano/10442_vrpalace/derivatives/fmriprep/sub-sid29/ses-02/func/sub-sid29_ses-02_task-pathvideo_bold_space-fsaverage6.L.func.gii\n",
      "    Extracting confound information from  sub-sid29/ses-02/func/sub-sid29_ses-02_task-pathvideo_bold_confounds.tsv\n",
      "   D[hem] =  (40962, 595)\n",
      "   np dot regrcoef, reg.t:  (40962, 595)\n",
      "   interecept shape:  (40962, 1)\n"
     ]
    },
    {
     "name": "stderr",
     "output_type": "stream",
     "text": [
      "/jukebox/pkgs/PYGER/0.9.1/lib/python3.7/site-packages/scipy/stats/stats.py:2279: RuntimeWarning: divide by zero encountered in true_divide\n",
      "  np.expand_dims(sstd, axis=axis))\n",
      "/jukebox/pkgs/PYGER/0.9.1/lib/python3.7/site-packages/scipy/stats/stats.py:2279: RuntimeWarning: invalid value encountered in true_divide\n",
      "  np.expand_dims(sstd, axis=axis))\n"
     ]
    },
    {
     "name": "stdout",
     "output_type": "stream",
     "text": [
      "...saving left hem.\n",
      "***sub-sid29***\n",
      "    Processing run  sub-sid29_ses-02_task-pathvideo_bold_space-fsaverage6.R.func.gii\n",
      "    Loading  /jukebox/norman/rmasis/MemPal/data/BIDS/Norman/Baldassano/10442_vrpalace/derivatives/fmriprep/sub-sid29/ses-02/func/sub-sid29_ses-02_task-pathvideo_bold_space-fsaverage6.R.func.gii\n",
      "    Extracting confound information from  sub-sid29/ses-02/func/sub-sid29_ses-02_task-pathvideo_bold_confounds.tsv\n",
      "   D[hem] =  (40962, 595)\n",
      "   np dot regrcoef, reg.t:  (40962, 595)\n",
      "   interecept shape:  (40962, 1)\n"
     ]
    },
    {
     "name": "stderr",
     "output_type": "stream",
     "text": [
      "/jukebox/pkgs/PYGER/0.9.1/lib/python3.7/site-packages/scipy/stats/stats.py:2279: RuntimeWarning: divide by zero encountered in true_divide\n",
      "  np.expand_dims(sstd, axis=axis))\n",
      "/jukebox/pkgs/PYGER/0.9.1/lib/python3.7/site-packages/scipy/stats/stats.py:2279: RuntimeWarning: invalid value encountered in true_divide\n",
      "  np.expand_dims(sstd, axis=axis))\n"
     ]
    },
    {
     "name": "stdout",
     "output_type": "stream",
     "text": [
      "...saving right hem.\n",
      "***sub-sid29***\n",
      "    Processing run  sub-sid29_ses-02_task-recall_bold_space-fsaverage6.L.func.gii\n",
      "    Loading  /jukebox/norman/rmasis/MemPal/data/BIDS/Norman/Baldassano/10442_vrpalace/derivatives/fmriprep/sub-sid29/ses-02/func/sub-sid29_ses-02_task-recall_bold_space-fsaverage6.L.func.gii\n",
      "    Extracting confound information from  sub-sid29/ses-02/func/sub-sid29_ses-02_task-recall_bold_confounds.tsv\n",
      "   D[hem] =  (40962, 3641)\n",
      "   np dot regrcoef, reg.t:  (40962, 3641)\n",
      "   interecept shape:  (40962, 1)\n"
     ]
    },
    {
     "name": "stderr",
     "output_type": "stream",
     "text": [
      "/jukebox/pkgs/PYGER/0.9.1/lib/python3.7/site-packages/scipy/stats/stats.py:2279: RuntimeWarning: divide by zero encountered in true_divide\n",
      "  np.expand_dims(sstd, axis=axis))\n",
      "/jukebox/pkgs/PYGER/0.9.1/lib/python3.7/site-packages/scipy/stats/stats.py:2279: RuntimeWarning: invalid value encountered in true_divide\n",
      "  np.expand_dims(sstd, axis=axis))\n"
     ]
    },
    {
     "name": "stdout",
     "output_type": "stream",
     "text": [
      "...saving left hem.\n",
      "***sub-sid29***\n",
      "    Processing run  sub-sid29_ses-02_task-recall_bold_space-fsaverage6.R.func.gii\n",
      "    Loading  /jukebox/norman/rmasis/MemPal/data/BIDS/Norman/Baldassano/10442_vrpalace/derivatives/fmriprep/sub-sid29/ses-02/func/sub-sid29_ses-02_task-recall_bold_space-fsaverage6.R.func.gii\n",
      "    Extracting confound information from  sub-sid29/ses-02/func/sub-sid29_ses-02_task-recall_bold_confounds.tsv\n",
      "   D[hem] =  (40962, 3641)\n",
      "   np dot regrcoef, reg.t:  (40962, 3641)\n",
      "   interecept shape:  (40962, 1)\n"
     ]
    },
    {
     "name": "stderr",
     "output_type": "stream",
     "text": [
      "/jukebox/pkgs/PYGER/0.9.1/lib/python3.7/site-packages/scipy/stats/stats.py:2279: RuntimeWarning: divide by zero encountered in true_divide\n",
      "  np.expand_dims(sstd, axis=axis))\n",
      "/jukebox/pkgs/PYGER/0.9.1/lib/python3.7/site-packages/scipy/stats/stats.py:2279: RuntimeWarning: invalid value encountered in true_divide\n",
      "  np.expand_dims(sstd, axis=axis))\n"
     ]
    },
    {
     "name": "stdout",
     "output_type": "stream",
     "text": [
      "...saving right hem.\n",
      "***sub-sid29***\n",
      "    Processing run  sub-sid29_ses-02_task-roomobjectvideo_run-01_bold_space-fsaverage6.L.func.gii\n",
      "    Loading  /jukebox/norman/rmasis/MemPal/data/BIDS/Norman/Baldassano/10442_vrpalace/derivatives/fmriprep/sub-sid29/ses-02/func/sub-sid29_ses-02_task-roomobjectvideo_run-01_bold_space-fsaverage6.L.func.gii\n",
      "    Extracting confound information from  sub-sid29/ses-02/func/sub-sid29_ses-02_task-roomobjectvideo_run-01_bold_confounds.tsv\n",
      "   D[hem] =  (40962, 460)\n",
      "   np dot regrcoef, reg.t:  (40962, 460)\n",
      "   interecept shape:  (40962, 1)\n"
     ]
    },
    {
     "name": "stderr",
     "output_type": "stream",
     "text": [
      "/jukebox/pkgs/PYGER/0.9.1/lib/python3.7/site-packages/scipy/stats/stats.py:2279: RuntimeWarning: divide by zero encountered in true_divide\n",
      "  np.expand_dims(sstd, axis=axis))\n",
      "/jukebox/pkgs/PYGER/0.9.1/lib/python3.7/site-packages/scipy/stats/stats.py:2279: RuntimeWarning: invalid value encountered in true_divide\n",
      "  np.expand_dims(sstd, axis=axis))\n"
     ]
    },
    {
     "name": "stdout",
     "output_type": "stream",
     "text": [
      "...saving left hem.\n",
      "***sub-sid29***\n",
      "    Processing run  sub-sid29_ses-02_task-roomobjectvideo_run-01_bold_space-fsaverage6.R.func.gii\n",
      "    Loading  /jukebox/norman/rmasis/MemPal/data/BIDS/Norman/Baldassano/10442_vrpalace/derivatives/fmriprep/sub-sid29/ses-02/func/sub-sid29_ses-02_task-roomobjectvideo_run-01_bold_space-fsaverage6.R.func.gii\n",
      "    Extracting confound information from  sub-sid29/ses-02/func/sub-sid29_ses-02_task-roomobjectvideo_run-01_bold_confounds.tsv\n",
      "   D[hem] =  (40962, 460)\n",
      "   np dot regrcoef, reg.t:  (40962, 460)\n",
      "   interecept shape:  (40962, 1)\n"
     ]
    },
    {
     "name": "stderr",
     "output_type": "stream",
     "text": [
      "/jukebox/pkgs/PYGER/0.9.1/lib/python3.7/site-packages/scipy/stats/stats.py:2279: RuntimeWarning: divide by zero encountered in true_divide\n",
      "  np.expand_dims(sstd, axis=axis))\n",
      "/jukebox/pkgs/PYGER/0.9.1/lib/python3.7/site-packages/scipy/stats/stats.py:2279: RuntimeWarning: invalid value encountered in true_divide\n",
      "  np.expand_dims(sstd, axis=axis))\n"
     ]
    },
    {
     "name": "stdout",
     "output_type": "stream",
     "text": [
      "...saving right hem.\n",
      "***sub-sid29***\n",
      "    Processing run  sub-sid29_ses-02_task-roomobjectvideo_run-02_bold_space-fsaverage6.L.func.gii\n",
      "    Loading  /jukebox/norman/rmasis/MemPal/data/BIDS/Norman/Baldassano/10442_vrpalace/derivatives/fmriprep/sub-sid29/ses-02/func/sub-sid29_ses-02_task-roomobjectvideo_run-02_bold_space-fsaverage6.L.func.gii\n",
      "    Extracting confound information from  sub-sid29/ses-02/func/sub-sid29_ses-02_task-roomobjectvideo_run-02_bold_confounds.tsv\n",
      "   D[hem] =  (40962, 460)\n",
      "   np dot regrcoef, reg.t:  (40962, 460)\n",
      "   interecept shape:  (40962, 1)\n"
     ]
    },
    {
     "name": "stderr",
     "output_type": "stream",
     "text": [
      "/jukebox/pkgs/PYGER/0.9.1/lib/python3.7/site-packages/scipy/stats/stats.py:2279: RuntimeWarning: divide by zero encountered in true_divide\n",
      "  np.expand_dims(sstd, axis=axis))\n",
      "/jukebox/pkgs/PYGER/0.9.1/lib/python3.7/site-packages/scipy/stats/stats.py:2279: RuntimeWarning: invalid value encountered in true_divide\n",
      "  np.expand_dims(sstd, axis=axis))\n"
     ]
    },
    {
     "name": "stdout",
     "output_type": "stream",
     "text": [
      "...saving left hem.\n",
      "***sub-sid29***\n",
      "    Processing run  sub-sid29_ses-02_task-roomobjectvideo_run-02_bold_space-fsaverage6.R.func.gii\n",
      "    Loading  /jukebox/norman/rmasis/MemPal/data/BIDS/Norman/Baldassano/10442_vrpalace/derivatives/fmriprep/sub-sid29/ses-02/func/sub-sid29_ses-02_task-roomobjectvideo_run-02_bold_space-fsaverage6.R.func.gii\n",
      "    Extracting confound information from  sub-sid29/ses-02/func/sub-sid29_ses-02_task-roomobjectvideo_run-02_bold_confounds.tsv\n",
      "   D[hem] =  (40962, 460)\n",
      "   np dot regrcoef, reg.t:  (40962, 460)\n",
      "   interecept shape:  (40962, 1)\n"
     ]
    },
    {
     "name": "stderr",
     "output_type": "stream",
     "text": [
      "/jukebox/pkgs/PYGER/0.9.1/lib/python3.7/site-packages/scipy/stats/stats.py:2279: RuntimeWarning: divide by zero encountered in true_divide\n",
      "  np.expand_dims(sstd, axis=axis))\n",
      "/jukebox/pkgs/PYGER/0.9.1/lib/python3.7/site-packages/scipy/stats/stats.py:2279: RuntimeWarning: invalid value encountered in true_divide\n",
      "  np.expand_dims(sstd, axis=axis))\n"
     ]
    },
    {
     "name": "stdout",
     "output_type": "stream",
     "text": [
      "...saving right hem.\n",
      "Finished cleaning and prepping left and right hemispheres per run.\n"
     ]
    }
   ],
   "source": [
    "#PREPROCESSING (MOTION CORRECTION AND .....)\n",
    "\n",
    "processed_dir = '../PythonData2024/ProcessedData/' ; create_dirs(processed_dir)\n",
    "\n",
    "regs = [] #accumulated regs\n",
    "regrs = []\n",
    "errors = []\n",
    "\n",
    "D = dict()\n",
    "\n",
    "for file,conf,run in zip(fnames, confnames, run_names):\n",
    "    \n",
    "    try: \n",
    "    \n",
    "        print('***{}***'.format(run.split('_')[0]))\n",
    "\n",
    "        print('    Processing run ', file.split('/')[-1])\n",
    "\n",
    "        if 'L.func.gii' in file:\n",
    "            hem = 'L'\n",
    "        elif 'R.func.gii' in file:\n",
    "            hem = 'R'\n",
    "\n",
    "        print('    Loading ', os.path.join(fmriprep_dir , file))\n",
    "        gi = nib.load(os.path.join(fmriprep_dir , file))\n",
    "\n",
    "        D[hem] = np.column_stack([gi.darrays[t].data for t in range(len(gi.darrays))])\n",
    "\n",
    "        # Use regressors for:\n",
    "        # -CSF\n",
    "        # -WhiteMatter\n",
    "        # -FramewiseDisplacement\n",
    "        # -All cosine bases for drift (0.008 Hz = 125s)\n",
    "        # -X, Y, Z and derivatives\n",
    "        # -RotX, RotY, RotZ and derivatives\n",
    "\n",
    "        #confounds\n",
    "        print('    Extracting confound information from ', conf)\n",
    "        conf = np.genfromtxt(os.path.join(fmriprep_dir ,conf), names=True)\n",
    "\n",
    "        #motion correction needs to occur on all 3d axeses\n",
    "        motion = np.column_stack((conf['X'],\n",
    "          conf['Y'],\n",
    "          conf['Z'],\n",
    "          conf['RotX'],\n",
    "          conf['RotY'],\n",
    "          conf['RotZ']))\n",
    "\n",
    "\n",
    "        #regressors list\n",
    "        reg = np.column_stack((conf['CSF'],\n",
    "               conf['WhiteMatter'],\n",
    "               np.nan_to_num(conf['FramewiseDisplacement']),\n",
    "               np.column_stack([conf[k] for k in conf.dtype.names if 'Cosine' in k]),\n",
    "               motion,\n",
    "               np.vstack((np.zeros((1,motion.shape[1])), np.diff(motion, axis=0)))))\n",
    "\n",
    "        regs.append(reg)\n",
    "\n",
    "        #create linear regression object\n",
    "        regr = linear_model.LinearRegression()\n",
    "\n",
    "        regrs.append(regr)\n",
    "\n",
    "        #train with regressors\n",
    "        #reg : 595x26 ; D[hem] : 40962x595 ; D[hem].T : 595x40962 where 595 = n_samples, 26=n_features/explanatory, 40962=n_targets\n",
    "        regr.fit(reg, D[hem].T) \n",
    "\n",
    "        #use coeffs generated from fit\n",
    "        print('   D[hem] = ', np.shape(D[hem]))\n",
    "        print('   np dot regrcoef, reg.t: ', np.shape(np.dot(regr.coef_, reg.T)) )\n",
    "        print('   interecept shape: ', np.shape(regr.intercept_[:, np.newaxis]))\n",
    "\n",
    "        #subtract the nuissance regressors from the data (https://www.sciencedirect.com/science/article/pii/S1053811916307418)\n",
    "        D[hem] = D[hem] - np.dot(regr.coef_, reg.T) - regr.intercept_[:, np.newaxis]\n",
    "\n",
    "        #z-score (center the data) across the timeseries dimension;\n",
    "        D[hem] = stats.zscore(D[hem], axis=1)\n",
    "\n",
    "        subj = file.split('/')[0]\n",
    "        sesh = file.split('/')[1]\n",
    "\n",
    "        #check if we have a subj-specific directory\n",
    "        if os.path.exists(processed_dir + subj):\n",
    "            #print('   ../PythonData/{}/ already exists.'.format(subj))\n",
    "            subj\n",
    "        else:\n",
    "            os.mkdir(processed_dir + subj) #if no directory for this subject, make one!\n",
    "            print('   making new directory {}/{}/'.format(processed_dir,subj))\n",
    "\n",
    "        if hem == 'L': #make sure to manually create subject folders in PythonData or add snippet to check for existence/create\n",
    "            print(\"...saving left hem.\")\n",
    "            with h5py.File(os.path.join(processed_dir,subj, run + '.h5'), 'w') as hf:\n",
    "                hf.create_dataset('L', data=D['L'])\n",
    "        elif hem == 'R':\n",
    "            print(\"...saving right hem.\")\n",
    "            with h5py.File(os.path.join(processed_dir,subj, run + '.h5'), 'a') as hf:\n",
    "                hf.create_dataset('R', data=D['R'])\n",
    "                \n",
    "    except Exception as e: \n",
    "        print('**** ERROR ****')\n",
    "        print('**** ERROR ****')\n",
    "        print('---something happened---')\n",
    "        print(e)\n",
    "        errors.append(e)\n",
    "        print('**** ERROR ****')\n",
    "        print('**** ERROR ****')\n",
    "        \n",
    "\n",
    "\n",
    "\n",
    "print('Finished cleaning and prepping left and right hemispheres per run.')       "
   ]
  },
  {
   "cell_type": "code",
   "execution_count": null,
   "metadata": {},
   "outputs": [],
   "source": []
  }
 ],
 "metadata": {
  "kernelspec": {
   "display_name": "Python 3",
   "language": "python",
   "name": "python3"
  },
  "language_info": {
   "codemirror_mode": {
    "name": "ipython",
    "version": 3
   },
   "file_extension": ".py",
   "mimetype": "text/x-python",
   "name": "python",
   "nbconvert_exporter": "python",
   "pygments_lexer": "ipython3",
   "version": "3.7.9"
  }
 },
 "nbformat": 4,
 "nbformat_minor": 2
}
