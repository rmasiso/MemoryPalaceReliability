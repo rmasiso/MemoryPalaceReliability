{
 "cells": [
  {
   "cell_type": "markdown",
   "metadata": {},
   "source": [
    "# IMPORT\n",
    "\n",
    "\n",
    "1. Import the classification results of classifying post-learning room and object videos\n",
    "2. For each of these, rank their classification performance by z-scoring\n",
    "3. Grab the top 50 searchlights as the top-performing networks\n",
    "    - for ROCN: top 50 searchlights in classifying objects during room videos\n",
    "    - for POCN: top 50 searchlights in classifying objects during object videos"
   ]
  },
  {
   "cell_type": "code",
   "execution_count": 3,
   "metadata": {},
   "outputs": [],
   "source": [
    "\n",
    "import numpy as np\n",
    "import deepdish as dd\n",
    "import os\n",
    "import h5py\n",
    "import pandas as pd\n",
    "from scipy import stats\n",
    "import matplotlib.pyplot as plt\n",
    "from _classification_util import Convert_SourceItem_to_PairedItem_Order\n",
    "from _mempal_util import room_obj_assignments, save_obj, load_obj, subject_ids, nSubj, nItems\n"
   ]
  },
  {
   "cell_type": "code",
   "execution_count": 4,
   "metadata": {},
   "outputs": [],
   "source": [
    "from tqdm import tqdm_notebook\n",
    "from _searchlight_util import *"
   ]
  },
  {
   "cell_type": "markdown",
   "metadata": {},
   "source": [
    "# 0. check that SLs were generated"
   ]
  },
  {
   "cell_type": "code",
   "execution_count": 4,
   "metadata": {},
   "outputs": [
    {
     "name": "stdout",
     "output_type": "stream",
     "text": [
      "20240401002_SL995_hemsboth_betasboth_winsize9_shift4_ClassifyVideos.h5\r\n",
      "20240401002_SL996_hemsboth_betasboth_winsize9_shift4_ClassifyVideos.h5\r\n",
      "20240401002_SL997_hemsboth_betasboth_winsize9_shift4_ClassifyVideos.h5\r\n",
      "20240401002_SL998_hemsboth_betasboth_winsize9_shift4_ClassifyVideos.h5\r\n",
      "20240401002_SL999_hemsboth_betasboth_winsize9_shift4_ClassifyVideos.h5\r\n"
     ]
    }
   ],
   "source": [
    "ls ../PythonData2024/Output/ClassifyVideos_v6/ | tail -5"
   ]
  },
  {
   "cell_type": "code",
   "execution_count": 1,
   "metadata": {},
   "outputs": [],
   "source": [
    "# ls -lt ../PythonData2024/Output/ClassifyVideos"
   ]
  },
  {
   "cell_type": "code",
   "execution_count": 9,
   "metadata": {},
   "outputs": [
    {
     "name": "stderr",
     "output_type": "stream",
     "text": [
      "/jukebox/pkgs/PYGER/base/envs/0.11.0/lib/python3.7/site-packages/ipykernel_launcher.py:5: TqdmDeprecationWarning: This function will be removed in tqdm==5.0.0\n",
      "Please use `tqdm.notebook.tqdm` instead of `tqdm.tqdm_notebook`\n",
      "  \"\"\"\n"
     ]
    },
    {
     "data": {
      "application/vnd.jupyter.widget-view+json": {
       "model_id": "8c755496d7bd43cd925f7f49a3e0eb7c",
       "version_major": 2,
       "version_minor": 0
      },
      "text/plain": [
       "  0%|          | 0/1483 [00:00<?, ?it/s]"
      ]
     },
     "metadata": {},
     "output_type": "display_data"
    },
    {
     "data": {
      "application/vnd.jupyter.widget-view+json": {
       "model_id": "66fe7468dc78463b96fe137f415b7697",
       "version_major": 2,
       "version_minor": 0
      },
      "text/plain": [
       "  0%|          | 0/1483 [00:00<?, ?it/s]"
      ]
     },
     "metadata": {},
     "output_type": "display_data"
    },
    {
     "name": "stdout",
     "output_type": "stream",
     "text": [
      "incomplete files: \n"
     ]
    }
   ],
   "source": [
    "import glob\n",
    "\n",
    "missing = np.zeros((1483))\n",
    "for hem in ['L','R']:\n",
    "    for roi_id in tqdm_notebook(range(len(SLlist[hem]))):\n",
    "        pattern = f\"../PythonData2024/Output/ClassifyVideos_v6/*SL{roi_id:03}*\"\n",
    "        matching_files = glob.glob(pattern)\n",
    "        \n",
    "        if matching_files:\n",
    "            missing[roi_id] = len(matching_files)\n",
    "        else:\n",
    "            missing[roi_id] = 0\n",
    "            \n",
    "            \n",
    "print(\"incomplete files: \")\n",
    "[print(i, end=',') for i in np.where(missing<2)[0]];\n",
    "\n",
    "## if missing / incomplete files, run again (or extend time run time in parallelization)\n"
   ]
  },
  {
   "cell_type": "code",
   "execution_count": null,
   "metadata": {},
   "outputs": [],
   "source": []
  },
  {
   "cell_type": "markdown",
   "metadata": {},
   "source": [
    "# 1. Import Classification Results\n",
    "\n",
    "import the results from using templates to classify post-learning room and object videos"
   ]
  },
  {
   "cell_type": "code",
   "execution_count": 10,
   "metadata": {},
   "outputs": [],
   "source": [
    "betatypes = ['rooms','objects']\n",
    "videotypes = ['rooms','objects']\n",
    "hem_label='both'\n",
    "betatype_label='both'\n",
    "win_size=9\n",
    "shift=4\n",
    "nSubj = 25\n",
    "nItems = 23\n",
    "\n",
    "\n",
    "def GetItemSpecificTimepoints(event_mat):\n",
    "    '''\n",
    "    For an EventMat (nTRs, nItems), get the exact timepoints they talk about the each item in the eventmat.\n",
    "    \n",
    "    Use these timepoints for average the CPs.\n",
    "    \n",
    "    NOTE NOTE NOTE: this gives me OVERALL timepoints for any event, so if they talk about an event more than once non-contiguously,\n",
    "    then, that will get averaged all together. IF I want to get the timepoints separated non-contiguously, I have to write another\n",
    "    function that will do that. This just gives me all the numbers.\n",
    "    \n",
    "    '''\n",
    "    \n",
    "    timepoints = np.where(event_mat==1)[0] # timepoints where events happen\n",
    "    items_in_time = np.where(event_mat==1)[1] # the events/items \n",
    "    \n",
    "    unique_items = np.unique(items_in_time)\n",
    "    \n",
    "    items_and_times_dict = {}\n",
    "    \n",
    "    for item_key in unique_items:\n",
    "        \n",
    "        # where is there timepoints for this event?\n",
    "        items_and_times_dict[item_key] = np.where(event_mat[:,item_key]==1)\n",
    "        \n",
    "    return items_and_times_dict\n",
    "\n",
    "def ImportROV12(date,betatypes,videotypes,measure_list):\n",
    "    roi = 'SL'\n",
    "    \n",
    "    TR_crop = 212\n",
    "    nPerm = 1000\n",
    "\n",
    "    scores = {}\n",
    "\n",
    "\n",
    "    for betatype in tqdm_notebook(betatypes):\n",
    "        scores[betatype] = {}\n",
    "\n",
    "        for videotype in videotypes:\n",
    "            scores[betatype][videotype] = {}\n",
    "\n",
    "            for measuretype in tqdm_notebook(measure_list):\n",
    "                scores[betatype][videotype][measuretype] = {}\n",
    "\n",
    "\n",
    "                for hem in ['L','R']:\n",
    "\n",
    "                    ###\n",
    "                    ### Specific initiation for different array shapes\n",
    "                    ###\n",
    "\n",
    "                    if 'normal' == measuretype or 'current_room' == measuretype or 'prev_room'==measuretype or 'next_room'==measuretype:\n",
    "                        scores[betatype][videotype][measuretype][hem] = np.zeros((len(SLlist[hem]),27, nSubj))\n",
    "\n",
    "                    if 'accuracy' ==measuretype:\n",
    "                        scores[betatype][videotype][measuretype][hem] = np.zeros((len(SLlist[hem]),nSubj,nPerm+1))\n",
    "\n",
    "                    if 'conf_mat' == measuretype:\n",
    "                        scores[betatype][videotype][measuretype][hem] = np.zeros((len(SLlist[hem]),nItems,nItems,nSubj))\n",
    "\n",
    "                    if 'event_mats_all' == measuretype:\n",
    "                        scores[betatype][videotype][measuretype][hem] = np.zeros((TR_crop,nItems,nSubj))\n",
    "\n",
    "                    if 'y_probs' in measuretype:\n",
    "                        scores[betatype][videotype][measuretype][hem] = np.zeros((len(SLlist[hem]),TR_crop,nItems, nSubj))\n",
    "\n",
    "\n",
    "                    ###\n",
    "                    ### Load the saved .h5 files\n",
    "                    ###\n",
    "\n",
    "                    for roi_id in tqdm_notebook(range(len(SLlist[hem]))):\n",
    "\n",
    "                        fname = '{}_{}{:03d}_hems{}_betas{}_winsize{}_shift{}_ClassifyVideos'.format(\n",
    "                        date,\n",
    "                        roi,\n",
    "                        roi_id,\n",
    "                        hem_label,\n",
    "                        betatype_label,\n",
    "                        win_size,\n",
    "                        shift) + '.h5'\n",
    "\n",
    "                        fullpath = os.path.join(dirpath,fname)\n",
    "\n",
    "                        if 'normal' == measuretype or 'current_room' == measuretype or 'prev_room'==measuretype or 'next_room'==measuretype:\n",
    "\n",
    "                            # (27, nSubj, 23 transitions) \n",
    "                            temp = dd.io.load(fullpath,'/{}/{}/{}/{}'.format(betatype,videotype,hem,measuretype))\n",
    "                            temp = np.nanmean(temp,axis=2) #average out the 23 transitions\n",
    "                            scores[betatype][videotype][measuretype][hem][roi_id,] = temp \n",
    "                            \n",
    "                        elif 'event' in measuretype:\n",
    "                            scores[betatype][videotype][measuretype][hem] = dd.io.load(fullpath,'/{}/{}/{}/{}'.format(betatype,videotype,hem,measuretype))\n",
    "                            \n",
    "                        else:\n",
    "                            scores[betatype][videotype][measuretype][hem][roi_id] = dd.io.load(fullpath,'/{}/{}/{}/{}'.format(betatype,videotype,hem,measuretype))\n",
    "\n",
    "    return scores\n",
    "\n",
    "\n",
    "\n",
    "def GetCPsFromROV1or2(scores,ReOrderCPs=False):\n",
    "    '''get CPs from averaging CPs from classifier evidence using event_mat'''\n",
    "    \n",
    "    for betatype in betatypes:\n",
    "        print(\"BETATYPE: \", betatype)\n",
    "\n",
    "        for videotype in videotypes:\n",
    "            print(\"...VIDEOTYPE: \", videotype)\n",
    "\n",
    "            for measuretype in ['CPs']:\n",
    "                scores[betatype][videotype]['CPs'] = {}\n",
    "\n",
    "                for hem in ['L','R']:\n",
    "                    print(\".......HEM: \", hem)\n",
    "                    \n",
    "                    scores[betatype][videotype]['CPs'][hem] = np.full((1483,nItems,nSubj),fill_value=np.nan)\n",
    "\n",
    "                    for si, subj in enumerate(subject_ids):\n",
    "\n",
    "                        ## event_mats --> (1483, 212, 23, 25)\n",
    "                        this_evmat = scores[betatype][videotype]['event_mats_all'][hem][:,:,si] #(212,23,25) --> TR_crop,nItems,nSubj\n",
    "\n",
    "                        ## (1483, 212, 23, 25), index 1 is current, 0 and 2 are past and next respectively\n",
    "                        current_evidence =  scores[betatype][videotype]['y_probs'][hem][:,:,:,si] # (nSLs, nTRs)\n",
    "\n",
    "                        ###\n",
    "                        ### Collect Overall CP Score for Event (not using window)\n",
    "                        ### \n",
    "\n",
    "                        items_and_times_dict = GetItemSpecificTimepoints(this_evmat)\n",
    "                        for item in items_and_times_dict.keys():\n",
    "                            ts = items_and_times_dict[item] # timepoints\n",
    "                            current_cps = current_evidence[:,ts,item] # index the timepoints and the item of interest\n",
    "        #                     print(current_cps.shape)\n",
    "                            scores[betatype][videotype]['CPs'][hem][:,item,si] = np.nanmean(np.nanmean(current_cps,1),1) #these cps are not ordered by subj assignment.\n",
    "\n",
    "                ####\n",
    "                #### RE-ORDER object CPs to the room -> object pairing for each subject\n",
    "                ####\n",
    "                \n",
    "                ## this isn't used at all. masks are made from accuracy results.\n",
    "                # -- this code block may contain a bug  in indexing (new_item_order) #20251020\n",
    "                if ReOrderCPs == True:\n",
    "                    scores[betatype][videotype]['CPs_bySubj'] = {'L':[],'R':[]}\n",
    "                    reordered_cp_hem = {'L':[],'R':[]}\n",
    "                    \n",
    "                    cp_hem_L = scores[betatype][videotype]['CPs']['L']\n",
    "                    cp_hem_R = scores[betatype][videotype]['CPs']['R']\n",
    "                    \n",
    "                    print(cp_hem_L.shape)\n",
    "                                        \n",
    "                    reordered_cp_hem['L'] =  np.full((len(SLlist['L']),nItems,nSubj), fill_value=np.nan)\n",
    "                    reordered_cp_hem['R'] =  np.full((len(SLlist['R']),nItems,nSubj), fill_value=np.nan)\n",
    "    \n",
    "                    item_order = np.arange(nItems)\n",
    "                    for si, subj in enumerate(subject_ids):\n",
    "\n",
    "                        if betatype == 'rooms':\n",
    "                            #no need to re-order\n",
    "                            print(\"no need to re-order \", end=',')\n",
    "\n",
    "                            new_item_order = item_order\n",
    "\n",
    "                        elif betatype == 'objects':\n",
    "\n",
    "                            # need to re-order so that object index is equal to room index per subject\n",
    "                            new_item_order = Convert_SourceItem_to_PairedItem_Order(subj,item_order,room_obj_assignments,fromItem='objidx',toItem='roomidx')\n",
    "\n",
    "                        reordered_cp_hem['L'][:,:,si] = cp_hem_L[:,new_item_order,si] # for getting ordered cps but per hemisphere\n",
    "                        reordered_cp_hem['R'][:,:,si] = cp_hem_R[:,new_item_order,si] # for getting ordered cps but per hemisphere\n",
    "\n",
    "                    scores[betatype][videotype]['CPs_bySubj']['L'] = reordered_cp_hem['L']\n",
    "                    scores[betatype][videotype]['CPs_bySubj']['R'] = reordered_cp_hem['R']\n",
    "    \n",
    "    return scores\n"
   ]
  },
  {
   "cell_type": "code",
   "execution_count": null,
   "metadata": {},
   "outputs": [],
   "source": []
  },
  {
   "cell_type": "code",
   "execution_count": null,
   "metadata": {},
   "outputs": [],
   "source": []
  },
  {
   "cell_type": "code",
   "execution_count": 11,
   "metadata": {},
   "outputs": [],
   "source": [
    "betatypes = ['objects', 'rooms']\n",
    "videotypes = ['rooms', 'objects'] \n",
    "\n",
    "# betatypes = ['objects']\n",
    "# videotypes = ['objects'] \n",
    "\n",
    "measure_list = [\n",
    "    #     'normal', #PCN (9*3,25)\n",
    "        'current_room', #PCN (9*3,25)\n",
    "    #     'next_room',#PCN (9*3,25)\n",
    "    #     'prev_room',#PCN (9*3,25)\n",
    "        'event_mats_all',\n",
    "#         'cp_results', # (212,3,25)\n",
    "    #     'y_correct_probs', # (212, 25) # dont need it, because it's just cp_results and its probably empty!\n",
    "#         'event_mats_all', #(212,23,25)\n",
    "        'accuracy', # (25,nPerm+1)\n",
    "    #     'conf_mat'# (23,23,25)\n",
    "        'y_probs'\n",
    "        ] \n",
    "\n",
    "# measure_list = [\n",
    "# #         'event_mats_all',\n",
    "#         'accuracy', # (25,nPerm+1)\n",
    "# #         'y_probs'\n",
    "#         ] \n",
    "\n",
    "\n",
    "dirpath = '../PythonData2024/Output/ClassifyVideos'\n",
    "\n",
    "dirpath = '../PythonData2024/Output/ClassifyVideos_v6'\n",
    "\n",
    "\n"
   ]
  },
  {
   "cell_type": "code",
   "execution_count": 12,
   "metadata": {
    "scrolled": true
   },
   "outputs": [
    {
     "name": "stderr",
     "output_type": "stream",
     "text": [
      "/jukebox/pkgs/PYGER/base/envs/0.11.0/lib/python3.7/site-packages/ipykernel_launcher.py:46: TqdmDeprecationWarning: This function will be removed in tqdm==5.0.0\n",
      "Please use `tqdm.notebook.tqdm` instead of `tqdm.tqdm_notebook`\n"
     ]
    },
    {
     "data": {
      "application/vnd.jupyter.widget-view+json": {
       "model_id": "a15519c4b6414f65a8904b113a211934",
       "version_major": 2,
       "version_minor": 0
      },
      "text/plain": [
       "  0%|          | 0/2 [00:00<?, ?it/s]"
      ]
     },
     "metadata": {},
     "output_type": "display_data"
    },
    {
     "name": "stderr",
     "output_type": "stream",
     "text": [
      "/jukebox/pkgs/PYGER/base/envs/0.11.0/lib/python3.7/site-packages/ipykernel_launcher.py:52: TqdmDeprecationWarning: This function will be removed in tqdm==5.0.0\n",
      "Please use `tqdm.notebook.tqdm` instead of `tqdm.tqdm_notebook`\n"
     ]
    },
    {
     "data": {
      "application/vnd.jupyter.widget-view+json": {
       "model_id": "913c7dc526034369a3c313c3bddbe474",
       "version_major": 2,
       "version_minor": 0
      },
      "text/plain": [
       "  0%|          | 0/4 [00:00<?, ?it/s]"
      ]
     },
     "metadata": {},
     "output_type": "display_data"
    },
    {
     "name": "stderr",
     "output_type": "stream",
     "text": [
      "/jukebox/pkgs/PYGER/base/envs/0.11.0/lib/python3.7/site-packages/ipykernel_launcher.py:82: TqdmDeprecationWarning: This function will be removed in tqdm==5.0.0\n",
      "Please use `tqdm.notebook.tqdm` instead of `tqdm.tqdm_notebook`\n"
     ]
    },
    {
     "data": {
      "application/vnd.jupyter.widget-view+json": {
       "model_id": "d5a9314f1a0e4230aa4f103d93d8183a",
       "version_major": 2,
       "version_minor": 0
      },
      "text/plain": [
       "  0%|          | 0/1483 [00:00<?, ?it/s]"
      ]
     },
     "metadata": {},
     "output_type": "display_data"
    },
    {
     "data": {
      "application/vnd.jupyter.widget-view+json": {
       "model_id": "3f7de532030e4205ae29ced086a53a9c",
       "version_major": 2,
       "version_minor": 0
      },
      "text/plain": [
       "  0%|          | 0/1483 [00:00<?, ?it/s]"
      ]
     },
     "metadata": {},
     "output_type": "display_data"
    },
    {
     "data": {
      "application/vnd.jupyter.widget-view+json": {
       "model_id": "eac2c567c5e143a09e48a234397187de",
       "version_major": 2,
       "version_minor": 0
      },
      "text/plain": [
       "  0%|          | 0/1483 [00:00<?, ?it/s]"
      ]
     },
     "metadata": {},
     "output_type": "display_data"
    },
    {
     "data": {
      "application/vnd.jupyter.widget-view+json": {
       "model_id": "e6944001b2fc407e8303bdfc05b258c0",
       "version_major": 2,
       "version_minor": 0
      },
      "text/plain": [
       "  0%|          | 0/1483 [00:00<?, ?it/s]"
      ]
     },
     "metadata": {},
     "output_type": "display_data"
    },
    {
     "data": {
      "application/vnd.jupyter.widget-view+json": {
       "model_id": "fa3e53ac68a14796ad7def2a066c3f8b",
       "version_major": 2,
       "version_minor": 0
      },
      "text/plain": [
       "  0%|          | 0/1483 [00:00<?, ?it/s]"
      ]
     },
     "metadata": {},
     "output_type": "display_data"
    },
    {
     "data": {
      "application/vnd.jupyter.widget-view+json": {
       "model_id": "f1ab962cb92c41908814cd587787cc23",
       "version_major": 2,
       "version_minor": 0
      },
      "text/plain": [
       "  0%|          | 0/1483 [00:00<?, ?it/s]"
      ]
     },
     "metadata": {},
     "output_type": "display_data"
    },
    {
     "data": {
      "application/vnd.jupyter.widget-view+json": {
       "model_id": "5d613a53d55b4e0b8dd27e7b99233c31",
       "version_major": 2,
       "version_minor": 0
      },
      "text/plain": [
       "  0%|          | 0/1483 [00:00<?, ?it/s]"
      ]
     },
     "metadata": {},
     "output_type": "display_data"
    },
    {
     "data": {
      "application/vnd.jupyter.widget-view+json": {
       "model_id": "f51935945b18464a826123e0a884e606",
       "version_major": 2,
       "version_minor": 0
      },
      "text/plain": [
       "  0%|          | 0/1483 [00:00<?, ?it/s]"
      ]
     },
     "metadata": {},
     "output_type": "display_data"
    },
    {
     "data": {
      "application/vnd.jupyter.widget-view+json": {
       "model_id": "43875af3f2284a43a5a4b4e4e8ad3fc6",
       "version_major": 2,
       "version_minor": 0
      },
      "text/plain": [
       "  0%|          | 0/4 [00:00<?, ?it/s]"
      ]
     },
     "metadata": {},
     "output_type": "display_data"
    },
    {
     "data": {
      "application/vnd.jupyter.widget-view+json": {
       "model_id": "f301ba0447b64775a5bee57f7eaaa7d2",
       "version_major": 2,
       "version_minor": 0
      },
      "text/plain": [
       "  0%|          | 0/1483 [00:00<?, ?it/s]"
      ]
     },
     "metadata": {},
     "output_type": "display_data"
    },
    {
     "data": {
      "application/vnd.jupyter.widget-view+json": {
       "model_id": "67db712a47b44dceb1d306baf3bd198f",
       "version_major": 2,
       "version_minor": 0
      },
      "text/plain": [
       "  0%|          | 0/1483 [00:00<?, ?it/s]"
      ]
     },
     "metadata": {},
     "output_type": "display_data"
    },
    {
     "data": {
      "application/vnd.jupyter.widget-view+json": {
       "model_id": "6d21309f0b7f4709888ec911ba039afc",
       "version_major": 2,
       "version_minor": 0
      },
      "text/plain": [
       "  0%|          | 0/1483 [00:00<?, ?it/s]"
      ]
     },
     "metadata": {},
     "output_type": "display_data"
    },
    {
     "data": {
      "application/vnd.jupyter.widget-view+json": {
       "model_id": "30c7145754284cac8ae20ee74f2bc246",
       "version_major": 2,
       "version_minor": 0
      },
      "text/plain": [
       "  0%|          | 0/1483 [00:00<?, ?it/s]"
      ]
     },
     "metadata": {},
     "output_type": "display_data"
    },
    {
     "data": {
      "application/vnd.jupyter.widget-view+json": {
       "model_id": "8aa8291b36ce4b40812957e5ad0fba32",
       "version_major": 2,
       "version_minor": 0
      },
      "text/plain": [
       "  0%|          | 0/1483 [00:00<?, ?it/s]"
      ]
     },
     "metadata": {},
     "output_type": "display_data"
    },
    {
     "data": {
      "application/vnd.jupyter.widget-view+json": {
       "model_id": "1fd3e299584e49018a066934d14bff03",
       "version_major": 2,
       "version_minor": 0
      },
      "text/plain": [
       "  0%|          | 0/1483 [00:00<?, ?it/s]"
      ]
     },
     "metadata": {},
     "output_type": "display_data"
    },
    {
     "data": {
      "application/vnd.jupyter.widget-view+json": {
       "model_id": "be753db0240b456aaf69ae08cf870628",
       "version_major": 2,
       "version_minor": 0
      },
      "text/plain": [
       "  0%|          | 0/1483 [00:00<?, ?it/s]"
      ]
     },
     "metadata": {},
     "output_type": "display_data"
    },
    {
     "data": {
      "application/vnd.jupyter.widget-view+json": {
       "model_id": "5b5daf07308442eea863336293478365",
       "version_major": 2,
       "version_minor": 0
      },
      "text/plain": [
       "  0%|          | 0/1483 [00:00<?, ?it/s]"
      ]
     },
     "metadata": {},
     "output_type": "display_data"
    },
    {
     "data": {
      "application/vnd.jupyter.widget-view+json": {
       "model_id": "02a784d658b544fa8657d0d909b9ec68",
       "version_major": 2,
       "version_minor": 0
      },
      "text/plain": [
       "  0%|          | 0/4 [00:00<?, ?it/s]"
      ]
     },
     "metadata": {},
     "output_type": "display_data"
    },
    {
     "data": {
      "application/vnd.jupyter.widget-view+json": {
       "model_id": "1cb3543862254ccc95cb1d282139e135",
       "version_major": 2,
       "version_minor": 0
      },
      "text/plain": [
       "  0%|          | 0/1483 [00:00<?, ?it/s]"
      ]
     },
     "metadata": {},
     "output_type": "display_data"
    },
    {
     "data": {
      "application/vnd.jupyter.widget-view+json": {
       "model_id": "770c1e6ce7174f01842ce03af7d89fc4",
       "version_major": 2,
       "version_minor": 0
      },
      "text/plain": [
       "  0%|          | 0/1483 [00:00<?, ?it/s]"
      ]
     },
     "metadata": {},
     "output_type": "display_data"
    },
    {
     "data": {
      "application/vnd.jupyter.widget-view+json": {
       "model_id": "a820a0c030064666bffc318b901ee9ef",
       "version_major": 2,
       "version_minor": 0
      },
      "text/plain": [
       "  0%|          | 0/1483 [00:00<?, ?it/s]"
      ]
     },
     "metadata": {},
     "output_type": "display_data"
    },
    {
     "data": {
      "application/vnd.jupyter.widget-view+json": {
       "model_id": "ac09ed53d4824e079460dba0b3304d9c",
       "version_major": 2,
       "version_minor": 0
      },
      "text/plain": [
       "  0%|          | 0/1483 [00:00<?, ?it/s]"
      ]
     },
     "metadata": {},
     "output_type": "display_data"
    },
    {
     "data": {
      "application/vnd.jupyter.widget-view+json": {
       "model_id": "1dd237f884444a659f4a8ec0bc0414f2",
       "version_major": 2,
       "version_minor": 0
      },
      "text/plain": [
       "  0%|          | 0/1483 [00:00<?, ?it/s]"
      ]
     },
     "metadata": {},
     "output_type": "display_data"
    },
    {
     "data": {
      "application/vnd.jupyter.widget-view+json": {
       "model_id": "77964377947f467596619acb3ebe9b22",
       "version_major": 2,
       "version_minor": 0
      },
      "text/plain": [
       "  0%|          | 0/1483 [00:00<?, ?it/s]"
      ]
     },
     "metadata": {},
     "output_type": "display_data"
    },
    {
     "data": {
      "application/vnd.jupyter.widget-view+json": {
       "model_id": "d964a0bd60d24fe68c51e4a29e97e1ee",
       "version_major": 2,
       "version_minor": 0
      },
      "text/plain": [
       "  0%|          | 0/1483 [00:00<?, ?it/s]"
      ]
     },
     "metadata": {},
     "output_type": "display_data"
    },
    {
     "data": {
      "application/vnd.jupyter.widget-view+json": {
       "model_id": "c1eb961663764bad8c76f8189fb1769e",
       "version_major": 2,
       "version_minor": 0
      },
      "text/plain": [
       "  0%|          | 0/1483 [00:00<?, ?it/s]"
      ]
     },
     "metadata": {},
     "output_type": "display_data"
    },
    {
     "data": {
      "application/vnd.jupyter.widget-view+json": {
       "model_id": "150205210f85475cbb9aca72ea669df7",
       "version_major": 2,
       "version_minor": 0
      },
      "text/plain": [
       "  0%|          | 0/4 [00:00<?, ?it/s]"
      ]
     },
     "metadata": {},
     "output_type": "display_data"
    },
    {
     "data": {
      "application/vnd.jupyter.widget-view+json": {
       "model_id": "9a2212eced5540b8ac0ef44b615abc63",
       "version_major": 2,
       "version_minor": 0
      },
      "text/plain": [
       "  0%|          | 0/1483 [00:00<?, ?it/s]"
      ]
     },
     "metadata": {},
     "output_type": "display_data"
    },
    {
     "data": {
      "application/vnd.jupyter.widget-view+json": {
       "model_id": "3b027a24d7334135bcf9fbe953f0e95b",
       "version_major": 2,
       "version_minor": 0
      },
      "text/plain": [
       "  0%|          | 0/1483 [00:00<?, ?it/s]"
      ]
     },
     "metadata": {},
     "output_type": "display_data"
    },
    {
     "data": {
      "application/vnd.jupyter.widget-view+json": {
       "model_id": "21c889b3eb704dffb5522b259fb6d237",
       "version_major": 2,
       "version_minor": 0
      },
      "text/plain": [
       "  0%|          | 0/1483 [00:00<?, ?it/s]"
      ]
     },
     "metadata": {},
     "output_type": "display_data"
    },
    {
     "data": {
      "application/vnd.jupyter.widget-view+json": {
       "model_id": "db0c01d8628c4483a85c9560d1ffe388",
       "version_major": 2,
       "version_minor": 0
      },
      "text/plain": [
       "  0%|          | 0/1483 [00:00<?, ?it/s]"
      ]
     },
     "metadata": {},
     "output_type": "display_data"
    },
    {
     "data": {
      "application/vnd.jupyter.widget-view+json": {
       "model_id": "821d7c35950a440e8c4b237d2c47c824",
       "version_major": 2,
       "version_minor": 0
      },
      "text/plain": [
       "  0%|          | 0/1483 [00:00<?, ?it/s]"
      ]
     },
     "metadata": {},
     "output_type": "display_data"
    },
    {
     "data": {
      "application/vnd.jupyter.widget-view+json": {
       "model_id": "1b2c9bab8f8847179734de59aa665a96",
       "version_major": 2,
       "version_minor": 0
      },
      "text/plain": [
       "  0%|          | 0/1483 [00:00<?, ?it/s]"
      ]
     },
     "metadata": {},
     "output_type": "display_data"
    },
    {
     "data": {
      "application/vnd.jupyter.widget-view+json": {
       "model_id": "a7960dc528314c01b365a2a2bf07c368",
       "version_major": 2,
       "version_minor": 0
      },
      "text/plain": [
       "  0%|          | 0/1483 [00:00<?, ?it/s]"
      ]
     },
     "metadata": {},
     "output_type": "display_data"
    },
    {
     "data": {
      "application/vnd.jupyter.widget-view+json": {
       "model_id": "5530625d0b3c456d8e1334ebbf4eeb8a",
       "version_major": 2,
       "version_minor": 0
      },
      "text/plain": [
       "  0%|          | 0/1483 [00:00<?, ?it/s]"
      ]
     },
     "metadata": {},
     "output_type": "display_data"
    },
    {
     "name": "stdout",
     "output_type": "stream",
     "text": [
      "BETATYPE:  objects\n",
      "...VIDEOTYPE:  rooms\n",
      ".......HEM:  L\n",
      ".......HEM:  R\n",
      "(1483, 23, 25)\n",
      "...VIDEOTYPE:  objects\n",
      ".......HEM:  L\n",
      ".......HEM:  R\n",
      "(1483, 23, 25)\n",
      "BETATYPE:  rooms\n",
      "...VIDEOTYPE:  rooms\n",
      ".......HEM:  L\n",
      ".......HEM:  R\n",
      "(1483, 23, 25)\n",
      "no need to re-order ,no need to re-order ,no need to re-order ,no need to re-order ,no need to re-order ,no need to re-order ,no need to re-order ,no need to re-order ,no need to re-order ,no need to re-order ,no need to re-order ,no need to re-order ,no need to re-order ,no need to re-order ,no need to re-order ,no need to re-order ,no need to re-order ,no need to re-order ,no need to re-order ,no need to re-order ,no need to re-order ,no need to re-order ,no need to re-order ,no need to re-order ,no need to re-order ,...VIDEOTYPE:  objects\n",
      ".......HEM:  L\n",
      ".......HEM:  R\n",
      "(1483, 23, 25)\n",
      "no need to re-order ,no need to re-order ,no need to re-order ,no need to re-order ,no need to re-order ,no need to re-order ,no need to re-order ,no need to re-order ,no need to re-order ,no need to re-order ,no need to re-order ,no need to re-order ,no need to re-order ,no need to re-order ,no need to re-order ,no need to re-order ,no need to re-order ,no need to re-order ,no need to re-order ,no need to re-order ,no need to re-order ,no need to re-order ,no need to re-order ,no need to re-order ,no need to re-order ,"
     ]
    }
   ],
   "source": [
    "##### ROV1\n",
    "########################\n",
    "\n",
    "\n",
    "date = 20240401001 #for ROV1; task_id = 1 \n",
    "ROV1_scores = ImportROV12(date,betatypes,videotypes,measure_list)\n",
    "# ROV1_scores = GetCPsFromROV1or2(ROV1_scores,ReOrderCPs=True)\n",
    "# ROV1_scores = GetCPsFromROV1or2(ROV1_scores,ReOrderCPs=False)\n",
    "\n"
   ]
  },
  {
   "cell_type": "code",
   "execution_count": 13,
   "metadata": {},
   "outputs": [
    {
     "name": "stderr",
     "output_type": "stream",
     "text": [
      "/jukebox/pkgs/PYGER/base/envs/0.11.0/lib/python3.7/site-packages/ipykernel_launcher.py:46: TqdmDeprecationWarning: This function will be removed in tqdm==5.0.0\n",
      "Please use `tqdm.notebook.tqdm` instead of `tqdm.tqdm_notebook`\n"
     ]
    },
    {
     "data": {
      "application/vnd.jupyter.widget-view+json": {
       "model_id": "e0a8c0def27543e48aef988fc29be462",
       "version_major": 2,
       "version_minor": 0
      },
      "text/plain": [
       "  0%|          | 0/2 [00:00<?, ?it/s]"
      ]
     },
     "metadata": {},
     "output_type": "display_data"
    },
    {
     "name": "stderr",
     "output_type": "stream",
     "text": [
      "/jukebox/pkgs/PYGER/base/envs/0.11.0/lib/python3.7/site-packages/ipykernel_launcher.py:52: TqdmDeprecationWarning: This function will be removed in tqdm==5.0.0\n",
      "Please use `tqdm.notebook.tqdm` instead of `tqdm.tqdm_notebook`\n"
     ]
    },
    {
     "data": {
      "application/vnd.jupyter.widget-view+json": {
       "model_id": "391691743da84dcbb24bca9f7f61e423",
       "version_major": 2,
       "version_minor": 0
      },
      "text/plain": [
       "  0%|          | 0/4 [00:00<?, ?it/s]"
      ]
     },
     "metadata": {},
     "output_type": "display_data"
    },
    {
     "name": "stderr",
     "output_type": "stream",
     "text": [
      "/jukebox/pkgs/PYGER/base/envs/0.11.0/lib/python3.7/site-packages/ipykernel_launcher.py:82: TqdmDeprecationWarning: This function will be removed in tqdm==5.0.0\n",
      "Please use `tqdm.notebook.tqdm` instead of `tqdm.tqdm_notebook`\n"
     ]
    },
    {
     "data": {
      "application/vnd.jupyter.widget-view+json": {
       "model_id": "3e2789af8d6b4951bcb048299e149313",
       "version_major": 2,
       "version_minor": 0
      },
      "text/plain": [
       "  0%|          | 0/1483 [00:00<?, ?it/s]"
      ]
     },
     "metadata": {},
     "output_type": "display_data"
    },
    {
     "data": {
      "application/vnd.jupyter.widget-view+json": {
       "model_id": "f61cf18d49054e3b91e359d914946c1e",
       "version_major": 2,
       "version_minor": 0
      },
      "text/plain": [
       "  0%|          | 0/1483 [00:00<?, ?it/s]"
      ]
     },
     "metadata": {},
     "output_type": "display_data"
    },
    {
     "data": {
      "application/vnd.jupyter.widget-view+json": {
       "model_id": "23da2ea05fe947aeb1a62197f5ecbc03",
       "version_major": 2,
       "version_minor": 0
      },
      "text/plain": [
       "  0%|          | 0/1483 [00:00<?, ?it/s]"
      ]
     },
     "metadata": {},
     "output_type": "display_data"
    },
    {
     "data": {
      "application/vnd.jupyter.widget-view+json": {
       "model_id": "9da04626139e49a78956b7440ffd09a3",
       "version_major": 2,
       "version_minor": 0
      },
      "text/plain": [
       "  0%|          | 0/1483 [00:00<?, ?it/s]"
      ]
     },
     "metadata": {},
     "output_type": "display_data"
    },
    {
     "data": {
      "application/vnd.jupyter.widget-view+json": {
       "model_id": "d9df2c61aa6540e7a5552094dcfe838d",
       "version_major": 2,
       "version_minor": 0
      },
      "text/plain": [
       "  0%|          | 0/1483 [00:00<?, ?it/s]"
      ]
     },
     "metadata": {},
     "output_type": "display_data"
    },
    {
     "data": {
      "application/vnd.jupyter.widget-view+json": {
       "model_id": "1da587d3b15b4ec99dd5cb0e3a17382a",
       "version_major": 2,
       "version_minor": 0
      },
      "text/plain": [
       "  0%|          | 0/1483 [00:00<?, ?it/s]"
      ]
     },
     "metadata": {},
     "output_type": "display_data"
    },
    {
     "data": {
      "application/vnd.jupyter.widget-view+json": {
       "model_id": "fb07e2c136884347ad31c4eca88d012a",
       "version_major": 2,
       "version_minor": 0
      },
      "text/plain": [
       "  0%|          | 0/1483 [00:00<?, ?it/s]"
      ]
     },
     "metadata": {},
     "output_type": "display_data"
    },
    {
     "data": {
      "application/vnd.jupyter.widget-view+json": {
       "model_id": "e496508cd1bc4c71a4a7bec6a6fb636b",
       "version_major": 2,
       "version_minor": 0
      },
      "text/plain": [
       "  0%|          | 0/1483 [00:00<?, ?it/s]"
      ]
     },
     "metadata": {},
     "output_type": "display_data"
    },
    {
     "data": {
      "application/vnd.jupyter.widget-view+json": {
       "model_id": "a8a6dc3bb7ef4303937d2ef01f750c3d",
       "version_major": 2,
       "version_minor": 0
      },
      "text/plain": [
       "  0%|          | 0/4 [00:00<?, ?it/s]"
      ]
     },
     "metadata": {},
     "output_type": "display_data"
    },
    {
     "data": {
      "application/vnd.jupyter.widget-view+json": {
       "model_id": "327345a5ba7b4c5290defb5775b929ba",
       "version_major": 2,
       "version_minor": 0
      },
      "text/plain": [
       "  0%|          | 0/1483 [00:00<?, ?it/s]"
      ]
     },
     "metadata": {},
     "output_type": "display_data"
    },
    {
     "data": {
      "application/vnd.jupyter.widget-view+json": {
       "model_id": "6146e68cee90440a9046810e8be110c1",
       "version_major": 2,
       "version_minor": 0
      },
      "text/plain": [
       "  0%|          | 0/1483 [00:00<?, ?it/s]"
      ]
     },
     "metadata": {},
     "output_type": "display_data"
    },
    {
     "data": {
      "application/vnd.jupyter.widget-view+json": {
       "model_id": "7ea32b04f9c844588d4e23f467145029",
       "version_major": 2,
       "version_minor": 0
      },
      "text/plain": [
       "  0%|          | 0/1483 [00:00<?, ?it/s]"
      ]
     },
     "metadata": {},
     "output_type": "display_data"
    },
    {
     "data": {
      "application/vnd.jupyter.widget-view+json": {
       "model_id": "97658f3525094674be27c1e367c09657",
       "version_major": 2,
       "version_minor": 0
      },
      "text/plain": [
       "  0%|          | 0/1483 [00:00<?, ?it/s]"
      ]
     },
     "metadata": {},
     "output_type": "display_data"
    },
    {
     "data": {
      "application/vnd.jupyter.widget-view+json": {
       "model_id": "3b5fd86623cd425abf3444c38dae42d2",
       "version_major": 2,
       "version_minor": 0
      },
      "text/plain": [
       "  0%|          | 0/1483 [00:00<?, ?it/s]"
      ]
     },
     "metadata": {},
     "output_type": "display_data"
    },
    {
     "data": {
      "application/vnd.jupyter.widget-view+json": {
       "model_id": "26fb5f3c5c9046bdbbf51ee49a277ac9",
       "version_major": 2,
       "version_minor": 0
      },
      "text/plain": [
       "  0%|          | 0/1483 [00:00<?, ?it/s]"
      ]
     },
     "metadata": {},
     "output_type": "display_data"
    },
    {
     "data": {
      "application/vnd.jupyter.widget-view+json": {
       "model_id": "f625240ae5544f1d9a208e60dc6c6cf2",
       "version_major": 2,
       "version_minor": 0
      },
      "text/plain": [
       "  0%|          | 0/1483 [00:00<?, ?it/s]"
      ]
     },
     "metadata": {},
     "output_type": "display_data"
    },
    {
     "data": {
      "application/vnd.jupyter.widget-view+json": {
       "model_id": "24f53e7460be40ef9d3af7038406116b",
       "version_major": 2,
       "version_minor": 0
      },
      "text/plain": [
       "  0%|          | 0/1483 [00:00<?, ?it/s]"
      ]
     },
     "metadata": {},
     "output_type": "display_data"
    },
    {
     "data": {
      "application/vnd.jupyter.widget-view+json": {
       "model_id": "8dcbe9a85f864337bf51d0a277edbb1e",
       "version_major": 2,
       "version_minor": 0
      },
      "text/plain": [
       "  0%|          | 0/4 [00:00<?, ?it/s]"
      ]
     },
     "metadata": {},
     "output_type": "display_data"
    },
    {
     "data": {
      "application/vnd.jupyter.widget-view+json": {
       "model_id": "e60b3e8fc32041d7af93a4afa4931227",
       "version_major": 2,
       "version_minor": 0
      },
      "text/plain": [
       "  0%|          | 0/1483 [00:00<?, ?it/s]"
      ]
     },
     "metadata": {},
     "output_type": "display_data"
    },
    {
     "data": {
      "application/vnd.jupyter.widget-view+json": {
       "model_id": "022de9886d8f449faac07509f11864c6",
       "version_major": 2,
       "version_minor": 0
      },
      "text/plain": [
       "  0%|          | 0/1483 [00:00<?, ?it/s]"
      ]
     },
     "metadata": {},
     "output_type": "display_data"
    },
    {
     "data": {
      "application/vnd.jupyter.widget-view+json": {
       "model_id": "ed83f1814c5b4be7bbab40329b84d33d",
       "version_major": 2,
       "version_minor": 0
      },
      "text/plain": [
       "  0%|          | 0/1483 [00:00<?, ?it/s]"
      ]
     },
     "metadata": {},
     "output_type": "display_data"
    },
    {
     "data": {
      "application/vnd.jupyter.widget-view+json": {
       "model_id": "7fa535c382fd45ec97ffcb6ec4acb339",
       "version_major": 2,
       "version_minor": 0
      },
      "text/plain": [
       "  0%|          | 0/1483 [00:00<?, ?it/s]"
      ]
     },
     "metadata": {},
     "output_type": "display_data"
    },
    {
     "data": {
      "application/vnd.jupyter.widget-view+json": {
       "model_id": "1022ee18d99f435aabf6c81f34ba6df7",
       "version_major": 2,
       "version_minor": 0
      },
      "text/plain": [
       "  0%|          | 0/1483 [00:00<?, ?it/s]"
      ]
     },
     "metadata": {},
     "output_type": "display_data"
    },
    {
     "data": {
      "application/vnd.jupyter.widget-view+json": {
       "model_id": "ea1bb11515fc45a5b3afa86d41d75393",
       "version_major": 2,
       "version_minor": 0
      },
      "text/plain": [
       "  0%|          | 0/1483 [00:00<?, ?it/s]"
      ]
     },
     "metadata": {},
     "output_type": "display_data"
    },
    {
     "data": {
      "application/vnd.jupyter.widget-view+json": {
       "model_id": "76971bbf8cd54032a22fe5392e208511",
       "version_major": 2,
       "version_minor": 0
      },
      "text/plain": [
       "  0%|          | 0/1483 [00:00<?, ?it/s]"
      ]
     },
     "metadata": {},
     "output_type": "display_data"
    },
    {
     "data": {
      "application/vnd.jupyter.widget-view+json": {
       "model_id": "4cd3184f61ae439188463914309c702a",
       "version_major": 2,
       "version_minor": 0
      },
      "text/plain": [
       "  0%|          | 0/1483 [00:00<?, ?it/s]"
      ]
     },
     "metadata": {},
     "output_type": "display_data"
    },
    {
     "data": {
      "application/vnd.jupyter.widget-view+json": {
       "model_id": "60095caf229049c19ecc3aa8923c42ae",
       "version_major": 2,
       "version_minor": 0
      },
      "text/plain": [
       "  0%|          | 0/4 [00:00<?, ?it/s]"
      ]
     },
     "metadata": {},
     "output_type": "display_data"
    },
    {
     "data": {
      "application/vnd.jupyter.widget-view+json": {
       "model_id": "85957715d6164eb2911f8886e6b317e9",
       "version_major": 2,
       "version_minor": 0
      },
      "text/plain": [
       "  0%|          | 0/1483 [00:00<?, ?it/s]"
      ]
     },
     "metadata": {},
     "output_type": "display_data"
    },
    {
     "data": {
      "application/vnd.jupyter.widget-view+json": {
       "model_id": "b788f4a4ccce4f97bc596db56a5f53a0",
       "version_major": 2,
       "version_minor": 0
      },
      "text/plain": [
       "  0%|          | 0/1483 [00:00<?, ?it/s]"
      ]
     },
     "metadata": {},
     "output_type": "display_data"
    },
    {
     "data": {
      "application/vnd.jupyter.widget-view+json": {
       "model_id": "7525477bc60d483b834366b82dd8ca93",
       "version_major": 2,
       "version_minor": 0
      },
      "text/plain": [
       "  0%|          | 0/1483 [00:00<?, ?it/s]"
      ]
     },
     "metadata": {},
     "output_type": "display_data"
    },
    {
     "data": {
      "application/vnd.jupyter.widget-view+json": {
       "model_id": "f2b3d73d9e9c471c964e57d25519e4e5",
       "version_major": 2,
       "version_minor": 0
      },
      "text/plain": [
       "  0%|          | 0/1483 [00:00<?, ?it/s]"
      ]
     },
     "metadata": {},
     "output_type": "display_data"
    },
    {
     "data": {
      "application/vnd.jupyter.widget-view+json": {
       "model_id": "e7fde24a30a24e6697b767584e1a388b",
       "version_major": 2,
       "version_minor": 0
      },
      "text/plain": [
       "  0%|          | 0/1483 [00:00<?, ?it/s]"
      ]
     },
     "metadata": {},
     "output_type": "display_data"
    },
    {
     "data": {
      "application/vnd.jupyter.widget-view+json": {
       "model_id": "8525a447152c424ba48ab89d4d7dc5e1",
       "version_major": 2,
       "version_minor": 0
      },
      "text/plain": [
       "  0%|          | 0/1483 [00:00<?, ?it/s]"
      ]
     },
     "metadata": {},
     "output_type": "display_data"
    },
    {
     "data": {
      "application/vnd.jupyter.widget-view+json": {
       "model_id": "2adfeba5b566493a90922d57d0aefd77",
       "version_major": 2,
       "version_minor": 0
      },
      "text/plain": [
       "  0%|          | 0/1483 [00:00<?, ?it/s]"
      ]
     },
     "metadata": {},
     "output_type": "display_data"
    },
    {
     "data": {
      "application/vnd.jupyter.widget-view+json": {
       "model_id": "5e1d489d7a3242bca1c38e019a68f002",
       "version_major": 2,
       "version_minor": 0
      },
      "text/plain": [
       "  0%|          | 0/1483 [00:00<?, ?it/s]"
      ]
     },
     "metadata": {},
     "output_type": "display_data"
    },
    {
     "name": "stdout",
     "output_type": "stream",
     "text": [
      "BETATYPE:  objects\n",
      "...VIDEOTYPE:  rooms\n",
      ".......HEM:  L\n",
      ".......HEM:  R\n",
      "(1483, 23, 25)\n",
      "...VIDEOTYPE:  objects\n",
      ".......HEM:  L\n",
      ".......HEM:  R\n",
      "(1483, 23, 25)\n",
      "BETATYPE:  rooms\n",
      "...VIDEOTYPE:  rooms\n",
      ".......HEM:  L\n",
      ".......HEM:  R\n",
      "(1483, 23, 25)\n",
      "no need to re-order ,no need to re-order ,no need to re-order ,no need to re-order ,no need to re-order ,no need to re-order ,no need to re-order ,no need to re-order ,no need to re-order ,no need to re-order ,no need to re-order ,no need to re-order ,no need to re-order ,no need to re-order ,no need to re-order ,no need to re-order ,no need to re-order ,no need to re-order ,no need to re-order ,no need to re-order ,no need to re-order ,no need to re-order ,no need to re-order ,no need to re-order ,no need to re-order ,...VIDEOTYPE:  objects\n",
      ".......HEM:  L\n",
      ".......HEM:  R\n",
      "(1483, 23, 25)\n",
      "no need to re-order ,no need to re-order ,no need to re-order ,no need to re-order ,no need to re-order ,no need to re-order ,no need to re-order ,no need to re-order ,no need to re-order ,no need to re-order ,no need to re-order ,no need to re-order ,no need to re-order ,no need to re-order ,no need to re-order ,no need to re-order ,no need to re-order ,no need to re-order ,no need to re-order ,no need to re-order ,no need to re-order ,no need to re-order ,no need to re-order ,no need to re-order ,no need to re-order ,"
     ]
    }
   ],
   "source": [
    "##### ROV2\n",
    "########################\n",
    "\n",
    "date = 20240401002 #for ROV2,\n",
    "ROV2_scores = ImportROV12(date,betatypes,videotypes,measure_list)\n",
    "# ROV2_scores = GetCPsFromROV1or2(ROV2_scores,ReOrderCPs=True)\n",
    "\n"
   ]
  },
  {
   "cell_type": "markdown",
   "metadata": {},
   "source": [
    "# 2a. Create Networks\n",
    "\n",
    "- Find the top 50 SLs in classifying objects during post-learning room videos and post-learning object videos.\n",
    "- \n"
   ]
  },
  {
   "cell_type": "code",
   "execution_count": 18,
   "metadata": {},
   "outputs": [
    {
     "name": "stdout",
     "output_type": "stream",
     "text": [
      "*************** METHOD TOP_Z 50 simultaneous HEMISPHERES ***************\n",
      "26 24\n",
      "*** TRAIN: objects Classify on rooms videos |  TOP SCORES: ***\n",
      ".... 0.04858127721335269\n",
      ".... 0.04868710691823899\n",
      "15 35\n",
      "*** TRAIN: objects Classify on objects videos |  TOP SCORES: ***\n",
      ".... 0.09029559748427672\n",
      ".... 0.09636927223719678\n",
      "8 42\n",
      "*** TRAIN: rooms Classify on rooms videos |  TOP SCORES: ***\n",
      ".... 0.06920990566037737\n",
      ".... 0.07360287511230909\n",
      "36 14\n",
      "*** TRAIN: rooms Classify on objects videos |  TOP SCORES: ***\n",
      ".... 0.04899633123689728\n",
      ".... 0.04890161725067386\n"
     ]
    }
   ],
   "source": [
    "\n",
    "top_thresh = 50\n",
    "measuretype = 'accuracy'\n",
    "\n",
    "# z_thresh\n",
    "############################    \n",
    "\n",
    "##\n",
    "## SUPERTEAM BASED OFF CONCATENATING HEMISPHERES and GRABBING BEST Z_SCORES\n",
    "##\n",
    "\n",
    "############################   \n",
    "\n",
    "print('*************** METHOD TOP_Z {} simultaneous HEMISPHERES ***************'.format(top_thresh))\n",
    "\n",
    "\n",
    "best_Z_SLs = {} # this is done on both hemispheres\n",
    "stack_acc_z = {}\n",
    "stack_acc_mean = {}\n",
    "for betatype in betatypes:\n",
    "    best_Z_SLs[betatype]= {}\n",
    "    stack_acc_z[betatype] = {}\n",
    "    stack_acc_mean[betatype] = {}\n",
    "    \n",
    "    for videotype in videotypes:  \n",
    "        \n",
    "        ## ROV1 and ROV2 combo\n",
    "        L_acc = np.stack((ROV1_scores[betatype][videotype]['accuracy']['L'],ROV2_scores[betatype][videotype]['accuracy']['L']))\n",
    "        R_acc = np.stack((ROV1_scores[betatype][videotype]['accuracy']['R'],ROV2_scores[betatype][videotype]['accuracy']['R']))\n",
    "        L_acc_mean = np.nanmean(L_acc,0) #2,nSLs,25,1001 (average out new axis)\n",
    "        R_acc_mean = np.nanmean(R_acc,0) #2,nSLs,25,1001 (average out new axis)\n",
    "        \n",
    "        best_Z_SLs[betatype][videotype] = {}\n",
    "        \n",
    "#         z_thresh_list = [1.96,2.576,3.090,3.719, 4.264, 5.19] # 95%, and 99%\n",
    "#         z_thresh = 6 #z_thresh_list[]\n",
    "\n",
    "        stacked_acc = np.vstack((L_acc_mean,R_acc_mean))\n",
    "        stacked_acc_mean = stacked_acc.mean(1) #average across subjects\n",
    "        stacked_acc_null = stacked_acc_mean[:,1:] #grab the perms #(nSLs*2,nPerm)\n",
    "        stacked_acc_null_mean = stacked_acc_null.mean(1) #grab the perms #(nSLs*2)\n",
    "        stacked_acc_null_std = stacked_acc_null.std(1) #grab the perms #(nSLs*2)\n",
    "        stacked_acc_true = stacked_acc_mean[:,0] #grab the true, (nSLs*2)\n",
    "\n",
    "        ## convert SL accuracies to z-scores based on permutation\n",
    "        acc_z = (stacked_acc_true - stacked_acc_null_mean) / stacked_acc_null_std\n",
    "        acc_z\n",
    "        \n",
    "        ## save to dict\n",
    "        stack_acc_z[betatype][videotype] = acc_z # z-scored hems\n",
    "        stack_acc_mean[betatype][videotype] = stacked_acc_mean # the means across subj\n",
    "\n",
    "        ## what are the best SLs for this subj?\n",
    "        # acc_z_best_idx = np.where(acc_z>z_thresh)[0]\n",
    "        # best_for_L = acc_z_best_idx[np.where(acc_z_best_idx<1483)[0]]\n",
    "        # best_for_R = acc_z_best_idx[np.where(acc_z_best_idx>=1483)[0]] - 1483\n",
    "        \n",
    "        acc_z_best_idx = np.argsort(acc_z)[::-1][:top_thresh]\n",
    "        best_for_L = acc_z_best_idx[acc_z_best_idx<1483] #convert back to hem specific indexing\n",
    "        best_for_R = acc_z_best_idx[acc_z_best_idx>=1483] - 1483 # convert back to hem specicifc indexing\n",
    "        \n",
    "        \n",
    "        \n",
    "        print(len(best_for_L),len(best_for_R))\n",
    "\n",
    "        best_Z_SLs[betatype][videotype]['L'] = best_for_L \n",
    "        best_Z_SLs[betatype][videotype]['R'] = best_for_R\n",
    "        \n",
    "        print(\"*** TRAIN: {} Classify on {} videos |  TOP SCORES: ***\".format(betatype,videotype))\n",
    "        print('....', L_acc_mean[best_for_L][:,:,0].mean())\n",
    "        print('....', R_acc_mean[best_for_R][:,:,0].mean())\n",
    "#         print('top_z_scores: \\n',np.sort(acc_z)[::-1][:top_thresh])\n",
    "        \n",
    "        "
   ]
  },
  {
   "cell_type": "code",
   "execution_count": 27,
   "metadata": {},
   "outputs": [
    {
     "data": {
      "text/plain": [
       "array([4.32444855, 3.38513749, 3.13224778, 3.08101993, 3.06895984,\n",
       "       3.05658725, 2.93556185, 2.91282703, 2.87065685, 2.83519658,\n",
       "       2.80184817, 2.77889368, 2.75735591, 2.72866902, 2.71868286,\n",
       "       2.71409171, 2.7080857 , 2.68780318, 2.68363211, 2.67961882,\n",
       "       2.67746389, 2.67730769, 2.6729161 , 2.65475834, 2.6505375 ,\n",
       "       2.64191949, 2.63770592, 2.57089162, 2.55971317, 2.54774934,\n",
       "       2.54429396, 2.54377603, 2.50707625, 2.49513282, 2.47897118,\n",
       "       2.46856287, 2.45379137, 2.44506362, 2.44105232, 2.43829503,\n",
       "       2.43547217, 2.42250249, 2.38939999, 2.37499172, 2.37376333,\n",
       "       2.37300174, 2.35997039, 2.3551462 , 2.33825877, 2.33085711])"
      ]
     },
     "execution_count": 27,
     "metadata": {},
     "output_type": "execute_result"
    }
   ],
   "source": [
    "np.sort(acc_z)[::-1][:top_thresh]"
   ]
  },
  {
   "cell_type": "markdown",
   "metadata": {},
   "source": [
    "# 2b. Plot the Previous, Current, Next (PCN) Average Probability for Networks"
   ]
  },
  {
   "cell_type": "code",
   "execution_count": 19,
   "metadata": {},
   "outputs": [],
   "source": [
    " ## ROV1 and ROV2 combo\n",
    "def PlotPCN(ROV1_scores, ROV2_scores, pcn_key,betatype,videotype, annotate=True, savefig=False):\n",
    "    \n",
    "    L_PCN = np.stack((ROV1_scores[betatype][videotype][pcn_key]['L'],ROV2_scores[betatype][videotype][pcn_key]['L']))\n",
    "    R_PCN = np.stack((ROV1_scores[betatype][videotype][pcn_key]['R'],ROV2_scores[betatype][videotype][pcn_key]['R']))\n",
    "    L_PCN_mean = np.nanmean(L_PCN,0) #2,nSLs,25,1001 (average out new axis)\n",
    "    R_PCN_mean = np.nanmean(R_PCN,0) #2,nSLs,25,1001 (average out new axis)\n",
    "\n",
    "    SLs_to_use = np.array(list(best_Z_SLs[betatype][videotype]['L']) + list(best_Z_SLs[betatype][videotype]['R']+1483))\n",
    "\n",
    "    stacked_PCN = np.vstack((L_PCN_mean,R_PCN_mean))# (2966, 25)\n",
    "    stacked_PCN_SLmean = stacked_PCN[SLs_to_use,:,:].mean(0)\n",
    "    stacked_PCN_mean = stacked_PCN_SLmean.mean(1) #average across subjects\n",
    "    stacked_PCN_std = stacked_PCN_SLmean.std(1) #average across subjects\n",
    "\n",
    "    pcn_window = 27\n",
    "    win_size= 9\n",
    "    divisions_idx = [0,8,17,26]\n",
    "\n",
    "    plt.figure(figsize=(10,5))\n",
    "    plt.title(\"Classifying {} during {} videos \\n {}\".format(betatype,videotype,pcn_key),fontsize=20)\n",
    "    plt.plot(stacked_PCN_mean)\n",
    "    plt.fill_between(range(pcn_window), stacked_PCN_mean-stacked_PCN_std, stacked_PCN_mean+stacked_PCN_std,alpha=.2)\n",
    "    plt.hlines(1/23,0,pcn_window-1,linestyle='--',colors='black',alpha=0.3)\n",
    "    plt.xlabel(\"TRs\",fontsize=15)\n",
    "    plt.ylabel(\"Probability\", fontsize=15)\n",
    "    bot,top = plt.ylim()\n",
    "    plt.vlines(divisions_idx[1:3],bot,top,colors='r',linestyle='--')\n",
    "    plt.xticks(range(26));\n",
    "\n",
    "    ##### GET P-VALUE\n",
    "    pcn_means = []\n",
    "    pcn_p = []\n",
    "    for i in range(3):\n",
    "        bin_means = stacked_PCN_SLmean[divisions_idx[i]:divisions_idx[i+1],:].mean(0)\n",
    "        pcn_means.append(bin_means)\n",
    "\n",
    "        ### get p-value\n",
    "        ttval,ppval = stats.ttest_1samp(pcn_means[i],1/23)\n",
    "\n",
    "        #bonferroni correction\n",
    "        ppval = ppval * 3\n",
    "\n",
    "        pcn_p.append(ppval)\n",
    "\n",
    "#         print(ttval, ppval)\n",
    "        print('t = {:.3f} | p = {:.3f}'.format(ttval,ppval))\n",
    "\n",
    "        if annotate:\n",
    "            plt.annotate('t = {:.3f} | p = {:.3f}'.format(ttval,ppval),(divisions_idx[i+1]-6,(1/23)*1.2),color='red')\n",
    "            \n",
    "    if savefig==True:\n",
    "        plt.savefig(os.path.join('Figs','Fig3_PCN_{}_on_{}'.format(betatype,videotype) + '_{}.png'.format('transparent')),transparent=True,dpi=200) #dpi=500\n",
    "    \n",
    "    plt.show()\n",
    "\n",
    "# plt.savefig(os.path.join('_FigsThesis','Fig2_Subj12_Group_R2R' + '_{}.png'.format('transparent')),transparent=True,dpi=200) #dpi=500\n",
    "\n"
   ]
  },
  {
   "cell_type": "code",
   "execution_count": 26,
   "metadata": {},
   "outputs": [
    {
     "name": "stdout",
     "output_type": "stream",
     "text": [
      "t = -1.648 | p = 0.337\n",
      "t = 12.620 | p = 0.000\n",
      "t = 0.027 | p = 2.937\n"
     ]
    },
    {
     "data": {
      "image/png": "[encoded data removed]",
      "text/plain": [
       "<Figure size 720x360 with 1 Axes>"
      ]
     },
     "metadata": {
      "needs_background": "light"
     },
     "output_type": "display_data"
    },
    {
     "name": "stdout",
     "output_type": "stream",
     "text": [
      "t = -2.874 | p = 0.025\n",
      "t = 10.866 | p = 0.000\n",
      "t = -8.758 | p = 0.000\n"
     ]
    },
    {
     "data": {
      "image/png": "[encoded data removed]",
      "text/plain": [
       "<Figure size 720x360 with 1 Axes>"
      ]
     },
     "metadata": {
      "needs_background": "light"
     },
     "output_type": "display_data"
    },
    {
     "name": "stdout",
     "output_type": "stream",
     "text": [
      "t = -4.409 | p = 0.001\n",
      "t = 12.924 | p = 0.000\n",
      "t = -8.925 | p = 0.000\n"
     ]
    },
    {
     "data": {
      "image/png": "[encoded data removed]",
      "text/plain": [
       "<Figure size 720x360 with 1 Axes>"
      ]
     },
     "metadata": {
      "needs_background": "light"
     },
     "output_type": "display_data"
    },
    {
     "name": "stdout",
     "output_type": "stream",
     "text": [
      "t = -0.609 | p = 1.645\n",
      "t = 14.841 | p = 0.000\n",
      "t = -0.638 | p = 1.589\n"
     ]
    },
    {
     "data": {
      "image/png": "[encoded data removed]",
      "text/plain": [
       "<Figure size 720x360 with 1 Axes>"
      ]
     },
     "metadata": {
      "needs_background": "light"
     },
     "output_type": "display_data"
    }
   ],
   "source": [
    "pcn_key = 'current_room'\n",
    "betatype = 'objects'\n",
    "videotype = 'rooms'\n",
    "annotate = True # or False\n",
    "\n",
    "for betatype in betatypes:\n",
    "    for videotype in videotypes:\n",
    "        PlotPCN(ROV1_scores,ROV2_scores, pcn_key, betatype, videotype, annotate=annotate)\n",
    "\n",
    "\n",
    "        "
   ]
  },
  {
   "cell_type": "code",
   "execution_count": null,
   "metadata": {},
   "outputs": [],
   "source": []
  },
  {
   "cell_type": "markdown",
   "metadata": {},
   "source": [
    "# 4. Save Networks"
   ]
  },
  {
   "cell_type": "code",
   "execution_count": 12,
   "metadata": {},
   "outputs": [],
   "source": []
  },
  {
   "cell_type": "code",
   "execution_count": 22,
   "metadata": {},
   "outputs": [
    {
     "name": "stdout",
     "output_type": "stream",
     "text": [
      "Folder already exists: ../PythonData2024/Output/Networks\n",
      "... SAVING SL superteam:  ../PythonData2024/Output/Networks/20240401_Networks_BestZSLs_shift4_top50.pkl\n"
     ]
    }
   ],
   "source": [
    "from _mempal_util import create_dirs\n",
    "\n",
    "\n",
    "#######\n",
    "date = 20240401 # new permutation style\n",
    "\n",
    "\n",
    "##########\n",
    "##########\n",
    "##########\n",
    "\n",
    "date = date\n",
    "besttype = 'Z'\n",
    "shift\n",
    "\n",
    "superteam_path = '../PythonData2024/Output/Networks' ; create_dirs(superteam_path)\n",
    "# os.mkdir(superteam_path) if not os.path.exists(superteam_path) else None\n",
    "\n",
    "## ROCN ##\n",
    "superteam_SL_savename = '{}_Networks_Best{}SLs_shift{}_top{}.pkl'.format(date,besttype,shift,top_thresh)\n",
    "pathsave = os.path.join(superteam_path,superteam_SL_savename)\n",
    "print('... SAVING SL superteam: ', pathsave)\n",
    "save_obj(pathsave,best_Z_SLs)\n",
    "\n",
    "\n",
    "    "
   ]
  },
  {
   "cell_type": "code",
   "execution_count": null,
   "metadata": {},
   "outputs": [],
   "source": []
  },
  {
   "cell_type": "markdown",
   "metadata": {},
   "source": [
    "# 5. Create a z-score brainmap of accuracy"
   ]
  },
  {
   "cell_type": "code",
   "execution_count": 24,
   "metadata": {},
   "outputs": [
    {
     "name": "stderr",
     "output_type": "stream",
     "text": [
      "/mnt/cup/labs/norman/rmasis/MemPal/analysis/MemPal2024/Scripts2024/_searchlight_util.py:47: RuntimeWarning: Mean of empty slice\n",
      "  means = np.nanmean(X_roll[1:],0)\n",
      "/jukebox/pkgs/PYGER/base/envs/0.11.0/lib/python3.7/site-packages/numpy/lib/nanfunctions.py:1665: RuntimeWarning: Degrees of freedom <= 0 for slice.\n",
      "  keepdims=keepdims)\n"
     ]
    },
    {
     "name": "stdout",
     "output_type": "stream",
     "text": [
      "...complete.\n"
     ]
    }
   ],
   "source": [
    "\n",
    "measures = {}\n",
    "for betatype in betatypes:\n",
    "    measures[betatype] = {}\n",
    "    for videotype in videotypes: #measure_list:\n",
    "        measures[betatype][videotype] = {}\n",
    "        \n",
    "        ### get z's based on bilateral SLs\n",
    "        ##################################\n",
    "        \n",
    "        ## bilateral here means, that these are the RAW z-scores that were extracted at the SL-level\n",
    "        ## i will use these to convert back to vertex space\n",
    "        SL_acc_z_bilateral = {'L':stack_acc_z[betatype][videotype][:1483],'R':stack_acc_z[betatype][videotype][1483:]} # this is ROV1+ROV2 average z-scored bilaterally\n",
    "\n",
    "        ### get z's based on each hemisphere\n",
    "        ###################################\n",
    "        \n",
    "        ## each hemisphere will get z-scored separately. unlike above, where both were z-score simultaneously.\n",
    "        stacked_acc_mean_SLs = {'L':stack_acc_mean[betatype][videotype][:1483],'R': stack_acc_mean[betatype][videotype][1483:]}  ## this is the ROV1+ROV2 average accuracy\n",
    "\n",
    "        \n",
    "        for measuretype in ['accuracy']:\n",
    "            measures[betatype][videotype][measuretype] = {}\n",
    "            \n",
    "\n",
    "            dd_vox_lat = SLtoVox(stacked_acc_mean_SLs, ROIlist,nv,zeronan=False) #accuracy\n",
    "            dd_vox_z_bilat = SLtoVox(SL_acc_z_bilateral, ROIlist,nv,zeronan=False) #z-scored accuracy\n",
    "\n",
    "            ## values\n",
    "            measures[betatype][videotype][measuretype]['z_bilat'] = dd_vox_z_bilat\n",
    "            measures[betatype][videotype][measuretype]['raw'] = {} #this is for raw accuracies of ROV1+ROV2 average\n",
    "            measures[betatype][videotype][measuretype]['z'] = {}\n",
    "\n",
    "            dd_vox_p = {}\n",
    "            for hem in ['L','R']:\n",
    "                dd_vox_p[hem] = NonparametricP(dd_vox_lat[hem],sided=1) #accuracy should be positive so 1-sided\n",
    "                measures[betatype][videotype][measuretype]['raw'][hem] = dd_vox_lat[hem][:,0]\n",
    "                measures[betatype][videotype][measuretype]['z'][hem] = nullZ(dd_vox_lat[hem])\n",
    "\n",
    "            measures[betatype][videotype][measuretype]['p'] = dd_vox_p\n",
    "            measures[betatype][videotype][measuretype]['q'] = FDR_p_hem(dd_vox_p)\n",
    "        \n",
    "        \n",
    "print('...complete.')"
   ]
  },
  {
   "cell_type": "code",
   "execution_count": 79,
   "metadata": {},
   "outputs": [
    {
     "data": {
      "text/plain": [
       "'/mnt/cup/labs/norman/rmasis/MemPal/analysis/MemPal2024/Scripts2024'"
      ]
     },
     "execution_count": 79,
     "metadata": {},
     "output_type": "execute_result"
    }
   ],
   "source": [
    "pwd"
   ]
  },
  {
   "cell_type": "code",
   "execution_count": 25,
   "metadata": {},
   "outputs": [
    {
     "name": "stdout",
     "output_type": "stream",
     "text": [
      "Folder already exists: ../PythonData2024/Output/brainmaps\n",
      "complete\n",
      "../PythonData2024/Output/brainmaps/20240401_ClassifyVideos_Accuracy.pkl\n"
     ]
    }
   ],
   "source": [
    "#### SAVE SAVE SAVE\n",
    "#######\n",
    "\n",
    "date = 20240401 # imporoved permutation\n",
    "\n",
    "\n",
    "### DATA\n",
    "data = measures\n",
    "\n",
    "path = '../PythonData2024/Output/brainmaps' ; create_dirs(path)\n",
    "\n",
    "save_obj(os.path.join(path, '{}_ClassifyVideos_Accuracy.pkl'.format(date)),data)\n",
    "\n",
    "print(\"complete\")\n",
    "\n",
    "print(os.path.join(path, '{}_ClassifyVideos_Accuracy.pkl'.format(date)))\n",
    "\n"
   ]
  },
  {
   "cell_type": "code",
   "execution_count": null,
   "metadata": {},
   "outputs": [],
   "source": []
  }
 ],
 "metadata": {
  "kernelspec": {
   "display_name": "Python 3",
   "language": "python",
   "name": "python3"
  },
  "language_info": {
   "codemirror_mode": {
    "name": "ipython",
    "version": 3
   },
   "file_extension": ".py",
   "mimetype": "text/x-python",
   "name": "python",
   "nbconvert_exporter": "python",
   "pygments_lexer": "ipython3",
   "version": "3.7.9"
  }
 },
 "nbformat": 4,
 "nbformat_minor": 2
}
