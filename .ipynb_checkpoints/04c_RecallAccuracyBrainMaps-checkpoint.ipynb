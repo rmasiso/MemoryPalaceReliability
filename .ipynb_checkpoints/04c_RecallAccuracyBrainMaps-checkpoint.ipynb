{
 "cells": [
  {
   "cell_type": "code",
   "execution_count": 1,
   "id": "beautiful-governor",
   "metadata": {},
   "outputs": [],
   "source": []
  },
  {
   "cell_type": "markdown",
   "id": "other-fleece",
   "metadata": {},
   "source": [
    "# this notebook is for:\n",
    "\n",
    "1) importing the recall accuracy and confmat scores   \n",
    "2) creating an accuracy brain map via accuracy and confmat forms  \n",
    "3a) doing this brainmap for the classification of rooms on room eve nts  \n",
    "3b) doing this brainmap for classification of objects on object events   \n",
    "3c) doing this brainmap for the classification of rooms on object events  (room reinstatement on objects)\n",
    "---> note that 3c means importing recall classificaiton results from 20250524 while 3a and 3b can come from date = 20240401 which is an earlier date and that's fine.  "
   ]
  },
  {
   "cell_type": "code",
   "execution_count": null,
   "id": "subsequent-period",
   "metadata": {},
   "outputs": [],
   "source": []
  }
 ],
 "metadata": {
  "kernelspec": {
   "display_name": "Python 3",
   "language": "python",
   "name": "python3"
  },
  "language_info": {
   "codemirror_mode": {
    "name": "ipython",
    "version": 3
   },
   "file_extension": ".py",
   "mimetype": "text/x-python",
   "name": "python",
   "nbconvert_exporter": "python",
   "pygments_lexer": "ipython3",
   "version": "3.7.9"
  }
 },
 "nbformat": 4,
 "nbformat_minor": 5
}
