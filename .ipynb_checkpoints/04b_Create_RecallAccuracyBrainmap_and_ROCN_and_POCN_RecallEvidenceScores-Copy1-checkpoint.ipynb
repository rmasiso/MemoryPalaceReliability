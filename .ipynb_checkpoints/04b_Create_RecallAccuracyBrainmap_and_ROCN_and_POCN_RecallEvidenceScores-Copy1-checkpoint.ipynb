{
 "cells": [
  {
   "cell_type": "code",
   "execution_count": null,
   "metadata": {},
   "outputs": [],
   "source": []
  },
  {
   "cell_type": "markdown",
   "metadata": {},
   "source": [
    "# Import"
   ]
  },
  {
   "cell_type": "code",
   "execution_count": 1,
   "metadata": {},
   "outputs": [],
   "source": []
  },
  {
   "cell_type": "code",
   "execution_count": 2,
   "metadata": {},
   "outputs": [],
   "source": [
    "from tqdm import tqdm_notebook\n",
    "import deepdish as dd\n",
    "import numpy as np\n",
    "import os\n",
    "import h5py\n",
    "import pandas as pd\n",
    "from scipy import stats\n",
    "from _searchlight_util import *\n",
    "import matplotlib.pyplot as plt\n",
    "from _classification_util import Convert_SourceItem_to_PairedItem_Order\n",
    "from _mempal_util import room_obj_assignments, save_obj, load_obj, create_dirs, subject_ids\n",
    "\n",
    "trials = ['GR0', 'GR1', 'GR2', 'GR3','GR4', 'GR5', 'GR6', 'GR7','GR8', 'GR9', 'GR10','FR']\n"
   ]
  },
  {
   "cell_type": "code",
   "execution_count": 3,
   "metadata": {},
   "outputs": [
    {
     "name": "stderr",
     "output_type": "stream",
     "text": [
      "/jukebox/pkgs/PYGER/0.9.1/lib/python3.7/site-packages/ipykernel_launcher.py:18: TqdmDeprecationWarning: This function will be removed in tqdm==5.0.0\n",
      "Please use `tqdm.notebook.tqdm` instead of `tqdm.tqdm_notebook`\n"
     ]
    },
    {
     "data": {
      "application/vnd.jupyter.widget-view+json": {
       "model_id": "586147003af14677b2ee9fbb2b3b11eb",
       "version_major": 2,
       "version_minor": 0
      },
      "text/plain": [
       "  0%|          | 0/1483 [00:00<?, ?it/s]"
      ]
     },
     "metadata": {},
     "output_type": "display_data"
    },
    {
     "data": {
      "application/vnd.jupyter.widget-view+json": {
       "model_id": "ab231ae0a1ba4f209421c16612861a08",
       "version_major": 2,
       "version_minor": 0
      },
      "text/plain": [
       "  0%|          | 0/1483 [00:00<?, ?it/s]"
      ]
     },
     "metadata": {},
     "output_type": "display_data"
    },
    {
     "data": {
      "application/vnd.jupyter.widget-view+json": {
       "model_id": "3bddca4bc94449bab80b41f48152db7d",
       "version_major": 2,
       "version_minor": 0
      },
      "text/plain": [
       "  0%|          | 0/1483 [00:00<?, ?it/s]"
      ]
     },
     "metadata": {},
     "output_type": "display_data"
    },
    {
     "data": {
      "application/vnd.jupyter.widget-view+json": {
       "model_id": "18609a2d5cd14e9f9e4bc2a89e838db7",
       "version_major": 2,
       "version_minor": 0
      },
      "text/plain": [
       "  0%|          | 0/1483 [00:00<?, ?it/s]"
      ]
     },
     "metadata": {},
     "output_type": "display_data"
    }
   ],
   "source": [
    "### CHECK IF SLs were generated\n",
    "################################\n",
    "\n",
    "\n",
    "# roi = 'SL'\n",
    "# nSubj =25\n",
    "\n",
    "\n",
    "# # date = 20230802; shift = 4; win_size=9 ;\n",
    "# # date = 20240108; shift = 4; win_size=9 ;\n",
    "# date = 20240401; shift = 4; win_size=9 ;\n",
    "\n",
    "\n",
    "# error_rois = {}\n",
    "# full_list = []\n",
    "# for betatype in ['rooms', 'objects']:#'objects']: #['rooms','objects']:\n",
    "#     error_rois[betatype] = {}\n",
    "#     for hem in ['L','R']:\n",
    "#         hem_label = hem\n",
    "#         betatype_label = betatype\n",
    "#         error_rois[betatype][hem] = []\n",
    "#         for roi_id in tqdm_notebook(range(len(SLlist[hem]))):\n",
    "\n",
    "#             dirpath = '../PythonData2024/Output/ClassifyRecalls'\n",
    "#             fname = '{}_{}{:03d}_hems{}_betas{}_winsize{}_shift{}_ClassifyRecalls'.format(\n",
    "#                 date,\n",
    "#                 roi,\n",
    "#                 roi_id,\n",
    "#                 hem_label,\n",
    "#                 betatype_label,\n",
    "#                 win_size,\n",
    "#                 shift) + '.h5'\n",
    "            \n",
    "#             fullpath = os.path.join(dirpath,fname)\n",
    "\n",
    "#             if os.path.exists(fullpath):\n",
    "#                 continue\n",
    "#             else:\n",
    "#                 error_rois[betatype][hem].append(roi_id)\n",
    "#                 full_list.append(roi_id)\n",
    "\n"
   ]
  },
  {
   "cell_type": "code",
   "execution_count": 3,
   "metadata": {
    "scrolled": true
   },
   "outputs": [],
   "source": [
    "def GetRecallEvidence(date, roi, shift, win_size, measure_list, betatypes, dirpath = '../PythonData2024/Output/ClassifyRecalls'):\n",
    "    '''\n",
    "    - grabs the whole-brain results of classifying recalls (GRs+FRs)\n",
    "    - returns 'scores' which is a dict with the data in measure_list\n",
    "    \n",
    "    '''\n",
    "\n",
    "    trials = ['GR0', 'GR1', 'GR2', 'GR3','GR4', 'GR5', 'GR6', 'GR7','GR8', 'GR9', 'GR10','FR']\n",
    "\n",
    "    nPerm = 1000\n",
    "    nTrials = len(trials)\n",
    "    nItems   = 23\n",
    "\n",
    "    \n",
    "    scores = {}\n",
    "\n",
    "    for betatype in tqdm_notebook(betatypes):\n",
    "        scores[betatype] = {}\n",
    "\n",
    "        print(\"...BETATYPE: \", betatype)\n",
    "\n",
    "        for measuretype in tqdm_notebook(measure_list):\n",
    "            scores[betatype][measuretype] = {}\n",
    "\n",
    "            print(\"............MEASURE: \", measuretype)\n",
    "\n",
    "            for hem in ['R','L']:\n",
    "                print(\"...............HEM: \",hem)\n",
    "\n",
    "                hem_label = hem\n",
    "                betatype_label=betatype\n",
    "\n",
    "                ###\n",
    "                ### Specific initiation for different array shapes\n",
    "                ###\n",
    "\n",
    "                if 'RIP_window' == measuretype:\n",
    "                    scores[betatype][measuretype][hem] = np.zeros(((len(SLlist[hem]),win_size,nTrials,nSubj))) \n",
    "\n",
    "                if 'evidence_window' == measuretype:\n",
    "                    scores[betatype][measuretype][hem] = np.zeros(((len(SLlist[hem]),win_size,nItems, nTrials,nSubj))) \n",
    "\n",
    "                if 'accuracy' == measuretype:\n",
    "                    scores[betatype][measuretype][hem] = np.zeros(((len(SLlist[hem]),nTrials,nSubj,nPerm+1)))\n",
    "\n",
    "    #             if 'real_minus_prior' == measuretype:\n",
    "    #                 scores[betatype][measuretype][hem] = np.zeros(((len(SLlist[hem]),nTrials,nSubj)))   \n",
    "\n",
    "                if 'evidence' == measuretype:\n",
    "                    scores[betatype][measuretype][hem] = {}\n",
    "\n",
    "                if 'conf_mat' == measuretype: # comes in as (nItems,nItems,nTrials,nSubj,nPerm+1)\n",
    "                    scores[betatype][measuretype][hem] = np.full((len(SLlist[hem]),nItems,nItems,nTrials,nSubj), fill_value=np.nan)\n",
    "#                     scores[betatype][measuretype][hem] = np.full((len(SLlist[hem]),nItems,nItems), fill_value=np.nan)\n",
    "\n",
    "\n",
    "                if 'RIPs' == measuretype:\n",
    "    #                 scores[betatype][measuretype][hem] = np.full((len(SLlist[hem]),nItems,nItems,nTrials,nSubj), fill_value=np.nan)\n",
    "                    scores[betatype][measuretype][hem] = np.full((len(SLlist[hem]),nItems,nTrials,nSubj), fill_value=np.nan)\n",
    "                    \n",
    "\n",
    "\n",
    "                if 'avg_RIPs' == measuretype:\n",
    "                    scores[betatype][measuretype][hem] = np.zeros(((len(SLlist[hem]),2, nItems,nSubj))) # for GR and FR\n",
    "                ###\n",
    "                ### Load the saved .h5 files\n",
    "                ###\n",
    "\n",
    "                for roi_id in tqdm_notebook(range(len(SLlist[hem]))[:]):\n",
    "\n",
    "#                     dirpath = '../PythonData2024/Output/ClassifyRecalls'\n",
    "\n",
    "                    fname = '{}_{}{:03d}_hems{}_betas{}_winsize{}_shift{}_ClassifyRecalls'.format(\n",
    "                    date,\n",
    "                    roi,\n",
    "                    roi_id,\n",
    "                    hem_label,\n",
    "                    betatype_label,\n",
    "                    win_size,\n",
    "                    shift) + '.h5'\n",
    "\n",
    "                    fullpath = os.path.join(dirpath,fname)\n",
    "\n",
    "                    temp = dd.io.load(fullpath,'/{}/{}/{}'.format(betatype,hem,measuretype))\n",
    "\n",
    "                    if measuretype=='conf_mat':\n",
    "#                         print('.......conf_mat shape: ', temp.shape)\n",
    "#                         scores[betatype][measuretype][hem][roi_id] = np.nanmean(np.nanmean(temp[:,:,:,:,0],2),2)\n",
    "                        scores[betatype][measuretype][hem][roi_id,:,:,:,:] = temp[:,:,:,:,0] # permutations are empty, so no need to collect them\n",
    "#                          scores[betatype][measuretype][hem][roi_id,:,:] = temp[:,:,:,:,0].sum(-1).sum(-1) # permutations are empty, so no need to collect them\n",
    "\n",
    "                        \n",
    "                    elif measuretype == \"avg_RIPs\":\n",
    "                        scores[betatype][measuretype][hem][roi_id,0,:,:] = temp['GR']\n",
    "                        scores[betatype][measuretype][hem][roi_id,1,:,:] = temp['FR']\n",
    "                    else:\n",
    "                        scores[betatype][measuretype][hem][roi_id] = temp\n",
    "                        \n",
    "                        \n",
    "    return scores\n",
    "\n",
    "                \n"
   ]
  },
  {
   "cell_type": "code",
   "execution_count": 4,
   "metadata": {
    "scrolled": true
   },
   "outputs": [
    {
     "name": "stderr",
     "output_type": "stream",
     "text": [
      "/jukebox/pkgs/PYGER/base/envs/0.11.0/lib/python3.7/site-packages/ipykernel_launcher.py:17: TqdmDeprecationWarning: This function will be removed in tqdm==5.0.0\n",
      "Please use `tqdm.notebook.tqdm` instead of `tqdm.tqdm_notebook`\n"
     ]
    },
    {
     "data": {
      "application/vnd.jupyter.widget-view+json": {
       "model_id": "0785041231aa4f9f9753815f33482ebc",
       "version_major": 2,
       "version_minor": 0
      },
      "text/plain": [
       "  0%|          | 0/2 [00:00<?, ?it/s]"
      ]
     },
     "metadata": {},
     "output_type": "display_data"
    },
    {
     "name": "stdout",
     "output_type": "stream",
     "text": [
      "...BETATYPE:  objects\n"
     ]
    },
    {
     "name": "stderr",
     "output_type": "stream",
     "text": [
      "/jukebox/pkgs/PYGER/base/envs/0.11.0/lib/python3.7/site-packages/ipykernel_launcher.py:22: TqdmDeprecationWarning: This function will be removed in tqdm==5.0.0\n",
      "Please use `tqdm.notebook.tqdm` instead of `tqdm.tqdm_notebook`\n"
     ]
    },
    {
     "data": {
      "application/vnd.jupyter.widget-view+json": {
       "model_id": "d07867ae611f44d988ed3a146c6639bb",
       "version_major": 2,
       "version_minor": 0
      },
      "text/plain": [
       "  0%|          | 0/3 [00:00<?, ?it/s]"
      ]
     },
     "metadata": {},
     "output_type": "display_data"
    },
    {
     "name": "stdout",
     "output_type": "stream",
     "text": [
      "............MEASURE:  avg_RIPs\n",
      "...............HEM:  R\n"
     ]
    },
    {
     "name": "stderr",
     "output_type": "stream",
     "text": [
      "/jukebox/pkgs/PYGER/base/envs/0.11.0/lib/python3.7/site-packages/ipykernel_launcher.py:69: TqdmDeprecationWarning: This function will be removed in tqdm==5.0.0\n",
      "Please use `tqdm.notebook.tqdm` instead of `tqdm.tqdm_notebook`\n"
     ]
    },
    {
     "data": {
      "application/vnd.jupyter.widget-view+json": {
       "model_id": "f7764004dc854566b68ac55c27e3a77a",
       "version_major": 2,
       "version_minor": 0
      },
      "text/plain": [
       "  0%|          | 0/1483 [00:00<?, ?it/s]"
      ]
     },
     "metadata": {},
     "output_type": "display_data"
    },
    {
     "name": "stdout",
     "output_type": "stream",
     "text": [
      "...............HEM:  L\n"
     ]
    },
    {
     "data": {
      "application/vnd.jupyter.widget-view+json": {
       "model_id": "fc4bd68b8918465387a9242a9f6f57b4",
       "version_major": 2,
       "version_minor": 0
      },
      "text/plain": [
       "  0%|          | 0/1483 [00:00<?, ?it/s]"
      ]
     },
     "metadata": {},
     "output_type": "display_data"
    },
    {
     "name": "stdout",
     "output_type": "stream",
     "text": [
      "............MEASURE:  accuracy\n",
      "...............HEM:  R\n"
     ]
    },
    {
     "data": {
      "application/vnd.jupyter.widget-view+json": {
       "model_id": "82568a03caf2468cb6ff6eedbf1919f7",
       "version_major": 2,
       "version_minor": 0
      },
      "text/plain": [
       "  0%|          | 0/1483 [00:00<?, ?it/s]"
      ]
     },
     "metadata": {},
     "output_type": "display_data"
    },
    {
     "name": "stdout",
     "output_type": "stream",
     "text": [
      "...............HEM:  L\n"
     ]
    },
    {
     "data": {
      "application/vnd.jupyter.widget-view+json": {
       "model_id": "df3a437636f7439fa69ef94a7e3379e6",
       "version_major": 2,
       "version_minor": 0
      },
      "text/plain": [
       "  0%|          | 0/1483 [00:00<?, ?it/s]"
      ]
     },
     "metadata": {},
     "output_type": "display_data"
    },
    {
     "name": "stdout",
     "output_type": "stream",
     "text": [
      "............MEASURE:  RIPs\n",
      "...............HEM:  R\n"
     ]
    },
    {
     "data": {
      "application/vnd.jupyter.widget-view+json": {
       "model_id": "a4480347d96948d1bfb355d56c22cbd9",
       "version_major": 2,
       "version_minor": 0
      },
      "text/plain": [
       "  0%|          | 0/1483 [00:00<?, ?it/s]"
      ]
     },
     "metadata": {},
     "output_type": "display_data"
    },
    {
     "name": "stdout",
     "output_type": "stream",
     "text": [
      "...............HEM:  L\n"
     ]
    },
    {
     "data": {
      "application/vnd.jupyter.widget-view+json": {
       "model_id": "174d1f5abf6a470fae1acd59de93739e",
       "version_major": 2,
       "version_minor": 0
      },
      "text/plain": [
       "  0%|          | 0/1483 [00:00<?, ?it/s]"
      ]
     },
     "metadata": {},
     "output_type": "display_data"
    },
    {
     "name": "stdout",
     "output_type": "stream",
     "text": [
      "...BETATYPE:  rooms\n"
     ]
    },
    {
     "data": {
      "application/vnd.jupyter.widget-view+json": {
       "model_id": "13e3db564c394e0b8371471a53623cda",
       "version_major": 2,
       "version_minor": 0
      },
      "text/plain": [
       "  0%|          | 0/3 [00:00<?, ?it/s]"
      ]
     },
     "metadata": {},
     "output_type": "display_data"
    },
    {
     "name": "stdout",
     "output_type": "stream",
     "text": [
      "............MEASURE:  avg_RIPs\n",
      "...............HEM:  R\n"
     ]
    },
    {
     "data": {
      "application/vnd.jupyter.widget-view+json": {
       "model_id": "01f179e93ded4b9db188037dc1634390",
       "version_major": 2,
       "version_minor": 0
      },
      "text/plain": [
       "  0%|          | 0/1483 [00:00<?, ?it/s]"
      ]
     },
     "metadata": {},
     "output_type": "display_data"
    },
    {
     "name": "stdout",
     "output_type": "stream",
     "text": [
      "...............HEM:  L\n"
     ]
    },
    {
     "data": {
      "application/vnd.jupyter.widget-view+json": {
       "model_id": "838e965bf62a4665b6dbf2dda30b6cac",
       "version_major": 2,
       "version_minor": 0
      },
      "text/plain": [
       "  0%|          | 0/1483 [00:00<?, ?it/s]"
      ]
     },
     "metadata": {},
     "output_type": "display_data"
    },
    {
     "name": "stdout",
     "output_type": "stream",
     "text": [
      "............MEASURE:  accuracy\n",
      "...............HEM:  R\n"
     ]
    },
    {
     "data": {
      "application/vnd.jupyter.widget-view+json": {
       "model_id": "c27864eabe4f4308a9187897fe36cd87",
       "version_major": 2,
       "version_minor": 0
      },
      "text/plain": [
       "  0%|          | 0/1483 [00:00<?, ?it/s]"
      ]
     },
     "metadata": {},
     "output_type": "display_data"
    },
    {
     "name": "stdout",
     "output_type": "stream",
     "text": [
      "...............HEM:  L\n"
     ]
    },
    {
     "data": {
      "application/vnd.jupyter.widget-view+json": {
       "model_id": "afb5edf1d0ab4f1d8ae46fbc2d6e1bac",
       "version_major": 2,
       "version_minor": 0
      },
      "text/plain": [
       "  0%|          | 0/1483 [00:00<?, ?it/s]"
      ]
     },
     "metadata": {},
     "output_type": "display_data"
    },
    {
     "name": "stdout",
     "output_type": "stream",
     "text": [
      "............MEASURE:  RIPs\n",
      "...............HEM:  R\n"
     ]
    },
    {
     "data": {
      "application/vnd.jupyter.widget-view+json": {
       "model_id": "fbb79ce7cf42484c9f8b8d943dc5f183",
       "version_major": 2,
       "version_minor": 0
      },
      "text/plain": [
       "  0%|          | 0/1483 [00:00<?, ?it/s]"
      ]
     },
     "metadata": {},
     "output_type": "display_data"
    },
    {
     "name": "stdout",
     "output_type": "stream",
     "text": [
      "...............HEM:  L\n"
     ]
    },
    {
     "data": {
      "application/vnd.jupyter.widget-view+json": {
       "model_id": "5f2d0c9ad1234268b35daaadaf430da5",
       "version_major": 2,
       "version_minor": 0
      },
      "text/plain": [
       "  0%|          | 0/1483 [00:00<?, ?it/s]"
      ]
     },
     "metadata": {},
     "output_type": "display_data"
    }
   ],
   "source": [
    "## \n",
    "## IMPORT\n",
    "##\n",
    "\n",
    "#accuracy[betatype][hem]= np.full((nTrials,nSubj,nPerm+1),fill_value=np.nan)\n",
    "# conf_mat[betatype][hem]= np.full((nItems,nItems,nTrials,nSubj,nPerm+1), fill_value=np.nan)\n",
    "# evidence[betatype][hem]= {} #dict of trials and subjects\n",
    "# cp_window[betatype][hem]= np.full((win_size,nTrials,nSubj), fill_value=np.nan) \n",
    "# trial_length[betatype][hem] = np.full((nTrials,nSubj),fill_value=np.nan)\n",
    "\n",
    "dirpath = '../PythonData2024/Output/ClassifyRecalls'\n",
    "\n",
    "\n",
    "date = 20240401; shift = 4; win_size=9 ;\n",
    "\n",
    "\n",
    "# betatypes = ['rooms','objects']\n",
    "betatypes = ['objects', 'rooms'] #['objects']\n",
    "roi = 'SL'\n",
    "measure_list = [\n",
    "#     'conf_mat', #  # only acquire if doing the accurazy brainmap not necessary for the ROCN evidence\n",
    "    \"avg_RIPs\", \n",
    "#     'evidence',\n",
    "    'accuracy', #\n",
    "#     'RIP_window', # \n",
    "    'RIPs',\n",
    "#     'conf_mat', # \n",
    "  ]\n",
    "\n",
    "scores = GetRecallEvidence(date, roi, shift, win_size, measure_list, betatypes, dirpath)\n",
    "\n",
    "     "
   ]
  },
  {
   "cell_type": "code",
   "execution_count": 29,
   "metadata": {},
   "outputs": [
    {
     "name": "stderr",
     "output_type": "stream",
     "text": [
      "/jukebox/pkgs/PYGER/0.9.1/lib/python3.7/site-packages/ipykernel_launcher.py:14: TqdmDeprecationWarning: This function will be removed in tqdm==5.0.0\n",
      "Please use `tqdm.notebook.tqdm` instead of `tqdm.tqdm_notebook`\n",
      "  \n"
     ]
    },
    {
     "data": {
      "application/vnd.jupyter.widget-view+json": {
       "model_id": "cb2e2af3bc6543f697a08d856dadbf81",
       "version_major": 2,
       "version_minor": 0
      },
      "text/plain": [
       "  0%|          | 0/2 [00:00<?, ?it/s]"
      ]
     },
     "metadata": {},
     "output_type": "display_data"
    },
    {
     "name": "stdout",
     "output_type": "stream",
     "text": [
      "...confmats saved.\n"
     ]
    }
   ],
   "source": [
    "# ## SAVE CONFMAT since it takes a long time to load up\n",
    "\n",
    "# date = 20240401; shift = 4; win_size=9 ;\n",
    "\n",
    "# fname = '{}_{}_hems{}_betas{}_winsize{}_shift{}_ClassifyRecalls_CONFMAT'.format(\n",
    "# date,\n",
    "# roi,\n",
    "# 'both',\n",
    "# 'both',\n",
    "# win_size,\n",
    "# shift) + '.pkl'\n",
    "\n",
    "# conf_mat_scores = {}\n",
    "# for betatype in tqdm_notebook(betatypes):\n",
    "#     conf_mat_scores[betatype] = {}\n",
    "#     for hem in ['R','L']:\n",
    "#         conf_mat_scores[betatype][hem] = scores[betatype]['conf_mat'][hem].copy()\n",
    "        \n",
    "# save_obj(\"../PythonData2024/Output/confmats/{}\".format(fname),conf_mat_scores)  \n",
    "\n",
    "# print(\"...confmats saved.\")\n",
    "    \n"
   ]
  },
  {
   "cell_type": "code",
   "execution_count": null,
   "metadata": {},
   "outputs": [],
   "source": []
  },
  {
   "cell_type": "markdown",
   "metadata": {},
   "source": [
    "# 1. Create Recall Classifier Accuracy Brainmap"
   ]
  },
  {
   "cell_type": "code",
   "execution_count": 76,
   "metadata": {
    "scrolled": true
   },
   "outputs": [
    {
     "name": "stdout",
     "output_type": "stream",
     "text": [
      "....first if: objects accuracy\n"
     ]
    },
    {
     "name": "stderr",
     "output_type": "stream",
     "text": [
      "/jukebox/pkgs/PYGER/0.9.1/lib/python3.7/site-packages/ipykernel_launcher.py:79: RuntimeWarning: Mean of empty slice\n",
      "/jukebox/pkgs/PYGER/0.9.1/lib/python3.7/site-packages/ipykernel_launcher.py:80: TqdmDeprecationWarning: This function will be removed in tqdm==5.0.0\n",
      "Please use `tqdm.notebook.tqdm` instead of `tqdm.tqdm_notebook`\n"
     ]
    },
    {
     "data": {
      "application/vnd.jupyter.widget-view+json": {
       "model_id": "4812499a89ab4a2da0b699a8bd35beb3",
       "version_major": 2,
       "version_minor": 0
      },
      "text/plain": [
       "  0%|          | 0/40962 [00:00<?, ?it/s]"
      ]
     },
     "metadata": {},
     "output_type": "display_data"
    },
    {
     "data": {
      "application/vnd.jupyter.widget-view+json": {
       "model_id": "f5f683a80f4144d5830673687528f512",
       "version_major": 2,
       "version_minor": 0
      },
      "text/plain": [
       "  0%|          | 0/40962 [00:00<?, ?it/s]"
      ]
     },
     "metadata": {},
     "output_type": "display_data"
    },
    {
     "data": {
      "application/vnd.jupyter.widget-view+json": {
       "model_id": "027a3f72504c4fd2822b892a9b61efc6",
       "version_major": 2,
       "version_minor": 0
      },
      "text/plain": [
       "  0%|          | 0/40962 [00:00<?, ?it/s]"
      ]
     },
     "metadata": {},
     "output_type": "display_data"
    },
    {
     "data": {
      "application/vnd.jupyter.widget-view+json": {
       "model_id": "fe0d8a173fb84778a675a6f59a0fdbac",
       "version_major": 2,
       "version_minor": 0
      },
      "text/plain": [
       "  0%|          | 0/40962 [00:00<?, ?it/s]"
      ]
     },
     "metadata": {},
     "output_type": "display_data"
    },
    {
     "name": "stdout",
     "output_type": "stream",
     "text": [
      "...runing confmat permutation.\n"
     ]
    },
    {
     "name": "stderr",
     "output_type": "stream",
     "text": [
      "/jukebox/pkgs/PYGER/0.9.1/lib/python3.7/site-packages/ipykernel_launcher.py:102: TqdmDeprecationWarning: This function will be removed in tqdm==5.0.0\n",
      "Please use `tqdm.notebook.tqdm` instead of `tqdm.tqdm_notebook`\n"
     ]
    },
    {
     "data": {
      "application/vnd.jupyter.widget-view+json": {
       "model_id": "8e54934fc8cf4a77afc058ca7ee5d96a",
       "version_major": 2,
       "version_minor": 0
      },
      "text/plain": [
       "  0%|          | 0/1483 [00:00<?, ?it/s]"
      ]
     },
     "metadata": {},
     "output_type": "display_data"
    },
    {
     "name": "stdout",
     "output_type": "stream",
     "text": [
      "...runing confmat permutation.\n"
     ]
    },
    {
     "data": {
      "application/vnd.jupyter.widget-view+json": {
       "model_id": "16ef927040184d75a4b7cf88d65e10ce",
       "version_major": 2,
       "version_minor": 0
      },
      "text/plain": [
       "  0%|          | 0/1483 [00:00<?, ?it/s]"
      ]
     },
     "metadata": {},
     "output_type": "display_data"
    },
    {
     "name": "stdout",
     "output_type": "stream",
     "text": [
      "....first if: rooms accuracy\n"
     ]
    },
    {
     "data": {
      "application/vnd.jupyter.widget-view+json": {
       "model_id": "1858dcd8ed6e4ddcba27c30cdcea882b",
       "version_major": 2,
       "version_minor": 0
      },
      "text/plain": [
       "  0%|          | 0/40962 [00:00<?, ?it/s]"
      ]
     },
     "metadata": {},
     "output_type": "display_data"
    },
    {
     "data": {
      "application/vnd.jupyter.widget-view+json": {
       "model_id": "77e95c870c4b4a6e90a5e5b4899bcad5",
       "version_major": 2,
       "version_minor": 0
      },
      "text/plain": [
       "  0%|          | 0/40962 [00:00<?, ?it/s]"
      ]
     },
     "metadata": {},
     "output_type": "display_data"
    },
    {
     "data": {
      "application/vnd.jupyter.widget-view+json": {
       "model_id": "d983cf1d850f46208f130c85886ef62d",
       "version_major": 2,
       "version_minor": 0
      },
      "text/plain": [
       "  0%|          | 0/40962 [00:00<?, ?it/s]"
      ]
     },
     "metadata": {},
     "output_type": "display_data"
    },
    {
     "data": {
      "application/vnd.jupyter.widget-view+json": {
       "model_id": "57800900dad14d8fb647f6b87d332438",
       "version_major": 2,
       "version_minor": 0
      },
      "text/plain": [
       "  0%|          | 0/40962 [00:00<?, ?it/s]"
      ]
     },
     "metadata": {},
     "output_type": "display_data"
    },
    {
     "name": "stdout",
     "output_type": "stream",
     "text": [
      "...runing confmat permutation.\n"
     ]
    },
    {
     "data": {
      "application/vnd.jupyter.widget-view+json": {
       "model_id": "de3c2bcf58214da89e3d545f3716a4bd",
       "version_major": 2,
       "version_minor": 0
      },
      "text/plain": [
       "  0%|          | 0/1483 [00:00<?, ?it/s]"
      ]
     },
     "metadata": {},
     "output_type": "display_data"
    },
    {
     "name": "stdout",
     "output_type": "stream",
     "text": [
      "...runing confmat permutation.\n"
     ]
    },
    {
     "data": {
      "application/vnd.jupyter.widget-view+json": {
       "model_id": "6f277e8f273c48178f9fff094937f086",
       "version_major": 2,
       "version_minor": 0
      },
      "text/plain": [
       "  0%|          | 0/1483 [00:00<?, ?it/s]"
      ]
     },
     "metadata": {},
     "output_type": "display_data"
    },
    {
     "name": "stdout",
     "output_type": "stream",
     "text": [
      "....first if: objects accuracy\n"
     ]
    },
    {
     "data": {
      "application/vnd.jupyter.widget-view+json": {
       "model_id": "4311c364b1354213874215bddb0c2815",
       "version_major": 2,
       "version_minor": 0
      },
      "text/plain": [
       "  0%|          | 0/40962 [00:00<?, ?it/s]"
      ]
     },
     "metadata": {},
     "output_type": "display_data"
    },
    {
     "data": {
      "application/vnd.jupyter.widget-view+json": {
       "model_id": "bfd956e8791c43d7bbed0dac97c6b764",
       "version_major": 2,
       "version_minor": 0
      },
      "text/plain": [
       "  0%|          | 0/40962 [00:00<?, ?it/s]"
      ]
     },
     "metadata": {},
     "output_type": "display_data"
    },
    {
     "data": {
      "application/vnd.jupyter.widget-view+json": {
       "model_id": "8512318bcc584124b6e70baa6e6b4abc",
       "version_major": 2,
       "version_minor": 0
      },
      "text/plain": [
       "  0%|          | 0/40962 [00:00<?, ?it/s]"
      ]
     },
     "metadata": {},
     "output_type": "display_data"
    },
    {
     "data": {
      "application/vnd.jupyter.widget-view+json": {
       "model_id": "f35ec3ae509e400589b228a4e0838447",
       "version_major": 2,
       "version_minor": 0
      },
      "text/plain": [
       "  0%|          | 0/40962 [00:00<?, ?it/s]"
      ]
     },
     "metadata": {},
     "output_type": "display_data"
    },
    {
     "name": "stdout",
     "output_type": "stream",
     "text": [
      "...runing confmat permutation.\n"
     ]
    },
    {
     "data": {
      "application/vnd.jupyter.widget-view+json": {
       "model_id": "26b233690988431f8a672fbf9a0c17ed",
       "version_major": 2,
       "version_minor": 0
      },
      "text/plain": [
       "  0%|          | 0/1483 [00:00<?, ?it/s]"
      ]
     },
     "metadata": {},
     "output_type": "display_data"
    },
    {
     "name": "stdout",
     "output_type": "stream",
     "text": [
      "...runing confmat permutation.\n"
     ]
    },
    {
     "data": {
      "application/vnd.jupyter.widget-view+json": {
       "model_id": "6aa9da6c2b7e4ccab552412d60723781",
       "version_major": 2,
       "version_minor": 0
      },
      "text/plain": [
       "  0%|          | 0/1483 [00:00<?, ?it/s]"
      ]
     },
     "metadata": {},
     "output_type": "display_data"
    },
    {
     "name": "stdout",
     "output_type": "stream",
     "text": [
      "....first if: rooms accuracy\n"
     ]
    },
    {
     "data": {
      "application/vnd.jupyter.widget-view+json": {
       "model_id": "d5a17a5e46dd4ff6a8849bee43c3996e",
       "version_major": 2,
       "version_minor": 0
      },
      "text/plain": [
       "  0%|          | 0/40962 [00:00<?, ?it/s]"
      ]
     },
     "metadata": {},
     "output_type": "display_data"
    },
    {
     "data": {
      "application/vnd.jupyter.widget-view+json": {
       "model_id": "bba0816a4c1e4d6ea45e2ad50526a6c6",
       "version_major": 2,
       "version_minor": 0
      },
      "text/plain": [
       "  0%|          | 0/40962 [00:00<?, ?it/s]"
      ]
     },
     "metadata": {},
     "output_type": "display_data"
    },
    {
     "data": {
      "application/vnd.jupyter.widget-view+json": {
       "model_id": "0261ba6de27f4aedbb5d2f81b8ff188f",
       "version_major": 2,
       "version_minor": 0
      },
      "text/plain": [
       "  0%|          | 0/40962 [00:00<?, ?it/s]"
      ]
     },
     "metadata": {},
     "output_type": "display_data"
    },
    {
     "data": {
      "application/vnd.jupyter.widget-view+json": {
       "model_id": "9efaed78dda948048d8d40b16476db1e",
       "version_major": 2,
       "version_minor": 0
      },
      "text/plain": [
       "  0%|          | 0/40962 [00:00<?, ?it/s]"
      ]
     },
     "metadata": {},
     "output_type": "display_data"
    },
    {
     "name": "stdout",
     "output_type": "stream",
     "text": [
      "...runing confmat permutation.\n"
     ]
    },
    {
     "data": {
      "application/vnd.jupyter.widget-view+json": {
       "model_id": "285133189fb041919289ea167cb6884c",
       "version_major": 2,
       "version_minor": 0
      },
      "text/plain": [
       "  0%|          | 0/1483 [00:00<?, ?it/s]"
      ]
     },
     "metadata": {},
     "output_type": "display_data"
    },
    {
     "name": "stdout",
     "output_type": "stream",
     "text": [
      "...runing confmat permutation.\n"
     ]
    },
    {
     "data": {
      "application/vnd.jupyter.widget-view+json": {
       "model_id": "127b8378fb894c09aa058344668b58db",
       "version_major": 2,
       "version_minor": 0
      },
      "text/plain": [
       "  0%|          | 0/1483 [00:00<?, ?it/s]"
      ]
     },
     "metadata": {},
     "output_type": "display_data"
    },
    {
     "name": "stdout",
     "output_type": "stream",
     "text": [
      "...saving in:  ../PythonData2024/Output/brainmaps/20240401_ClassifyRecalls_Accuracy_shift4.pkl\n",
      "complete.\n"
     ]
    }
   ],
   "source": [
    "\n",
    "#scores --> nPerm+1\n",
    "#ev_prank --> nPerm+1\n",
    "\n",
    "nv = 40962 #verts in fsaverage6 brain\n",
    "# raw_vox = {} # raw values\n",
    "# p_vox = {} # non-parametric p-values\n",
    "# q_vox = {} # q-values from FDR-correction\n",
    "# z_vox = {} # z-values\n",
    "\n",
    "#     'cp_window', # (nSLs, 9,11,25)\n",
    "#     'evidence_window', # (nSLs, 9,23,11,25)\n",
    "#     'accuracy', #(nSLs,11,25,1001)\n",
    "#     'real_minus_prior', #(nSLs,11,25)\n",
    "\n",
    "chance = 1/23\n",
    "\n",
    "trials = ['GR0', 'GR1', 'GR2', 'GR3','GR4', 'GR5', 'GR6', 'GR7','GR8', 'GR9', 'GR10','FR']\n",
    "nPerm = 1000\n",
    "\n",
    "# trial_to_use = 'GR'\n",
    "# trials_to_use\n",
    "measures = {}\n",
    "for trial_to_use in ['GR','FR']:\n",
    "    \n",
    "    ## which type of recall are we going to get accuracy from?\n",
    "    ## choose between guided recalls (GR) or free recalls (FR)\n",
    "    trials_to_use = np.arange(len(trials))[:-1] if trial_to_use == 'GR' else [np.arange(len(trials))[-1]]\n",
    "\n",
    "    measures[trial_to_use] = {}\n",
    "    for betatype in ['objects','rooms']:# ['rooms','objects']:\n",
    "        measures[trial_to_use][betatype] = {}\n",
    "        \n",
    "        for measuretype in ['accuracy','RIPs','avg_RIPs','conf_mat']: #measure_list:\n",
    "            measures[trial_to_use][betatype][measuretype] = {}\n",
    "\n",
    "            if 'accuracy' == measuretype:\n",
    "\n",
    "                print(\"....first if: {} {}\".format(betatype, measuretype))\n",
    "\n",
    "                dd_hem = {\"L\":np.nanmean(np.nanmean(scores[betatype][measuretype]['L'][:,trials_to_use,:,:],1),1),\n",
    "                          \"R\": np.nanmean(np.nanmean(scores[betatype][measuretype]['R'][:,trials_to_use,:,:],1),1)} #shape (nSLs,nPerm+1)\n",
    "                dd_vox = SLtoVox(dd_hem, ROIlist,nv,zeronan=False) #\n",
    "\n",
    "                ## z-score\n",
    "                measures[trial_to_use][betatype][measuretype]['raw'] = {}\n",
    "                measures[trial_to_use][betatype][measuretype]['z'] = {}\n",
    "\n",
    "                dd_vox_p = {}\n",
    "                for hem in ['L','R']:\n",
    "                    dd_vox_p[hem] = NonparametricP(dd_vox[hem],sided=1) #accuracy can only be positive so 1-sided\n",
    "                    measures[trial_to_use][betatype][measuretype]['raw'][hem] = dd_vox[hem][:,0]\n",
    "                    measures[trial_to_use][betatype][measuretype]['z'][hem] = nullZ(dd_vox[hem])\n",
    "\n",
    "                measures[trial_to_use][betatype][measuretype]['p'] = dd_vox_p\n",
    "                measures[trial_to_use][betatype][measuretype]['q'] = FDR_p_hem(dd_vox_p)\n",
    "                \n",
    "\n",
    "            ### SHOULD REMOVE THIS, 20230812 DONT NEED IT\n",
    "            if 'RIPs' == measuretype or \"avg_RIPs\" == measuretype:\n",
    "                t_vox = {}\n",
    "                t_p_vox = {}\n",
    "                raw_vox = {}\n",
    "\n",
    "                if 'RIPs'==measuretype:\n",
    "                    dd_hem = {\"L\":np.nanmean(np.nanmean(scores[betatype][measuretype]['L'][:,:,trials_to_use,:],1),1),\n",
    "                          \"R\": np.nanmean(np.nanmean(scores[betatype][measuretype]['R'][:,:,trials_to_use,:],1),1)} #shape (nSLs,nSubj)\n",
    "\n",
    "                elif \"avg_RIPs\" == measuretype:\n",
    "                    idx2use = 0 if trial_to_use=='GR' else 1\n",
    "                    #scores[betatype]['avg_RIPs']['R'].shape #(1483, 2, 23, 25)\n",
    "                    dd_hem = {\"L\": np.nanmean(scores[betatype][measuretype]['L'][:,idx2use,:,:],1),\n",
    "                             \"R\": np.nanmean(scores[betatype][measuretype]['R'][:,idx2use,:,:],1)} #shape (nSLs,nSubj)\n",
    "                \n",
    "                dd_vox = SLtoVox(dd_hem, ROIlist,nv,zeronan=False) #\n",
    "\n",
    "                for hem in ['L','R']:\n",
    "                    t_vox[hem] = np.full((nv),fill_value=np.nan)\n",
    "                    t_p_vox[hem] = np.full((nv),fill_value=np.nan)\n",
    "                    raw_vox[hem] = np.nanmean(dd_vox[hem],1) #avg out subj\n",
    "                    for vi in tqdm_notebook(range(nv)):\n",
    "\n",
    "                        # get t value from 25 subj numbers for every vertex\n",
    "    #                     t, p = stats.ttest_1samp(dd_vox[hem][vi,:],chance,alternative='greater') #one sided t-test \n",
    "                        t, p = stats.ttest_1samp(dd_vox[hem][vi],chance) #only two-sided available\n",
    "                        p = p / 2 # make it 1 sided\n",
    "                        t_vox[hem][vi] = t\n",
    "                        t_p_vox[hem][vi] = p\n",
    "\n",
    "                measures[trial_to_use][betatype][measuretype]['t_q'] = FDR_p_hem(t_p_vox)\n",
    "                measures[trial_to_use][betatype][measuretype]['t'] = t_vox\n",
    "                measures[trial_to_use][betatype][measuretype]['raw'] = raw_vox\n",
    "                \n",
    "            if 'conf_mat' == measuretype: #accuracy based on confmat\n",
    "                \n",
    "                confmat_acc_perm = {}\n",
    "                for hem in ['L','R']:\n",
    "                    confmat_acc_perm[hem] = np.full((len(SLlist[hem]), nPerm+1), fill_value=np.nan)\n",
    "                    confmat = scores[betatype]['conf_mat'][hem][:,:,:,trials_to_use,:].sum(-1).sum(-1) # shape (nSLs, 23,23)\n",
    "\n",
    "                    ## PERMUTATION:\n",
    "                    print('...runing confmat permutation.')\n",
    "                    for sl in tqdm_notebook(range(len(SLlist[hem]))):\n",
    "                        for p in range(nPerm+1):\n",
    "                            if p > 0:\n",
    "                                permconf = confmat[sl,np.random.permutation(np.arange(23)),:].copy()\n",
    "                            else:\n",
    "                                permconf = confmat[sl].copy()\n",
    "\n",
    "                            confmat_acc_perm[hem][sl,p] = np.diag(permconf).sum() / permconf.sum()\n",
    "                            \n",
    "                    \n",
    "                dd_hem = {\"L\":confmat_acc_perm['L'],\"R\": confmat_acc_perm['R']} #shape (nSLs,nPerm+1)\n",
    "                dd_vox = SLtoVox(dd_hem, ROIlist,nv,zeronan=False) #\n",
    "\n",
    "                ## z-score\n",
    "                measures[trial_to_use][betatype][measuretype]['raw'] = {}\n",
    "                measures[trial_to_use][betatype][measuretype]['z'] = {}\n",
    "                \n",
    "                dd_vox_p = {}\n",
    "                for hem in ['L','R']:\n",
    "                    dd_vox_p[hem] = NonparametricP(dd_vox[hem],sided=1) #accuracy can only be positive so 1-sided\n",
    "                    measures[trial_to_use][betatype][measuretype]['raw'][hem] = dd_vox[hem][:,0]\n",
    "                    measures[trial_to_use][betatype][measuretype]['z'][hem] = nullZ(dd_vox[hem])\n",
    "\n",
    "                measures[trial_to_use][betatype][measuretype]['p'] = dd_vox_p\n",
    "                measures[trial_to_use][betatype][measuretype]['q'] = FDR_p_hem(dd_vox_p)\n",
    "\n",
    "                \n",
    "\n",
    "\n",
    "###\n",
    "### SAVE SAVE SAVE\n",
    "###\n",
    "# date = 20230814 # after re-running classifyrecalls on objects\n",
    "# date = 20240108 # \n",
    "date = 20240401 # second permutation fix, keep structure intact\n",
    "\n",
    "dirpath = '../PythonData2024/Output/brainmaps/'\n",
    "fname = '{}_ClassifyRecalls_Accuracy_shift{}'.format(date,shift) + '.pkl'\n",
    "fullpath = os.path.join(dirpath,fname)\n",
    "\n",
    "#     data = measures\n",
    "save_obj(fullpath,measures)\n",
    "print('...saving in: ',fullpath)\n",
    "\n",
    "\n",
    "print('complete.')"
   ]
  },
  {
   "cell_type": "code",
   "execution_count": null,
   "metadata": {},
   "outputs": [],
   "source": []
  },
  {
   "cell_type": "markdown",
   "metadata": {},
   "source": [
    "# 2. Get ROCN and POCN Item Evidence for Recalls\n",
    "\n",
    "use the ROCN and POCN's as ROI masks to extract item evidence from recalls"
   ]
  },
  {
   "cell_type": "code",
   "execution_count": 8,
   "metadata": {},
   "outputs": [],
   "source": [
    "\n",
    "\n",
    "##########\n",
    "########## Grab the ROCN and POCN networks (made in 03b notebook)\n",
    "##########\n",
    "\n",
    "# date = 20240108\n",
    "date = 20240401 # second permutation fix\n",
    "\n",
    "\n",
    "besttype = 'Z'\n",
    "shift = 4\n",
    "top_thresh = 50\n",
    "\n",
    "superteam_path = '../PythonData2024/Output/Networks'\n",
    "\n",
    "\n",
    "superteam_SL_savename = '{}_Networks_Best{}SLs_shift{}_top{}.pkl'.format(date,besttype,shift,top_thresh)\n",
    "path = os.path.join(superteam_path,superteam_SL_savename)\n",
    "best_Z_SLs = load_obj(path)\n",
    "\n"
   ]
  },
  {
   "cell_type": "code",
   "execution_count": 9,
   "metadata": {},
   "outputs": [],
   "source": [
    "# Retrieved Object Classifier Network (ROCN)\n",
    "ROCN_SLs = best_Z_SLs['objects']['rooms']\n",
    "\n",
    "# Perceived Object Classifier Network (POCN)\n",
    "POCN_SLs = best_Z_SLs['objects']['objects']\n",
    "\n",
    "# RRCN_SLs = best_Z_SLs['rooms']['objects']\n",
    "# PRCN_SLs = best_Z_SLs['rooms']['rooms']"
   ]
  },
  {
   "cell_type": "code",
   "execution_count": 89,
   "metadata": {},
   "outputs": [
    {
     "name": "stdout",
     "output_type": "stream",
     "text": [
      "betatype: objects | videotype: rooms\n",
      "ROCN\n",
      "separate [ 252 1410  154  469 1408 1187  985  240 1312  618  825  810  590  949\n",
      " 1429 1441  956  714  372 1277   57 1397  527  745  461  172]\n",
      "embedded [ 252 1410  154  469 1408 1187  985  240 1312  618  825  810  590  949\n",
      " 1429 1441  956  714  372 1277   57 1397  527  745  461  172]\n",
      "(50, 2, 23, 25)\n",
      "(23, 25)\n",
      "0\n"
     ]
    },
    {
     "name": "stderr",
     "output_type": "stream",
     "text": [
      "/jukebox/pkgs/PYGER/0.9.1/lib/python3.7/site-packages/ipykernel_launcher.py:58: RuntimeWarning: Mean of empty slice\n"
     ]
    },
    {
     "name": "stdout",
     "output_type": "stream",
     "text": [
      "(23, 25)\n",
      "1\n",
      "betatype: objects | videotype: objects\n",
      "POCN\n",
      "separate [ 252 1410  154  469 1408 1187  985  240 1312  618  825  810  590  949\n",
      " 1429 1441  956  714  372 1277   57 1397  527  745  461  172]\n",
      "embedded [ 802 1419  360  775  564  818  206 1004 1119  359  264 1141  290  485\n",
      "  777]\n",
      "(50, 2, 23, 25)\n",
      "(23, 25)\n",
      "0\n",
      "(23, 25)\n",
      "1\n"
     ]
    }
   ],
   "source": [
    "nItems = 23\n",
    "\n",
    "useAvgRIPs = True # use norm across all trials and subjects instead of norm across trials (normal RIPs)\n",
    "\n",
    "superteam_SLs = best_Z_SLs\n",
    "\n",
    "betatype = 'objects'\n",
    "\n",
    "modified_rip = {} # \n",
    "\n",
    "item_order = np.arange(nItems)\n",
    "\n",
    "for network, SLs2Use in zip((\"ROCN\",\"POCN\"),(ROCN_SLs, POCN_SLs)):\n",
    "    \n",
    "    modified_rip[network] = {}\n",
    "    \n",
    "    ## ROCN is when we classify an item that is not visible\n",
    "    ## POCN is when we classify an item that is visible (perceived)\n",
    "    \n",
    "    videotype = 'rooms' if network=='ROCN' else 'objects'\n",
    "    \n",
    "    print('betatype: {} | videotype: {}'.format(betatype,videotype))\n",
    "        \n",
    "    bestL = superteam_SLs[betatype][videotype]['L'].astype(int)\n",
    "    bestR = superteam_SLs[betatype][videotype]['R'].astype(int)\n",
    "    \n",
    "    print(network)\n",
    "    \n",
    "    print('separate', ROCN_SLs['L'])\n",
    "    print('embedded', bestL )\n",
    "    \n",
    "    if useAvgRIPs==True:\n",
    "        concat_rip = np.concatenate((scores[betatype]['avg_RIPs']['L'][bestL],\n",
    "                                scores[betatype]['avg_RIPs']['R'][bestR]),axis=0)\n",
    "    else:\n",
    "        concat_rip = np.concatenate((scores[betatype]['RIPs']['L'][bestL],\n",
    "                                scores[betatype]['RIPs']['R'][bestR]),axis=0)\n",
    "        \n",
    "    print(concat_rip.shape)\n",
    "    \n",
    "    for trial_to_use in ['GR','FR']:\n",
    "\n",
    "        modified_rip[network][trial_to_use] = np.full((nItems,nSubj),fill_value=np.nan)\n",
    "\n",
    "        ## which type of recall are we going to get accuracy from?\n",
    "        ## choose between guided recalls (GR) or free recalls (FR)\n",
    "        \n",
    "        if useAvgRIPs==False:\n",
    "            # shape of concat_rip = (50, 12, 23, 25)\n",
    "            trials_to_use = np.arange(len(trials))[:-1] if trial_to_use == 'GR' else [np.arange(len(trials))[-1]]\n",
    "            current_rip = concat_rip[:,:,trials_to_use,:]\n",
    "            current_rip = np.nanmean(current_rip,2) #average out trials\n",
    "            current_rip = np.nanmean(current_rip,0) # average out SLs, now it's (23,25)\n",
    "        else:\n",
    "            # shape of concat_rip = (50, 2, 23, 25)\n",
    "            trials_to_use = 0 if trial_to_use == 'GR' else 1\n",
    "            current_rip = concat_rip[:,trials_to_use,:,:]\n",
    "            current_rip = np.nanmean(current_rip,0) # average out SLs, now it's (23,25)\n",
    "            print(current_rip.shape)\n",
    "        \n",
    "        print(trials_to_use)\n",
    "\n",
    "        for si, subj in enumerate(subject_ids):\n",
    "\n",
    "            if betatype == 'rooms':\n",
    "                #no need to re-order\n",
    "                print(\"no need to re-order \")\n",
    "                new_item_order = item_order\n",
    "\n",
    "            elif betatype == 'objects':\n",
    "\n",
    "                # need to re-order so that object index is equal to room index per subject\n",
    "                new_item_order = Convert_SourceItem_to_PairedItem_Order(subj,item_order,room_obj_assignments,fromItem='objidx',toItem='roomidx')\n",
    "                \n",
    "#                 print(new_item_order)\n",
    "                      \n",
    "            modified_rip[network][trial_to_use][:,si] = current_rip[new_item_order,si]\n",
    "\n"
   ]
  },
  {
   "cell_type": "code",
   "execution_count": 107,
   "metadata": {},
   "outputs": [
    {
     "data": {
      "text/plain": [
       "True"
      ]
     },
     "execution_count": 107,
     "metadata": {},
     "output_type": "execute_result"
    }
   ],
   "source": [
    "useAvgRIPs"
   ]
  },
  {
   "cell_type": "code",
   "execution_count": null,
   "metadata": {},
   "outputs": [],
   "source": []
  },
  {
   "cell_type": "code",
   "execution_count": 11,
   "metadata": {},
   "outputs": [
    {
     "name": "stdout",
     "output_type": "stream",
     "text": [
      "Folder already exists: ../PythonData2024/Output/RecallEvidence\n",
      "Folder already exists: ../PythonData2024/Output/20240916_RecallEvidence\n",
      "Folder and its parents created at: ../PythonData2024/Output/20240917_RecallEvidence\n",
      "saved... \n",
      "... ../PythonData2024/Output/20240917_RecallEvidence/20240917_NetworksRecallEvidence_shift4_top50.pkl\n"
     ]
    }
   ],
   "source": [
    "\n",
    "###\n",
    "### SAVE SAVE SAVE SAVE SAVE\n",
    "###\n",
    "\n",
    "# date = 20240108 # \n",
    "date = 20240401 # second permutation fix\n",
    "savedir = '../PythonData2024/Output/RecallEvidence' ; create_dirs(savedir)\n",
    "\n",
    "fname = '{}_NetworksRecallEvidence_shift{}_top{}'.format(date,shift,top_thresh) + '.pkl'\n",
    "                                                                                                \n",
    "save_obj(os.path.join(savedir,fname),modified_rip)\n",
    "print('saved... ')\n",
    "print('...', os.path.join(savedir,fname))"
   ]
  },
  {
   "cell_type": "code",
   "execution_count": null,
   "metadata": {},
   "outputs": [],
   "source": []
  }
 ],
 "metadata": {
  "kernelspec": {
   "display_name": "Python 3",
   "language": "python",
   "name": "python3"
  },
  "language_info": {
   "codemirror_mode": {
    "name": "ipython",
    "version": 3
   },
   "file_extension": ".py",
   "mimetype": "text/x-python",
   "name": "python",
   "nbconvert_exporter": "python",
   "pygments_lexer": "ipython3",
   "version": "3.7.9"
  }
 },
 "nbformat": 4,
 "nbformat_minor": 2
}
