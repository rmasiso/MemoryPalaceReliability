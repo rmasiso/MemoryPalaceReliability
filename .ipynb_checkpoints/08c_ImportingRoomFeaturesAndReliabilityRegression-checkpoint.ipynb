{
 "cells": [
  {
   "cell_type": "markdown",
   "id": "greenhouse-headline",
   "metadata": {},
   "source": [
    "# import\n",
    "\n"
   ]
  },
  {
   "cell_type": "code",
   "execution_count": 1,
   "id": "vertical-retail",
   "metadata": {},
   "outputs": [
    {
     "name": "stdout",
     "output_type": "stream",
     "text": [
      "total 762016\r\n",
      "-rw-rw-r--. 1 rmasis normanlab  749 Apr 28 16:27 slurm_-848382_1363.log\r\n",
      "-rw-rw-r--. 1 rmasis normanlab  749 Apr 28 16:27 slurm_-848381_1362.log\r\n",
      "-rw-rw-r--. 1 rmasis normanlab  749 Apr 28 16:26 slurm_-848414_1395.log\r\n",
      "-rw-rw-r--. 1 rmasis normanlab  749 Apr 28 16:26 slurm_-848434_1415.log\r\n",
      "ls: write error: Broken pipe\r\n"
     ]
    }
   ],
   "source": [
    "ls -lt /jukebox/norman/rmasis/MemPal/analysis/MemPal2024/PythonData2024/Logs/reliability2feature/ | head -n 5"
   ]
  },
  {
   "cell_type": "code",
   "execution_count": 2,
   "id": "wireless-updating",
   "metadata": {},
   "outputs": [],
   "source": [
    "from tqdm import tqdm_notebook\n",
    "import deepdish as dd\n",
    "import numpy as np\n",
    "import os\n",
    "import h5py\n",
    "import pandas as pd\n",
    "from scipy import stats\n",
    "from _searchlight_util import *\n",
    "import matplotlib.pyplot as plt\n",
    "from _classification_util import Convert_SourceItem_to_PairedItem_Order\n",
    "from _mempal_util import room_obj_assignments, save_obj, load_obj, create_dirs, subject_ids\n",
    "\n",
    "trials = ['GR0', 'GR1', 'GR2', 'GR3','GR4', 'GR5', 'GR6', 'GR7','GR8', 'GR9', 'GR10','FR']\n"
   ]
  },
  {
   "cell_type": "code",
   "execution_count": 5,
   "id": "crude-passenger",
   "metadata": {},
   "outputs": [
    {
     "name": "stderr",
     "output_type": "stream",
     "text": [
      "/jukebox/pkgs/PYGER/base/envs/0.11.0/lib/python3.7/site-packages/ipykernel_launcher.py:96: TqdmDeprecationWarning: This function will be removed in tqdm==5.0.0\n",
      "Please use `tqdm.notebook.tqdm` instead of `tqdm.tqdm_notebook`\n"
     ]
    },
    {
     "data": {
      "application/vnd.jupyter.widget-view+json": {
       "model_id": "5e0137ea5b8848f5a279bd3603356eac",
       "version_major": 2,
       "version_minor": 0
      },
      "text/plain": [
       "  0%|          | 0/8 [00:00<?, ?it/s]"
      ]
     },
     "metadata": {},
     "output_type": "display_data"
    },
    {
     "name": "stderr",
     "output_type": "stream",
     "text": [
      "/jukebox/pkgs/PYGER/base/envs/0.11.0/lib/python3.7/site-packages/ipykernel_launcher.py:123: TqdmDeprecationWarning: This function will be removed in tqdm==5.0.0\n",
      "Please use `tqdm.notebook.tqdm` instead of `tqdm.tqdm_notebook`\n"
     ]
    },
    {
     "data": {
      "application/vnd.jupyter.widget-view+json": {
       "model_id": "fda15776240346a99340f9067dea0da7",
       "version_major": 2,
       "version_minor": 0
      },
      "text/plain": [
       "  0%|          | 0/6 [00:00<?, ?it/s]"
      ]
     },
     "metadata": {},
     "output_type": "display_data"
    }
   ],
   "source": [
    "roi = 'SL'\n",
    "hems=['L','R']\n",
    "nPerm = 1000\n",
    "nSubj =25\n",
    "nRooms = 23\n",
    "nItems=23\n",
    "nTrials = 23\n",
    "\n",
    "scores = {}\n",
    "rois = []\n",
    "\n",
    "\n",
    "# date = 20240108\n",
    "\n",
    "\n",
    "measure_list = [\n",
    "#     'betas', # contains property list from regrssion\n",
    "    'r_squared', # from regression\n",
    "    'intercepts', # from regression\n",
    "#     'occupied_box_volume', \n",
    "#     'boxcoll_volume', \n",
    "    'ratio_occupied_boxcoll_volume', \n",
    "    \"area\", \n",
    "    \"manual_object_count\", \n",
    "    \"num_corners\",\n",
    "    \"view_outside\",\n",
    "    \"degree\",\n",
    "#     'betweenness',\n",
    "#     'closeness',\n",
    "#     'eigenvector',\n",
    "#     'pagerank',\n",
    "    \n",
    "    ]\n",
    "\n",
    "property_list = [\n",
    "    'occupied_box_volume', \n",
    "    'boxcoll_volume', \n",
    "    'ratio_occupied_boxcoll_volume', \n",
    "    \"area\", \n",
    "    \"manual_object_count\", \n",
    "    \"num_corners\",\n",
    "    \"view_outside\",\n",
    "    \"degree\",\n",
    "    'betweenness',\n",
    "#     'closeness',\n",
    "    'eigenvector',\n",
    "    'pagerank'\n",
    "    ]\n",
    "\n",
    "# 202504232 \n",
    "property_list = [\n",
    "#     'occupied_box_volume', \n",
    "#     'boxcoll_volume', \n",
    "    'ratio_occupied_boxcoll_volume', \n",
    "    \"area\", \n",
    "    \"manual_object_count\", \n",
    "    \"num_corners\",\n",
    "    \"view_outside\",\n",
    "    \"degree\",\n",
    "    \n",
    "#     'betweenness',\n",
    "#     'closeness',\n",
    "#     'eigenvector',\n",
    "#     'pagerank'\n",
    "    ]\n",
    "\n",
    "\n",
    "date = 20250417 # \n",
    "date = 20250423 # including regression\n",
    "date = 202504232\n",
    "date = 20250425 # permutation regression\n",
    "\n",
    "date = 20250524 # revision update\n",
    "\n",
    "# scores = {}\n",
    "# for measure in tqdm_notebook(measure_list):\n",
    "#     scores[measure] = {}\n",
    "#     for trial_type in ['GR','FR']:\n",
    "#         scores[measure] = {}\n",
    "\n",
    "#         for hem in ['L','R']:\n",
    "\n",
    "#             scores[measure][hem] = np.zeros((len(SLlist[hem]),nSubj, nPerm+1))\n",
    "\n",
    "#             for roi_id in (range(len(SLlist[hem]))[:]):\n",
    "   \n",
    "#                 dirpath = '../PythonData2024/Output/Reliability2RoomFeatures'\n",
    "#                 fname = '{}_{}{:03d}_{}_reliability2roomfeatures'.format(date,roi,roi_id,hem) + '.h5'\n",
    "\n",
    "#                 fullpath = os.path.join(dirpath,fname)\n",
    "#                 scores[measure][hem][roi_id] =  dd.io.load(fullpath,'/{}'.format(measure))\n",
    "\n",
    "\n",
    "\n",
    "scores = {}             \n",
    "for measure in tqdm_notebook(measure_list):\n",
    "    scores[measure] = {}\n",
    "\n",
    "    for hem in ['L','R']:\n",
    "        \n",
    "        if measure not in ['betas','r_squared','intercepts']:\n",
    "            scores[measure][hem] = np.zeros((len(SLlist[hem]),nSubj, nPerm+1))\n",
    "            \n",
    "        elif measure in ['r_squared' ,'intercepts']:\n",
    "#             scores[measure][hem]  = np.zeros((len(SLlist[hem]),nSubj))\n",
    "            scores[measure][hem]  = np.zeros((len(SLlist[hem]),nSubj, nPerm+1))\n",
    "            \n",
    "\n",
    "        ### populates correlation reasults (spearman corr)\n",
    "        ### and populates betas for intercepts from multiple regression\n",
    "        ### and populates r2 for multiple regresion\n",
    "        for roi_id in (range(len(SLlist[hem]))[:]):\n",
    "\n",
    "            dirpath = '../PythonData2024/Output/Reliability2RoomFeatures'\n",
    "            fname = '{}_{}{:03d}_{}_reliability2roomfeatures'.format(date,roi,roi_id,hem) + '.h5'\n",
    "\n",
    "            fullpath = os.path.join(dirpath,fname)\n",
    "            scores[measure][hem][roi_id] =  dd.io.load(fullpath,'/{}'.format(measure))\n",
    "\n",
    "\n",
    "### REGRESSION STUFF\n",
    "scores['betas'] = {}\n",
    "for measure in tqdm_notebook(property_list):\n",
    "    scores['betas'][measure] = {}\n",
    "    for hem in ['L','R']:\n",
    "#         scores['betas'][measure][hem] = np.zeros((len(SLlist[hem]),nSubj))\n",
    "        scores['betas'][measure][hem] = np.zeros((len(SLlist[hem]),nSubj,nPerm+1))\n",
    "\n",
    "        for roi_id in (range(len(SLlist[hem]))[:]):\n",
    "            dirpath = '../PythonData2024/Output/Reliability2RoomFeatures'\n",
    "            fname = '{}_{}{:03d}_{}_reliability2roomfeatures'.format(date,roi,roi_id,hem) + '.h5'\n",
    "\n",
    "            fullpath = os.path.join(dirpath,fname)\n",
    "            scores['betas'][measure][hem][roi_id] =  dd.io.load(fullpath,'/{}/{}'.format('betas',measure))\n",
    "\n",
    "\n",
    "\n"
   ]
  },
  {
   "cell_type": "code",
   "execution_count": null,
   "id": "afraid-commerce",
   "metadata": {},
   "outputs": [],
   "source": []
  },
  {
   "cell_type": "code",
   "execution_count": 6,
   "id": "compliant-physics",
   "metadata": {},
   "outputs": [
    {
     "name": "stdout",
     "output_type": "stream",
     "text": [
      "....* ratio_occupied_boxcoll_volume *....\n",
      "[ 22 539]\n",
      "corrs:  ratio_occupied_boxcoll_volume L 0.12379446640316208\n",
      "[1158  127]\n",
      "corrs:  ratio_occupied_boxcoll_volume R 0.1757905138339921\n",
      "....* area *....\n",
      "[ 633 1250]\n",
      "corrs:  area L 0.07855731225296443\n",
      "[575 501]\n",
      "corrs:  area R 0.08687747035573123\n",
      "....* manual_object_count *....\n",
      "[158 895]\n",
      "corrs:  manual_object_count L 0.12583439801949142\n",
      "[314  37]\n",
      "corrs:  manual_object_count R 0.141478407266394\n",
      "....* num_corners *....\n",
      "[145 917]\n",
      "corrs:  num_corners L 0.16949588415766276\n",
      "[409 613]\n",
      "corrs:  num_corners R 0.1709338020553406\n",
      "....* view_outside *....\n",
      "[903 902]\n",
      "corrs:  view_outside L 0.12402374011409312\n",
      "[172 444]\n",
      "corrs:  view_outside R 0.15258357792288213\n",
      "....* degree *....\n",
      "[ 379 1394]\n",
      "corrs:  degree L 0.10053433127427802\n",
      "[ 571 1004]\n",
      "corrs:  degree R 0.12223362594921997\n"
     ]
    }
   ],
   "source": [
    "###\n",
    "### ROCN and RRCN x2 control\n",
    "###\n",
    "\n",
    "top_amount = 2 ;\n",
    "\n",
    "# top_r2r_ev = {} # reliabilty ~ evidence\n",
    "for measure in measure_list:\n",
    "#     top_r2r_ev[network]  = {}\n",
    "    \n",
    "    if measure not in ['betas','r_squared','intercepts']:\n",
    "        print(\"....* {} *....\".format(measure))\n",
    "        for hem in ['L','R']:\n",
    "            subj_mean = scores[measure][hem][:,:,0].mean(1) #average subj\n",
    "            high_corr_idx = np.argsort(subj_mean)[::-1][:top_amount]\n",
    "\n",
    "            print(high_corr_idx)\n",
    "            print('corrs: ', measure, hem, subj_mean[high_corr_idx].mean())\n",
    "\n",
    "    #             top_r2r_ev[network][hem] = high_corr_idx\n",
    "\n"
   ]
  },
  {
   "cell_type": "code",
   "execution_count": null,
   "id": "southern-uzbekistan",
   "metadata": {},
   "outputs": [],
   "source": []
  },
  {
   "cell_type": "code",
   "execution_count": 8,
   "id": "editorial-yacht",
   "metadata": {},
   "outputs": [
    {
     "name": "stderr",
     "output_type": "stream",
     "text": [
      "/jukebox/pkgs/PYGER/base/envs/0.11.0/lib/python3.7/site-packages/ipykernel_launcher.py:50: TqdmDeprecationWarning: This function will be removed in tqdm==5.0.0\n",
      "Please use `tqdm.notebook.tqdm` instead of `tqdm.tqdm_notebook`\n"
     ]
    },
    {
     "data": {
      "application/vnd.jupyter.widget-view+json": {
       "model_id": "46436b07ada44e47beb403131f6fc285",
       "version_major": 2,
       "version_minor": 0
      },
      "text/plain": [
       "  0%|          | 0/8 [00:00<?, ?it/s]"
      ]
     },
     "metadata": {},
     "output_type": "display_data"
    },
    {
     "name": "stdout",
     "output_type": "stream",
     "text": [
      "ratio_occupied_boxcoll_volume\n",
      "area\n",
      "manual_object_count\n",
      "num_corners\n",
      "view_outside\n",
      "degree\n"
     ]
    },
    {
     "name": "stderr",
     "output_type": "stream",
     "text": [
      "/jukebox/pkgs/PYGER/base/envs/0.11.0/lib/python3.7/site-packages/ipykernel_launcher.py:78: TqdmDeprecationWarning: This function will be removed in tqdm==5.0.0\n",
      "Please use `tqdm.notebook.tqdm` instead of `tqdm.tqdm_notebook`\n"
     ]
    },
    {
     "data": {
      "application/vnd.jupyter.widget-view+json": {
       "model_id": "b8f95443567940bbb53c38693170e4c7",
       "version_major": 2,
       "version_minor": 0
      },
      "text/plain": [
       "  0%|          | 0/13 [00:00<?, ?it/s]"
      ]
     },
     "metadata": {},
     "output_type": "display_data"
    },
    {
     "name": "stdout",
     "output_type": "stream",
     "text": [
      "ratio_occupied_boxcoll_volume_regperm\n",
      "ratio_occupied_boxcoll_volume_reg\n"
     ]
    },
    {
     "name": "stderr",
     "output_type": "stream",
     "text": [
      "/jukebox/pkgs/PYGER/base/envs/0.11.0/lib/python3.7/site-packages/ipykernel_launcher.py:100: RuntimeWarning: Mean of empty slice\n",
      "/jukebox/pkgs/PYGER/base/envs/0.11.0/lib/python3.7/site-packages/ipykernel_launcher.py:101: TqdmDeprecationWarning: This function will be removed in tqdm==5.0.0\n",
      "Please use `tqdm.notebook.tqdm` instead of `tqdm.tqdm_notebook`\n"
     ]
    },
    {
     "data": {
      "application/vnd.jupyter.widget-view+json": {
       "model_id": "c9460d0827d54c0d83ac4792584f7fd9",
       "version_major": 2,
       "version_minor": 0
      },
      "text/plain": [
       "  0%|          | 0/40962 [00:00<?, ?it/s]"
      ]
     },
     "metadata": {},
     "output_type": "display_data"
    },
    {
     "data": {
      "application/vnd.jupyter.widget-view+json": {
       "model_id": "30e47f45e4464c9b8f924203b0994417",
       "version_major": 2,
       "version_minor": 0
      },
      "text/plain": [
       "  0%|          | 0/40962 [00:00<?, ?it/s]"
      ]
     },
     "metadata": {},
     "output_type": "display_data"
    },
    {
     "name": "stdout",
     "output_type": "stream",
     "text": [
      "area_reg\n"
     ]
    },
    {
     "data": {
      "application/vnd.jupyter.widget-view+json": {
       "model_id": "42e846f093634a0abdf4830d9103ad57",
       "version_major": 2,
       "version_minor": 0
      },
      "text/plain": [
       "  0%|          | 0/40962 [00:00<?, ?it/s]"
      ]
     },
     "metadata": {},
     "output_type": "display_data"
    },
    {
     "data": {
      "application/vnd.jupyter.widget-view+json": {
       "model_id": "72a292c63eb54a16b5f920fee16e6084",
       "version_major": 2,
       "version_minor": 0
      },
      "text/plain": [
       "  0%|          | 0/40962 [00:00<?, ?it/s]"
      ]
     },
     "metadata": {},
     "output_type": "display_data"
    },
    {
     "name": "stdout",
     "output_type": "stream",
     "text": [
      "manual_object_count_reg\n"
     ]
    },
    {
     "data": {
      "application/vnd.jupyter.widget-view+json": {
       "model_id": "3944e57da6334d8390350bf5d175f33d",
       "version_major": 2,
       "version_minor": 0
      },
      "text/plain": [
       "  0%|          | 0/40962 [00:00<?, ?it/s]"
      ]
     },
     "metadata": {},
     "output_type": "display_data"
    },
    {
     "data": {
      "application/vnd.jupyter.widget-view+json": {
       "model_id": "b47b77550bf54fa3a1d71750dd59344b",
       "version_major": 2,
       "version_minor": 0
      },
      "text/plain": [
       "  0%|          | 0/40962 [00:00<?, ?it/s]"
      ]
     },
     "metadata": {},
     "output_type": "display_data"
    },
    {
     "name": "stdout",
     "output_type": "stream",
     "text": [
      "num_corners_reg\n"
     ]
    },
    {
     "data": {
      "application/vnd.jupyter.widget-view+json": {
       "model_id": "99f0a161ca7146d3a7fa919984e3f37e",
       "version_major": 2,
       "version_minor": 0
      },
      "text/plain": [
       "  0%|          | 0/40962 [00:00<?, ?it/s]"
      ]
     },
     "metadata": {},
     "output_type": "display_data"
    },
    {
     "data": {
      "application/vnd.jupyter.widget-view+json": {
       "model_id": "f33f16eaea4c4b7dac07f288e8beed39",
       "version_major": 2,
       "version_minor": 0
      },
      "text/plain": [
       "  0%|          | 0/40962 [00:00<?, ?it/s]"
      ]
     },
     "metadata": {},
     "output_type": "display_data"
    },
    {
     "name": "stdout",
     "output_type": "stream",
     "text": [
      "view_outside_reg\n"
     ]
    },
    {
     "data": {
      "application/vnd.jupyter.widget-view+json": {
       "model_id": "d649d592a0f641059d9899644f76ed5e",
       "version_major": 2,
       "version_minor": 0
      },
      "text/plain": [
       "  0%|          | 0/40962 [00:00<?, ?it/s]"
      ]
     },
     "metadata": {},
     "output_type": "display_data"
    },
    {
     "data": {
      "application/vnd.jupyter.widget-view+json": {
       "model_id": "88be1f0efb104ff7b4280629e9120286",
       "version_major": 2,
       "version_minor": 0
      },
      "text/plain": [
       "  0%|          | 0/40962 [00:00<?, ?it/s]"
      ]
     },
     "metadata": {},
     "output_type": "display_data"
    },
    {
     "name": "stdout",
     "output_type": "stream",
     "text": [
      "degree_reg\n"
     ]
    },
    {
     "data": {
      "application/vnd.jupyter.widget-view+json": {
       "model_id": "85915e727a1943feb1a98e98e01f33af",
       "version_major": 2,
       "version_minor": 0
      },
      "text/plain": [
       "  0%|          | 0/40962 [00:00<?, ?it/s]"
      ]
     },
     "metadata": {},
     "output_type": "display_data"
    },
    {
     "data": {
      "application/vnd.jupyter.widget-view+json": {
       "model_id": "dae447cf2d334c4e9c837e6ef09436a7",
       "version_major": 2,
       "version_minor": 0
      },
      "text/plain": [
       "  0%|          | 0/40962 [00:00<?, ?it/s]"
      ]
     },
     "metadata": {},
     "output_type": "display_data"
    },
    {
     "name": "stdout",
     "output_type": "stream",
     "text": [
      "ratio_occupied_boxcoll_volume_regperm\n",
      "area_regperm\n",
      "manual_object_count_regperm\n",
      "num_corners_regperm\n",
      "view_outside_regperm\n",
      "degree_regperm\n"
     ]
    }
   ],
   "source": [
    "import scipy.stats as stats \n",
    "\n",
    "\n",
    "\n",
    "nv = 40962 #verts in fsaverage6 brain\n",
    "reg_list = [\n",
    "    'occupied_box_volume_reg', \n",
    "    'boxcoll_volume_reg', \n",
    "    'ratio_occupied_boxcoll_volume_reg', \n",
    "    \"area_reg\", \n",
    "    \"manual_object_count_reg\", \n",
    "    \"num_corners_reg\",\n",
    "    \"view_outside_reg\",\n",
    "    \"degree_reg\",\n",
    "    'betweenness_reg',\n",
    "#     'closeness',\n",
    "    'eigenvector_reg',\n",
    "    'pagerank_reg'\n",
    "    ]\n",
    "\n",
    "\n",
    "# 202504232 \n",
    "reg_list = [\n",
    "#     'occupied_box_volume', \n",
    "#     'boxcoll_volume', \n",
    "    'ratio_occupied_boxcoll_volume_regperm',\n",
    "    'ratio_occupied_boxcoll_volume_reg', \n",
    "    \"area_reg\", \n",
    "    \"manual_object_count_reg\", \n",
    "    \"num_corners_reg\",\n",
    "    \"view_outside_reg\",\n",
    "    \"degree_reg\",\n",
    "    \n",
    "    'ratio_occupied_boxcoll_volume_regperm', \n",
    "    \"area_regperm\", \n",
    "    \"manual_object_count_regperm\", \n",
    "    \"num_corners_regperm\",\n",
    "    \"view_outside_regperm\",\n",
    "    \"degree_regperm\",\n",
    "#     'betweenness',\n",
    "#     'closeness',\n",
    "#     'eigenvector',\n",
    "#     'pagerank'\n",
    "    ]\n",
    "\n",
    "\n",
    "# ### CORRELATION RESULTS\n",
    "\n",
    "results = {}\n",
    "for measuretype in tqdm_notebook(measure_list):\n",
    "    \n",
    "    if measuretype not in ['betas','r_squared','intercepts']:\n",
    "        print(measuretype)\n",
    "        results[measuretype] = {}\n",
    "\n",
    "        #average across subj from (nSLs,nSubj,nPerm+1) to (nSLs,nPerm+1)\n",
    "        ## average out subjects\n",
    "        dd_hem =  {'L':scores[measuretype]['L'].mean(1),\n",
    "                   'R':scores[measuretype]['R'].mean(1)} \n",
    "\n",
    "        dd_vox = SLtoVox(dd_hem, ROIlist,nv,zeronan=False) #\n",
    "\n",
    "        raw = {'L':[],'R':[]}\n",
    "        z = {'L':[],'R':[]}\n",
    "        for hem in ['L','R']:\n",
    "            z[hem] = nullZ(dd_vox[hem])\n",
    "            raw[hem] = dd_vox[hem][:,0] #grab the true val, the rest are perms\n",
    "\n",
    "    #             q = FDR_z_hem(z)\n",
    "\n",
    "        results[measuretype]['raw'] = raw\n",
    "        results[measuretype]['z'] = z\n",
    "        results[measuretype]['q'] = FDR_z_hem(z,sided=2)\n",
    "\n",
    "\n",
    "###### REGRESSION RESULTS\n",
    "\n",
    "for measuretype in tqdm_notebook(reg_list):\n",
    "\n",
    "    if not 'regperm' in measuretype: # for just the 'reg'\n",
    "        t_vox = {}\n",
    "        t_p_vox = {}\n",
    "        raw_vox = {}\n",
    "        \n",
    "        print(measuretype)\n",
    "        \n",
    "        results[measuretype] = {}\n",
    "\n",
    "        #keep subject dimension but only grap true observation (not perms)\n",
    "        # nSLs, nsubj, nperm --> nsls,nsubj\n",
    "        dd_hem =  {'L':scores['betas'][measuretype.split(\"_reg\")[0]]['L'][:,:,0],\n",
    "                   'R':scores['betas'][measuretype.split(\"_reg\")[0]]['R'][:,:,0]}\n",
    "        \n",
    "\n",
    "        dd_vox = SLtoVox(dd_hem, ROIlist,nv,zeronan=False) #\n",
    "\n",
    "        for hem in ['L','R']:\n",
    "            t_vox[hem] = np.full((nv),fill_value=np.nan)\n",
    "            t_p_vox[hem] = np.full((nv),fill_value=np.nan)\n",
    "            raw_vox[hem] = np.nanmean(dd_vox[hem],1) #avg out subj\n",
    "            for vi in tqdm_notebook(range(nv)):\n",
    "\n",
    "                # get t value from 25 subj numbers for every vertex\n",
    "#                     t, p = stats.ttest_1samp(dd_vox[hem][vi,:],chance,alternative='greater') #one sided t-test \n",
    "                t, p = stats.ttest_1samp(dd_vox[hem][vi],0) #only two-sided available\n",
    "                p = p # / 2 # make it 1 sided\n",
    "                t_vox[hem][vi] = t\n",
    "                t_p_vox[hem][vi] = p\n",
    "\n",
    "        results[measuretype]['t_q'] = FDR_p_hem(t_p_vox)\n",
    "        results[measuretype]['t']   = t_vox\n",
    "        results[measuretype]['raw'] = raw_vox\n",
    "        \n",
    "    elif 'regperm' in measuretype:\n",
    "        print(measuretype)\n",
    "        results[measuretype] = {}\n",
    "\n",
    "        # avg out subj to keep nPerm+1\n",
    "        dd_hem =  {'L':np.nanmean(scores['betas'][measuretype.split(\"_regperm\")[0]]['L'],1),\n",
    "                   'R':np.nanmean(scores['betas'][measuretype.split(\"_regperm\")[0]]['R'],1)}\n",
    "        \n",
    "\n",
    "        dd_vox = SLtoVox(dd_hem, ROIlist,nv,zeronan=False) #\n",
    "        \n",
    "        raw = {'L':[],'R':[]}\n",
    "        z = {'L':[],'R':[]}\n",
    "        for hem in ['L','R']:\n",
    "            z[hem] = nullZ(dd_vox[hem])\n",
    "            raw[hem] = dd_vox[hem][:,0] #grab the true val, the rest are perms\n",
    "\n",
    "    #             q = FDR_z_hem(z)\n",
    "\n",
    "        results[measuretype]['raw'] = raw\n",
    "        results[measuretype]['z'] = z\n",
    "        results[measuretype]['q'] = FDR_z_hem(z,sided=2)\n",
    "        \n",
    "        "
   ]
  },
  {
   "cell_type": "code",
   "execution_count": null,
   "id": "encouraging-sauce",
   "metadata": {},
   "outputs": [],
   "source": []
  },
  {
   "cell_type": "code",
   "execution_count": 9,
   "id": "frank-ecology",
   "metadata": {},
   "outputs": [
    {
     "name": "stdout",
     "output_type": "stream",
     "text": [
      "... ../PythonData2024/Output/brainmaps/20250524_reliability2efeatures.pkl\n",
      "complete\n"
     ]
    }
   ],
   "source": [
    "from _mempal_util import save_obj\n",
    "\n",
    "### DATA\n",
    "data = results\n",
    "\n",
    "\n",
    "\n",
    "\n",
    "savedate = 20250417\n",
    "savedate = 20250423 #includes regression coeff results\n",
    "savedate = 202504232\n",
    "savedate = 20250425 # permutation regressions\n",
    "\n",
    "savedate = 20250524 # revision update\n",
    "fname2save = '../PythonData2024/Output/brainmaps/{}_{}2efeatures.pkl'.format(savedate,\n",
    "                                                                                   'reliability')\n",
    "\n",
    "\n",
    "save_obj(fname2save,data)\n",
    "\n",
    "print('...', fname2save)\n",
    "\n",
    "print(\"complete\")\n",
    "\n",
    "# print('../../PythonData/MemPal2021/output/brainmaps/{}_SL_room2room_cp.pkl'.format(date))\n",
    "\n"
   ]
  },
  {
   "cell_type": "code",
   "execution_count": null,
   "id": "angry-latino",
   "metadata": {},
   "outputs": [],
   "source": []
  }
 ],
 "metadata": {
  "kernelspec": {
   "display_name": "Python 3",
   "language": "python",
   "name": "python3"
  },
  "language_info": {
   "codemirror_mode": {
    "name": "ipython",
    "version": 3
   },
   "file_extension": ".py",
   "mimetype": "text/x-python",
   "name": "python",
   "nbconvert_exporter": "python",
   "pygments_lexer": "ipython3",
   "version": "3.7.9"
  }
 },
 "nbformat": 4,
 "nbformat_minor": 5
}
