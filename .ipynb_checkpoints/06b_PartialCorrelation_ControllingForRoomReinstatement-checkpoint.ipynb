{
 "cells": [
  {
   "cell_type": "code",
   "execution_count": null,
   "id": "suitable-minnesota",
   "metadata": {},
   "outputs": [],
   "source": []
  },
  {
   "cell_type": "code",
   "execution_count": 13,
   "id": "placed-dressing",
   "metadata": {},
   "outputs": [
    {
     "name": "stdout",
     "output_type": "stream",
     "text": [
      "total 24\r\n",
      "-rw-rw-r--. 1 rmasis normanlab 86 May 24 15:17 slurm_-958928_1.log\r\n"
     ]
    }
   ],
   "source": [
    "ls -lt /jukebox/norman/rmasis/MemPal/analysis/MemPal2024/PythonData2024/Logs/reliability2evidence_controlroom/ | head -n 5"
   ]
  },
  {
   "cell_type": "code",
   "execution_count": 18,
   "id": "timely-charity",
   "metadata": {},
   "outputs": [
    {
     "ename": "SyntaxError",
     "evalue": "invalid syntax (<ipython-input-18-7f768786842d>, line 1)",
     "output_type": "error",
     "traceback": [
      "\u001b[0;36m  File \u001b[0;32m\"<ipython-input-18-7f768786842d>\"\u001b[0;36m, line \u001b[0;32m1\u001b[0m\n\u001b[0;31m    echo /jukebox/norman/rmasis/MemPal/analysis/MemPal2024/PythonData2024/Logs/reliability2evidence_controlroom/slurm_-958928_1.log\u001b[0m\n\u001b[0m                                                                                                                                  ^\u001b[0m\n\u001b[0;31mSyntaxError\u001b[0m\u001b[0;31m:\u001b[0m invalid syntax\n"
     ]
    }
   ],
   "source": [
    "echo /jukebox/norman/rmasis/MemPal/analysis/MemPal2024/PythonData2024/Logs/reliability2evidence_controlroom/slurm_-958928_1.log \n",
    "\n",
    "\n"
   ]
  },
  {
   "cell_type": "code",
   "execution_count": 19,
   "id": "computational-legislature",
   "metadata": {},
   "outputs": [
    {
     "name": "stdout",
     "output_type": "stream",
     "text": [
      "cat: echo: No such file or directory\r\n",
      "Slurm job ID:  958928\r\n",
      "Slurm array task ID / SL ID:  1\r\n",
      "Sat May 24 03:17:58 PM EDT 2025\r\n",
      "0,1,2,3,4,5,6,7,8,9,10,11,12,13,14,15,16,17,18,19,20,21,22,23,24,...  23 23 23\r\n",
      "...Subj 0 : 0.029657693577390065 | pval: 0.8931412147545598\r\n",
      "...  23 23 23\r\n",
      "...Subj 1 : -0.07716221882654829 | pval: 0.7263817716335937\r\n",
      "...  23 23 23\r\n",
      "...Subj 2 : -0.15931601824233377 | pval: 0.46777631234066747\r\n",
      "...  23 23 23\r\n",
      "...Subj 3 : 0.14735902946610216 | pval: 0.5022356995985177\r\n",
      "...  23 23 23\r\n",
      "...Subj 4 : -0.16793283282910046 | pval: 0.44371890146254755\r\n",
      "...  23 23 23\r\n",
      "...Subj 5 : 0.1227677261647498 | pval: 0.5768049777677352\r\n",
      "...  23 23 23\r\n",
      "...Subj 6 : -0.08811614883282205 | pval: 0.6893015710460084\r\n",
      "...  22 23 23\r\n",
      "...Subj 7 : 0.5925323469595593 | pval: 0.0036631782710814824\r\n",
      "...  22 23 23\r\n",
      "...Subj 8 : 0.10014269203347109 | pval: 0.6574688832961572\r\n",
      "...  22 23 23\r\n",
      "...Subj 9 : 0.006602924262204865 | pval: 0.9767347272883126\r\n",
      "...  23 23 23\r\n",
      "...Subj 10 : -0.36471695160544104 | pval: 0.0870640514020568\r\n",
      "...  23 23 23\r\n",
      "...Subj 11 : 0.5026484894012127 | pval: 0.014506022681620935\r\n",
      "...  23 23 23\r\n",
      "...Subj 12 : 0.0349906654348279 | pval: 0.8740634249883071\r\n",
      "...  21 23 23\r\n",
      "...Subj 13 : 0.21272462219690386 | pval: 0.3545536927952361\r\n",
      "...  22 23 23\r\n",
      "...Subj 14 : -0.04494019668455573 | pval: 0.8425882829712472\r\n",
      "...  23 23 23\r\n",
      "...Subj 15 : 0.24306768579184762 | pval: 0.26375152356871806\r\n",
      "...  22 23 23\r\n",
      "...Subj 16 : 0.1714138202678548 | pval: 0.44561674723785283\r\n",
      "...  23 23 23\r\n",
      "...Subj 17 : -0.20859377064221177 | pval: 0.3394985960520556\r\n",
      "...  23 23 23\r\n",
      "...Subj 18 : 0.24594981379519953 | pval: 0.25795383033998653\r\n",
      "...  23 23 23\r\n",
      "...Subj 19 : -0.45942141591807656 | pval: 0.027425517367915566\r\n",
      "...  20 23 23\r\n",
      "...Subj 20 : -0.016482557510016954 | pval: 0.9450133107735731\r\n",
      "...  23 23 23\r\n",
      "...Subj 21 : -0.26914812568065893 | pval: 0.2142811529514728\r\n",
      "...  23 23 23\r\n",
      "...Subj 22 : 0.32916043035188153 | pval: 0.12511116385869078\r\n",
      "...  23 23 23\r\n",
      "...Subj 23 : 0.35951486654791326 | pval: 0.09200893579022311\r\n",
      "...  22 23 23\r\n",
      "...Subj 24 : 0.2904917458317059 | pval: 0.18969254947151554\r\n",
      "...  23 23 23\r\n",
      "...Subj 0 : 0.029657693577390065 | pval: 0.8931412147545598\r\n",
      "...  23 23 23\r\n",
      "...Subj 1 : -0.07716221882654829 | pval: 0.7263817716335937\r\n",
      "...  23 23 23\r\n",
      "...Subj 2 : -0.15931601824233377 | pval: 0.46777631234066747\r\n",
      "...  23 23 23\r\n",
      "...Subj 3 : 0.14735902946610216 | pval: 0.5022356995985177\r\n",
      "...  23 23 23\r\n",
      "...Subj 4 : -0.16793283282910046 | pval: 0.44371890146254755\r\n",
      "...  23 23 23\r\n",
      "...Subj 5 : 0.1227677261647498 | pval: 0.5768049777677352\r\n",
      "...  23 23 23\r\n",
      "...Subj 6 : -0.08811614883282205 | pval: 0.6893015710460084\r\n",
      "...  22 23 23\r\n",
      "...Subj 7 : 0.5925323469595593 | pval: 0.0036631782710814824\r\n",
      "...  22 23 23\r\n",
      "...Subj 8 : 0.10014269203347109 | pval: 0.6574688832961572\r\n",
      "...  22 23 23\r\n",
      "...Subj 9 : 0.006602924262204865 | pval: 0.9767347272883126\r\n",
      "...  23 23 23\r\n",
      "...Subj 10 : -0.36471695160544104 | pval: 0.0870640514020568\r\n",
      "...  23 23 23\r\n",
      "...Subj 11 : 0.5026484894012127 | pval: 0.014506022681620935\r\n",
      "...  23 23 23\r\n",
      "...Subj 12 : 0.0349906654348279 | pval: 0.8740634249883071\r\n",
      "...  21 23 23\r\n",
      "...Subj 13 : 0.21272462219690386 | pval: 0.3545536927952361\r\n",
      "...  22 23 23\r\n",
      "...Subj 14 : -0.04494019668455573 | pval: 0.8425882829712472\r\n",
      "...  23 23 23\r\n",
      "...Subj 15 : 0.24306768579184762 | pval: 0.26375152356871806\r\n",
      "...  22 23 23\r\n",
      "...Subj 16 : 0.1714138202678548 | pval: 0.44561674723785283\r\n",
      "...  23 23 23\r\n",
      "...Subj 17 : -0.20859377064221177 | pval: 0.3394985960520556\r\n",
      "...  23 23 23\r\n",
      "...Subj 18 : 0.24594981379519953 | pval: 0.25795383033998653\r\n",
      "...  23 23 23\r\n",
      "...Subj 19 : -0.45942141591807656 | pval: 0.027425517367915566\r\n",
      "...  20 23 23\r\n",
      "...Subj 20 : -0.016482557510016954 | pval: 0.9450133107735731\r\n",
      "...  23 23 23\r\n",
      "...Subj 21 : -0.26914812568065893 | pval: 0.2142811529514728\r\n",
      "...  23 23 23\r\n",
      "...Subj 22 : 0.32916043035188153 | pval: 0.12511116385869078\r\n",
      "...  23 23 23\r\n",
      "...Subj 23 : 0.35951486654791326 | pval: 0.09200893579022311\r\n",
      "...  22 23 23\r\n",
      "...Subj 24 : 0.2904917458317059 | pval: 0.18969254947151554\r\n",
      "Folder already exists: ../PythonData2024/Output/PartialCorrelation_Reliability2Evidence\r\n",
      "../PythonData2024/Output/PartialCorrelation_Reliability2Evidence/20250524_SL001_R_reliability2evidence_ROCNcontrol_GR.h5\r\n",
      "subj_reliability~evidence\r\n",
      "partial_corr_intercept\r\n",
      "partial_corr_nointercept\r\n",
      "done running and saving stuff.\r\n",
      "SAVED at:  ../PythonData2024/Output/PartialCorrelation_Reliability2Evidence/20250524_SL001_R_reliability2evidence_ROCNcontrol_GR.h5\r\n",
      "Finished running this subj.\r\n",
      "Sat May 24 03:18:09 PM EDT 2025\r\n"
     ]
    }
   ],
   "source": [
    "cat echo /jukebox/norman/rmasis/MemPal/analysis/MemPal2024/PythonData2024/Logs/reliability2evidence_controlroom/slurm_-958928_1.log \n"
   ]
  },
  {
   "cell_type": "code",
   "execution_count": null,
   "id": "limited-punishment",
   "metadata": {},
   "outputs": [],
   "source": []
  },
  {
   "cell_type": "code",
   "execution_count": null,
   "id": "vocational-tsunami",
   "metadata": {},
   "outputs": [],
   "source": []
  },
  {
   "cell_type": "code",
   "execution_count": null,
   "id": "dominant-requirement",
   "metadata": {},
   "outputs": [],
   "source": []
  },
  {
   "cell_type": "code",
   "execution_count": null,
   "id": "opponent-masters",
   "metadata": {},
   "outputs": [],
   "source": []
  },
  {
   "cell_type": "markdown",
   "id": "forbidden-spirit",
   "metadata": {},
   "source": [
    "# import"
   ]
  },
  {
   "cell_type": "code",
   "execution_count": 20,
   "id": "extensive-revolution",
   "metadata": {},
   "outputs": [],
   "source": [
    "from tqdm import tqdm_notebook\n",
    "import numpy as np\n",
    "import deepdish as dd\n",
    "import os\n",
    "import h5py\n",
    "import pandas as pd\n",
    "from scipy import stats\n",
    "import matplotlib.pyplot as plt\n",
    "# from _classification_util import *\n",
    "# from _mempal_util import *\n",
    "from _searchlight_util import *"
   ]
  },
  {
   "cell_type": "code",
   "execution_count": 22,
   "id": "tutorial-chair",
   "metadata": {},
   "outputs": [
    {
     "name": "stderr",
     "output_type": "stream",
     "text": [
      "/jukebox/pkgs/PYGER/base/envs/0.11.0/lib/python3.7/site-packages/ipykernel_launcher.py:42: TqdmDeprecationWarning: This function will be removed in tqdm==5.0.0\n",
      "Please use `tqdm.notebook.tqdm` instead of `tqdm.tqdm_notebook`\n"
     ]
    },
    {
     "data": {
      "application/vnd.jupyter.widget-view+json": {
       "model_id": "943803ed92d24a87a5c8b197d5014685",
       "version_major": 2,
       "version_minor": 0
      },
      "text/plain": [
       "  0%|          | 0/3 [00:00<?, ?it/s]"
      ]
     },
     "metadata": {},
     "output_type": "display_data"
    },
    {
     "data": {
      "application/vnd.jupyter.widget-view+json": {
       "model_id": "ef70728066354abca64079be3b0d74ee",
       "version_major": 2,
       "version_minor": 0
      },
      "text/plain": [
       "  0%|          | 0/3 [00:00<?, ?it/s]"
      ]
     },
     "metadata": {},
     "output_type": "display_data"
    }
   ],
   "source": [
    "roi = 'SL'\n",
    "hems=['L','R']\n",
    "nPerm = 1000\n",
    "nSubj =25\n",
    "nRooms = 23\n",
    "nItems=23\n",
    "nTrials = 23\n",
    "scores = {}\n",
    "rois = []\n",
    "\n",
    "\n",
    "# date = 20240108\n",
    "\n",
    "\n",
    "measure_list = [\n",
    "    'subj_reliability~evidence',\n",
    "    'partial_corr_intercept',\n",
    "    'partial_corr_nointercept'\n",
    "\n",
    "                ]\n",
    "\n",
    "\n",
    "date = 20240401 # second permutation test fix\n",
    "date = 20250301 # for sl roome vidence to sl object evidence\n",
    "\n",
    "date = 20250305\n",
    "\n",
    "date = 20250307\n",
    "\n",
    "date = 20250312 # this with rrcn that has room evidence during object recall\n",
    "\n",
    "date=20250320_1 #rocn fixed, omfg, rrcn from room recallevents\n",
    "# date = 20250320_2 #rocn fixed, omfg, rrcn from object recallevents\n",
    "date = 20250320_3 #rocn fixed, omfg, both RRCNs things\n",
    "\n",
    "\n",
    "date = 20250524 \n",
    "\n",
    "scores = {}\n",
    "for network in ['ROCN','POCN']:\n",
    "    scores[network] = {}\n",
    "    for measure in tqdm_notebook(measure_list):\n",
    "        scores[network][measure] = {}\n",
    "        for trial_type in ['GR','FR']:\n",
    "            scores[network][measure][trial_type] = {}\n",
    "\n",
    "            for hem in ['L','R']:\n",
    "\n",
    "                scores[network][measure][trial_type][hem] = np.zeros((len(SLlist[hem]),nSubj, nPerm+1))\n",
    "\n",
    "                for roi_id in (range(len(SLlist[hem]))[:]):\n",
    "\n",
    "                    dirpath = '../PythonData2024/Output/PartialCorrelation_Reliability2Evidence'\n",
    "                    fname =  '{}_{}{:03d}_{}_reliability2evidence_{}control_{}'.format(date,roi,roi_id,hem,network,trial_type) + '.h5'\n",
    "\n",
    "                    fullpath = os.path.join(dirpath,fname)\n",
    "                    scores[network][measure][trial_type][hem][roi_id] =  dd.io.load(fullpath,'/{}'.format(measure))\n",
    "\n",
    "\n",
    "\n",
    "\n"
   ]
  },
  {
   "cell_type": "code",
   "execution_count": 24,
   "id": "lightweight-meditation",
   "metadata": {},
   "outputs": [
    {
     "name": "stdout",
     "output_type": "stream",
     "text": [
      "corrs:  ROCN subj_reliability~evidence GR L 0.09041889041289526\n",
      "corrs:  ROCN subj_reliability~evidence GR R 0.1057751035540704\n",
      "corrs:  ROCN subj_reliability~evidence FR L 0.12456606934655047\n",
      "corrs:  ROCN subj_reliability~evidence FR R 0.11408299425912424\n",
      "corrs:  ROCN partial_corr_intercept GR L 0.09179292944757704\n",
      "corrs:  ROCN partial_corr_intercept GR R 0.10616697915357368\n",
      "corrs:  ROCN partial_corr_intercept FR L 0.125179376904381\n",
      "corrs:  ROCN partial_corr_intercept FR R 0.1274890407859099\n",
      "corrs:  ROCN partial_corr_nointercept GR L 0.09179292944757704\n",
      "corrs:  ROCN partial_corr_nointercept GR R 0.10616697915357368\n",
      "corrs:  ROCN partial_corr_nointercept FR L 0.125179376904381\n",
      "corrs:  ROCN partial_corr_nointercept FR R 0.1274890407859099\n",
      "corrs:  POCN subj_reliability~evidence GR L 0.10831037753127014\n",
      "corrs:  POCN subj_reliability~evidence GR R 0.10594051116167721\n",
      "corrs:  POCN subj_reliability~evidence FR L 0.09840399023799482\n",
      "corrs:  POCN subj_reliability~evidence FR R 0.09909924291111684\n",
      "corrs:  POCN partial_corr_intercept GR L 0.11128687094120655\n",
      "corrs:  POCN partial_corr_intercept GR R 0.1035365667449042\n",
      "corrs:  POCN partial_corr_intercept FR L 0.10702578094096486\n",
      "corrs:  POCN partial_corr_intercept FR R 0.1061084133087406\n",
      "corrs:  POCN partial_corr_nointercept GR L 0.11128687094120655\n",
      "corrs:  POCN partial_corr_nointercept GR R 0.1035365667449042\n",
      "corrs:  POCN partial_corr_nointercept FR L 0.10702578094096486\n",
      "corrs:  POCN partial_corr_nointercept FR R 0.1061084133087406\n"
     ]
    }
   ],
   "source": [
    "###\n",
    "### ROCN HAS BEEN FIXED and this WITH BOTH RRCNs | omfg20250320\n",
    "###\n",
    "\n",
    "item = 'subj_{}~evidence'.format(measure_key)\n",
    "top_amount = 50 ;\n",
    "\n",
    "# top_r2r_ev = {} # reliabilty ~ evidence\n",
    "for network in ['ROCN','POCN']:\n",
    "\n",
    "    for measure in measure_list:\n",
    "    #     top_r2r_ev[network]  = {}\n",
    "        for trial_type in ['GR','FR']:\n",
    "    #         top_r2r_ev[network][trial_type] = {}\n",
    "\n",
    "            for hem in ['L','R']:\n",
    "                subj_mean = scores[network][measure][trial_type][hem][:,:,0].mean(1) #average subj\n",
    "                high_corr_idx = np.argsort(subj_mean)[::-1][:top_amount]\n",
    "\n",
    "                print('corrs: ', network, measure, trial_type, hem, subj_mean[high_corr_idx].mean())\n",
    "\n",
    "    #             top_r2r_ev[network][trial_type][hem] = high_corr_idx\n",
    "        \n"
   ]
  },
  {
   "cell_type": "code",
   "execution_count": null,
   "id": "outer-jordan",
   "metadata": {},
   "outputs": [],
   "source": []
  },
  {
   "cell_type": "code",
   "execution_count": 26,
   "id": "arabic-america",
   "metadata": {},
   "outputs": [
    {
     "name": "stderr",
     "output_type": "stream",
     "text": [
      "/jukebox/pkgs/PYGER/base/envs/0.11.0/lib/python3.7/site-packages/ipykernel_launcher.py:38: TqdmDeprecationWarning: This function will be removed in tqdm==5.0.0\n",
      "Please use `tqdm.notebook.tqdm` instead of `tqdm.tqdm_notebook`\n"
     ]
    },
    {
     "data": {
      "application/vnd.jupyter.widget-view+json": {
       "model_id": "465a4170e91c445184b90e41215f151f",
       "version_major": 2,
       "version_minor": 0
      },
      "text/plain": [
       "  0%|          | 0/2 [00:00<?, ?it/s]"
      ]
     },
     "metadata": {},
     "output_type": "display_data"
    },
    {
     "name": "stdout",
     "output_type": "stream",
     "text": [
      "...MEASURETYPE: {} .... subj_reliability~evidence\n",
      "....... if isc and ~ in value subj_reliability~evidence\n"
     ]
    },
    {
     "name": "stderr",
     "output_type": "stream",
     "text": [
      "/mnt/cup/labs/norman/rmasis/MemPal/analysis/MemPal2024/MemoryPalaceReliability/_searchlight_util.py:43: RuntimeWarning: Mean of empty slice\n",
      "  means = np.nanmean(X_roll[1:],0)\n",
      "/jukebox/pkgs/PYGER/base/envs/0.11.0/lib/python3.7/site-packages/numpy/lib/nanfunctions.py:1665: RuntimeWarning: Degrees of freedom <= 0 for slice.\n",
      "  keepdims=keepdims)\n"
     ]
    },
    {
     "name": "stdout",
     "output_type": "stream",
     "text": [
      "...MEASURETYPE: {} .... partial_corr_intercept\n",
      "....... if isc and ~ in value partial_corr_intercept\n"
     ]
    },
    {
     "data": {
      "application/vnd.jupyter.widget-view+json": {
       "model_id": "4bb52196555048e490dbe8868edf4618",
       "version_major": 2,
       "version_minor": 0
      },
      "text/plain": [
       "  0%|          | 0/2 [00:00<?, ?it/s]"
      ]
     },
     "metadata": {},
     "output_type": "display_data"
    },
    {
     "name": "stdout",
     "output_type": "stream",
     "text": [
      "...MEASURETYPE: {} .... subj_reliability~evidence\n",
      "....... if isc and ~ in value subj_reliability~evidence\n",
      "...MEASURETYPE: {} .... partial_corr_intercept\n",
      "....... if isc and ~ in value partial_corr_intercept\n"
     ]
    },
    {
     "data": {
      "application/vnd.jupyter.widget-view+json": {
       "model_id": "f83a87caa774413aad518985cf9c75a5",
       "version_major": 2,
       "version_minor": 0
      },
      "text/plain": [
       "  0%|          | 0/2 [00:00<?, ?it/s]"
      ]
     },
     "metadata": {},
     "output_type": "display_data"
    },
    {
     "name": "stdout",
     "output_type": "stream",
     "text": [
      "...MEASURETYPE: {} .... subj_reliability~evidence\n",
      "....... if isc and ~ in value subj_reliability~evidence\n",
      "...MEASURETYPE: {} .... partial_corr_intercept\n",
      "....... if isc and ~ in value partial_corr_intercept\n"
     ]
    },
    {
     "data": {
      "application/vnd.jupyter.widget-view+json": {
       "model_id": "b90457d7ca2d42d0b06e5d3c4e16bc1a",
       "version_major": 2,
       "version_minor": 0
      },
      "text/plain": [
       "  0%|          | 0/2 [00:00<?, ?it/s]"
      ]
     },
     "metadata": {},
     "output_type": "display_data"
    },
    {
     "name": "stdout",
     "output_type": "stream",
     "text": [
      "...MEASURETYPE: {} .... subj_reliability~evidence\n",
      "....... if isc and ~ in value subj_reliability~evidence\n",
      "...MEASURETYPE: {} .... partial_corr_intercept\n",
      "....... if isc and ~ in value partial_corr_intercept\n"
     ]
    },
    {
     "data": {
      "application/vnd.jupyter.widget-view+json": {
       "model_id": "6c364dced0504df7a822756a577d8ca1",
       "version_major": 2,
       "version_minor": 0
      },
      "text/plain": [
       "  0%|          | 0/2 [00:00<?, ?it/s]"
      ]
     },
     "metadata": {},
     "output_type": "display_data"
    },
    {
     "name": "stdout",
     "output_type": "stream",
     "text": [
      "...MEASURETYPE: {} .... subj_reliability~evidence\n",
      "....... if isc and ~ in value subj_reliability~evidence\n",
      "...MEASURETYPE: {} .... partial_corr_intercept\n",
      "....... if isc and ~ in value partial_corr_intercept\n"
     ]
    },
    {
     "data": {
      "application/vnd.jupyter.widget-view+json": {
       "model_id": "ae177e3ae4394c0c8e5ae15cf988eb3d",
       "version_major": 2,
       "version_minor": 0
      },
      "text/plain": [
       "  0%|          | 0/2 [00:00<?, ?it/s]"
      ]
     },
     "metadata": {},
     "output_type": "display_data"
    },
    {
     "name": "stdout",
     "output_type": "stream",
     "text": [
      "...MEASURETYPE: {} .... subj_reliability~evidence\n",
      "....... if isc and ~ in value subj_reliability~evidence\n",
      "...MEASURETYPE: {} .... partial_corr_intercept\n",
      "....... if isc and ~ in value partial_corr_intercept\n",
      "complete.\n"
     ]
    }
   ],
   "source": [
    "import scipy.stats as stats \n",
    "\n",
    "\n",
    "nv = 40962 #verts in fsaverage6 brain\n",
    "# raw_vox = {} # raw values\n",
    "# p_vox = {} # non-parametric p-values\n",
    "# q_vox = {} # q-values from FDR-correction\n",
    "# z_vox = {} # z-values\n",
    "\n",
    "\n",
    "calculations = [\n",
    "#         'change_from_control',\n",
    "    'subj_reliability~evidence',\n",
    "    'partial_corr_intercept',\n",
    "#     'partial_corr_nointercept',\n",
    "\n",
    "\n",
    "                ]\n",
    "\n",
    "\n",
    "#     'subj_{}~evidence'.format(measure_key),\n",
    "#     'group_{}~evidence'.format(measure_key)]\n",
    "\n",
    "results = {}\n",
    "\n",
    "# ['room2room', 'room2object', 'isc_rooms', 'isc_objects']\n",
    "\n",
    "# for network in ['SL']:\n",
    "\n",
    "\n",
    "results = {}\n",
    "for network in ['ROCN', 'POCN']:\n",
    "    results[network] = {}\n",
    "    for trial_type in ['GR','FR', 'both']:\n",
    "\n",
    "        results[network][trial_type] = {}\n",
    "\n",
    "        for measuretype in tqdm_notebook(calculations):\n",
    "            results[network][trial_type][measuretype] = {}\n",
    "\n",
    "            print('...MEASURETYPE: {} ....', measuretype)\n",
    "\n",
    "            if trial_type is not 'both':\n",
    "\n",
    "                if '~' in measuretype or 'corr' in measuretype :\n",
    "                    print('....... if isc and ~ in value', measuretype)\n",
    "\n",
    "                    #average across subj from (nSLs,nSubj,nPerm+1) to (nSLs,nPerm+1)\n",
    "                    ## added tanh 20240924\n",
    "                    dd_hem =  {'L':np.tanh(np.arctanh(scores[network][measuretype][trial_type]['L']).mean(1)),\n",
    "                               'R':np.tanh(np.arctanh(scores[network][measuretype][trial_type]['R']).mean(1))} \n",
    "\n",
    "                    dd_vox = SLtoVox(dd_hem, ROIlist,nv,zeronan=False) #\n",
    "\n",
    "                    raw = {'L':[],'R':[]}\n",
    "                    z = {'L':[],'R':[]}\n",
    "                    for hem in ['L','R']:\n",
    "                        z[hem] = nullZ(dd_vox[hem])\n",
    "                        raw[hem] = dd_vox[hem][:,0] #grab the true val, the rest are perms\n",
    "\n",
    "        #             q = FDR_z_hem(z)\n",
    "\n",
    "                    results[network][trial_type][measuretype]['raw'] = raw\n",
    "                    results[network][trial_type][measuretype]['z'] = z\n",
    "                    results[network][trial_type][measuretype]['q'] = FDR_z_hem(z,sided=2)\n",
    "\n",
    "\n",
    "                if 'change' in measuretype:\n",
    "                    # calculate which values changed\n",
    "\n",
    "                    # original correlation values:\n",
    "                    L_orig = np.tanh(np.arctanh(scores[network]['subj_reliability~evidence'][trial_type]['L']).mean(1))\n",
    "                    R_orig = np.tanh(np.arctanh(scores[network]['subj_reliability~evidence'][trial_type]['R']).mean(1))\n",
    "\n",
    "                    # partial correlation results\n",
    "                    L_resid = np.tanh(np.arctanh(scores[network]['partial_corr_intercept'][trial_type]['L']).mean(1))\n",
    "                    R_resid = np.tanh(np.arctanh(scores[network]['partial_corr_intercept'][trial_type]['R']).mean(1)) \n",
    "\n",
    "                    difference = {'L': L_orig - L_resid, 'R': R_orig - R_resid}\n",
    "\n",
    "                    dd_hem =  {'L':difference['L'],\n",
    "                               'R':difference['R']} \n",
    "\n",
    "                    dd_vox = SLtoVox(dd_hem, ROIlist,nv,zeronan=False) #\n",
    "\n",
    "                    raw = {'L':[],'R':[]}\n",
    "                    z = {'L':[],'R':[]}\n",
    "                    for hem in ['L','R']:\n",
    "                        z[hem] = nullZ(dd_vox[hem])\n",
    "                        raw[hem] = dd_vox[hem][:,0] #grab the true val, the rest are perms\n",
    "\n",
    "        #             q = FDR_z_hem(z)\n",
    "\n",
    "                    results[network][trial_type][measuretype]['raw'] = raw\n",
    "                    results[network][trial_type][measuretype]['z'] = z\n",
    "                    results[network][trial_type][measuretype]['q'] = FDR_z_hem(z,sided=2)    \n",
    "\n",
    "\n",
    "    ########\n",
    "    ########\n",
    "    ########\n",
    "\n",
    "            elif trial_type is 'both':\n",
    "\n",
    "                if '~' in measuretype or 'corr' in measuretype :\n",
    "\n",
    "                    leftmean = np.nanmean(np.stack((scores[network][measuretype]['GR']['L'], \n",
    "                                                    scores[network][measuretype]['FR']['L'])), 0)\n",
    "\n",
    "                    rightmean = np.nanmean(np.stack((scores[network][measuretype]['GR']['R'], \n",
    "                                                    scores[network][measuretype]['FR']['R'])), 0)\n",
    "\n",
    "                    print('....... if isc and ~ in value', measuretype)\n",
    "\n",
    "                    #average across subj from (nSLs,nSubj,nPerm+1) to (nSLs,nPerm+1)\n",
    "                    ## added tanh 20240924\n",
    "                    dd_hem =  {'L':np.tanh(np.arctanh(leftmean).mean(1)),\n",
    "                               'R':np.tanh(np.arctanh(rightmean).mean(1))} \n",
    "\n",
    "                    dd_vox = SLtoVox(dd_hem, ROIlist,nv,zeronan=False) #\n",
    "\n",
    "                    raw = {'L':[],'R':[]}\n",
    "                    z = {'L':[],'R':[]}\n",
    "                    for hem in ['L','R']:\n",
    "                        z[hem] = nullZ(dd_vox[hem])\n",
    "                        raw[hem] = dd_vox[hem][:,0] #grab the true val, the rest are perms\n",
    "\n",
    "        #             q = FDR_z_hem(z)\n",
    "\n",
    "                    results[network][trial_type][measuretype]['raw'] = raw\n",
    "                    results[network][trial_type][measuretype]['z'] = z\n",
    "                    results[network][trial_type][measuretype]['q'] = FDR_z_hem(z,sided=2)\n",
    "\n",
    "\n",
    "                if 'change' in measuretype:\n",
    "                    # calculate which values changed\n",
    "\n",
    "                    print(\"not gonna do anything here\")\n",
    "\n",
    "    #                 # original correlation values:\n",
    "    #                 L_orig = np.tanh(np.arctanh(scores['subj_reliability~evidence'][trial_type]['L']).mean(1))\n",
    "    #                 R_orig = np.tanh(np.arctanh(scores['subj_reliability~evidence'][trial_type]['R']).mean(1))\n",
    "\n",
    "    #                 # partial correlation results\n",
    "    #                 L_resid = np.tanh(np.arctanh(scores['partial_corr_intercept'][trial_type]['L']).mean(1))\n",
    "    #                 R_resid = np.tanh(np.arctanh(scores['partial_corr_intercept'][trial_type]['R']).mean(1)) \n",
    "\n",
    "    #                 difference = {'L': L_orig - L_resid, 'R': R_orig - R_resid}\n",
    "\n",
    "    #                 dd_hem =  {'L':difference['L'],\n",
    "    #                            'R':difference['R']} \n",
    "\n",
    "    #                 dd_vox = SLtoVox(dd_hem, ROIlist,nv,zeronan=False) #\n",
    "\n",
    "    #                 raw = {'L':[],'R':[]}\n",
    "    #                 z = {'L':[],'R':[]}\n",
    "    #                 for hem in ['L','R']:\n",
    "    #                     z[hem] = nullZ(dd_vox[hem])\n",
    "    #                     raw[hem] = dd_vox[hem][:,0] #grab the true val, the rest are perms\n",
    "\n",
    "    #     #             q = FDR_z_hem(z)\n",
    "\n",
    "    #                 results[trial_type][measuretype]['raw'] = raw\n",
    "    #                 results[trial_type][measuretype]['z'] = z\n",
    "    #                 results[trial_type][measuretype]['q'] = FDR_z_hem(z,sided=2)            \n",
    "\n",
    "\n",
    "\n",
    "\n",
    "\n",
    "print('complete.')"
   ]
  },
  {
   "cell_type": "code",
   "execution_count": 28,
   "id": "joint-thermal",
   "metadata": {},
   "outputs": [
    {
     "name": "stdout",
     "output_type": "stream",
     "text": [
      "... ../PythonData2024/Output/brainmaps/20250524_partialcorr_reliability2evidence_RRCNcontrol.pkl\n",
      "complete\n"
     ]
    }
   ],
   "source": [
    "from _mempal_util import save_obj\n",
    "\n",
    "### DATA\n",
    "data = results\n",
    "\n",
    "savedate = 20250524 #rocn fixed, both RRCNs things as controls and AVERAGED ACROSS GRs and FRs\n",
    "\n",
    "\n",
    "fname2save = '../PythonData2024/Output/brainmaps/{}_partialcorr_{}2evidence_{}control.pkl'.format(savedate,\n",
    "                                                                                   'reliability','RRCN')\n",
    "\n",
    "\n",
    "save_obj(fname2save,data)\n",
    "\n",
    "print('...', fname2save)\n",
    "\n",
    "print(\"complete\")"
   ]
  },
  {
   "cell_type": "code",
   "execution_count": null,
   "id": "velvet-armstrong",
   "metadata": {},
   "outputs": [],
   "source": []
  }
 ],
 "metadata": {
  "kernelspec": {
   "display_name": "Python 3",
   "language": "python",
   "name": "python3"
  },
  "language_info": {
   "codemirror_mode": {
    "name": "ipython",
    "version": 3
   },
   "file_extension": ".py",
   "mimetype": "text/x-python",
   "name": "python",
   "nbconvert_exporter": "python",
   "pygments_lexer": "ipython3",
   "version": "3.7.9"
  }
 },
 "nbformat": 4,
 "nbformat_minor": 5
}
